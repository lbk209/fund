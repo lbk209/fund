{
 "cells": [
  {
   "cell_type": "markdown",
   "id": "112369a5-0544-4409-bccf-4e1a1fe20926",
   "metadata": {},
   "source": [
    "# App"
   ]
  },
  {
   "cell_type": "code",
   "execution_count": 1,
   "id": "bba3eecb-d919-4c52-817f-0b2f9ae9e8ab",
   "metadata": {},
   "outputs": [],
   "source": [
    "from app import app"
   ]
  },
  {
   "cell_type": "code",
   "execution_count": 2,
   "id": "db04f27b-81d9-4a0f-8dac-6541ab07b059",
   "metadata": {},
   "outputs": [
    {
     "data": {
      "text/html": [
       "\n",
       "        <iframe\n",
       "            width=\"100%\"\n",
       "            height=\"650\"\n",
       "            src=\"http://127.0.0.1:8050/\"\n",
       "            frameborder=\"0\"\n",
       "            allowfullscreen\n",
       "            \n",
       "        ></iframe>\n",
       "        "
      ],
      "text/plain": [
       "<IPython.lib.display.IFrame at 0x7a24142a6c00>"
      ]
     },
     "metadata": {},
     "output_type": "display_data"
    }
   ],
   "source": [
    "app.run_server(debug=True)"
   ]
  },
  {
   "cell_type": "markdown",
   "id": "248732fe-626b-4ff9-8e12-aca7a5beb52a",
   "metadata": {},
   "source": [
    "# Data\n",
    "*create data for pages*"
   ]
  },
  {
   "cell_type": "code",
   "execution_count": 2,
   "id": "7fa2db53-6f5e-4b4b-8f17-10bbfb071b55",
   "metadata": {},
   "outputs": [],
   "source": [
    "import os\n",
    "os.chdir(\"..\")"
   ]
  },
  {
   "cell_type": "code",
   "execution_count": 3,
   "id": "8fa9f12a-8369-4ce6-9f61-3ae9704eb34f",
   "metadata": {},
   "outputs": [
    {
     "name": "stderr",
     "output_type": "stream",
     "text": [
      "WARNING (pytensor.tensor.blas): Using NumPy C-API based implementation for BLAS functions.\n"
     ]
    }
   ],
   "source": [
    "from pf_utils import PortfolioManager as PM "
   ]
  },
  {
   "cell_type": "code",
   "execution_count": 4,
   "id": "84b7dc88-0b84-4469-b96f-ef6857da71a7",
   "metadata": {},
   "outputs": [],
   "source": [
    "path_data = 'data'\n",
    "path_tran = 'transaction'"
   ]
  },
  {
   "cell_type": "code",
   "execution_count": 5,
   "id": "be9bb8fc-f077-4032-b695-a92d7bf0ee6d",
   "metadata": {},
   "outputs": [],
   "source": [
    "file_cost='transaction_cost'"
   ]
  },
  {
   "cell_type": "code",
   "execution_count": 6,
   "id": "ec6e3345-ab1b-42a5-874f-7c4263c0cc86",
   "metadata": {},
   "outputs": [
    {
     "name": "stdout",
     "output_type": "stream",
     "text": [
      "64 securities from 2008-11-28 to 2024-11-29 uploaded.\n",
      "WARNING: the number of days in a year with 64 tickers (100%) is 12 in avg.\n",
      "REMINDER: 64 equities converted to daily (days in year: 365)\n",
      "Daily metrics in Performance statistics must be meaningless\n",
      "Price data loaded\n",
      "Cost data transaction_cost_241217.csv loaded\n"
     ]
    }
   ],
   "source": [
    "universe = 'UV_FUND'\n",
    "fund = PM.create_universe(universe)\n",
    "cost = PM.get_cost(universe, file=file_cost, path=path_tran)\n",
    "fee = cost['fee']"
   ]
  },
  {
   "cell_type": "code",
   "execution_count": 7,
   "id": "cc68382b-5ad5-487f-bd90-d117fdbecc86",
   "metadata": {},
   "outputs": [],
   "source": [
    "df_prices = fund.df_prices\n",
    "df_prices_fees = fund._get_prices_after_fee(df_prices, fee)"
   ]
  },
  {
   "cell_type": "code",
   "execution_count": 72,
   "id": "079f0174-265c-4fe3-bd34-67783543bef7",
   "metadata": {},
   "outputs": [],
   "source": [
    "import pandas as pd\n",
    "\n",
    "func = lambda x: [k for k,v in fund.security_names.items() if x.lower() in v.lower()]\n",
    "cols = ['price', 'price_after_fees']\n",
    "df_all = pd.DataFrame()\n",
    "for i in range(2025,2060,5):\n",
    "    tickers = func(str(i))\n",
    "    df_a = pd.DataFrame()\n",
    "    for j, df_p in enumerate([df_prices, df_prices_fees]):\n",
    "        df = df_p[tickers].rename_axis('date')\n",
    "        df = df.rename_axis('ticker',axis=1).unstack().to_frame(cols[j]).dropna()\n",
    "        df_a = pd.concat([df_a, df], axis=1)\n",
    "    df_a = df_a.assign(group=i).set_index('group', append=True).swaplevel(1,2).swaplevel(0,1)\n",
    "    df_all = pd.concat([df_all, df_a])\n",
    "\n",
    "df_all = (df_all.assign(ym=df_all.index.get_level_values(\"date\").to_period('M'))\n",
    "          .sort_index().groupby(['group','ticker','ym']).tail(1).drop('ym', axis=1))"
   ]
  },
  {
   "cell_type": "code",
   "execution_count": 73,
   "id": "9f822b78-6bb8-49b5-9f0e-353379fd42d6",
   "metadata": {},
   "outputs": [],
   "source": [
    "file = 'fund_241229.csv'\n",
    "path = 'pages'\n",
    "df_all.to_csv(f'{path}/{file}')"
   ]
  },
  {
   "cell_type": "code",
   "execution_count": 51,
   "id": "c092ab66-6357-4854-9d7a-461f64aeb62c",
   "metadata": {},
   "outputs": [],
   "source": [
    "file = 'fund_name_241230.csv'\n",
    "path = 'pages'\n",
    "pd.Series(fund.security_names).to_csv(f'{path}/{file}')"
   ]
  },
  {
   "cell_type": "code",
   "execution_count": 75,
   "id": "338f47c5-37a7-480e-9878-69334631664d",
   "metadata": {},
   "outputs": [],
   "source": [
    "file = 'fund_241229.csv'\n",
    "path = 'pages'\n",
    "df_all = pd.read_csv(\n",
    "    f'{path}/{file}',\n",
    "    parse_dates=['date'],\n",
    "    dtype={'ticker': str},\n",
    "    index_col=['group', 'ticker', 'date']\n",
    ")"
   ]
  },
  {
   "cell_type": "code",
   "execution_count": null,
   "id": "1532e93b-0ddd-450f-9d05-54370610614b",
   "metadata": {},
   "outputs": [],
   "source": [
    "file = 'fund_name_241230.csv'\n",
    "fund_name = pd.read_csv(f'{path}/{file}', dtype={'ticker': str}, index_col=[0]).to_dict()"
   ]
  },
  {
   "cell_type": "code",
   "execution_count": 8,
   "id": "75b12277-2878-4346-9762-03c529a88717",
   "metadata": {},
   "outputs": [],
   "source": [
    "os.chdir(\"pages\")"
   ]
  },
  {
   "cell_type": "markdown",
   "id": "ea7af219-6c7b-43c4-b651-19d4db947f81",
   "metadata": {},
   "source": [
    "# Lab"
   ]
  },
  {
   "cell_type": "code",
   "execution_count": 4,
   "id": "f86ddb83-082a-46c8-a471-9c344ff941cd",
   "metadata": {},
   "outputs": [],
   "source": [
    "import pandas as pd"
   ]
  },
  {
   "cell_type": "code",
   "execution_count": 7,
   "id": "52c82770-3bc5-4f19-91f2-ed569d0ca80b",
   "metadata": {
    "scrolled": true
   },
   "outputs": [
    {
     "data": {
      "text/plain": [
       "{'K55234DF2657': 'IBK로우코스트TDF2030증권자투자신탁[혼합-재간접형]종류C-Re',\n",
       " 'K55234DF2459': 'IBK로우코스트TDF2035증권자투자신탁[혼합-재간접형]종류C-Re',\n",
       " 'K55301BU6139': '미래에셋전략배분TDF2035혼합자산자투자신탁종류C-P2e',\n",
       " 'K55105BU1161': '삼성한국형TDF2030증권투자신탁H[주식혼합-재간접형]Cpe(퇴직연금)',\n",
       " 'K55210BU2385': '신한마음편한TDF2030증권투자신탁[주식혼합-재간접형](종류C-re)',\n",
       " 'K55206C95800': '키움키워드림TDF2030증권투자신탁 1[혼합-재간접형]C-P2e(퇴직연금)',\n",
       " 'K55210BU2435': '신한마음편한TDF2040증권투자신탁[주식혼합-재간접형](종류C-re)',\n",
       " 'K55213C51890': '한화LIFEPLUSTDF2040증권자투자신탁(혼합-재간접형)C-RPe(퇴직연금)',\n",
       " 'K55223BT1450': 'KB온국민TDF2040증권투자신탁(주식혼합-재간접형)C-퇴직e',\n",
       " 'K55105BS5067': '삼성한국형TDF2040증권투자신탁H[주식혼합-재간접형]C-Pe',\n",
       " 'K55101BY3944': '한국투자TIF알아서평생소득증권자투자신탁(채권혼합-재간접형)(C-Re)',\n",
       " 'K55301BU5453': '미래에셋평생소득TIF혼합자산자투자신탁종류C-P2e',\n",
       " 'K55301BU5479': '미래에셋전략배분TDF2045혼합자산자투자신탁 종류C-P2e',\n",
       " 'K55210BU2450': '신한마음편한TDF2045증권투자신탁[주식혼합-재간접형](종류C-re)',\n",
       " 'K55206C96311': '키움키워드림TDF2045증권투자신탁 1[혼합-재간접형]C-P2e(퇴직연금)',\n",
       " 'KR5223AE3357': 'kb퇴직연금배당증권자투자신탁(주식)C-E',\n",
       " 'K55365BT3694': 'kcgi코리아퇴직연금증권자투자신탁(주식)종류C-Pe2',\n",
       " 'K55207BU0715': '교보악사파워인덱스증권자투자신탁1호(주식)C-Pe',\n",
       " 'K55203C53681': '대신KOSPI200인덱스증권자투자신탁(주식-파생형)CPe',\n",
       " 'K55234CJ0997': 'IBK플레인바닐라EMP증권투자신탁(혼합-재간접형)C-Re',\n",
       " 'K55301BU6253': '미래에셋전략배분TDF2040혼합자산자투자신탁 종류C-P2e',\n",
       " 'K55101BT7397': '한국투자TDF알아서2040증권투자신탁(주식혼합-재간접형)(C-Re)',\n",
       " 'K55364CF7048': '에셋플러스슈퍼아시아리치투게더증권자투자신탁 1(주식)종류C-P2e',\n",
       " 'K55303BT4176': '마이다스아시아리더스성장주연금증권자투자신탁(UH)(주식)C-Pe2',\n",
       " 'K55234BY9966': 'IBK베트남플러스아시아증권투자신탁[주식]종류C-Re',\n",
       " 'K55235BW6799': '피델리티아시아증권자투자신탁(주식)CP-e',\n",
       " 'KR5101888398': '한국투자크레딧포커스ESG증권자투자신탁 1(채권)(C-e)',\n",
       " 'KR5236AS4826': '한국밸류10년투자증권투자신탁 1(채권혼합)종류C-E',\n",
       " 'KR5370AP9956': 'AB글로벌고수익증권투자신탁(채권-재간접형)종류형Ce',\n",
       " 'K55306CV9946': '다올글로벌멀티에셋인컴EMP증권자투자신탁[혼합-재간접형](공)종류Ce',\n",
       " 'K55105BH1010': '삼성클래식아세안연금증권전환형자투자신탁 1[주식]_Ce',\n",
       " 'K55301BM7459': '미래에셋전략배분TDF2040혼합자산자투자신탁 종류C-Pe',\n",
       " 'K55301BM7640': '미래에셋전략배분TDF2035혼합자산자투자신탁 종류C-Pe',\n",
       " 'K55213C51049': '한화LIFEPLUSTDF2030증권자투자신탁(혼합-재간접형)종류C-PE(연금저축)',\n",
       " 'K55301BM7731': '미래에셋전략배분TDF2030혼합자산자투자신탁 종류C-Pe',\n",
       " 'K55101BT4394': '한국투자TDF알아서2030증권투자신탁(주식혼합-재간접형)(C-Pe)',\n",
       " 'K55105BS2072': '삼성한국형TDF2030증권투자신탁H[주식혼합-재간접형]C-Pe',\n",
       " 'K55213C51262': '한화LIFEPLUSTDF2025증권자투자신탁(혼합-재간접형)종류C-PE(연금저축)',\n",
       " 'K55301BM8051': '미래에셋전략배분TDF2025혼합자산자투자신탁종류C-Pe',\n",
       " 'K55234DF3317': 'IBK로우코스트TDF2055증권자투자신탁[혼합-재간접형]종류C-Re',\n",
       " 'K55234DF3150': 'IBK로우코스트TDF2050증권자투자신탁[혼합-재간접형]종류C-Re',\n",
       " 'K55213C50702': '한화LIFEPLUSTDF2045증권투자신탁(혼합-재간접형)C-RPE(퇴직연금)',\n",
       " 'K55210CO3828': '신한마음편한TDF2050증권투자신탁[주식혼합-재간접형](종류C-re)',\n",
       " 'K55234DF2988': 'IBK로우코스트TDF2045증권자투자신탁[혼합-재간접형]종류C-Re',\n",
       " 'K55301D51370': '미래에셋전략배분TDF2050혼합자산자투자신탁종류C-P2e',\n",
       " 'K55206C96121': '키움키워드림TDF2040증권투자신탁 1[혼합-재간접형]C-P2e(퇴직연금)',\n",
       " 'K55223BT1922': 'KB온국민TDF2050증권자투자신탁(주식혼합-재간접형)(H)C-퇴직e',\n",
       " 'K55223BT1757': 'KB온국민TDF2045증권투자신탁(주식혼합-재간접형)C-퇴직e',\n",
       " 'K55234DF2822': 'IBK로우코스트TDF2040증권자투자신탁[혼합-재간접형]종류C-Re',\n",
       " 'K55213C51718': '한화LIFEPLUSTDF2035증권투자신탁(혼합-재간접형)C-RPE(퇴직연금)',\n",
       " 'K55206C95974': '키움키워드림TDF2035증권투자신탁 1[혼합-재간접형]C-P2e (퇴직연금)',\n",
       " 'K55101BT4444': '한국투자TDF알아서2045증권투자신탁(주식혼합-재간접형)(C-Re)',\n",
       " 'K55101CU1644': '한국투자TDF알아서2050증권자투자신탁H(주식혼합-재간접형)(C-Re)',\n",
       " 'K55210BU2419': '신한마음편한TDF2035증권투자신탁[주식혼합-재간접형](종류C-re)',\n",
       " 'K55101BT4428': '한국투자TDF알아서2035증권투자신탁(주식혼합-재간접형)(C-Re)',\n",
       " 'K55213C51064': '한화LIFEPLUSTDF2030증권자투자신탁(혼합-재간접형)종류C-RPE(퇴직연금)',\n",
       " 'K55105CK1592': '삼성한국형TDF2050증권투자신탁H[주식혼합-재간접형]Cpe(퇴직연금)',\n",
       " 'K55105BT9910': '삼성한국형TDF2045증권투자신탁H[주식혼합-재간접형]Cpe(퇴직연금)',\n",
       " 'K55223BT1278': 'KB온국민TDF2035증권투자신탁(주식혼합-재간접형)C-퇴직e',\n",
       " 'K55105BT9936': '삼성한국형TDF2035증권투자신탁H[주식혼합-재간접형]Cpe(퇴직연금)',\n",
       " 'K55223BT1096': 'KB온국민TDF2030증권투자신탁(주식혼합-재간접형)C-퇴직e',\n",
       " 'K55301BU6113': '미래에셋전략배분TDF2030혼합자산자투자신탁 종류C-P2e',\n",
       " 'K55101BT4402': '한국투자TDF알아서2030증권투자신탁(주식혼합-재간접형)(C-Re)',\n",
       " 'K55370BU1979': 'AB글로벌고수익증권투자신탁(채권-재간접형)종류형Ce-P'}"
      ]
     },
     "execution_count": 7,
     "metadata": {},
     "output_type": "execute_result"
    }
   ],
   "source": [
    "file = 'fund_name_241230.csv'\n",
    "path = '.'\n",
    "\n",
    "fund_name = pd.read_csv(f'{path}/{file}', dtype={'ticker': str}, index_col=[0])\n",
    "fund_name = fund_name.iloc[:,0].to_dict()\n",
    "fund_name"
   ]
  },
  {
   "cell_type": "code",
   "execution_count": 20,
   "id": "98f777fb-3970-46f7-ba2e-a66fe966f170",
   "metadata": {},
   "outputs": [],
   "source": [
    "import re\n",
    "\n",
    "\n",
    "m = re.search(r'\\d{4}', s)\n",
    "func = lambda s: [s if x is None else s[:x.end()] for x in [re.search(r'\\d{4}', s)]][0]"
   ]
  },
  {
   "cell_type": "code",
   "execution_count": 24,
   "id": "c5bca4e6-f39d-46d6-addc-5da526d52b5b",
   "metadata": {},
   "outputs": [
    {
     "data": {
      "text/plain": [
       "'신한마음편한TDF2040'"
      ]
     },
     "execution_count": 24,
     "metadata": {},
     "output_type": "execute_result"
    }
   ],
   "source": [
    "s = '신한마음편한TDF2040증권투자신탁[주식혼합-재간접형](종류C-re)'\n",
    "#s = '신한마음편한TDF증권투자신탁[주식혼합-재간접형](종류C-re)'\n",
    "\n",
    "func = lambda s: s[:m.end()] if (m := re.search(r'\\d{4}', s)) else s\n",
    "\n",
    "func(s)"
   ]
  },
  {
   "cell_type": "code",
   "execution_count": 3,
   "id": "541b1708-a9ac-4397-b31d-2e1f890a684d",
   "metadata": {},
   "outputs": [
    {
     "data": {
      "text/html": [
       "\n",
       "        <iframe\n",
       "            width=\"100%\"\n",
       "            height=\"650\"\n",
       "            src=\"http://127.0.0.1:8050/\"\n",
       "            frameborder=\"0\"\n",
       "            allowfullscreen\n",
       "            \n",
       "        ></iframe>\n",
       "        "
      ],
      "text/plain": [
       "<IPython.lib.display.IFrame at 0x77290457d2e0>"
      ]
     },
     "metadata": {},
     "output_type": "display_data"
    }
   ],
   "source": [
    "from dash import Dash, html, dcc, Output, Input\n",
    "import pandas as pd\n",
    "import plotly.express as px\n",
    "import dash_bootstrap_components as dbc\n",
    "import dash_daq as daq\n",
    "import json\n",
    "\n",
    "# Load data\n",
    "file = 'fund_241229.csv'\n",
    "path = '.'\n",
    "#path = '.'\n",
    "df_prc = pd.read_csv(\n",
    "    f'{path}/{file}',\n",
    "    parse_dates=['date'],\n",
    "    dtype={'ticker': str},\n",
    "    index_col=['group', 'ticker', 'date']\n",
    ")\n",
    "\n",
    "file = 'fund_name_241230.csv'\n",
    "fund_name = pd.read_csv(f'{path}/{file}', dtype={'ticker': str}, index_col=[0])\n",
    "fund_name = fund_name.iloc[:,0].to_dict()\n",
    "\n",
    "groups = df_prc.index.get_level_values('group').unique()\n",
    "default_group = 2030\n",
    "groups = [{'label': f'TDF{x}', 'value': x} for x in groups]\n",
    "\n",
    "# Initialize the Dash app\n",
    "external_stylesheets = [dbc.themes.CERULEAN]\n",
    "app = Dash(__name__, title=\"달달펀드\",\n",
    "           external_stylesheets=external_stylesheets)\n",
    "\n",
    "\n",
    "tabs = dbc.Tabs([\n",
    "    dbc.Tab(dcc.Graph(id='price-plot'), label='가격'),\n",
    "    dbc.Tab(dcc.Graph(id='return-plot'), label='수익률'),\n",
    "])\n",
    "\n",
    "app.layout = dbc.Container([\n",
    "    html.Br(),\n",
    "    dbc.Row([\n",
    "        dbc.Col(\n",
    "            dcc.Dropdown(\n",
    "                id='group-dropdown',\n",
    "                options=groups,\n",
    "                value=default_group,\n",
    "                clearable=False,\n",
    "            ),\n",
    "            width=3\n",
    "        ),\n",
    "        dbc.Col(\n",
    "            daq.BooleanSwitch(\n",
    "                id='compare-boolean-switch',\n",
    "                on=False\n",
    "            ),\n",
    "            width=\"auto\"),\n",
    "        dbc.Col(\n",
    "            daq.BooleanSwitch(\n",
    "                id='cost-boolean-switch',\n",
    "                on=False\n",
    "            ),\n",
    "            width=\"auto\"),\n",
    "    ],\n",
    "        justify=\"center\",\n",
    "        align=\"center\",\n",
    "        className=\"mb-3\"\n",
    "    ),\n",
    "    dbc.Row(tabs),\n",
    "    html.Br(),\n",
    "    dcc.Store(id='price-data'),\n",
    "    dbc.Tooltip(\n",
    "        '상대 비교',\n",
    "        target='compare-boolean-switch',\n",
    "        placement='bottom'\n",
    "    ),\n",
    "    dbc.Tooltip(\n",
    "        '수수료 적용',\n",
    "        target='cost-boolean-switch',\n",
    "        placement='bottom'\n",
    "    )\n",
    "])\n",
    "\n",
    "# Preprocess data to make it JSON-serializable and store it in a JavaScript variable\n",
    "preprocessed_data = {}\n",
    "df_prc.columns = ['수수료 적용 전', '수수료 적용 후']\n",
    "cols = df_prc.columns\n",
    "date_format = '%Y-%m-%d'\n",
    "for group in groups:\n",
    "    group_value = group['value']\n",
    "    data = {'columns': list(cols), 'default': {}, 'compare': {}}\n",
    "    start = None\n",
    "    for col in cols:\n",
    "        df_p = df_prc.loc[group_value, col].unstack('ticker').sort_index()\n",
    "        df_p.columns = [fund_name[x] for x in df_p.columns]\n",
    "        df_r = df_p.apply(lambda x: x.dropna().iloc[-1]/x.dropna().iloc[0]-1).mul(100).to_frame(col)\n",
    "        data['default'][col] = {\n",
    "            'history': df_p.round().to_dict('records'),\n",
    "            'index': df_p.index.strftime(date_format).tolist(),\n",
    "            'return': df_r.round(1).to_dict('records'),\n",
    "            'ticker': df_r.index.tolist()\n",
    "        }\n",
    "        if start is None:\n",
    "            start = df_p.apply(lambda x: x[x.notna()].index.min()).max()\n",
    "        normalized_df = df_p.apply(lambda x: x / x.loc[start] * 1000).loc[start:]\n",
    "        df_r_n = normalized_df.apply(lambda x: x.dropna().iloc[-1]/x.dropna().iloc[0]-1).mul(100).to_frame(col)\n",
    "        data['compare'][col] = {\n",
    "            'history': normalized_df.round().to_dict('records'),\n",
    "            'index': normalized_df.index.strftime(date_format).tolist(),\n",
    "            'return': df_r_n.round(1).to_dict('records'),\n",
    "            'ticker': df_r.index.tolist()\n",
    "        }\n",
    "    preprocessed_data[group_value] = data\n",
    "\n",
    "# Inject preprocessed data as JSON in the client\n",
    "preprocessed_data_json = json.dumps(preprocessed_data)\n",
    "app.index_string = f\"\"\"\n",
    "<!DOCTYPE html>\n",
    "<html>\n",
    "    <head>\n",
    "        {{%metas%}}\n",
    "        <title>{{%title%}}</title>\n",
    "        <link rel=\"icon\" type=\"image/x-icon\" href=\"/assets/favicon.ico\">\n",
    "        {{%css%}}\n",
    "    </head>\n",
    "    <body>\n",
    "        <script>\n",
    "            var preprocessedData = {preprocessed_data_json};\n",
    "        </script>\n",
    "        {{%app_entry%}}\n",
    "        {{%config%}}\n",
    "        {{%scripts%}}\n",
    "        {{%renderer%}}\n",
    "    </body>\n",
    "</html>\n",
    "\"\"\"\n",
    "\n",
    "\n",
    "# Client-side callback for price data\n",
    "app.clientside_callback(\n",
    "    \"\"\"\n",
    "    function(group) {\n",
    "        return preprocessedData[group];\n",
    "    }\n",
    "    \"\"\",\n",
    "    Output('price-data', 'data'),\n",
    "    Input('group-dropdown', 'value')\n",
    ")\n",
    "\n",
    "\n",
    "app.clientside_callback(\n",
    "    \"\"\"\n",
    "    function(data, cost, compare) {\n",
    "        if (!data || !data.columns) {\n",
    "            return {data: [], layout: {title: 'No Data Available', height: 300}};\n",
    "        }\n",
    "\n",
    "        const cols = data.columns; // Columns: ['price', 'price_after_fees']\n",
    "        const col = cost ? cols[1] : cols[0]; // Select the column based on cost\n",
    "        const kind = compare ? 'compare' : 'default'; // Default or compare data\n",
    "        const dat = data[kind][col];\n",
    "\n",
    "        if (!dat || !dat.history || !dat.index) {\n",
    "            return {data: [], layout: {title: 'No Data Available', height: 300}};\n",
    "        }\n",
    "\n",
    "        // Prepare data for each ticker\n",
    "        const traces = Object.keys(dat.history[0]).map(ticker => {\n",
    "            const yValues = dat.history.map(row => row[ticker]);\n",
    "            return {\n",
    "                x: dat.index,        // Dates from the index\n",
    "                y: yValues,          // Price history for each ticker\n",
    "                type: 'scatter',\n",
    "                mode: 'lines',\n",
    "                name: ticker        // Ticker as the legend name\n",
    "            };\n",
    "        });\n",
    "\n",
    "        // Title logic\n",
    "        const titleBase = '펀드 가격 추이';\n",
    "        const titleComp = compare ? '상대 가격' : '펀드별 최근 결산 기준가격으로 계산';\n",
    "        const titleCost = cost ? '수수료 적용' : null;\n",
    "\n",
    "        let title = `${titleBase} (${titleComp}`;\n",
    "        title = titleCost ? `${title}, ${titleCost})` : `${title})`;\n",
    "\n",
    "        return {\n",
    "            data: traces,\n",
    "            layout: {\n",
    "                title: { text: title, x: 0 },\n",
    "                //xaxis: { title: 'Date' },\n",
    "                yaxis: { title: '기준가격' },\n",
    "                //height: 500,\n",
    "                hovermode: 'x',\n",
    "                xaxis: {\n",
    "                    rangeselector: {\n",
    "                        buttons: [\n",
    "                            {\n",
    "                                count: 3,\n",
    "                                label: \"3y\",\n",
    "                                step: \"year\",\n",
    "                                stepmode: \"backward\"\n",
    "                            },\n",
    "                            {\n",
    "                                step: \"all\",\n",
    "                                label: \"All\"\n",
    "                            }\n",
    "                        ]\n",
    "                    },\n",
    "                    rangeslider: {\n",
    "                        visible: true\n",
    "                    },\n",
    "                    type: \"date\"\n",
    "                }\n",
    "            }\n",
    "        };\n",
    "    }\n",
    "    \"\"\",\n",
    "    Output('price-plot', 'figure'),\n",
    "    Input('price-data', 'data'),\n",
    "    Input('cost-boolean-switch', 'on'),\n",
    "    Input('compare-boolean-switch', 'on')\n",
    ")\n",
    "\n",
    "\n",
    "app.clientside_callback(\n",
    "    \"\"\"\n",
    "    function(data, cost, compare) {\n",
    "        if (!data || !data.columns) {\n",
    "            return {data: [], layout: {title: 'No Data Available', height: 300}};\n",
    "        }\n",
    "\n",
    "        const cols = data.columns; // Columns: ['price', 'price_after_fees']\n",
    "        const sel = cost ? cols[1] : cols[0]; // Selected column based on cost\n",
    "        const kind = compare ? 'compare' : 'default'; // Default or compare data\n",
    "        const dat = data[kind];\n",
    "\n",
    "        if (!dat[cols[0]] || !dat[cols[1]] || !dat[cols[0]].return || !dat[cols[0]].ticker) {\n",
    "            return {data: [], layout: {title: 'No Data Available', height: 300}};\n",
    "        }\n",
    "\n",
    "        const tickers = dat[cols[0]].ticker; // Tickers for x-axis\n",
    "        const returnPrice = dat[cols[0]].return; // Returns for 'price'\n",
    "        const returnFees = dat[cols[1]].return; // Returns for 'price_after_fees'\n",
    "\n",
    "        // Generate bar traces for both columns, always in the same order\n",
    "        const traces = [\n",
    "            {\n",
    "                x: tickers,\n",
    "                y: returnPrice.map(r => r[cols[0]]),\n",
    "                type: 'bar',\n",
    "                name: cols[0], // Label for 'price'\n",
    "                opacity: cost ? 0.3 : 0.6, // Fade when cost is True\n",
    "                marker: {\n",
    "                    line: { color: 'black', width: 1 }\n",
    "                }\n",
    "            },\n",
    "            {\n",
    "                x: tickers,\n",
    "                y: returnFees.map(r => r[cols[1]]),\n",
    "                type: 'bar',\n",
    "                name: cols[1], // Label for 'price_after_fees'\n",
    "                opacity: cost ? 0.6 : 0.3, // Fade when cost is False\n",
    "                marker: {\n",
    "                    line: { color: 'black', width: 1 }\n",
    "                }\n",
    "            }\n",
    "        ];\n",
    "\n",
    "        // Set title dynamically based on compare switch\n",
    "        let title;\n",
    "        if (compare) {\n",
    "            const dates = dat[sel].index;\n",
    "            const dt0 = new Date(Math.min(...dates.map(d => new Date(d).getTime()))).toISOString().slice(0, 10);\n",
    "            const dt1 = new Date(Math.max(...dates.map(d => new Date(d).getTime()))).toISOString().slice(0, 10);\n",
    "            title = `펀드 수익률 (${dt0} ~ ${dt1})`;\n",
    "        } else {\n",
    "            title = '펀드 수익률 (펀드별 설정일 이후)';\n",
    "        }\n",
    "\n",
    "        return {\n",
    "            data: traces,\n",
    "            layout: {\n",
    "                title: { text: title, x: 0 }, // Align title to the left\n",
    "                //xaxis: { title: 'Tickers' },\n",
    "                yaxis: { title: '수익률(%)' },\n",
    "                barmode: 'group', // Grouped bar chart\n",
    "                //height: 400,\n",
    "                hovermode: 'x',\n",
    "                //hovertemplate='%{y:.0f}%'\n",
    "            }\n",
    "        };\n",
    "    }\n",
    "    \"\"\",\n",
    "    Output('return-plot', 'figure'),\n",
    "    Input('price-data', 'data'),\n",
    "    Input('cost-boolean-switch', 'on'),\n",
    "    Input('compare-boolean-switch', 'on')\n",
    ")\n",
    "\n",
    "\n",
    "if __name__ == '__main__':\n",
    "    app.run_server(debug=False)"
   ]
  },
  {
   "cell_type": "code",
   "execution_count": null,
   "id": "209b20bb-fe19-475c-9ab8-1a542d82f03f",
   "metadata": {},
   "outputs": [],
   "source": [
    "fig.update_layout(\n",
    "    xaxis=dict(\n",
    "        rangeselector=dict(\n",
    "            buttons=list([\n",
    "                dict(count=1,\n",
    "                     label=\"1y\",\n",
    "                     step=\"year\",\n",
    "                     stepmode=\"backward\"),\n",
    "                dict(step=\"all\")\n",
    "            ])\n",
    "        ),\n",
    "        rangeslider=dict(\n",
    "            visible=True\n",
    "        ),\n",
    "        type=\"date\"\n",
    " )\n",
    ")"
   ]
  }
 ],
 "metadata": {
  "kernelspec": {
   "display_name": "portfolio",
   "language": "python",
   "name": "portfolio"
  },
  "language_info": {
   "codemirror_mode": {
    "name": "ipython",
    "version": 3
   },
   "file_extension": ".py",
   "mimetype": "text/x-python",
   "name": "python",
   "nbconvert_exporter": "python",
   "pygments_lexer": "ipython3",
   "version": "3.12.1"
  }
 },
 "nbformat": 4,
 "nbformat_minor": 5
}
