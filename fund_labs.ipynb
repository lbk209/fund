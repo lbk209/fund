{
 "cells": [
  {
   "cell_type": "markdown",
   "id": "112369a5-0544-4409-bccf-4e1a1fe20926",
   "metadata": {},
   "source": [
    "# App"
   ]
  },
  {
   "cell_type": "code",
   "execution_count": 1,
   "id": "bba3eecb-d919-4c52-817f-0b2f9ae9e8ab",
   "metadata": {},
   "outputs": [],
   "source": [
    "from app import app"
   ]
  },
  {
   "cell_type": "code",
   "execution_count": 2,
   "id": "db04f27b-81d9-4a0f-8dac-6541ab07b059",
   "metadata": {},
   "outputs": [
    {
     "data": {
      "text/html": [
       "\n",
       "        <iframe\n",
       "            width=\"100%\"\n",
       "            height=\"650\"\n",
       "            src=\"http://127.0.0.1:8050/\"\n",
       "            frameborder=\"0\"\n",
       "            allowfullscreen\n",
       "            \n",
       "        ></iframe>\n",
       "        "
      ],
      "text/plain": [
       "<IPython.lib.display.IFrame at 0x7bdc6bf1ede0>"
      ]
     },
     "metadata": {},
     "output_type": "display_data"
    }
   ],
   "source": [
    "app.run_server(debug=True)"
   ]
  },
  {
   "cell_type": "markdown",
   "id": "248732fe-626b-4ff9-8e12-aca7a5beb52a",
   "metadata": {},
   "source": [
    "# Data\n",
    "*create data for pages*"
   ]
  },
  {
   "cell_type": "code",
   "execution_count": 2,
   "id": "7fa2db53-6f5e-4b4b-8f17-10bbfb071b55",
   "metadata": {},
   "outputs": [],
   "source": [
    "import os\n",
    "os.chdir(\"..\")"
   ]
  },
  {
   "cell_type": "code",
   "execution_count": 3,
   "id": "8fa9f12a-8369-4ce6-9f61-3ae9704eb34f",
   "metadata": {},
   "outputs": [
    {
     "name": "stderr",
     "output_type": "stream",
     "text": [
      "WARNING (pytensor.tensor.blas): Using NumPy C-API based implementation for BLAS functions.\n"
     ]
    }
   ],
   "source": [
    "from pf_utils import PortfolioManager as PM "
   ]
  },
  {
   "cell_type": "code",
   "execution_count": 4,
   "id": "84b7dc88-0b84-4469-b96f-ef6857da71a7",
   "metadata": {},
   "outputs": [],
   "source": [
    "path_data = 'data'\n",
    "path_tran = 'transaction'"
   ]
  },
  {
   "cell_type": "code",
   "execution_count": 5,
   "id": "be9bb8fc-f077-4032-b695-a92d7bf0ee6d",
   "metadata": {},
   "outputs": [],
   "source": [
    "file_cost='transaction_cost'"
   ]
  },
  {
   "cell_type": "code",
   "execution_count": 6,
   "id": "ec6e3345-ab1b-42a5-874f-7c4263c0cc86",
   "metadata": {},
   "outputs": [
    {
     "name": "stdout",
     "output_type": "stream",
     "text": [
      "64 securities from 2008-11-28 to 2024-11-29 uploaded.\n",
      "WARNING: the number of days in a year with 64 tickers (100%) is 12 in avg.\n",
      "REMINDER: 64 equities converted to daily (days in year: 365)\n",
      "Daily metrics in Performance statistics must be meaningless\n",
      "Price data loaded\n",
      "Cost data transaction_cost_241217.csv loaded\n"
     ]
    }
   ],
   "source": [
    "universe = 'UV_FUND'\n",
    "fund = PM.create_universe(universe)\n",
    "cost = PM.get_cost(universe, file=file_cost, path=path_tran)\n",
    "fee = cost['fee']"
   ]
  },
  {
   "cell_type": "code",
   "execution_count": 7,
   "id": "cc68382b-5ad5-487f-bd90-d117fdbecc86",
   "metadata": {},
   "outputs": [],
   "source": [
    "df_prices = fund.df_prices\n",
    "df_prices_fees = fund._get_prices_after_fee(df_prices, fee)"
   ]
  },
  {
   "cell_type": "code",
   "execution_count": 72,
   "id": "079f0174-265c-4fe3-bd34-67783543bef7",
   "metadata": {},
   "outputs": [],
   "source": [
    "import pandas as pd\n",
    "\n",
    "func = lambda x: [k for k,v in fund.security_names.items() if x.lower() in v.lower()]\n",
    "cols = ['price', 'price_after_fees']\n",
    "df_all = pd.DataFrame()\n",
    "for i in range(2025,2060,5):\n",
    "    tickers = func(str(i))\n",
    "    df_a = pd.DataFrame()\n",
    "    for j, df_p in enumerate([df_prices, df_prices_fees]):\n",
    "        df = df_p[tickers].rename_axis('date')\n",
    "        df = df.rename_axis('ticker',axis=1).unstack().to_frame(cols[j]).dropna()\n",
    "        df_a = pd.concat([df_a, df], axis=1)\n",
    "    df_a = df_a.assign(group=i).set_index('group', append=True).swaplevel(1,2).swaplevel(0,1)\n",
    "    df_all = pd.concat([df_all, df_a])\n",
    "\n",
    "df_all = (df_all.assign(ym=df_all.index.get_level_values(\"date\").to_period('M'))\n",
    "          .sort_index().groupby(['group','ticker','ym']).tail(1).drop('ym', axis=1))"
   ]
  },
  {
   "cell_type": "code",
   "execution_count": 73,
   "id": "9f822b78-6bb8-49b5-9f0e-353379fd42d6",
   "metadata": {},
   "outputs": [],
   "source": [
    "file = 'fund_241229.csv'\n",
    "path = 'pages'\n",
    "df_all.to_csv(f'{path}/{file}')"
   ]
  },
  {
   "cell_type": "code",
   "execution_count": 51,
   "id": "c092ab66-6357-4854-9d7a-461f64aeb62c",
   "metadata": {},
   "outputs": [],
   "source": [
    "file = 'fund_name_241230.csv'\n",
    "path = 'pages'\n",
    "pd.Series(fund.security_names).to_csv(f'{path}/{file}')"
   ]
  },
  {
   "cell_type": "code",
   "execution_count": 75,
   "id": "338f47c5-37a7-480e-9878-69334631664d",
   "metadata": {},
   "outputs": [],
   "source": [
    "file = 'fund_241229.csv'\n",
    "path = 'pages'\n",
    "df_all = pd.read_csv(\n",
    "    f'{path}/{file}',\n",
    "    parse_dates=['date'],\n",
    "    dtype={'ticker': str},\n",
    "    index_col=['group', 'ticker', 'date']\n",
    ")"
   ]
  },
  {
   "cell_type": "code",
   "execution_count": null,
   "id": "1532e93b-0ddd-450f-9d05-54370610614b",
   "metadata": {},
   "outputs": [],
   "source": [
    "file = 'fund_name_241230.csv'\n",
    "fund_name = pd.read_csv(f'{path}/{file}', dtype={'ticker': str}, index_col=[0]).to_dict()"
   ]
  },
  {
   "cell_type": "code",
   "execution_count": 8,
   "id": "75b12277-2878-4346-9762-03c529a88717",
   "metadata": {},
   "outputs": [],
   "source": [
    "os.chdir(\"pages\")"
   ]
  },
  {
   "cell_type": "markdown",
   "id": "ea7af219-6c7b-43c4-b651-19d4db947f81",
   "metadata": {},
   "source": [
    "# Lab"
   ]
  },
  {
   "cell_type": "code",
   "execution_count": 26,
   "id": "63f62a53-d9a0-4add-ade4-05f41d2f2f5f",
   "metadata": {},
   "outputs": [
    {
     "data": {
      "text/html": [
       "\n",
       "        <iframe\n",
       "            width=\"100%\"\n",
       "            height=\"650\"\n",
       "            src=\"http://127.0.0.1:8050/\"\n",
       "            frameborder=\"0\"\n",
       "            allowfullscreen\n",
       "            \n",
       "        ></iframe>\n",
       "        "
      ],
      "text/plain": [
       "<IPython.lib.display.IFrame at 0x7bdc44d08050>"
      ]
     },
     "metadata": {},
     "output_type": "display_data"
    }
   ],
   "source": [
    "from dash import Dash, html, dcc, Output, Input\n",
    "import pandas as pd\n",
    "import dash_bootstrap_components as dbc\n",
    "import dash_daq as daq\n",
    "import json\n",
    "\n",
    "file_prc = 'fund_monthly_241229.csv'\n",
    "file_name = 'fund_name_241230.csv'\n",
    "path = '.'\n",
    "\n",
    "email_info = 'leebaekku209@gmail.com'\n",
    "default_group = 2030\n",
    "base_prc = 1000\n",
    "date_format = '%Y-%m-%d'\n",
    "months_in_year = 12\n",
    "cols_prc = ['수수료 적용 전', '수수료 적용 후']\n",
    "\n",
    "\n",
    "# Load price data\n",
    "df_prc = pd.read_csv(\n",
    "    f'{path}/{file_prc}',\n",
    "    parse_dates=['date'],\n",
    "    dtype={'ticker': str},\n",
    "    index_col=['group', 'ticker', 'date']\n",
    ")\n",
    "\n",
    "# Load fund names\n",
    "fund_name = pd.read_csv(f'{path}/{file_name}', dtype={'ticker': str}, index_col=[0])\n",
    "fund_name = fund_name.iloc[:,0].to_dict()\n",
    "\n",
    "groups = df_prc.index.get_level_values('group').unique()\n",
    "groups = [{'label': f'TDF{x}', 'value': x} for x in groups]\n",
    "\n",
    "# Initialize the Dash app\n",
    "external_stylesheets = [dbc.themes.CERULEAN, \n",
    "                        #dbc.themes.BOOTSTRAP,\n",
    "                        dbc.icons.FONT_AWESOME,\n",
    "                        dbc.icons.BOOTSTRAP]\n",
    "app = Dash(__name__, title=\"달달펀드\",\n",
    "           external_stylesheets=external_stylesheets)\n",
    "\n",
    "disclaimer = \"\"\"\n",
    "본 사이트는 투자 권유를 제공하지 않으며, 제공되는 정보의 정확성과 완전성을 보장하지 않습니다. 수수료와 세금은 수익률에 영향을 미칠 수 있으며, 투자 결정 및 그에 따른 결과는 전적으로 투자자 본인의 책임입니다.\n",
    "\"\"\"\n",
    "\n",
    "tab_info = html.Div([\n",
    "    html.P(),\n",
    "    dbc.Alert([\n",
    "        html.I(className=\"bi bi-info-circle-fill me-2\"),\n",
    "        disclaimer,\n",
    "        ],\n",
    "        color=\"info\",\n",
    "        className=\"d-flex align-items-center\",\n",
    "    ),\n",
    "    #html.P(disclaimer),\n",
    "    html.P([\n",
    "        #html.Div('문의'),\n",
    "        html.I(className=\"fa-solid fa-envelope\", style={\"margin-right\": \"10px\"}),\n",
    "        html.A(email_info, href=f\"mailto:{email_info}?Subject=달달펀드:문의\")\n",
    "    ])\n",
    "], style={'fontSize': 14})\n",
    "\n",
    "tab_topic = '테스트'\n",
    "\n",
    "tabs_contents = [\n",
    "    dbc.Tab(dcc.Graph(id='price-plot'), label='가격'),\n",
    "    dbc.Tab(dcc.Graph(id='return-plot'), label='수익률'),\n",
    "    dbc.Tab(tab_topic, label='토픽'),\n",
    "    dbc.Tab(tab_info, label='정보')\n",
    "]\n",
    "tabs = dbc.Tabs(tabs_contents)\n",
    "\n",
    "app.layout = dbc.Container([\n",
    "    html.Br(),\n",
    "    dbc.Row([\n",
    "        dbc.Col(\n",
    "            dcc.Dropdown(\n",
    "                id='group-dropdown',\n",
    "                options=groups,\n",
    "                value=default_group,\n",
    "                clearable=False,\n",
    "            ),\n",
    "            width=3\n",
    "        ),\n",
    "        dbc.Col(\n",
    "            daq.BooleanSwitch(\n",
    "                id='compare-boolean-switch',\n",
    "                on=False\n",
    "            ),\n",
    "            width=\"auto\"),\n",
    "        dbc.Col(\n",
    "            daq.BooleanSwitch(\n",
    "                id='cost-boolean-switch',\n",
    "                on=False\n",
    "            ),\n",
    "            width=\"auto\"),\n",
    "    ],\n",
    "        justify=\"center\",\n",
    "        align=\"center\",\n",
    "        className=\"mb-3\"\n",
    "    ),\n",
    "    dbc.Row(tabs),\n",
    "    html.Br(),\n",
    "    dcc.Store(id='price-data'),\n",
    "    dbc.Tooltip(\n",
    "        '상대 비교',\n",
    "        target='compare-boolean-switch',\n",
    "        placement='bottom'\n",
    "    ),\n",
    "    dbc.Tooltip(\n",
    "        '수수료 적용',\n",
    "        target='cost-boolean-switch',\n",
    "        placement='bottom'\n",
    "    )\n",
    "], fluid=True)  # Full-width container\n",
    "\n",
    "\n",
    "# Preprocess data to make it JSON-serializable and store it in a JavaScript variable\n",
    "preprocessed_data = {}\n",
    "df_prc.columns = cols_prc\n",
    "cols = df_prc.columns\n",
    "for group in groups:\n",
    "    group_value = group['value']\n",
    "    data = {'columns': list(cols), 'default': {}, 'compare': {}}\n",
    "    start = None\n",
    "    for col in cols:\n",
    "        df_p = df_prc.loc[group_value, col].unstack('ticker').sort_index()\n",
    "        df_p.columns = [fund_name[x] for x in df_p.columns]\n",
    "        \n",
    "        sr_n = df_p.apply(lambda x: x.dropna().count()) # num of months for each ticker\n",
    "        df_r = (df_p.apply(lambda x: x.dropna().iloc[-1]/x.dropna().iloc[0]-1) # total return\n",
    "                .to_frame('ttr').join(sr_n.rename('n'))\n",
    "                .apply(lambda x: (1+x['ttr']) ** (months_in_year/x['n']) - 1, axis=1) # CAGR\n",
    "                .mul(100).to_frame(col))\n",
    "        \n",
    "        data['default'][col] = {\n",
    "            'history': df_p.round().to_dict('records'),\n",
    "            'index': df_p.index.strftime(date_format).tolist(),\n",
    "            'return': df_r.round(1).to_dict('records'),\n",
    "            'ticker': df_r.index.tolist()\n",
    "        }\n",
    "        if start is None:\n",
    "            start = df_p.apply(lambda x: x[x.notna()].index.min()).max()\n",
    "        normalized_df = df_p.apply(lambda x: x / x.loc[start] * base_prc).loc[start:]\n",
    "        \n",
    "        sr_n = normalized_df.apply(lambda x: x.dropna().count()) # num of months for each ticker\n",
    "        df_r_n = (normalized_df.apply(lambda x: x.dropna().iloc[-1]/x.dropna().iloc[0]-1) # total return\n",
    "                  .to_frame('ttr').join(sr_n.rename('n'))\n",
    "                  .apply(lambda x: (1+x['ttr']) ** (months_in_year/x['n']) - 1, axis=1) # CAGR\n",
    "                  .mul(100).to_frame(col))\n",
    "\n",
    "        data['compare'][col] = {\n",
    "            'history': normalized_df.round().to_dict('records'),\n",
    "            'index': normalized_df.index.strftime(date_format).tolist(),\n",
    "            'return': df_r_n.round(1).to_dict('records'),\n",
    "            'ticker': df_r.index.tolist()\n",
    "        }\n",
    "    preprocessed_data[group_value] = data\n",
    "\n",
    "# Inject preprocessed data as JSON in the client\n",
    "preprocessed_data_json = json.dumps(preprocessed_data)\n",
    "app.index_string = f\"\"\"\n",
    "<!DOCTYPE html>\n",
    "<html>\n",
    "    <head>\n",
    "        {{%metas%}}\n",
    "        <title>{{%title%}}</title>\n",
    "        <link rel=\"icon\" type=\"image/x-icon\" href=\"/assets/favicon.ico\">\n",
    "        {{%css%}}\n",
    "    </head>\n",
    "    <body>\n",
    "        <script>\n",
    "            var preprocessedData = {preprocessed_data_json};\n",
    "        </script>\n",
    "        {{%app_entry%}}\n",
    "        {{%config%}}\n",
    "        {{%scripts%}}\n",
    "        {{%renderer%}}\n",
    "    </body>\n",
    "</html>\n",
    "\"\"\"\n",
    "\n",
    "\n",
    "# Client-side callback for price data\n",
    "app.clientside_callback(\n",
    "    \"\"\"\n",
    "    function(group) {\n",
    "        return preprocessedData[group];\n",
    "    }\n",
    "    \"\"\",\n",
    "    Output('price-data', 'data'),\n",
    "    Input('group-dropdown', 'value')\n",
    ")\n",
    "\n",
    "\n",
    "app.clientside_callback(\n",
    "    \"\"\"\n",
    "    function(data, cost, compare) {\n",
    "        if (!data || !data.columns) {\n",
    "            return {data: [], layout: {title: 'No Data Available', height: 300}};\n",
    "        }\n",
    "\n",
    "        const cols = data.columns; // Columns: ['price', 'price_after_fees']\n",
    "        const col = cost ? cols[1] : cols[0]; // Select the column based on cost\n",
    "        const kind = compare ? 'compare' : 'default'; // Default or compare data\n",
    "        const dat = data[kind][col];\n",
    "\n",
    "        if (!dat || !dat.history || !dat.index) {\n",
    "            return {data: [], layout: {title: 'No Data Available', height: 300}};\n",
    "        }\n",
    "\n",
    "        // Prepare data for each ticker\n",
    "        const traces = Object.keys(dat.history[0]).map(ticker => {\n",
    "            const yValues = dat.history.map(row => row[ticker]);\n",
    "            return {\n",
    "                x: dat.index,        // Dates from the index\n",
    "                y: yValues,          // Price history for each ticker\n",
    "                type: 'scatter',\n",
    "                mode: 'lines',\n",
    "                name: ticker,        // Ticker as the legend name\n",
    "                showlegend: true\n",
    "            };\n",
    "        });\n",
    "\n",
    "        // Title logic\n",
    "        const titleBase = '펀드 가격 추이';\n",
    "        const titleComp = compare ? '상대 가격' : '펀드별 최근 결산 기준가격';\n",
    "        const titleCost = cost ? '수수료 적용' : null;\n",
    "\n",
    "        let title = `${titleBase} (${titleComp}`;\n",
    "        title = titleCost ? `${title}, ${titleCost})` : `${title})`;\n",
    "\n",
    "        return {\n",
    "            data: traces,\n",
    "            layout: {\n",
    "                title: { text: title, x: 0 },\n",
    "                hovermode: 'x',\n",
    "                yaxis: { title: '가격' },\n",
    "                xaxis: {\n",
    "                    rangeselector: {\n",
    "                        buttons: [\n",
    "                            {\n",
    "                                count: 3,\n",
    "                                label: \"3y\",\n",
    "                                step: \"year\",\n",
    "                                stepmode: \"backward\"\n",
    "                            },\n",
    "                            {\n",
    "                                step: \"all\",\n",
    "                                label: \"All\"\n",
    "                            }\n",
    "                        ]\n",
    "                    },\n",
    "                    rangeslider: {\n",
    "                        visible: true\n",
    "                    },\n",
    "                    type: \"date\"\n",
    "                },\n",
    "                responsive: true\n",
    "            }\n",
    "        };\n",
    "    }\n",
    "    \"\"\",\n",
    "    Output('price-plot', 'figure'),\n",
    "    Input('price-data', 'data'),\n",
    "    Input('cost-boolean-switch', 'on'),\n",
    "    Input('compare-boolean-switch', 'on')\n",
    ")\n",
    "\n",
    "\n",
    "app.clientside_callback(\n",
    "    \"\"\"\n",
    "    function(data, cost, compare) {\n",
    "        if (!data || !data.columns) {\n",
    "            return {data: [], layout: {title: 'No Data Available', height: 300}};\n",
    "        }\n",
    "\n",
    "        const cols = data.columns; // Columns: ['price', 'price_after_fees']\n",
    "        const sel = cost ? cols[1] : cols[0]; // Selected column based on cost\n",
    "        const kind = compare ? 'compare' : 'default'; // Default or compare data\n",
    "        const dat = data[kind];\n",
    "\n",
    "        if (!dat[cols[0]] || !dat[cols[1]] || !dat[cols[0]].return || !dat[cols[0]].ticker) {\n",
    "            return {data: [], layout: {title: 'No Data Available', height: 300}};\n",
    "        }\n",
    "\n",
    "        const tickers = dat[cols[0]].ticker; // Tickers for x-axis\n",
    "        const returnPrice = dat[cols[0]].return; // Returns for 'price'\n",
    "        const returnFees = dat[cols[1]].return; // Returns for 'price_after_fees'\n",
    "\n",
    "        // Generate bar traces for both columns, always in the same order\n",
    "        const traces = [\n",
    "            {\n",
    "                x: tickers,\n",
    "                y: returnPrice.map(r => r[cols[0]]),\n",
    "                type: 'bar',\n",
    "                name: cols[0], // Label for 'price'\n",
    "                opacity: cost ? 0.3 : 0.6, // Fade when cost is True\n",
    "                marker: {\n",
    "                    line: { color: 'black', width: 1 }\n",
    "                }\n",
    "            },\n",
    "            {\n",
    "                x: tickers,\n",
    "                y: returnFees.map(r => r[cols[1]]),\n",
    "                type: 'bar',\n",
    "                name: cols[1], // Label for 'price_after_fees'\n",
    "                opacity: cost ? 0.6 : 0.3, // Fade when cost is False\n",
    "                marker: {\n",
    "                    line: { color: 'black', width: 1 }\n",
    "                }\n",
    "            }\n",
    "        ];\n",
    "\n",
    "        // Set title dynamically based on compare switch\n",
    "        let title;\n",
    "        if (compare) {\n",
    "            const dates = dat[sel].index;\n",
    "            const dt0 = new Date(Math.min(...dates.map(d => new Date(d).getTime()))).toISOString().slice(0, 10);\n",
    "            const dt1 = new Date(Math.max(...dates.map(d => new Date(d).getTime()))).toISOString().slice(0, 10);\n",
    "            title = `펀드 연평균 수익률 (${dt0} ~ ${dt1})`;\n",
    "        } else {\n",
    "            title = '펀드 연평균 수익률 (펀드별 설정일 이후)';\n",
    "        }\n",
    "\n",
    "        return {\n",
    "            data: traces,\n",
    "            layout: {\n",
    "                title: { text: title, x: 0 }, // Align title to the left\n",
    "                //xaxis: { title: 'Tickers' },\n",
    "                yaxis: { title: '연평균 수익률 (%)' },\n",
    "                barmode: 'group', // Grouped bar chart\n",
    "                //height: 400,\n",
    "                hovermode: 'x',\n",
    "                //hovertemplate='%{y:.0f}%',\n",
    "                responsive: true\n",
    "            }\n",
    "        };\n",
    "    }\n",
    "    \"\"\",\n",
    "    Output('return-plot', 'figure'),\n",
    "    Input('price-data', 'data'),\n",
    "    Input('cost-boolean-switch', 'on'),\n",
    "    Input('compare-boolean-switch', 'on')\n",
    ")\n",
    "\n",
    "\n",
    "if __name__ == '__main__':\n",
    "    app.run_server(debug=False)"
   ]
  },
  {
   "cell_type": "code",
   "execution_count": null,
   "id": "621fe315-1279-4e6e-b88d-2999cbe95281",
   "metadata": {},
   "outputs": [],
   "source": []
  },
  {
   "cell_type": "code",
   "execution_count": null,
   "id": "f0b6786d-8956-4c55-a30c-3c90cd8fa503",
   "metadata": {},
   "outputs": [],
   "source": []
  },
  {
   "cell_type": "code",
   "execution_count": null,
   "id": "e1032f7d-308e-48f4-9d06-66cdf246f5e9",
   "metadata": {},
   "outputs": [],
   "source": []
  },
  {
   "cell_type": "markdown",
   "id": "0ce0714d-a9f8-4f37-beab-f4e566375b9f",
   "metadata": {},
   "source": [
    "## Samples"
   ]
  },
  {
   "cell_type": "markdown",
   "id": "056b7874-00c9-4509-894c-34f54bde50aa",
   "metadata": {},
   "source": [
    "### Callback"
   ]
  },
  {
   "cell_type": "code",
   "execution_count": null,
   "id": "95965ba5-0d75-4b4a-9b4a-499021d97c9c",
   "metadata": {},
   "outputs": [],
   "source": [
    "import pandas as pd\n",
    "import plotly.express as px\n",
    "from dash import Dash, html, dcc, callback, Input, Output\n",
    "from io import StringIO\n",
    "\n",
    "file_prc = 'fund_monthly_241229.csv'\n",
    "path = '.'\n",
    "\n",
    "# Load price data\n",
    "df_prc = pd.read_csv(\n",
    "    f'{path}/{file_prc}',\n",
    "    parse_dates=['date'],\n",
    "    dtype={'ticker': str},\n",
    "    index_col=['group', 'ticker', 'date']\n",
    ")\n",
    "\n",
    "app = Dash(__name__)\n",
    "app.layout = html.Div([\n",
    "    html.Button('Submit', id='submit-val', n_clicks=0),\n",
    "    dcc.Graph(id='price-plot'),\n",
    "    dcc.Store(id='price-data'),\n",
    "])\n",
    "\n",
    "group_value = 2030\n",
    "col = 'price'\n",
    "df_p = df_prc.loc[group_value, col].unstack('ticker').sort_index()\n",
    "\n",
    "@callback(\n",
    "    Output(component_id='price-data', component_property='data'),\n",
    "    Input(component_id='submit-val', component_property='n_clicks')\n",
    ")\n",
    "def update(n_clicks):\n",
    "    return df_p.to_json(date_format='iso', orient='split')\n",
    "\n",
    "\n",
    "@callback(\n",
    "    Output(component_id='price-plot', component_property='figure'),\n",
    "    Input(component_id='price-data', component_property='data')\n",
    ")\n",
    "def plot(data):\n",
    "    # Use StringIO to wrap the string data\n",
    "    data_io = StringIO(data)\n",
    "    df = pd.read_json(data_io, orient='split')\n",
    "    return px.line(df)\n",
    "\n",
    "if __name__ == '__main__':\n",
    "    app.run_server(debug=True)"
   ]
  },
  {
   "cell_type": "markdown",
   "id": "7719ab04-06e0-44ac-8e18-bf339a367f34",
   "metadata": {},
   "source": [
    "### Clientside"
   ]
  },
  {
   "cell_type": "code",
   "execution_count": 3,
   "id": "d2b01741-72a7-4f1a-b4da-7c8c2df4b7a7",
   "metadata": {},
   "outputs": [
    {
     "data": {
      "text/html": [
       "\n",
       "        <iframe\n",
       "            width=\"100%\"\n",
       "            height=\"650\"\n",
       "            src=\"http://127.0.0.1:8050/\"\n",
       "            frameborder=\"0\"\n",
       "            allowfullscreen\n",
       "            \n",
       "        ></iframe>\n",
       "        "
      ],
      "text/plain": [
       "<IPython.lib.display.IFrame at 0x742b68035f70>"
      ]
     },
     "metadata": {},
     "output_type": "display_data"
    }
   ],
   "source": [
    "import pandas as pd\n",
    "import plotly.express as px\n",
    "from dash import Dash, html, dcc\n",
    "import json\n",
    "\n",
    "file_prc = 'fund_monthly_241229.csv'\n",
    "path = '.'\n",
    "\n",
    "# Load price data\n",
    "df_prc = pd.read_csv(\n",
    "    f'{path}/{file_prc}',\n",
    "    parse_dates=['date'],\n",
    "    dtype={'ticker': str},\n",
    "    index_col=['group', 'ticker', 'date']\n",
    ")\n",
    "\n",
    "app = Dash(__name__)\n",
    "\n",
    "group_value = 2030\n",
    "col = 'price'\n",
    "df_p = df_prc.loc[group_value, col].unstack('ticker').sort_index()\n",
    "\n",
    "# Preprocess the data and serialize it to JSON\n",
    "preprocessed_data = df_p.to_json(date_format='iso', orient='split')\n",
    "\n",
    "app.layout = html.Div([\n",
    "    dcc.Graph(id='price-plot'),\n",
    "    # Embed the preprocessed data as a hidden div or dcc.Store\n",
    "    dcc.Store(id='price-data', data=preprocessed_data),\n",
    "])\n",
    "\n",
    "# Clientside callback for plotting\n",
    "app.clientside_callback(\n",
    "    \"\"\"\n",
    "    function(data) {\n",
    "        if (!data) {\n",
    "            return {'data': [], 'layout': {}};\n",
    "        }\n",
    "        // Parse the JSON data\n",
    "        const df = JSON.parse(data);\n",
    "        const dates = df.index;\n",
    "        const columns = df.columns;\n",
    "\n",
    "        const traces = columns.map((col, i) => ({\n",
    "            x: dates,\n",
    "            y: df.data.map(row => row[i]),\n",
    "            mode: 'lines',\n",
    "            name: col\n",
    "        }));\n",
    "\n",
    "        return {\n",
    "            data: traces,\n",
    "            layout: {\n",
    "                title: 'Price Plot',\n",
    "                xaxis: {title: 'Date'},\n",
    "                yaxis: {title: 'Price'}\n",
    "            }\n",
    "        };\n",
    "    }\n",
    "    \"\"\",\n",
    "    Output('price-plot', 'figure'),\n",
    "    Input('price-data', 'data')\n",
    ")\n",
    "\n",
    "if __name__ == '__main__':\n",
    "    app.run_server(debug=True)\n"
   ]
  },
  {
   "cell_type": "markdown",
   "id": "e39d92b4-e297-4765-9b1f-9660783ffa36",
   "metadata": {},
   "source": [
    "### Mobile"
   ]
  },
  {
   "cell_type": "code",
   "execution_count": 9,
   "id": "5403873d-e7b4-4543-8fe4-403792a44914",
   "metadata": {},
   "outputs": [
    {
     "data": {
      "text/html": [
       "\n",
       "        <iframe\n",
       "            width=\"100%\"\n",
       "            height=\"650\"\n",
       "            src=\"http://127.0.0.1:8050/\"\n",
       "            frameborder=\"0\"\n",
       "            allowfullscreen\n",
       "            \n",
       "        ></iframe>\n",
       "        "
      ],
      "text/plain": [
       "<IPython.lib.display.IFrame at 0x742b455023f0>"
      ]
     },
     "metadata": {},
     "output_type": "display_data"
    }
   ],
   "source": [
    "import pandas as pd\n",
    "from dash import Dash, html, dcc\n",
    "import dash_bootstrap_components as dbc\n",
    "import json\n",
    "\n",
    "file_prc = 'fund_monthly_241229.csv'\n",
    "path = '.'\n",
    "\n",
    "# Load price data\n",
    "df_prc = pd.read_csv(\n",
    "    f'{path}/{file_prc}',\n",
    "    parse_dates=['date'],\n",
    "    dtype={'ticker': str},\n",
    "    index_col=['group', 'ticker', 'date']\n",
    ")\n",
    "\n",
    "app = Dash(__name__, external_stylesheets=[dbc.themes.BOOTSTRAP])\n",
    "\n",
    "group_value = 2030\n",
    "col = 'price'\n",
    "df_p = df_prc.loc[group_value, col].unstack('ticker').sort_index()\n",
    "\n",
    "# Preprocess the data and serialize it to JSON\n",
    "preprocessed_data = df_p.to_json(date_format='iso', orient='split')\n",
    "\n",
    "app.layout = dbc.Container(\n",
    "    [\n",
    "        dbc.Row(\n",
    "            dbc.Col(\n",
    "                html.Button('Submit', id='submit-val', n_clicks=0),\n",
    "                width={\"size\": 6, \"offset\": 3},  # Centered on the screen\n",
    "                className=\"text-center\"\n",
    "            )\n",
    "        ),\n",
    "        dbc.Row(\n",
    "            dbc.Col(\n",
    "                dcc.Graph(id='price-plot'),\n",
    "                width=12  # Full-width on all screen sizes\n",
    "            ),\n",
    "            className=\"mt-4\"  # Add margin-top for spacing\n",
    "        ),\n",
    "        # Store the preprocessed data\n",
    "        dcc.Store(id='price-data', data=preprocessed_data),\n",
    "    ],\n",
    "    fluid=True  # Full-width container\n",
    ")\n",
    "\n",
    "# Clientside callback for plotting\n",
    "app.clientside_callback(\n",
    "    \"\"\"\n",
    "    function(data) {\n",
    "        if (!data) {\n",
    "            return {'data': [], 'layout': {}};\n",
    "        }\n",
    "        // Parse the JSON data\n",
    "        const df = JSON.parse(data);\n",
    "        const dates = df.index;\n",
    "        const columns = df.columns;\n",
    "\n",
    "        const traces = columns.map((col, i) => ({\n",
    "            x: dates,\n",
    "            y: df.data.map(row => row[i]),\n",
    "            mode: 'lines',\n",
    "            name: col\n",
    "        }));\n",
    "\n",
    "        return {\n",
    "            data: traces,\n",
    "            layout: {\n",
    "                title: 'Price Plot',\n",
    "                xaxis: {title: 'Date'},\n",
    "                yaxis: {title: 'Price'},\n",
    "                margin: {l: 40, r: 10, t: 40, b: 40},\n",
    "                responsive: true\n",
    "            }\n",
    "        };\n",
    "    }\n",
    "    \"\"\",\n",
    "    Output('price-plot', 'figure'),\n",
    "    Input('price-data', 'data')\n",
    ")\n",
    "\n",
    "if __name__ == '__main__':\n",
    "    app.run_server(debug=True)\n"
   ]
  },
  {
   "cell_type": "markdown",
   "id": "2e38f33b-3d4a-4883-b946-841ffeeb7dab",
   "metadata": {},
   "source": [
    "## testing"
   ]
  },
  {
   "cell_type": "code",
   "execution_count": 10,
   "id": "8bc06994-84e3-448d-9abf-d1b2f2542c49",
   "metadata": {},
   "outputs": [
    {
     "data": {
      "text/html": [
       "\n",
       "        <iframe\n",
       "            width=\"100%\"\n",
       "            height=\"650\"\n",
       "            src=\"http://127.0.0.1:8050/\"\n",
       "            frameborder=\"0\"\n",
       "            allowfullscreen\n",
       "            \n",
       "        ></iframe>\n",
       "        "
      ],
      "text/plain": [
       "<IPython.lib.display.IFrame at 0x742b3c64a0c0>"
      ]
     },
     "metadata": {},
     "output_type": "display_data"
    }
   ],
   "source": [
    "from dash import Dash, html, dcc, Output, Input\n",
    "import pandas as pd\n",
    "import dash_bootstrap_components as dbc\n",
    "import dash_daq as daq\n",
    "import json\n",
    "\n",
    "file_prc = 'fund_monthly_241229.csv'\n",
    "file_name = 'fund_name_241230.csv'\n",
    "path = '.'\n",
    "\n",
    "date_format = '%Y-%m-%d'\n",
    "default_group = 2030\n",
    "base_prc = 1000\n",
    "months_in_year = 12\n",
    "\n",
    "cols_prc = ['수수료 적용 전', '수수료 적용 후']\n",
    "\n",
    "\n",
    "# Load price data\n",
    "df_prc = pd.read_csv(\n",
    "    f'{path}/{file_prc}',\n",
    "    parse_dates=['date'],\n",
    "    dtype={'ticker': str},\n",
    "    index_col=['group', 'ticker', 'date']\n",
    ")\n",
    "\n",
    "# Load fund names\n",
    "fund_name = pd.read_csv(f'{path}/{file_name}', dtype={'ticker': str}, index_col=[0])\n",
    "fund_name = fund_name.iloc[:,0].to_dict()\n",
    "\n",
    "groups = df_prc.index.get_level_values('group').unique()\n",
    "groups = [{'label': f'TDF{x}', 'value': x} for x in groups]\n",
    "\n",
    "# Initialize the Dash app\n",
    "external_stylesheets = [dbc.themes.CERULEAN]\n",
    "app = Dash(__name__, title=\"달달펀드\",\n",
    "           external_stylesheets=external_stylesheets)\n",
    "\n",
    "\n",
    "tabs = dbc.Tabs([\n",
    "    dbc.Tab(dcc.Graph(id='price-plot'), label='가격'),\n",
    "    dbc.Tab(dcc.Graph(id='return-plot'), label='수익률'),\n",
    "])\n",
    "\n",
    "app.layout = dbc.Container([\n",
    "    html.Br(),\n",
    "    dbc.Row([\n",
    "        dbc.Col(\n",
    "            dcc.Dropdown(\n",
    "                id='group-dropdown',\n",
    "                options=groups,\n",
    "                value=default_group,\n",
    "                clearable=False,\n",
    "            ),\n",
    "            width=3\n",
    "        ),\n",
    "        dbc.Col(\n",
    "            daq.BooleanSwitch(\n",
    "                id='compare-boolean-switch',\n",
    "                on=False\n",
    "            ),\n",
    "            width=\"auto\"),\n",
    "        dbc.Col(\n",
    "            daq.BooleanSwitch(\n",
    "                id='cost-boolean-switch',\n",
    "                on=False\n",
    "            ),\n",
    "            width=\"auto\"),\n",
    "    ],\n",
    "        justify=\"center\",\n",
    "        align=\"center\",\n",
    "        className=\"mb-3\"\n",
    "    ),\n",
    "    dbc.Row(tabs),\n",
    "    html.Br(),\n",
    "    dcc.Store(id='price-data'),\n",
    "    dbc.Tooltip(\n",
    "        '상대 비교',\n",
    "        target='compare-boolean-switch',\n",
    "        placement='bottom'\n",
    "    ),\n",
    "    dbc.Tooltip(\n",
    "        '수수료 적용',\n",
    "        target='cost-boolean-switch',\n",
    "        placement='bottom'\n",
    "    )\n",
    "])\n",
    "\n",
    "# Preprocess data to make it JSON-serializable and store it in a JavaScript variable\n",
    "preprocessed_data = {}\n",
    "df_prc.columns = cols_prc\n",
    "cols = df_prc.columns\n",
    "for group in groups:\n",
    "    group_value = group['value']\n",
    "    data = {'columns': list(cols), 'default': {}, 'compare': {}}\n",
    "    start = None\n",
    "    for col in cols:\n",
    "        df_p = df_prc.loc[group_value, col].unstack('ticker').sort_index()\n",
    "        df_p.columns = [fund_name[x] for x in df_p.columns]\n",
    "        \n",
    "        sr_n = df_p.apply(lambda x: x.dropna().count()) # num of months for each ticker\n",
    "        df_r = (df_p.apply(lambda x: x.dropna().iloc[-1]/x.dropna().iloc[0]-1) # total return\n",
    "                .to_frame('ttr').join(sr_n.rename('n'))\n",
    "                .apply(lambda x: (1+x['ttr']) ** (months_in_year/x['n']) - 1, axis=1) # CAGR\n",
    "                .mul(100).to_frame(col))\n",
    "        \n",
    "        data['default'][col] = {\n",
    "            'history': df_p.round().to_dict('records'),\n",
    "            'index': df_p.index.strftime(date_format).tolist(),\n",
    "            'return': df_r.round(1).to_dict('records'),\n",
    "            'ticker': df_r.index.tolist()\n",
    "        }\n",
    "        if start is None:\n",
    "            start = df_p.apply(lambda x: x[x.notna()].index.min()).max()\n",
    "        normalized_df = df_p.apply(lambda x: x / x.loc[start] * base_prc).loc[start:]\n",
    "        \n",
    "        sr_n = normalized_df.apply(lambda x: x.dropna().count()) # num of months for each ticker\n",
    "        df_r_n = (normalized_df.apply(lambda x: x.dropna().iloc[-1]/x.dropna().iloc[0]-1) # total return\n",
    "                  .to_frame('ttr').join(sr_n.rename('n'))\n",
    "                  .apply(lambda x: (1+x['ttr']) ** (months_in_year/x['n']) - 1, axis=1) # CAGR\n",
    "                  .mul(100).to_frame(col))\n",
    "\n",
    "        data['compare'][col] = {\n",
    "            'history': normalized_df.round().to_dict('records'),\n",
    "            'index': normalized_df.index.strftime(date_format).tolist(),\n",
    "            'return': df_r_n.round(1).to_dict('records'),\n",
    "            'ticker': df_r.index.tolist()\n",
    "        }\n",
    "    preprocessed_data[group_value] = data\n",
    "\n",
    "# Inject preprocessed data as JSON in the client\n",
    "preprocessed_data_json = json.dumps(preprocessed_data)\n",
    "app.index_string = f\"\"\"\n",
    "<!DOCTYPE html>\n",
    "<html>\n",
    "    <head>\n",
    "        {{%metas%}}\n",
    "        <title>{{%title%}}</title>\n",
    "        <link rel=\"icon\" type=\"image/x-icon\" href=\"/assets/favicon.ico\">\n",
    "        {{%css%}}\n",
    "    </head>\n",
    "    <body>\n",
    "        <script>\n",
    "            var preprocessedData = {preprocessed_data_json};\n",
    "        </script>\n",
    "        {{%app_entry%}}\n",
    "        {{%config%}}\n",
    "        {{%scripts%}}\n",
    "        {{%renderer%}}\n",
    "    </body>\n",
    "</html>\n",
    "\"\"\"\n",
    "\n",
    "\n",
    "# Client-side callback for price data\n",
    "app.clientside_callback(\n",
    "    \"\"\"\n",
    "    function(group) {\n",
    "        return preprocessedData[group];\n",
    "    }\n",
    "    \"\"\",\n",
    "    Output('price-data', 'data'),\n",
    "    Input('group-dropdown', 'value')\n",
    ")\n",
    "\n",
    "\n",
    "app.clientside_callback(\n",
    "    \"\"\"\n",
    "    function(data, cost, compare) {\n",
    "        if (!data || !data.columns) {\n",
    "            return {data: [], layout: {title: 'No Data Available', height: 300}};\n",
    "        }\n",
    "\n",
    "        const cols = data.columns; // Columns: ['price', 'price_after_fees']\n",
    "        const col = cost ? cols[1] : cols[0]; // Select the column based on cost\n",
    "        const kind = compare ? 'compare' : 'default'; // Default or compare data\n",
    "        const dat = data[kind][col];\n",
    "\n",
    "        if (!dat || !dat.history || !dat.index) {\n",
    "            return {data: [], layout: {title: 'No Data Available', height: 300}};\n",
    "        }\n",
    "\n",
    "        // Prepare data for each ticker\n",
    "        const traces = Object.keys(dat.history[0]).map(ticker => {\n",
    "            const yValues = dat.history.map(row => row[ticker]);\n",
    "            return {\n",
    "                x: dat.index,        // Dates from the index\n",
    "                y: yValues,          // Price history for each ticker\n",
    "                type: 'scatter',\n",
    "                mode: 'lines',\n",
    "                name: ticker,        // Ticker as the legend name\n",
    "                showlegend: true\n",
    "            };\n",
    "        });\n",
    "\n",
    "        // Title logic\n",
    "        const titleBase = '펀드 가격 추이';\n",
    "        const titleComp = compare ? '상대 가격' : '펀드별 최근 결산 기준가격';\n",
    "        const titleCost = cost ? '수수료 적용' : null;\n",
    "\n",
    "        let title = `${titleBase} (${titleComp}`;\n",
    "        title = titleCost ? `${title}, ${titleCost})` : `${title})`;\n",
    "\n",
    "        return {\n",
    "            data: traces,\n",
    "            layout: {\n",
    "                title: { text: title, x: 0 },\n",
    "                hovermode: 'x',\n",
    "                yaxis: { title: '가격' },\n",
    "                xaxis: {\n",
    "                    rangeselector: {\n",
    "                        buttons: [\n",
    "                            {\n",
    "                                count: 3,\n",
    "                                label: \"3y\",\n",
    "                                step: \"year\",\n",
    "                                stepmode: \"backward\"\n",
    "                            },\n",
    "                            {\n",
    "                                step: \"all\",\n",
    "                                label: \"All\"\n",
    "                            }\n",
    "                        ]\n",
    "                    },\n",
    "                    rangeslider: {\n",
    "                        visible: true\n",
    "                    },\n",
    "                    type: \"date\"\n",
    "                },\n",
    "                responsive: true\n",
    "            }\n",
    "        };\n",
    "    }\n",
    "    \"\"\",\n",
    "    Output('price-plot', 'figure'),\n",
    "    Input('price-data', 'data'),\n",
    "    Input('cost-boolean-switch', 'on'),\n",
    "    Input('compare-boolean-switch', 'on')\n",
    ")\n",
    "\n",
    "\n",
    "app.clientside_callback(\n",
    "    \"\"\"\n",
    "    function(data, cost, compare) {\n",
    "        if (!data || !data.columns) {\n",
    "            return {data: [], layout: {title: 'No Data Available', height: 300}};\n",
    "        }\n",
    "\n",
    "        const cols = data.columns; // Columns: ['price', 'price_after_fees']\n",
    "        const sel = cost ? cols[1] : cols[0]; // Selected column based on cost\n",
    "        const kind = compare ? 'compare' : 'default'; // Default or compare data\n",
    "        const dat = data[kind];\n",
    "\n",
    "        if (!dat[cols[0]] || !dat[cols[1]] || !dat[cols[0]].return || !dat[cols[0]].ticker) {\n",
    "            return {data: [], layout: {title: 'No Data Available', height: 300}};\n",
    "        }\n",
    "\n",
    "        const tickers = dat[cols[0]].ticker; // Tickers for x-axis\n",
    "        const returnPrice = dat[cols[0]].return; // Returns for 'price'\n",
    "        const returnFees = dat[cols[1]].return; // Returns for 'price_after_fees'\n",
    "\n",
    "        // Generate bar traces for both columns, always in the same order\n",
    "        const traces = [\n",
    "            {\n",
    "                x: tickers,\n",
    "                y: returnPrice.map(r => r[cols[0]]),\n",
    "                type: 'bar',\n",
    "                name: cols[0], // Label for 'price'\n",
    "                opacity: cost ? 0.3 : 0.6, // Fade when cost is True\n",
    "                marker: {\n",
    "                    line: { color: 'black', width: 1 }\n",
    "                }\n",
    "            },\n",
    "            {\n",
    "                x: tickers,\n",
    "                y: returnFees.map(r => r[cols[1]]),\n",
    "                type: 'bar',\n",
    "                name: cols[1], // Label for 'price_after_fees'\n",
    "                opacity: cost ? 0.6 : 0.3, // Fade when cost is False\n",
    "                marker: {\n",
    "                    line: { color: 'black', width: 1 }\n",
    "                }\n",
    "            }\n",
    "        ];\n",
    "\n",
    "        // Set title dynamically based on compare switch\n",
    "        let title;\n",
    "        if (compare) {\n",
    "            const dates = dat[sel].index;\n",
    "            const dt0 = new Date(Math.min(...dates.map(d => new Date(d).getTime()))).toISOString().slice(0, 10);\n",
    "            const dt1 = new Date(Math.max(...dates.map(d => new Date(d).getTime()))).toISOString().slice(0, 10);\n",
    "            title = `펀드 연평균 수익률 (${dt0} ~ ${dt1})`;\n",
    "        } else {\n",
    "            title = '펀드 연평균 수익률 (펀드별 설정일 이후)';\n",
    "        }\n",
    "\n",
    "        return {\n",
    "            data: traces,\n",
    "            layout: {\n",
    "                title: { text: title, x: 0 }, // Align title to the left\n",
    "                //xaxis: { title: 'Tickers' },\n",
    "                yaxis: { title: '연평균 수익률 (%)' },\n",
    "                barmode: 'group', // Grouped bar chart\n",
    "                //height: 400,\n",
    "                hovermode: 'x',\n",
    "                //hovertemplate='%{y:.0f}%',\n",
    "                responsive: true\n",
    "            }\n",
    "        };\n",
    "    }\n",
    "    \"\"\",\n",
    "    Output('return-plot', 'figure'),\n",
    "    Input('price-data', 'data'),\n",
    "    Input('cost-boolean-switch', 'on'),\n",
    "    Input('compare-boolean-switch', 'on')\n",
    ")\n",
    "\n",
    "\n",
    "if __name__ == '__main__':\n",
    "    app.run_server(debug=False)"
   ]
  },
  {
   "cell_type": "code",
   "execution_count": null,
   "id": "5ac50823-379c-427a-bcc3-f80adfd638c6",
   "metadata": {},
   "outputs": [],
   "source": []
  },
  {
   "cell_type": "code",
   "execution_count": null,
   "id": "339edd96-dd7e-4eed-87b0-4b557ab7474e",
   "metadata": {},
   "outputs": [],
   "source": []
  },
  {
   "cell_type": "code",
   "execution_count": null,
   "id": "e85be509-4604-469d-8dce-e122d4c2c166",
   "metadata": {},
   "outputs": [],
   "source": []
  },
  {
   "cell_type": "code",
   "execution_count": null,
   "id": "0179f575-b0f5-48df-bd84-2a626332acea",
   "metadata": {},
   "outputs": [],
   "source": []
  },
  {
   "cell_type": "code",
   "execution_count": null,
   "id": "0e951f2f-1e32-425c-bf6d-0cf169df5284",
   "metadata": {},
   "outputs": [],
   "source": []
  },
  {
   "cell_type": "markdown",
   "id": "00c7f75f-563e-40c6-a5dc-1ca367b05913",
   "metadata": {},
   "source": [
    "## testing"
   ]
  },
  {
   "cell_type": "code",
   "execution_count": 6,
   "id": "391989df-ddf4-4648-8859-491299a40ae7",
   "metadata": {},
   "outputs": [
    {
     "data": {
      "application/vnd.plotly.v1+json": {
       "config": {
        "plotlyServerURL": "https://plot.ly"
       },
       "data": [
        {
         "mode": "lines",
         "name": "IBK로우코스트TDF2055증권자투자신탁[혼합-재간접형]종류C-Re",
         "showlegend": true,
         "type": "scatter",
         "x": [
          "2021-04-30",
          "2021-05-31",
          "2021-06-30",
          "2021-07-31",
          "2021-08-31",
          "2021-09-30",
          "2021-10-31",
          "2021-11-30",
          "2021-12-31",
          "2022-01-31",
          "2022-02-28",
          "2022-03-31",
          "2022-04-30",
          "2022-05-31",
          "2022-06-30",
          "2022-07-31",
          "2022-08-31",
          "2022-09-30",
          "2022-10-31",
          "2022-11-30",
          "2022-12-31",
          "2023-01-31",
          "2023-02-28",
          "2023-03-31",
          "2023-04-30",
          "2023-05-31",
          "2023-06-30",
          "2023-07-31",
          "2023-08-31",
          "2023-09-30",
          "2023-10-31",
          "2023-11-30",
          "2023-12-31",
          "2024-01-31",
          "2024-02-29",
          "2024-03-31",
          "2024-04-30",
          "2024-05-31",
          "2024-06-30",
          "2024-07-31",
          "2024-08-31",
          "2024-09-30",
          "2024-10-31",
          "2024-11-29"
         ],
         "y": [
          1000,
          1011,
          1032,
          1050,
          1077,
          1060,
          1080,
          1083,
          1110,
          1054,
          1038,
          1081,
          1036,
          1023,
          989,
          1019,
          1037,
          1007,
          1014,
          1018,
          966,
          1012,
          1032,
          1035,
          1068,
          1072,
          1094,
          1095,
          1108,
          1086,
          1045,
          1095,
          1144,
          1175,
          1200,
          1244,
          1237,
          1266,
          1294,
          1300,
          1299,
          1322,
          1349,
          1360
         ]
        }
       ],
       "layout": {
        "autosize": true,
        "hovermode": "x",
        "template": {
         "data": {
          "bar": [
           {
            "error_x": {
             "color": "#2a3f5f"
            },
            "error_y": {
             "color": "#2a3f5f"
            },
            "marker": {
             "line": {
              "color": "#E5ECF6",
              "width": 0.5
             },
             "pattern": {
              "fillmode": "overlay",
              "size": 10,
              "solidity": 0.2
             }
            },
            "type": "bar"
           }
          ],
          "barpolar": [
           {
            "marker": {
             "line": {
              "color": "#E5ECF6",
              "width": 0.5
             },
             "pattern": {
              "fillmode": "overlay",
              "size": 10,
              "solidity": 0.2
             }
            },
            "type": "barpolar"
           }
          ],
          "carpet": [
           {
            "aaxis": {
             "endlinecolor": "#2a3f5f",
             "gridcolor": "white",
             "linecolor": "white",
             "minorgridcolor": "white",
             "startlinecolor": "#2a3f5f"
            },
            "baxis": {
             "endlinecolor": "#2a3f5f",
             "gridcolor": "white",
             "linecolor": "white",
             "minorgridcolor": "white",
             "startlinecolor": "#2a3f5f"
            },
            "type": "carpet"
           }
          ],
          "choropleth": [
           {
            "colorbar": {
             "outlinewidth": 0,
             "ticks": ""
            },
            "type": "choropleth"
           }
          ],
          "contour": [
           {
            "colorbar": {
             "outlinewidth": 0,
             "ticks": ""
            },
            "colorscale": [
             [
              0,
              "#0d0887"
             ],
             [
              0.1111111111111111,
              "#46039f"
             ],
             [
              0.2222222222222222,
              "#7201a8"
             ],
             [
              0.3333333333333333,
              "#9c179e"
             ],
             [
              0.4444444444444444,
              "#bd3786"
             ],
             [
              0.5555555555555556,
              "#d8576b"
             ],
             [
              0.6666666666666666,
              "#ed7953"
             ],
             [
              0.7777777777777778,
              "#fb9f3a"
             ],
             [
              0.8888888888888888,
              "#fdca26"
             ],
             [
              1,
              "#f0f921"
             ]
            ],
            "type": "contour"
           }
          ],
          "contourcarpet": [
           {
            "colorbar": {
             "outlinewidth": 0,
             "ticks": ""
            },
            "type": "contourcarpet"
           }
          ],
          "heatmap": [
           {
            "colorbar": {
             "outlinewidth": 0,
             "ticks": ""
            },
            "colorscale": [
             [
              0,
              "#0d0887"
             ],
             [
              0.1111111111111111,
              "#46039f"
             ],
             [
              0.2222222222222222,
              "#7201a8"
             ],
             [
              0.3333333333333333,
              "#9c179e"
             ],
             [
              0.4444444444444444,
              "#bd3786"
             ],
             [
              0.5555555555555556,
              "#d8576b"
             ],
             [
              0.6666666666666666,
              "#ed7953"
             ],
             [
              0.7777777777777778,
              "#fb9f3a"
             ],
             [
              0.8888888888888888,
              "#fdca26"
             ],
             [
              1,
              "#f0f921"
             ]
            ],
            "type": "heatmap"
           }
          ],
          "heatmapgl": [
           {
            "colorbar": {
             "outlinewidth": 0,
             "ticks": ""
            },
            "colorscale": [
             [
              0,
              "#0d0887"
             ],
             [
              0.1111111111111111,
              "#46039f"
             ],
             [
              0.2222222222222222,
              "#7201a8"
             ],
             [
              0.3333333333333333,
              "#9c179e"
             ],
             [
              0.4444444444444444,
              "#bd3786"
             ],
             [
              0.5555555555555556,
              "#d8576b"
             ],
             [
              0.6666666666666666,
              "#ed7953"
             ],
             [
              0.7777777777777778,
              "#fb9f3a"
             ],
             [
              0.8888888888888888,
              "#fdca26"
             ],
             [
              1,
              "#f0f921"
             ]
            ],
            "type": "heatmapgl"
           }
          ],
          "histogram": [
           {
            "marker": {
             "pattern": {
              "fillmode": "overlay",
              "size": 10,
              "solidity": 0.2
             }
            },
            "type": "histogram"
           }
          ],
          "histogram2d": [
           {
            "colorbar": {
             "outlinewidth": 0,
             "ticks": ""
            },
            "colorscale": [
             [
              0,
              "#0d0887"
             ],
             [
              0.1111111111111111,
              "#46039f"
             ],
             [
              0.2222222222222222,
              "#7201a8"
             ],
             [
              0.3333333333333333,
              "#9c179e"
             ],
             [
              0.4444444444444444,
              "#bd3786"
             ],
             [
              0.5555555555555556,
              "#d8576b"
             ],
             [
              0.6666666666666666,
              "#ed7953"
             ],
             [
              0.7777777777777778,
              "#fb9f3a"
             ],
             [
              0.8888888888888888,
              "#fdca26"
             ],
             [
              1,
              "#f0f921"
             ]
            ],
            "type": "histogram2d"
           }
          ],
          "histogram2dcontour": [
           {
            "colorbar": {
             "outlinewidth": 0,
             "ticks": ""
            },
            "colorscale": [
             [
              0,
              "#0d0887"
             ],
             [
              0.1111111111111111,
              "#46039f"
             ],
             [
              0.2222222222222222,
              "#7201a8"
             ],
             [
              0.3333333333333333,
              "#9c179e"
             ],
             [
              0.4444444444444444,
              "#bd3786"
             ],
             [
              0.5555555555555556,
              "#d8576b"
             ],
             [
              0.6666666666666666,
              "#ed7953"
             ],
             [
              0.7777777777777778,
              "#fb9f3a"
             ],
             [
              0.8888888888888888,
              "#fdca26"
             ],
             [
              1,
              "#f0f921"
             ]
            ],
            "type": "histogram2dcontour"
           }
          ],
          "mesh3d": [
           {
            "colorbar": {
             "outlinewidth": 0,
             "ticks": ""
            },
            "type": "mesh3d"
           }
          ],
          "parcoords": [
           {
            "line": {
             "colorbar": {
              "outlinewidth": 0,
              "ticks": ""
             }
            },
            "type": "parcoords"
           }
          ],
          "pie": [
           {
            "automargin": true,
            "type": "pie"
           }
          ],
          "scatter": [
           {
            "fillpattern": {
             "fillmode": "overlay",
             "size": 10,
             "solidity": 0.2
            },
            "type": "scatter"
           }
          ],
          "scatter3d": [
           {
            "line": {
             "colorbar": {
              "outlinewidth": 0,
              "ticks": ""
             }
            },
            "marker": {
             "colorbar": {
              "outlinewidth": 0,
              "ticks": ""
             }
            },
            "type": "scatter3d"
           }
          ],
          "scattercarpet": [
           {
            "marker": {
             "colorbar": {
              "outlinewidth": 0,
              "ticks": ""
             }
            },
            "type": "scattercarpet"
           }
          ],
          "scattergeo": [
           {
            "marker": {
             "colorbar": {
              "outlinewidth": 0,
              "ticks": ""
             }
            },
            "type": "scattergeo"
           }
          ],
          "scattergl": [
           {
            "marker": {
             "colorbar": {
              "outlinewidth": 0,
              "ticks": ""
             }
            },
            "type": "scattergl"
           }
          ],
          "scattermapbox": [
           {
            "marker": {
             "colorbar": {
              "outlinewidth": 0,
              "ticks": ""
             }
            },
            "type": "scattermapbox"
           }
          ],
          "scatterpolar": [
           {
            "marker": {
             "colorbar": {
              "outlinewidth": 0,
              "ticks": ""
             }
            },
            "type": "scatterpolar"
           }
          ],
          "scatterpolargl": [
           {
            "marker": {
             "colorbar": {
              "outlinewidth": 0,
              "ticks": ""
             }
            },
            "type": "scatterpolargl"
           }
          ],
          "scatterternary": [
           {
            "marker": {
             "colorbar": {
              "outlinewidth": 0,
              "ticks": ""
             }
            },
            "type": "scatterternary"
           }
          ],
          "surface": [
           {
            "colorbar": {
             "outlinewidth": 0,
             "ticks": ""
            },
            "colorscale": [
             [
              0,
              "#0d0887"
             ],
             [
              0.1111111111111111,
              "#46039f"
             ],
             [
              0.2222222222222222,
              "#7201a8"
             ],
             [
              0.3333333333333333,
              "#9c179e"
             ],
             [
              0.4444444444444444,
              "#bd3786"
             ],
             [
              0.5555555555555556,
              "#d8576b"
             ],
             [
              0.6666666666666666,
              "#ed7953"
             ],
             [
              0.7777777777777778,
              "#fb9f3a"
             ],
             [
              0.8888888888888888,
              "#fdca26"
             ],
             [
              1,
              "#f0f921"
             ]
            ],
            "type": "surface"
           }
          ],
          "table": [
           {
            "cells": {
             "fill": {
              "color": "#EBF0F8"
             },
             "line": {
              "color": "white"
             }
            },
            "header": {
             "fill": {
              "color": "#C8D4E3"
             },
             "line": {
              "color": "white"
             }
            },
            "type": "table"
           }
          ]
         },
         "layout": {
          "annotationdefaults": {
           "arrowcolor": "#2a3f5f",
           "arrowhead": 0,
           "arrowwidth": 1
          },
          "autotypenumbers": "strict",
          "coloraxis": {
           "colorbar": {
            "outlinewidth": 0,
            "ticks": ""
           }
          },
          "colorscale": {
           "diverging": [
            [
             0,
             "#8e0152"
            ],
            [
             0.1,
             "#c51b7d"
            ],
            [
             0.2,
             "#de77ae"
            ],
            [
             0.3,
             "#f1b6da"
            ],
            [
             0.4,
             "#fde0ef"
            ],
            [
             0.5,
             "#f7f7f7"
            ],
            [
             0.6,
             "#e6f5d0"
            ],
            [
             0.7,
             "#b8e186"
            ],
            [
             0.8,
             "#7fbc41"
            ],
            [
             0.9,
             "#4d9221"
            ],
            [
             1,
             "#276419"
            ]
           ],
           "sequential": [
            [
             0,
             "#0d0887"
            ],
            [
             0.1111111111111111,
             "#46039f"
            ],
            [
             0.2222222222222222,
             "#7201a8"
            ],
            [
             0.3333333333333333,
             "#9c179e"
            ],
            [
             0.4444444444444444,
             "#bd3786"
            ],
            [
             0.5555555555555556,
             "#d8576b"
            ],
            [
             0.6666666666666666,
             "#ed7953"
            ],
            [
             0.7777777777777778,
             "#fb9f3a"
            ],
            [
             0.8888888888888888,
             "#fdca26"
            ],
            [
             1,
             "#f0f921"
            ]
           ],
           "sequentialminus": [
            [
             0,
             "#0d0887"
            ],
            [
             0.1111111111111111,
             "#46039f"
            ],
            [
             0.2222222222222222,
             "#7201a8"
            ],
            [
             0.3333333333333333,
             "#9c179e"
            ],
            [
             0.4444444444444444,
             "#bd3786"
            ],
            [
             0.5555555555555556,
             "#d8576b"
            ],
            [
             0.6666666666666666,
             "#ed7953"
            ],
            [
             0.7777777777777778,
             "#fb9f3a"
            ],
            [
             0.8888888888888888,
             "#fdca26"
            ],
            [
             1,
             "#f0f921"
            ]
           ]
          },
          "colorway": [
           "#636efa",
           "#EF553B",
           "#00cc96",
           "#ab63fa",
           "#FFA15A",
           "#19d3f3",
           "#FF6692",
           "#B6E880",
           "#FF97FF",
           "#FECB52"
          ],
          "font": {
           "color": "#2a3f5f"
          },
          "geo": {
           "bgcolor": "white",
           "lakecolor": "white",
           "landcolor": "#E5ECF6",
           "showlakes": true,
           "showland": true,
           "subunitcolor": "white"
          },
          "hoverlabel": {
           "align": "left"
          },
          "hovermode": "closest",
          "mapbox": {
           "style": "light"
          },
          "paper_bgcolor": "white",
          "plot_bgcolor": "#E5ECF6",
          "polar": {
           "angularaxis": {
            "gridcolor": "white",
            "linecolor": "white",
            "ticks": ""
           },
           "bgcolor": "#E5ECF6",
           "radialaxis": {
            "gridcolor": "white",
            "linecolor": "white",
            "ticks": ""
           }
          },
          "scene": {
           "xaxis": {
            "backgroundcolor": "#E5ECF6",
            "gridcolor": "white",
            "gridwidth": 2,
            "linecolor": "white",
            "showbackground": true,
            "ticks": "",
            "zerolinecolor": "white"
           },
           "yaxis": {
            "backgroundcolor": "#E5ECF6",
            "gridcolor": "white",
            "gridwidth": 2,
            "linecolor": "white",
            "showbackground": true,
            "ticks": "",
            "zerolinecolor": "white"
           },
           "zaxis": {
            "backgroundcolor": "#E5ECF6",
            "gridcolor": "white",
            "gridwidth": 2,
            "linecolor": "white",
            "showbackground": true,
            "ticks": "",
            "zerolinecolor": "white"
           }
          },
          "shapedefaults": {
           "line": {
            "color": "#2a3f5f"
           }
          },
          "ternary": {
           "aaxis": {
            "gridcolor": "white",
            "linecolor": "white",
            "ticks": ""
           },
           "baxis": {
            "gridcolor": "white",
            "linecolor": "white",
            "ticks": ""
           },
           "bgcolor": "#E5ECF6",
           "caxis": {
            "gridcolor": "white",
            "linecolor": "white",
            "ticks": ""
           }
          },
          "title": {
           "x": 0.05
          },
          "xaxis": {
           "automargin": true,
           "gridcolor": "white",
           "linecolor": "white",
           "ticks": "",
           "title": {
            "standoff": 15
           },
           "zerolinecolor": "white",
           "zerolinewidth": 2
          },
          "yaxis": {
           "automargin": true,
           "gridcolor": "white",
           "linecolor": "white",
           "ticks": "",
           "title": {
            "standoff": 15
           },
           "zerolinecolor": "white",
           "zerolinewidth": 2
          }
         }
        },
        "title": {
         "text": "펀드 가격 추이 (상대 가격)",
         "x": 0
        },
        "xaxis": {
         "autorange": true,
         "range": [
          "2021-04-30",
          "2024-11-29"
         ],
         "type": "date"
        },
        "yaxis": {
         "autorange": true,
         "range": [
          944.1111111111111,
          1381.888888888889
         ],
         "type": "linear"
        }
       }
      },
      "image/png": "[encoded data removed]",
      "text/html": [
       "<div>                            <div id=\"edd3ec78-5f25-4563-a49c-924ffd4cfb72\" class=\"plotly-graph-div\" style=\"height:525px; width:100%;\"></div>            <script type=\"text/javascript\">                require([\"plotly\"], function(Plotly) {                    window.PLOTLYENV=window.PLOTLYENV || {};                                    if (document.getElementById(\"edd3ec78-5f25-4563-a49c-924ffd4cfb72\")) {                    Plotly.newPlot(                        \"edd3ec78-5f25-4563-a49c-924ffd4cfb72\",                        [{\"mode\":\"lines\",\"name\":\"IBK\\ub85c\\uc6b0\\ucf54\\uc2a4\\ud2b8TDF2055\\uc99d\\uad8c\\uc790\\ud22c\\uc790\\uc2e0\\ud0c1[\\ud63c\\ud569-\\uc7ac\\uac04\\uc811\\ud615]\\uc885\\ub958C-Re\",\"showlegend\":true,\"x\":[\"2021-04-30\",\"2021-05-31\",\"2021-06-30\",\"2021-07-31\",\"2021-08-31\",\"2021-09-30\",\"2021-10-31\",\"2021-11-30\",\"2021-12-31\",\"2022-01-31\",\"2022-02-28\",\"2022-03-31\",\"2022-04-30\",\"2022-05-31\",\"2022-06-30\",\"2022-07-31\",\"2022-08-31\",\"2022-09-30\",\"2022-10-31\",\"2022-11-30\",\"2022-12-31\",\"2023-01-31\",\"2023-02-28\",\"2023-03-31\",\"2023-04-30\",\"2023-05-31\",\"2023-06-30\",\"2023-07-31\",\"2023-08-31\",\"2023-09-30\",\"2023-10-31\",\"2023-11-30\",\"2023-12-31\",\"2024-01-31\",\"2024-02-29\",\"2024-03-31\",\"2024-04-30\",\"2024-05-31\",\"2024-06-30\",\"2024-07-31\",\"2024-08-31\",\"2024-09-30\",\"2024-10-31\",\"2024-11-29\"],\"y\":[1000.0,1011.0,1032.0,1050.0,1077.0,1060.0,1080.0,1083.0,1110.0,1054.0,1038.0,1081.0,1036.0,1023.0,989.0,1019.0,1037.0,1007.0,1014.0,1018.0,966.0,1012.0,1032.0,1035.0,1068.0,1072.0,1094.0,1095.0,1108.0,1086.0,1045.0,1095.0,1144.0,1175.0,1200.0,1244.0,1237.0,1266.0,1294.0,1300.0,1299.0,1322.0,1349.0,1360.0],\"type\":\"scatter\"}],                        {\"hovermode\":\"x\",\"title\":{\"text\":\"\\ud380\\ub4dc \\uac00\\uaca9 \\ucd94\\uc774 (\\uc0c1\\ub300 \\uac00\\uaca9)\",\"x\":0},\"template\":{\"data\":{\"histogram2dcontour\":[{\"type\":\"histogram2dcontour\",\"colorbar\":{\"outlinewidth\":0,\"ticks\":\"\"},\"colorscale\":[[0.0,\"#0d0887\"],[0.1111111111111111,\"#46039f\"],[0.2222222222222222,\"#7201a8\"],[0.3333333333333333,\"#9c179e\"],[0.4444444444444444,\"#bd3786\"],[0.5555555555555556,\"#d8576b\"],[0.6666666666666666,\"#ed7953\"],[0.7777777777777778,\"#fb9f3a\"],[0.8888888888888888,\"#fdca26\"],[1.0,\"#f0f921\"]]}],\"choropleth\":[{\"type\":\"choropleth\",\"colorbar\":{\"outlinewidth\":0,\"ticks\":\"\"}}],\"histogram2d\":[{\"type\":\"histogram2d\",\"colorbar\":{\"outlinewidth\":0,\"ticks\":\"\"},\"colorscale\":[[0.0,\"#0d0887\"],[0.1111111111111111,\"#46039f\"],[0.2222222222222222,\"#7201a8\"],[0.3333333333333333,\"#9c179e\"],[0.4444444444444444,\"#bd3786\"],[0.5555555555555556,\"#d8576b\"],[0.6666666666666666,\"#ed7953\"],[0.7777777777777778,\"#fb9f3a\"],[0.8888888888888888,\"#fdca26\"],[1.0,\"#f0f921\"]]}],\"heatmap\":[{\"type\":\"heatmap\",\"colorbar\":{\"outlinewidth\":0,\"ticks\":\"\"},\"colorscale\":[[0.0,\"#0d0887\"],[0.1111111111111111,\"#46039f\"],[0.2222222222222222,\"#7201a8\"],[0.3333333333333333,\"#9c179e\"],[0.4444444444444444,\"#bd3786\"],[0.5555555555555556,\"#d8576b\"],[0.6666666666666666,\"#ed7953\"],[0.7777777777777778,\"#fb9f3a\"],[0.8888888888888888,\"#fdca26\"],[1.0,\"#f0f921\"]]}],\"heatmapgl\":[{\"type\":\"heatmapgl\",\"colorbar\":{\"outlinewidth\":0,\"ticks\":\"\"},\"colorscale\":[[0.0,\"#0d0887\"],[0.1111111111111111,\"#46039f\"],[0.2222222222222222,\"#7201a8\"],[0.3333333333333333,\"#9c179e\"],[0.4444444444444444,\"#bd3786\"],[0.5555555555555556,\"#d8576b\"],[0.6666666666666666,\"#ed7953\"],[0.7777777777777778,\"#fb9f3a\"],[0.8888888888888888,\"#fdca26\"],[1.0,\"#f0f921\"]]}],\"contourcarpet\":[{\"type\":\"contourcarpet\",\"colorbar\":{\"outlinewidth\":0,\"ticks\":\"\"}}],\"contour\":[{\"type\":\"contour\",\"colorbar\":{\"outlinewidth\":0,\"ticks\":\"\"},\"colorscale\":[[0.0,\"#0d0887\"],[0.1111111111111111,\"#46039f\"],[0.2222222222222222,\"#7201a8\"],[0.3333333333333333,\"#9c179e\"],[0.4444444444444444,\"#bd3786\"],[0.5555555555555556,\"#d8576b\"],[0.6666666666666666,\"#ed7953\"],[0.7777777777777778,\"#fb9f3a\"],[0.8888888888888888,\"#fdca26\"],[1.0,\"#f0f921\"]]}],\"surface\":[{\"type\":\"surface\",\"colorbar\":{\"outlinewidth\":0,\"ticks\":\"\"},\"colorscale\":[[0.0,\"#0d0887\"],[0.1111111111111111,\"#46039f\"],[0.2222222222222222,\"#7201a8\"],[0.3333333333333333,\"#9c179e\"],[0.4444444444444444,\"#bd3786\"],[0.5555555555555556,\"#d8576b\"],[0.6666666666666666,\"#ed7953\"],[0.7777777777777778,\"#fb9f3a\"],[0.8888888888888888,\"#fdca26\"],[1.0,\"#f0f921\"]]}],\"mesh3d\":[{\"type\":\"mesh3d\",\"colorbar\":{\"outlinewidth\":0,\"ticks\":\"\"}}],\"scatter\":[{\"fillpattern\":{\"fillmode\":\"overlay\",\"size\":10,\"solidity\":0.2},\"type\":\"scatter\"}],\"parcoords\":[{\"type\":\"parcoords\",\"line\":{\"colorbar\":{\"outlinewidth\":0,\"ticks\":\"\"}}}],\"scatterpolargl\":[{\"type\":\"scatterpolargl\",\"marker\":{\"colorbar\":{\"outlinewidth\":0,\"ticks\":\"\"}}}],\"bar\":[{\"error_x\":{\"color\":\"#2a3f5f\"},\"error_y\":{\"color\":\"#2a3f5f\"},\"marker\":{\"line\":{\"color\":\"#E5ECF6\",\"width\":0.5},\"pattern\":{\"fillmode\":\"overlay\",\"size\":10,\"solidity\":0.2}},\"type\":\"bar\"}],\"scattergeo\":[{\"type\":\"scattergeo\",\"marker\":{\"colorbar\":{\"outlinewidth\":0,\"ticks\":\"\"}}}],\"scatterpolar\":[{\"type\":\"scatterpolar\",\"marker\":{\"colorbar\":{\"outlinewidth\":0,\"ticks\":\"\"}}}],\"histogram\":[{\"marker\":{\"pattern\":{\"fillmode\":\"overlay\",\"size\":10,\"solidity\":0.2}},\"type\":\"histogram\"}],\"scattergl\":[{\"type\":\"scattergl\",\"marker\":{\"colorbar\":{\"outlinewidth\":0,\"ticks\":\"\"}}}],\"scatter3d\":[{\"type\":\"scatter3d\",\"line\":{\"colorbar\":{\"outlinewidth\":0,\"ticks\":\"\"}},\"marker\":{\"colorbar\":{\"outlinewidth\":0,\"ticks\":\"\"}}}],\"scattermapbox\":[{\"type\":\"scattermapbox\",\"marker\":{\"colorbar\":{\"outlinewidth\":0,\"ticks\":\"\"}}}],\"scatterternary\":[{\"type\":\"scatterternary\",\"marker\":{\"colorbar\":{\"outlinewidth\":0,\"ticks\":\"\"}}}],\"scattercarpet\":[{\"type\":\"scattercarpet\",\"marker\":{\"colorbar\":{\"outlinewidth\":0,\"ticks\":\"\"}}}],\"carpet\":[{\"aaxis\":{\"endlinecolor\":\"#2a3f5f\",\"gridcolor\":\"white\",\"linecolor\":\"white\",\"minorgridcolor\":\"white\",\"startlinecolor\":\"#2a3f5f\"},\"baxis\":{\"endlinecolor\":\"#2a3f5f\",\"gridcolor\":\"white\",\"linecolor\":\"white\",\"minorgridcolor\":\"white\",\"startlinecolor\":\"#2a3f5f\"},\"type\":\"carpet\"}],\"table\":[{\"cells\":{\"fill\":{\"color\":\"#EBF0F8\"},\"line\":{\"color\":\"white\"}},\"header\":{\"fill\":{\"color\":\"#C8D4E3\"},\"line\":{\"color\":\"white\"}},\"type\":\"table\"}],\"barpolar\":[{\"marker\":{\"line\":{\"color\":\"#E5ECF6\",\"width\":0.5},\"pattern\":{\"fillmode\":\"overlay\",\"size\":10,\"solidity\":0.2}},\"type\":\"barpolar\"}],\"pie\":[{\"automargin\":true,\"type\":\"pie\"}]},\"layout\":{\"autotypenumbers\":\"strict\",\"colorway\":[\"#636efa\",\"#EF553B\",\"#00cc96\",\"#ab63fa\",\"#FFA15A\",\"#19d3f3\",\"#FF6692\",\"#B6E880\",\"#FF97FF\",\"#FECB52\"],\"font\":{\"color\":\"#2a3f5f\"},\"hovermode\":\"closest\",\"hoverlabel\":{\"align\":\"left\"},\"paper_bgcolor\":\"white\",\"plot_bgcolor\":\"#E5ECF6\",\"polar\":{\"bgcolor\":\"#E5ECF6\",\"angularaxis\":{\"gridcolor\":\"white\",\"linecolor\":\"white\",\"ticks\":\"\"},\"radialaxis\":{\"gridcolor\":\"white\",\"linecolor\":\"white\",\"ticks\":\"\"}},\"ternary\":{\"bgcolor\":\"#E5ECF6\",\"aaxis\":{\"gridcolor\":\"white\",\"linecolor\":\"white\",\"ticks\":\"\"},\"baxis\":{\"gridcolor\":\"white\",\"linecolor\":\"white\",\"ticks\":\"\"},\"caxis\":{\"gridcolor\":\"white\",\"linecolor\":\"white\",\"ticks\":\"\"}},\"coloraxis\":{\"colorbar\":{\"outlinewidth\":0,\"ticks\":\"\"}},\"colorscale\":{\"sequential\":[[0.0,\"#0d0887\"],[0.1111111111111111,\"#46039f\"],[0.2222222222222222,\"#7201a8\"],[0.3333333333333333,\"#9c179e\"],[0.4444444444444444,\"#bd3786\"],[0.5555555555555556,\"#d8576b\"],[0.6666666666666666,\"#ed7953\"],[0.7777777777777778,\"#fb9f3a\"],[0.8888888888888888,\"#fdca26\"],[1.0,\"#f0f921\"]],\"sequentialminus\":[[0.0,\"#0d0887\"],[0.1111111111111111,\"#46039f\"],[0.2222222222222222,\"#7201a8\"],[0.3333333333333333,\"#9c179e\"],[0.4444444444444444,\"#bd3786\"],[0.5555555555555556,\"#d8576b\"],[0.6666666666666666,\"#ed7953\"],[0.7777777777777778,\"#fb9f3a\"],[0.8888888888888888,\"#fdca26\"],[1.0,\"#f0f921\"]],\"diverging\":[[0,\"#8e0152\"],[0.1,\"#c51b7d\"],[0.2,\"#de77ae\"],[0.3,\"#f1b6da\"],[0.4,\"#fde0ef\"],[0.5,\"#f7f7f7\"],[0.6,\"#e6f5d0\"],[0.7,\"#b8e186\"],[0.8,\"#7fbc41\"],[0.9,\"#4d9221\"],[1,\"#276419\"]]},\"xaxis\":{\"gridcolor\":\"white\",\"linecolor\":\"white\",\"ticks\":\"\",\"title\":{\"standoff\":15},\"zerolinecolor\":\"white\",\"automargin\":true,\"zerolinewidth\":2},\"yaxis\":{\"gridcolor\":\"white\",\"linecolor\":\"white\",\"ticks\":\"\",\"title\":{\"standoff\":15},\"zerolinecolor\":\"white\",\"automargin\":true,\"zerolinewidth\":2},\"scene\":{\"xaxis\":{\"backgroundcolor\":\"#E5ECF6\",\"gridcolor\":\"white\",\"linecolor\":\"white\",\"showbackground\":true,\"ticks\":\"\",\"zerolinecolor\":\"white\",\"gridwidth\":2},\"yaxis\":{\"backgroundcolor\":\"#E5ECF6\",\"gridcolor\":\"white\",\"linecolor\":\"white\",\"showbackground\":true,\"ticks\":\"\",\"zerolinecolor\":\"white\",\"gridwidth\":2},\"zaxis\":{\"backgroundcolor\":\"#E5ECF6\",\"gridcolor\":\"white\",\"linecolor\":\"white\",\"showbackground\":true,\"ticks\":\"\",\"zerolinecolor\":\"white\",\"gridwidth\":2}},\"shapedefaults\":{\"line\":{\"color\":\"#2a3f5f\"}},\"annotationdefaults\":{\"arrowcolor\":\"#2a3f5f\",\"arrowhead\":0,\"arrowwidth\":1},\"geo\":{\"bgcolor\":\"white\",\"landcolor\":\"#E5ECF6\",\"subunitcolor\":\"white\",\"showland\":true,\"showlakes\":true,\"lakecolor\":\"white\"},\"title\":{\"x\":0.05},\"mapbox\":{\"style\":\"light\"}}}},                        {\"responsive\": true}                    ).then(function(){\n",
       "                            \n",
       "var gd = document.getElementById('edd3ec78-5f25-4563-a49c-924ffd4cfb72');\n",
       "var x = new MutationObserver(function (mutations, observer) {{\n",
       "        var display = window.getComputedStyle(gd).display;\n",
       "        if (!display || display === 'none') {{\n",
       "            console.log([gd, 'removed!']);\n",
       "            Plotly.purge(gd);\n",
       "            observer.disconnect();\n",
       "        }}\n",
       "}});\n",
       "\n",
       "// Listen for the removal of the full notebook cells\n",
       "var notebookContainer = gd.closest('#notebook-container');\n",
       "if (notebookContainer) {{\n",
       "    x.observe(notebookContainer, {childList: true});\n",
       "}}\n",
       "\n",
       "// Listen for the clearing of the current output cell\n",
       "var outputEl = gd.closest('.output');\n",
       "if (outputEl) {{\n",
       "    x.observe(outputEl, {childList: true});\n",
       "}}\n",
       "\n",
       "                        })                };                });            </script>        </div>"
      ]
     },
     "metadata": {},
     "output_type": "display_data"
    }
   ],
   "source": [
    "import plotly.graph_objects as go\n",
    "\n",
    "def generate_plot(data, cost=False, compare=False):\n",
    "    if not data or 'columns' not in data:\n",
    "        return {'data': [], 'layout': {'title': 'No Data Available', 'height': 300}}\n",
    "    \n",
    "    cols = data['columns']  # Columns: ['price', 'price_after_fees']\n",
    "    col = cols[1] if cost else cols[0]  # Select the column based on cost\n",
    "    kind = 'compare' if compare else 'default'  # Default or compare data\n",
    "    dat = data[kind][col]\n",
    "    \n",
    "    if not dat or 'history' not in dat or 'index' not in dat:\n",
    "        return {'data': [], 'layout': {'title': 'No Data Available', 'height': 300}}\n",
    "    \n",
    "    # Prepare data for each ticker\n",
    "    traces = []\n",
    "    for ticker in dat['history'][0].keys():\n",
    "        y_values = [row[ticker] for row in dat['history']]\n",
    "        traces.append(go.Scatter(\n",
    "            x=dat['index'],        # Dates from the index\n",
    "            y=y_values,            # Price history for each ticker\n",
    "            mode='lines',\n",
    "            name=ticker ,           # Ticker as the legend name\n",
    "            showlegend=True\n",
    "        ))\n",
    "\n",
    "    # Title logic\n",
    "    title_base = '펀드 가격 추이'\n",
    "    title_comp = '상대 가격' if compare else '펀드별 최근 결산 기준가격으로 계산'\n",
    "    title_cost = '수수료 적용' if cost else None\n",
    "\n",
    "    title = f\"{title_base} ({title_comp}\"\n",
    "    title = f\"{title}, {title_cost})\" if title_cost else f\"{title})\"\n",
    "    \n",
    "    layout = go.Layout(\n",
    "        title={'text': title, 'x': 0},\n",
    "        hovermode='x',\n",
    "    )\n",
    "    \n",
    "    return {'data': traces, 'layout': layout}\n",
    "\n",
    "\n",
    "i = 2055\n",
    "data = preprocessed_data[i]\n",
    "result = generate_plot(data, cost=False, compare=True)\n",
    "go.Figure(**result)"
   ]
  },
  {
   "cell_type": "code",
   "execution_count": null,
   "id": "e2aececf-2bfe-4e57-8c6a-cf3375cb9150",
   "metadata": {},
   "outputs": [],
   "source": []
  },
  {
   "cell_type": "markdown",
   "id": "06b8bd12-9b9c-4d59-8606-a716b8ffb896",
   "metadata": {},
   "source": [
    "## testing"
   ]
  },
  {
   "cell_type": "code",
   "execution_count": 4,
   "id": "f86ddb83-082a-46c8-a471-9c344ff941cd",
   "metadata": {},
   "outputs": [],
   "source": [
    "import pandas as pd"
   ]
  },
  {
   "cell_type": "code",
   "execution_count": 7,
   "id": "52c82770-3bc5-4f19-91f2-ed569d0ca80b",
   "metadata": {
    "scrolled": true
   },
   "outputs": [
    {
     "data": {
      "text/plain": [
       "{'K55234DF2657': 'IBK로우코스트TDF2030증권자투자신탁[혼합-재간접형]종류C-Re',\n",
       " 'K55234DF2459': 'IBK로우코스트TDF2035증권자투자신탁[혼합-재간접형]종류C-Re',\n",
       " 'K55301BU6139': '미래에셋전략배분TDF2035혼합자산자투자신탁종류C-P2e',\n",
       " 'K55105BU1161': '삼성한국형TDF2030증권투자신탁H[주식혼합-재간접형]Cpe(퇴직연금)',\n",
       " 'K55210BU2385': '신한마음편한TDF2030증권투자신탁[주식혼합-재간접형](종류C-re)',\n",
       " 'K55206C95800': '키움키워드림TDF2030증권투자신탁 1[혼합-재간접형]C-P2e(퇴직연금)',\n",
       " 'K55210BU2435': '신한마음편한TDF2040증권투자신탁[주식혼합-재간접형](종류C-re)',\n",
       " 'K55213C51890': '한화LIFEPLUSTDF2040증권자투자신탁(혼합-재간접형)C-RPe(퇴직연금)',\n",
       " 'K55223BT1450': 'KB온국민TDF2040증권투자신탁(주식혼합-재간접형)C-퇴직e',\n",
       " 'K55105BS5067': '삼성한국형TDF2040증권투자신탁H[주식혼합-재간접형]C-Pe',\n",
       " 'K55101BY3944': '한국투자TIF알아서평생소득증권자투자신탁(채권혼합-재간접형)(C-Re)',\n",
       " 'K55301BU5453': '미래에셋평생소득TIF혼합자산자투자신탁종류C-P2e',\n",
       " 'K55301BU5479': '미래에셋전략배분TDF2045혼합자산자투자신탁 종류C-P2e',\n",
       " 'K55210BU2450': '신한마음편한TDF2045증권투자신탁[주식혼합-재간접형](종류C-re)',\n",
       " 'K55206C96311': '키움키워드림TDF2045증권투자신탁 1[혼합-재간접형]C-P2e(퇴직연금)',\n",
       " 'KR5223AE3357': 'kb퇴직연금배당증권자투자신탁(주식)C-E',\n",
       " 'K55365BT3694': 'kcgi코리아퇴직연금증권자투자신탁(주식)종류C-Pe2',\n",
       " 'K55207BU0715': '교보악사파워인덱스증권자투자신탁1호(주식)C-Pe',\n",
       " 'K55203C53681': '대신KOSPI200인덱스증권자투자신탁(주식-파생형)CPe',\n",
       " 'K55234CJ0997': 'IBK플레인바닐라EMP증권투자신탁(혼합-재간접형)C-Re',\n",
       " 'K55301BU6253': '미래에셋전략배분TDF2040혼합자산자투자신탁 종류C-P2e',\n",
       " 'K55101BT7397': '한국투자TDF알아서2040증권투자신탁(주식혼합-재간접형)(C-Re)',\n",
       " 'K55364CF7048': '에셋플러스슈퍼아시아리치투게더증권자투자신탁 1(주식)종류C-P2e',\n",
       " 'K55303BT4176': '마이다스아시아리더스성장주연금증권자투자신탁(UH)(주식)C-Pe2',\n",
       " 'K55234BY9966': 'IBK베트남플러스아시아증권투자신탁[주식]종류C-Re',\n",
       " 'K55235BW6799': '피델리티아시아증권자투자신탁(주식)CP-e',\n",
       " 'KR5101888398': '한국투자크레딧포커스ESG증권자투자신탁 1(채권)(C-e)',\n",
       " 'KR5236AS4826': '한국밸류10년투자증권투자신탁 1(채권혼합)종류C-E',\n",
       " 'KR5370AP9956': 'AB글로벌고수익증권투자신탁(채권-재간접형)종류형Ce',\n",
       " 'K55306CV9946': '다올글로벌멀티에셋인컴EMP증권자투자신탁[혼합-재간접형](공)종류Ce',\n",
       " 'K55105BH1010': '삼성클래식아세안연금증권전환형자투자신탁 1[주식]_Ce',\n",
       " 'K55301BM7459': '미래에셋전략배분TDF2040혼합자산자투자신탁 종류C-Pe',\n",
       " 'K55301BM7640': '미래에셋전략배분TDF2035혼합자산자투자신탁 종류C-Pe',\n",
       " 'K55213C51049': '한화LIFEPLUSTDF2030증권자투자신탁(혼합-재간접형)종류C-PE(연금저축)',\n",
       " 'K55301BM7731': '미래에셋전략배분TDF2030혼합자산자투자신탁 종류C-Pe',\n",
       " 'K55101BT4394': '한국투자TDF알아서2030증권투자신탁(주식혼합-재간접형)(C-Pe)',\n",
       " 'K55105BS2072': '삼성한국형TDF2030증권투자신탁H[주식혼합-재간접형]C-Pe',\n",
       " 'K55213C51262': '한화LIFEPLUSTDF2025증권자투자신탁(혼합-재간접형)종류C-PE(연금저축)',\n",
       " 'K55301BM8051': '미래에셋전략배분TDF2025혼합자산자투자신탁종류C-Pe',\n",
       " 'K55234DF3317': 'IBK로우코스트TDF2055증권자투자신탁[혼합-재간접형]종류C-Re',\n",
       " 'K55234DF3150': 'IBK로우코스트TDF2050증권자투자신탁[혼합-재간접형]종류C-Re',\n",
       " 'K55213C50702': '한화LIFEPLUSTDF2045증권투자신탁(혼합-재간접형)C-RPE(퇴직연금)',\n",
       " 'K55210CO3828': '신한마음편한TDF2050증권투자신탁[주식혼합-재간접형](종류C-re)',\n",
       " 'K55234DF2988': 'IBK로우코스트TDF2045증권자투자신탁[혼합-재간접형]종류C-Re',\n",
       " 'K55301D51370': '미래에셋전략배분TDF2050혼합자산자투자신탁종류C-P2e',\n",
       " 'K55206C96121': '키움키워드림TDF2040증권투자신탁 1[혼합-재간접형]C-P2e(퇴직연금)',\n",
       " 'K55223BT1922': 'KB온국민TDF2050증권자투자신탁(주식혼합-재간접형)(H)C-퇴직e',\n",
       " 'K55223BT1757': 'KB온국민TDF2045증권투자신탁(주식혼합-재간접형)C-퇴직e',\n",
       " 'K55234DF2822': 'IBK로우코스트TDF2040증권자투자신탁[혼합-재간접형]종류C-Re',\n",
       " 'K55213C51718': '한화LIFEPLUSTDF2035증권투자신탁(혼합-재간접형)C-RPE(퇴직연금)',\n",
       " 'K55206C95974': '키움키워드림TDF2035증권투자신탁 1[혼합-재간접형]C-P2e (퇴직연금)',\n",
       " 'K55101BT4444': '한국투자TDF알아서2045증권투자신탁(주식혼합-재간접형)(C-Re)',\n",
       " 'K55101CU1644': '한국투자TDF알아서2050증권자투자신탁H(주식혼합-재간접형)(C-Re)',\n",
       " 'K55210BU2419': '신한마음편한TDF2035증권투자신탁[주식혼합-재간접형](종류C-re)',\n",
       " 'K55101BT4428': '한국투자TDF알아서2035증권투자신탁(주식혼합-재간접형)(C-Re)',\n",
       " 'K55213C51064': '한화LIFEPLUSTDF2030증권자투자신탁(혼합-재간접형)종류C-RPE(퇴직연금)',\n",
       " 'K55105CK1592': '삼성한국형TDF2050증권투자신탁H[주식혼합-재간접형]Cpe(퇴직연금)',\n",
       " 'K55105BT9910': '삼성한국형TDF2045증권투자신탁H[주식혼합-재간접형]Cpe(퇴직연금)',\n",
       " 'K55223BT1278': 'KB온국민TDF2035증권투자신탁(주식혼합-재간접형)C-퇴직e',\n",
       " 'K55105BT9936': '삼성한국형TDF2035증권투자신탁H[주식혼합-재간접형]Cpe(퇴직연금)',\n",
       " 'K55223BT1096': 'KB온국민TDF2030증권투자신탁(주식혼합-재간접형)C-퇴직e',\n",
       " 'K55301BU6113': '미래에셋전략배분TDF2030혼합자산자투자신탁 종류C-P2e',\n",
       " 'K55101BT4402': '한국투자TDF알아서2030증권투자신탁(주식혼합-재간접형)(C-Re)',\n",
       " 'K55370BU1979': 'AB글로벌고수익증권투자신탁(채권-재간접형)종류형Ce-P'}"
      ]
     },
     "execution_count": 7,
     "metadata": {},
     "output_type": "execute_result"
    }
   ],
   "source": [
    "file = 'fund_name_241230.csv'\n",
    "path = '.'\n",
    "\n",
    "fund_name = pd.read_csv(f'{path}/{file}', dtype={'ticker': str}, index_col=[0])\n",
    "fund_name = fund_name.iloc[:,0].to_dict()\n",
    "fund_name"
   ]
  },
  {
   "cell_type": "code",
   "execution_count": 20,
   "id": "98f777fb-3970-46f7-ba2e-a66fe966f170",
   "metadata": {},
   "outputs": [],
   "source": [
    "import re\n",
    "\n",
    "\n",
    "m = re.search(r'\\d{4}', s)\n",
    "func = lambda s: [s if x is None else s[:x.end()] for x in [re.search(r'\\d{4}', s)]][0]"
   ]
  },
  {
   "cell_type": "code",
   "execution_count": 24,
   "id": "c5bca4e6-f39d-46d6-addc-5da526d52b5b",
   "metadata": {},
   "outputs": [
    {
     "data": {
      "text/plain": [
       "'신한마음편한TDF2040'"
      ]
     },
     "execution_count": 24,
     "metadata": {},
     "output_type": "execute_result"
    }
   ],
   "source": [
    "s = '신한마음편한TDF2040증권투자신탁[주식혼합-재간접형](종류C-re)'\n",
    "#s = '신한마음편한TDF증권투자신탁[주식혼합-재간접형](종류C-re)'\n",
    "\n",
    "func = lambda s: s[:m.end()] if (m := re.search(r'\\d{4}', s)) else s\n",
    "\n",
    "func(s)"
   ]
  },
  {
   "cell_type": "code",
   "execution_count": 19,
   "id": "15dc4150-037d-4586-b839-c0e13d140ac4",
   "metadata": {},
   "outputs": [
    {
     "data": {
      "application/vnd.plotly.v1+json": {
       "config": {
        "plotlyServerURL": "https://plot.ly"
       },
       "data": [
        {
         "hovertemplate": "variable=IBK로우코스트TDF2055증권자투자신탁[혼합-재간접형]종류C-Re<br>index=%{x}<br>value=%{y}<extra></extra>",
         "legendgroup": "IBK로우코스트TDF2055증권자투자신탁[혼합-재간접형]종류C-Re",
         "line": {
          "color": "#636efa",
          "dash": "solid"
         },
         "marker": {
          "symbol": "circle"
         },
         "mode": "lines",
         "name": "IBK로우코스트TDF2055증권자투자신탁[혼합-재간접형]종류C-Re",
         "orientation": "v",
         "showlegend": true,
         "type": "scatter",
         "x": [
          "2021-04-30",
          "2021-05-31",
          "2021-06-30",
          "2021-07-31",
          "2021-08-31",
          "2021-09-30",
          "2021-10-31",
          "2021-11-30",
          "2021-12-31",
          "2022-01-31",
          "2022-02-28",
          "2022-03-31",
          "2022-04-30",
          "2022-05-31",
          "2022-06-30",
          "2022-07-31",
          "2022-08-31",
          "2022-09-30",
          "2022-10-31",
          "2022-11-30",
          "2022-12-31",
          "2023-01-31",
          "2023-02-28",
          "2023-03-31",
          "2023-04-30",
          "2023-05-31",
          "2023-06-30",
          "2023-07-31",
          "2023-08-31",
          "2023-09-30",
          "2023-10-31",
          "2023-11-30",
          "2023-12-31",
          "2024-01-31",
          "2024-02-29",
          "2024-03-31",
          "2024-04-30",
          "2024-05-31",
          "2024-06-30",
          "2024-07-31",
          "2024-08-31",
          "2024-09-30",
          "2024-10-31",
          "2024-11-29"
         ],
         "xaxis": "x",
         "y": [
          1003,
          1014,
          1035,
          1053,
          1081,
          1063,
          1083,
          1086,
          1113,
          1057,
          1041,
          1085,
          1039,
          1026,
          992,
          1022,
          1040,
          1010,
          1017,
          1021,
          968,
          1015,
          1035,
          1038,
          1071,
          1076,
          1097,
          1098,
          1111,
          1089,
          1048,
          1098,
          1148,
          1178,
          1204,
          1248,
          1241,
          1270,
          1298,
          1304,
          1303,
          1326,
          1353,
          1365
         ],
         "yaxis": "y"
        }
       ],
       "layout": {
        "autosize": true,
        "legend": {
         "title": {
          "text": "variable"
         },
         "tracegroupgap": 0
        },
        "margin": {
         "t": 60
        },
        "template": {
         "data": {
          "bar": [
           {
            "error_x": {
             "color": "#2a3f5f"
            },
            "error_y": {
             "color": "#2a3f5f"
            },
            "marker": {
             "line": {
              "color": "#E5ECF6",
              "width": 0.5
             },
             "pattern": {
              "fillmode": "overlay",
              "size": 10,
              "solidity": 0.2
             }
            },
            "type": "bar"
           }
          ],
          "barpolar": [
           {
            "marker": {
             "line": {
              "color": "#E5ECF6",
              "width": 0.5
             },
             "pattern": {
              "fillmode": "overlay",
              "size": 10,
              "solidity": 0.2
             }
            },
            "type": "barpolar"
           }
          ],
          "carpet": [
           {
            "aaxis": {
             "endlinecolor": "#2a3f5f",
             "gridcolor": "white",
             "linecolor": "white",
             "minorgridcolor": "white",
             "startlinecolor": "#2a3f5f"
            },
            "baxis": {
             "endlinecolor": "#2a3f5f",
             "gridcolor": "white",
             "linecolor": "white",
             "minorgridcolor": "white",
             "startlinecolor": "#2a3f5f"
            },
            "type": "carpet"
           }
          ],
          "choropleth": [
           {
            "colorbar": {
             "outlinewidth": 0,
             "ticks": ""
            },
            "type": "choropleth"
           }
          ],
          "contour": [
           {
            "colorbar": {
             "outlinewidth": 0,
             "ticks": ""
            },
            "colorscale": [
             [
              0,
              "#0d0887"
             ],
             [
              0.1111111111111111,
              "#46039f"
             ],
             [
              0.2222222222222222,
              "#7201a8"
             ],
             [
              0.3333333333333333,
              "#9c179e"
             ],
             [
              0.4444444444444444,
              "#bd3786"
             ],
             [
              0.5555555555555556,
              "#d8576b"
             ],
             [
              0.6666666666666666,
              "#ed7953"
             ],
             [
              0.7777777777777778,
              "#fb9f3a"
             ],
             [
              0.8888888888888888,
              "#fdca26"
             ],
             [
              1,
              "#f0f921"
             ]
            ],
            "type": "contour"
           }
          ],
          "contourcarpet": [
           {
            "colorbar": {
             "outlinewidth": 0,
             "ticks": ""
            },
            "type": "contourcarpet"
           }
          ],
          "heatmap": [
           {
            "colorbar": {
             "outlinewidth": 0,
             "ticks": ""
            },
            "colorscale": [
             [
              0,
              "#0d0887"
             ],
             [
              0.1111111111111111,
              "#46039f"
             ],
             [
              0.2222222222222222,
              "#7201a8"
             ],
             [
              0.3333333333333333,
              "#9c179e"
             ],
             [
              0.4444444444444444,
              "#bd3786"
             ],
             [
              0.5555555555555556,
              "#d8576b"
             ],
             [
              0.6666666666666666,
              "#ed7953"
             ],
             [
              0.7777777777777778,
              "#fb9f3a"
             ],
             [
              0.8888888888888888,
              "#fdca26"
             ],
             [
              1,
              "#f0f921"
             ]
            ],
            "type": "heatmap"
           }
          ],
          "heatmapgl": [
           {
            "colorbar": {
             "outlinewidth": 0,
             "ticks": ""
            },
            "colorscale": [
             [
              0,
              "#0d0887"
             ],
             [
              0.1111111111111111,
              "#46039f"
             ],
             [
              0.2222222222222222,
              "#7201a8"
             ],
             [
              0.3333333333333333,
              "#9c179e"
             ],
             [
              0.4444444444444444,
              "#bd3786"
             ],
             [
              0.5555555555555556,
              "#d8576b"
             ],
             [
              0.6666666666666666,
              "#ed7953"
             ],
             [
              0.7777777777777778,
              "#fb9f3a"
             ],
             [
              0.8888888888888888,
              "#fdca26"
             ],
             [
              1,
              "#f0f921"
             ]
            ],
            "type": "heatmapgl"
           }
          ],
          "histogram": [
           {
            "marker": {
             "pattern": {
              "fillmode": "overlay",
              "size": 10,
              "solidity": 0.2
             }
            },
            "type": "histogram"
           }
          ],
          "histogram2d": [
           {
            "colorbar": {
             "outlinewidth": 0,
             "ticks": ""
            },
            "colorscale": [
             [
              0,
              "#0d0887"
             ],
             [
              0.1111111111111111,
              "#46039f"
             ],
             [
              0.2222222222222222,
              "#7201a8"
             ],
             [
              0.3333333333333333,
              "#9c179e"
             ],
             [
              0.4444444444444444,
              "#bd3786"
             ],
             [
              0.5555555555555556,
              "#d8576b"
             ],
             [
              0.6666666666666666,
              "#ed7953"
             ],
             [
              0.7777777777777778,
              "#fb9f3a"
             ],
             [
              0.8888888888888888,
              "#fdca26"
             ],
             [
              1,
              "#f0f921"
             ]
            ],
            "type": "histogram2d"
           }
          ],
          "histogram2dcontour": [
           {
            "colorbar": {
             "outlinewidth": 0,
             "ticks": ""
            },
            "colorscale": [
             [
              0,
              "#0d0887"
             ],
             [
              0.1111111111111111,
              "#46039f"
             ],
             [
              0.2222222222222222,
              "#7201a8"
             ],
             [
              0.3333333333333333,
              "#9c179e"
             ],
             [
              0.4444444444444444,
              "#bd3786"
             ],
             [
              0.5555555555555556,
              "#d8576b"
             ],
             [
              0.6666666666666666,
              "#ed7953"
             ],
             [
              0.7777777777777778,
              "#fb9f3a"
             ],
             [
              0.8888888888888888,
              "#fdca26"
             ],
             [
              1,
              "#f0f921"
             ]
            ],
            "type": "histogram2dcontour"
           }
          ],
          "mesh3d": [
           {
            "colorbar": {
             "outlinewidth": 0,
             "ticks": ""
            },
            "type": "mesh3d"
           }
          ],
          "parcoords": [
           {
            "line": {
             "colorbar": {
              "outlinewidth": 0,
              "ticks": ""
             }
            },
            "type": "parcoords"
           }
          ],
          "pie": [
           {
            "automargin": true,
            "type": "pie"
           }
          ],
          "scatter": [
           {
            "fillpattern": {
             "fillmode": "overlay",
             "size": 10,
             "solidity": 0.2
            },
            "type": "scatter"
           }
          ],
          "scatter3d": [
           {
            "line": {
             "colorbar": {
              "outlinewidth": 0,
              "ticks": ""
             }
            },
            "marker": {
             "colorbar": {
              "outlinewidth": 0,
              "ticks": ""
             }
            },
            "type": "scatter3d"
           }
          ],
          "scattercarpet": [
           {
            "marker": {
             "colorbar": {
              "outlinewidth": 0,
              "ticks": ""
             }
            },
            "type": "scattercarpet"
           }
          ],
          "scattergeo": [
           {
            "marker": {
             "colorbar": {
              "outlinewidth": 0,
              "ticks": ""
             }
            },
            "type": "scattergeo"
           }
          ],
          "scattergl": [
           {
            "marker": {
             "colorbar": {
              "outlinewidth": 0,
              "ticks": ""
             }
            },
            "type": "scattergl"
           }
          ],
          "scattermapbox": [
           {
            "marker": {
             "colorbar": {
              "outlinewidth": 0,
              "ticks": ""
             }
            },
            "type": "scattermapbox"
           }
          ],
          "scatterpolar": [
           {
            "marker": {
             "colorbar": {
              "outlinewidth": 0,
              "ticks": ""
             }
            },
            "type": "scatterpolar"
           }
          ],
          "scatterpolargl": [
           {
            "marker": {
             "colorbar": {
              "outlinewidth": 0,
              "ticks": ""
             }
            },
            "type": "scatterpolargl"
           }
          ],
          "scatterternary": [
           {
            "marker": {
             "colorbar": {
              "outlinewidth": 0,
              "ticks": ""
             }
            },
            "type": "scatterternary"
           }
          ],
          "surface": [
           {
            "colorbar": {
             "outlinewidth": 0,
             "ticks": ""
            },
            "colorscale": [
             [
              0,
              "#0d0887"
             ],
             [
              0.1111111111111111,
              "#46039f"
             ],
             [
              0.2222222222222222,
              "#7201a8"
             ],
             [
              0.3333333333333333,
              "#9c179e"
             ],
             [
              0.4444444444444444,
              "#bd3786"
             ],
             [
              0.5555555555555556,
              "#d8576b"
             ],
             [
              0.6666666666666666,
              "#ed7953"
             ],
             [
              0.7777777777777778,
              "#fb9f3a"
             ],
             [
              0.8888888888888888,
              "#fdca26"
             ],
             [
              1,
              "#f0f921"
             ]
            ],
            "type": "surface"
           }
          ],
          "table": [
           {
            "cells": {
             "fill": {
              "color": "#EBF0F8"
             },
             "line": {
              "color": "white"
             }
            },
            "header": {
             "fill": {
              "color": "#C8D4E3"
             },
             "line": {
              "color": "white"
             }
            },
            "type": "table"
           }
          ]
         },
         "layout": {
          "annotationdefaults": {
           "arrowcolor": "#2a3f5f",
           "arrowhead": 0,
           "arrowwidth": 1
          },
          "autotypenumbers": "strict",
          "coloraxis": {
           "colorbar": {
            "outlinewidth": 0,
            "ticks": ""
           }
          },
          "colorscale": {
           "diverging": [
            [
             0,
             "#8e0152"
            ],
            [
             0.1,
             "#c51b7d"
            ],
            [
             0.2,
             "#de77ae"
            ],
            [
             0.3,
             "#f1b6da"
            ],
            [
             0.4,
             "#fde0ef"
            ],
            [
             0.5,
             "#f7f7f7"
            ],
            [
             0.6,
             "#e6f5d0"
            ],
            [
             0.7,
             "#b8e186"
            ],
            [
             0.8,
             "#7fbc41"
            ],
            [
             0.9,
             "#4d9221"
            ],
            [
             1,
             "#276419"
            ]
           ],
           "sequential": [
            [
             0,
             "#0d0887"
            ],
            [
             0.1111111111111111,
             "#46039f"
            ],
            [
             0.2222222222222222,
             "#7201a8"
            ],
            [
             0.3333333333333333,
             "#9c179e"
            ],
            [
             0.4444444444444444,
             "#bd3786"
            ],
            [
             0.5555555555555556,
             "#d8576b"
            ],
            [
             0.6666666666666666,
             "#ed7953"
            ],
            [
             0.7777777777777778,
             "#fb9f3a"
            ],
            [
             0.8888888888888888,
             "#fdca26"
            ],
            [
             1,
             "#f0f921"
            ]
           ],
           "sequentialminus": [
            [
             0,
             "#0d0887"
            ],
            [
             0.1111111111111111,
             "#46039f"
            ],
            [
             0.2222222222222222,
             "#7201a8"
            ],
            [
             0.3333333333333333,
             "#9c179e"
            ],
            [
             0.4444444444444444,
             "#bd3786"
            ],
            [
             0.5555555555555556,
             "#d8576b"
            ],
            [
             0.6666666666666666,
             "#ed7953"
            ],
            [
             0.7777777777777778,
             "#fb9f3a"
            ],
            [
             0.8888888888888888,
             "#fdca26"
            ],
            [
             1,
             "#f0f921"
            ]
           ]
          },
          "colorway": [
           "#636efa",
           "#EF553B",
           "#00cc96",
           "#ab63fa",
           "#FFA15A",
           "#19d3f3",
           "#FF6692",
           "#B6E880",
           "#FF97FF",
           "#FECB52"
          ],
          "font": {
           "color": "#2a3f5f"
          },
          "geo": {
           "bgcolor": "white",
           "lakecolor": "white",
           "landcolor": "#E5ECF6",
           "showlakes": true,
           "showland": true,
           "subunitcolor": "white"
          },
          "hoverlabel": {
           "align": "left"
          },
          "hovermode": "closest",
          "mapbox": {
           "style": "light"
          },
          "paper_bgcolor": "white",
          "plot_bgcolor": "#E5ECF6",
          "polar": {
           "angularaxis": {
            "gridcolor": "white",
            "linecolor": "white",
            "ticks": ""
           },
           "bgcolor": "#E5ECF6",
           "radialaxis": {
            "gridcolor": "white",
            "linecolor": "white",
            "ticks": ""
           }
          },
          "scene": {
           "xaxis": {
            "backgroundcolor": "#E5ECF6",
            "gridcolor": "white",
            "gridwidth": 2,
            "linecolor": "white",
            "showbackground": true,
            "ticks": "",
            "zerolinecolor": "white"
           },
           "yaxis": {
            "backgroundcolor": "#E5ECF6",
            "gridcolor": "white",
            "gridwidth": 2,
            "linecolor": "white",
            "showbackground": true,
            "ticks": "",
            "zerolinecolor": "white"
           },
           "zaxis": {
            "backgroundcolor": "#E5ECF6",
            "gridcolor": "white",
            "gridwidth": 2,
            "linecolor": "white",
            "showbackground": true,
            "ticks": "",
            "zerolinecolor": "white"
           }
          },
          "shapedefaults": {
           "line": {
            "color": "#2a3f5f"
           }
          },
          "ternary": {
           "aaxis": {
            "gridcolor": "white",
            "linecolor": "white",
            "ticks": ""
           },
           "baxis": {
            "gridcolor": "white",
            "linecolor": "white",
            "ticks": ""
           },
           "bgcolor": "#E5ECF6",
           "caxis": {
            "gridcolor": "white",
            "linecolor": "white",
            "ticks": ""
           }
          },
          "title": {
           "x": 0.05
          },
          "xaxis": {
           "automargin": true,
           "gridcolor": "white",
           "linecolor": "white",
           "ticks": "",
           "title": {
            "standoff": 15
           },
           "zerolinecolor": "white",
           "zerolinewidth": 2
          },
          "yaxis": {
           "automargin": true,
           "gridcolor": "white",
           "linecolor": "white",
           "ticks": "",
           "title": {
            "standoff": 15
           },
           "zerolinecolor": "white",
           "zerolinewidth": 2
          }
         }
        },
        "xaxis": {
         "anchor": "y",
         "autorange": true,
         "domain": [
          0,
          1
         ],
         "range": [
          "2021-04-30",
          "2024-11-29"
         ],
         "title": {
          "text": "index"
         },
         "type": "date"
        },
        "yaxis": {
         "anchor": "x",
         "autorange": true,
         "domain": [
          0,
          1
         ],
         "range": [
          945.9444444444445,
          1387.0555555555557
         ],
         "title": {
          "text": "value"
         },
         "type": "linear"
        }
       }
      },
      "image/png": "[encoded data removed]",
      "text/html": [
       "<div>                            <div id=\"01aa430e-70ab-435b-a3df-665455b08ec1\" class=\"plotly-graph-div\" style=\"height:525px; width:100%;\"></div>            <script type=\"text/javascript\">                require([\"plotly\"], function(Plotly) {                    window.PLOTLYENV=window.PLOTLYENV || {};                                    if (document.getElementById(\"01aa430e-70ab-435b-a3df-665455b08ec1\")) {                    Plotly.newPlot(                        \"01aa430e-70ab-435b-a3df-665455b08ec1\",                        [{\"hovertemplate\":\"variable=IBK\\ub85c\\uc6b0\\ucf54\\uc2a4\\ud2b8TDF2055\\uc99d\\uad8c\\uc790\\ud22c\\uc790\\uc2e0\\ud0c1[\\ud63c\\ud569-\\uc7ac\\uac04\\uc811\\ud615]\\uc885\\ub958C-Re\\u003cbr\\u003eindex=%{x}\\u003cbr\\u003evalue=%{y}\\u003cextra\\u003e\\u003c\\u002fextra\\u003e\",\"legendgroup\":\"IBK\\ub85c\\uc6b0\\ucf54\\uc2a4\\ud2b8TDF2055\\uc99d\\uad8c\\uc790\\ud22c\\uc790\\uc2e0\\ud0c1[\\ud63c\\ud569-\\uc7ac\\uac04\\uc811\\ud615]\\uc885\\ub958C-Re\",\"line\":{\"color\":\"#636efa\",\"dash\":\"solid\"},\"marker\":{\"symbol\":\"circle\"},\"mode\":\"lines\",\"name\":\"IBK\\ub85c\\uc6b0\\ucf54\\uc2a4\\ud2b8TDF2055\\uc99d\\uad8c\\uc790\\ud22c\\uc790\\uc2e0\\ud0c1[\\ud63c\\ud569-\\uc7ac\\uac04\\uc811\\ud615]\\uc885\\ub958C-Re\",\"orientation\":\"v\",\"showlegend\":true,\"x\":[\"2021-04-30\",\"2021-05-31\",\"2021-06-30\",\"2021-07-31\",\"2021-08-31\",\"2021-09-30\",\"2021-10-31\",\"2021-11-30\",\"2021-12-31\",\"2022-01-31\",\"2022-02-28\",\"2022-03-31\",\"2022-04-30\",\"2022-05-31\",\"2022-06-30\",\"2022-07-31\",\"2022-08-31\",\"2022-09-30\",\"2022-10-31\",\"2022-11-30\",\"2022-12-31\",\"2023-01-31\",\"2023-02-28\",\"2023-03-31\",\"2023-04-30\",\"2023-05-31\",\"2023-06-30\",\"2023-07-31\",\"2023-08-31\",\"2023-09-30\",\"2023-10-31\",\"2023-11-30\",\"2023-12-31\",\"2024-01-31\",\"2024-02-29\",\"2024-03-31\",\"2024-04-30\",\"2024-05-31\",\"2024-06-30\",\"2024-07-31\",\"2024-08-31\",\"2024-09-30\",\"2024-10-31\",\"2024-11-29\"],\"xaxis\":\"x\",\"y\":[1003.0,1014.0,1035.0,1053.0,1081.0,1063.0,1083.0,1086.0,1113.0,1057.0,1041.0,1085.0,1039.0,1026.0,992.0,1022.0,1040.0,1010.0,1017.0,1021.0,968.0,1015.0,1035.0,1038.0,1071.0,1076.0,1097.0,1098.0,1111.0,1089.0,1048.0,1098.0,1148.0,1178.0,1204.0,1248.0,1241.0,1270.0,1298.0,1304.0,1303.0,1326.0,1353.0,1365.0],\"yaxis\":\"y\",\"type\":\"scatter\"}],                        {\"template\":{\"data\":{\"histogram2dcontour\":[{\"type\":\"histogram2dcontour\",\"colorbar\":{\"outlinewidth\":0,\"ticks\":\"\"},\"colorscale\":[[0.0,\"#0d0887\"],[0.1111111111111111,\"#46039f\"],[0.2222222222222222,\"#7201a8\"],[0.3333333333333333,\"#9c179e\"],[0.4444444444444444,\"#bd3786\"],[0.5555555555555556,\"#d8576b\"],[0.6666666666666666,\"#ed7953\"],[0.7777777777777778,\"#fb9f3a\"],[0.8888888888888888,\"#fdca26\"],[1.0,\"#f0f921\"]]}],\"choropleth\":[{\"type\":\"choropleth\",\"colorbar\":{\"outlinewidth\":0,\"ticks\":\"\"}}],\"histogram2d\":[{\"type\":\"histogram2d\",\"colorbar\":{\"outlinewidth\":0,\"ticks\":\"\"},\"colorscale\":[[0.0,\"#0d0887\"],[0.1111111111111111,\"#46039f\"],[0.2222222222222222,\"#7201a8\"],[0.3333333333333333,\"#9c179e\"],[0.4444444444444444,\"#bd3786\"],[0.5555555555555556,\"#d8576b\"],[0.6666666666666666,\"#ed7953\"],[0.7777777777777778,\"#fb9f3a\"],[0.8888888888888888,\"#fdca26\"],[1.0,\"#f0f921\"]]}],\"heatmap\":[{\"type\":\"heatmap\",\"colorbar\":{\"outlinewidth\":0,\"ticks\":\"\"},\"colorscale\":[[0.0,\"#0d0887\"],[0.1111111111111111,\"#46039f\"],[0.2222222222222222,\"#7201a8\"],[0.3333333333333333,\"#9c179e\"],[0.4444444444444444,\"#bd3786\"],[0.5555555555555556,\"#d8576b\"],[0.6666666666666666,\"#ed7953\"],[0.7777777777777778,\"#fb9f3a\"],[0.8888888888888888,\"#fdca26\"],[1.0,\"#f0f921\"]]}],\"heatmapgl\":[{\"type\":\"heatmapgl\",\"colorbar\":{\"outlinewidth\":0,\"ticks\":\"\"},\"colorscale\":[[0.0,\"#0d0887\"],[0.1111111111111111,\"#46039f\"],[0.2222222222222222,\"#7201a8\"],[0.3333333333333333,\"#9c179e\"],[0.4444444444444444,\"#bd3786\"],[0.5555555555555556,\"#d8576b\"],[0.6666666666666666,\"#ed7953\"],[0.7777777777777778,\"#fb9f3a\"],[0.8888888888888888,\"#fdca26\"],[1.0,\"#f0f921\"]]}],\"contourcarpet\":[{\"type\":\"contourcarpet\",\"colorbar\":{\"outlinewidth\":0,\"ticks\":\"\"}}],\"contour\":[{\"type\":\"contour\",\"colorbar\":{\"outlinewidth\":0,\"ticks\":\"\"},\"colorscale\":[[0.0,\"#0d0887\"],[0.1111111111111111,\"#46039f\"],[0.2222222222222222,\"#7201a8\"],[0.3333333333333333,\"#9c179e\"],[0.4444444444444444,\"#bd3786\"],[0.5555555555555556,\"#d8576b\"],[0.6666666666666666,\"#ed7953\"],[0.7777777777777778,\"#fb9f3a\"],[0.8888888888888888,\"#fdca26\"],[1.0,\"#f0f921\"]]}],\"surface\":[{\"type\":\"surface\",\"colorbar\":{\"outlinewidth\":0,\"ticks\":\"\"},\"colorscale\":[[0.0,\"#0d0887\"],[0.1111111111111111,\"#46039f\"],[0.2222222222222222,\"#7201a8\"],[0.3333333333333333,\"#9c179e\"],[0.4444444444444444,\"#bd3786\"],[0.5555555555555556,\"#d8576b\"],[0.6666666666666666,\"#ed7953\"],[0.7777777777777778,\"#fb9f3a\"],[0.8888888888888888,\"#fdca26\"],[1.0,\"#f0f921\"]]}],\"mesh3d\":[{\"type\":\"mesh3d\",\"colorbar\":{\"outlinewidth\":0,\"ticks\":\"\"}}],\"scatter\":[{\"fillpattern\":{\"fillmode\":\"overlay\",\"size\":10,\"solidity\":0.2},\"type\":\"scatter\"}],\"parcoords\":[{\"type\":\"parcoords\",\"line\":{\"colorbar\":{\"outlinewidth\":0,\"ticks\":\"\"}}}],\"scatterpolargl\":[{\"type\":\"scatterpolargl\",\"marker\":{\"colorbar\":{\"outlinewidth\":0,\"ticks\":\"\"}}}],\"bar\":[{\"error_x\":{\"color\":\"#2a3f5f\"},\"error_y\":{\"color\":\"#2a3f5f\"},\"marker\":{\"line\":{\"color\":\"#E5ECF6\",\"width\":0.5},\"pattern\":{\"fillmode\":\"overlay\",\"size\":10,\"solidity\":0.2}},\"type\":\"bar\"}],\"scattergeo\":[{\"type\":\"scattergeo\",\"marker\":{\"colorbar\":{\"outlinewidth\":0,\"ticks\":\"\"}}}],\"scatterpolar\":[{\"type\":\"scatterpolar\",\"marker\":{\"colorbar\":{\"outlinewidth\":0,\"ticks\":\"\"}}}],\"histogram\":[{\"marker\":{\"pattern\":{\"fillmode\":\"overlay\",\"size\":10,\"solidity\":0.2}},\"type\":\"histogram\"}],\"scattergl\":[{\"type\":\"scattergl\",\"marker\":{\"colorbar\":{\"outlinewidth\":0,\"ticks\":\"\"}}}],\"scatter3d\":[{\"type\":\"scatter3d\",\"line\":{\"colorbar\":{\"outlinewidth\":0,\"ticks\":\"\"}},\"marker\":{\"colorbar\":{\"outlinewidth\":0,\"ticks\":\"\"}}}],\"scattermapbox\":[{\"type\":\"scattermapbox\",\"marker\":{\"colorbar\":{\"outlinewidth\":0,\"ticks\":\"\"}}}],\"scatterternary\":[{\"type\":\"scatterternary\",\"marker\":{\"colorbar\":{\"outlinewidth\":0,\"ticks\":\"\"}}}],\"scattercarpet\":[{\"type\":\"scattercarpet\",\"marker\":{\"colorbar\":{\"outlinewidth\":0,\"ticks\":\"\"}}}],\"carpet\":[{\"aaxis\":{\"endlinecolor\":\"#2a3f5f\",\"gridcolor\":\"white\",\"linecolor\":\"white\",\"minorgridcolor\":\"white\",\"startlinecolor\":\"#2a3f5f\"},\"baxis\":{\"endlinecolor\":\"#2a3f5f\",\"gridcolor\":\"white\",\"linecolor\":\"white\",\"minorgridcolor\":\"white\",\"startlinecolor\":\"#2a3f5f\"},\"type\":\"carpet\"}],\"table\":[{\"cells\":{\"fill\":{\"color\":\"#EBF0F8\"},\"line\":{\"color\":\"white\"}},\"header\":{\"fill\":{\"color\":\"#C8D4E3\"},\"line\":{\"color\":\"white\"}},\"type\":\"table\"}],\"barpolar\":[{\"marker\":{\"line\":{\"color\":\"#E5ECF6\",\"width\":0.5},\"pattern\":{\"fillmode\":\"overlay\",\"size\":10,\"solidity\":0.2}},\"type\":\"barpolar\"}],\"pie\":[{\"automargin\":true,\"type\":\"pie\"}]},\"layout\":{\"autotypenumbers\":\"strict\",\"colorway\":[\"#636efa\",\"#EF553B\",\"#00cc96\",\"#ab63fa\",\"#FFA15A\",\"#19d3f3\",\"#FF6692\",\"#B6E880\",\"#FF97FF\",\"#FECB52\"],\"font\":{\"color\":\"#2a3f5f\"},\"hovermode\":\"closest\",\"hoverlabel\":{\"align\":\"left\"},\"paper_bgcolor\":\"white\",\"plot_bgcolor\":\"#E5ECF6\",\"polar\":{\"bgcolor\":\"#E5ECF6\",\"angularaxis\":{\"gridcolor\":\"white\",\"linecolor\":\"white\",\"ticks\":\"\"},\"radialaxis\":{\"gridcolor\":\"white\",\"linecolor\":\"white\",\"ticks\":\"\"}},\"ternary\":{\"bgcolor\":\"#E5ECF6\",\"aaxis\":{\"gridcolor\":\"white\",\"linecolor\":\"white\",\"ticks\":\"\"},\"baxis\":{\"gridcolor\":\"white\",\"linecolor\":\"white\",\"ticks\":\"\"},\"caxis\":{\"gridcolor\":\"white\",\"linecolor\":\"white\",\"ticks\":\"\"}},\"coloraxis\":{\"colorbar\":{\"outlinewidth\":0,\"ticks\":\"\"}},\"colorscale\":{\"sequential\":[[0.0,\"#0d0887\"],[0.1111111111111111,\"#46039f\"],[0.2222222222222222,\"#7201a8\"],[0.3333333333333333,\"#9c179e\"],[0.4444444444444444,\"#bd3786\"],[0.5555555555555556,\"#d8576b\"],[0.6666666666666666,\"#ed7953\"],[0.7777777777777778,\"#fb9f3a\"],[0.8888888888888888,\"#fdca26\"],[1.0,\"#f0f921\"]],\"sequentialminus\":[[0.0,\"#0d0887\"],[0.1111111111111111,\"#46039f\"],[0.2222222222222222,\"#7201a8\"],[0.3333333333333333,\"#9c179e\"],[0.4444444444444444,\"#bd3786\"],[0.5555555555555556,\"#d8576b\"],[0.6666666666666666,\"#ed7953\"],[0.7777777777777778,\"#fb9f3a\"],[0.8888888888888888,\"#fdca26\"],[1.0,\"#f0f921\"]],\"diverging\":[[0,\"#8e0152\"],[0.1,\"#c51b7d\"],[0.2,\"#de77ae\"],[0.3,\"#f1b6da\"],[0.4,\"#fde0ef\"],[0.5,\"#f7f7f7\"],[0.6,\"#e6f5d0\"],[0.7,\"#b8e186\"],[0.8,\"#7fbc41\"],[0.9,\"#4d9221\"],[1,\"#276419\"]]},\"xaxis\":{\"gridcolor\":\"white\",\"linecolor\":\"white\",\"ticks\":\"\",\"title\":{\"standoff\":15},\"zerolinecolor\":\"white\",\"automargin\":true,\"zerolinewidth\":2},\"yaxis\":{\"gridcolor\":\"white\",\"linecolor\":\"white\",\"ticks\":\"\",\"title\":{\"standoff\":15},\"zerolinecolor\":\"white\",\"automargin\":true,\"zerolinewidth\":2},\"scene\":{\"xaxis\":{\"backgroundcolor\":\"#E5ECF6\",\"gridcolor\":\"white\",\"linecolor\":\"white\",\"showbackground\":true,\"ticks\":\"\",\"zerolinecolor\":\"white\",\"gridwidth\":2},\"yaxis\":{\"backgroundcolor\":\"#E5ECF6\",\"gridcolor\":\"white\",\"linecolor\":\"white\",\"showbackground\":true,\"ticks\":\"\",\"zerolinecolor\":\"white\",\"gridwidth\":2},\"zaxis\":{\"backgroundcolor\":\"#E5ECF6\",\"gridcolor\":\"white\",\"linecolor\":\"white\",\"showbackground\":true,\"ticks\":\"\",\"zerolinecolor\":\"white\",\"gridwidth\":2}},\"shapedefaults\":{\"line\":{\"color\":\"#2a3f5f\"}},\"annotationdefaults\":{\"arrowcolor\":\"#2a3f5f\",\"arrowhead\":0,\"arrowwidth\":1},\"geo\":{\"bgcolor\":\"white\",\"landcolor\":\"#E5ECF6\",\"subunitcolor\":\"white\",\"showland\":true,\"showlakes\":true,\"lakecolor\":\"white\"},\"title\":{\"x\":0.05},\"mapbox\":{\"style\":\"light\"}}},\"xaxis\":{\"anchor\":\"y\",\"domain\":[0.0,1.0],\"title\":{\"text\":\"index\"}},\"yaxis\":{\"anchor\":\"x\",\"domain\":[0.0,1.0],\"title\":{\"text\":\"value\"}},\"legend\":{\"title\":{\"text\":\"variable\"},\"tracegroupgap\":0},\"margin\":{\"t\":60}},                        {\"responsive\": true}                    ).then(function(){\n",
       "                            \n",
       "var gd = document.getElementById('01aa430e-70ab-435b-a3df-665455b08ec1');\n",
       "var x = new MutationObserver(function (mutations, observer) {{\n",
       "        var display = window.getComputedStyle(gd).display;\n",
       "        if (!display || display === 'none') {{\n",
       "            console.log([gd, 'removed!']);\n",
       "            Plotly.purge(gd);\n",
       "            observer.disconnect();\n",
       "        }}\n",
       "}});\n",
       "\n",
       "// Listen for the removal of the full notebook cells\n",
       "var notebookContainer = gd.closest('#notebook-container');\n",
       "if (notebookContainer) {{\n",
       "    x.observe(notebookContainer, {childList: true});\n",
       "}}\n",
       "\n",
       "// Listen for the clearing of the current output cell\n",
       "var outputEl = gd.closest('.output');\n",
       "if (outputEl) {{\n",
       "    x.observe(outputEl, {childList: true});\n",
       "}}\n",
       "\n",
       "                        })                };                });            </script>        </div>"
      ]
     },
     "metadata": {},
     "output_type": "display_data"
    }
   ],
   "source": [
    "#i = 2050\n",
    "i = 2055\n",
    "data = preprocessed_data[i]\n",
    "#data.keys()\n",
    "\n",
    "col = '수수료 적용 전'\n",
    "d = data['default'][col]['history']\n",
    "i = data['default'][col]['index']\n",
    "df = pd.DataFrame(d, index=i)\n",
    "\n",
    "import plotly.express as px\n",
    "px.line(df)"
   ]
  },
  {
   "cell_type": "code",
   "execution_count": 37,
   "id": "593ca86c-a3cc-4dcc-ad43-d5a73c14eb94",
   "metadata": {},
   "outputs": [
    {
     "data": {
      "application/vnd.plotly.v1+json": {
       "config": {
        "plotlyServerURL": "https://plot.ly"
       },
       "data": [
        {
         "mode": "lines",
         "type": "scatter",
         "x": [
          "2017-07-31",
          "2017-08-31",
          "2017-09-30",
          "2017-10-31",
          "2017-11-30",
          "2017-12-31",
          "2018-01-31",
          "2018-02-28",
          "2018-03-31",
          "2018-04-30",
          "2018-05-31",
          "2018-06-30",
          "2018-07-31",
          "2018-08-31",
          "2018-09-30",
          "2018-10-31",
          "2018-11-30",
          "2018-12-31",
          "2019-01-31",
          "2019-02-28",
          "2019-03-31",
          "2019-04-30",
          "2019-05-31",
          "2019-06-30",
          "2019-07-31",
          "2019-08-31",
          "2019-09-30",
          "2019-10-31",
          "2019-11-30",
          "2019-12-31",
          "2020-01-31",
          "2020-02-29",
          "2020-03-31",
          "2020-04-30",
          "2020-05-31",
          "2020-06-30",
          "2020-07-31",
          "2020-08-31",
          "2020-09-30",
          "2020-10-31",
          "2020-11-30",
          "2020-12-31",
          "2021-01-31",
          "2021-02-28",
          "2021-03-31",
          "2021-04-30",
          "2021-05-31",
          "2021-06-30",
          "2021-07-31",
          "2021-08-31",
          "2021-09-30",
          "2021-10-31",
          "2021-11-30",
          "2021-12-31",
          "2022-01-31",
          "2022-02-28",
          "2022-03-31",
          "2022-04-30",
          "2022-05-31",
          "2022-06-30",
          "2022-07-31",
          "2022-08-31",
          "2022-09-30",
          "2022-10-31",
          "2022-11-30",
          "2022-12-31",
          "2023-01-31",
          "2023-02-28",
          "2023-03-31",
          "2023-04-30",
          "2023-05-31",
          "2023-06-30",
          "2023-07-31",
          "2023-08-31",
          "2023-09-30",
          "2023-10-31",
          "2023-11-30",
          "2023-12-31",
          "2024-01-31",
          "2024-02-29",
          "2024-03-31",
          "2024-04-30",
          "2024-05-31",
          "2024-06-30",
          "2024-07-31",
          "2024-08-31",
          "2024-09-30",
          "2024-10-31",
          "2024-11-29"
         ],
         "y": [
          {
           "IBK로우코스트TDF2050증권자투자신탁[혼합-재간접형]종류C-Re": null,
           "KB온국민TDF2050증권자투자신탁(주식혼합-재간접형)(H)C-퇴직e": 942,
           "미래에셋전략배분TDF2050혼합자산자투자신탁종류C-P2e": null,
           "삼성한국형TDF2050증권투자신탁H[주식혼합-재간접형]Cpe(퇴직연금)": null,
           "신한마음편한TDF2050증권투자신탁[주식혼합-재간접형](종류C-re)": null,
           "한국투자TDF알아서2050증권자투자신탁H(주식혼합-재간접형)(C-Re)": null
          },
          {
           "IBK로우코스트TDF2050증권자투자신탁[혼합-재간접형]종류C-Re": null,
           "KB온국민TDF2050증권자투자신탁(주식혼합-재간접형)(H)C-퇴직e": 936,
           "미래에셋전략배분TDF2050혼합자산자투자신탁종류C-P2e": null,
           "삼성한국형TDF2050증권투자신탁H[주식혼합-재간접형]Cpe(퇴직연금)": null,
           "신한마음편한TDF2050증권투자신탁[주식혼합-재간접형](종류C-re)": null,
           "한국투자TDF알아서2050증권자투자신탁H(주식혼합-재간접형)(C-Re)": null
          },
          {
           "IBK로우코스트TDF2050증권자투자신탁[혼합-재간접형]종류C-Re": null,
           "KB온국민TDF2050증권자투자신탁(주식혼합-재간접형)(H)C-퇴직e": 954,
           "미래에셋전략배분TDF2050혼합자산자투자신탁종류C-P2e": null,
           "삼성한국형TDF2050증권투자신탁H[주식혼합-재간접형]Cpe(퇴직연금)": null,
           "신한마음편한TDF2050증권투자신탁[주식혼합-재간접형](종류C-re)": null,
           "한국투자TDF알아서2050증권자투자신탁H(주식혼합-재간접형)(C-Re)": null
          },
          {
           "IBK로우코스트TDF2050증권자투자신탁[혼합-재간접형]종류C-Re": null,
           "KB온국민TDF2050증권자투자신탁(주식혼합-재간접형)(H)C-퇴직e": 971,
           "미래에셋전략배분TDF2050혼합자산자투자신탁종류C-P2e": null,
           "삼성한국형TDF2050증권투자신탁H[주식혼합-재간접형]Cpe(퇴직연금)": null,
           "신한마음편한TDF2050증권투자신탁[주식혼합-재간접형](종류C-re)": null,
           "한국투자TDF알아서2050증권자투자신탁H(주식혼합-재간접형)(C-Re)": null
          },
          {
           "IBK로우코스트TDF2050증권자투자신탁[혼합-재간접형]종류C-Re": null,
           "KB온국민TDF2050증권자투자신탁(주식혼합-재간접형)(H)C-퇴직e": 980,
           "미래에셋전략배분TDF2050혼합자산자투자신탁종류C-P2e": null,
           "삼성한국형TDF2050증권투자신탁H[주식혼합-재간접형]Cpe(퇴직연금)": null,
           "신한마음편한TDF2050증권투자신탁[주식혼합-재간접형](종류C-re)": null,
           "한국투자TDF알아서2050증권자투자신탁H(주식혼합-재간접형)(C-Re)": null
          },
          {
           "IBK로우코스트TDF2050증권자투자신탁[혼합-재간접형]종류C-Re": null,
           "KB온국민TDF2050증권자투자신탁(주식혼합-재간접형)(H)C-퇴직e": 993,
           "미래에셋전략배분TDF2050혼합자산자투자신탁종류C-P2e": null,
           "삼성한국형TDF2050증권투자신탁H[주식혼합-재간접형]Cpe(퇴직연금)": null,
           "신한마음편한TDF2050증권투자신탁[주식혼합-재간접형](종류C-re)": null,
           "한국투자TDF알아서2050증권자투자신탁H(주식혼합-재간접형)(C-Re)": null
          },
          {
           "IBK로우코스트TDF2050증권자투자신탁[혼합-재간접형]종류C-Re": null,
           "KB온국민TDF2050증권자투자신탁(주식혼합-재간접형)(H)C-퇴직e": 1037,
           "미래에셋전략배분TDF2050혼합자산자투자신탁종류C-P2e": null,
           "삼성한국형TDF2050증권투자신탁H[주식혼합-재간접형]Cpe(퇴직연금)": null,
           "신한마음편한TDF2050증권투자신탁[주식혼합-재간접형](종류C-re)": null,
           "한국투자TDF알아서2050증권자투자신탁H(주식혼합-재간접형)(C-Re)": null
          },
          {
           "IBK로우코스트TDF2050증권자투자신탁[혼합-재간접형]종류C-Re": null,
           "KB온국민TDF2050증권자투자신탁(주식혼합-재간접형)(H)C-퇴직e": 1012,
           "미래에셋전략배분TDF2050혼합자산자투자신탁종류C-P2e": null,
           "삼성한국형TDF2050증권투자신탁H[주식혼합-재간접형]Cpe(퇴직연금)": null,
           "신한마음편한TDF2050증권투자신탁[주식혼합-재간접형](종류C-re)": null,
           "한국투자TDF알아서2050증권자투자신탁H(주식혼합-재간접형)(C-Re)": null
          },
          {
           "IBK로우코스트TDF2050증권자투자신탁[혼합-재간접형]종류C-Re": null,
           "KB온국민TDF2050증권자투자신탁(주식혼합-재간접형)(H)C-퇴직e": 974,
           "미래에셋전략배분TDF2050혼합자산자투자신탁종류C-P2e": null,
           "삼성한국형TDF2050증권투자신탁H[주식혼합-재간접형]Cpe(퇴직연금)": null,
           "신한마음편한TDF2050증권투자신탁[주식혼합-재간접형](종류C-re)": null,
           "한국투자TDF알아서2050증권자투자신탁H(주식혼합-재간접형)(C-Re)": null
          },
          {
           "IBK로우코스트TDF2050증권자투자신탁[혼합-재간접형]종류C-Re": null,
           "KB온국민TDF2050증권자투자신탁(주식혼합-재간접형)(H)C-퇴직e": 989,
           "미래에셋전략배분TDF2050혼합자산자투자신탁종류C-P2e": null,
           "삼성한국형TDF2050증권투자신탁H[주식혼합-재간접형]Cpe(퇴직연금)": null,
           "신한마음편한TDF2050증권투자신탁[주식혼합-재간접형](종류C-re)": null,
           "한국투자TDF알아서2050증권자투자신탁H(주식혼합-재간접형)(C-Re)": null
          },
          {
           "IBK로우코스트TDF2050증권자투자신탁[혼합-재간접형]종류C-Re": null,
           "KB온국민TDF2050증권자투자신탁(주식혼합-재간접형)(H)C-퇴직e": 981,
           "미래에셋전략배분TDF2050혼합자산자투자신탁종류C-P2e": null,
           "삼성한국형TDF2050증권투자신탁H[주식혼합-재간접형]Cpe(퇴직연금)": null,
           "신한마음편한TDF2050증권투자신탁[주식혼합-재간접형](종류C-re)": null,
           "한국투자TDF알아서2050증권자투자신탁H(주식혼합-재간접형)(C-Re)": null
          },
          {
           "IBK로우코스트TDF2050증권자투자신탁[혼합-재간접형]종류C-Re": null,
           "KB온국민TDF2050증권자투자신탁(주식혼합-재간접형)(H)C-퇴직e": 972,
           "미래에셋전략배분TDF2050혼합자산자투자신탁종류C-P2e": null,
           "삼성한국형TDF2050증권투자신탁H[주식혼합-재간접형]Cpe(퇴직연금)": null,
           "신한마음편한TDF2050증권투자신탁[주식혼합-재간접형](종류C-re)": null,
           "한국투자TDF알아서2050증권자투자신탁H(주식혼합-재간접형)(C-Re)": null
          },
          {
           "IBK로우코스트TDF2050증권자투자신탁[혼합-재간접형]종류C-Re": null,
           "KB온국민TDF2050증권자투자신탁(주식혼합-재간접형)(H)C-퇴직e": 999,
           "미래에셋전략배분TDF2050혼합자산자투자신탁종류C-P2e": null,
           "삼성한국형TDF2050증권투자신탁H[주식혼합-재간접형]Cpe(퇴직연금)": null,
           "신한마음편한TDF2050증권투자신탁[주식혼합-재간접형](종류C-re)": null,
           "한국투자TDF알아서2050증권자투자신탁H(주식혼합-재간접형)(C-Re)": null
          },
          {
           "IBK로우코스트TDF2050증권자투자신탁[혼합-재간접형]종류C-Re": null,
           "KB온국민TDF2050증권자투자신탁(주식혼합-재간접형)(H)C-퇴직e": 1008,
           "미래에셋전략배분TDF2050혼합자산자투자신탁종류C-P2e": null,
           "삼성한국형TDF2050증권투자신탁H[주식혼합-재간접형]Cpe(퇴직연금)": null,
           "신한마음편한TDF2050증권투자신탁[주식혼합-재간접형](종류C-re)": null,
           "한국투자TDF알아서2050증권자투자신탁H(주식혼합-재간접형)(C-Re)": null
          },
          {
           "IBK로우코스트TDF2050증권자투자신탁[혼합-재간접형]종류C-Re": null,
           "KB온국민TDF2050증권자투자신탁(주식혼합-재간접형)(H)C-퇴직e": 1000,
           "미래에셋전략배분TDF2050혼합자산자투자신탁종류C-P2e": null,
           "삼성한국형TDF2050증권투자신탁H[주식혼합-재간접형]Cpe(퇴직연금)": null,
           "신한마음편한TDF2050증권투자신탁[주식혼합-재간접형](종류C-re)": null,
           "한국투자TDF알아서2050증권자투자신탁H(주식혼합-재간접형)(C-Re)": null
          },
          {
           "IBK로우코스트TDF2050증권자투자신탁[혼합-재간접형]종류C-Re": null,
           "KB온국민TDF2050증권자투자신탁(주식혼합-재간접형)(H)C-퇴직e": 916,
           "미래에셋전략배분TDF2050혼합자산자투자신탁종류C-P2e": null,
           "삼성한국형TDF2050증권투자신탁H[주식혼합-재간접형]Cpe(퇴직연금)": null,
           "신한마음편한TDF2050증권투자신탁[주식혼합-재간접형](종류C-re)": null,
           "한국투자TDF알아서2050증권자투자신탁H(주식혼합-재간접형)(C-Re)": null
          },
          {
           "IBK로우코스트TDF2050증권자투자신탁[혼합-재간접형]종류C-Re": null,
           "KB온국민TDF2050증권자투자신탁(주식혼합-재간접형)(H)C-퇴직e": 945,
           "미래에셋전략배분TDF2050혼합자산자투자신탁종류C-P2e": null,
           "삼성한국형TDF2050증권투자신탁H[주식혼합-재간접형]Cpe(퇴직연금)": null,
           "신한마음편한TDF2050증권투자신탁[주식혼합-재간접형](종류C-re)": null,
           "한국투자TDF알아서2050증권자투자신탁H(주식혼합-재간접형)(C-Re)": null
          },
          {
           "IBK로우코스트TDF2050증권자투자신탁[혼합-재간접형]종류C-Re": null,
           "KB온국민TDF2050증권자투자신탁(주식혼합-재간접형)(H)C-퇴직e": 884,
           "미래에셋전략배분TDF2050혼합자산자투자신탁종류C-P2e": null,
           "삼성한국형TDF2050증권투자신탁H[주식혼합-재간접형]Cpe(퇴직연금)": null,
           "신한마음편한TDF2050증권투자신탁[주식혼합-재간접형](종류C-re)": null,
           "한국투자TDF알아서2050증권자투자신탁H(주식혼합-재간접형)(C-Re)": null
          },
          {
           "IBK로우코스트TDF2050증권자투자신탁[혼합-재간접형]종류C-Re": null,
           "KB온국민TDF2050증권자투자신탁(주식혼합-재간접형)(H)C-퇴직e": 938,
           "미래에셋전략배분TDF2050혼합자산자투자신탁종류C-P2e": null,
           "삼성한국형TDF2050증권투자신탁H[주식혼합-재간접형]Cpe(퇴직연금)": null,
           "신한마음편한TDF2050증권투자신탁[주식혼합-재간접형](종류C-re)": null,
           "한국투자TDF알아서2050증권자투자신탁H(주식혼합-재간접형)(C-Re)": null
          },
          {
           "IBK로우코스트TDF2050증권자투자신탁[혼합-재간접형]종류C-Re": null,
           "KB온국민TDF2050증권자투자신탁(주식혼합-재간접형)(H)C-퇴직e": 976,
           "미래에셋전략배분TDF2050혼합자산자투자신탁종류C-P2e": null,
           "삼성한국형TDF2050증권투자신탁H[주식혼합-재간접형]Cpe(퇴직연금)": 1018,
           "신한마음편한TDF2050증권투자신탁[주식혼합-재간접형](종류C-re)": null,
           "한국투자TDF알아서2050증권자투자신탁H(주식혼합-재간접형)(C-Re)": null
          },
          {
           "IBK로우코스트TDF2050증권자투자신탁[혼합-재간접형]종류C-Re": null,
           "KB온국민TDF2050증권자투자신탁(주식혼합-재간접형)(H)C-퇴직e": 974,
           "미래에셋전략배분TDF2050혼합자산자투자신탁종류C-P2e": null,
           "삼성한국형TDF2050증권투자신탁H[주식혼합-재간접형]Cpe(퇴직연금)": 1027,
           "신한마음편한TDF2050증권투자신탁[주식혼합-재간접형](종류C-re)": null,
           "한국투자TDF알아서2050증권자투자신탁H(주식혼합-재간접형)(C-Re)": null
          },
          {
           "IBK로우코스트TDF2050증권자투자신탁[혼합-재간접형]종류C-Re": null,
           "KB온국민TDF2050증권자투자신탁(주식혼합-재간접형)(H)C-퇴직e": 1008,
           "미래에셋전략배분TDF2050혼합자산자투자신탁종류C-P2e": null,
           "삼성한국형TDF2050증권투자신탁H[주식혼합-재간접형]Cpe(퇴직연금)": 1052,
           "신한마음편한TDF2050증권투자신탁[주식혼합-재간접형](종류C-re)": 975,
           "한국투자TDF알아서2050증권자투자신탁H(주식혼합-재간접형)(C-Re)": null
          },
          {
           "IBK로우코스트TDF2050증권자투자신탁[혼합-재간접형]종류C-Re": null,
           "KB온국민TDF2050증권자투자신탁(주식혼합-재간접형)(H)C-퇴직e": 958,
           "미래에셋전략배분TDF2050혼합자산자투자신탁종류C-P2e": null,
           "삼성한국형TDF2050증권투자신탁H[주식혼합-재간접형]Cpe(퇴직연금)": 1010,
           "신한마음편한TDF2050증권투자신탁[주식혼합-재간접형](종류C-re)": 953,
           "한국투자TDF알아서2050증권자투자신탁H(주식혼합-재간접형)(C-Re)": null
          },
          {
           "IBK로우코스트TDF2050증권자투자신탁[혼합-재간접형]종류C-Re": null,
           "KB온국민TDF2050증권자투자신탁(주식혼합-재간접형)(H)C-퇴직e": 996,
           "미래에셋전략배분TDF2050혼합자산자투자신탁종류C-P2e": null,
           "삼성한국형TDF2050증권투자신탁H[주식혼합-재간접형]Cpe(퇴직연금)": 1049,
           "신한마음편한TDF2050증권투자신탁[주식혼합-재간접형](종류C-re)": 982,
           "한국투자TDF알아서2050증권자투자신탁H(주식혼합-재간접형)(C-Re)": null
          },
          {
           "IBK로우코스트TDF2050증권자투자신탁[혼합-재간접형]종류C-Re": null,
           "KB온국민TDF2050증권자투자신탁(주식혼합-재간접형)(H)C-퇴직e": 1013,
           "미래에셋전략배분TDF2050혼합자산자투자신탁종류C-P2e": null,
           "삼성한국형TDF2050증권투자신탁H[주식혼합-재간접형]Cpe(퇴직연금)": 1069,
           "신한마음편한TDF2050증권투자신탁[주식혼합-재간접형](종류C-re)": 1006,
           "한국투자TDF알아서2050증권자투자신탁H(주식혼합-재간접형)(C-Re)": null
          },
          {
           "IBK로우코스트TDF2050증권자투자신탁[혼합-재간접형]종류C-Re": null,
           "KB온국민TDF2050증권자투자신탁(주식혼합-재간접형)(H)C-퇴직e": 971,
           "미래에셋전략배분TDF2050혼합자산자투자신탁종류C-P2e": null,
           "삼성한국형TDF2050증권투자신탁H[주식혼합-재간접형]Cpe(퇴직연금)": 1033,
           "신한마음편한TDF2050증권투자신탁[주식혼합-재간접형](종류C-re)": 983,
           "한국투자TDF알아서2050증권자투자신탁H(주식혼합-재간접형)(C-Re)": null
          },
          {
           "IBK로우코스트TDF2050증권자투자신탁[혼합-재간접형]종류C-Re": null,
           "KB온국민TDF2050증권자투자신탁(주식혼합-재간접형)(H)C-퇴직e": 1001,
           "미래에셋전략배분TDF2050혼합자산자투자신탁종류C-P2e": null,
           "삼성한국형TDF2050증권투자신탁H[주식혼합-재간접형]Cpe(퇴직연금)": 1049,
           "신한마음편한TDF2050증권투자신탁[주식혼합-재간접형](종류C-re)": 999,
           "한국투자TDF알아서2050증권자투자신탁H(주식혼합-재간접형)(C-Re)": null
          },
          {
           "IBK로우코스트TDF2050증권자투자신탁[혼합-재간접형]종류C-Re": null,
           "KB온국민TDF2050증권자투자신탁(주식혼합-재간접형)(H)C-퇴직e": 1019,
           "미래에셋전략배분TDF2050혼합자산자투자신탁종류C-P2e": null,
           "삼성한국형TDF2050증권투자신탁H[주식혼합-재간접형]Cpe(퇴직연금)": 1066,
           "신한마음편한TDF2050증권투자신탁[주식혼합-재간접형](종류C-re)": 1000,
           "한국투자TDF알아서2050증권자투자신탁H(주식혼합-재간접형)(C-Re)": 1017
          },
          {
           "IBK로우코스트TDF2050증권자투자신탁[혼합-재간접형]종류C-Re": null,
           "KB온국민TDF2050증권자투자신탁(주식혼합-재간접형)(H)C-퇴직e": 1047,
           "미래에셋전략배분TDF2050혼합자산자투자신탁종류C-P2e": null,
           "삼성한국형TDF2050증권투자신탁H[주식혼합-재간접형]Cpe(퇴직연금)": 1094,
           "신한마음편한TDF2050증권투자신탁[주식혼합-재간접형](종류C-re)": 1025,
           "한국투자TDF알아서2050증권자투자신탁H(주식혼합-재간접형)(C-Re)": 1042
          },
          {
           "IBK로우코스트TDF2050증권자투자신탁[혼합-재간접형]종류C-Re": null,
           "KB온국민TDF2050증권자투자신탁(주식혼합-재간접형)(H)C-퇴직e": 1075,
           "미래에셋전략배분TDF2050혼합자산자투자신탁종류C-P2e": null,
           "삼성한국형TDF2050증권투자신탁H[주식혼합-재간접형]Cpe(퇴직연금)": 1122,
           "신한마음편한TDF2050증권투자신탁[주식혼합-재간접형](종류C-re)": 1042,
           "한국투자TDF알아서2050증권자투자신탁H(주식혼합-재간접형)(C-Re)": 1067
          },
          {
           "IBK로우코스트TDF2050증권자투자신탁[혼합-재간접형]종류C-Re": null,
           "KB온국민TDF2050증권자투자신탁(주식혼합-재간접형)(H)C-퇴직e": 1073,
           "미래에셋전략배분TDF2050혼합자산자투자신탁종류C-P2e": null,
           "삼성한국형TDF2050증권투자신탁H[주식혼합-재간접형]Cpe(퇴직연금)": 1125,
           "신한마음편한TDF2050증권투자신탁[주식혼합-재간접형](종류C-re)": 1056,
           "한국투자TDF알아서2050증권자투자신탁H(주식혼합-재간접형)(C-Re)": 1076
          },
          {
           "IBK로우코스트TDF2050증권자투자신탁[혼합-재간접형]종류C-Re": null,
           "KB온국민TDF2050증권자투자신탁(주식혼합-재간접형)(H)C-퇴직e": 1020,
           "미래에셋전략배분TDF2050혼합자산자투자신탁종류C-P2e": null,
           "삼성한국형TDF2050증권투자신탁H[주식혼합-재간접형]Cpe(퇴직연금)": 1083,
           "신한마음편한TDF2050증권투자신탁[주식혼합-재간접형](종류C-re)": 1032,
           "한국투자TDF알아서2050증권자투자신탁H(주식혼합-재간접형)(C-Re)": 1043
          },
          {
           "IBK로우코스트TDF2050증권자투자신탁[혼합-재간접형]종류C-Re": null,
           "KB온국민TDF2050증권자투자신탁(주식혼합-재간접형)(H)C-퇴직e": 839,
           "미래에셋전략배분TDF2050혼합자산자투자신탁종류C-P2e": null,
           "삼성한국형TDF2050증권투자신탁H[주식혼합-재간접형]Cpe(퇴직연금)": 926,
           "신한마음편한TDF2050증권투자신탁[주식혼합-재간접형](종류C-re)": 856,
           "한국투자TDF알아서2050증권자투자신탁H(주식혼합-재간접형)(C-Re)": 881
          },
          {
           "IBK로우코스트TDF2050증권자투자신탁[혼합-재간접형]종류C-Re": null,
           "KB온국민TDF2050증권자투자신탁(주식혼합-재간접형)(H)C-퇴직e": 917,
           "미래에셋전략배분TDF2050혼합자산자투자신탁종류C-P2e": null,
           "삼성한국형TDF2050증권투자신탁H[주식혼합-재간접형]Cpe(퇴직연금)": 997,
           "신한마음편한TDF2050증권투자신탁[주식혼합-재간접형](종류C-re)": 918,
           "한국투자TDF알아서2050증권자투자신탁H(주식혼합-재간접형)(C-Re)": 955
          },
          {
           "IBK로우코스트TDF2050증권자투자신탁[혼합-재간접형]종류C-Re": null,
           "KB온국민TDF2050증권자투자신탁(주식혼합-재간접형)(H)C-퇴직e": 968,
           "미래에셋전략배분TDF2050혼합자산자투자신탁종류C-P2e": null,
           "삼성한국형TDF2050증권투자신탁H[주식혼합-재간접형]Cpe(퇴직연금)": 1041,
           "신한마음편한TDF2050증권투자신탁[주식혼합-재간접형](종류C-re)": 978,
           "한국투자TDF알아서2050증권자투자신탁H(주식혼합-재간접형)(C-Re)": 1003
          },
          {
           "IBK로우코스트TDF2050증권자투자신탁[혼합-재간접형]종류C-Re": null,
           "KB온국민TDF2050증권자투자신탁(주식혼합-재간접형)(H)C-퇴직e": 979,
           "미래에셋전략배분TDF2050혼합자산자투자신탁종류C-P2e": null,
           "삼성한국형TDF2050증권투자신탁H[주식혼합-재간접형]Cpe(퇴직연금)": 1056,
           "신한마음편한TDF2050증권투자신탁[주식혼합-재간접형](종류C-re)": 979,
           "한국투자TDF알아서2050증권자투자신탁H(주식혼합-재간접형)(C-Re)": 1030
          },
          {
           "IBK로우코스트TDF2050증권자투자신탁[혼합-재간접형]종류C-Re": null,
           "KB온국민TDF2050증권자투자신탁(주식혼합-재간접형)(H)C-퇴직e": 1051,
           "미래에셋전략배분TDF2050혼합자산자투자신탁종류C-P2e": 988,
           "삼성한국형TDF2050증권투자신탁H[주식혼합-재간접형]Cpe(퇴직연금)": 1118,
           "신한마음편한TDF2050증권투자신탁[주식혼합-재간접형](종류C-re)": 1036,
           "한국투자TDF알아서2050증권자투자신탁H(주식혼합-재간접형)(C-Re)": 1085
          },
          {
           "IBK로우코스트TDF2050증권자투자신탁[혼합-재간접형]종류C-Re": null,
           "KB온국민TDF2050증권자투자신탁(주식혼합-재간접형)(H)C-퇴직e": 1091,
           "미래에셋전략배분TDF2050혼합자산자투자신탁종류C-P2e": 1035,
           "삼성한국형TDF2050증권투자신탁H[주식혼합-재간접형]Cpe(퇴직연금)": 1150,
           "신한마음편한TDF2050증권투자신탁[주식혼합-재간접형](종류C-re)": 1062,
           "한국투자TDF알아서2050증권자투자신탁H(주식혼합-재간접형)(C-Re)": 1124
          },
          {
           "IBK로우코스트TDF2050증권자투자신탁[혼합-재간접형]종류C-Re": null,
           "KB온국민TDF2050증권자투자신탁(주식혼합-재간접형)(H)C-퇴직e": 1051,
           "미래에셋전략배분TDF2050혼합자산자투자신탁종류C-P2e": 988,
           "삼성한국형TDF2050증권투자신탁H[주식혼합-재간접형]Cpe(퇴직연금)": 1112,
           "신한마음편한TDF2050증권투자신탁[주식혼합-재간접형](종류C-re)": 1014,
           "한국투자TDF알아서2050증권자투자신탁H(주식혼합-재간접형)(C-Re)": 1083
          },
          {
           "IBK로우코스트TDF2050증권자투자신탁[혼합-재간접형]종류C-Re": null,
           "KB온국민TDF2050증권자투자신탁(주식혼합-재간접형)(H)C-퇴직e": 1052,
           "미래에셋전략배분TDF2050혼합자산자투자신탁종류C-P2e": 996,
           "삼성한국형TDF2050증권투자신탁H[주식혼합-재간접형]Cpe(퇴직연금)": 1110,
           "신한마음편한TDF2050증권투자신탁[주식혼합-재간접형](종류C-re)": 991,
           "한국투자TDF알아서2050증권자투자신탁H(주식혼합-재간접형)(C-Re)": 1101
          },
          {
           "IBK로우코스트TDF2050증권자투자신탁[혼합-재간접형]종류C-Re": null,
           "KB온국민TDF2050증권자투자신탁(주식혼합-재간접형)(H)C-퇴직e": 1166,
           "미래에셋전략배분TDF2050혼합자산자투자신탁종류C-P2e": 1053,
           "삼성한국형TDF2050증권투자신탁H[주식혼합-재간접형]Cpe(퇴직연금)": 1203,
           "신한마음편한TDF2050증권투자신탁[주식혼합-재간접형](종류C-re)": 1068,
           "한국투자TDF알아서2050증권자투자신탁H(주식혼합-재간접형)(C-Re)": 1194
          },
          {
           "IBK로우코스트TDF2050증권자투자신탁[혼합-재간접형]종류C-Re": null,
           "KB온국민TDF2050증권자투자신탁(주식혼합-재간접형)(H)C-퇴직e": 1213,
           "미래에셋전략배분TDF2050혼합자산자투자신탁종류C-P2e": 1087,
           "삼성한국형TDF2050증권투자신탁H[주식혼합-재간접형]Cpe(퇴직연금)": 1239,
           "신한마음편한TDF2050증권투자신탁[주식혼합-재간접형](종류C-re)": 1087,
           "한국투자TDF알아서2050증권자투자신탁H(주식혼합-재간접형)(C-Re)": 1230
          },
          {
           "IBK로우코스트TDF2050증권자투자신탁[혼합-재간접형]종류C-Re": null,
           "KB온국민TDF2050증권자투자신탁(주식혼합-재간접형)(H)C-퇴직e": 1240,
           "미래에셋전략배분TDF2050혼합자산자투자신탁종류C-P2e": 1131,
           "삼성한국형TDF2050증권투자신탁H[주식혼합-재간접형]Cpe(퇴직연금)": 1250,
           "신한마음편한TDF2050증권투자신탁[주식혼합-재간접형](종류C-re)": 1131,
           "한국투자TDF알아서2050증권자투자신탁H(주식혼합-재간접형)(C-Re)": 1248
          },
          {
           "IBK로우코스트TDF2050증권자투자신탁[혼합-재간접형]종류C-Re": null,
           "KB온국민TDF2050증권자투자신탁(주식혼합-재간접형)(H)C-퇴직e": 1279,
           "미래에셋전략배분TDF2050혼합자산자투자신탁종류C-P2e": 1166,
           "삼성한국형TDF2050증권투자신탁H[주식혼합-재간접형]Cpe(퇴직연금)": 1284,
           "신한마음편한TDF2050증권투자신탁[주식혼합-재간접형](종류C-re)": 1158,
           "한국투자TDF알아서2050증권자투자신탁H(주식혼합-재간접형)(C-Re)": 1273
          },
          {
           "IBK로우코스트TDF2050증권자투자신탁[혼합-재간접형]종류C-Re": null,
           "KB온국민TDF2050증권자투자신탁(주식혼합-재간접형)(H)C-퇴직e": 1271,
           "미래에셋전략배분TDF2050혼합자산자투자신탁종류C-P2e": 1158,
           "삼성한국형TDF2050증권투자신탁H[주식혼합-재간접형]Cpe(퇴직연금)": 1276,
           "신한마음편한TDF2050증권투자신탁[주식혼합-재간접형](종류C-re)": 1162,
           "한국투자TDF알아서2050증권자투자신탁H(주식혼합-재간접형)(C-Re)": 1271
          },
          {
           "IBK로우코스트TDF2050증권자투자신탁[혼합-재간접형]종류C-Re": 1008,
           "KB온국민TDF2050증권자투자신탁(주식혼합-재간접형)(H)C-퇴직e": 1324,
           "미래에셋전략배분TDF2050혼합자산자투자신탁종류C-P2e": 1190,
           "삼성한국형TDF2050증권투자신탁H[주식혼합-재간접형]Cpe(퇴직연금)": 1321,
           "신한마음편한TDF2050증권투자신탁[주식혼합-재간접형](종류C-re)": 1188,
           "한국투자TDF알아서2050증권자투자신탁H(주식혼합-재간접형)(C-Re)": 1314
          },
          {
           "IBK로우코스트TDF2050증권자투자신탁[혼합-재간접형]종류C-Re": 1019,
           "KB온국민TDF2050증권자투자신탁(주식혼합-재간접형)(H)C-퇴직e": 1330,
           "미래에셋전략배분TDF2050혼합자산자투자신탁종류C-P2e": 1194,
           "삼성한국형TDF2050증권투자신탁H[주식혼합-재간접형]Cpe(퇴직연금)": 1334,
           "신한마음편한TDF2050증권투자신탁[주식혼합-재간접형](종류C-re)": 1202,
           "한국투자TDF알아서2050증권자투자신탁H(주식혼합-재간접형)(C-Re)": 1318
          },
          {
           "IBK로우코스트TDF2050증권자투자신탁[혼합-재간접형]종류C-Re": 1040,
           "KB온국민TDF2050증권자투자신탁(주식혼합-재간접형)(H)C-퇴직e": 1350,
           "미래에셋전략배분TDF2050혼합자산자투자신탁종류C-P2e": 1213,
           "삼성한국형TDF2050증권투자신탁H[주식혼합-재간접형]Cpe(퇴직연금)": 1352,
           "신한마음편한TDF2050증권투자신탁[주식혼합-재간접형](종류C-re)": 1219,
           "한국투자TDF알아서2050증권자투자신탁H(주식혼합-재간접형)(C-Re)": 1328
          },
          {
           "IBK로우코스트TDF2050증권자투자신탁[혼합-재간접형]종류C-Re": 1057,
           "KB온국민TDF2050증권자투자신탁(주식혼합-재간접형)(H)C-퇴직e": 1354,
           "미래에셋전략배분TDF2050혼합자산자투자신탁종류C-P2e": 1219,
           "삼성한국형TDF2050증권투자신탁H[주식혼합-재간접형]Cpe(퇴직연금)": 1355,
           "신한마음편한TDF2050증권투자신탁[주식혼합-재간접형](종류C-re)": 1229,
           "한국투자TDF알아서2050증권자투자신탁H(주식혼합-재간접형)(C-Re)": 1330
          },
          {
           "IBK로우코스트TDF2050증권자투자신탁[혼합-재간접형]종류C-Re": 1083,
           "KB온국민TDF2050증권자투자신탁(주식혼합-재간접형)(H)C-퇴직e": 1369,
           "미래에셋전략배분TDF2050혼합자산자투자신탁종류C-P2e": 1239,
           "삼성한국형TDF2050증권투자신탁H[주식혼합-재간접형]Cpe(퇴직연금)": 1376,
           "신한마음편한TDF2050증권투자신탁[주식혼합-재간접형](종류C-re)": 1250,
           "한국투자TDF알아서2050증권자투자신탁H(주식혼합-재간접형)(C-Re)": 1347
          },
          {
           "IBK로우코스트TDF2050증권자투자신탁[혼합-재간접형]종류C-Re": 1066,
           "KB온국민TDF2050증권자투자신탁(주식혼합-재간접형)(H)C-퇴직e": 1332,
           "미래에셋전략배분TDF2050혼합자산자투자신탁종류C-P2e": 1216,
           "삼성한국형TDF2050증권투자신탁H[주식혼합-재간접형]Cpe(퇴직연금)": 1345,
           "신한마음편한TDF2050증권투자신탁[주식혼합-재간접형](종류C-re)": 1227,
           "한국투자TDF알아서2050증권자투자신탁H(주식혼합-재간접형)(C-Re)": 1328
          },
          {
           "IBK로우코스트TDF2050증권자투자신탁[혼합-재간접형]종류C-Re": 1085,
           "KB온국민TDF2050증권자투자신탁(주식혼합-재간접형)(H)C-퇴직e": 1366,
           "미래에셋전략배분TDF2050혼합자산자투자신탁종류C-P2e": 1245,
           "삼성한국형TDF2050증권투자신탁H[주식혼합-재간접형]Cpe(퇴직연금)": 1376,
           "신한마음편한TDF2050증권투자신탁[주식혼합-재간접형](종류C-re)": 1253,
           "한국투자TDF알아서2050증권자투자신탁H(주식혼합-재간접형)(C-Re)": 1349
          },
          {
           "IBK로우코스트TDF2050증권자투자신탁[혼합-재간접형]종류C-Re": 1088,
           "KB온국민TDF2050증권자투자신탁(주식혼합-재간접형)(H)C-퇴직e": 1349,
           "미래에셋전략배분TDF2050혼합자산자투자신탁종류C-P2e": 1240,
           "삼성한국형TDF2050증권투자신탁H[주식혼합-재간접형]Cpe(퇴직연금)": 1357,
           "신한마음편한TDF2050증권투자신탁[주식혼합-재간접형](종류C-re)": 1247,
           "한국투자TDF알아서2050증권자투자신탁H(주식혼합-재간접형)(C-Re)": 1326
          },
          {
           "IBK로우코스트TDF2050증권자투자신탁[혼합-재간접형]종류C-Re": 1113,
           "KB온국민TDF2050증권자투자신탁(주식혼합-재간접형)(H)C-퇴직e": 1388,
           "미래에셋전략배분TDF2050혼합자산자투자신탁종류C-P2e": 1262,
           "삼성한국형TDF2050증권투자신탁H[주식혼합-재간접형]Cpe(퇴직연금)": 1391,
           "신한마음편한TDF2050증권투자신탁[주식혼합-재간접형](종류C-re)": 1280,
           "한국투자TDF알아서2050증권자투자신탁H(주식혼합-재간접형)(C-Re)": 1346
          },
          {
           "IBK로우코스트TDF2050증권자투자신탁[혼합-재간접형]종류C-Re": 1059,
           "KB온국민TDF2050증권자투자신탁(주식혼합-재간접형)(H)C-퇴직e": 1291,
           "미래에셋전략배분TDF2050혼합자산자투자신탁종류C-P2e": 1170,
           "삼성한국형TDF2050증권투자신탁H[주식혼합-재간접형]Cpe(퇴직연금)": 1287,
           "신한마음편한TDF2050증권투자신탁[주식혼합-재간접형](종류C-re)": 1210,
           "한국투자TDF알아서2050증권자투자신탁H(주식혼합-재간접형)(C-Re)": 1274
          },
          {
           "IBK로우코스트TDF2050증권자투자신탁[혼합-재간접형]종류C-Re": 1043,
           "KB온국민TDF2050증권자투자신탁(주식혼합-재간접형)(H)C-퇴직e": 1274,
           "미래에셋전략배분TDF2050혼합자산자투자신탁종류C-P2e": 1153,
           "삼성한국형TDF2050증권투자신탁H[주식혼합-재간접형]Cpe(퇴직연금)": 1257,
           "신한마음편한TDF2050증권투자신탁[주식혼합-재간접형](종류C-re)": 1189,
           "한국투자TDF알아서2050증권자투자신탁H(주식혼합-재간접형)(C-Re)": 1220
          },
          {
           "IBK로우코스트TDF2050증권자투자신탁[혼합-재간접형]종류C-Re": 1083,
           "KB온국민TDF2050증권자투자신탁(주식혼합-재간접형)(H)C-퇴직e": 1330,
           "미래에셋전략배분TDF2050혼합자산자투자신탁종류C-P2e": 1202,
           "삼성한국형TDF2050증권투자신탁H[주식혼합-재간접형]Cpe(퇴직연금)": 1295,
           "신한마음편한TDF2050증권투자신탁[주식혼합-재간접형](종류C-re)": 1236,
           "한국투자TDF알아서2050증권자투자신탁H(주식혼합-재간접형)(C-Re)": 1277
          },
          {
           "IBK로우코스트TDF2050증권자투자신탁[혼합-재간접형]종류C-Re": 1039,
           "KB온국민TDF2050증권자투자신탁(주식혼합-재간접형)(H)C-퇴직e": 1228,
           "미래에셋전략배분TDF2050혼합자산자투자신탁종류C-P2e": 1140,
           "삼성한국형TDF2050증권투자신탁H[주식혼합-재간접형]Cpe(퇴직연금)": 1192,
           "신한마음편한TDF2050증권투자신탁[주식혼합-재간접형](종류C-re)": 1155,
           "한국투자TDF알아서2050증권자투자신탁H(주식혼합-재간접형)(C-Re)": 1206
          },
          {
           "IBK로우코스트TDF2050증권자투자신탁[혼합-재간접형]종류C-Re": 1026,
           "KB온국민TDF2050증권자투자신탁(주식혼합-재간접형)(H)C-퇴직e": 1226,
           "미래에셋전략배분TDF2050혼합자산자투자신탁종류C-P2e": 1121,
           "삼성한국형TDF2050증권투자신탁H[주식혼합-재간접형]Cpe(퇴직연금)": 1197,
           "신한마음편한TDF2050증권투자신탁[주식혼합-재간접형](종류C-re)": 1144,
           "한국투자TDF알아서2050증권자투자신탁H(주식혼합-재간접형)(C-Re)": 1182
          },
          {
           "IBK로우코스트TDF2050증권자투자신탁[혼합-재간접형]종류C-Re": 992,
           "KB온국민TDF2050증권자투자신탁(주식혼합-재간접형)(H)C-퇴직e": 1148,
           "미래에셋전략배분TDF2050혼합자산자투자신탁종류C-P2e": 1084,
           "삼성한국형TDF2050증권투자신탁H[주식혼합-재간접형]Cpe(퇴직연금)": 1114,
           "신한마음편한TDF2050증권투자신탁[주식혼합-재간접형](종류C-re)": 1092,
           "한국투자TDF알아서2050증권자투자신탁H(주식혼합-재간접형)(C-Re)": 1147
          },
          {
           "IBK로우코스트TDF2050증권자투자신탁[혼합-재간접형]종류C-Re": 1022,
           "KB온국민TDF2050증권자투자신탁(주식혼합-재간접형)(H)C-퇴직e": 1181,
           "미래에셋전략배분TDF2050혼합자산자투자신탁종류C-P2e": 1104,
           "삼성한국형TDF2050증권투자신탁H[주식혼합-재간접형]Cpe(퇴직연금)": 1142,
           "신한마음편한TDF2050증권투자신탁[주식혼합-재간접형](종류C-re)": 1123,
           "한국투자TDF알아서2050증권자투자신탁H(주식혼합-재간접형)(C-Re)": 1148
          },
          {
           "IBK로우코스트TDF2050증권자투자신탁[혼합-재간접형]종류C-Re": 1038,
           "KB온국민TDF2050증권자투자신탁(주식혼합-재간접형)(H)C-퇴직e": 1178,
           "미래에셋전략배분TDF2050혼합자산자투자신탁종류C-P2e": 1125,
           "삼성한국형TDF2050증권투자신탁H[주식혼합-재간접형]Cpe(퇴직연금)": 1138,
           "신한마음편한TDF2050증권투자신탁[주식혼합-재간접형](종류C-re)": 1126,
           "한국투자TDF알아서2050증권자투자신탁H(주식혼합-재간접형)(C-Re)": 1162
          },
          {
           "IBK로우코스트TDF2050증권자투자신탁[혼합-재간접형]종류C-Re": 1008,
           "KB온국민TDF2050증권자투자신탁(주식혼합-재간접형)(H)C-퇴직e": 1111,
           "미래에셋전략배분TDF2050혼합자산자투자신탁종류C-P2e": 1080,
           "삼성한국형TDF2050증권투자신탁H[주식혼합-재간접형]Cpe(퇴직연금)": 1054,
           "신한마음편한TDF2050증권투자신탁[주식혼합-재간접형](종류C-re)": 1055,
           "한국투자TDF알아서2050증권자투자신탁H(주식혼합-재간접형)(C-Re)": 1079
          },
          {
           "IBK로우코스트TDF2050증권자투자신탁[혼합-재간접형]종류C-Re": 1014,
           "KB온국민TDF2050증권자투자신탁(주식혼합-재간접형)(H)C-퇴직e": 1131,
           "미래에셋전략배분TDF2050혼합자산자투자신탁종류C-P2e": 1079,
           "삼성한국형TDF2050증권투자신탁H[주식혼합-재간접형]Cpe(퇴직연금)": 1072,
           "신한마음편한TDF2050증권투자신탁[주식혼합-재간접형](종류C-re)": 1064,
           "한국투자TDF알아서2050증권자투자신탁H(주식혼합-재간접형)(C-Re)": 1110
          },
          {
           "IBK로우코스트TDF2050증권자투자신탁[혼합-재간접형]종류C-Re": 1018,
           "KB온국민TDF2050증권자투자신탁(주식혼합-재간접형)(H)C-퇴직e": 1173,
           "미래에셋전략배분TDF2050혼합자산자투자신탁종류C-P2e": 1090,
           "삼성한국형TDF2050증권투자신탁H[주식혼합-재간접형]Cpe(퇴직연금)": 1124,
           "신한마음편한TDF2050증권투자신탁[주식혼합-재간접형](종류C-re)": 1102,
           "한국투자TDF알아서2050증권자투자신탁H(주식혼합-재간접형)(C-Re)": 1150
          },
          {
           "IBK로우코스트TDF2050증권자투자신탁[혼합-재간접형]종류C-Re": 968,
           "KB온국민TDF2050증권자투자신탁(주식혼합-재간접형)(H)C-퇴직e": 1140,
           "미래에셋전략배분TDF2050혼합자산자투자신탁종류C-P2e": 1046,
           "삼성한국형TDF2050증권투자신탁H[주식혼합-재간접형]Cpe(퇴직연금)": 1105,
           "신한마음편한TDF2050증권투자신탁[주식혼합-재간접형](종류C-re)": 1065,
           "한국투자TDF알아서2050증권자투자신탁H(주식혼합-재간접형)(C-Re)": 1123
          },
          {
           "IBK로우코스트TDF2050증권자투자신탁[혼합-재간접형]종류C-Re": 1014,
           "KB온국민TDF2050증권자투자신탁(주식혼합-재간접형)(H)C-퇴직e": 1214,
           "미래에셋전략배분TDF2050혼합자산자투자신탁종류C-P2e": 1096,
           "삼성한국형TDF2050증권투자신탁H[주식혼합-재간접형]Cpe(퇴직연금)": 1175,
           "신한마음편한TDF2050증권투자신탁[주식혼합-재간접형](종류C-re)": 1130,
           "한국투자TDF알아서2050증권자투자신탁H(주식혼합-재간접형)(C-Re)": 1169
          },
          {
           "IBK로우코스트TDF2050증권자투자신탁[혼합-재간접형]종류C-Re": 1031,
           "KB온국민TDF2050증권자투자신탁(주식혼합-재간접형)(H)C-퇴직e": 1188,
           "미래에셋전략배분TDF2050혼합자산자투자신탁종류C-P2e": 1092,
           "삼성한국형TDF2050증권투자신탁H[주식혼합-재간접형]Cpe(퇴직연금)": 1147,
           "신한마음편한TDF2050증권투자신탁[주식혼합-재간접형](종류C-re)": 1117,
           "한국투자TDF알아서2050증권자투자신탁H(주식혼합-재간접형)(C-Re)": 1151
          },
          {
           "IBK로우코스트TDF2050증권자투자신탁[혼합-재간접형]종류C-Re": 1035,
           "KB온국민TDF2050증권자투자신탁(주식혼합-재간접형)(H)C-퇴직e": 1207,
           "미래에셋전략배분TDF2050혼합자산자투자신탁종류C-P2e": 1094,
           "삼성한국형TDF2050증권투자신탁H[주식혼합-재간접형]Cpe(퇴직연금)": 1162,
           "신한마음편한TDF2050증권투자신탁[주식혼합-재간접형](종류C-re)": 1129,
           "한국투자TDF알아서2050증권자투자신탁H(주식혼합-재간접형)(C-Re)": 1155
          },
          {
           "IBK로우코스트TDF2050증권자투자신탁[혼합-재간접형]종류C-Re": 1067,
           "KB온국민TDF2050증권자투자신탁(주식혼합-재간접형)(H)C-퇴직e": 1220,
           "미래에셋전략배분TDF2050혼합자산자투자신탁종류C-P2e": 1110,
           "삼성한국형TDF2050증권투자신탁H[주식혼합-재간접형]Cpe(퇴직연금)": 1176,
           "신한마음편한TDF2050증권투자신탁[주식혼합-재간접형](종류C-re)": 1149,
           "한국투자TDF알아서2050증권자투자신탁H(주식혼합-재간접형)(C-Re)": 1174
          },
          {
           "IBK로우코스트TDF2050증권자투자신탁[혼합-재간접형]종류C-Re": 1070,
           "KB온국민TDF2050증권자투자신탁(주식혼합-재간접형)(H)C-퇴직e": 1246,
           "미래에셋전략배분TDF2050혼합자산자투자신탁종류C-P2e": 1134,
           "삼성한국형TDF2050증권투자신탁H[주식혼합-재간접형]Cpe(퇴직연금)": 1189,
           "신한마음편한TDF2050증권투자신탁[주식혼합-재간접형](종류C-re)": 1168,
           "한국투자TDF알아서2050증권자투자신탁H(주식혼합-재간접형)(C-Re)": 1176
          },
          {
           "IBK로우코스트TDF2050증권자투자신탁[혼합-재간접형]종류C-Re": 1091,
           "KB온국민TDF2050증권자투자신탁(주식혼합-재간접형)(H)C-퇴직e": 1278,
           "미래에셋전략배분TDF2050혼합자산자투자신탁종류C-P2e": 1156,
           "삼성한국형TDF2050증권투자신탁H[주식혼합-재간접형]Cpe(퇴직연금)": 1215,
           "신한마음편한TDF2050증권투자신탁[주식혼합-재간접형](종류C-re)": 1195,
           "한국투자TDF알아서2050증권자투자신탁H(주식혼합-재간접형)(C-Re)": 1202
          },
          {
           "IBK로우코스트TDF2050증권자투자신탁[혼합-재간접형]종류C-Re": 1091,
           "KB온국민TDF2050증권자투자신탁(주식혼합-재간접형)(H)C-퇴직e": 1308,
           "미래에셋전략배분TDF2050혼합자산자투자신탁종류C-P2e": 1172,
           "삼성한국형TDF2050증권투자신탁H[주식혼합-재간접형]Cpe(퇴직연금)": 1239,
           "신한마음편한TDF2050증권투자신탁[주식혼합-재간접형](종류C-re)": 1215,
           "한국투자TDF알아서2050증권자투자신탁H(주식혼합-재간접형)(C-Re)": 1236
          },
          {
           "IBK로우코스트TDF2050증권자투자신탁[혼합-재간접형]종류C-Re": 1104,
           "KB온국민TDF2050증권자투자신탁(주식혼합-재간접형)(H)C-퇴직e": 1301,
           "미래에셋전략배분TDF2050혼합자산자투자신탁종류C-P2e": 1165,
           "삼성한국형TDF2050증권투자신탁H[주식혼합-재간접형]Cpe(퇴직연금)": 1223,
           "신한마음편한TDF2050증권투자신탁[주식혼합-재간접형](종류C-re)": 1210,
           "한국투자TDF알아서2050증권자투자신탁H(주식혼합-재간접형)(C-Re)": 1208
          },
          {
           "IBK로우코스트TDF2050증권자투자신탁[혼합-재간접형]종류C-Re": 1081,
           "KB온국민TDF2050증권자투자신탁(주식혼합-재간접형)(H)C-퇴직e": 1261,
           "미래에셋전략배분TDF2050혼합자산자투자신탁종류C-P2e": 1134,
           "삼성한국형TDF2050증권투자신탁H[주식혼합-재간접형]Cpe(퇴직연금)": 1177,
           "신한마음편한TDF2050증권투자신탁[주식혼합-재간접형](종류C-re)": 1173,
           "한국투자TDF알아서2050증권자투자신탁H(주식혼합-재간접형)(C-Re)": 1185
          },
          {
           "IBK로우코스트TDF2050증권자투자신탁[혼합-재간접형]종류C-Re": 1042,
           "KB온국민TDF2050증권자투자신탁(주식혼합-재간접형)(H)C-퇴직e": 1217,
           "미래에셋전략배분TDF2050혼합자산자투자신탁종류C-P2e": 1099,
           "삼성한국형TDF2050증권투자신탁H[주식혼합-재간접형]Cpe(퇴직연금)": 1135,
           "신한마음편한TDF2050증권투자신탁[주식혼합-재간접형](종류C-re)": 1127,
           "한국투자TDF알아서2050증권자투자신탁H(주식혼합-재간접형)(C-Re)": 1151
          },
          {
           "IBK로우코스트TDF2050증권자투자신탁[혼합-재간접형]종류C-Re": 1091,
           "KB온국민TDF2050증권자투자신탁(주식혼합-재간접형)(H)C-퇴직e": 1303,
           "미래에셋전략배분TDF2050혼합자산자투자신탁종류C-P2e": 1169,
           "삼성한국형TDF2050증권투자신탁H[주식혼합-재간접형]Cpe(퇴직연금)": 1222,
           "신한마음편한TDF2050증권투자신탁[주식혼합-재간접형](종류C-re)": 1210,
           "한국투자TDF알아서2050증권자투자신탁H(주식혼합-재간접형)(C-Re)": 1215
          },
          {
           "IBK로우코스트TDF2050증권자투자신탁[혼합-재간접형]종류C-Re": 1140,
           "KB온국민TDF2050증권자투자신탁(주식혼합-재간접형)(H)C-퇴직e": 1357,
           "미래에셋전략배분TDF2050혼합자산자투자신탁종류C-P2e": 1213,
           "삼성한국형TDF2050증권투자신탁H[주식혼합-재간접형]Cpe(퇴직연금)": 1283,
           "신한마음편한TDF2050증권투자신탁[주식혼합-재간접형](종류C-re)": 1266,
           "한국투자TDF알아서2050증권자투자신탁H(주식혼합-재간접형)(C-Re)": 1267
          },
          {
           "IBK로우코스트TDF2050증권자투자신탁[혼합-재간접형]종류C-Re": 1168,
           "KB온국민TDF2050증권자투자신탁(주식혼합-재간접형)(H)C-퇴직e": 1383,
           "미래에셋전략배분TDF2050혼합자산자투자신탁종류C-P2e": 1242,
           "삼성한국형TDF2050증권투자신탁H[주식혼합-재간접형]Cpe(퇴직연금)": 1292,
           "신한마음편한TDF2050증권투자신탁[주식혼합-재간접형](종류C-re)": 1281,
           "한국투자TDF알아서2050증권자투자신탁H(주식혼합-재간접형)(C-Re)": 1284
          },
          {
           "IBK로우코스트TDF2050증권자투자신탁[혼합-재간접형]종류C-Re": 1191,
           "KB온국민TDF2050증권자투자신탁(주식혼합-재간접형)(H)C-퇴직e": 1417,
           "미래에셋전략배분TDF2050혼합자산자투자신탁종류C-P2e": 1277,
           "삼성한국형TDF2050증권투자신탁H[주식혼합-재간접형]Cpe(퇴직연금)": 1322,
           "신한마음편한TDF2050증권투자신탁[주식혼합-재간접형](종류C-re)": 1314,
           "한국투자TDF알아서2050증권자투자신탁H(주식혼합-재간접형)(C-Re)": 1319
          },
          {
           "IBK로우코스트TDF2050증권자투자신탁[혼합-재간접형]종류C-Re": 1234,
           "KB온국민TDF2050증권자투자신탁(주식혼합-재간접형)(H)C-퇴직e": 1456,
           "미래에셋전략배분TDF2050혼합자산자투자신탁종류C-P2e": 1315,
           "삼성한국형TDF2050증권투자신탁H[주식혼합-재간접형]Cpe(퇴직연금)": 1354,
           "신한마음편한TDF2050증권투자신탁[주식혼합-재간접형](종류C-re)": 1355,
           "한국투자TDF알아서2050증권자투자신탁H(주식혼합-재간접형)(C-Re)": 1356
          },
          {
           "IBK로우코스트TDF2050증권자투자신탁[혼합-재간접형]종류C-Re": 1226,
           "KB온국민TDF2050증권자투자신탁(주식혼합-재간접형)(H)C-퇴직e": 1425,
           "미래에셋전략배분TDF2050혼합자산자투자신탁종류C-P2e": 1301,
           "삼성한국형TDF2050증권투자신탁H[주식혼합-재간접형]Cpe(퇴직연금)": 1328,
           "신한마음편한TDF2050증권투자신탁[주식혼합-재간접형](종류C-re)": 1348,
           "한국투자TDF알아서2050증권자투자신탁H(주식혼합-재간접형)(C-Re)": 1339
          },
          {
           "IBK로우코스트TDF2050증권자투자신탁[혼합-재간접형]종류C-Re": 1254,
           "KB온국민TDF2050증권자투자신탁(주식혼합-재간접형)(H)C-퇴직e": 1459,
           "미래에셋전략배분TDF2050혼합자산자투자신탁종류C-P2e": 1333,
           "삼성한국형TDF2050증권투자신탁H[주식혼합-재간접형]Cpe(퇴직연금)": 1350,
           "신한마음편한TDF2050증권투자신탁[주식혼합-재간접형](종류C-re)": 1384,
           "한국투자TDF알아서2050증권자투자신탁H(주식혼합-재간접형)(C-Re)": 1366
          },
          {
           "IBK로우코스트TDF2050증권자투자신탁[혼합-재간접형]종류C-Re": 1281,
           "KB온국민TDF2050증권자투자신탁(주식혼합-재간접형)(H)C-퇴직e": 1493,
           "미래에셋전략배분TDF2050혼합자산자투자신탁종류C-P2e": 1373,
           "삼성한국형TDF2050증권투자신탁H[주식혼합-재간접형]Cpe(퇴직연금)": 1376,
           "신한마음편한TDF2050증권투자신탁[주식혼합-재간접형](종류C-re)": 1419,
           "한국투자TDF알아서2050증권자투자신탁H(주식혼합-재간접형)(C-Re)": 1386
          },
          {
           "IBK로우코스트TDF2050증권자투자신탁[혼합-재간접형]종류C-Re": 1287,
           "KB온국민TDF2050증권자투자신탁(주식혼합-재간접형)(H)C-퇴직e": 1498,
           "미래에셋전략배분TDF2050혼합자산자투자신탁종류C-P2e": 1358,
           "삼성한국형TDF2050증권투자신탁H[주식혼합-재간접형]Cpe(퇴직연금)": 1374,
           "신한마음편한TDF2050증권투자신탁[주식혼합-재간접형](종류C-re)": 1418,
           "한국투자TDF알아서2050증권자투자신탁H(주식혼합-재간접형)(C-Re)": 1389
          },
          {
           "IBK로우코스트TDF2050증권자투자신탁[혼합-재간접형]종류C-Re": 1287,
           "KB온국민TDF2050증권자투자신탁(주식혼합-재간접형)(H)C-퇴직e": 1514,
           "미래에셋전략배분TDF2050혼합자산자투자신탁종류C-P2e": 1358,
           "삼성한국형TDF2050증권투자신탁H[주식혼합-재간접형]Cpe(퇴직연금)": 1402,
           "신한마음편한TDF2050증권투자신탁[주식혼합-재간접형](종류C-re)": 1427,
           "한국투자TDF알아서2050증권자투자신탁H(주식혼합-재간접형)(C-Re)": 1411
          },
          {
           "IBK로우코스트TDF2050증권자투자신탁[혼합-재간접형]종류C-Re": 1310,
           "KB온국민TDF2050증권자투자신탁(주식혼합-재간접형)(H)C-퇴직e": 1543,
           "미래에셋전략배분TDF2050혼합자산자투자신탁종류C-P2e": 1382,
           "삼성한국형TDF2050증권투자신탁H[주식혼합-재간접형]Cpe(퇴직연금)": 1434,
           "신한마음편한TDF2050증권투자신탁[주식혼합-재간접형](종류C-re)": 1448,
           "한국투자TDF알아서2050증권자투자신탁H(주식혼합-재간접형)(C-Re)": 1424
          },
          {
           "IBK로우코스트TDF2050증권자투자신탁[혼합-재간접형]종류C-Re": 1334,
           "KB온국민TDF2050증권자투자신탁(주식혼합-재간접형)(H)C-퇴직e": 1555,
           "미래에셋전략배분TDF2050혼합자산자투자신탁종류C-P2e": 1403,
           "삼성한국형TDF2050증권투자신탁H[주식혼합-재간접형]Cpe(퇴직연금)": 1425,
           "신한마음편한TDF2050증권투자신탁[주식혼합-재간접형](종류C-re)": 1463,
           "한국투자TDF알아서2050증권자투자신탁H(주식혼합-재간접형)(C-Re)": 1425
          },
          {
           "IBK로우코스트TDF2050증권자투자신탁[혼합-재간접형]종류C-Re": 1345,
           "KB온국민TDF2050증권자투자신탁(주식혼합-재간접형)(H)C-퇴직e": 1571,
           "미래에셋전략배분TDF2050혼합자산자투자신탁종류C-P2e": 1416,
           "삼성한국형TDF2050증권투자신탁H[주식혼합-재간접형]Cpe(퇴직연금)": 1427,
           "신한마음편한TDF2050증권투자신탁[주식혼합-재간접형](종류C-re)": 1480,
           "한국투자TDF알아서2050증권자투자신탁H(주식혼합-재간접형)(C-Re)": 1445
          }
         ]
        }
       ],
       "layout": {
        "autosize": true,
        "template": {
         "data": {
          "bar": [
           {
            "error_x": {
             "color": "#2a3f5f"
            },
            "error_y": {
             "color": "#2a3f5f"
            },
            "marker": {
             "line": {
              "color": "#E5ECF6",
              "width": 0.5
             },
             "pattern": {
              "fillmode": "overlay",
              "size": 10,
              "solidity": 0.2
             }
            },
            "type": "bar"
           }
          ],
          "barpolar": [
           {
            "marker": {
             "line": {
              "color": "#E5ECF6",
              "width": 0.5
             },
             "pattern": {
              "fillmode": "overlay",
              "size": 10,
              "solidity": 0.2
             }
            },
            "type": "barpolar"
           }
          ],
          "carpet": [
           {
            "aaxis": {
             "endlinecolor": "#2a3f5f",
             "gridcolor": "white",
             "linecolor": "white",
             "minorgridcolor": "white",
             "startlinecolor": "#2a3f5f"
            },
            "baxis": {
             "endlinecolor": "#2a3f5f",
             "gridcolor": "white",
             "linecolor": "white",
             "minorgridcolor": "white",
             "startlinecolor": "#2a3f5f"
            },
            "type": "carpet"
           }
          ],
          "choropleth": [
           {
            "colorbar": {
             "outlinewidth": 0,
             "ticks": ""
            },
            "type": "choropleth"
           }
          ],
          "contour": [
           {
            "colorbar": {
             "outlinewidth": 0,
             "ticks": ""
            },
            "colorscale": [
             [
              0,
              "#0d0887"
             ],
             [
              0.1111111111111111,
              "#46039f"
             ],
             [
              0.2222222222222222,
              "#7201a8"
             ],
             [
              0.3333333333333333,
              "#9c179e"
             ],
             [
              0.4444444444444444,
              "#bd3786"
             ],
             [
              0.5555555555555556,
              "#d8576b"
             ],
             [
              0.6666666666666666,
              "#ed7953"
             ],
             [
              0.7777777777777778,
              "#fb9f3a"
             ],
             [
              0.8888888888888888,
              "#fdca26"
             ],
             [
              1,
              "#f0f921"
             ]
            ],
            "type": "contour"
           }
          ],
          "contourcarpet": [
           {
            "colorbar": {
             "outlinewidth": 0,
             "ticks": ""
            },
            "type": "contourcarpet"
           }
          ],
          "heatmap": [
           {
            "colorbar": {
             "outlinewidth": 0,
             "ticks": ""
            },
            "colorscale": [
             [
              0,
              "#0d0887"
             ],
             [
              0.1111111111111111,
              "#46039f"
             ],
             [
              0.2222222222222222,
              "#7201a8"
             ],
             [
              0.3333333333333333,
              "#9c179e"
             ],
             [
              0.4444444444444444,
              "#bd3786"
             ],
             [
              0.5555555555555556,
              "#d8576b"
             ],
             [
              0.6666666666666666,
              "#ed7953"
             ],
             [
              0.7777777777777778,
              "#fb9f3a"
             ],
             [
              0.8888888888888888,
              "#fdca26"
             ],
             [
              1,
              "#f0f921"
             ]
            ],
            "type": "heatmap"
           }
          ],
          "heatmapgl": [
           {
            "colorbar": {
             "outlinewidth": 0,
             "ticks": ""
            },
            "colorscale": [
             [
              0,
              "#0d0887"
             ],
             [
              0.1111111111111111,
              "#46039f"
             ],
             [
              0.2222222222222222,
              "#7201a8"
             ],
             [
              0.3333333333333333,
              "#9c179e"
             ],
             [
              0.4444444444444444,
              "#bd3786"
             ],
             [
              0.5555555555555556,
              "#d8576b"
             ],
             [
              0.6666666666666666,
              "#ed7953"
             ],
             [
              0.7777777777777778,
              "#fb9f3a"
             ],
             [
              0.8888888888888888,
              "#fdca26"
             ],
             [
              1,
              "#f0f921"
             ]
            ],
            "type": "heatmapgl"
           }
          ],
          "histogram": [
           {
            "marker": {
             "pattern": {
              "fillmode": "overlay",
              "size": 10,
              "solidity": 0.2
             }
            },
            "type": "histogram"
           }
          ],
          "histogram2d": [
           {
            "colorbar": {
             "outlinewidth": 0,
             "ticks": ""
            },
            "colorscale": [
             [
              0,
              "#0d0887"
             ],
             [
              0.1111111111111111,
              "#46039f"
             ],
             [
              0.2222222222222222,
              "#7201a8"
             ],
             [
              0.3333333333333333,
              "#9c179e"
             ],
             [
              0.4444444444444444,
              "#bd3786"
             ],
             [
              0.5555555555555556,
              "#d8576b"
             ],
             [
              0.6666666666666666,
              "#ed7953"
             ],
             [
              0.7777777777777778,
              "#fb9f3a"
             ],
             [
              0.8888888888888888,
              "#fdca26"
             ],
             [
              1,
              "#f0f921"
             ]
            ],
            "type": "histogram2d"
           }
          ],
          "histogram2dcontour": [
           {
            "colorbar": {
             "outlinewidth": 0,
             "ticks": ""
            },
            "colorscale": [
             [
              0,
              "#0d0887"
             ],
             [
              0.1111111111111111,
              "#46039f"
             ],
             [
              0.2222222222222222,
              "#7201a8"
             ],
             [
              0.3333333333333333,
              "#9c179e"
             ],
             [
              0.4444444444444444,
              "#bd3786"
             ],
             [
              0.5555555555555556,
              "#d8576b"
             ],
             [
              0.6666666666666666,
              "#ed7953"
             ],
             [
              0.7777777777777778,
              "#fb9f3a"
             ],
             [
              0.8888888888888888,
              "#fdca26"
             ],
             [
              1,
              "#f0f921"
             ]
            ],
            "type": "histogram2dcontour"
           }
          ],
          "mesh3d": [
           {
            "colorbar": {
             "outlinewidth": 0,
             "ticks": ""
            },
            "type": "mesh3d"
           }
          ],
          "parcoords": [
           {
            "line": {
             "colorbar": {
              "outlinewidth": 0,
              "ticks": ""
             }
            },
            "type": "parcoords"
           }
          ],
          "pie": [
           {
            "automargin": true,
            "type": "pie"
           }
          ],
          "scatter": [
           {
            "fillpattern": {
             "fillmode": "overlay",
             "size": 10,
             "solidity": 0.2
            },
            "type": "scatter"
           }
          ],
          "scatter3d": [
           {
            "line": {
             "colorbar": {
              "outlinewidth": 0,
              "ticks": ""
             }
            },
            "marker": {
             "colorbar": {
              "outlinewidth": 0,
              "ticks": ""
             }
            },
            "type": "scatter3d"
           }
          ],
          "scattercarpet": [
           {
            "marker": {
             "colorbar": {
              "outlinewidth": 0,
              "ticks": ""
             }
            },
            "type": "scattercarpet"
           }
          ],
          "scattergeo": [
           {
            "marker": {
             "colorbar": {
              "outlinewidth": 0,
              "ticks": ""
             }
            },
            "type": "scattergeo"
           }
          ],
          "scattergl": [
           {
            "marker": {
             "colorbar": {
              "outlinewidth": 0,
              "ticks": ""
             }
            },
            "type": "scattergl"
           }
          ],
          "scattermapbox": [
           {
            "marker": {
             "colorbar": {
              "outlinewidth": 0,
              "ticks": ""
             }
            },
            "type": "scattermapbox"
           }
          ],
          "scatterpolar": [
           {
            "marker": {
             "colorbar": {
              "outlinewidth": 0,
              "ticks": ""
             }
            },
            "type": "scatterpolar"
           }
          ],
          "scatterpolargl": [
           {
            "marker": {
             "colorbar": {
              "outlinewidth": 0,
              "ticks": ""
             }
            },
            "type": "scatterpolargl"
           }
          ],
          "scatterternary": [
           {
            "marker": {
             "colorbar": {
              "outlinewidth": 0,
              "ticks": ""
             }
            },
            "type": "scatterternary"
           }
          ],
          "surface": [
           {
            "colorbar": {
             "outlinewidth": 0,
             "ticks": ""
            },
            "colorscale": [
             [
              0,
              "#0d0887"
             ],
             [
              0.1111111111111111,
              "#46039f"
             ],
             [
              0.2222222222222222,
              "#7201a8"
             ],
             [
              0.3333333333333333,
              "#9c179e"
             ],
             [
              0.4444444444444444,
              "#bd3786"
             ],
             [
              0.5555555555555556,
              "#d8576b"
             ],
             [
              0.6666666666666666,
              "#ed7953"
             ],
             [
              0.7777777777777778,
              "#fb9f3a"
             ],
             [
              0.8888888888888888,
              "#fdca26"
             ],
             [
              1,
              "#f0f921"
             ]
            ],
            "type": "surface"
           }
          ],
          "table": [
           {
            "cells": {
             "fill": {
              "color": "#EBF0F8"
             },
             "line": {
              "color": "white"
             }
            },
            "header": {
             "fill": {
              "color": "#C8D4E3"
             },
             "line": {
              "color": "white"
             }
            },
            "type": "table"
           }
          ]
         },
         "layout": {
          "annotationdefaults": {
           "arrowcolor": "#2a3f5f",
           "arrowhead": 0,
           "arrowwidth": 1
          },
          "autotypenumbers": "strict",
          "coloraxis": {
           "colorbar": {
            "outlinewidth": 0,
            "ticks": ""
           }
          },
          "colorscale": {
           "diverging": [
            [
             0,
             "#8e0152"
            ],
            [
             0.1,
             "#c51b7d"
            ],
            [
             0.2,
             "#de77ae"
            ],
            [
             0.3,
             "#f1b6da"
            ],
            [
             0.4,
             "#fde0ef"
            ],
            [
             0.5,
             "#f7f7f7"
            ],
            [
             0.6,
             "#e6f5d0"
            ],
            [
             0.7,
             "#b8e186"
            ],
            [
             0.8,
             "#7fbc41"
            ],
            [
             0.9,
             "#4d9221"
            ],
            [
             1,
             "#276419"
            ]
           ],
           "sequential": [
            [
             0,
             "#0d0887"
            ],
            [
             0.1111111111111111,
             "#46039f"
            ],
            [
             0.2222222222222222,
             "#7201a8"
            ],
            [
             0.3333333333333333,
             "#9c179e"
            ],
            [
             0.4444444444444444,
             "#bd3786"
            ],
            [
             0.5555555555555556,
             "#d8576b"
            ],
            [
             0.6666666666666666,
             "#ed7953"
            ],
            [
             0.7777777777777778,
             "#fb9f3a"
            ],
            [
             0.8888888888888888,
             "#fdca26"
            ],
            [
             1,
             "#f0f921"
            ]
           ],
           "sequentialminus": [
            [
             0,
             "#0d0887"
            ],
            [
             0.1111111111111111,
             "#46039f"
            ],
            [
             0.2222222222222222,
             "#7201a8"
            ],
            [
             0.3333333333333333,
             "#9c179e"
            ],
            [
             0.4444444444444444,
             "#bd3786"
            ],
            [
             0.5555555555555556,
             "#d8576b"
            ],
            [
             0.6666666666666666,
             "#ed7953"
            ],
            [
             0.7777777777777778,
             "#fb9f3a"
            ],
            [
             0.8888888888888888,
             "#fdca26"
            ],
            [
             1,
             "#f0f921"
            ]
           ]
          },
          "colorway": [
           "#636efa",
           "#EF553B",
           "#00cc96",
           "#ab63fa",
           "#FFA15A",
           "#19d3f3",
           "#FF6692",
           "#B6E880",
           "#FF97FF",
           "#FECB52"
          ],
          "font": {
           "color": "#2a3f5f"
          },
          "geo": {
           "bgcolor": "white",
           "lakecolor": "white",
           "landcolor": "#E5ECF6",
           "showlakes": true,
           "showland": true,
           "subunitcolor": "white"
          },
          "hoverlabel": {
           "align": "left"
          },
          "hovermode": "closest",
          "mapbox": {
           "style": "light"
          },
          "paper_bgcolor": "white",
          "plot_bgcolor": "#E5ECF6",
          "polar": {
           "angularaxis": {
            "gridcolor": "white",
            "linecolor": "white",
            "ticks": ""
           },
           "bgcolor": "#E5ECF6",
           "radialaxis": {
            "gridcolor": "white",
            "linecolor": "white",
            "ticks": ""
           }
          },
          "scene": {
           "xaxis": {
            "backgroundcolor": "#E5ECF6",
            "gridcolor": "white",
            "gridwidth": 2,
            "linecolor": "white",
            "showbackground": true,
            "ticks": "",
            "zerolinecolor": "white"
           },
           "yaxis": {
            "backgroundcolor": "#E5ECF6",
            "gridcolor": "white",
            "gridwidth": 2,
            "linecolor": "white",
            "showbackground": true,
            "ticks": "",
            "zerolinecolor": "white"
           },
           "zaxis": {
            "backgroundcolor": "#E5ECF6",
            "gridcolor": "white",
            "gridwidth": 2,
            "linecolor": "white",
            "showbackground": true,
            "ticks": "",
            "zerolinecolor": "white"
           }
          },
          "shapedefaults": {
           "line": {
            "color": "#2a3f5f"
           }
          },
          "ternary": {
           "aaxis": {
            "gridcolor": "white",
            "linecolor": "white",
            "ticks": ""
           },
           "baxis": {
            "gridcolor": "white",
            "linecolor": "white",
            "ticks": ""
           },
           "bgcolor": "#E5ECF6",
           "caxis": {
            "gridcolor": "white",
            "linecolor": "white",
            "ticks": ""
           }
          },
          "title": {
           "x": 0.05
          },
          "xaxis": {
           "automargin": true,
           "gridcolor": "white",
           "linecolor": "white",
           "ticks": "",
           "title": {
            "standoff": 15
           },
           "zerolinecolor": "white",
           "zerolinewidth": 2
          },
          "yaxis": {
           "automargin": true,
           "gridcolor": "white",
           "linecolor": "white",
           "ticks": "",
           "title": {
            "standoff": 15
           },
           "zerolinecolor": "white",
           "zerolinewidth": 2
          }
         }
        },
        "xaxis": {
         "autorange": true,
         "range": [
          "2017-07-31",
          "2024-11-29"
         ],
         "type": "date"
        },
        "yaxis": {
         "autorange": true,
         "range": [
          -1,
          4
         ]
        }
       }
      },
      "image/png": "[encoded data removed]",
      "text/html": [
       "<div>                            <div id=\"1f0146ee-0864-42d9-bfad-63669cf1f7f8\" class=\"plotly-graph-div\" style=\"height:525px; width:100%;\"></div>            <script type=\"text/javascript\">                require([\"plotly\"], function(Plotly) {                    window.PLOTLYENV=window.PLOTLYENV || {};                                    if (document.getElementById(\"1f0146ee-0864-42d9-bfad-63669cf1f7f8\")) {                    Plotly.newPlot(                        \"1f0146ee-0864-42d9-bfad-63669cf1f7f8\",                        [{\"mode\":\"lines\",\"x\":[\"2017-07-31\",\"2017-08-31\",\"2017-09-30\",\"2017-10-31\",\"2017-11-30\",\"2017-12-31\",\"2018-01-31\",\"2018-02-28\",\"2018-03-31\",\"2018-04-30\",\"2018-05-31\",\"2018-06-30\",\"2018-07-31\",\"2018-08-31\",\"2018-09-30\",\"2018-10-31\",\"2018-11-30\",\"2018-12-31\",\"2019-01-31\",\"2019-02-28\",\"2019-03-31\",\"2019-04-30\",\"2019-05-31\",\"2019-06-30\",\"2019-07-31\",\"2019-08-31\",\"2019-09-30\",\"2019-10-31\",\"2019-11-30\",\"2019-12-31\",\"2020-01-31\",\"2020-02-29\",\"2020-03-31\",\"2020-04-30\",\"2020-05-31\",\"2020-06-30\",\"2020-07-31\",\"2020-08-31\",\"2020-09-30\",\"2020-10-31\",\"2020-11-30\",\"2020-12-31\",\"2021-01-31\",\"2021-02-28\",\"2021-03-31\",\"2021-04-30\",\"2021-05-31\",\"2021-06-30\",\"2021-07-31\",\"2021-08-31\",\"2021-09-30\",\"2021-10-31\",\"2021-11-30\",\"2021-12-31\",\"2022-01-31\",\"2022-02-28\",\"2022-03-31\",\"2022-04-30\",\"2022-05-31\",\"2022-06-30\",\"2022-07-31\",\"2022-08-31\",\"2022-09-30\",\"2022-10-31\",\"2022-11-30\",\"2022-12-31\",\"2023-01-31\",\"2023-02-28\",\"2023-03-31\",\"2023-04-30\",\"2023-05-31\",\"2023-06-30\",\"2023-07-31\",\"2023-08-31\",\"2023-09-30\",\"2023-10-31\",\"2023-11-30\",\"2023-12-31\",\"2024-01-31\",\"2024-02-29\",\"2024-03-31\",\"2024-04-30\",\"2024-05-31\",\"2024-06-30\",\"2024-07-31\",\"2024-08-31\",\"2024-09-30\",\"2024-10-31\",\"2024-11-29\"],\"y\":[{\"\\ud55c\\uad6d\\ud22c\\uc790TDF\\uc54c\\uc544\\uc11c2050\\uc99d\\uad8c\\uc790\\ud22c\\uc790\\uc2e0\\ud0c1H(\\uc8fc\\uc2dd\\ud63c\\ud569-\\uc7ac\\uac04\\uc811\\ud615)(C-Re)\":null,\"\\uc0bc\\uc131\\ud55c\\uad6d\\ud615TDF2050\\uc99d\\uad8c\\ud22c\\uc790\\uc2e0\\ud0c1H[\\uc8fc\\uc2dd\\ud63c\\ud569-\\uc7ac\\uac04\\uc811\\ud615]Cpe(\\ud1f4\\uc9c1\\uc5f0\\uae08)\":null,\"\\uc2e0\\ud55c\\ub9c8\\uc74c\\ud3b8\\ud55cTDF2050\\uc99d\\uad8c\\ud22c\\uc790\\uc2e0\\ud0c1[\\uc8fc\\uc2dd\\ud63c\\ud569-\\uc7ac\\uac04\\uc811\\ud615](\\uc885\\ub958C-re)\":null,\"KB\\uc628\\uad6d\\ubbfcTDF2050\\uc99d\\uad8c\\uc790\\ud22c\\uc790\\uc2e0\\ud0c1(\\uc8fc\\uc2dd\\ud63c\\ud569-\\uc7ac\\uac04\\uc811\\ud615)(H)C-\\ud1f4\\uc9c1e\":942.0,\"IBK\\ub85c\\uc6b0\\ucf54\\uc2a4\\ud2b8TDF2050\\uc99d\\uad8c\\uc790\\ud22c\\uc790\\uc2e0\\ud0c1[\\ud63c\\ud569-\\uc7ac\\uac04\\uc811\\ud615]\\uc885\\ub958C-Re\":null,\"\\ubbf8\\ub798\\uc5d0\\uc14b\\uc804\\ub7b5\\ubc30\\ubd84TDF2050\\ud63c\\ud569\\uc790\\uc0b0\\uc790\\ud22c\\uc790\\uc2e0\\ud0c1\\uc885\\ub958C-P2e\":null},{\"\\ud55c\\uad6d\\ud22c\\uc790TDF\\uc54c\\uc544\\uc11c2050\\uc99d\\uad8c\\uc790\\ud22c\\uc790\\uc2e0\\ud0c1H(\\uc8fc\\uc2dd\\ud63c\\ud569-\\uc7ac\\uac04\\uc811\\ud615)(C-Re)\":null,\"\\uc0bc\\uc131\\ud55c\\uad6d\\ud615TDF2050\\uc99d\\uad8c\\ud22c\\uc790\\uc2e0\\ud0c1H[\\uc8fc\\uc2dd\\ud63c\\ud569-\\uc7ac\\uac04\\uc811\\ud615]Cpe(\\ud1f4\\uc9c1\\uc5f0\\uae08)\":null,\"\\uc2e0\\ud55c\\ub9c8\\uc74c\\ud3b8\\ud55cTDF2050\\uc99d\\uad8c\\ud22c\\uc790\\uc2e0\\ud0c1[\\uc8fc\\uc2dd\\ud63c\\ud569-\\uc7ac\\uac04\\uc811\\ud615](\\uc885\\ub958C-re)\":null,\"KB\\uc628\\uad6d\\ubbfcTDF2050\\uc99d\\uad8c\\uc790\\ud22c\\uc790\\uc2e0\\ud0c1(\\uc8fc\\uc2dd\\ud63c\\ud569-\\uc7ac\\uac04\\uc811\\ud615)(H)C-\\ud1f4\\uc9c1e\":936.0,\"IBK\\ub85c\\uc6b0\\ucf54\\uc2a4\\ud2b8TDF2050\\uc99d\\uad8c\\uc790\\ud22c\\uc790\\uc2e0\\ud0c1[\\ud63c\\ud569-\\uc7ac\\uac04\\uc811\\ud615]\\uc885\\ub958C-Re\":null,\"\\ubbf8\\ub798\\uc5d0\\uc14b\\uc804\\ub7b5\\ubc30\\ubd84TDF2050\\ud63c\\ud569\\uc790\\uc0b0\\uc790\\ud22c\\uc790\\uc2e0\\ud0c1\\uc885\\ub958C-P2e\":null},{\"\\ud55c\\uad6d\\ud22c\\uc790TDF\\uc54c\\uc544\\uc11c2050\\uc99d\\uad8c\\uc790\\ud22c\\uc790\\uc2e0\\ud0c1H(\\uc8fc\\uc2dd\\ud63c\\ud569-\\uc7ac\\uac04\\uc811\\ud615)(C-Re)\":null,\"\\uc0bc\\uc131\\ud55c\\uad6d\\ud615TDF2050\\uc99d\\uad8c\\ud22c\\uc790\\uc2e0\\ud0c1H[\\uc8fc\\uc2dd\\ud63c\\ud569-\\uc7ac\\uac04\\uc811\\ud615]Cpe(\\ud1f4\\uc9c1\\uc5f0\\uae08)\":null,\"\\uc2e0\\ud55c\\ub9c8\\uc74c\\ud3b8\\ud55cTDF2050\\uc99d\\uad8c\\ud22c\\uc790\\uc2e0\\ud0c1[\\uc8fc\\uc2dd\\ud63c\\ud569-\\uc7ac\\uac04\\uc811\\ud615](\\uc885\\ub958C-re)\":null,\"KB\\uc628\\uad6d\\ubbfcTDF2050\\uc99d\\uad8c\\uc790\\ud22c\\uc790\\uc2e0\\ud0c1(\\uc8fc\\uc2dd\\ud63c\\ud569-\\uc7ac\\uac04\\uc811\\ud615)(H)C-\\ud1f4\\uc9c1e\":954.0,\"IBK\\ub85c\\uc6b0\\ucf54\\uc2a4\\ud2b8TDF2050\\uc99d\\uad8c\\uc790\\ud22c\\uc790\\uc2e0\\ud0c1[\\ud63c\\ud569-\\uc7ac\\uac04\\uc811\\ud615]\\uc885\\ub958C-Re\":null,\"\\ubbf8\\ub798\\uc5d0\\uc14b\\uc804\\ub7b5\\ubc30\\ubd84TDF2050\\ud63c\\ud569\\uc790\\uc0b0\\uc790\\ud22c\\uc790\\uc2e0\\ud0c1\\uc885\\ub958C-P2e\":null},{\"\\ud55c\\uad6d\\ud22c\\uc790TDF\\uc54c\\uc544\\uc11c2050\\uc99d\\uad8c\\uc790\\ud22c\\uc790\\uc2e0\\ud0c1H(\\uc8fc\\uc2dd\\ud63c\\ud569-\\uc7ac\\uac04\\uc811\\ud615)(C-Re)\":null,\"\\uc0bc\\uc131\\ud55c\\uad6d\\ud615TDF2050\\uc99d\\uad8c\\ud22c\\uc790\\uc2e0\\ud0c1H[\\uc8fc\\uc2dd\\ud63c\\ud569-\\uc7ac\\uac04\\uc811\\ud615]Cpe(\\ud1f4\\uc9c1\\uc5f0\\uae08)\":null,\"\\uc2e0\\ud55c\\ub9c8\\uc74c\\ud3b8\\ud55cTDF2050\\uc99d\\uad8c\\ud22c\\uc790\\uc2e0\\ud0c1[\\uc8fc\\uc2dd\\ud63c\\ud569-\\uc7ac\\uac04\\uc811\\ud615](\\uc885\\ub958C-re)\":null,\"KB\\uc628\\uad6d\\ubbfcTDF2050\\uc99d\\uad8c\\uc790\\ud22c\\uc790\\uc2e0\\ud0c1(\\uc8fc\\uc2dd\\ud63c\\ud569-\\uc7ac\\uac04\\uc811\\ud615)(H)C-\\ud1f4\\uc9c1e\":971.0,\"IBK\\ub85c\\uc6b0\\ucf54\\uc2a4\\ud2b8TDF2050\\uc99d\\uad8c\\uc790\\ud22c\\uc790\\uc2e0\\ud0c1[\\ud63c\\ud569-\\uc7ac\\uac04\\uc811\\ud615]\\uc885\\ub958C-Re\":null,\"\\ubbf8\\ub798\\uc5d0\\uc14b\\uc804\\ub7b5\\ubc30\\ubd84TDF2050\\ud63c\\ud569\\uc790\\uc0b0\\uc790\\ud22c\\uc790\\uc2e0\\ud0c1\\uc885\\ub958C-P2e\":null},{\"\\ud55c\\uad6d\\ud22c\\uc790TDF\\uc54c\\uc544\\uc11c2050\\uc99d\\uad8c\\uc790\\ud22c\\uc790\\uc2e0\\ud0c1H(\\uc8fc\\uc2dd\\ud63c\\ud569-\\uc7ac\\uac04\\uc811\\ud615)(C-Re)\":null,\"\\uc0bc\\uc131\\ud55c\\uad6d\\ud615TDF2050\\uc99d\\uad8c\\ud22c\\uc790\\uc2e0\\ud0c1H[\\uc8fc\\uc2dd\\ud63c\\ud569-\\uc7ac\\uac04\\uc811\\ud615]Cpe(\\ud1f4\\uc9c1\\uc5f0\\uae08)\":null,\"\\uc2e0\\ud55c\\ub9c8\\uc74c\\ud3b8\\ud55cTDF2050\\uc99d\\uad8c\\ud22c\\uc790\\uc2e0\\ud0c1[\\uc8fc\\uc2dd\\ud63c\\ud569-\\uc7ac\\uac04\\uc811\\ud615](\\uc885\\ub958C-re)\":null,\"KB\\uc628\\uad6d\\ubbfcTDF2050\\uc99d\\uad8c\\uc790\\ud22c\\uc790\\uc2e0\\ud0c1(\\uc8fc\\uc2dd\\ud63c\\ud569-\\uc7ac\\uac04\\uc811\\ud615)(H)C-\\ud1f4\\uc9c1e\":980.0,\"IBK\\ub85c\\uc6b0\\ucf54\\uc2a4\\ud2b8TDF2050\\uc99d\\uad8c\\uc790\\ud22c\\uc790\\uc2e0\\ud0c1[\\ud63c\\ud569-\\uc7ac\\uac04\\uc811\\ud615]\\uc885\\ub958C-Re\":null,\"\\ubbf8\\ub798\\uc5d0\\uc14b\\uc804\\ub7b5\\ubc30\\ubd84TDF2050\\ud63c\\ud569\\uc790\\uc0b0\\uc790\\ud22c\\uc790\\uc2e0\\ud0c1\\uc885\\ub958C-P2e\":null},{\"\\ud55c\\uad6d\\ud22c\\uc790TDF\\uc54c\\uc544\\uc11c2050\\uc99d\\uad8c\\uc790\\ud22c\\uc790\\uc2e0\\ud0c1H(\\uc8fc\\uc2dd\\ud63c\\ud569-\\uc7ac\\uac04\\uc811\\ud615)(C-Re)\":null,\"\\uc0bc\\uc131\\ud55c\\uad6d\\ud615TDF2050\\uc99d\\uad8c\\ud22c\\uc790\\uc2e0\\ud0c1H[\\uc8fc\\uc2dd\\ud63c\\ud569-\\uc7ac\\uac04\\uc811\\ud615]Cpe(\\ud1f4\\uc9c1\\uc5f0\\uae08)\":null,\"\\uc2e0\\ud55c\\ub9c8\\uc74c\\ud3b8\\ud55cTDF2050\\uc99d\\uad8c\\ud22c\\uc790\\uc2e0\\ud0c1[\\uc8fc\\uc2dd\\ud63c\\ud569-\\uc7ac\\uac04\\uc811\\ud615](\\uc885\\ub958C-re)\":null,\"KB\\uc628\\uad6d\\ubbfcTDF2050\\uc99d\\uad8c\\uc790\\ud22c\\uc790\\uc2e0\\ud0c1(\\uc8fc\\uc2dd\\ud63c\\ud569-\\uc7ac\\uac04\\uc811\\ud615)(H)C-\\ud1f4\\uc9c1e\":993.0,\"IBK\\ub85c\\uc6b0\\ucf54\\uc2a4\\ud2b8TDF2050\\uc99d\\uad8c\\uc790\\ud22c\\uc790\\uc2e0\\ud0c1[\\ud63c\\ud569-\\uc7ac\\uac04\\uc811\\ud615]\\uc885\\ub958C-Re\":null,\"\\ubbf8\\ub798\\uc5d0\\uc14b\\uc804\\ub7b5\\ubc30\\ubd84TDF2050\\ud63c\\ud569\\uc790\\uc0b0\\uc790\\ud22c\\uc790\\uc2e0\\ud0c1\\uc885\\ub958C-P2e\":null},{\"\\ud55c\\uad6d\\ud22c\\uc790TDF\\uc54c\\uc544\\uc11c2050\\uc99d\\uad8c\\uc790\\ud22c\\uc790\\uc2e0\\ud0c1H(\\uc8fc\\uc2dd\\ud63c\\ud569-\\uc7ac\\uac04\\uc811\\ud615)(C-Re)\":null,\"\\uc0bc\\uc131\\ud55c\\uad6d\\ud615TDF2050\\uc99d\\uad8c\\ud22c\\uc790\\uc2e0\\ud0c1H[\\uc8fc\\uc2dd\\ud63c\\ud569-\\uc7ac\\uac04\\uc811\\ud615]Cpe(\\ud1f4\\uc9c1\\uc5f0\\uae08)\":null,\"\\uc2e0\\ud55c\\ub9c8\\uc74c\\ud3b8\\ud55cTDF2050\\uc99d\\uad8c\\ud22c\\uc790\\uc2e0\\ud0c1[\\uc8fc\\uc2dd\\ud63c\\ud569-\\uc7ac\\uac04\\uc811\\ud615](\\uc885\\ub958C-re)\":null,\"KB\\uc628\\uad6d\\ubbfcTDF2050\\uc99d\\uad8c\\uc790\\ud22c\\uc790\\uc2e0\\ud0c1(\\uc8fc\\uc2dd\\ud63c\\ud569-\\uc7ac\\uac04\\uc811\\ud615)(H)C-\\ud1f4\\uc9c1e\":1037.0,\"IBK\\ub85c\\uc6b0\\ucf54\\uc2a4\\ud2b8TDF2050\\uc99d\\uad8c\\uc790\\ud22c\\uc790\\uc2e0\\ud0c1[\\ud63c\\ud569-\\uc7ac\\uac04\\uc811\\ud615]\\uc885\\ub958C-Re\":null,\"\\ubbf8\\ub798\\uc5d0\\uc14b\\uc804\\ub7b5\\ubc30\\ubd84TDF2050\\ud63c\\ud569\\uc790\\uc0b0\\uc790\\ud22c\\uc790\\uc2e0\\ud0c1\\uc885\\ub958C-P2e\":null},{\"\\ud55c\\uad6d\\ud22c\\uc790TDF\\uc54c\\uc544\\uc11c2050\\uc99d\\uad8c\\uc790\\ud22c\\uc790\\uc2e0\\ud0c1H(\\uc8fc\\uc2dd\\ud63c\\ud569-\\uc7ac\\uac04\\uc811\\ud615)(C-Re)\":null,\"\\uc0bc\\uc131\\ud55c\\uad6d\\ud615TDF2050\\uc99d\\uad8c\\ud22c\\uc790\\uc2e0\\ud0c1H[\\uc8fc\\uc2dd\\ud63c\\ud569-\\uc7ac\\uac04\\uc811\\ud615]Cpe(\\ud1f4\\uc9c1\\uc5f0\\uae08)\":null,\"\\uc2e0\\ud55c\\ub9c8\\uc74c\\ud3b8\\ud55cTDF2050\\uc99d\\uad8c\\ud22c\\uc790\\uc2e0\\ud0c1[\\uc8fc\\uc2dd\\ud63c\\ud569-\\uc7ac\\uac04\\uc811\\ud615](\\uc885\\ub958C-re)\":null,\"KB\\uc628\\uad6d\\ubbfcTDF2050\\uc99d\\uad8c\\uc790\\ud22c\\uc790\\uc2e0\\ud0c1(\\uc8fc\\uc2dd\\ud63c\\ud569-\\uc7ac\\uac04\\uc811\\ud615)(H)C-\\ud1f4\\uc9c1e\":1012.0,\"IBK\\ub85c\\uc6b0\\ucf54\\uc2a4\\ud2b8TDF2050\\uc99d\\uad8c\\uc790\\ud22c\\uc790\\uc2e0\\ud0c1[\\ud63c\\ud569-\\uc7ac\\uac04\\uc811\\ud615]\\uc885\\ub958C-Re\":null,\"\\ubbf8\\ub798\\uc5d0\\uc14b\\uc804\\ub7b5\\ubc30\\ubd84TDF2050\\ud63c\\ud569\\uc790\\uc0b0\\uc790\\ud22c\\uc790\\uc2e0\\ud0c1\\uc885\\ub958C-P2e\":null},{\"\\ud55c\\uad6d\\ud22c\\uc790TDF\\uc54c\\uc544\\uc11c2050\\uc99d\\uad8c\\uc790\\ud22c\\uc790\\uc2e0\\ud0c1H(\\uc8fc\\uc2dd\\ud63c\\ud569-\\uc7ac\\uac04\\uc811\\ud615)(C-Re)\":null,\"\\uc0bc\\uc131\\ud55c\\uad6d\\ud615TDF2050\\uc99d\\uad8c\\ud22c\\uc790\\uc2e0\\ud0c1H[\\uc8fc\\uc2dd\\ud63c\\ud569-\\uc7ac\\uac04\\uc811\\ud615]Cpe(\\ud1f4\\uc9c1\\uc5f0\\uae08)\":null,\"\\uc2e0\\ud55c\\ub9c8\\uc74c\\ud3b8\\ud55cTDF2050\\uc99d\\uad8c\\ud22c\\uc790\\uc2e0\\ud0c1[\\uc8fc\\uc2dd\\ud63c\\ud569-\\uc7ac\\uac04\\uc811\\ud615](\\uc885\\ub958C-re)\":null,\"KB\\uc628\\uad6d\\ubbfcTDF2050\\uc99d\\uad8c\\uc790\\ud22c\\uc790\\uc2e0\\ud0c1(\\uc8fc\\uc2dd\\ud63c\\ud569-\\uc7ac\\uac04\\uc811\\ud615)(H)C-\\ud1f4\\uc9c1e\":974.0,\"IBK\\ub85c\\uc6b0\\ucf54\\uc2a4\\ud2b8TDF2050\\uc99d\\uad8c\\uc790\\ud22c\\uc790\\uc2e0\\ud0c1[\\ud63c\\ud569-\\uc7ac\\uac04\\uc811\\ud615]\\uc885\\ub958C-Re\":null,\"\\ubbf8\\ub798\\uc5d0\\uc14b\\uc804\\ub7b5\\ubc30\\ubd84TDF2050\\ud63c\\ud569\\uc790\\uc0b0\\uc790\\ud22c\\uc790\\uc2e0\\ud0c1\\uc885\\ub958C-P2e\":null},{\"\\ud55c\\uad6d\\ud22c\\uc790TDF\\uc54c\\uc544\\uc11c2050\\uc99d\\uad8c\\uc790\\ud22c\\uc790\\uc2e0\\ud0c1H(\\uc8fc\\uc2dd\\ud63c\\ud569-\\uc7ac\\uac04\\uc811\\ud615)(C-Re)\":null,\"\\uc0bc\\uc131\\ud55c\\uad6d\\ud615TDF2050\\uc99d\\uad8c\\ud22c\\uc790\\uc2e0\\ud0c1H[\\uc8fc\\uc2dd\\ud63c\\ud569-\\uc7ac\\uac04\\uc811\\ud615]Cpe(\\ud1f4\\uc9c1\\uc5f0\\uae08)\":null,\"\\uc2e0\\ud55c\\ub9c8\\uc74c\\ud3b8\\ud55cTDF2050\\uc99d\\uad8c\\ud22c\\uc790\\uc2e0\\ud0c1[\\uc8fc\\uc2dd\\ud63c\\ud569-\\uc7ac\\uac04\\uc811\\ud615](\\uc885\\ub958C-re)\":null,\"KB\\uc628\\uad6d\\ubbfcTDF2050\\uc99d\\uad8c\\uc790\\ud22c\\uc790\\uc2e0\\ud0c1(\\uc8fc\\uc2dd\\ud63c\\ud569-\\uc7ac\\uac04\\uc811\\ud615)(H)C-\\ud1f4\\uc9c1e\":989.0,\"IBK\\ub85c\\uc6b0\\ucf54\\uc2a4\\ud2b8TDF2050\\uc99d\\uad8c\\uc790\\ud22c\\uc790\\uc2e0\\ud0c1[\\ud63c\\ud569-\\uc7ac\\uac04\\uc811\\ud615]\\uc885\\ub958C-Re\":null,\"\\ubbf8\\ub798\\uc5d0\\uc14b\\uc804\\ub7b5\\ubc30\\ubd84TDF2050\\ud63c\\ud569\\uc790\\uc0b0\\uc790\\ud22c\\uc790\\uc2e0\\ud0c1\\uc885\\ub958C-P2e\":null},{\"\\ud55c\\uad6d\\ud22c\\uc790TDF\\uc54c\\uc544\\uc11c2050\\uc99d\\uad8c\\uc790\\ud22c\\uc790\\uc2e0\\ud0c1H(\\uc8fc\\uc2dd\\ud63c\\ud569-\\uc7ac\\uac04\\uc811\\ud615)(C-Re)\":null,\"\\uc0bc\\uc131\\ud55c\\uad6d\\ud615TDF2050\\uc99d\\uad8c\\ud22c\\uc790\\uc2e0\\ud0c1H[\\uc8fc\\uc2dd\\ud63c\\ud569-\\uc7ac\\uac04\\uc811\\ud615]Cpe(\\ud1f4\\uc9c1\\uc5f0\\uae08)\":null,\"\\uc2e0\\ud55c\\ub9c8\\uc74c\\ud3b8\\ud55cTDF2050\\uc99d\\uad8c\\ud22c\\uc790\\uc2e0\\ud0c1[\\uc8fc\\uc2dd\\ud63c\\ud569-\\uc7ac\\uac04\\uc811\\ud615](\\uc885\\ub958C-re)\":null,\"KB\\uc628\\uad6d\\ubbfcTDF2050\\uc99d\\uad8c\\uc790\\ud22c\\uc790\\uc2e0\\ud0c1(\\uc8fc\\uc2dd\\ud63c\\ud569-\\uc7ac\\uac04\\uc811\\ud615)(H)C-\\ud1f4\\uc9c1e\":981.0,\"IBK\\ub85c\\uc6b0\\ucf54\\uc2a4\\ud2b8TDF2050\\uc99d\\uad8c\\uc790\\ud22c\\uc790\\uc2e0\\ud0c1[\\ud63c\\ud569-\\uc7ac\\uac04\\uc811\\ud615]\\uc885\\ub958C-Re\":null,\"\\ubbf8\\ub798\\uc5d0\\uc14b\\uc804\\ub7b5\\ubc30\\ubd84TDF2050\\ud63c\\ud569\\uc790\\uc0b0\\uc790\\ud22c\\uc790\\uc2e0\\ud0c1\\uc885\\ub958C-P2e\":null},{\"\\ud55c\\uad6d\\ud22c\\uc790TDF\\uc54c\\uc544\\uc11c2050\\uc99d\\uad8c\\uc790\\ud22c\\uc790\\uc2e0\\ud0c1H(\\uc8fc\\uc2dd\\ud63c\\ud569-\\uc7ac\\uac04\\uc811\\ud615)(C-Re)\":null,\"\\uc0bc\\uc131\\ud55c\\uad6d\\ud615TDF2050\\uc99d\\uad8c\\ud22c\\uc790\\uc2e0\\ud0c1H[\\uc8fc\\uc2dd\\ud63c\\ud569-\\uc7ac\\uac04\\uc811\\ud615]Cpe(\\ud1f4\\uc9c1\\uc5f0\\uae08)\":null,\"\\uc2e0\\ud55c\\ub9c8\\uc74c\\ud3b8\\ud55cTDF2050\\uc99d\\uad8c\\ud22c\\uc790\\uc2e0\\ud0c1[\\uc8fc\\uc2dd\\ud63c\\ud569-\\uc7ac\\uac04\\uc811\\ud615](\\uc885\\ub958C-re)\":null,\"KB\\uc628\\uad6d\\ubbfcTDF2050\\uc99d\\uad8c\\uc790\\ud22c\\uc790\\uc2e0\\ud0c1(\\uc8fc\\uc2dd\\ud63c\\ud569-\\uc7ac\\uac04\\uc811\\ud615)(H)C-\\ud1f4\\uc9c1e\":972.0,\"IBK\\ub85c\\uc6b0\\ucf54\\uc2a4\\ud2b8TDF2050\\uc99d\\uad8c\\uc790\\ud22c\\uc790\\uc2e0\\ud0c1[\\ud63c\\ud569-\\uc7ac\\uac04\\uc811\\ud615]\\uc885\\ub958C-Re\":null,\"\\ubbf8\\ub798\\uc5d0\\uc14b\\uc804\\ub7b5\\ubc30\\ubd84TDF2050\\ud63c\\ud569\\uc790\\uc0b0\\uc790\\ud22c\\uc790\\uc2e0\\ud0c1\\uc885\\ub958C-P2e\":null},{\"\\ud55c\\uad6d\\ud22c\\uc790TDF\\uc54c\\uc544\\uc11c2050\\uc99d\\uad8c\\uc790\\ud22c\\uc790\\uc2e0\\ud0c1H(\\uc8fc\\uc2dd\\ud63c\\ud569-\\uc7ac\\uac04\\uc811\\ud615)(C-Re)\":null,\"\\uc0bc\\uc131\\ud55c\\uad6d\\ud615TDF2050\\uc99d\\uad8c\\ud22c\\uc790\\uc2e0\\ud0c1H[\\uc8fc\\uc2dd\\ud63c\\ud569-\\uc7ac\\uac04\\uc811\\ud615]Cpe(\\ud1f4\\uc9c1\\uc5f0\\uae08)\":null,\"\\uc2e0\\ud55c\\ub9c8\\uc74c\\ud3b8\\ud55cTDF2050\\uc99d\\uad8c\\ud22c\\uc790\\uc2e0\\ud0c1[\\uc8fc\\uc2dd\\ud63c\\ud569-\\uc7ac\\uac04\\uc811\\ud615](\\uc885\\ub958C-re)\":null,\"KB\\uc628\\uad6d\\ubbfcTDF2050\\uc99d\\uad8c\\uc790\\ud22c\\uc790\\uc2e0\\ud0c1(\\uc8fc\\uc2dd\\ud63c\\ud569-\\uc7ac\\uac04\\uc811\\ud615)(H)C-\\ud1f4\\uc9c1e\":999.0,\"IBK\\ub85c\\uc6b0\\ucf54\\uc2a4\\ud2b8TDF2050\\uc99d\\uad8c\\uc790\\ud22c\\uc790\\uc2e0\\ud0c1[\\ud63c\\ud569-\\uc7ac\\uac04\\uc811\\ud615]\\uc885\\ub958C-Re\":null,\"\\ubbf8\\ub798\\uc5d0\\uc14b\\uc804\\ub7b5\\ubc30\\ubd84TDF2050\\ud63c\\ud569\\uc790\\uc0b0\\uc790\\ud22c\\uc790\\uc2e0\\ud0c1\\uc885\\ub958C-P2e\":null},{\"\\ud55c\\uad6d\\ud22c\\uc790TDF\\uc54c\\uc544\\uc11c2050\\uc99d\\uad8c\\uc790\\ud22c\\uc790\\uc2e0\\ud0c1H(\\uc8fc\\uc2dd\\ud63c\\ud569-\\uc7ac\\uac04\\uc811\\ud615)(C-Re)\":null,\"\\uc0bc\\uc131\\ud55c\\uad6d\\ud615TDF2050\\uc99d\\uad8c\\ud22c\\uc790\\uc2e0\\ud0c1H[\\uc8fc\\uc2dd\\ud63c\\ud569-\\uc7ac\\uac04\\uc811\\ud615]Cpe(\\ud1f4\\uc9c1\\uc5f0\\uae08)\":null,\"\\uc2e0\\ud55c\\ub9c8\\uc74c\\ud3b8\\ud55cTDF2050\\uc99d\\uad8c\\ud22c\\uc790\\uc2e0\\ud0c1[\\uc8fc\\uc2dd\\ud63c\\ud569-\\uc7ac\\uac04\\uc811\\ud615](\\uc885\\ub958C-re)\":null,\"KB\\uc628\\uad6d\\ubbfcTDF2050\\uc99d\\uad8c\\uc790\\ud22c\\uc790\\uc2e0\\ud0c1(\\uc8fc\\uc2dd\\ud63c\\ud569-\\uc7ac\\uac04\\uc811\\ud615)(H)C-\\ud1f4\\uc9c1e\":1008.0,\"IBK\\ub85c\\uc6b0\\ucf54\\uc2a4\\ud2b8TDF2050\\uc99d\\uad8c\\uc790\\ud22c\\uc790\\uc2e0\\ud0c1[\\ud63c\\ud569-\\uc7ac\\uac04\\uc811\\ud615]\\uc885\\ub958C-Re\":null,\"\\ubbf8\\ub798\\uc5d0\\uc14b\\uc804\\ub7b5\\ubc30\\ubd84TDF2050\\ud63c\\ud569\\uc790\\uc0b0\\uc790\\ud22c\\uc790\\uc2e0\\ud0c1\\uc885\\ub958C-P2e\":null},{\"\\ud55c\\uad6d\\ud22c\\uc790TDF\\uc54c\\uc544\\uc11c2050\\uc99d\\uad8c\\uc790\\ud22c\\uc790\\uc2e0\\ud0c1H(\\uc8fc\\uc2dd\\ud63c\\ud569-\\uc7ac\\uac04\\uc811\\ud615)(C-Re)\":null,\"\\uc0bc\\uc131\\ud55c\\uad6d\\ud615TDF2050\\uc99d\\uad8c\\ud22c\\uc790\\uc2e0\\ud0c1H[\\uc8fc\\uc2dd\\ud63c\\ud569-\\uc7ac\\uac04\\uc811\\ud615]Cpe(\\ud1f4\\uc9c1\\uc5f0\\uae08)\":null,\"\\uc2e0\\ud55c\\ub9c8\\uc74c\\ud3b8\\ud55cTDF2050\\uc99d\\uad8c\\ud22c\\uc790\\uc2e0\\ud0c1[\\uc8fc\\uc2dd\\ud63c\\ud569-\\uc7ac\\uac04\\uc811\\ud615](\\uc885\\ub958C-re)\":null,\"KB\\uc628\\uad6d\\ubbfcTDF2050\\uc99d\\uad8c\\uc790\\ud22c\\uc790\\uc2e0\\ud0c1(\\uc8fc\\uc2dd\\ud63c\\ud569-\\uc7ac\\uac04\\uc811\\ud615)(H)C-\\ud1f4\\uc9c1e\":1000.0,\"IBK\\ub85c\\uc6b0\\ucf54\\uc2a4\\ud2b8TDF2050\\uc99d\\uad8c\\uc790\\ud22c\\uc790\\uc2e0\\ud0c1[\\ud63c\\ud569-\\uc7ac\\uac04\\uc811\\ud615]\\uc885\\ub958C-Re\":null,\"\\ubbf8\\ub798\\uc5d0\\uc14b\\uc804\\ub7b5\\ubc30\\ubd84TDF2050\\ud63c\\ud569\\uc790\\uc0b0\\uc790\\ud22c\\uc790\\uc2e0\\ud0c1\\uc885\\ub958C-P2e\":null},{\"\\ud55c\\uad6d\\ud22c\\uc790TDF\\uc54c\\uc544\\uc11c2050\\uc99d\\uad8c\\uc790\\ud22c\\uc790\\uc2e0\\ud0c1H(\\uc8fc\\uc2dd\\ud63c\\ud569-\\uc7ac\\uac04\\uc811\\ud615)(C-Re)\":null,\"\\uc0bc\\uc131\\ud55c\\uad6d\\ud615TDF2050\\uc99d\\uad8c\\ud22c\\uc790\\uc2e0\\ud0c1H[\\uc8fc\\uc2dd\\ud63c\\ud569-\\uc7ac\\uac04\\uc811\\ud615]Cpe(\\ud1f4\\uc9c1\\uc5f0\\uae08)\":null,\"\\uc2e0\\ud55c\\ub9c8\\uc74c\\ud3b8\\ud55cTDF2050\\uc99d\\uad8c\\ud22c\\uc790\\uc2e0\\ud0c1[\\uc8fc\\uc2dd\\ud63c\\ud569-\\uc7ac\\uac04\\uc811\\ud615](\\uc885\\ub958C-re)\":null,\"KB\\uc628\\uad6d\\ubbfcTDF2050\\uc99d\\uad8c\\uc790\\ud22c\\uc790\\uc2e0\\ud0c1(\\uc8fc\\uc2dd\\ud63c\\ud569-\\uc7ac\\uac04\\uc811\\ud615)(H)C-\\ud1f4\\uc9c1e\":916.0,\"IBK\\ub85c\\uc6b0\\ucf54\\uc2a4\\ud2b8TDF2050\\uc99d\\uad8c\\uc790\\ud22c\\uc790\\uc2e0\\ud0c1[\\ud63c\\ud569-\\uc7ac\\uac04\\uc811\\ud615]\\uc885\\ub958C-Re\":null,\"\\ubbf8\\ub798\\uc5d0\\uc14b\\uc804\\ub7b5\\ubc30\\ubd84TDF2050\\ud63c\\ud569\\uc790\\uc0b0\\uc790\\ud22c\\uc790\\uc2e0\\ud0c1\\uc885\\ub958C-P2e\":null},{\"\\ud55c\\uad6d\\ud22c\\uc790TDF\\uc54c\\uc544\\uc11c2050\\uc99d\\uad8c\\uc790\\ud22c\\uc790\\uc2e0\\ud0c1H(\\uc8fc\\uc2dd\\ud63c\\ud569-\\uc7ac\\uac04\\uc811\\ud615)(C-Re)\":null,\"\\uc0bc\\uc131\\ud55c\\uad6d\\ud615TDF2050\\uc99d\\uad8c\\ud22c\\uc790\\uc2e0\\ud0c1H[\\uc8fc\\uc2dd\\ud63c\\ud569-\\uc7ac\\uac04\\uc811\\ud615]Cpe(\\ud1f4\\uc9c1\\uc5f0\\uae08)\":null,\"\\uc2e0\\ud55c\\ub9c8\\uc74c\\ud3b8\\ud55cTDF2050\\uc99d\\uad8c\\ud22c\\uc790\\uc2e0\\ud0c1[\\uc8fc\\uc2dd\\ud63c\\ud569-\\uc7ac\\uac04\\uc811\\ud615](\\uc885\\ub958C-re)\":null,\"KB\\uc628\\uad6d\\ubbfcTDF2050\\uc99d\\uad8c\\uc790\\ud22c\\uc790\\uc2e0\\ud0c1(\\uc8fc\\uc2dd\\ud63c\\ud569-\\uc7ac\\uac04\\uc811\\ud615)(H)C-\\ud1f4\\uc9c1e\":945.0,\"IBK\\ub85c\\uc6b0\\ucf54\\uc2a4\\ud2b8TDF2050\\uc99d\\uad8c\\uc790\\ud22c\\uc790\\uc2e0\\ud0c1[\\ud63c\\ud569-\\uc7ac\\uac04\\uc811\\ud615]\\uc885\\ub958C-Re\":null,\"\\ubbf8\\ub798\\uc5d0\\uc14b\\uc804\\ub7b5\\ubc30\\ubd84TDF2050\\ud63c\\ud569\\uc790\\uc0b0\\uc790\\ud22c\\uc790\\uc2e0\\ud0c1\\uc885\\ub958C-P2e\":null},{\"\\ud55c\\uad6d\\ud22c\\uc790TDF\\uc54c\\uc544\\uc11c2050\\uc99d\\uad8c\\uc790\\ud22c\\uc790\\uc2e0\\ud0c1H(\\uc8fc\\uc2dd\\ud63c\\ud569-\\uc7ac\\uac04\\uc811\\ud615)(C-Re)\":null,\"\\uc0bc\\uc131\\ud55c\\uad6d\\ud615TDF2050\\uc99d\\uad8c\\ud22c\\uc790\\uc2e0\\ud0c1H[\\uc8fc\\uc2dd\\ud63c\\ud569-\\uc7ac\\uac04\\uc811\\ud615]Cpe(\\ud1f4\\uc9c1\\uc5f0\\uae08)\":null,\"\\uc2e0\\ud55c\\ub9c8\\uc74c\\ud3b8\\ud55cTDF2050\\uc99d\\uad8c\\ud22c\\uc790\\uc2e0\\ud0c1[\\uc8fc\\uc2dd\\ud63c\\ud569-\\uc7ac\\uac04\\uc811\\ud615](\\uc885\\ub958C-re)\":null,\"KB\\uc628\\uad6d\\ubbfcTDF2050\\uc99d\\uad8c\\uc790\\ud22c\\uc790\\uc2e0\\ud0c1(\\uc8fc\\uc2dd\\ud63c\\ud569-\\uc7ac\\uac04\\uc811\\ud615)(H)C-\\ud1f4\\uc9c1e\":884.0,\"IBK\\ub85c\\uc6b0\\ucf54\\uc2a4\\ud2b8TDF2050\\uc99d\\uad8c\\uc790\\ud22c\\uc790\\uc2e0\\ud0c1[\\ud63c\\ud569-\\uc7ac\\uac04\\uc811\\ud615]\\uc885\\ub958C-Re\":null,\"\\ubbf8\\ub798\\uc5d0\\uc14b\\uc804\\ub7b5\\ubc30\\ubd84TDF2050\\ud63c\\ud569\\uc790\\uc0b0\\uc790\\ud22c\\uc790\\uc2e0\\ud0c1\\uc885\\ub958C-P2e\":null},{\"\\ud55c\\uad6d\\ud22c\\uc790TDF\\uc54c\\uc544\\uc11c2050\\uc99d\\uad8c\\uc790\\ud22c\\uc790\\uc2e0\\ud0c1H(\\uc8fc\\uc2dd\\ud63c\\ud569-\\uc7ac\\uac04\\uc811\\ud615)(C-Re)\":null,\"\\uc0bc\\uc131\\ud55c\\uad6d\\ud615TDF2050\\uc99d\\uad8c\\ud22c\\uc790\\uc2e0\\ud0c1H[\\uc8fc\\uc2dd\\ud63c\\ud569-\\uc7ac\\uac04\\uc811\\ud615]Cpe(\\ud1f4\\uc9c1\\uc5f0\\uae08)\":null,\"\\uc2e0\\ud55c\\ub9c8\\uc74c\\ud3b8\\ud55cTDF2050\\uc99d\\uad8c\\ud22c\\uc790\\uc2e0\\ud0c1[\\uc8fc\\uc2dd\\ud63c\\ud569-\\uc7ac\\uac04\\uc811\\ud615](\\uc885\\ub958C-re)\":null,\"KB\\uc628\\uad6d\\ubbfcTDF2050\\uc99d\\uad8c\\uc790\\ud22c\\uc790\\uc2e0\\ud0c1(\\uc8fc\\uc2dd\\ud63c\\ud569-\\uc7ac\\uac04\\uc811\\ud615)(H)C-\\ud1f4\\uc9c1e\":938.0,\"IBK\\ub85c\\uc6b0\\ucf54\\uc2a4\\ud2b8TDF2050\\uc99d\\uad8c\\uc790\\ud22c\\uc790\\uc2e0\\ud0c1[\\ud63c\\ud569-\\uc7ac\\uac04\\uc811\\ud615]\\uc885\\ub958C-Re\":null,\"\\ubbf8\\ub798\\uc5d0\\uc14b\\uc804\\ub7b5\\ubc30\\ubd84TDF2050\\ud63c\\ud569\\uc790\\uc0b0\\uc790\\ud22c\\uc790\\uc2e0\\ud0c1\\uc885\\ub958C-P2e\":null},{\"\\ud55c\\uad6d\\ud22c\\uc790TDF\\uc54c\\uc544\\uc11c2050\\uc99d\\uad8c\\uc790\\ud22c\\uc790\\uc2e0\\ud0c1H(\\uc8fc\\uc2dd\\ud63c\\ud569-\\uc7ac\\uac04\\uc811\\ud615)(C-Re)\":null,\"\\uc0bc\\uc131\\ud55c\\uad6d\\ud615TDF2050\\uc99d\\uad8c\\ud22c\\uc790\\uc2e0\\ud0c1H[\\uc8fc\\uc2dd\\ud63c\\ud569-\\uc7ac\\uac04\\uc811\\ud615]Cpe(\\ud1f4\\uc9c1\\uc5f0\\uae08)\":1018.0,\"\\uc2e0\\ud55c\\ub9c8\\uc74c\\ud3b8\\ud55cTDF2050\\uc99d\\uad8c\\ud22c\\uc790\\uc2e0\\ud0c1[\\uc8fc\\uc2dd\\ud63c\\ud569-\\uc7ac\\uac04\\uc811\\ud615](\\uc885\\ub958C-re)\":null,\"KB\\uc628\\uad6d\\ubbfcTDF2050\\uc99d\\uad8c\\uc790\\ud22c\\uc790\\uc2e0\\ud0c1(\\uc8fc\\uc2dd\\ud63c\\ud569-\\uc7ac\\uac04\\uc811\\ud615)(H)C-\\ud1f4\\uc9c1e\":976.0,\"IBK\\ub85c\\uc6b0\\ucf54\\uc2a4\\ud2b8TDF2050\\uc99d\\uad8c\\uc790\\ud22c\\uc790\\uc2e0\\ud0c1[\\ud63c\\ud569-\\uc7ac\\uac04\\uc811\\ud615]\\uc885\\ub958C-Re\":null,\"\\ubbf8\\ub798\\uc5d0\\uc14b\\uc804\\ub7b5\\ubc30\\ubd84TDF2050\\ud63c\\ud569\\uc790\\uc0b0\\uc790\\ud22c\\uc790\\uc2e0\\ud0c1\\uc885\\ub958C-P2e\":null},{\"\\ud55c\\uad6d\\ud22c\\uc790TDF\\uc54c\\uc544\\uc11c2050\\uc99d\\uad8c\\uc790\\ud22c\\uc790\\uc2e0\\ud0c1H(\\uc8fc\\uc2dd\\ud63c\\ud569-\\uc7ac\\uac04\\uc811\\ud615)(C-Re)\":null,\"\\uc0bc\\uc131\\ud55c\\uad6d\\ud615TDF2050\\uc99d\\uad8c\\ud22c\\uc790\\uc2e0\\ud0c1H[\\uc8fc\\uc2dd\\ud63c\\ud569-\\uc7ac\\uac04\\uc811\\ud615]Cpe(\\ud1f4\\uc9c1\\uc5f0\\uae08)\":1027.0,\"\\uc2e0\\ud55c\\ub9c8\\uc74c\\ud3b8\\ud55cTDF2050\\uc99d\\uad8c\\ud22c\\uc790\\uc2e0\\ud0c1[\\uc8fc\\uc2dd\\ud63c\\ud569-\\uc7ac\\uac04\\uc811\\ud615](\\uc885\\ub958C-re)\":null,\"KB\\uc628\\uad6d\\ubbfcTDF2050\\uc99d\\uad8c\\uc790\\ud22c\\uc790\\uc2e0\\ud0c1(\\uc8fc\\uc2dd\\ud63c\\ud569-\\uc7ac\\uac04\\uc811\\ud615)(H)C-\\ud1f4\\uc9c1e\":974.0,\"IBK\\ub85c\\uc6b0\\ucf54\\uc2a4\\ud2b8TDF2050\\uc99d\\uad8c\\uc790\\ud22c\\uc790\\uc2e0\\ud0c1[\\ud63c\\ud569-\\uc7ac\\uac04\\uc811\\ud615]\\uc885\\ub958C-Re\":null,\"\\ubbf8\\ub798\\uc5d0\\uc14b\\uc804\\ub7b5\\ubc30\\ubd84TDF2050\\ud63c\\ud569\\uc790\\uc0b0\\uc790\\ud22c\\uc790\\uc2e0\\ud0c1\\uc885\\ub958C-P2e\":null},{\"\\ud55c\\uad6d\\ud22c\\uc790TDF\\uc54c\\uc544\\uc11c2050\\uc99d\\uad8c\\uc790\\ud22c\\uc790\\uc2e0\\ud0c1H(\\uc8fc\\uc2dd\\ud63c\\ud569-\\uc7ac\\uac04\\uc811\\ud615)(C-Re)\":null,\"\\uc0bc\\uc131\\ud55c\\uad6d\\ud615TDF2050\\uc99d\\uad8c\\ud22c\\uc790\\uc2e0\\ud0c1H[\\uc8fc\\uc2dd\\ud63c\\ud569-\\uc7ac\\uac04\\uc811\\ud615]Cpe(\\ud1f4\\uc9c1\\uc5f0\\uae08)\":1052.0,\"\\uc2e0\\ud55c\\ub9c8\\uc74c\\ud3b8\\ud55cTDF2050\\uc99d\\uad8c\\ud22c\\uc790\\uc2e0\\ud0c1[\\uc8fc\\uc2dd\\ud63c\\ud569-\\uc7ac\\uac04\\uc811\\ud615](\\uc885\\ub958C-re)\":975.0,\"KB\\uc628\\uad6d\\ubbfcTDF2050\\uc99d\\uad8c\\uc790\\ud22c\\uc790\\uc2e0\\ud0c1(\\uc8fc\\uc2dd\\ud63c\\ud569-\\uc7ac\\uac04\\uc811\\ud615)(H)C-\\ud1f4\\uc9c1e\":1008.0,\"IBK\\ub85c\\uc6b0\\ucf54\\uc2a4\\ud2b8TDF2050\\uc99d\\uad8c\\uc790\\ud22c\\uc790\\uc2e0\\ud0c1[\\ud63c\\ud569-\\uc7ac\\uac04\\uc811\\ud615]\\uc885\\ub958C-Re\":null,\"\\ubbf8\\ub798\\uc5d0\\uc14b\\uc804\\ub7b5\\ubc30\\ubd84TDF2050\\ud63c\\ud569\\uc790\\uc0b0\\uc790\\ud22c\\uc790\\uc2e0\\ud0c1\\uc885\\ub958C-P2e\":null},{\"\\ud55c\\uad6d\\ud22c\\uc790TDF\\uc54c\\uc544\\uc11c2050\\uc99d\\uad8c\\uc790\\ud22c\\uc790\\uc2e0\\ud0c1H(\\uc8fc\\uc2dd\\ud63c\\ud569-\\uc7ac\\uac04\\uc811\\ud615)(C-Re)\":null,\"\\uc0bc\\uc131\\ud55c\\uad6d\\ud615TDF2050\\uc99d\\uad8c\\ud22c\\uc790\\uc2e0\\ud0c1H[\\uc8fc\\uc2dd\\ud63c\\ud569-\\uc7ac\\uac04\\uc811\\ud615]Cpe(\\ud1f4\\uc9c1\\uc5f0\\uae08)\":1010.0,\"\\uc2e0\\ud55c\\ub9c8\\uc74c\\ud3b8\\ud55cTDF2050\\uc99d\\uad8c\\ud22c\\uc790\\uc2e0\\ud0c1[\\uc8fc\\uc2dd\\ud63c\\ud569-\\uc7ac\\uac04\\uc811\\ud615](\\uc885\\ub958C-re)\":953.0,\"KB\\uc628\\uad6d\\ubbfcTDF2050\\uc99d\\uad8c\\uc790\\ud22c\\uc790\\uc2e0\\ud0c1(\\uc8fc\\uc2dd\\ud63c\\ud569-\\uc7ac\\uac04\\uc811\\ud615)(H)C-\\ud1f4\\uc9c1e\":958.0,\"IBK\\ub85c\\uc6b0\\ucf54\\uc2a4\\ud2b8TDF2050\\uc99d\\uad8c\\uc790\\ud22c\\uc790\\uc2e0\\ud0c1[\\ud63c\\ud569-\\uc7ac\\uac04\\uc811\\ud615]\\uc885\\ub958C-Re\":null,\"\\ubbf8\\ub798\\uc5d0\\uc14b\\uc804\\ub7b5\\ubc30\\ubd84TDF2050\\ud63c\\ud569\\uc790\\uc0b0\\uc790\\ud22c\\uc790\\uc2e0\\ud0c1\\uc885\\ub958C-P2e\":null},{\"\\ud55c\\uad6d\\ud22c\\uc790TDF\\uc54c\\uc544\\uc11c2050\\uc99d\\uad8c\\uc790\\ud22c\\uc790\\uc2e0\\ud0c1H(\\uc8fc\\uc2dd\\ud63c\\ud569-\\uc7ac\\uac04\\uc811\\ud615)(C-Re)\":null,\"\\uc0bc\\uc131\\ud55c\\uad6d\\ud615TDF2050\\uc99d\\uad8c\\ud22c\\uc790\\uc2e0\\ud0c1H[\\uc8fc\\uc2dd\\ud63c\\ud569-\\uc7ac\\uac04\\uc811\\ud615]Cpe(\\ud1f4\\uc9c1\\uc5f0\\uae08)\":1049.0,\"\\uc2e0\\ud55c\\ub9c8\\uc74c\\ud3b8\\ud55cTDF2050\\uc99d\\uad8c\\ud22c\\uc790\\uc2e0\\ud0c1[\\uc8fc\\uc2dd\\ud63c\\ud569-\\uc7ac\\uac04\\uc811\\ud615](\\uc885\\ub958C-re)\":982.0,\"KB\\uc628\\uad6d\\ubbfcTDF2050\\uc99d\\uad8c\\uc790\\ud22c\\uc790\\uc2e0\\ud0c1(\\uc8fc\\uc2dd\\ud63c\\ud569-\\uc7ac\\uac04\\uc811\\ud615)(H)C-\\ud1f4\\uc9c1e\":996.0,\"IBK\\ub85c\\uc6b0\\ucf54\\uc2a4\\ud2b8TDF2050\\uc99d\\uad8c\\uc790\\ud22c\\uc790\\uc2e0\\ud0c1[\\ud63c\\ud569-\\uc7ac\\uac04\\uc811\\ud615]\\uc885\\ub958C-Re\":null,\"\\ubbf8\\ub798\\uc5d0\\uc14b\\uc804\\ub7b5\\ubc30\\ubd84TDF2050\\ud63c\\ud569\\uc790\\uc0b0\\uc790\\ud22c\\uc790\\uc2e0\\ud0c1\\uc885\\ub958C-P2e\":null},{\"\\ud55c\\uad6d\\ud22c\\uc790TDF\\uc54c\\uc544\\uc11c2050\\uc99d\\uad8c\\uc790\\ud22c\\uc790\\uc2e0\\ud0c1H(\\uc8fc\\uc2dd\\ud63c\\ud569-\\uc7ac\\uac04\\uc811\\ud615)(C-Re)\":null,\"\\uc0bc\\uc131\\ud55c\\uad6d\\ud615TDF2050\\uc99d\\uad8c\\ud22c\\uc790\\uc2e0\\ud0c1H[\\uc8fc\\uc2dd\\ud63c\\ud569-\\uc7ac\\uac04\\uc811\\ud615]Cpe(\\ud1f4\\uc9c1\\uc5f0\\uae08)\":1069.0,\"\\uc2e0\\ud55c\\ub9c8\\uc74c\\ud3b8\\ud55cTDF2050\\uc99d\\uad8c\\ud22c\\uc790\\uc2e0\\ud0c1[\\uc8fc\\uc2dd\\ud63c\\ud569-\\uc7ac\\uac04\\uc811\\ud615](\\uc885\\ub958C-re)\":1006.0,\"KB\\uc628\\uad6d\\ubbfcTDF2050\\uc99d\\uad8c\\uc790\\ud22c\\uc790\\uc2e0\\ud0c1(\\uc8fc\\uc2dd\\ud63c\\ud569-\\uc7ac\\uac04\\uc811\\ud615)(H)C-\\ud1f4\\uc9c1e\":1013.0,\"IBK\\ub85c\\uc6b0\\ucf54\\uc2a4\\ud2b8TDF2050\\uc99d\\uad8c\\uc790\\ud22c\\uc790\\uc2e0\\ud0c1[\\ud63c\\ud569-\\uc7ac\\uac04\\uc811\\ud615]\\uc885\\ub958C-Re\":null,\"\\ubbf8\\ub798\\uc5d0\\uc14b\\uc804\\ub7b5\\ubc30\\ubd84TDF2050\\ud63c\\ud569\\uc790\\uc0b0\\uc790\\ud22c\\uc790\\uc2e0\\ud0c1\\uc885\\ub958C-P2e\":null},{\"\\ud55c\\uad6d\\ud22c\\uc790TDF\\uc54c\\uc544\\uc11c2050\\uc99d\\uad8c\\uc790\\ud22c\\uc790\\uc2e0\\ud0c1H(\\uc8fc\\uc2dd\\ud63c\\ud569-\\uc7ac\\uac04\\uc811\\ud615)(C-Re)\":null,\"\\uc0bc\\uc131\\ud55c\\uad6d\\ud615TDF2050\\uc99d\\uad8c\\ud22c\\uc790\\uc2e0\\ud0c1H[\\uc8fc\\uc2dd\\ud63c\\ud569-\\uc7ac\\uac04\\uc811\\ud615]Cpe(\\ud1f4\\uc9c1\\uc5f0\\uae08)\":1033.0,\"\\uc2e0\\ud55c\\ub9c8\\uc74c\\ud3b8\\ud55cTDF2050\\uc99d\\uad8c\\ud22c\\uc790\\uc2e0\\ud0c1[\\uc8fc\\uc2dd\\ud63c\\ud569-\\uc7ac\\uac04\\uc811\\ud615](\\uc885\\ub958C-re)\":983.0,\"KB\\uc628\\uad6d\\ubbfcTDF2050\\uc99d\\uad8c\\uc790\\ud22c\\uc790\\uc2e0\\ud0c1(\\uc8fc\\uc2dd\\ud63c\\ud569-\\uc7ac\\uac04\\uc811\\ud615)(H)C-\\ud1f4\\uc9c1e\":971.0,\"IBK\\ub85c\\uc6b0\\ucf54\\uc2a4\\ud2b8TDF2050\\uc99d\\uad8c\\uc790\\ud22c\\uc790\\uc2e0\\ud0c1[\\ud63c\\ud569-\\uc7ac\\uac04\\uc811\\ud615]\\uc885\\ub958C-Re\":null,\"\\ubbf8\\ub798\\uc5d0\\uc14b\\uc804\\ub7b5\\ubc30\\ubd84TDF2050\\ud63c\\ud569\\uc790\\uc0b0\\uc790\\ud22c\\uc790\\uc2e0\\ud0c1\\uc885\\ub958C-P2e\":null},{\"\\ud55c\\uad6d\\ud22c\\uc790TDF\\uc54c\\uc544\\uc11c2050\\uc99d\\uad8c\\uc790\\ud22c\\uc790\\uc2e0\\ud0c1H(\\uc8fc\\uc2dd\\ud63c\\ud569-\\uc7ac\\uac04\\uc811\\ud615)(C-Re)\":null,\"\\uc0bc\\uc131\\ud55c\\uad6d\\ud615TDF2050\\uc99d\\uad8c\\ud22c\\uc790\\uc2e0\\ud0c1H[\\uc8fc\\uc2dd\\ud63c\\ud569-\\uc7ac\\uac04\\uc811\\ud615]Cpe(\\ud1f4\\uc9c1\\uc5f0\\uae08)\":1049.0,\"\\uc2e0\\ud55c\\ub9c8\\uc74c\\ud3b8\\ud55cTDF2050\\uc99d\\uad8c\\ud22c\\uc790\\uc2e0\\ud0c1[\\uc8fc\\uc2dd\\ud63c\\ud569-\\uc7ac\\uac04\\uc811\\ud615](\\uc885\\ub958C-re)\":999.0,\"KB\\uc628\\uad6d\\ubbfcTDF2050\\uc99d\\uad8c\\uc790\\ud22c\\uc790\\uc2e0\\ud0c1(\\uc8fc\\uc2dd\\ud63c\\ud569-\\uc7ac\\uac04\\uc811\\ud615)(H)C-\\ud1f4\\uc9c1e\":1001.0,\"IBK\\ub85c\\uc6b0\\ucf54\\uc2a4\\ud2b8TDF2050\\uc99d\\uad8c\\uc790\\ud22c\\uc790\\uc2e0\\ud0c1[\\ud63c\\ud569-\\uc7ac\\uac04\\uc811\\ud615]\\uc885\\ub958C-Re\":null,\"\\ubbf8\\ub798\\uc5d0\\uc14b\\uc804\\ub7b5\\ubc30\\ubd84TDF2050\\ud63c\\ud569\\uc790\\uc0b0\\uc790\\ud22c\\uc790\\uc2e0\\ud0c1\\uc885\\ub958C-P2e\":null},{\"\\ud55c\\uad6d\\ud22c\\uc790TDF\\uc54c\\uc544\\uc11c2050\\uc99d\\uad8c\\uc790\\ud22c\\uc790\\uc2e0\\ud0c1H(\\uc8fc\\uc2dd\\ud63c\\ud569-\\uc7ac\\uac04\\uc811\\ud615)(C-Re)\":1017.0,\"\\uc0bc\\uc131\\ud55c\\uad6d\\ud615TDF2050\\uc99d\\uad8c\\ud22c\\uc790\\uc2e0\\ud0c1H[\\uc8fc\\uc2dd\\ud63c\\ud569-\\uc7ac\\uac04\\uc811\\ud615]Cpe(\\ud1f4\\uc9c1\\uc5f0\\uae08)\":1066.0,\"\\uc2e0\\ud55c\\ub9c8\\uc74c\\ud3b8\\ud55cTDF2050\\uc99d\\uad8c\\ud22c\\uc790\\uc2e0\\ud0c1[\\uc8fc\\uc2dd\\ud63c\\ud569-\\uc7ac\\uac04\\uc811\\ud615](\\uc885\\ub958C-re)\":1000.0,\"KB\\uc628\\uad6d\\ubbfcTDF2050\\uc99d\\uad8c\\uc790\\ud22c\\uc790\\uc2e0\\ud0c1(\\uc8fc\\uc2dd\\ud63c\\ud569-\\uc7ac\\uac04\\uc811\\ud615)(H)C-\\ud1f4\\uc9c1e\":1019.0,\"IBK\\ub85c\\uc6b0\\ucf54\\uc2a4\\ud2b8TDF2050\\uc99d\\uad8c\\uc790\\ud22c\\uc790\\uc2e0\\ud0c1[\\ud63c\\ud569-\\uc7ac\\uac04\\uc811\\ud615]\\uc885\\ub958C-Re\":null,\"\\ubbf8\\ub798\\uc5d0\\uc14b\\uc804\\ub7b5\\ubc30\\ubd84TDF2050\\ud63c\\ud569\\uc790\\uc0b0\\uc790\\ud22c\\uc790\\uc2e0\\ud0c1\\uc885\\ub958C-P2e\":null},{\"\\ud55c\\uad6d\\ud22c\\uc790TDF\\uc54c\\uc544\\uc11c2050\\uc99d\\uad8c\\uc790\\ud22c\\uc790\\uc2e0\\ud0c1H(\\uc8fc\\uc2dd\\ud63c\\ud569-\\uc7ac\\uac04\\uc811\\ud615)(C-Re)\":1042.0,\"\\uc0bc\\uc131\\ud55c\\uad6d\\ud615TDF2050\\uc99d\\uad8c\\ud22c\\uc790\\uc2e0\\ud0c1H[\\uc8fc\\uc2dd\\ud63c\\ud569-\\uc7ac\\uac04\\uc811\\ud615]Cpe(\\ud1f4\\uc9c1\\uc5f0\\uae08)\":1094.0,\"\\uc2e0\\ud55c\\ub9c8\\uc74c\\ud3b8\\ud55cTDF2050\\uc99d\\uad8c\\ud22c\\uc790\\uc2e0\\ud0c1[\\uc8fc\\uc2dd\\ud63c\\ud569-\\uc7ac\\uac04\\uc811\\ud615](\\uc885\\ub958C-re)\":1025.0,\"KB\\uc628\\uad6d\\ubbfcTDF2050\\uc99d\\uad8c\\uc790\\ud22c\\uc790\\uc2e0\\ud0c1(\\uc8fc\\uc2dd\\ud63c\\ud569-\\uc7ac\\uac04\\uc811\\ud615)(H)C-\\ud1f4\\uc9c1e\":1047.0,\"IBK\\ub85c\\uc6b0\\ucf54\\uc2a4\\ud2b8TDF2050\\uc99d\\uad8c\\uc790\\ud22c\\uc790\\uc2e0\\ud0c1[\\ud63c\\ud569-\\uc7ac\\uac04\\uc811\\ud615]\\uc885\\ub958C-Re\":null,\"\\ubbf8\\ub798\\uc5d0\\uc14b\\uc804\\ub7b5\\ubc30\\ubd84TDF2050\\ud63c\\ud569\\uc790\\uc0b0\\uc790\\ud22c\\uc790\\uc2e0\\ud0c1\\uc885\\ub958C-P2e\":null},{\"\\ud55c\\uad6d\\ud22c\\uc790TDF\\uc54c\\uc544\\uc11c2050\\uc99d\\uad8c\\uc790\\ud22c\\uc790\\uc2e0\\ud0c1H(\\uc8fc\\uc2dd\\ud63c\\ud569-\\uc7ac\\uac04\\uc811\\ud615)(C-Re)\":1067.0,\"\\uc0bc\\uc131\\ud55c\\uad6d\\ud615TDF2050\\uc99d\\uad8c\\ud22c\\uc790\\uc2e0\\ud0c1H[\\uc8fc\\uc2dd\\ud63c\\ud569-\\uc7ac\\uac04\\uc811\\ud615]Cpe(\\ud1f4\\uc9c1\\uc5f0\\uae08)\":1122.0,\"\\uc2e0\\ud55c\\ub9c8\\uc74c\\ud3b8\\ud55cTDF2050\\uc99d\\uad8c\\ud22c\\uc790\\uc2e0\\ud0c1[\\uc8fc\\uc2dd\\ud63c\\ud569-\\uc7ac\\uac04\\uc811\\ud615](\\uc885\\ub958C-re)\":1042.0,\"KB\\uc628\\uad6d\\ubbfcTDF2050\\uc99d\\uad8c\\uc790\\ud22c\\uc790\\uc2e0\\ud0c1(\\uc8fc\\uc2dd\\ud63c\\ud569-\\uc7ac\\uac04\\uc811\\ud615)(H)C-\\ud1f4\\uc9c1e\":1075.0,\"IBK\\ub85c\\uc6b0\\ucf54\\uc2a4\\ud2b8TDF2050\\uc99d\\uad8c\\uc790\\ud22c\\uc790\\uc2e0\\ud0c1[\\ud63c\\ud569-\\uc7ac\\uac04\\uc811\\ud615]\\uc885\\ub958C-Re\":null,\"\\ubbf8\\ub798\\uc5d0\\uc14b\\uc804\\ub7b5\\ubc30\\ubd84TDF2050\\ud63c\\ud569\\uc790\\uc0b0\\uc790\\ud22c\\uc790\\uc2e0\\ud0c1\\uc885\\ub958C-P2e\":null},{\"\\ud55c\\uad6d\\ud22c\\uc790TDF\\uc54c\\uc544\\uc11c2050\\uc99d\\uad8c\\uc790\\ud22c\\uc790\\uc2e0\\ud0c1H(\\uc8fc\\uc2dd\\ud63c\\ud569-\\uc7ac\\uac04\\uc811\\ud615)(C-Re)\":1076.0,\"\\uc0bc\\uc131\\ud55c\\uad6d\\ud615TDF2050\\uc99d\\uad8c\\ud22c\\uc790\\uc2e0\\ud0c1H[\\uc8fc\\uc2dd\\ud63c\\ud569-\\uc7ac\\uac04\\uc811\\ud615]Cpe(\\ud1f4\\uc9c1\\uc5f0\\uae08)\":1125.0,\"\\uc2e0\\ud55c\\ub9c8\\uc74c\\ud3b8\\ud55cTDF2050\\uc99d\\uad8c\\ud22c\\uc790\\uc2e0\\ud0c1[\\uc8fc\\uc2dd\\ud63c\\ud569-\\uc7ac\\uac04\\uc811\\ud615](\\uc885\\ub958C-re)\":1056.0,\"KB\\uc628\\uad6d\\ubbfcTDF2050\\uc99d\\uad8c\\uc790\\ud22c\\uc790\\uc2e0\\ud0c1(\\uc8fc\\uc2dd\\ud63c\\ud569-\\uc7ac\\uac04\\uc811\\ud615)(H)C-\\ud1f4\\uc9c1e\":1073.0,\"IBK\\ub85c\\uc6b0\\ucf54\\uc2a4\\ud2b8TDF2050\\uc99d\\uad8c\\uc790\\ud22c\\uc790\\uc2e0\\ud0c1[\\ud63c\\ud569-\\uc7ac\\uac04\\uc811\\ud615]\\uc885\\ub958C-Re\":null,\"\\ubbf8\\ub798\\uc5d0\\uc14b\\uc804\\ub7b5\\ubc30\\ubd84TDF2050\\ud63c\\ud569\\uc790\\uc0b0\\uc790\\ud22c\\uc790\\uc2e0\\ud0c1\\uc885\\ub958C-P2e\":null},{\"\\ud55c\\uad6d\\ud22c\\uc790TDF\\uc54c\\uc544\\uc11c2050\\uc99d\\uad8c\\uc790\\ud22c\\uc790\\uc2e0\\ud0c1H(\\uc8fc\\uc2dd\\ud63c\\ud569-\\uc7ac\\uac04\\uc811\\ud615)(C-Re)\":1043.0,\"\\uc0bc\\uc131\\ud55c\\uad6d\\ud615TDF2050\\uc99d\\uad8c\\ud22c\\uc790\\uc2e0\\ud0c1H[\\uc8fc\\uc2dd\\ud63c\\ud569-\\uc7ac\\uac04\\uc811\\ud615]Cpe(\\ud1f4\\uc9c1\\uc5f0\\uae08)\":1083.0,\"\\uc2e0\\ud55c\\ub9c8\\uc74c\\ud3b8\\ud55cTDF2050\\uc99d\\uad8c\\ud22c\\uc790\\uc2e0\\ud0c1[\\uc8fc\\uc2dd\\ud63c\\ud569-\\uc7ac\\uac04\\uc811\\ud615](\\uc885\\ub958C-re)\":1032.0,\"KB\\uc628\\uad6d\\ubbfcTDF2050\\uc99d\\uad8c\\uc790\\ud22c\\uc790\\uc2e0\\ud0c1(\\uc8fc\\uc2dd\\ud63c\\ud569-\\uc7ac\\uac04\\uc811\\ud615)(H)C-\\ud1f4\\uc9c1e\":1020.0,\"IBK\\ub85c\\uc6b0\\ucf54\\uc2a4\\ud2b8TDF2050\\uc99d\\uad8c\\uc790\\ud22c\\uc790\\uc2e0\\ud0c1[\\ud63c\\ud569-\\uc7ac\\uac04\\uc811\\ud615]\\uc885\\ub958C-Re\":null,\"\\ubbf8\\ub798\\uc5d0\\uc14b\\uc804\\ub7b5\\ubc30\\ubd84TDF2050\\ud63c\\ud569\\uc790\\uc0b0\\uc790\\ud22c\\uc790\\uc2e0\\ud0c1\\uc885\\ub958C-P2e\":null},{\"\\ud55c\\uad6d\\ud22c\\uc790TDF\\uc54c\\uc544\\uc11c2050\\uc99d\\uad8c\\uc790\\ud22c\\uc790\\uc2e0\\ud0c1H(\\uc8fc\\uc2dd\\ud63c\\ud569-\\uc7ac\\uac04\\uc811\\ud615)(C-Re)\":881.0,\"\\uc0bc\\uc131\\ud55c\\uad6d\\ud615TDF2050\\uc99d\\uad8c\\ud22c\\uc790\\uc2e0\\ud0c1H[\\uc8fc\\uc2dd\\ud63c\\ud569-\\uc7ac\\uac04\\uc811\\ud615]Cpe(\\ud1f4\\uc9c1\\uc5f0\\uae08)\":926.0,\"\\uc2e0\\ud55c\\ub9c8\\uc74c\\ud3b8\\ud55cTDF2050\\uc99d\\uad8c\\ud22c\\uc790\\uc2e0\\ud0c1[\\uc8fc\\uc2dd\\ud63c\\ud569-\\uc7ac\\uac04\\uc811\\ud615](\\uc885\\ub958C-re)\":856.0,\"KB\\uc628\\uad6d\\ubbfcTDF2050\\uc99d\\uad8c\\uc790\\ud22c\\uc790\\uc2e0\\ud0c1(\\uc8fc\\uc2dd\\ud63c\\ud569-\\uc7ac\\uac04\\uc811\\ud615)(H)C-\\ud1f4\\uc9c1e\":839.0,\"IBK\\ub85c\\uc6b0\\ucf54\\uc2a4\\ud2b8TDF2050\\uc99d\\uad8c\\uc790\\ud22c\\uc790\\uc2e0\\ud0c1[\\ud63c\\ud569-\\uc7ac\\uac04\\uc811\\ud615]\\uc885\\ub958C-Re\":null,\"\\ubbf8\\ub798\\uc5d0\\uc14b\\uc804\\ub7b5\\ubc30\\ubd84TDF2050\\ud63c\\ud569\\uc790\\uc0b0\\uc790\\ud22c\\uc790\\uc2e0\\ud0c1\\uc885\\ub958C-P2e\":null},{\"\\ud55c\\uad6d\\ud22c\\uc790TDF\\uc54c\\uc544\\uc11c2050\\uc99d\\uad8c\\uc790\\ud22c\\uc790\\uc2e0\\ud0c1H(\\uc8fc\\uc2dd\\ud63c\\ud569-\\uc7ac\\uac04\\uc811\\ud615)(C-Re)\":955.0,\"\\uc0bc\\uc131\\ud55c\\uad6d\\ud615TDF2050\\uc99d\\uad8c\\ud22c\\uc790\\uc2e0\\ud0c1H[\\uc8fc\\uc2dd\\ud63c\\ud569-\\uc7ac\\uac04\\uc811\\ud615]Cpe(\\ud1f4\\uc9c1\\uc5f0\\uae08)\":997.0,\"\\uc2e0\\ud55c\\ub9c8\\uc74c\\ud3b8\\ud55cTDF2050\\uc99d\\uad8c\\ud22c\\uc790\\uc2e0\\ud0c1[\\uc8fc\\uc2dd\\ud63c\\ud569-\\uc7ac\\uac04\\uc811\\ud615](\\uc885\\ub958C-re)\":918.0,\"KB\\uc628\\uad6d\\ubbfcTDF2050\\uc99d\\uad8c\\uc790\\ud22c\\uc790\\uc2e0\\ud0c1(\\uc8fc\\uc2dd\\ud63c\\ud569-\\uc7ac\\uac04\\uc811\\ud615)(H)C-\\ud1f4\\uc9c1e\":917.0,\"IBK\\ub85c\\uc6b0\\ucf54\\uc2a4\\ud2b8TDF2050\\uc99d\\uad8c\\uc790\\ud22c\\uc790\\uc2e0\\ud0c1[\\ud63c\\ud569-\\uc7ac\\uac04\\uc811\\ud615]\\uc885\\ub958C-Re\":null,\"\\ubbf8\\ub798\\uc5d0\\uc14b\\uc804\\ub7b5\\ubc30\\ubd84TDF2050\\ud63c\\ud569\\uc790\\uc0b0\\uc790\\ud22c\\uc790\\uc2e0\\ud0c1\\uc885\\ub958C-P2e\":null},{\"\\ud55c\\uad6d\\ud22c\\uc790TDF\\uc54c\\uc544\\uc11c2050\\uc99d\\uad8c\\uc790\\ud22c\\uc790\\uc2e0\\ud0c1H(\\uc8fc\\uc2dd\\ud63c\\ud569-\\uc7ac\\uac04\\uc811\\ud615)(C-Re)\":1003.0,\"\\uc0bc\\uc131\\ud55c\\uad6d\\ud615TDF2050\\uc99d\\uad8c\\ud22c\\uc790\\uc2e0\\ud0c1H[\\uc8fc\\uc2dd\\ud63c\\ud569-\\uc7ac\\uac04\\uc811\\ud615]Cpe(\\ud1f4\\uc9c1\\uc5f0\\uae08)\":1041.0,\"\\uc2e0\\ud55c\\ub9c8\\uc74c\\ud3b8\\ud55cTDF2050\\uc99d\\uad8c\\ud22c\\uc790\\uc2e0\\ud0c1[\\uc8fc\\uc2dd\\ud63c\\ud569-\\uc7ac\\uac04\\uc811\\ud615](\\uc885\\ub958C-re)\":978.0,\"KB\\uc628\\uad6d\\ubbfcTDF2050\\uc99d\\uad8c\\uc790\\ud22c\\uc790\\uc2e0\\ud0c1(\\uc8fc\\uc2dd\\ud63c\\ud569-\\uc7ac\\uac04\\uc811\\ud615)(H)C-\\ud1f4\\uc9c1e\":968.0,\"IBK\\ub85c\\uc6b0\\ucf54\\uc2a4\\ud2b8TDF2050\\uc99d\\uad8c\\uc790\\ud22c\\uc790\\uc2e0\\ud0c1[\\ud63c\\ud569-\\uc7ac\\uac04\\uc811\\ud615]\\uc885\\ub958C-Re\":null,\"\\ubbf8\\ub798\\uc5d0\\uc14b\\uc804\\ub7b5\\ubc30\\ubd84TDF2050\\ud63c\\ud569\\uc790\\uc0b0\\uc790\\ud22c\\uc790\\uc2e0\\ud0c1\\uc885\\ub958C-P2e\":null},{\"\\ud55c\\uad6d\\ud22c\\uc790TDF\\uc54c\\uc544\\uc11c2050\\uc99d\\uad8c\\uc790\\ud22c\\uc790\\uc2e0\\ud0c1H(\\uc8fc\\uc2dd\\ud63c\\ud569-\\uc7ac\\uac04\\uc811\\ud615)(C-Re)\":1030.0,\"\\uc0bc\\uc131\\ud55c\\uad6d\\ud615TDF2050\\uc99d\\uad8c\\ud22c\\uc790\\uc2e0\\ud0c1H[\\uc8fc\\uc2dd\\ud63c\\ud569-\\uc7ac\\uac04\\uc811\\ud615]Cpe(\\ud1f4\\uc9c1\\uc5f0\\uae08)\":1056.0,\"\\uc2e0\\ud55c\\ub9c8\\uc74c\\ud3b8\\ud55cTDF2050\\uc99d\\uad8c\\ud22c\\uc790\\uc2e0\\ud0c1[\\uc8fc\\uc2dd\\ud63c\\ud569-\\uc7ac\\uac04\\uc811\\ud615](\\uc885\\ub958C-re)\":979.0,\"KB\\uc628\\uad6d\\ubbfcTDF2050\\uc99d\\uad8c\\uc790\\ud22c\\uc790\\uc2e0\\ud0c1(\\uc8fc\\uc2dd\\ud63c\\ud569-\\uc7ac\\uac04\\uc811\\ud615)(H)C-\\ud1f4\\uc9c1e\":979.0,\"IBK\\ub85c\\uc6b0\\ucf54\\uc2a4\\ud2b8TDF2050\\uc99d\\uad8c\\uc790\\ud22c\\uc790\\uc2e0\\ud0c1[\\ud63c\\ud569-\\uc7ac\\uac04\\uc811\\ud615]\\uc885\\ub958C-Re\":null,\"\\ubbf8\\ub798\\uc5d0\\uc14b\\uc804\\ub7b5\\ubc30\\ubd84TDF2050\\ud63c\\ud569\\uc790\\uc0b0\\uc790\\ud22c\\uc790\\uc2e0\\ud0c1\\uc885\\ub958C-P2e\":null},{\"\\ud55c\\uad6d\\ud22c\\uc790TDF\\uc54c\\uc544\\uc11c2050\\uc99d\\uad8c\\uc790\\ud22c\\uc790\\uc2e0\\ud0c1H(\\uc8fc\\uc2dd\\ud63c\\ud569-\\uc7ac\\uac04\\uc811\\ud615)(C-Re)\":1085.0,\"\\uc0bc\\uc131\\ud55c\\uad6d\\ud615TDF2050\\uc99d\\uad8c\\ud22c\\uc790\\uc2e0\\ud0c1H[\\uc8fc\\uc2dd\\ud63c\\ud569-\\uc7ac\\uac04\\uc811\\ud615]Cpe(\\ud1f4\\uc9c1\\uc5f0\\uae08)\":1118.0,\"\\uc2e0\\ud55c\\ub9c8\\uc74c\\ud3b8\\ud55cTDF2050\\uc99d\\uad8c\\ud22c\\uc790\\uc2e0\\ud0c1[\\uc8fc\\uc2dd\\ud63c\\ud569-\\uc7ac\\uac04\\uc811\\ud615](\\uc885\\ub958C-re)\":1036.0,\"KB\\uc628\\uad6d\\ubbfcTDF2050\\uc99d\\uad8c\\uc790\\ud22c\\uc790\\uc2e0\\ud0c1(\\uc8fc\\uc2dd\\ud63c\\ud569-\\uc7ac\\uac04\\uc811\\ud615)(H)C-\\ud1f4\\uc9c1e\":1051.0,\"IBK\\ub85c\\uc6b0\\ucf54\\uc2a4\\ud2b8TDF2050\\uc99d\\uad8c\\uc790\\ud22c\\uc790\\uc2e0\\ud0c1[\\ud63c\\ud569-\\uc7ac\\uac04\\uc811\\ud615]\\uc885\\ub958C-Re\":null,\"\\ubbf8\\ub798\\uc5d0\\uc14b\\uc804\\ub7b5\\ubc30\\ubd84TDF2050\\ud63c\\ud569\\uc790\\uc0b0\\uc790\\ud22c\\uc790\\uc2e0\\ud0c1\\uc885\\ub958C-P2e\":988.0},{\"\\ud55c\\uad6d\\ud22c\\uc790TDF\\uc54c\\uc544\\uc11c2050\\uc99d\\uad8c\\uc790\\ud22c\\uc790\\uc2e0\\ud0c1H(\\uc8fc\\uc2dd\\ud63c\\ud569-\\uc7ac\\uac04\\uc811\\ud615)(C-Re)\":1124.0,\"\\uc0bc\\uc131\\ud55c\\uad6d\\ud615TDF2050\\uc99d\\uad8c\\ud22c\\uc790\\uc2e0\\ud0c1H[\\uc8fc\\uc2dd\\ud63c\\ud569-\\uc7ac\\uac04\\uc811\\ud615]Cpe(\\ud1f4\\uc9c1\\uc5f0\\uae08)\":1150.0,\"\\uc2e0\\ud55c\\ub9c8\\uc74c\\ud3b8\\ud55cTDF2050\\uc99d\\uad8c\\ud22c\\uc790\\uc2e0\\ud0c1[\\uc8fc\\uc2dd\\ud63c\\ud569-\\uc7ac\\uac04\\uc811\\ud615](\\uc885\\ub958C-re)\":1062.0,\"KB\\uc628\\uad6d\\ubbfcTDF2050\\uc99d\\uad8c\\uc790\\ud22c\\uc790\\uc2e0\\ud0c1(\\uc8fc\\uc2dd\\ud63c\\ud569-\\uc7ac\\uac04\\uc811\\ud615)(H)C-\\ud1f4\\uc9c1e\":1091.0,\"IBK\\ub85c\\uc6b0\\ucf54\\uc2a4\\ud2b8TDF2050\\uc99d\\uad8c\\uc790\\ud22c\\uc790\\uc2e0\\ud0c1[\\ud63c\\ud569-\\uc7ac\\uac04\\uc811\\ud615]\\uc885\\ub958C-Re\":null,\"\\ubbf8\\ub798\\uc5d0\\uc14b\\uc804\\ub7b5\\ubc30\\ubd84TDF2050\\ud63c\\ud569\\uc790\\uc0b0\\uc790\\ud22c\\uc790\\uc2e0\\ud0c1\\uc885\\ub958C-P2e\":1035.0},{\"\\ud55c\\uad6d\\ud22c\\uc790TDF\\uc54c\\uc544\\uc11c2050\\uc99d\\uad8c\\uc790\\ud22c\\uc790\\uc2e0\\ud0c1H(\\uc8fc\\uc2dd\\ud63c\\ud569-\\uc7ac\\uac04\\uc811\\ud615)(C-Re)\":1083.0,\"\\uc0bc\\uc131\\ud55c\\uad6d\\ud615TDF2050\\uc99d\\uad8c\\ud22c\\uc790\\uc2e0\\ud0c1H[\\uc8fc\\uc2dd\\ud63c\\ud569-\\uc7ac\\uac04\\uc811\\ud615]Cpe(\\ud1f4\\uc9c1\\uc5f0\\uae08)\":1112.0,\"\\uc2e0\\ud55c\\ub9c8\\uc74c\\ud3b8\\ud55cTDF2050\\uc99d\\uad8c\\ud22c\\uc790\\uc2e0\\ud0c1[\\uc8fc\\uc2dd\\ud63c\\ud569-\\uc7ac\\uac04\\uc811\\ud615](\\uc885\\ub958C-re)\":1014.0,\"KB\\uc628\\uad6d\\ubbfcTDF2050\\uc99d\\uad8c\\uc790\\ud22c\\uc790\\uc2e0\\ud0c1(\\uc8fc\\uc2dd\\ud63c\\ud569-\\uc7ac\\uac04\\uc811\\ud615)(H)C-\\ud1f4\\uc9c1e\":1051.0,\"IBK\\ub85c\\uc6b0\\ucf54\\uc2a4\\ud2b8TDF2050\\uc99d\\uad8c\\uc790\\ud22c\\uc790\\uc2e0\\ud0c1[\\ud63c\\ud569-\\uc7ac\\uac04\\uc811\\ud615]\\uc885\\ub958C-Re\":null,\"\\ubbf8\\ub798\\uc5d0\\uc14b\\uc804\\ub7b5\\ubc30\\ubd84TDF2050\\ud63c\\ud569\\uc790\\uc0b0\\uc790\\ud22c\\uc790\\uc2e0\\ud0c1\\uc885\\ub958C-P2e\":988.0},{\"\\ud55c\\uad6d\\ud22c\\uc790TDF\\uc54c\\uc544\\uc11c2050\\uc99d\\uad8c\\uc790\\ud22c\\uc790\\uc2e0\\ud0c1H(\\uc8fc\\uc2dd\\ud63c\\ud569-\\uc7ac\\uac04\\uc811\\ud615)(C-Re)\":1101.0,\"\\uc0bc\\uc131\\ud55c\\uad6d\\ud615TDF2050\\uc99d\\uad8c\\ud22c\\uc790\\uc2e0\\ud0c1H[\\uc8fc\\uc2dd\\ud63c\\ud569-\\uc7ac\\uac04\\uc811\\ud615]Cpe(\\ud1f4\\uc9c1\\uc5f0\\uae08)\":1110.0,\"\\uc2e0\\ud55c\\ub9c8\\uc74c\\ud3b8\\ud55cTDF2050\\uc99d\\uad8c\\ud22c\\uc790\\uc2e0\\ud0c1[\\uc8fc\\uc2dd\\ud63c\\ud569-\\uc7ac\\uac04\\uc811\\ud615](\\uc885\\ub958C-re)\":991.0,\"KB\\uc628\\uad6d\\ubbfcTDF2050\\uc99d\\uad8c\\uc790\\ud22c\\uc790\\uc2e0\\ud0c1(\\uc8fc\\uc2dd\\ud63c\\ud569-\\uc7ac\\uac04\\uc811\\ud615)(H)C-\\ud1f4\\uc9c1e\":1052.0,\"IBK\\ub85c\\uc6b0\\ucf54\\uc2a4\\ud2b8TDF2050\\uc99d\\uad8c\\uc790\\ud22c\\uc790\\uc2e0\\ud0c1[\\ud63c\\ud569-\\uc7ac\\uac04\\uc811\\ud615]\\uc885\\ub958C-Re\":null,\"\\ubbf8\\ub798\\uc5d0\\uc14b\\uc804\\ub7b5\\ubc30\\ubd84TDF2050\\ud63c\\ud569\\uc790\\uc0b0\\uc790\\ud22c\\uc790\\uc2e0\\ud0c1\\uc885\\ub958C-P2e\":996.0},{\"\\ud55c\\uad6d\\ud22c\\uc790TDF\\uc54c\\uc544\\uc11c2050\\uc99d\\uad8c\\uc790\\ud22c\\uc790\\uc2e0\\ud0c1H(\\uc8fc\\uc2dd\\ud63c\\ud569-\\uc7ac\\uac04\\uc811\\ud615)(C-Re)\":1194.0,\"\\uc0bc\\uc131\\ud55c\\uad6d\\ud615TDF2050\\uc99d\\uad8c\\ud22c\\uc790\\uc2e0\\ud0c1H[\\uc8fc\\uc2dd\\ud63c\\ud569-\\uc7ac\\uac04\\uc811\\ud615]Cpe(\\ud1f4\\uc9c1\\uc5f0\\uae08)\":1203.0,\"\\uc2e0\\ud55c\\ub9c8\\uc74c\\ud3b8\\ud55cTDF2050\\uc99d\\uad8c\\ud22c\\uc790\\uc2e0\\ud0c1[\\uc8fc\\uc2dd\\ud63c\\ud569-\\uc7ac\\uac04\\uc811\\ud615](\\uc885\\ub958C-re)\":1068.0,\"KB\\uc628\\uad6d\\ubbfcTDF2050\\uc99d\\uad8c\\uc790\\ud22c\\uc790\\uc2e0\\ud0c1(\\uc8fc\\uc2dd\\ud63c\\ud569-\\uc7ac\\uac04\\uc811\\ud615)(H)C-\\ud1f4\\uc9c1e\":1166.0,\"IBK\\ub85c\\uc6b0\\ucf54\\uc2a4\\ud2b8TDF2050\\uc99d\\uad8c\\uc790\\ud22c\\uc790\\uc2e0\\ud0c1[\\ud63c\\ud569-\\uc7ac\\uac04\\uc811\\ud615]\\uc885\\ub958C-Re\":null,\"\\ubbf8\\ub798\\uc5d0\\uc14b\\uc804\\ub7b5\\ubc30\\ubd84TDF2050\\ud63c\\ud569\\uc790\\uc0b0\\uc790\\ud22c\\uc790\\uc2e0\\ud0c1\\uc885\\ub958C-P2e\":1053.0},{\"\\ud55c\\uad6d\\ud22c\\uc790TDF\\uc54c\\uc544\\uc11c2050\\uc99d\\uad8c\\uc790\\ud22c\\uc790\\uc2e0\\ud0c1H(\\uc8fc\\uc2dd\\ud63c\\ud569-\\uc7ac\\uac04\\uc811\\ud615)(C-Re)\":1230.0,\"\\uc0bc\\uc131\\ud55c\\uad6d\\ud615TDF2050\\uc99d\\uad8c\\ud22c\\uc790\\uc2e0\\ud0c1H[\\uc8fc\\uc2dd\\ud63c\\ud569-\\uc7ac\\uac04\\uc811\\ud615]Cpe(\\ud1f4\\uc9c1\\uc5f0\\uae08)\":1239.0,\"\\uc2e0\\ud55c\\ub9c8\\uc74c\\ud3b8\\ud55cTDF2050\\uc99d\\uad8c\\ud22c\\uc790\\uc2e0\\ud0c1[\\uc8fc\\uc2dd\\ud63c\\ud569-\\uc7ac\\uac04\\uc811\\ud615](\\uc885\\ub958C-re)\":1087.0,\"KB\\uc628\\uad6d\\ubbfcTDF2050\\uc99d\\uad8c\\uc790\\ud22c\\uc790\\uc2e0\\ud0c1(\\uc8fc\\uc2dd\\ud63c\\ud569-\\uc7ac\\uac04\\uc811\\ud615)(H)C-\\ud1f4\\uc9c1e\":1213.0,\"IBK\\ub85c\\uc6b0\\ucf54\\uc2a4\\ud2b8TDF2050\\uc99d\\uad8c\\uc790\\ud22c\\uc790\\uc2e0\\ud0c1[\\ud63c\\ud569-\\uc7ac\\uac04\\uc811\\ud615]\\uc885\\ub958C-Re\":null,\"\\ubbf8\\ub798\\uc5d0\\uc14b\\uc804\\ub7b5\\ubc30\\ubd84TDF2050\\ud63c\\ud569\\uc790\\uc0b0\\uc790\\ud22c\\uc790\\uc2e0\\ud0c1\\uc885\\ub958C-P2e\":1087.0},{\"\\ud55c\\uad6d\\ud22c\\uc790TDF\\uc54c\\uc544\\uc11c2050\\uc99d\\uad8c\\uc790\\ud22c\\uc790\\uc2e0\\ud0c1H(\\uc8fc\\uc2dd\\ud63c\\ud569-\\uc7ac\\uac04\\uc811\\ud615)(C-Re)\":1248.0,\"\\uc0bc\\uc131\\ud55c\\uad6d\\ud615TDF2050\\uc99d\\uad8c\\ud22c\\uc790\\uc2e0\\ud0c1H[\\uc8fc\\uc2dd\\ud63c\\ud569-\\uc7ac\\uac04\\uc811\\ud615]Cpe(\\ud1f4\\uc9c1\\uc5f0\\uae08)\":1250.0,\"\\uc2e0\\ud55c\\ub9c8\\uc74c\\ud3b8\\ud55cTDF2050\\uc99d\\uad8c\\ud22c\\uc790\\uc2e0\\ud0c1[\\uc8fc\\uc2dd\\ud63c\\ud569-\\uc7ac\\uac04\\uc811\\ud615](\\uc885\\ub958C-re)\":1131.0,\"KB\\uc628\\uad6d\\ubbfcTDF2050\\uc99d\\uad8c\\uc790\\ud22c\\uc790\\uc2e0\\ud0c1(\\uc8fc\\uc2dd\\ud63c\\ud569-\\uc7ac\\uac04\\uc811\\ud615)(H)C-\\ud1f4\\uc9c1e\":1240.0,\"IBK\\ub85c\\uc6b0\\ucf54\\uc2a4\\ud2b8TDF2050\\uc99d\\uad8c\\uc790\\ud22c\\uc790\\uc2e0\\ud0c1[\\ud63c\\ud569-\\uc7ac\\uac04\\uc811\\ud615]\\uc885\\ub958C-Re\":null,\"\\ubbf8\\ub798\\uc5d0\\uc14b\\uc804\\ub7b5\\ubc30\\ubd84TDF2050\\ud63c\\ud569\\uc790\\uc0b0\\uc790\\ud22c\\uc790\\uc2e0\\ud0c1\\uc885\\ub958C-P2e\":1131.0},{\"\\ud55c\\uad6d\\ud22c\\uc790TDF\\uc54c\\uc544\\uc11c2050\\uc99d\\uad8c\\uc790\\ud22c\\uc790\\uc2e0\\ud0c1H(\\uc8fc\\uc2dd\\ud63c\\ud569-\\uc7ac\\uac04\\uc811\\ud615)(C-Re)\":1273.0,\"\\uc0bc\\uc131\\ud55c\\uad6d\\ud615TDF2050\\uc99d\\uad8c\\ud22c\\uc790\\uc2e0\\ud0c1H[\\uc8fc\\uc2dd\\ud63c\\ud569-\\uc7ac\\uac04\\uc811\\ud615]Cpe(\\ud1f4\\uc9c1\\uc5f0\\uae08)\":1284.0,\"\\uc2e0\\ud55c\\ub9c8\\uc74c\\ud3b8\\ud55cTDF2050\\uc99d\\uad8c\\ud22c\\uc790\\uc2e0\\ud0c1[\\uc8fc\\uc2dd\\ud63c\\ud569-\\uc7ac\\uac04\\uc811\\ud615](\\uc885\\ub958C-re)\":1158.0,\"KB\\uc628\\uad6d\\ubbfcTDF2050\\uc99d\\uad8c\\uc790\\ud22c\\uc790\\uc2e0\\ud0c1(\\uc8fc\\uc2dd\\ud63c\\ud569-\\uc7ac\\uac04\\uc811\\ud615)(H)C-\\ud1f4\\uc9c1e\":1279.0,\"IBK\\ub85c\\uc6b0\\ucf54\\uc2a4\\ud2b8TDF2050\\uc99d\\uad8c\\uc790\\ud22c\\uc790\\uc2e0\\ud0c1[\\ud63c\\ud569-\\uc7ac\\uac04\\uc811\\ud615]\\uc885\\ub958C-Re\":null,\"\\ubbf8\\ub798\\uc5d0\\uc14b\\uc804\\ub7b5\\ubc30\\ubd84TDF2050\\ud63c\\ud569\\uc790\\uc0b0\\uc790\\ud22c\\uc790\\uc2e0\\ud0c1\\uc885\\ub958C-P2e\":1166.0},{\"\\ud55c\\uad6d\\ud22c\\uc790TDF\\uc54c\\uc544\\uc11c2050\\uc99d\\uad8c\\uc790\\ud22c\\uc790\\uc2e0\\ud0c1H(\\uc8fc\\uc2dd\\ud63c\\ud569-\\uc7ac\\uac04\\uc811\\ud615)(C-Re)\":1271.0,\"\\uc0bc\\uc131\\ud55c\\uad6d\\ud615TDF2050\\uc99d\\uad8c\\ud22c\\uc790\\uc2e0\\ud0c1H[\\uc8fc\\uc2dd\\ud63c\\ud569-\\uc7ac\\uac04\\uc811\\ud615]Cpe(\\ud1f4\\uc9c1\\uc5f0\\uae08)\":1276.0,\"\\uc2e0\\ud55c\\ub9c8\\uc74c\\ud3b8\\ud55cTDF2050\\uc99d\\uad8c\\ud22c\\uc790\\uc2e0\\ud0c1[\\uc8fc\\uc2dd\\ud63c\\ud569-\\uc7ac\\uac04\\uc811\\ud615](\\uc885\\ub958C-re)\":1162.0,\"KB\\uc628\\uad6d\\ubbfcTDF2050\\uc99d\\uad8c\\uc790\\ud22c\\uc790\\uc2e0\\ud0c1(\\uc8fc\\uc2dd\\ud63c\\ud569-\\uc7ac\\uac04\\uc811\\ud615)(H)C-\\ud1f4\\uc9c1e\":1271.0,\"IBK\\ub85c\\uc6b0\\ucf54\\uc2a4\\ud2b8TDF2050\\uc99d\\uad8c\\uc790\\ud22c\\uc790\\uc2e0\\ud0c1[\\ud63c\\ud569-\\uc7ac\\uac04\\uc811\\ud615]\\uc885\\ub958C-Re\":null,\"\\ubbf8\\ub798\\uc5d0\\uc14b\\uc804\\ub7b5\\ubc30\\ubd84TDF2050\\ud63c\\ud569\\uc790\\uc0b0\\uc790\\ud22c\\uc790\\uc2e0\\ud0c1\\uc885\\ub958C-P2e\":1158.0},{\"\\ud55c\\uad6d\\ud22c\\uc790TDF\\uc54c\\uc544\\uc11c2050\\uc99d\\uad8c\\uc790\\ud22c\\uc790\\uc2e0\\ud0c1H(\\uc8fc\\uc2dd\\ud63c\\ud569-\\uc7ac\\uac04\\uc811\\ud615)(C-Re)\":1314.0,\"\\uc0bc\\uc131\\ud55c\\uad6d\\ud615TDF2050\\uc99d\\uad8c\\ud22c\\uc790\\uc2e0\\ud0c1H[\\uc8fc\\uc2dd\\ud63c\\ud569-\\uc7ac\\uac04\\uc811\\ud615]Cpe(\\ud1f4\\uc9c1\\uc5f0\\uae08)\":1321.0,\"\\uc2e0\\ud55c\\ub9c8\\uc74c\\ud3b8\\ud55cTDF2050\\uc99d\\uad8c\\ud22c\\uc790\\uc2e0\\ud0c1[\\uc8fc\\uc2dd\\ud63c\\ud569-\\uc7ac\\uac04\\uc811\\ud615](\\uc885\\ub958C-re)\":1188.0,\"KB\\uc628\\uad6d\\ubbfcTDF2050\\uc99d\\uad8c\\uc790\\ud22c\\uc790\\uc2e0\\ud0c1(\\uc8fc\\uc2dd\\ud63c\\ud569-\\uc7ac\\uac04\\uc811\\ud615)(H)C-\\ud1f4\\uc9c1e\":1324.0,\"IBK\\ub85c\\uc6b0\\ucf54\\uc2a4\\ud2b8TDF2050\\uc99d\\uad8c\\uc790\\ud22c\\uc790\\uc2e0\\ud0c1[\\ud63c\\ud569-\\uc7ac\\uac04\\uc811\\ud615]\\uc885\\ub958C-Re\":1008.0,\"\\ubbf8\\ub798\\uc5d0\\uc14b\\uc804\\ub7b5\\ubc30\\ubd84TDF2050\\ud63c\\ud569\\uc790\\uc0b0\\uc790\\ud22c\\uc790\\uc2e0\\ud0c1\\uc885\\ub958C-P2e\":1190.0},{\"\\ud55c\\uad6d\\ud22c\\uc790TDF\\uc54c\\uc544\\uc11c2050\\uc99d\\uad8c\\uc790\\ud22c\\uc790\\uc2e0\\ud0c1H(\\uc8fc\\uc2dd\\ud63c\\ud569-\\uc7ac\\uac04\\uc811\\ud615)(C-Re)\":1318.0,\"\\uc0bc\\uc131\\ud55c\\uad6d\\ud615TDF2050\\uc99d\\uad8c\\ud22c\\uc790\\uc2e0\\ud0c1H[\\uc8fc\\uc2dd\\ud63c\\ud569-\\uc7ac\\uac04\\uc811\\ud615]Cpe(\\ud1f4\\uc9c1\\uc5f0\\uae08)\":1334.0,\"\\uc2e0\\ud55c\\ub9c8\\uc74c\\ud3b8\\ud55cTDF2050\\uc99d\\uad8c\\ud22c\\uc790\\uc2e0\\ud0c1[\\uc8fc\\uc2dd\\ud63c\\ud569-\\uc7ac\\uac04\\uc811\\ud615](\\uc885\\ub958C-re)\":1202.0,\"KB\\uc628\\uad6d\\ubbfcTDF2050\\uc99d\\uad8c\\uc790\\ud22c\\uc790\\uc2e0\\ud0c1(\\uc8fc\\uc2dd\\ud63c\\ud569-\\uc7ac\\uac04\\uc811\\ud615)(H)C-\\ud1f4\\uc9c1e\":1330.0,\"IBK\\ub85c\\uc6b0\\ucf54\\uc2a4\\ud2b8TDF2050\\uc99d\\uad8c\\uc790\\ud22c\\uc790\\uc2e0\\ud0c1[\\ud63c\\ud569-\\uc7ac\\uac04\\uc811\\ud615]\\uc885\\ub958C-Re\":1019.0,\"\\ubbf8\\ub798\\uc5d0\\uc14b\\uc804\\ub7b5\\ubc30\\ubd84TDF2050\\ud63c\\ud569\\uc790\\uc0b0\\uc790\\ud22c\\uc790\\uc2e0\\ud0c1\\uc885\\ub958C-P2e\":1194.0},{\"\\ud55c\\uad6d\\ud22c\\uc790TDF\\uc54c\\uc544\\uc11c2050\\uc99d\\uad8c\\uc790\\ud22c\\uc790\\uc2e0\\ud0c1H(\\uc8fc\\uc2dd\\ud63c\\ud569-\\uc7ac\\uac04\\uc811\\ud615)(C-Re)\":1328.0,\"\\uc0bc\\uc131\\ud55c\\uad6d\\ud615TDF2050\\uc99d\\uad8c\\ud22c\\uc790\\uc2e0\\ud0c1H[\\uc8fc\\uc2dd\\ud63c\\ud569-\\uc7ac\\uac04\\uc811\\ud615]Cpe(\\ud1f4\\uc9c1\\uc5f0\\uae08)\":1352.0,\"\\uc2e0\\ud55c\\ub9c8\\uc74c\\ud3b8\\ud55cTDF2050\\uc99d\\uad8c\\ud22c\\uc790\\uc2e0\\ud0c1[\\uc8fc\\uc2dd\\ud63c\\ud569-\\uc7ac\\uac04\\uc811\\ud615](\\uc885\\ub958C-re)\":1219.0,\"KB\\uc628\\uad6d\\ubbfcTDF2050\\uc99d\\uad8c\\uc790\\ud22c\\uc790\\uc2e0\\ud0c1(\\uc8fc\\uc2dd\\ud63c\\ud569-\\uc7ac\\uac04\\uc811\\ud615)(H)C-\\ud1f4\\uc9c1e\":1350.0,\"IBK\\ub85c\\uc6b0\\ucf54\\uc2a4\\ud2b8TDF2050\\uc99d\\uad8c\\uc790\\ud22c\\uc790\\uc2e0\\ud0c1[\\ud63c\\ud569-\\uc7ac\\uac04\\uc811\\ud615]\\uc885\\ub958C-Re\":1040.0,\"\\ubbf8\\ub798\\uc5d0\\uc14b\\uc804\\ub7b5\\ubc30\\ubd84TDF2050\\ud63c\\ud569\\uc790\\uc0b0\\uc790\\ud22c\\uc790\\uc2e0\\ud0c1\\uc885\\ub958C-P2e\":1213.0},{\"\\ud55c\\uad6d\\ud22c\\uc790TDF\\uc54c\\uc544\\uc11c2050\\uc99d\\uad8c\\uc790\\ud22c\\uc790\\uc2e0\\ud0c1H(\\uc8fc\\uc2dd\\ud63c\\ud569-\\uc7ac\\uac04\\uc811\\ud615)(C-Re)\":1330.0,\"\\uc0bc\\uc131\\ud55c\\uad6d\\ud615TDF2050\\uc99d\\uad8c\\ud22c\\uc790\\uc2e0\\ud0c1H[\\uc8fc\\uc2dd\\ud63c\\ud569-\\uc7ac\\uac04\\uc811\\ud615]Cpe(\\ud1f4\\uc9c1\\uc5f0\\uae08)\":1355.0,\"\\uc2e0\\ud55c\\ub9c8\\uc74c\\ud3b8\\ud55cTDF2050\\uc99d\\uad8c\\ud22c\\uc790\\uc2e0\\ud0c1[\\uc8fc\\uc2dd\\ud63c\\ud569-\\uc7ac\\uac04\\uc811\\ud615](\\uc885\\ub958C-re)\":1229.0,\"KB\\uc628\\uad6d\\ubbfcTDF2050\\uc99d\\uad8c\\uc790\\ud22c\\uc790\\uc2e0\\ud0c1(\\uc8fc\\uc2dd\\ud63c\\ud569-\\uc7ac\\uac04\\uc811\\ud615)(H)C-\\ud1f4\\uc9c1e\":1354.0,\"IBK\\ub85c\\uc6b0\\ucf54\\uc2a4\\ud2b8TDF2050\\uc99d\\uad8c\\uc790\\ud22c\\uc790\\uc2e0\\ud0c1[\\ud63c\\ud569-\\uc7ac\\uac04\\uc811\\ud615]\\uc885\\ub958C-Re\":1057.0,\"\\ubbf8\\ub798\\uc5d0\\uc14b\\uc804\\ub7b5\\ubc30\\ubd84TDF2050\\ud63c\\ud569\\uc790\\uc0b0\\uc790\\ud22c\\uc790\\uc2e0\\ud0c1\\uc885\\ub958C-P2e\":1219.0},{\"\\ud55c\\uad6d\\ud22c\\uc790TDF\\uc54c\\uc544\\uc11c2050\\uc99d\\uad8c\\uc790\\ud22c\\uc790\\uc2e0\\ud0c1H(\\uc8fc\\uc2dd\\ud63c\\ud569-\\uc7ac\\uac04\\uc811\\ud615)(C-Re)\":1347.0,\"\\uc0bc\\uc131\\ud55c\\uad6d\\ud615TDF2050\\uc99d\\uad8c\\ud22c\\uc790\\uc2e0\\ud0c1H[\\uc8fc\\uc2dd\\ud63c\\ud569-\\uc7ac\\uac04\\uc811\\ud615]Cpe(\\ud1f4\\uc9c1\\uc5f0\\uae08)\":1376.0,\"\\uc2e0\\ud55c\\ub9c8\\uc74c\\ud3b8\\ud55cTDF2050\\uc99d\\uad8c\\ud22c\\uc790\\uc2e0\\ud0c1[\\uc8fc\\uc2dd\\ud63c\\ud569-\\uc7ac\\uac04\\uc811\\ud615](\\uc885\\ub958C-re)\":1250.0,\"KB\\uc628\\uad6d\\ubbfcTDF2050\\uc99d\\uad8c\\uc790\\ud22c\\uc790\\uc2e0\\ud0c1(\\uc8fc\\uc2dd\\ud63c\\ud569-\\uc7ac\\uac04\\uc811\\ud615)(H)C-\\ud1f4\\uc9c1e\":1369.0,\"IBK\\ub85c\\uc6b0\\ucf54\\uc2a4\\ud2b8TDF2050\\uc99d\\uad8c\\uc790\\ud22c\\uc790\\uc2e0\\ud0c1[\\ud63c\\ud569-\\uc7ac\\uac04\\uc811\\ud615]\\uc885\\ub958C-Re\":1083.0,\"\\ubbf8\\ub798\\uc5d0\\uc14b\\uc804\\ub7b5\\ubc30\\ubd84TDF2050\\ud63c\\ud569\\uc790\\uc0b0\\uc790\\ud22c\\uc790\\uc2e0\\ud0c1\\uc885\\ub958C-P2e\":1239.0},{\"\\ud55c\\uad6d\\ud22c\\uc790TDF\\uc54c\\uc544\\uc11c2050\\uc99d\\uad8c\\uc790\\ud22c\\uc790\\uc2e0\\ud0c1H(\\uc8fc\\uc2dd\\ud63c\\ud569-\\uc7ac\\uac04\\uc811\\ud615)(C-Re)\":1328.0,\"\\uc0bc\\uc131\\ud55c\\uad6d\\ud615TDF2050\\uc99d\\uad8c\\ud22c\\uc790\\uc2e0\\ud0c1H[\\uc8fc\\uc2dd\\ud63c\\ud569-\\uc7ac\\uac04\\uc811\\ud615]Cpe(\\ud1f4\\uc9c1\\uc5f0\\uae08)\":1345.0,\"\\uc2e0\\ud55c\\ub9c8\\uc74c\\ud3b8\\ud55cTDF2050\\uc99d\\uad8c\\ud22c\\uc790\\uc2e0\\ud0c1[\\uc8fc\\uc2dd\\ud63c\\ud569-\\uc7ac\\uac04\\uc811\\ud615](\\uc885\\ub958C-re)\":1227.0,\"KB\\uc628\\uad6d\\ubbfcTDF2050\\uc99d\\uad8c\\uc790\\ud22c\\uc790\\uc2e0\\ud0c1(\\uc8fc\\uc2dd\\ud63c\\ud569-\\uc7ac\\uac04\\uc811\\ud615)(H)C-\\ud1f4\\uc9c1e\":1332.0,\"IBK\\ub85c\\uc6b0\\ucf54\\uc2a4\\ud2b8TDF2050\\uc99d\\uad8c\\uc790\\ud22c\\uc790\\uc2e0\\ud0c1[\\ud63c\\ud569-\\uc7ac\\uac04\\uc811\\ud615]\\uc885\\ub958C-Re\":1066.0,\"\\ubbf8\\ub798\\uc5d0\\uc14b\\uc804\\ub7b5\\ubc30\\ubd84TDF2050\\ud63c\\ud569\\uc790\\uc0b0\\uc790\\ud22c\\uc790\\uc2e0\\ud0c1\\uc885\\ub958C-P2e\":1216.0},{\"\\ud55c\\uad6d\\ud22c\\uc790TDF\\uc54c\\uc544\\uc11c2050\\uc99d\\uad8c\\uc790\\ud22c\\uc790\\uc2e0\\ud0c1H(\\uc8fc\\uc2dd\\ud63c\\ud569-\\uc7ac\\uac04\\uc811\\ud615)(C-Re)\":1349.0,\"\\uc0bc\\uc131\\ud55c\\uad6d\\ud615TDF2050\\uc99d\\uad8c\\ud22c\\uc790\\uc2e0\\ud0c1H[\\uc8fc\\uc2dd\\ud63c\\ud569-\\uc7ac\\uac04\\uc811\\ud615]Cpe(\\ud1f4\\uc9c1\\uc5f0\\uae08)\":1376.0,\"\\uc2e0\\ud55c\\ub9c8\\uc74c\\ud3b8\\ud55cTDF2050\\uc99d\\uad8c\\ud22c\\uc790\\uc2e0\\ud0c1[\\uc8fc\\uc2dd\\ud63c\\ud569-\\uc7ac\\uac04\\uc811\\ud615](\\uc885\\ub958C-re)\":1253.0,\"KB\\uc628\\uad6d\\ubbfcTDF2050\\uc99d\\uad8c\\uc790\\ud22c\\uc790\\uc2e0\\ud0c1(\\uc8fc\\uc2dd\\ud63c\\ud569-\\uc7ac\\uac04\\uc811\\ud615)(H)C-\\ud1f4\\uc9c1e\":1366.0,\"IBK\\ub85c\\uc6b0\\ucf54\\uc2a4\\ud2b8TDF2050\\uc99d\\uad8c\\uc790\\ud22c\\uc790\\uc2e0\\ud0c1[\\ud63c\\ud569-\\uc7ac\\uac04\\uc811\\ud615]\\uc885\\ub958C-Re\":1085.0,\"\\ubbf8\\ub798\\uc5d0\\uc14b\\uc804\\ub7b5\\ubc30\\ubd84TDF2050\\ud63c\\ud569\\uc790\\uc0b0\\uc790\\ud22c\\uc790\\uc2e0\\ud0c1\\uc885\\ub958C-P2e\":1245.0},{\"\\ud55c\\uad6d\\ud22c\\uc790TDF\\uc54c\\uc544\\uc11c2050\\uc99d\\uad8c\\uc790\\ud22c\\uc790\\uc2e0\\ud0c1H(\\uc8fc\\uc2dd\\ud63c\\ud569-\\uc7ac\\uac04\\uc811\\ud615)(C-Re)\":1326.0,\"\\uc0bc\\uc131\\ud55c\\uad6d\\ud615TDF2050\\uc99d\\uad8c\\ud22c\\uc790\\uc2e0\\ud0c1H[\\uc8fc\\uc2dd\\ud63c\\ud569-\\uc7ac\\uac04\\uc811\\ud615]Cpe(\\ud1f4\\uc9c1\\uc5f0\\uae08)\":1357.0,\"\\uc2e0\\ud55c\\ub9c8\\uc74c\\ud3b8\\ud55cTDF2050\\uc99d\\uad8c\\ud22c\\uc790\\uc2e0\\ud0c1[\\uc8fc\\uc2dd\\ud63c\\ud569-\\uc7ac\\uac04\\uc811\\ud615](\\uc885\\ub958C-re)\":1247.0,\"KB\\uc628\\uad6d\\ubbfcTDF2050\\uc99d\\uad8c\\uc790\\ud22c\\uc790\\uc2e0\\ud0c1(\\uc8fc\\uc2dd\\ud63c\\ud569-\\uc7ac\\uac04\\uc811\\ud615)(H)C-\\ud1f4\\uc9c1e\":1349.0,\"IBK\\ub85c\\uc6b0\\ucf54\\uc2a4\\ud2b8TDF2050\\uc99d\\uad8c\\uc790\\ud22c\\uc790\\uc2e0\\ud0c1[\\ud63c\\ud569-\\uc7ac\\uac04\\uc811\\ud615]\\uc885\\ub958C-Re\":1088.0,\"\\ubbf8\\ub798\\uc5d0\\uc14b\\uc804\\ub7b5\\ubc30\\ubd84TDF2050\\ud63c\\ud569\\uc790\\uc0b0\\uc790\\ud22c\\uc790\\uc2e0\\ud0c1\\uc885\\ub958C-P2e\":1240.0},{\"\\ud55c\\uad6d\\ud22c\\uc790TDF\\uc54c\\uc544\\uc11c2050\\uc99d\\uad8c\\uc790\\ud22c\\uc790\\uc2e0\\ud0c1H(\\uc8fc\\uc2dd\\ud63c\\ud569-\\uc7ac\\uac04\\uc811\\ud615)(C-Re)\":1346.0,\"\\uc0bc\\uc131\\ud55c\\uad6d\\ud615TDF2050\\uc99d\\uad8c\\ud22c\\uc790\\uc2e0\\ud0c1H[\\uc8fc\\uc2dd\\ud63c\\ud569-\\uc7ac\\uac04\\uc811\\ud615]Cpe(\\ud1f4\\uc9c1\\uc5f0\\uae08)\":1391.0,\"\\uc2e0\\ud55c\\ub9c8\\uc74c\\ud3b8\\ud55cTDF2050\\uc99d\\uad8c\\ud22c\\uc790\\uc2e0\\ud0c1[\\uc8fc\\uc2dd\\ud63c\\ud569-\\uc7ac\\uac04\\uc811\\ud615](\\uc885\\ub958C-re)\":1280.0,\"KB\\uc628\\uad6d\\ubbfcTDF2050\\uc99d\\uad8c\\uc790\\ud22c\\uc790\\uc2e0\\ud0c1(\\uc8fc\\uc2dd\\ud63c\\ud569-\\uc7ac\\uac04\\uc811\\ud615)(H)C-\\ud1f4\\uc9c1e\":1388.0,\"IBK\\ub85c\\uc6b0\\ucf54\\uc2a4\\ud2b8TDF2050\\uc99d\\uad8c\\uc790\\ud22c\\uc790\\uc2e0\\ud0c1[\\ud63c\\ud569-\\uc7ac\\uac04\\uc811\\ud615]\\uc885\\ub958C-Re\":1113.0,\"\\ubbf8\\ub798\\uc5d0\\uc14b\\uc804\\ub7b5\\ubc30\\ubd84TDF2050\\ud63c\\ud569\\uc790\\uc0b0\\uc790\\ud22c\\uc790\\uc2e0\\ud0c1\\uc885\\ub958C-P2e\":1262.0},{\"\\ud55c\\uad6d\\ud22c\\uc790TDF\\uc54c\\uc544\\uc11c2050\\uc99d\\uad8c\\uc790\\ud22c\\uc790\\uc2e0\\ud0c1H(\\uc8fc\\uc2dd\\ud63c\\ud569-\\uc7ac\\uac04\\uc811\\ud615)(C-Re)\":1274.0,\"\\uc0bc\\uc131\\ud55c\\uad6d\\ud615TDF2050\\uc99d\\uad8c\\ud22c\\uc790\\uc2e0\\ud0c1H[\\uc8fc\\uc2dd\\ud63c\\ud569-\\uc7ac\\uac04\\uc811\\ud615]Cpe(\\ud1f4\\uc9c1\\uc5f0\\uae08)\":1287.0,\"\\uc2e0\\ud55c\\ub9c8\\uc74c\\ud3b8\\ud55cTDF2050\\uc99d\\uad8c\\ud22c\\uc790\\uc2e0\\ud0c1[\\uc8fc\\uc2dd\\ud63c\\ud569-\\uc7ac\\uac04\\uc811\\ud615](\\uc885\\ub958C-re)\":1210.0,\"KB\\uc628\\uad6d\\ubbfcTDF2050\\uc99d\\uad8c\\uc790\\ud22c\\uc790\\uc2e0\\ud0c1(\\uc8fc\\uc2dd\\ud63c\\ud569-\\uc7ac\\uac04\\uc811\\ud615)(H)C-\\ud1f4\\uc9c1e\":1291.0,\"IBK\\ub85c\\uc6b0\\ucf54\\uc2a4\\ud2b8TDF2050\\uc99d\\uad8c\\uc790\\ud22c\\uc790\\uc2e0\\ud0c1[\\ud63c\\ud569-\\uc7ac\\uac04\\uc811\\ud615]\\uc885\\ub958C-Re\":1059.0,\"\\ubbf8\\ub798\\uc5d0\\uc14b\\uc804\\ub7b5\\ubc30\\ubd84TDF2050\\ud63c\\ud569\\uc790\\uc0b0\\uc790\\ud22c\\uc790\\uc2e0\\ud0c1\\uc885\\ub958C-P2e\":1170.0},{\"\\ud55c\\uad6d\\ud22c\\uc790TDF\\uc54c\\uc544\\uc11c2050\\uc99d\\uad8c\\uc790\\ud22c\\uc790\\uc2e0\\ud0c1H(\\uc8fc\\uc2dd\\ud63c\\ud569-\\uc7ac\\uac04\\uc811\\ud615)(C-Re)\":1220.0,\"\\uc0bc\\uc131\\ud55c\\uad6d\\ud615TDF2050\\uc99d\\uad8c\\ud22c\\uc790\\uc2e0\\ud0c1H[\\uc8fc\\uc2dd\\ud63c\\ud569-\\uc7ac\\uac04\\uc811\\ud615]Cpe(\\ud1f4\\uc9c1\\uc5f0\\uae08)\":1257.0,\"\\uc2e0\\ud55c\\ub9c8\\uc74c\\ud3b8\\ud55cTDF2050\\uc99d\\uad8c\\ud22c\\uc790\\uc2e0\\ud0c1[\\uc8fc\\uc2dd\\ud63c\\ud569-\\uc7ac\\uac04\\uc811\\ud615](\\uc885\\ub958C-re)\":1189.0,\"KB\\uc628\\uad6d\\ubbfcTDF2050\\uc99d\\uad8c\\uc790\\ud22c\\uc790\\uc2e0\\ud0c1(\\uc8fc\\uc2dd\\ud63c\\ud569-\\uc7ac\\uac04\\uc811\\ud615)(H)C-\\ud1f4\\uc9c1e\":1274.0,\"IBK\\ub85c\\uc6b0\\ucf54\\uc2a4\\ud2b8TDF2050\\uc99d\\uad8c\\uc790\\ud22c\\uc790\\uc2e0\\ud0c1[\\ud63c\\ud569-\\uc7ac\\uac04\\uc811\\ud615]\\uc885\\ub958C-Re\":1043.0,\"\\ubbf8\\ub798\\uc5d0\\uc14b\\uc804\\ub7b5\\ubc30\\ubd84TDF2050\\ud63c\\ud569\\uc790\\uc0b0\\uc790\\ud22c\\uc790\\uc2e0\\ud0c1\\uc885\\ub958C-P2e\":1153.0},{\"\\ud55c\\uad6d\\ud22c\\uc790TDF\\uc54c\\uc544\\uc11c2050\\uc99d\\uad8c\\uc790\\ud22c\\uc790\\uc2e0\\ud0c1H(\\uc8fc\\uc2dd\\ud63c\\ud569-\\uc7ac\\uac04\\uc811\\ud615)(C-Re)\":1277.0,\"\\uc0bc\\uc131\\ud55c\\uad6d\\ud615TDF2050\\uc99d\\uad8c\\ud22c\\uc790\\uc2e0\\ud0c1H[\\uc8fc\\uc2dd\\ud63c\\ud569-\\uc7ac\\uac04\\uc811\\ud615]Cpe(\\ud1f4\\uc9c1\\uc5f0\\uae08)\":1295.0,\"\\uc2e0\\ud55c\\ub9c8\\uc74c\\ud3b8\\ud55cTDF2050\\uc99d\\uad8c\\ud22c\\uc790\\uc2e0\\ud0c1[\\uc8fc\\uc2dd\\ud63c\\ud569-\\uc7ac\\uac04\\uc811\\ud615](\\uc885\\ub958C-re)\":1236.0,\"KB\\uc628\\uad6d\\ubbfcTDF2050\\uc99d\\uad8c\\uc790\\ud22c\\uc790\\uc2e0\\ud0c1(\\uc8fc\\uc2dd\\ud63c\\ud569-\\uc7ac\\uac04\\uc811\\ud615)(H)C-\\ud1f4\\uc9c1e\":1330.0,\"IBK\\ub85c\\uc6b0\\ucf54\\uc2a4\\ud2b8TDF2050\\uc99d\\uad8c\\uc790\\ud22c\\uc790\\uc2e0\\ud0c1[\\ud63c\\ud569-\\uc7ac\\uac04\\uc811\\ud615]\\uc885\\ub958C-Re\":1083.0,\"\\ubbf8\\ub798\\uc5d0\\uc14b\\uc804\\ub7b5\\ubc30\\ubd84TDF2050\\ud63c\\ud569\\uc790\\uc0b0\\uc790\\ud22c\\uc790\\uc2e0\\ud0c1\\uc885\\ub958C-P2e\":1202.0},{\"\\ud55c\\uad6d\\ud22c\\uc790TDF\\uc54c\\uc544\\uc11c2050\\uc99d\\uad8c\\uc790\\ud22c\\uc790\\uc2e0\\ud0c1H(\\uc8fc\\uc2dd\\ud63c\\ud569-\\uc7ac\\uac04\\uc811\\ud615)(C-Re)\":1206.0,\"\\uc0bc\\uc131\\ud55c\\uad6d\\ud615TDF2050\\uc99d\\uad8c\\ud22c\\uc790\\uc2e0\\ud0c1H[\\uc8fc\\uc2dd\\ud63c\\ud569-\\uc7ac\\uac04\\uc811\\ud615]Cpe(\\ud1f4\\uc9c1\\uc5f0\\uae08)\":1192.0,\"\\uc2e0\\ud55c\\ub9c8\\uc74c\\ud3b8\\ud55cTDF2050\\uc99d\\uad8c\\ud22c\\uc790\\uc2e0\\ud0c1[\\uc8fc\\uc2dd\\ud63c\\ud569-\\uc7ac\\uac04\\uc811\\ud615](\\uc885\\ub958C-re)\":1155.0,\"KB\\uc628\\uad6d\\ubbfcTDF2050\\uc99d\\uad8c\\uc790\\ud22c\\uc790\\uc2e0\\ud0c1(\\uc8fc\\uc2dd\\ud63c\\ud569-\\uc7ac\\uac04\\uc811\\ud615)(H)C-\\ud1f4\\uc9c1e\":1228.0,\"IBK\\ub85c\\uc6b0\\ucf54\\uc2a4\\ud2b8TDF2050\\uc99d\\uad8c\\uc790\\ud22c\\uc790\\uc2e0\\ud0c1[\\ud63c\\ud569-\\uc7ac\\uac04\\uc811\\ud615]\\uc885\\ub958C-Re\":1039.0,\"\\ubbf8\\ub798\\uc5d0\\uc14b\\uc804\\ub7b5\\ubc30\\ubd84TDF2050\\ud63c\\ud569\\uc790\\uc0b0\\uc790\\ud22c\\uc790\\uc2e0\\ud0c1\\uc885\\ub958C-P2e\":1140.0},{\"\\ud55c\\uad6d\\ud22c\\uc790TDF\\uc54c\\uc544\\uc11c2050\\uc99d\\uad8c\\uc790\\ud22c\\uc790\\uc2e0\\ud0c1H(\\uc8fc\\uc2dd\\ud63c\\ud569-\\uc7ac\\uac04\\uc811\\ud615)(C-Re)\":1182.0,\"\\uc0bc\\uc131\\ud55c\\uad6d\\ud615TDF2050\\uc99d\\uad8c\\ud22c\\uc790\\uc2e0\\ud0c1H[\\uc8fc\\uc2dd\\ud63c\\ud569-\\uc7ac\\uac04\\uc811\\ud615]Cpe(\\ud1f4\\uc9c1\\uc5f0\\uae08)\":1197.0,\"\\uc2e0\\ud55c\\ub9c8\\uc74c\\ud3b8\\ud55cTDF2050\\uc99d\\uad8c\\ud22c\\uc790\\uc2e0\\ud0c1[\\uc8fc\\uc2dd\\ud63c\\ud569-\\uc7ac\\uac04\\uc811\\ud615](\\uc885\\ub958C-re)\":1144.0,\"KB\\uc628\\uad6d\\ubbfcTDF2050\\uc99d\\uad8c\\uc790\\ud22c\\uc790\\uc2e0\\ud0c1(\\uc8fc\\uc2dd\\ud63c\\ud569-\\uc7ac\\uac04\\uc811\\ud615)(H)C-\\ud1f4\\uc9c1e\":1226.0,\"IBK\\ub85c\\uc6b0\\ucf54\\uc2a4\\ud2b8TDF2050\\uc99d\\uad8c\\uc790\\ud22c\\uc790\\uc2e0\\ud0c1[\\ud63c\\ud569-\\uc7ac\\uac04\\uc811\\ud615]\\uc885\\ub958C-Re\":1026.0,\"\\ubbf8\\ub798\\uc5d0\\uc14b\\uc804\\ub7b5\\ubc30\\ubd84TDF2050\\ud63c\\ud569\\uc790\\uc0b0\\uc790\\ud22c\\uc790\\uc2e0\\ud0c1\\uc885\\ub958C-P2e\":1121.0},{\"\\ud55c\\uad6d\\ud22c\\uc790TDF\\uc54c\\uc544\\uc11c2050\\uc99d\\uad8c\\uc790\\ud22c\\uc790\\uc2e0\\ud0c1H(\\uc8fc\\uc2dd\\ud63c\\ud569-\\uc7ac\\uac04\\uc811\\ud615)(C-Re)\":1147.0,\"\\uc0bc\\uc131\\ud55c\\uad6d\\ud615TDF2050\\uc99d\\uad8c\\ud22c\\uc790\\uc2e0\\ud0c1H[\\uc8fc\\uc2dd\\ud63c\\ud569-\\uc7ac\\uac04\\uc811\\ud615]Cpe(\\ud1f4\\uc9c1\\uc5f0\\uae08)\":1114.0,\"\\uc2e0\\ud55c\\ub9c8\\uc74c\\ud3b8\\ud55cTDF2050\\uc99d\\uad8c\\ud22c\\uc790\\uc2e0\\ud0c1[\\uc8fc\\uc2dd\\ud63c\\ud569-\\uc7ac\\uac04\\uc811\\ud615](\\uc885\\ub958C-re)\":1092.0,\"KB\\uc628\\uad6d\\ubbfcTDF2050\\uc99d\\uad8c\\uc790\\ud22c\\uc790\\uc2e0\\ud0c1(\\uc8fc\\uc2dd\\ud63c\\ud569-\\uc7ac\\uac04\\uc811\\ud615)(H)C-\\ud1f4\\uc9c1e\":1148.0,\"IBK\\ub85c\\uc6b0\\ucf54\\uc2a4\\ud2b8TDF2050\\uc99d\\uad8c\\uc790\\ud22c\\uc790\\uc2e0\\ud0c1[\\ud63c\\ud569-\\uc7ac\\uac04\\uc811\\ud615]\\uc885\\ub958C-Re\":992.0,\"\\ubbf8\\ub798\\uc5d0\\uc14b\\uc804\\ub7b5\\ubc30\\ubd84TDF2050\\ud63c\\ud569\\uc790\\uc0b0\\uc790\\ud22c\\uc790\\uc2e0\\ud0c1\\uc885\\ub958C-P2e\":1084.0},{\"\\ud55c\\uad6d\\ud22c\\uc790TDF\\uc54c\\uc544\\uc11c2050\\uc99d\\uad8c\\uc790\\ud22c\\uc790\\uc2e0\\ud0c1H(\\uc8fc\\uc2dd\\ud63c\\ud569-\\uc7ac\\uac04\\uc811\\ud615)(C-Re)\":1148.0,\"\\uc0bc\\uc131\\ud55c\\uad6d\\ud615TDF2050\\uc99d\\uad8c\\ud22c\\uc790\\uc2e0\\ud0c1H[\\uc8fc\\uc2dd\\ud63c\\ud569-\\uc7ac\\uac04\\uc811\\ud615]Cpe(\\ud1f4\\uc9c1\\uc5f0\\uae08)\":1142.0,\"\\uc2e0\\ud55c\\ub9c8\\uc74c\\ud3b8\\ud55cTDF2050\\uc99d\\uad8c\\ud22c\\uc790\\uc2e0\\ud0c1[\\uc8fc\\uc2dd\\ud63c\\ud569-\\uc7ac\\uac04\\uc811\\ud615](\\uc885\\ub958C-re)\":1123.0,\"KB\\uc628\\uad6d\\ubbfcTDF2050\\uc99d\\uad8c\\uc790\\ud22c\\uc790\\uc2e0\\ud0c1(\\uc8fc\\uc2dd\\ud63c\\ud569-\\uc7ac\\uac04\\uc811\\ud615)(H)C-\\ud1f4\\uc9c1e\":1181.0,\"IBK\\ub85c\\uc6b0\\ucf54\\uc2a4\\ud2b8TDF2050\\uc99d\\uad8c\\uc790\\ud22c\\uc790\\uc2e0\\ud0c1[\\ud63c\\ud569-\\uc7ac\\uac04\\uc811\\ud615]\\uc885\\ub958C-Re\":1022.0,\"\\ubbf8\\ub798\\uc5d0\\uc14b\\uc804\\ub7b5\\ubc30\\ubd84TDF2050\\ud63c\\ud569\\uc790\\uc0b0\\uc790\\ud22c\\uc790\\uc2e0\\ud0c1\\uc885\\ub958C-P2e\":1104.0},{\"\\ud55c\\uad6d\\ud22c\\uc790TDF\\uc54c\\uc544\\uc11c2050\\uc99d\\uad8c\\uc790\\ud22c\\uc790\\uc2e0\\ud0c1H(\\uc8fc\\uc2dd\\ud63c\\ud569-\\uc7ac\\uac04\\uc811\\ud615)(C-Re)\":1162.0,\"\\uc0bc\\uc131\\ud55c\\uad6d\\ud615TDF2050\\uc99d\\uad8c\\ud22c\\uc790\\uc2e0\\ud0c1H[\\uc8fc\\uc2dd\\ud63c\\ud569-\\uc7ac\\uac04\\uc811\\ud615]Cpe(\\ud1f4\\uc9c1\\uc5f0\\uae08)\":1138.0,\"\\uc2e0\\ud55c\\ub9c8\\uc74c\\ud3b8\\ud55cTDF2050\\uc99d\\uad8c\\ud22c\\uc790\\uc2e0\\ud0c1[\\uc8fc\\uc2dd\\ud63c\\ud569-\\uc7ac\\uac04\\uc811\\ud615](\\uc885\\ub958C-re)\":1126.0,\"KB\\uc628\\uad6d\\ubbfcTDF2050\\uc99d\\uad8c\\uc790\\ud22c\\uc790\\uc2e0\\ud0c1(\\uc8fc\\uc2dd\\ud63c\\ud569-\\uc7ac\\uac04\\uc811\\ud615)(H)C-\\ud1f4\\uc9c1e\":1178.0,\"IBK\\ub85c\\uc6b0\\ucf54\\uc2a4\\ud2b8TDF2050\\uc99d\\uad8c\\uc790\\ud22c\\uc790\\uc2e0\\ud0c1[\\ud63c\\ud569-\\uc7ac\\uac04\\uc811\\ud615]\\uc885\\ub958C-Re\":1038.0,\"\\ubbf8\\ub798\\uc5d0\\uc14b\\uc804\\ub7b5\\ubc30\\ubd84TDF2050\\ud63c\\ud569\\uc790\\uc0b0\\uc790\\ud22c\\uc790\\uc2e0\\ud0c1\\uc885\\ub958C-P2e\":1125.0},{\"\\ud55c\\uad6d\\ud22c\\uc790TDF\\uc54c\\uc544\\uc11c2050\\uc99d\\uad8c\\uc790\\ud22c\\uc790\\uc2e0\\ud0c1H(\\uc8fc\\uc2dd\\ud63c\\ud569-\\uc7ac\\uac04\\uc811\\ud615)(C-Re)\":1079.0,\"\\uc0bc\\uc131\\ud55c\\uad6d\\ud615TDF2050\\uc99d\\uad8c\\ud22c\\uc790\\uc2e0\\ud0c1H[\\uc8fc\\uc2dd\\ud63c\\ud569-\\uc7ac\\uac04\\uc811\\ud615]Cpe(\\ud1f4\\uc9c1\\uc5f0\\uae08)\":1054.0,\"\\uc2e0\\ud55c\\ub9c8\\uc74c\\ud3b8\\ud55cTDF2050\\uc99d\\uad8c\\ud22c\\uc790\\uc2e0\\ud0c1[\\uc8fc\\uc2dd\\ud63c\\ud569-\\uc7ac\\uac04\\uc811\\ud615](\\uc885\\ub958C-re)\":1055.0,\"KB\\uc628\\uad6d\\ubbfcTDF2050\\uc99d\\uad8c\\uc790\\ud22c\\uc790\\uc2e0\\ud0c1(\\uc8fc\\uc2dd\\ud63c\\ud569-\\uc7ac\\uac04\\uc811\\ud615)(H)C-\\ud1f4\\uc9c1e\":1111.0,\"IBK\\ub85c\\uc6b0\\ucf54\\uc2a4\\ud2b8TDF2050\\uc99d\\uad8c\\uc790\\ud22c\\uc790\\uc2e0\\ud0c1[\\ud63c\\ud569-\\uc7ac\\uac04\\uc811\\ud615]\\uc885\\ub958C-Re\":1008.0,\"\\ubbf8\\ub798\\uc5d0\\uc14b\\uc804\\ub7b5\\ubc30\\ubd84TDF2050\\ud63c\\ud569\\uc790\\uc0b0\\uc790\\ud22c\\uc790\\uc2e0\\ud0c1\\uc885\\ub958C-P2e\":1080.0},{\"\\ud55c\\uad6d\\ud22c\\uc790TDF\\uc54c\\uc544\\uc11c2050\\uc99d\\uad8c\\uc790\\ud22c\\uc790\\uc2e0\\ud0c1H(\\uc8fc\\uc2dd\\ud63c\\ud569-\\uc7ac\\uac04\\uc811\\ud615)(C-Re)\":1110.0,\"\\uc0bc\\uc131\\ud55c\\uad6d\\ud615TDF2050\\uc99d\\uad8c\\ud22c\\uc790\\uc2e0\\ud0c1H[\\uc8fc\\uc2dd\\ud63c\\ud569-\\uc7ac\\uac04\\uc811\\ud615]Cpe(\\ud1f4\\uc9c1\\uc5f0\\uae08)\":1072.0,\"\\uc2e0\\ud55c\\ub9c8\\uc74c\\ud3b8\\ud55cTDF2050\\uc99d\\uad8c\\ud22c\\uc790\\uc2e0\\ud0c1[\\uc8fc\\uc2dd\\ud63c\\ud569-\\uc7ac\\uac04\\uc811\\ud615](\\uc885\\ub958C-re)\":1064.0,\"KB\\uc628\\uad6d\\ubbfcTDF2050\\uc99d\\uad8c\\uc790\\ud22c\\uc790\\uc2e0\\ud0c1(\\uc8fc\\uc2dd\\ud63c\\ud569-\\uc7ac\\uac04\\uc811\\ud615)(H)C-\\ud1f4\\uc9c1e\":1131.0,\"IBK\\ub85c\\uc6b0\\ucf54\\uc2a4\\ud2b8TDF2050\\uc99d\\uad8c\\uc790\\ud22c\\uc790\\uc2e0\\ud0c1[\\ud63c\\ud569-\\uc7ac\\uac04\\uc811\\ud615]\\uc885\\ub958C-Re\":1014.0,\"\\ubbf8\\ub798\\uc5d0\\uc14b\\uc804\\ub7b5\\ubc30\\ubd84TDF2050\\ud63c\\ud569\\uc790\\uc0b0\\uc790\\ud22c\\uc790\\uc2e0\\ud0c1\\uc885\\ub958C-P2e\":1079.0},{\"\\ud55c\\uad6d\\ud22c\\uc790TDF\\uc54c\\uc544\\uc11c2050\\uc99d\\uad8c\\uc790\\ud22c\\uc790\\uc2e0\\ud0c1H(\\uc8fc\\uc2dd\\ud63c\\ud569-\\uc7ac\\uac04\\uc811\\ud615)(C-Re)\":1150.0,\"\\uc0bc\\uc131\\ud55c\\uad6d\\ud615TDF2050\\uc99d\\uad8c\\ud22c\\uc790\\uc2e0\\ud0c1H[\\uc8fc\\uc2dd\\ud63c\\ud569-\\uc7ac\\uac04\\uc811\\ud615]Cpe(\\ud1f4\\uc9c1\\uc5f0\\uae08)\":1124.0,\"\\uc2e0\\ud55c\\ub9c8\\uc74c\\ud3b8\\ud55cTDF2050\\uc99d\\uad8c\\ud22c\\uc790\\uc2e0\\ud0c1[\\uc8fc\\uc2dd\\ud63c\\ud569-\\uc7ac\\uac04\\uc811\\ud615](\\uc885\\ub958C-re)\":1102.0,\"KB\\uc628\\uad6d\\ubbfcTDF2050\\uc99d\\uad8c\\uc790\\ud22c\\uc790\\uc2e0\\ud0c1(\\uc8fc\\uc2dd\\ud63c\\ud569-\\uc7ac\\uac04\\uc811\\ud615)(H)C-\\ud1f4\\uc9c1e\":1173.0,\"IBK\\ub85c\\uc6b0\\ucf54\\uc2a4\\ud2b8TDF2050\\uc99d\\uad8c\\uc790\\ud22c\\uc790\\uc2e0\\ud0c1[\\ud63c\\ud569-\\uc7ac\\uac04\\uc811\\ud615]\\uc885\\ub958C-Re\":1018.0,\"\\ubbf8\\ub798\\uc5d0\\uc14b\\uc804\\ub7b5\\ubc30\\ubd84TDF2050\\ud63c\\ud569\\uc790\\uc0b0\\uc790\\ud22c\\uc790\\uc2e0\\ud0c1\\uc885\\ub958C-P2e\":1090.0},{\"\\ud55c\\uad6d\\ud22c\\uc790TDF\\uc54c\\uc544\\uc11c2050\\uc99d\\uad8c\\uc790\\ud22c\\uc790\\uc2e0\\ud0c1H(\\uc8fc\\uc2dd\\ud63c\\ud569-\\uc7ac\\uac04\\uc811\\ud615)(C-Re)\":1123.0,\"\\uc0bc\\uc131\\ud55c\\uad6d\\ud615TDF2050\\uc99d\\uad8c\\ud22c\\uc790\\uc2e0\\ud0c1H[\\uc8fc\\uc2dd\\ud63c\\ud569-\\uc7ac\\uac04\\uc811\\ud615]Cpe(\\ud1f4\\uc9c1\\uc5f0\\uae08)\":1105.0,\"\\uc2e0\\ud55c\\ub9c8\\uc74c\\ud3b8\\ud55cTDF2050\\uc99d\\uad8c\\ud22c\\uc790\\uc2e0\\ud0c1[\\uc8fc\\uc2dd\\ud63c\\ud569-\\uc7ac\\uac04\\uc811\\ud615](\\uc885\\ub958C-re)\":1065.0,\"KB\\uc628\\uad6d\\ubbfcTDF2050\\uc99d\\uad8c\\uc790\\ud22c\\uc790\\uc2e0\\ud0c1(\\uc8fc\\uc2dd\\ud63c\\ud569-\\uc7ac\\uac04\\uc811\\ud615)(H)C-\\ud1f4\\uc9c1e\":1140.0,\"IBK\\ub85c\\uc6b0\\ucf54\\uc2a4\\ud2b8TDF2050\\uc99d\\uad8c\\uc790\\ud22c\\uc790\\uc2e0\\ud0c1[\\ud63c\\ud569-\\uc7ac\\uac04\\uc811\\ud615]\\uc885\\ub958C-Re\":968.0,\"\\ubbf8\\ub798\\uc5d0\\uc14b\\uc804\\ub7b5\\ubc30\\ubd84TDF2050\\ud63c\\ud569\\uc790\\uc0b0\\uc790\\ud22c\\uc790\\uc2e0\\ud0c1\\uc885\\ub958C-P2e\":1046.0},{\"\\ud55c\\uad6d\\ud22c\\uc790TDF\\uc54c\\uc544\\uc11c2050\\uc99d\\uad8c\\uc790\\ud22c\\uc790\\uc2e0\\ud0c1H(\\uc8fc\\uc2dd\\ud63c\\ud569-\\uc7ac\\uac04\\uc811\\ud615)(C-Re)\":1169.0,\"\\uc0bc\\uc131\\ud55c\\uad6d\\ud615TDF2050\\uc99d\\uad8c\\ud22c\\uc790\\uc2e0\\ud0c1H[\\uc8fc\\uc2dd\\ud63c\\ud569-\\uc7ac\\uac04\\uc811\\ud615]Cpe(\\ud1f4\\uc9c1\\uc5f0\\uae08)\":1175.0,\"\\uc2e0\\ud55c\\ub9c8\\uc74c\\ud3b8\\ud55cTDF2050\\uc99d\\uad8c\\ud22c\\uc790\\uc2e0\\ud0c1[\\uc8fc\\uc2dd\\ud63c\\ud569-\\uc7ac\\uac04\\uc811\\ud615](\\uc885\\ub958C-re)\":1130.0,\"KB\\uc628\\uad6d\\ubbfcTDF2050\\uc99d\\uad8c\\uc790\\ud22c\\uc790\\uc2e0\\ud0c1(\\uc8fc\\uc2dd\\ud63c\\ud569-\\uc7ac\\uac04\\uc811\\ud615)(H)C-\\ud1f4\\uc9c1e\":1214.0,\"IBK\\ub85c\\uc6b0\\ucf54\\uc2a4\\ud2b8TDF2050\\uc99d\\uad8c\\uc790\\ud22c\\uc790\\uc2e0\\ud0c1[\\ud63c\\ud569-\\uc7ac\\uac04\\uc811\\ud615]\\uc885\\ub958C-Re\":1014.0,\"\\ubbf8\\ub798\\uc5d0\\uc14b\\uc804\\ub7b5\\ubc30\\ubd84TDF2050\\ud63c\\ud569\\uc790\\uc0b0\\uc790\\ud22c\\uc790\\uc2e0\\ud0c1\\uc885\\ub958C-P2e\":1096.0},{\"\\ud55c\\uad6d\\ud22c\\uc790TDF\\uc54c\\uc544\\uc11c2050\\uc99d\\uad8c\\uc790\\ud22c\\uc790\\uc2e0\\ud0c1H(\\uc8fc\\uc2dd\\ud63c\\ud569-\\uc7ac\\uac04\\uc811\\ud615)(C-Re)\":1151.0,\"\\uc0bc\\uc131\\ud55c\\uad6d\\ud615TDF2050\\uc99d\\uad8c\\ud22c\\uc790\\uc2e0\\ud0c1H[\\uc8fc\\uc2dd\\ud63c\\ud569-\\uc7ac\\uac04\\uc811\\ud615]Cpe(\\ud1f4\\uc9c1\\uc5f0\\uae08)\":1147.0,\"\\uc2e0\\ud55c\\ub9c8\\uc74c\\ud3b8\\ud55cTDF2050\\uc99d\\uad8c\\ud22c\\uc790\\uc2e0\\ud0c1[\\uc8fc\\uc2dd\\ud63c\\ud569-\\uc7ac\\uac04\\uc811\\ud615](\\uc885\\ub958C-re)\":1117.0,\"KB\\uc628\\uad6d\\ubbfcTDF2050\\uc99d\\uad8c\\uc790\\ud22c\\uc790\\uc2e0\\ud0c1(\\uc8fc\\uc2dd\\ud63c\\ud569-\\uc7ac\\uac04\\uc811\\ud615)(H)C-\\ud1f4\\uc9c1e\":1188.0,\"IBK\\ub85c\\uc6b0\\ucf54\\uc2a4\\ud2b8TDF2050\\uc99d\\uad8c\\uc790\\ud22c\\uc790\\uc2e0\\ud0c1[\\ud63c\\ud569-\\uc7ac\\uac04\\uc811\\ud615]\\uc885\\ub958C-Re\":1031.0,\"\\ubbf8\\ub798\\uc5d0\\uc14b\\uc804\\ub7b5\\ubc30\\ubd84TDF2050\\ud63c\\ud569\\uc790\\uc0b0\\uc790\\ud22c\\uc790\\uc2e0\\ud0c1\\uc885\\ub958C-P2e\":1092.0},{\"\\ud55c\\uad6d\\ud22c\\uc790TDF\\uc54c\\uc544\\uc11c2050\\uc99d\\uad8c\\uc790\\ud22c\\uc790\\uc2e0\\ud0c1H(\\uc8fc\\uc2dd\\ud63c\\ud569-\\uc7ac\\uac04\\uc811\\ud615)(C-Re)\":1155.0,\"\\uc0bc\\uc131\\ud55c\\uad6d\\ud615TDF2050\\uc99d\\uad8c\\ud22c\\uc790\\uc2e0\\ud0c1H[\\uc8fc\\uc2dd\\ud63c\\ud569-\\uc7ac\\uac04\\uc811\\ud615]Cpe(\\ud1f4\\uc9c1\\uc5f0\\uae08)\":1162.0,\"\\uc2e0\\ud55c\\ub9c8\\uc74c\\ud3b8\\ud55cTDF2050\\uc99d\\uad8c\\ud22c\\uc790\\uc2e0\\ud0c1[\\uc8fc\\uc2dd\\ud63c\\ud569-\\uc7ac\\uac04\\uc811\\ud615](\\uc885\\ub958C-re)\":1129.0,\"KB\\uc628\\uad6d\\ubbfcTDF2050\\uc99d\\uad8c\\uc790\\ud22c\\uc790\\uc2e0\\ud0c1(\\uc8fc\\uc2dd\\ud63c\\ud569-\\uc7ac\\uac04\\uc811\\ud615)(H)C-\\ud1f4\\uc9c1e\":1207.0,\"IBK\\ub85c\\uc6b0\\ucf54\\uc2a4\\ud2b8TDF2050\\uc99d\\uad8c\\uc790\\ud22c\\uc790\\uc2e0\\ud0c1[\\ud63c\\ud569-\\uc7ac\\uac04\\uc811\\ud615]\\uc885\\ub958C-Re\":1035.0,\"\\ubbf8\\ub798\\uc5d0\\uc14b\\uc804\\ub7b5\\ubc30\\ubd84TDF2050\\ud63c\\ud569\\uc790\\uc0b0\\uc790\\ud22c\\uc790\\uc2e0\\ud0c1\\uc885\\ub958C-P2e\":1094.0},{\"\\ud55c\\uad6d\\ud22c\\uc790TDF\\uc54c\\uc544\\uc11c2050\\uc99d\\uad8c\\uc790\\ud22c\\uc790\\uc2e0\\ud0c1H(\\uc8fc\\uc2dd\\ud63c\\ud569-\\uc7ac\\uac04\\uc811\\ud615)(C-Re)\":1174.0,\"\\uc0bc\\uc131\\ud55c\\uad6d\\ud615TDF2050\\uc99d\\uad8c\\ud22c\\uc790\\uc2e0\\ud0c1H[\\uc8fc\\uc2dd\\ud63c\\ud569-\\uc7ac\\uac04\\uc811\\ud615]Cpe(\\ud1f4\\uc9c1\\uc5f0\\uae08)\":1176.0,\"\\uc2e0\\ud55c\\ub9c8\\uc74c\\ud3b8\\ud55cTDF2050\\uc99d\\uad8c\\ud22c\\uc790\\uc2e0\\ud0c1[\\uc8fc\\uc2dd\\ud63c\\ud569-\\uc7ac\\uac04\\uc811\\ud615](\\uc885\\ub958C-re)\":1149.0,\"KB\\uc628\\uad6d\\ubbfcTDF2050\\uc99d\\uad8c\\uc790\\ud22c\\uc790\\uc2e0\\ud0c1(\\uc8fc\\uc2dd\\ud63c\\ud569-\\uc7ac\\uac04\\uc811\\ud615)(H)C-\\ud1f4\\uc9c1e\":1220.0,\"IBK\\ub85c\\uc6b0\\ucf54\\uc2a4\\ud2b8TDF2050\\uc99d\\uad8c\\uc790\\ud22c\\uc790\\uc2e0\\ud0c1[\\ud63c\\ud569-\\uc7ac\\uac04\\uc811\\ud615]\\uc885\\ub958C-Re\":1067.0,\"\\ubbf8\\ub798\\uc5d0\\uc14b\\uc804\\ub7b5\\ubc30\\ubd84TDF2050\\ud63c\\ud569\\uc790\\uc0b0\\uc790\\ud22c\\uc790\\uc2e0\\ud0c1\\uc885\\ub958C-P2e\":1110.0},{\"\\ud55c\\uad6d\\ud22c\\uc790TDF\\uc54c\\uc544\\uc11c2050\\uc99d\\uad8c\\uc790\\ud22c\\uc790\\uc2e0\\ud0c1H(\\uc8fc\\uc2dd\\ud63c\\ud569-\\uc7ac\\uac04\\uc811\\ud615)(C-Re)\":1176.0,\"\\uc0bc\\uc131\\ud55c\\uad6d\\ud615TDF2050\\uc99d\\uad8c\\ud22c\\uc790\\uc2e0\\ud0c1H[\\uc8fc\\uc2dd\\ud63c\\ud569-\\uc7ac\\uac04\\uc811\\ud615]Cpe(\\ud1f4\\uc9c1\\uc5f0\\uae08)\":1189.0,\"\\uc2e0\\ud55c\\ub9c8\\uc74c\\ud3b8\\ud55cTDF2050\\uc99d\\uad8c\\ud22c\\uc790\\uc2e0\\ud0c1[\\uc8fc\\uc2dd\\ud63c\\ud569-\\uc7ac\\uac04\\uc811\\ud615](\\uc885\\ub958C-re)\":1168.0,\"KB\\uc628\\uad6d\\ubbfcTDF2050\\uc99d\\uad8c\\uc790\\ud22c\\uc790\\uc2e0\\ud0c1(\\uc8fc\\uc2dd\\ud63c\\ud569-\\uc7ac\\uac04\\uc811\\ud615)(H)C-\\ud1f4\\uc9c1e\":1246.0,\"IBK\\ub85c\\uc6b0\\ucf54\\uc2a4\\ud2b8TDF2050\\uc99d\\uad8c\\uc790\\ud22c\\uc790\\uc2e0\\ud0c1[\\ud63c\\ud569-\\uc7ac\\uac04\\uc811\\ud615]\\uc885\\ub958C-Re\":1070.0,\"\\ubbf8\\ub798\\uc5d0\\uc14b\\uc804\\ub7b5\\ubc30\\ubd84TDF2050\\ud63c\\ud569\\uc790\\uc0b0\\uc790\\ud22c\\uc790\\uc2e0\\ud0c1\\uc885\\ub958C-P2e\":1134.0},{\"\\ud55c\\uad6d\\ud22c\\uc790TDF\\uc54c\\uc544\\uc11c2050\\uc99d\\uad8c\\uc790\\ud22c\\uc790\\uc2e0\\ud0c1H(\\uc8fc\\uc2dd\\ud63c\\ud569-\\uc7ac\\uac04\\uc811\\ud615)(C-Re)\":1202.0,\"\\uc0bc\\uc131\\ud55c\\uad6d\\ud615TDF2050\\uc99d\\uad8c\\ud22c\\uc790\\uc2e0\\ud0c1H[\\uc8fc\\uc2dd\\ud63c\\ud569-\\uc7ac\\uac04\\uc811\\ud615]Cpe(\\ud1f4\\uc9c1\\uc5f0\\uae08)\":1215.0,\"\\uc2e0\\ud55c\\ub9c8\\uc74c\\ud3b8\\ud55cTDF2050\\uc99d\\uad8c\\ud22c\\uc790\\uc2e0\\ud0c1[\\uc8fc\\uc2dd\\ud63c\\ud569-\\uc7ac\\uac04\\uc811\\ud615](\\uc885\\ub958C-re)\":1195.0,\"KB\\uc628\\uad6d\\ubbfcTDF2050\\uc99d\\uad8c\\uc790\\ud22c\\uc790\\uc2e0\\ud0c1(\\uc8fc\\uc2dd\\ud63c\\ud569-\\uc7ac\\uac04\\uc811\\ud615)(H)C-\\ud1f4\\uc9c1e\":1278.0,\"IBK\\ub85c\\uc6b0\\ucf54\\uc2a4\\ud2b8TDF2050\\uc99d\\uad8c\\uc790\\ud22c\\uc790\\uc2e0\\ud0c1[\\ud63c\\ud569-\\uc7ac\\uac04\\uc811\\ud615]\\uc885\\ub958C-Re\":1091.0,\"\\ubbf8\\ub798\\uc5d0\\uc14b\\uc804\\ub7b5\\ubc30\\ubd84TDF2050\\ud63c\\ud569\\uc790\\uc0b0\\uc790\\ud22c\\uc790\\uc2e0\\ud0c1\\uc885\\ub958C-P2e\":1156.0},{\"\\ud55c\\uad6d\\ud22c\\uc790TDF\\uc54c\\uc544\\uc11c2050\\uc99d\\uad8c\\uc790\\ud22c\\uc790\\uc2e0\\ud0c1H(\\uc8fc\\uc2dd\\ud63c\\ud569-\\uc7ac\\uac04\\uc811\\ud615)(C-Re)\":1236.0,\"\\uc0bc\\uc131\\ud55c\\uad6d\\ud615TDF2050\\uc99d\\uad8c\\ud22c\\uc790\\uc2e0\\ud0c1H[\\uc8fc\\uc2dd\\ud63c\\ud569-\\uc7ac\\uac04\\uc811\\ud615]Cpe(\\ud1f4\\uc9c1\\uc5f0\\uae08)\":1239.0,\"\\uc2e0\\ud55c\\ub9c8\\uc74c\\ud3b8\\ud55cTDF2050\\uc99d\\uad8c\\ud22c\\uc790\\uc2e0\\ud0c1[\\uc8fc\\uc2dd\\ud63c\\ud569-\\uc7ac\\uac04\\uc811\\ud615](\\uc885\\ub958C-re)\":1215.0,\"KB\\uc628\\uad6d\\ubbfcTDF2050\\uc99d\\uad8c\\uc790\\ud22c\\uc790\\uc2e0\\ud0c1(\\uc8fc\\uc2dd\\ud63c\\ud569-\\uc7ac\\uac04\\uc811\\ud615)(H)C-\\ud1f4\\uc9c1e\":1308.0,\"IBK\\ub85c\\uc6b0\\ucf54\\uc2a4\\ud2b8TDF2050\\uc99d\\uad8c\\uc790\\ud22c\\uc790\\uc2e0\\ud0c1[\\ud63c\\ud569-\\uc7ac\\uac04\\uc811\\ud615]\\uc885\\ub958C-Re\":1091.0,\"\\ubbf8\\ub798\\uc5d0\\uc14b\\uc804\\ub7b5\\ubc30\\ubd84TDF2050\\ud63c\\ud569\\uc790\\uc0b0\\uc790\\ud22c\\uc790\\uc2e0\\ud0c1\\uc885\\ub958C-P2e\":1172.0},{\"\\ud55c\\uad6d\\ud22c\\uc790TDF\\uc54c\\uc544\\uc11c2050\\uc99d\\uad8c\\uc790\\ud22c\\uc790\\uc2e0\\ud0c1H(\\uc8fc\\uc2dd\\ud63c\\ud569-\\uc7ac\\uac04\\uc811\\ud615)(C-Re)\":1208.0,\"\\uc0bc\\uc131\\ud55c\\uad6d\\ud615TDF2050\\uc99d\\uad8c\\ud22c\\uc790\\uc2e0\\ud0c1H[\\uc8fc\\uc2dd\\ud63c\\ud569-\\uc7ac\\uac04\\uc811\\ud615]Cpe(\\ud1f4\\uc9c1\\uc5f0\\uae08)\":1223.0,\"\\uc2e0\\ud55c\\ub9c8\\uc74c\\ud3b8\\ud55cTDF2050\\uc99d\\uad8c\\ud22c\\uc790\\uc2e0\\ud0c1[\\uc8fc\\uc2dd\\ud63c\\ud569-\\uc7ac\\uac04\\uc811\\ud615](\\uc885\\ub958C-re)\":1210.0,\"KB\\uc628\\uad6d\\ubbfcTDF2050\\uc99d\\uad8c\\uc790\\ud22c\\uc790\\uc2e0\\ud0c1(\\uc8fc\\uc2dd\\ud63c\\ud569-\\uc7ac\\uac04\\uc811\\ud615)(H)C-\\ud1f4\\uc9c1e\":1301.0,\"IBK\\ub85c\\uc6b0\\ucf54\\uc2a4\\ud2b8TDF2050\\uc99d\\uad8c\\uc790\\ud22c\\uc790\\uc2e0\\ud0c1[\\ud63c\\ud569-\\uc7ac\\uac04\\uc811\\ud615]\\uc885\\ub958C-Re\":1104.0,\"\\ubbf8\\ub798\\uc5d0\\uc14b\\uc804\\ub7b5\\ubc30\\ubd84TDF2050\\ud63c\\ud569\\uc790\\uc0b0\\uc790\\ud22c\\uc790\\uc2e0\\ud0c1\\uc885\\ub958C-P2e\":1165.0},{\"\\ud55c\\uad6d\\ud22c\\uc790TDF\\uc54c\\uc544\\uc11c2050\\uc99d\\uad8c\\uc790\\ud22c\\uc790\\uc2e0\\ud0c1H(\\uc8fc\\uc2dd\\ud63c\\ud569-\\uc7ac\\uac04\\uc811\\ud615)(C-Re)\":1185.0,\"\\uc0bc\\uc131\\ud55c\\uad6d\\ud615TDF2050\\uc99d\\uad8c\\ud22c\\uc790\\uc2e0\\ud0c1H[\\uc8fc\\uc2dd\\ud63c\\ud569-\\uc7ac\\uac04\\uc811\\ud615]Cpe(\\ud1f4\\uc9c1\\uc5f0\\uae08)\":1177.0,\"\\uc2e0\\ud55c\\ub9c8\\uc74c\\ud3b8\\ud55cTDF2050\\uc99d\\uad8c\\ud22c\\uc790\\uc2e0\\ud0c1[\\uc8fc\\uc2dd\\ud63c\\ud569-\\uc7ac\\uac04\\uc811\\ud615](\\uc885\\ub958C-re)\":1173.0,\"KB\\uc628\\uad6d\\ubbfcTDF2050\\uc99d\\uad8c\\uc790\\ud22c\\uc790\\uc2e0\\ud0c1(\\uc8fc\\uc2dd\\ud63c\\ud569-\\uc7ac\\uac04\\uc811\\ud615)(H)C-\\ud1f4\\uc9c1e\":1261.0,\"IBK\\ub85c\\uc6b0\\ucf54\\uc2a4\\ud2b8TDF2050\\uc99d\\uad8c\\uc790\\ud22c\\uc790\\uc2e0\\ud0c1[\\ud63c\\ud569-\\uc7ac\\uac04\\uc811\\ud615]\\uc885\\ub958C-Re\":1081.0,\"\\ubbf8\\ub798\\uc5d0\\uc14b\\uc804\\ub7b5\\ubc30\\ubd84TDF2050\\ud63c\\ud569\\uc790\\uc0b0\\uc790\\ud22c\\uc790\\uc2e0\\ud0c1\\uc885\\ub958C-P2e\":1134.0},{\"\\ud55c\\uad6d\\ud22c\\uc790TDF\\uc54c\\uc544\\uc11c2050\\uc99d\\uad8c\\uc790\\ud22c\\uc790\\uc2e0\\ud0c1H(\\uc8fc\\uc2dd\\ud63c\\ud569-\\uc7ac\\uac04\\uc811\\ud615)(C-Re)\":1151.0,\"\\uc0bc\\uc131\\ud55c\\uad6d\\ud615TDF2050\\uc99d\\uad8c\\ud22c\\uc790\\uc2e0\\ud0c1H[\\uc8fc\\uc2dd\\ud63c\\ud569-\\uc7ac\\uac04\\uc811\\ud615]Cpe(\\ud1f4\\uc9c1\\uc5f0\\uae08)\":1135.0,\"\\uc2e0\\ud55c\\ub9c8\\uc74c\\ud3b8\\ud55cTDF2050\\uc99d\\uad8c\\ud22c\\uc790\\uc2e0\\ud0c1[\\uc8fc\\uc2dd\\ud63c\\ud569-\\uc7ac\\uac04\\uc811\\ud615](\\uc885\\ub958C-re)\":1127.0,\"KB\\uc628\\uad6d\\ubbfcTDF2050\\uc99d\\uad8c\\uc790\\ud22c\\uc790\\uc2e0\\ud0c1(\\uc8fc\\uc2dd\\ud63c\\ud569-\\uc7ac\\uac04\\uc811\\ud615)(H)C-\\ud1f4\\uc9c1e\":1217.0,\"IBK\\ub85c\\uc6b0\\ucf54\\uc2a4\\ud2b8TDF2050\\uc99d\\uad8c\\uc790\\ud22c\\uc790\\uc2e0\\ud0c1[\\ud63c\\ud569-\\uc7ac\\uac04\\uc811\\ud615]\\uc885\\ub958C-Re\":1042.0,\"\\ubbf8\\ub798\\uc5d0\\uc14b\\uc804\\ub7b5\\ubc30\\ubd84TDF2050\\ud63c\\ud569\\uc790\\uc0b0\\uc790\\ud22c\\uc790\\uc2e0\\ud0c1\\uc885\\ub958C-P2e\":1099.0},{\"\\ud55c\\uad6d\\ud22c\\uc790TDF\\uc54c\\uc544\\uc11c2050\\uc99d\\uad8c\\uc790\\ud22c\\uc790\\uc2e0\\ud0c1H(\\uc8fc\\uc2dd\\ud63c\\ud569-\\uc7ac\\uac04\\uc811\\ud615)(C-Re)\":1215.0,\"\\uc0bc\\uc131\\ud55c\\uad6d\\ud615TDF2050\\uc99d\\uad8c\\ud22c\\uc790\\uc2e0\\ud0c1H[\\uc8fc\\uc2dd\\ud63c\\ud569-\\uc7ac\\uac04\\uc811\\ud615]Cpe(\\ud1f4\\uc9c1\\uc5f0\\uae08)\":1222.0,\"\\uc2e0\\ud55c\\ub9c8\\uc74c\\ud3b8\\ud55cTDF2050\\uc99d\\uad8c\\ud22c\\uc790\\uc2e0\\ud0c1[\\uc8fc\\uc2dd\\ud63c\\ud569-\\uc7ac\\uac04\\uc811\\ud615](\\uc885\\ub958C-re)\":1210.0,\"KB\\uc628\\uad6d\\ubbfcTDF2050\\uc99d\\uad8c\\uc790\\ud22c\\uc790\\uc2e0\\ud0c1(\\uc8fc\\uc2dd\\ud63c\\ud569-\\uc7ac\\uac04\\uc811\\ud615)(H)C-\\ud1f4\\uc9c1e\":1303.0,\"IBK\\ub85c\\uc6b0\\ucf54\\uc2a4\\ud2b8TDF2050\\uc99d\\uad8c\\uc790\\ud22c\\uc790\\uc2e0\\ud0c1[\\ud63c\\ud569-\\uc7ac\\uac04\\uc811\\ud615]\\uc885\\ub958C-Re\":1091.0,\"\\ubbf8\\ub798\\uc5d0\\uc14b\\uc804\\ub7b5\\ubc30\\ubd84TDF2050\\ud63c\\ud569\\uc790\\uc0b0\\uc790\\ud22c\\uc790\\uc2e0\\ud0c1\\uc885\\ub958C-P2e\":1169.0},{\"\\ud55c\\uad6d\\ud22c\\uc790TDF\\uc54c\\uc544\\uc11c2050\\uc99d\\uad8c\\uc790\\ud22c\\uc790\\uc2e0\\ud0c1H(\\uc8fc\\uc2dd\\ud63c\\ud569-\\uc7ac\\uac04\\uc811\\ud615)(C-Re)\":1267.0,\"\\uc0bc\\uc131\\ud55c\\uad6d\\ud615TDF2050\\uc99d\\uad8c\\ud22c\\uc790\\uc2e0\\ud0c1H[\\uc8fc\\uc2dd\\ud63c\\ud569-\\uc7ac\\uac04\\uc811\\ud615]Cpe(\\ud1f4\\uc9c1\\uc5f0\\uae08)\":1283.0,\"\\uc2e0\\ud55c\\ub9c8\\uc74c\\ud3b8\\ud55cTDF2050\\uc99d\\uad8c\\ud22c\\uc790\\uc2e0\\ud0c1[\\uc8fc\\uc2dd\\ud63c\\ud569-\\uc7ac\\uac04\\uc811\\ud615](\\uc885\\ub958C-re)\":1266.0,\"KB\\uc628\\uad6d\\ubbfcTDF2050\\uc99d\\uad8c\\uc790\\ud22c\\uc790\\uc2e0\\ud0c1(\\uc8fc\\uc2dd\\ud63c\\ud569-\\uc7ac\\uac04\\uc811\\ud615)(H)C-\\ud1f4\\uc9c1e\":1357.0,\"IBK\\ub85c\\uc6b0\\ucf54\\uc2a4\\ud2b8TDF2050\\uc99d\\uad8c\\uc790\\ud22c\\uc790\\uc2e0\\ud0c1[\\ud63c\\ud569-\\uc7ac\\uac04\\uc811\\ud615]\\uc885\\ub958C-Re\":1140.0,\"\\ubbf8\\ub798\\uc5d0\\uc14b\\uc804\\ub7b5\\ubc30\\ubd84TDF2050\\ud63c\\ud569\\uc790\\uc0b0\\uc790\\ud22c\\uc790\\uc2e0\\ud0c1\\uc885\\ub958C-P2e\":1213.0},{\"\\ud55c\\uad6d\\ud22c\\uc790TDF\\uc54c\\uc544\\uc11c2050\\uc99d\\uad8c\\uc790\\ud22c\\uc790\\uc2e0\\ud0c1H(\\uc8fc\\uc2dd\\ud63c\\ud569-\\uc7ac\\uac04\\uc811\\ud615)(C-Re)\":1284.0,\"\\uc0bc\\uc131\\ud55c\\uad6d\\ud615TDF2050\\uc99d\\uad8c\\ud22c\\uc790\\uc2e0\\ud0c1H[\\uc8fc\\uc2dd\\ud63c\\ud569-\\uc7ac\\uac04\\uc811\\ud615]Cpe(\\ud1f4\\uc9c1\\uc5f0\\uae08)\":1292.0,\"\\uc2e0\\ud55c\\ub9c8\\uc74c\\ud3b8\\ud55cTDF2050\\uc99d\\uad8c\\ud22c\\uc790\\uc2e0\\ud0c1[\\uc8fc\\uc2dd\\ud63c\\ud569-\\uc7ac\\uac04\\uc811\\ud615](\\uc885\\ub958C-re)\":1281.0,\"KB\\uc628\\uad6d\\ubbfcTDF2050\\uc99d\\uad8c\\uc790\\ud22c\\uc790\\uc2e0\\ud0c1(\\uc8fc\\uc2dd\\ud63c\\ud569-\\uc7ac\\uac04\\uc811\\ud615)(H)C-\\ud1f4\\uc9c1e\":1383.0,\"IBK\\ub85c\\uc6b0\\ucf54\\uc2a4\\ud2b8TDF2050\\uc99d\\uad8c\\uc790\\ud22c\\uc790\\uc2e0\\ud0c1[\\ud63c\\ud569-\\uc7ac\\uac04\\uc811\\ud615]\\uc885\\ub958C-Re\":1168.0,\"\\ubbf8\\ub798\\uc5d0\\uc14b\\uc804\\ub7b5\\ubc30\\ubd84TDF2050\\ud63c\\ud569\\uc790\\uc0b0\\uc790\\ud22c\\uc790\\uc2e0\\ud0c1\\uc885\\ub958C-P2e\":1242.0},{\"\\ud55c\\uad6d\\ud22c\\uc790TDF\\uc54c\\uc544\\uc11c2050\\uc99d\\uad8c\\uc790\\ud22c\\uc790\\uc2e0\\ud0c1H(\\uc8fc\\uc2dd\\ud63c\\ud569-\\uc7ac\\uac04\\uc811\\ud615)(C-Re)\":1319.0,\"\\uc0bc\\uc131\\ud55c\\uad6d\\ud615TDF2050\\uc99d\\uad8c\\ud22c\\uc790\\uc2e0\\ud0c1H[\\uc8fc\\uc2dd\\ud63c\\ud569-\\uc7ac\\uac04\\uc811\\ud615]Cpe(\\ud1f4\\uc9c1\\uc5f0\\uae08)\":1322.0,\"\\uc2e0\\ud55c\\ub9c8\\uc74c\\ud3b8\\ud55cTDF2050\\uc99d\\uad8c\\ud22c\\uc790\\uc2e0\\ud0c1[\\uc8fc\\uc2dd\\ud63c\\ud569-\\uc7ac\\uac04\\uc811\\ud615](\\uc885\\ub958C-re)\":1314.0,\"KB\\uc628\\uad6d\\ubbfcTDF2050\\uc99d\\uad8c\\uc790\\ud22c\\uc790\\uc2e0\\ud0c1(\\uc8fc\\uc2dd\\ud63c\\ud569-\\uc7ac\\uac04\\uc811\\ud615)(H)C-\\ud1f4\\uc9c1e\":1417.0,\"IBK\\ub85c\\uc6b0\\ucf54\\uc2a4\\ud2b8TDF2050\\uc99d\\uad8c\\uc790\\ud22c\\uc790\\uc2e0\\ud0c1[\\ud63c\\ud569-\\uc7ac\\uac04\\uc811\\ud615]\\uc885\\ub958C-Re\":1191.0,\"\\ubbf8\\ub798\\uc5d0\\uc14b\\uc804\\ub7b5\\ubc30\\ubd84TDF2050\\ud63c\\ud569\\uc790\\uc0b0\\uc790\\ud22c\\uc790\\uc2e0\\ud0c1\\uc885\\ub958C-P2e\":1277.0},{\"\\ud55c\\uad6d\\ud22c\\uc790TDF\\uc54c\\uc544\\uc11c2050\\uc99d\\uad8c\\uc790\\ud22c\\uc790\\uc2e0\\ud0c1H(\\uc8fc\\uc2dd\\ud63c\\ud569-\\uc7ac\\uac04\\uc811\\ud615)(C-Re)\":1356.0,\"\\uc0bc\\uc131\\ud55c\\uad6d\\ud615TDF2050\\uc99d\\uad8c\\ud22c\\uc790\\uc2e0\\ud0c1H[\\uc8fc\\uc2dd\\ud63c\\ud569-\\uc7ac\\uac04\\uc811\\ud615]Cpe(\\ud1f4\\uc9c1\\uc5f0\\uae08)\":1354.0,\"\\uc2e0\\ud55c\\ub9c8\\uc74c\\ud3b8\\ud55cTDF2050\\uc99d\\uad8c\\ud22c\\uc790\\uc2e0\\ud0c1[\\uc8fc\\uc2dd\\ud63c\\ud569-\\uc7ac\\uac04\\uc811\\ud615](\\uc885\\ub958C-re)\":1355.0,\"KB\\uc628\\uad6d\\ubbfcTDF2050\\uc99d\\uad8c\\uc790\\ud22c\\uc790\\uc2e0\\ud0c1(\\uc8fc\\uc2dd\\ud63c\\ud569-\\uc7ac\\uac04\\uc811\\ud615)(H)C-\\ud1f4\\uc9c1e\":1456.0,\"IBK\\ub85c\\uc6b0\\ucf54\\uc2a4\\ud2b8TDF2050\\uc99d\\uad8c\\uc790\\ud22c\\uc790\\uc2e0\\ud0c1[\\ud63c\\ud569-\\uc7ac\\uac04\\uc811\\ud615]\\uc885\\ub958C-Re\":1234.0,\"\\ubbf8\\ub798\\uc5d0\\uc14b\\uc804\\ub7b5\\ubc30\\ubd84TDF2050\\ud63c\\ud569\\uc790\\uc0b0\\uc790\\ud22c\\uc790\\uc2e0\\ud0c1\\uc885\\ub958C-P2e\":1315.0},{\"\\ud55c\\uad6d\\ud22c\\uc790TDF\\uc54c\\uc544\\uc11c2050\\uc99d\\uad8c\\uc790\\ud22c\\uc790\\uc2e0\\ud0c1H(\\uc8fc\\uc2dd\\ud63c\\ud569-\\uc7ac\\uac04\\uc811\\ud615)(C-Re)\":1339.0,\"\\uc0bc\\uc131\\ud55c\\uad6d\\ud615TDF2050\\uc99d\\uad8c\\ud22c\\uc790\\uc2e0\\ud0c1H[\\uc8fc\\uc2dd\\ud63c\\ud569-\\uc7ac\\uac04\\uc811\\ud615]Cpe(\\ud1f4\\uc9c1\\uc5f0\\uae08)\":1328.0,\"\\uc2e0\\ud55c\\ub9c8\\uc74c\\ud3b8\\ud55cTDF2050\\uc99d\\uad8c\\ud22c\\uc790\\uc2e0\\ud0c1[\\uc8fc\\uc2dd\\ud63c\\ud569-\\uc7ac\\uac04\\uc811\\ud615](\\uc885\\ub958C-re)\":1348.0,\"KB\\uc628\\uad6d\\ubbfcTDF2050\\uc99d\\uad8c\\uc790\\ud22c\\uc790\\uc2e0\\ud0c1(\\uc8fc\\uc2dd\\ud63c\\ud569-\\uc7ac\\uac04\\uc811\\ud615)(H)C-\\ud1f4\\uc9c1e\":1425.0,\"IBK\\ub85c\\uc6b0\\ucf54\\uc2a4\\ud2b8TDF2050\\uc99d\\uad8c\\uc790\\ud22c\\uc790\\uc2e0\\ud0c1[\\ud63c\\ud569-\\uc7ac\\uac04\\uc811\\ud615]\\uc885\\ub958C-Re\":1226.0,\"\\ubbf8\\ub798\\uc5d0\\uc14b\\uc804\\ub7b5\\ubc30\\ubd84TDF2050\\ud63c\\ud569\\uc790\\uc0b0\\uc790\\ud22c\\uc790\\uc2e0\\ud0c1\\uc885\\ub958C-P2e\":1301.0},{\"\\ud55c\\uad6d\\ud22c\\uc790TDF\\uc54c\\uc544\\uc11c2050\\uc99d\\uad8c\\uc790\\ud22c\\uc790\\uc2e0\\ud0c1H(\\uc8fc\\uc2dd\\ud63c\\ud569-\\uc7ac\\uac04\\uc811\\ud615)(C-Re)\":1366.0,\"\\uc0bc\\uc131\\ud55c\\uad6d\\ud615TDF2050\\uc99d\\uad8c\\ud22c\\uc790\\uc2e0\\ud0c1H[\\uc8fc\\uc2dd\\ud63c\\ud569-\\uc7ac\\uac04\\uc811\\ud615]Cpe(\\ud1f4\\uc9c1\\uc5f0\\uae08)\":1350.0,\"\\uc2e0\\ud55c\\ub9c8\\uc74c\\ud3b8\\ud55cTDF2050\\uc99d\\uad8c\\ud22c\\uc790\\uc2e0\\ud0c1[\\uc8fc\\uc2dd\\ud63c\\ud569-\\uc7ac\\uac04\\uc811\\ud615](\\uc885\\ub958C-re)\":1384.0,\"KB\\uc628\\uad6d\\ubbfcTDF2050\\uc99d\\uad8c\\uc790\\ud22c\\uc790\\uc2e0\\ud0c1(\\uc8fc\\uc2dd\\ud63c\\ud569-\\uc7ac\\uac04\\uc811\\ud615)(H)C-\\ud1f4\\uc9c1e\":1459.0,\"IBK\\ub85c\\uc6b0\\ucf54\\uc2a4\\ud2b8TDF2050\\uc99d\\uad8c\\uc790\\ud22c\\uc790\\uc2e0\\ud0c1[\\ud63c\\ud569-\\uc7ac\\uac04\\uc811\\ud615]\\uc885\\ub958C-Re\":1254.0,\"\\ubbf8\\ub798\\uc5d0\\uc14b\\uc804\\ub7b5\\ubc30\\ubd84TDF2050\\ud63c\\ud569\\uc790\\uc0b0\\uc790\\ud22c\\uc790\\uc2e0\\ud0c1\\uc885\\ub958C-P2e\":1333.0},{\"\\ud55c\\uad6d\\ud22c\\uc790TDF\\uc54c\\uc544\\uc11c2050\\uc99d\\uad8c\\uc790\\ud22c\\uc790\\uc2e0\\ud0c1H(\\uc8fc\\uc2dd\\ud63c\\ud569-\\uc7ac\\uac04\\uc811\\ud615)(C-Re)\":1386.0,\"\\uc0bc\\uc131\\ud55c\\uad6d\\ud615TDF2050\\uc99d\\uad8c\\ud22c\\uc790\\uc2e0\\ud0c1H[\\uc8fc\\uc2dd\\ud63c\\ud569-\\uc7ac\\uac04\\uc811\\ud615]Cpe(\\ud1f4\\uc9c1\\uc5f0\\uae08)\":1376.0,\"\\uc2e0\\ud55c\\ub9c8\\uc74c\\ud3b8\\ud55cTDF2050\\uc99d\\uad8c\\ud22c\\uc790\\uc2e0\\ud0c1[\\uc8fc\\uc2dd\\ud63c\\ud569-\\uc7ac\\uac04\\uc811\\ud615](\\uc885\\ub958C-re)\":1419.0,\"KB\\uc628\\uad6d\\ubbfcTDF2050\\uc99d\\uad8c\\uc790\\ud22c\\uc790\\uc2e0\\ud0c1(\\uc8fc\\uc2dd\\ud63c\\ud569-\\uc7ac\\uac04\\uc811\\ud615)(H)C-\\ud1f4\\uc9c1e\":1493.0,\"IBK\\ub85c\\uc6b0\\ucf54\\uc2a4\\ud2b8TDF2050\\uc99d\\uad8c\\uc790\\ud22c\\uc790\\uc2e0\\ud0c1[\\ud63c\\ud569-\\uc7ac\\uac04\\uc811\\ud615]\\uc885\\ub958C-Re\":1281.0,\"\\ubbf8\\ub798\\uc5d0\\uc14b\\uc804\\ub7b5\\ubc30\\ubd84TDF2050\\ud63c\\ud569\\uc790\\uc0b0\\uc790\\ud22c\\uc790\\uc2e0\\ud0c1\\uc885\\ub958C-P2e\":1373.0},{\"\\ud55c\\uad6d\\ud22c\\uc790TDF\\uc54c\\uc544\\uc11c2050\\uc99d\\uad8c\\uc790\\ud22c\\uc790\\uc2e0\\ud0c1H(\\uc8fc\\uc2dd\\ud63c\\ud569-\\uc7ac\\uac04\\uc811\\ud615)(C-Re)\":1389.0,\"\\uc0bc\\uc131\\ud55c\\uad6d\\ud615TDF2050\\uc99d\\uad8c\\ud22c\\uc790\\uc2e0\\ud0c1H[\\uc8fc\\uc2dd\\ud63c\\ud569-\\uc7ac\\uac04\\uc811\\ud615]Cpe(\\ud1f4\\uc9c1\\uc5f0\\uae08)\":1374.0,\"\\uc2e0\\ud55c\\ub9c8\\uc74c\\ud3b8\\ud55cTDF2050\\uc99d\\uad8c\\ud22c\\uc790\\uc2e0\\ud0c1[\\uc8fc\\uc2dd\\ud63c\\ud569-\\uc7ac\\uac04\\uc811\\ud615](\\uc885\\ub958C-re)\":1418.0,\"KB\\uc628\\uad6d\\ubbfcTDF2050\\uc99d\\uad8c\\uc790\\ud22c\\uc790\\uc2e0\\ud0c1(\\uc8fc\\uc2dd\\ud63c\\ud569-\\uc7ac\\uac04\\uc811\\ud615)(H)C-\\ud1f4\\uc9c1e\":1498.0,\"IBK\\ub85c\\uc6b0\\ucf54\\uc2a4\\ud2b8TDF2050\\uc99d\\uad8c\\uc790\\ud22c\\uc790\\uc2e0\\ud0c1[\\ud63c\\ud569-\\uc7ac\\uac04\\uc811\\ud615]\\uc885\\ub958C-Re\":1287.0,\"\\ubbf8\\ub798\\uc5d0\\uc14b\\uc804\\ub7b5\\ubc30\\ubd84TDF2050\\ud63c\\ud569\\uc790\\uc0b0\\uc790\\ud22c\\uc790\\uc2e0\\ud0c1\\uc885\\ub958C-P2e\":1358.0},{\"\\ud55c\\uad6d\\ud22c\\uc790TDF\\uc54c\\uc544\\uc11c2050\\uc99d\\uad8c\\uc790\\ud22c\\uc790\\uc2e0\\ud0c1H(\\uc8fc\\uc2dd\\ud63c\\ud569-\\uc7ac\\uac04\\uc811\\ud615)(C-Re)\":1411.0,\"\\uc0bc\\uc131\\ud55c\\uad6d\\ud615TDF2050\\uc99d\\uad8c\\ud22c\\uc790\\uc2e0\\ud0c1H[\\uc8fc\\uc2dd\\ud63c\\ud569-\\uc7ac\\uac04\\uc811\\ud615]Cpe(\\ud1f4\\uc9c1\\uc5f0\\uae08)\":1402.0,\"\\uc2e0\\ud55c\\ub9c8\\uc74c\\ud3b8\\ud55cTDF2050\\uc99d\\uad8c\\ud22c\\uc790\\uc2e0\\ud0c1[\\uc8fc\\uc2dd\\ud63c\\ud569-\\uc7ac\\uac04\\uc811\\ud615](\\uc885\\ub958C-re)\":1427.0,\"KB\\uc628\\uad6d\\ubbfcTDF2050\\uc99d\\uad8c\\uc790\\ud22c\\uc790\\uc2e0\\ud0c1(\\uc8fc\\uc2dd\\ud63c\\ud569-\\uc7ac\\uac04\\uc811\\ud615)(H)C-\\ud1f4\\uc9c1e\":1514.0,\"IBK\\ub85c\\uc6b0\\ucf54\\uc2a4\\ud2b8TDF2050\\uc99d\\uad8c\\uc790\\ud22c\\uc790\\uc2e0\\ud0c1[\\ud63c\\ud569-\\uc7ac\\uac04\\uc811\\ud615]\\uc885\\ub958C-Re\":1287.0,\"\\ubbf8\\ub798\\uc5d0\\uc14b\\uc804\\ub7b5\\ubc30\\ubd84TDF2050\\ud63c\\ud569\\uc790\\uc0b0\\uc790\\ud22c\\uc790\\uc2e0\\ud0c1\\uc885\\ub958C-P2e\":1358.0},{\"\\ud55c\\uad6d\\ud22c\\uc790TDF\\uc54c\\uc544\\uc11c2050\\uc99d\\uad8c\\uc790\\ud22c\\uc790\\uc2e0\\ud0c1H(\\uc8fc\\uc2dd\\ud63c\\ud569-\\uc7ac\\uac04\\uc811\\ud615)(C-Re)\":1424.0,\"\\uc0bc\\uc131\\ud55c\\uad6d\\ud615TDF2050\\uc99d\\uad8c\\ud22c\\uc790\\uc2e0\\ud0c1H[\\uc8fc\\uc2dd\\ud63c\\ud569-\\uc7ac\\uac04\\uc811\\ud615]Cpe(\\ud1f4\\uc9c1\\uc5f0\\uae08)\":1434.0,\"\\uc2e0\\ud55c\\ub9c8\\uc74c\\ud3b8\\ud55cTDF2050\\uc99d\\uad8c\\ud22c\\uc790\\uc2e0\\ud0c1[\\uc8fc\\uc2dd\\ud63c\\ud569-\\uc7ac\\uac04\\uc811\\ud615](\\uc885\\ub958C-re)\":1448.0,\"KB\\uc628\\uad6d\\ubbfcTDF2050\\uc99d\\uad8c\\uc790\\ud22c\\uc790\\uc2e0\\ud0c1(\\uc8fc\\uc2dd\\ud63c\\ud569-\\uc7ac\\uac04\\uc811\\ud615)(H)C-\\ud1f4\\uc9c1e\":1543.0,\"IBK\\ub85c\\uc6b0\\ucf54\\uc2a4\\ud2b8TDF2050\\uc99d\\uad8c\\uc790\\ud22c\\uc790\\uc2e0\\ud0c1[\\ud63c\\ud569-\\uc7ac\\uac04\\uc811\\ud615]\\uc885\\ub958C-Re\":1310.0,\"\\ubbf8\\ub798\\uc5d0\\uc14b\\uc804\\ub7b5\\ubc30\\ubd84TDF2050\\ud63c\\ud569\\uc790\\uc0b0\\uc790\\ud22c\\uc790\\uc2e0\\ud0c1\\uc885\\ub958C-P2e\":1382.0},{\"\\ud55c\\uad6d\\ud22c\\uc790TDF\\uc54c\\uc544\\uc11c2050\\uc99d\\uad8c\\uc790\\ud22c\\uc790\\uc2e0\\ud0c1H(\\uc8fc\\uc2dd\\ud63c\\ud569-\\uc7ac\\uac04\\uc811\\ud615)(C-Re)\":1425.0,\"\\uc0bc\\uc131\\ud55c\\uad6d\\ud615TDF2050\\uc99d\\uad8c\\ud22c\\uc790\\uc2e0\\ud0c1H[\\uc8fc\\uc2dd\\ud63c\\ud569-\\uc7ac\\uac04\\uc811\\ud615]Cpe(\\ud1f4\\uc9c1\\uc5f0\\uae08)\":1425.0,\"\\uc2e0\\ud55c\\ub9c8\\uc74c\\ud3b8\\ud55cTDF2050\\uc99d\\uad8c\\ud22c\\uc790\\uc2e0\\ud0c1[\\uc8fc\\uc2dd\\ud63c\\ud569-\\uc7ac\\uac04\\uc811\\ud615](\\uc885\\ub958C-re)\":1463.0,\"KB\\uc628\\uad6d\\ubbfcTDF2050\\uc99d\\uad8c\\uc790\\ud22c\\uc790\\uc2e0\\ud0c1(\\uc8fc\\uc2dd\\ud63c\\ud569-\\uc7ac\\uac04\\uc811\\ud615)(H)C-\\ud1f4\\uc9c1e\":1555.0,\"IBK\\ub85c\\uc6b0\\ucf54\\uc2a4\\ud2b8TDF2050\\uc99d\\uad8c\\uc790\\ud22c\\uc790\\uc2e0\\ud0c1[\\ud63c\\ud569-\\uc7ac\\uac04\\uc811\\ud615]\\uc885\\ub958C-Re\":1334.0,\"\\ubbf8\\ub798\\uc5d0\\uc14b\\uc804\\ub7b5\\ubc30\\ubd84TDF2050\\ud63c\\ud569\\uc790\\uc0b0\\uc790\\ud22c\\uc790\\uc2e0\\ud0c1\\uc885\\ub958C-P2e\":1403.0},{\"\\ud55c\\uad6d\\ud22c\\uc790TDF\\uc54c\\uc544\\uc11c2050\\uc99d\\uad8c\\uc790\\ud22c\\uc790\\uc2e0\\ud0c1H(\\uc8fc\\uc2dd\\ud63c\\ud569-\\uc7ac\\uac04\\uc811\\ud615)(C-Re)\":1445.0,\"\\uc0bc\\uc131\\ud55c\\uad6d\\ud615TDF2050\\uc99d\\uad8c\\ud22c\\uc790\\uc2e0\\ud0c1H[\\uc8fc\\uc2dd\\ud63c\\ud569-\\uc7ac\\uac04\\uc811\\ud615]Cpe(\\ud1f4\\uc9c1\\uc5f0\\uae08)\":1427.0,\"\\uc2e0\\ud55c\\ub9c8\\uc74c\\ud3b8\\ud55cTDF2050\\uc99d\\uad8c\\ud22c\\uc790\\uc2e0\\ud0c1[\\uc8fc\\uc2dd\\ud63c\\ud569-\\uc7ac\\uac04\\uc811\\ud615](\\uc885\\ub958C-re)\":1480.0,\"KB\\uc628\\uad6d\\ubbfcTDF2050\\uc99d\\uad8c\\uc790\\ud22c\\uc790\\uc2e0\\ud0c1(\\uc8fc\\uc2dd\\ud63c\\ud569-\\uc7ac\\uac04\\uc811\\ud615)(H)C-\\ud1f4\\uc9c1e\":1571.0,\"IBK\\ub85c\\uc6b0\\ucf54\\uc2a4\\ud2b8TDF2050\\uc99d\\uad8c\\uc790\\ud22c\\uc790\\uc2e0\\ud0c1[\\ud63c\\ud569-\\uc7ac\\uac04\\uc811\\ud615]\\uc885\\ub958C-Re\":1345.0,\"\\ubbf8\\ub798\\uc5d0\\uc14b\\uc804\\ub7b5\\ubc30\\ubd84TDF2050\\ud63c\\ud569\\uc790\\uc0b0\\uc790\\ud22c\\uc790\\uc2e0\\ud0c1\\uc885\\ub958C-P2e\":1416.0}],\"type\":\"scatter\"}],                        {\"template\":{\"data\":{\"histogram2dcontour\":[{\"type\":\"histogram2dcontour\",\"colorbar\":{\"outlinewidth\":0,\"ticks\":\"\"},\"colorscale\":[[0.0,\"#0d0887\"],[0.1111111111111111,\"#46039f\"],[0.2222222222222222,\"#7201a8\"],[0.3333333333333333,\"#9c179e\"],[0.4444444444444444,\"#bd3786\"],[0.5555555555555556,\"#d8576b\"],[0.6666666666666666,\"#ed7953\"],[0.7777777777777778,\"#fb9f3a\"],[0.8888888888888888,\"#fdca26\"],[1.0,\"#f0f921\"]]}],\"choropleth\":[{\"type\":\"choropleth\",\"colorbar\":{\"outlinewidth\":0,\"ticks\":\"\"}}],\"histogram2d\":[{\"type\":\"histogram2d\",\"colorbar\":{\"outlinewidth\":0,\"ticks\":\"\"},\"colorscale\":[[0.0,\"#0d0887\"],[0.1111111111111111,\"#46039f\"],[0.2222222222222222,\"#7201a8\"],[0.3333333333333333,\"#9c179e\"],[0.4444444444444444,\"#bd3786\"],[0.5555555555555556,\"#d8576b\"],[0.6666666666666666,\"#ed7953\"],[0.7777777777777778,\"#fb9f3a\"],[0.8888888888888888,\"#fdca26\"],[1.0,\"#f0f921\"]]}],\"heatmap\":[{\"type\":\"heatmap\",\"colorbar\":{\"outlinewidth\":0,\"ticks\":\"\"},\"colorscale\":[[0.0,\"#0d0887\"],[0.1111111111111111,\"#46039f\"],[0.2222222222222222,\"#7201a8\"],[0.3333333333333333,\"#9c179e\"],[0.4444444444444444,\"#bd3786\"],[0.5555555555555556,\"#d8576b\"],[0.6666666666666666,\"#ed7953\"],[0.7777777777777778,\"#fb9f3a\"],[0.8888888888888888,\"#fdca26\"],[1.0,\"#f0f921\"]]}],\"heatmapgl\":[{\"type\":\"heatmapgl\",\"colorbar\":{\"outlinewidth\":0,\"ticks\":\"\"},\"colorscale\":[[0.0,\"#0d0887\"],[0.1111111111111111,\"#46039f\"],[0.2222222222222222,\"#7201a8\"],[0.3333333333333333,\"#9c179e\"],[0.4444444444444444,\"#bd3786\"],[0.5555555555555556,\"#d8576b\"],[0.6666666666666666,\"#ed7953\"],[0.7777777777777778,\"#fb9f3a\"],[0.8888888888888888,\"#fdca26\"],[1.0,\"#f0f921\"]]}],\"contourcarpet\":[{\"type\":\"contourcarpet\",\"colorbar\":{\"outlinewidth\":0,\"ticks\":\"\"}}],\"contour\":[{\"type\":\"contour\",\"colorbar\":{\"outlinewidth\":0,\"ticks\":\"\"},\"colorscale\":[[0.0,\"#0d0887\"],[0.1111111111111111,\"#46039f\"],[0.2222222222222222,\"#7201a8\"],[0.3333333333333333,\"#9c179e\"],[0.4444444444444444,\"#bd3786\"],[0.5555555555555556,\"#d8576b\"],[0.6666666666666666,\"#ed7953\"],[0.7777777777777778,\"#fb9f3a\"],[0.8888888888888888,\"#fdca26\"],[1.0,\"#f0f921\"]]}],\"surface\":[{\"type\":\"surface\",\"colorbar\":{\"outlinewidth\":0,\"ticks\":\"\"},\"colorscale\":[[0.0,\"#0d0887\"],[0.1111111111111111,\"#46039f\"],[0.2222222222222222,\"#7201a8\"],[0.3333333333333333,\"#9c179e\"],[0.4444444444444444,\"#bd3786\"],[0.5555555555555556,\"#d8576b\"],[0.6666666666666666,\"#ed7953\"],[0.7777777777777778,\"#fb9f3a\"],[0.8888888888888888,\"#fdca26\"],[1.0,\"#f0f921\"]]}],\"mesh3d\":[{\"type\":\"mesh3d\",\"colorbar\":{\"outlinewidth\":0,\"ticks\":\"\"}}],\"scatter\":[{\"fillpattern\":{\"fillmode\":\"overlay\",\"size\":10,\"solidity\":0.2},\"type\":\"scatter\"}],\"parcoords\":[{\"type\":\"parcoords\",\"line\":{\"colorbar\":{\"outlinewidth\":0,\"ticks\":\"\"}}}],\"scatterpolargl\":[{\"type\":\"scatterpolargl\",\"marker\":{\"colorbar\":{\"outlinewidth\":0,\"ticks\":\"\"}}}],\"bar\":[{\"error_x\":{\"color\":\"#2a3f5f\"},\"error_y\":{\"color\":\"#2a3f5f\"},\"marker\":{\"line\":{\"color\":\"#E5ECF6\",\"width\":0.5},\"pattern\":{\"fillmode\":\"overlay\",\"size\":10,\"solidity\":0.2}},\"type\":\"bar\"}],\"scattergeo\":[{\"type\":\"scattergeo\",\"marker\":{\"colorbar\":{\"outlinewidth\":0,\"ticks\":\"\"}}}],\"scatterpolar\":[{\"type\":\"scatterpolar\",\"marker\":{\"colorbar\":{\"outlinewidth\":0,\"ticks\":\"\"}}}],\"histogram\":[{\"marker\":{\"pattern\":{\"fillmode\":\"overlay\",\"size\":10,\"solidity\":0.2}},\"type\":\"histogram\"}],\"scattergl\":[{\"type\":\"scattergl\",\"marker\":{\"colorbar\":{\"outlinewidth\":0,\"ticks\":\"\"}}}],\"scatter3d\":[{\"type\":\"scatter3d\",\"line\":{\"colorbar\":{\"outlinewidth\":0,\"ticks\":\"\"}},\"marker\":{\"colorbar\":{\"outlinewidth\":0,\"ticks\":\"\"}}}],\"scattermapbox\":[{\"type\":\"scattermapbox\",\"marker\":{\"colorbar\":{\"outlinewidth\":0,\"ticks\":\"\"}}}],\"scatterternary\":[{\"type\":\"scatterternary\",\"marker\":{\"colorbar\":{\"outlinewidth\":0,\"ticks\":\"\"}}}],\"scattercarpet\":[{\"type\":\"scattercarpet\",\"marker\":{\"colorbar\":{\"outlinewidth\":0,\"ticks\":\"\"}}}],\"carpet\":[{\"aaxis\":{\"endlinecolor\":\"#2a3f5f\",\"gridcolor\":\"white\",\"linecolor\":\"white\",\"minorgridcolor\":\"white\",\"startlinecolor\":\"#2a3f5f\"},\"baxis\":{\"endlinecolor\":\"#2a3f5f\",\"gridcolor\":\"white\",\"linecolor\":\"white\",\"minorgridcolor\":\"white\",\"startlinecolor\":\"#2a3f5f\"},\"type\":\"carpet\"}],\"table\":[{\"cells\":{\"fill\":{\"color\":\"#EBF0F8\"},\"line\":{\"color\":\"white\"}},\"header\":{\"fill\":{\"color\":\"#C8D4E3\"},\"line\":{\"color\":\"white\"}},\"type\":\"table\"}],\"barpolar\":[{\"marker\":{\"line\":{\"color\":\"#E5ECF6\",\"width\":0.5},\"pattern\":{\"fillmode\":\"overlay\",\"size\":10,\"solidity\":0.2}},\"type\":\"barpolar\"}],\"pie\":[{\"automargin\":true,\"type\":\"pie\"}]},\"layout\":{\"autotypenumbers\":\"strict\",\"colorway\":[\"#636efa\",\"#EF553B\",\"#00cc96\",\"#ab63fa\",\"#FFA15A\",\"#19d3f3\",\"#FF6692\",\"#B6E880\",\"#FF97FF\",\"#FECB52\"],\"font\":{\"color\":\"#2a3f5f\"},\"hovermode\":\"closest\",\"hoverlabel\":{\"align\":\"left\"},\"paper_bgcolor\":\"white\",\"plot_bgcolor\":\"#E5ECF6\",\"polar\":{\"bgcolor\":\"#E5ECF6\",\"angularaxis\":{\"gridcolor\":\"white\",\"linecolor\":\"white\",\"ticks\":\"\"},\"radialaxis\":{\"gridcolor\":\"white\",\"linecolor\":\"white\",\"ticks\":\"\"}},\"ternary\":{\"bgcolor\":\"#E5ECF6\",\"aaxis\":{\"gridcolor\":\"white\",\"linecolor\":\"white\",\"ticks\":\"\"},\"baxis\":{\"gridcolor\":\"white\",\"linecolor\":\"white\",\"ticks\":\"\"},\"caxis\":{\"gridcolor\":\"white\",\"linecolor\":\"white\",\"ticks\":\"\"}},\"coloraxis\":{\"colorbar\":{\"outlinewidth\":0,\"ticks\":\"\"}},\"colorscale\":{\"sequential\":[[0.0,\"#0d0887\"],[0.1111111111111111,\"#46039f\"],[0.2222222222222222,\"#7201a8\"],[0.3333333333333333,\"#9c179e\"],[0.4444444444444444,\"#bd3786\"],[0.5555555555555556,\"#d8576b\"],[0.6666666666666666,\"#ed7953\"],[0.7777777777777778,\"#fb9f3a\"],[0.8888888888888888,\"#fdca26\"],[1.0,\"#f0f921\"]],\"sequentialminus\":[[0.0,\"#0d0887\"],[0.1111111111111111,\"#46039f\"],[0.2222222222222222,\"#7201a8\"],[0.3333333333333333,\"#9c179e\"],[0.4444444444444444,\"#bd3786\"],[0.5555555555555556,\"#d8576b\"],[0.6666666666666666,\"#ed7953\"],[0.7777777777777778,\"#fb9f3a\"],[0.8888888888888888,\"#fdca26\"],[1.0,\"#f0f921\"]],\"diverging\":[[0,\"#8e0152\"],[0.1,\"#c51b7d\"],[0.2,\"#de77ae\"],[0.3,\"#f1b6da\"],[0.4,\"#fde0ef\"],[0.5,\"#f7f7f7\"],[0.6,\"#e6f5d0\"],[0.7,\"#b8e186\"],[0.8,\"#7fbc41\"],[0.9,\"#4d9221\"],[1,\"#276419\"]]},\"xaxis\":{\"gridcolor\":\"white\",\"linecolor\":\"white\",\"ticks\":\"\",\"title\":{\"standoff\":15},\"zerolinecolor\":\"white\",\"automargin\":true,\"zerolinewidth\":2},\"yaxis\":{\"gridcolor\":\"white\",\"linecolor\":\"white\",\"ticks\":\"\",\"title\":{\"standoff\":15},\"zerolinecolor\":\"white\",\"automargin\":true,\"zerolinewidth\":2},\"scene\":{\"xaxis\":{\"backgroundcolor\":\"#E5ECF6\",\"gridcolor\":\"white\",\"linecolor\":\"white\",\"showbackground\":true,\"ticks\":\"\",\"zerolinecolor\":\"white\",\"gridwidth\":2},\"yaxis\":{\"backgroundcolor\":\"#E5ECF6\",\"gridcolor\":\"white\",\"linecolor\":\"white\",\"showbackground\":true,\"ticks\":\"\",\"zerolinecolor\":\"white\",\"gridwidth\":2},\"zaxis\":{\"backgroundcolor\":\"#E5ECF6\",\"gridcolor\":\"white\",\"linecolor\":\"white\",\"showbackground\":true,\"ticks\":\"\",\"zerolinecolor\":\"white\",\"gridwidth\":2}},\"shapedefaults\":{\"line\":{\"color\":\"#2a3f5f\"}},\"annotationdefaults\":{\"arrowcolor\":\"#2a3f5f\",\"arrowhead\":0,\"arrowwidth\":1},\"geo\":{\"bgcolor\":\"white\",\"landcolor\":\"#E5ECF6\",\"subunitcolor\":\"white\",\"showland\":true,\"showlakes\":true,\"lakecolor\":\"white\"},\"title\":{\"x\":0.05},\"mapbox\":{\"style\":\"light\"}}}},                        {\"responsive\": true}                    ).then(function(){\n",
       "                            \n",
       "var gd = document.getElementById('1f0146ee-0864-42d9-bfad-63669cf1f7f8');\n",
       "var x = new MutationObserver(function (mutations, observer) {{\n",
       "        var display = window.getComputedStyle(gd).display;\n",
       "        if (!display || display === 'none') {{\n",
       "            console.log([gd, 'removed!']);\n",
       "            Plotly.purge(gd);\n",
       "            observer.disconnect();\n",
       "        }}\n",
       "}});\n",
       "\n",
       "// Listen for the removal of the full notebook cells\n",
       "var notebookContainer = gd.closest('#notebook-container');\n",
       "if (notebookContainer) {{\n",
       "    x.observe(notebookContainer, {childList: true});\n",
       "}}\n",
       "\n",
       "// Listen for the clearing of the current output cell\n",
       "var outputEl = gd.closest('.output');\n",
       "if (outputEl) {{\n",
       "    x.observe(outputEl, {childList: true});\n",
       "}}\n",
       "\n",
       "                        })                };                });            </script>        </div>"
      ]
     },
     "metadata": {},
     "output_type": "display_data"
    }
   ],
   "source": [
    "import plotly.graph_objects as go\n",
    "\n",
    "i = 2050\n",
    "data = preprocessed_data[i]\n",
    "#data.keys()\n",
    "\n",
    "col = '수수료 적용 전'\n",
    "d = data['default'][col]['history']\n",
    "i = data['default'][col]['index']\n",
    "\n",
    "fig = go.Figure()\n",
    "\n",
    "# Add traces\n",
    "fig.add_trace(go.Scatter(x=i, y=d,\n",
    "                    mode='lines',\n",
    "                    #name='ticker'\n",
    "                        )\n",
    "             )\n",
    "fig.show()"
   ]
  },
  {
   "cell_type": "code",
   "execution_count": null,
   "id": "4f858a68-5548-4ae8-8764-a92ce7b91a8b",
   "metadata": {},
   "outputs": [
    {
     "data": {
      "text/plain": [
       "'temp-plot.html'"
      ]
     },
     "execution_count": 41,
     "metadata": {},
     "output_type": "execute_result"
    },
    {
     "name": "stdout",
     "output_type": "stream",
     "text": [
      "Opening in existing browser session.\n"
     ]
    }
   ],
   "source": [
    "# You can use Plotly's `plot` function to visualize the result\n",
    "import plotly.offline as pyo\n",
    "pyo.plot(result)"
   ]
  },
  {
   "cell_type": "code",
   "execution_count": 38,
   "id": "a773b1d8-d3ef-483e-904b-cf0ccd4156f4",
   "metadata": {
    "scrolled": true
   },
   "outputs": [
    {
     "data": {
      "text/plain": [
       "[{'한국투자TDF알아서2050증권자투자신탁H(주식혼합-재간접형)(C-Re)': nan,\n",
       "  '삼성한국형TDF2050증권투자신탁H[주식혼합-재간접형]Cpe(퇴직연금)': nan,\n",
       "  '신한마음편한TDF2050증권투자신탁[주식혼합-재간접형](종류C-re)': nan,\n",
       "  'KB온국민TDF2050증권자투자신탁(주식혼합-재간접형)(H)C-퇴직e': 942.0,\n",
       "  'IBK로우코스트TDF2050증권자투자신탁[혼합-재간접형]종류C-Re': nan,\n",
       "  '미래에셋전략배분TDF2050혼합자산자투자신탁종류C-P2e': nan},\n",
       " {'한국투자TDF알아서2050증권자투자신탁H(주식혼합-재간접형)(C-Re)': nan,\n",
       "  '삼성한국형TDF2050증권투자신탁H[주식혼합-재간접형]Cpe(퇴직연금)': nan,\n",
       "  '신한마음편한TDF2050증권투자신탁[주식혼합-재간접형](종류C-re)': nan,\n",
       "  'KB온국민TDF2050증권자투자신탁(주식혼합-재간접형)(H)C-퇴직e': 936.0,\n",
       "  'IBK로우코스트TDF2050증권자투자신탁[혼합-재간접형]종류C-Re': nan,\n",
       "  '미래에셋전략배분TDF2050혼합자산자투자신탁종류C-P2e': nan},\n",
       " {'한국투자TDF알아서2050증권자투자신탁H(주식혼합-재간접형)(C-Re)': nan,\n",
       "  '삼성한국형TDF2050증권투자신탁H[주식혼합-재간접형]Cpe(퇴직연금)': nan,\n",
       "  '신한마음편한TDF2050증권투자신탁[주식혼합-재간접형](종류C-re)': nan,\n",
       "  'KB온국민TDF2050증권자투자신탁(주식혼합-재간접형)(H)C-퇴직e': 954.0,\n",
       "  'IBK로우코스트TDF2050증권자투자신탁[혼합-재간접형]종류C-Re': nan,\n",
       "  '미래에셋전략배분TDF2050혼합자산자투자신탁종류C-P2e': nan},\n",
       " {'한국투자TDF알아서2050증권자투자신탁H(주식혼합-재간접형)(C-Re)': nan,\n",
       "  '삼성한국형TDF2050증권투자신탁H[주식혼합-재간접형]Cpe(퇴직연금)': nan,\n",
       "  '신한마음편한TDF2050증권투자신탁[주식혼합-재간접형](종류C-re)': nan,\n",
       "  'KB온국민TDF2050증권자투자신탁(주식혼합-재간접형)(H)C-퇴직e': 971.0,\n",
       "  'IBK로우코스트TDF2050증권자투자신탁[혼합-재간접형]종류C-Re': nan,\n",
       "  '미래에셋전략배분TDF2050혼합자산자투자신탁종류C-P2e': nan},\n",
       " {'한국투자TDF알아서2050증권자투자신탁H(주식혼합-재간접형)(C-Re)': nan,\n",
       "  '삼성한국형TDF2050증권투자신탁H[주식혼합-재간접형]Cpe(퇴직연금)': nan,\n",
       "  '신한마음편한TDF2050증권투자신탁[주식혼합-재간접형](종류C-re)': nan,\n",
       "  'KB온국민TDF2050증권자투자신탁(주식혼합-재간접형)(H)C-퇴직e': 980.0,\n",
       "  'IBK로우코스트TDF2050증권자투자신탁[혼합-재간접형]종류C-Re': nan,\n",
       "  '미래에셋전략배분TDF2050혼합자산자투자신탁종류C-P2e': nan},\n",
       " {'한국투자TDF알아서2050증권자투자신탁H(주식혼합-재간접형)(C-Re)': nan,\n",
       "  '삼성한국형TDF2050증권투자신탁H[주식혼합-재간접형]Cpe(퇴직연금)': nan,\n",
       "  '신한마음편한TDF2050증권투자신탁[주식혼합-재간접형](종류C-re)': nan,\n",
       "  'KB온국민TDF2050증권자투자신탁(주식혼합-재간접형)(H)C-퇴직e': 993.0,\n",
       "  'IBK로우코스트TDF2050증권자투자신탁[혼합-재간접형]종류C-Re': nan,\n",
       "  '미래에셋전략배분TDF2050혼합자산자투자신탁종류C-P2e': nan},\n",
       " {'한국투자TDF알아서2050증권자투자신탁H(주식혼합-재간접형)(C-Re)': nan,\n",
       "  '삼성한국형TDF2050증권투자신탁H[주식혼합-재간접형]Cpe(퇴직연금)': nan,\n",
       "  '신한마음편한TDF2050증권투자신탁[주식혼합-재간접형](종류C-re)': nan,\n",
       "  'KB온국민TDF2050증권자투자신탁(주식혼합-재간접형)(H)C-퇴직e': 1037.0,\n",
       "  'IBK로우코스트TDF2050증권자투자신탁[혼합-재간접형]종류C-Re': nan,\n",
       "  '미래에셋전략배분TDF2050혼합자산자투자신탁종류C-P2e': nan},\n",
       " {'한국투자TDF알아서2050증권자투자신탁H(주식혼합-재간접형)(C-Re)': nan,\n",
       "  '삼성한국형TDF2050증권투자신탁H[주식혼합-재간접형]Cpe(퇴직연금)': nan,\n",
       "  '신한마음편한TDF2050증권투자신탁[주식혼합-재간접형](종류C-re)': nan,\n",
       "  'KB온국민TDF2050증권자투자신탁(주식혼합-재간접형)(H)C-퇴직e': 1012.0,\n",
       "  'IBK로우코스트TDF2050증권자투자신탁[혼합-재간접형]종류C-Re': nan,\n",
       "  '미래에셋전략배분TDF2050혼합자산자투자신탁종류C-P2e': nan},\n",
       " {'한국투자TDF알아서2050증권자투자신탁H(주식혼합-재간접형)(C-Re)': nan,\n",
       "  '삼성한국형TDF2050증권투자신탁H[주식혼합-재간접형]Cpe(퇴직연금)': nan,\n",
       "  '신한마음편한TDF2050증권투자신탁[주식혼합-재간접형](종류C-re)': nan,\n",
       "  'KB온국민TDF2050증권자투자신탁(주식혼합-재간접형)(H)C-퇴직e': 974.0,\n",
       "  'IBK로우코스트TDF2050증권자투자신탁[혼합-재간접형]종류C-Re': nan,\n",
       "  '미래에셋전략배분TDF2050혼합자산자투자신탁종류C-P2e': nan},\n",
       " {'한국투자TDF알아서2050증권자투자신탁H(주식혼합-재간접형)(C-Re)': nan,\n",
       "  '삼성한국형TDF2050증권투자신탁H[주식혼합-재간접형]Cpe(퇴직연금)': nan,\n",
       "  '신한마음편한TDF2050증권투자신탁[주식혼합-재간접형](종류C-re)': nan,\n",
       "  'KB온국민TDF2050증권자투자신탁(주식혼합-재간접형)(H)C-퇴직e': 989.0,\n",
       "  'IBK로우코스트TDF2050증권자투자신탁[혼합-재간접형]종류C-Re': nan,\n",
       "  '미래에셋전략배분TDF2050혼합자산자투자신탁종류C-P2e': nan},\n",
       " {'한국투자TDF알아서2050증권자투자신탁H(주식혼합-재간접형)(C-Re)': nan,\n",
       "  '삼성한국형TDF2050증권투자신탁H[주식혼합-재간접형]Cpe(퇴직연금)': nan,\n",
       "  '신한마음편한TDF2050증권투자신탁[주식혼합-재간접형](종류C-re)': nan,\n",
       "  'KB온국민TDF2050증권자투자신탁(주식혼합-재간접형)(H)C-퇴직e': 981.0,\n",
       "  'IBK로우코스트TDF2050증권자투자신탁[혼합-재간접형]종류C-Re': nan,\n",
       "  '미래에셋전략배분TDF2050혼합자산자투자신탁종류C-P2e': nan},\n",
       " {'한국투자TDF알아서2050증권자투자신탁H(주식혼합-재간접형)(C-Re)': nan,\n",
       "  '삼성한국형TDF2050증권투자신탁H[주식혼합-재간접형]Cpe(퇴직연금)': nan,\n",
       "  '신한마음편한TDF2050증권투자신탁[주식혼합-재간접형](종류C-re)': nan,\n",
       "  'KB온국민TDF2050증권자투자신탁(주식혼합-재간접형)(H)C-퇴직e': 972.0,\n",
       "  'IBK로우코스트TDF2050증권자투자신탁[혼합-재간접형]종류C-Re': nan,\n",
       "  '미래에셋전략배분TDF2050혼합자산자투자신탁종류C-P2e': nan},\n",
       " {'한국투자TDF알아서2050증권자투자신탁H(주식혼합-재간접형)(C-Re)': nan,\n",
       "  '삼성한국형TDF2050증권투자신탁H[주식혼합-재간접형]Cpe(퇴직연금)': nan,\n",
       "  '신한마음편한TDF2050증권투자신탁[주식혼합-재간접형](종류C-re)': nan,\n",
       "  'KB온국민TDF2050증권자투자신탁(주식혼합-재간접형)(H)C-퇴직e': 999.0,\n",
       "  'IBK로우코스트TDF2050증권자투자신탁[혼합-재간접형]종류C-Re': nan,\n",
       "  '미래에셋전략배분TDF2050혼합자산자투자신탁종류C-P2e': nan},\n",
       " {'한국투자TDF알아서2050증권자투자신탁H(주식혼합-재간접형)(C-Re)': nan,\n",
       "  '삼성한국형TDF2050증권투자신탁H[주식혼합-재간접형]Cpe(퇴직연금)': nan,\n",
       "  '신한마음편한TDF2050증권투자신탁[주식혼합-재간접형](종류C-re)': nan,\n",
       "  'KB온국민TDF2050증권자투자신탁(주식혼합-재간접형)(H)C-퇴직e': 1008.0,\n",
       "  'IBK로우코스트TDF2050증권자투자신탁[혼합-재간접형]종류C-Re': nan,\n",
       "  '미래에셋전략배분TDF2050혼합자산자투자신탁종류C-P2e': nan},\n",
       " {'한국투자TDF알아서2050증권자투자신탁H(주식혼합-재간접형)(C-Re)': nan,\n",
       "  '삼성한국형TDF2050증권투자신탁H[주식혼합-재간접형]Cpe(퇴직연금)': nan,\n",
       "  '신한마음편한TDF2050증권투자신탁[주식혼합-재간접형](종류C-re)': nan,\n",
       "  'KB온국민TDF2050증권자투자신탁(주식혼합-재간접형)(H)C-퇴직e': 1000.0,\n",
       "  'IBK로우코스트TDF2050증권자투자신탁[혼합-재간접형]종류C-Re': nan,\n",
       "  '미래에셋전략배분TDF2050혼합자산자투자신탁종류C-P2e': nan},\n",
       " {'한국투자TDF알아서2050증권자투자신탁H(주식혼합-재간접형)(C-Re)': nan,\n",
       "  '삼성한국형TDF2050증권투자신탁H[주식혼합-재간접형]Cpe(퇴직연금)': nan,\n",
       "  '신한마음편한TDF2050증권투자신탁[주식혼합-재간접형](종류C-re)': nan,\n",
       "  'KB온국민TDF2050증권자투자신탁(주식혼합-재간접형)(H)C-퇴직e': 916.0,\n",
       "  'IBK로우코스트TDF2050증권자투자신탁[혼합-재간접형]종류C-Re': nan,\n",
       "  '미래에셋전략배분TDF2050혼합자산자투자신탁종류C-P2e': nan},\n",
       " {'한국투자TDF알아서2050증권자투자신탁H(주식혼합-재간접형)(C-Re)': nan,\n",
       "  '삼성한국형TDF2050증권투자신탁H[주식혼합-재간접형]Cpe(퇴직연금)': nan,\n",
       "  '신한마음편한TDF2050증권투자신탁[주식혼합-재간접형](종류C-re)': nan,\n",
       "  'KB온국민TDF2050증권자투자신탁(주식혼합-재간접형)(H)C-퇴직e': 945.0,\n",
       "  'IBK로우코스트TDF2050증권자투자신탁[혼합-재간접형]종류C-Re': nan,\n",
       "  '미래에셋전략배분TDF2050혼합자산자투자신탁종류C-P2e': nan},\n",
       " {'한국투자TDF알아서2050증권자투자신탁H(주식혼합-재간접형)(C-Re)': nan,\n",
       "  '삼성한국형TDF2050증권투자신탁H[주식혼합-재간접형]Cpe(퇴직연금)': nan,\n",
       "  '신한마음편한TDF2050증권투자신탁[주식혼합-재간접형](종류C-re)': nan,\n",
       "  'KB온국민TDF2050증권자투자신탁(주식혼합-재간접형)(H)C-퇴직e': 884.0,\n",
       "  'IBK로우코스트TDF2050증권자투자신탁[혼합-재간접형]종류C-Re': nan,\n",
       "  '미래에셋전략배분TDF2050혼합자산자투자신탁종류C-P2e': nan},\n",
       " {'한국투자TDF알아서2050증권자투자신탁H(주식혼합-재간접형)(C-Re)': nan,\n",
       "  '삼성한국형TDF2050증권투자신탁H[주식혼합-재간접형]Cpe(퇴직연금)': nan,\n",
       "  '신한마음편한TDF2050증권투자신탁[주식혼합-재간접형](종류C-re)': nan,\n",
       "  'KB온국민TDF2050증권자투자신탁(주식혼합-재간접형)(H)C-퇴직e': 938.0,\n",
       "  'IBK로우코스트TDF2050증권자투자신탁[혼합-재간접형]종류C-Re': nan,\n",
       "  '미래에셋전략배분TDF2050혼합자산자투자신탁종류C-P2e': nan},\n",
       " {'한국투자TDF알아서2050증권자투자신탁H(주식혼합-재간접형)(C-Re)': nan,\n",
       "  '삼성한국형TDF2050증권투자신탁H[주식혼합-재간접형]Cpe(퇴직연금)': 1018.0,\n",
       "  '신한마음편한TDF2050증권투자신탁[주식혼합-재간접형](종류C-re)': nan,\n",
       "  'KB온국민TDF2050증권자투자신탁(주식혼합-재간접형)(H)C-퇴직e': 976.0,\n",
       "  'IBK로우코스트TDF2050증권자투자신탁[혼합-재간접형]종류C-Re': nan,\n",
       "  '미래에셋전략배분TDF2050혼합자산자투자신탁종류C-P2e': nan},\n",
       " {'한국투자TDF알아서2050증권자투자신탁H(주식혼합-재간접형)(C-Re)': nan,\n",
       "  '삼성한국형TDF2050증권투자신탁H[주식혼합-재간접형]Cpe(퇴직연금)': 1027.0,\n",
       "  '신한마음편한TDF2050증권투자신탁[주식혼합-재간접형](종류C-re)': nan,\n",
       "  'KB온국민TDF2050증권자투자신탁(주식혼합-재간접형)(H)C-퇴직e': 974.0,\n",
       "  'IBK로우코스트TDF2050증권자투자신탁[혼합-재간접형]종류C-Re': nan,\n",
       "  '미래에셋전략배분TDF2050혼합자산자투자신탁종류C-P2e': nan},\n",
       " {'한국투자TDF알아서2050증권자투자신탁H(주식혼합-재간접형)(C-Re)': nan,\n",
       "  '삼성한국형TDF2050증권투자신탁H[주식혼합-재간접형]Cpe(퇴직연금)': 1052.0,\n",
       "  '신한마음편한TDF2050증권투자신탁[주식혼합-재간접형](종류C-re)': 975.0,\n",
       "  'KB온국민TDF2050증권자투자신탁(주식혼합-재간접형)(H)C-퇴직e': 1008.0,\n",
       "  'IBK로우코스트TDF2050증권자투자신탁[혼합-재간접형]종류C-Re': nan,\n",
       "  '미래에셋전략배분TDF2050혼합자산자투자신탁종류C-P2e': nan},\n",
       " {'한국투자TDF알아서2050증권자투자신탁H(주식혼합-재간접형)(C-Re)': nan,\n",
       "  '삼성한국형TDF2050증권투자신탁H[주식혼합-재간접형]Cpe(퇴직연금)': 1010.0,\n",
       "  '신한마음편한TDF2050증권투자신탁[주식혼합-재간접형](종류C-re)': 953.0,\n",
       "  'KB온국민TDF2050증권자투자신탁(주식혼합-재간접형)(H)C-퇴직e': 958.0,\n",
       "  'IBK로우코스트TDF2050증권자투자신탁[혼합-재간접형]종류C-Re': nan,\n",
       "  '미래에셋전략배분TDF2050혼합자산자투자신탁종류C-P2e': nan},\n",
       " {'한국투자TDF알아서2050증권자투자신탁H(주식혼합-재간접형)(C-Re)': nan,\n",
       "  '삼성한국형TDF2050증권투자신탁H[주식혼합-재간접형]Cpe(퇴직연금)': 1049.0,\n",
       "  '신한마음편한TDF2050증권투자신탁[주식혼합-재간접형](종류C-re)': 982.0,\n",
       "  'KB온국민TDF2050증권자투자신탁(주식혼합-재간접형)(H)C-퇴직e': 996.0,\n",
       "  'IBK로우코스트TDF2050증권자투자신탁[혼합-재간접형]종류C-Re': nan,\n",
       "  '미래에셋전략배분TDF2050혼합자산자투자신탁종류C-P2e': nan},\n",
       " {'한국투자TDF알아서2050증권자투자신탁H(주식혼합-재간접형)(C-Re)': nan,\n",
       "  '삼성한국형TDF2050증권투자신탁H[주식혼합-재간접형]Cpe(퇴직연금)': 1069.0,\n",
       "  '신한마음편한TDF2050증권투자신탁[주식혼합-재간접형](종류C-re)': 1006.0,\n",
       "  'KB온국민TDF2050증권자투자신탁(주식혼합-재간접형)(H)C-퇴직e': 1013.0,\n",
       "  'IBK로우코스트TDF2050증권자투자신탁[혼합-재간접형]종류C-Re': nan,\n",
       "  '미래에셋전략배분TDF2050혼합자산자투자신탁종류C-P2e': nan},\n",
       " {'한국투자TDF알아서2050증권자투자신탁H(주식혼합-재간접형)(C-Re)': nan,\n",
       "  '삼성한국형TDF2050증권투자신탁H[주식혼합-재간접형]Cpe(퇴직연금)': 1033.0,\n",
       "  '신한마음편한TDF2050증권투자신탁[주식혼합-재간접형](종류C-re)': 983.0,\n",
       "  'KB온국민TDF2050증권자투자신탁(주식혼합-재간접형)(H)C-퇴직e': 971.0,\n",
       "  'IBK로우코스트TDF2050증권자투자신탁[혼합-재간접형]종류C-Re': nan,\n",
       "  '미래에셋전략배분TDF2050혼합자산자투자신탁종류C-P2e': nan},\n",
       " {'한국투자TDF알아서2050증권자투자신탁H(주식혼합-재간접형)(C-Re)': nan,\n",
       "  '삼성한국형TDF2050증권투자신탁H[주식혼합-재간접형]Cpe(퇴직연금)': 1049.0,\n",
       "  '신한마음편한TDF2050증권투자신탁[주식혼합-재간접형](종류C-re)': 999.0,\n",
       "  'KB온국민TDF2050증권자투자신탁(주식혼합-재간접형)(H)C-퇴직e': 1001.0,\n",
       "  'IBK로우코스트TDF2050증권자투자신탁[혼합-재간접형]종류C-Re': nan,\n",
       "  '미래에셋전략배분TDF2050혼합자산자투자신탁종류C-P2e': nan},\n",
       " {'한국투자TDF알아서2050증권자투자신탁H(주식혼합-재간접형)(C-Re)': 1017.0,\n",
       "  '삼성한국형TDF2050증권투자신탁H[주식혼합-재간접형]Cpe(퇴직연금)': 1066.0,\n",
       "  '신한마음편한TDF2050증권투자신탁[주식혼합-재간접형](종류C-re)': 1000.0,\n",
       "  'KB온국민TDF2050증권자투자신탁(주식혼합-재간접형)(H)C-퇴직e': 1019.0,\n",
       "  'IBK로우코스트TDF2050증권자투자신탁[혼합-재간접형]종류C-Re': nan,\n",
       "  '미래에셋전략배분TDF2050혼합자산자투자신탁종류C-P2e': nan},\n",
       " {'한국투자TDF알아서2050증권자투자신탁H(주식혼합-재간접형)(C-Re)': 1042.0,\n",
       "  '삼성한국형TDF2050증권투자신탁H[주식혼합-재간접형]Cpe(퇴직연금)': 1094.0,\n",
       "  '신한마음편한TDF2050증권투자신탁[주식혼합-재간접형](종류C-re)': 1025.0,\n",
       "  'KB온국민TDF2050증권자투자신탁(주식혼합-재간접형)(H)C-퇴직e': 1047.0,\n",
       "  'IBK로우코스트TDF2050증권자투자신탁[혼합-재간접형]종류C-Re': nan,\n",
       "  '미래에셋전략배분TDF2050혼합자산자투자신탁종류C-P2e': nan},\n",
       " {'한국투자TDF알아서2050증권자투자신탁H(주식혼합-재간접형)(C-Re)': 1067.0,\n",
       "  '삼성한국형TDF2050증권투자신탁H[주식혼합-재간접형]Cpe(퇴직연금)': 1122.0,\n",
       "  '신한마음편한TDF2050증권투자신탁[주식혼합-재간접형](종류C-re)': 1042.0,\n",
       "  'KB온국민TDF2050증권자투자신탁(주식혼합-재간접형)(H)C-퇴직e': 1075.0,\n",
       "  'IBK로우코스트TDF2050증권자투자신탁[혼합-재간접형]종류C-Re': nan,\n",
       "  '미래에셋전략배분TDF2050혼합자산자투자신탁종류C-P2e': nan},\n",
       " {'한국투자TDF알아서2050증권자투자신탁H(주식혼합-재간접형)(C-Re)': 1076.0,\n",
       "  '삼성한국형TDF2050증권투자신탁H[주식혼합-재간접형]Cpe(퇴직연금)': 1125.0,\n",
       "  '신한마음편한TDF2050증권투자신탁[주식혼합-재간접형](종류C-re)': 1056.0,\n",
       "  'KB온국민TDF2050증권자투자신탁(주식혼합-재간접형)(H)C-퇴직e': 1073.0,\n",
       "  'IBK로우코스트TDF2050증권자투자신탁[혼합-재간접형]종류C-Re': nan,\n",
       "  '미래에셋전략배분TDF2050혼합자산자투자신탁종류C-P2e': nan},\n",
       " {'한국투자TDF알아서2050증권자투자신탁H(주식혼합-재간접형)(C-Re)': 1043.0,\n",
       "  '삼성한국형TDF2050증권투자신탁H[주식혼합-재간접형]Cpe(퇴직연금)': 1083.0,\n",
       "  '신한마음편한TDF2050증권투자신탁[주식혼합-재간접형](종류C-re)': 1032.0,\n",
       "  'KB온국민TDF2050증권자투자신탁(주식혼합-재간접형)(H)C-퇴직e': 1020.0,\n",
       "  'IBK로우코스트TDF2050증권자투자신탁[혼합-재간접형]종류C-Re': nan,\n",
       "  '미래에셋전략배분TDF2050혼합자산자투자신탁종류C-P2e': nan},\n",
       " {'한국투자TDF알아서2050증권자투자신탁H(주식혼합-재간접형)(C-Re)': 881.0,\n",
       "  '삼성한국형TDF2050증권투자신탁H[주식혼합-재간접형]Cpe(퇴직연금)': 926.0,\n",
       "  '신한마음편한TDF2050증권투자신탁[주식혼합-재간접형](종류C-re)': 856.0,\n",
       "  'KB온국민TDF2050증권자투자신탁(주식혼합-재간접형)(H)C-퇴직e': 839.0,\n",
       "  'IBK로우코스트TDF2050증권자투자신탁[혼합-재간접형]종류C-Re': nan,\n",
       "  '미래에셋전략배분TDF2050혼합자산자투자신탁종류C-P2e': nan},\n",
       " {'한국투자TDF알아서2050증권자투자신탁H(주식혼합-재간접형)(C-Re)': 955.0,\n",
       "  '삼성한국형TDF2050증권투자신탁H[주식혼합-재간접형]Cpe(퇴직연금)': 997.0,\n",
       "  '신한마음편한TDF2050증권투자신탁[주식혼합-재간접형](종류C-re)': 918.0,\n",
       "  'KB온국민TDF2050증권자투자신탁(주식혼합-재간접형)(H)C-퇴직e': 917.0,\n",
       "  'IBK로우코스트TDF2050증권자투자신탁[혼합-재간접형]종류C-Re': nan,\n",
       "  '미래에셋전략배분TDF2050혼합자산자투자신탁종류C-P2e': nan},\n",
       " {'한국투자TDF알아서2050증권자투자신탁H(주식혼합-재간접형)(C-Re)': 1003.0,\n",
       "  '삼성한국형TDF2050증권투자신탁H[주식혼합-재간접형]Cpe(퇴직연금)': 1041.0,\n",
       "  '신한마음편한TDF2050증권투자신탁[주식혼합-재간접형](종류C-re)': 978.0,\n",
       "  'KB온국민TDF2050증권자투자신탁(주식혼합-재간접형)(H)C-퇴직e': 968.0,\n",
       "  'IBK로우코스트TDF2050증권자투자신탁[혼합-재간접형]종류C-Re': nan,\n",
       "  '미래에셋전략배분TDF2050혼합자산자투자신탁종류C-P2e': nan},\n",
       " {'한국투자TDF알아서2050증권자투자신탁H(주식혼합-재간접형)(C-Re)': 1030.0,\n",
       "  '삼성한국형TDF2050증권투자신탁H[주식혼합-재간접형]Cpe(퇴직연금)': 1056.0,\n",
       "  '신한마음편한TDF2050증권투자신탁[주식혼합-재간접형](종류C-re)': 979.0,\n",
       "  'KB온국민TDF2050증권자투자신탁(주식혼합-재간접형)(H)C-퇴직e': 979.0,\n",
       "  'IBK로우코스트TDF2050증권자투자신탁[혼합-재간접형]종류C-Re': nan,\n",
       "  '미래에셋전략배분TDF2050혼합자산자투자신탁종류C-P2e': nan},\n",
       " {'한국투자TDF알아서2050증권자투자신탁H(주식혼합-재간접형)(C-Re)': 1085.0,\n",
       "  '삼성한국형TDF2050증권투자신탁H[주식혼합-재간접형]Cpe(퇴직연금)': 1118.0,\n",
       "  '신한마음편한TDF2050증권투자신탁[주식혼합-재간접형](종류C-re)': 1036.0,\n",
       "  'KB온국민TDF2050증권자투자신탁(주식혼합-재간접형)(H)C-퇴직e': 1051.0,\n",
       "  'IBK로우코스트TDF2050증권자투자신탁[혼합-재간접형]종류C-Re': nan,\n",
       "  '미래에셋전략배분TDF2050혼합자산자투자신탁종류C-P2e': 988.0},\n",
       " {'한국투자TDF알아서2050증권자투자신탁H(주식혼합-재간접형)(C-Re)': 1124.0,\n",
       "  '삼성한국형TDF2050증권투자신탁H[주식혼합-재간접형]Cpe(퇴직연금)': 1150.0,\n",
       "  '신한마음편한TDF2050증권투자신탁[주식혼합-재간접형](종류C-re)': 1062.0,\n",
       "  'KB온국민TDF2050증권자투자신탁(주식혼합-재간접형)(H)C-퇴직e': 1091.0,\n",
       "  'IBK로우코스트TDF2050증권자투자신탁[혼합-재간접형]종류C-Re': nan,\n",
       "  '미래에셋전략배분TDF2050혼합자산자투자신탁종류C-P2e': 1035.0},\n",
       " {'한국투자TDF알아서2050증권자투자신탁H(주식혼합-재간접형)(C-Re)': 1083.0,\n",
       "  '삼성한국형TDF2050증권투자신탁H[주식혼합-재간접형]Cpe(퇴직연금)': 1112.0,\n",
       "  '신한마음편한TDF2050증권투자신탁[주식혼합-재간접형](종류C-re)': 1014.0,\n",
       "  'KB온국민TDF2050증권자투자신탁(주식혼합-재간접형)(H)C-퇴직e': 1051.0,\n",
       "  'IBK로우코스트TDF2050증권자투자신탁[혼합-재간접형]종류C-Re': nan,\n",
       "  '미래에셋전략배분TDF2050혼합자산자투자신탁종류C-P2e': 988.0},\n",
       " {'한국투자TDF알아서2050증권자투자신탁H(주식혼합-재간접형)(C-Re)': 1101.0,\n",
       "  '삼성한국형TDF2050증권투자신탁H[주식혼합-재간접형]Cpe(퇴직연금)': 1110.0,\n",
       "  '신한마음편한TDF2050증권투자신탁[주식혼합-재간접형](종류C-re)': 991.0,\n",
       "  'KB온국민TDF2050증권자투자신탁(주식혼합-재간접형)(H)C-퇴직e': 1052.0,\n",
       "  'IBK로우코스트TDF2050증권자투자신탁[혼합-재간접형]종류C-Re': nan,\n",
       "  '미래에셋전략배분TDF2050혼합자산자투자신탁종류C-P2e': 996.0},\n",
       " {'한국투자TDF알아서2050증권자투자신탁H(주식혼합-재간접형)(C-Re)': 1194.0,\n",
       "  '삼성한국형TDF2050증권투자신탁H[주식혼합-재간접형]Cpe(퇴직연금)': 1203.0,\n",
       "  '신한마음편한TDF2050증권투자신탁[주식혼합-재간접형](종류C-re)': 1068.0,\n",
       "  'KB온국민TDF2050증권자투자신탁(주식혼합-재간접형)(H)C-퇴직e': 1166.0,\n",
       "  'IBK로우코스트TDF2050증권자투자신탁[혼합-재간접형]종류C-Re': nan,\n",
       "  '미래에셋전략배분TDF2050혼합자산자투자신탁종류C-P2e': 1053.0},\n",
       " {'한국투자TDF알아서2050증권자투자신탁H(주식혼합-재간접형)(C-Re)': 1230.0,\n",
       "  '삼성한국형TDF2050증권투자신탁H[주식혼합-재간접형]Cpe(퇴직연금)': 1239.0,\n",
       "  '신한마음편한TDF2050증권투자신탁[주식혼합-재간접형](종류C-re)': 1087.0,\n",
       "  'KB온국민TDF2050증권자투자신탁(주식혼합-재간접형)(H)C-퇴직e': 1213.0,\n",
       "  'IBK로우코스트TDF2050증권자투자신탁[혼합-재간접형]종류C-Re': nan,\n",
       "  '미래에셋전략배분TDF2050혼합자산자투자신탁종류C-P2e': 1087.0},\n",
       " {'한국투자TDF알아서2050증권자투자신탁H(주식혼합-재간접형)(C-Re)': 1248.0,\n",
       "  '삼성한국형TDF2050증권투자신탁H[주식혼합-재간접형]Cpe(퇴직연금)': 1250.0,\n",
       "  '신한마음편한TDF2050증권투자신탁[주식혼합-재간접형](종류C-re)': 1131.0,\n",
       "  'KB온국민TDF2050증권자투자신탁(주식혼합-재간접형)(H)C-퇴직e': 1240.0,\n",
       "  'IBK로우코스트TDF2050증권자투자신탁[혼합-재간접형]종류C-Re': nan,\n",
       "  '미래에셋전략배분TDF2050혼합자산자투자신탁종류C-P2e': 1131.0},\n",
       " {'한국투자TDF알아서2050증권자투자신탁H(주식혼합-재간접형)(C-Re)': 1273.0,\n",
       "  '삼성한국형TDF2050증권투자신탁H[주식혼합-재간접형]Cpe(퇴직연금)': 1284.0,\n",
       "  '신한마음편한TDF2050증권투자신탁[주식혼합-재간접형](종류C-re)': 1158.0,\n",
       "  'KB온국민TDF2050증권자투자신탁(주식혼합-재간접형)(H)C-퇴직e': 1279.0,\n",
       "  'IBK로우코스트TDF2050증권자투자신탁[혼합-재간접형]종류C-Re': nan,\n",
       "  '미래에셋전략배분TDF2050혼합자산자투자신탁종류C-P2e': 1166.0},\n",
       " {'한국투자TDF알아서2050증권자투자신탁H(주식혼합-재간접형)(C-Re)': 1271.0,\n",
       "  '삼성한국형TDF2050증권투자신탁H[주식혼합-재간접형]Cpe(퇴직연금)': 1276.0,\n",
       "  '신한마음편한TDF2050증권투자신탁[주식혼합-재간접형](종류C-re)': 1162.0,\n",
       "  'KB온국민TDF2050증권자투자신탁(주식혼합-재간접형)(H)C-퇴직e': 1271.0,\n",
       "  'IBK로우코스트TDF2050증권자투자신탁[혼합-재간접형]종류C-Re': nan,\n",
       "  '미래에셋전략배분TDF2050혼합자산자투자신탁종류C-P2e': 1158.0},\n",
       " {'한국투자TDF알아서2050증권자투자신탁H(주식혼합-재간접형)(C-Re)': 1314.0,\n",
       "  '삼성한국형TDF2050증권투자신탁H[주식혼합-재간접형]Cpe(퇴직연금)': 1321.0,\n",
       "  '신한마음편한TDF2050증권투자신탁[주식혼합-재간접형](종류C-re)': 1188.0,\n",
       "  'KB온국민TDF2050증권자투자신탁(주식혼합-재간접형)(H)C-퇴직e': 1324.0,\n",
       "  'IBK로우코스트TDF2050증권자투자신탁[혼합-재간접형]종류C-Re': 1008.0,\n",
       "  '미래에셋전략배분TDF2050혼합자산자투자신탁종류C-P2e': 1190.0},\n",
       " {'한국투자TDF알아서2050증권자투자신탁H(주식혼합-재간접형)(C-Re)': 1318.0,\n",
       "  '삼성한국형TDF2050증권투자신탁H[주식혼합-재간접형]Cpe(퇴직연금)': 1334.0,\n",
       "  '신한마음편한TDF2050증권투자신탁[주식혼합-재간접형](종류C-re)': 1202.0,\n",
       "  'KB온국민TDF2050증권자투자신탁(주식혼합-재간접형)(H)C-퇴직e': 1330.0,\n",
       "  'IBK로우코스트TDF2050증권자투자신탁[혼합-재간접형]종류C-Re': 1019.0,\n",
       "  '미래에셋전략배분TDF2050혼합자산자투자신탁종류C-P2e': 1194.0},\n",
       " {'한국투자TDF알아서2050증권자투자신탁H(주식혼합-재간접형)(C-Re)': 1328.0,\n",
       "  '삼성한국형TDF2050증권투자신탁H[주식혼합-재간접형]Cpe(퇴직연금)': 1352.0,\n",
       "  '신한마음편한TDF2050증권투자신탁[주식혼합-재간접형](종류C-re)': 1219.0,\n",
       "  'KB온국민TDF2050증권자투자신탁(주식혼합-재간접형)(H)C-퇴직e': 1350.0,\n",
       "  'IBK로우코스트TDF2050증권자투자신탁[혼합-재간접형]종류C-Re': 1040.0,\n",
       "  '미래에셋전략배분TDF2050혼합자산자투자신탁종류C-P2e': 1213.0},\n",
       " {'한국투자TDF알아서2050증권자투자신탁H(주식혼합-재간접형)(C-Re)': 1330.0,\n",
       "  '삼성한국형TDF2050증권투자신탁H[주식혼합-재간접형]Cpe(퇴직연금)': 1355.0,\n",
       "  '신한마음편한TDF2050증권투자신탁[주식혼합-재간접형](종류C-re)': 1229.0,\n",
       "  'KB온국민TDF2050증권자투자신탁(주식혼합-재간접형)(H)C-퇴직e': 1354.0,\n",
       "  'IBK로우코스트TDF2050증권자투자신탁[혼합-재간접형]종류C-Re': 1057.0,\n",
       "  '미래에셋전략배분TDF2050혼합자산자투자신탁종류C-P2e': 1219.0},\n",
       " {'한국투자TDF알아서2050증권자투자신탁H(주식혼합-재간접형)(C-Re)': 1347.0,\n",
       "  '삼성한국형TDF2050증권투자신탁H[주식혼합-재간접형]Cpe(퇴직연금)': 1376.0,\n",
       "  '신한마음편한TDF2050증권투자신탁[주식혼합-재간접형](종류C-re)': 1250.0,\n",
       "  'KB온국민TDF2050증권자투자신탁(주식혼합-재간접형)(H)C-퇴직e': 1369.0,\n",
       "  'IBK로우코스트TDF2050증권자투자신탁[혼합-재간접형]종류C-Re': 1083.0,\n",
       "  '미래에셋전략배분TDF2050혼합자산자투자신탁종류C-P2e': 1239.0},\n",
       " {'한국투자TDF알아서2050증권자투자신탁H(주식혼합-재간접형)(C-Re)': 1328.0,\n",
       "  '삼성한국형TDF2050증권투자신탁H[주식혼합-재간접형]Cpe(퇴직연금)': 1345.0,\n",
       "  '신한마음편한TDF2050증권투자신탁[주식혼합-재간접형](종류C-re)': 1227.0,\n",
       "  'KB온국민TDF2050증권자투자신탁(주식혼합-재간접형)(H)C-퇴직e': 1332.0,\n",
       "  'IBK로우코스트TDF2050증권자투자신탁[혼합-재간접형]종류C-Re': 1066.0,\n",
       "  '미래에셋전략배분TDF2050혼합자산자투자신탁종류C-P2e': 1216.0},\n",
       " {'한국투자TDF알아서2050증권자투자신탁H(주식혼합-재간접형)(C-Re)': 1349.0,\n",
       "  '삼성한국형TDF2050증권투자신탁H[주식혼합-재간접형]Cpe(퇴직연금)': 1376.0,\n",
       "  '신한마음편한TDF2050증권투자신탁[주식혼합-재간접형](종류C-re)': 1253.0,\n",
       "  'KB온국민TDF2050증권자투자신탁(주식혼합-재간접형)(H)C-퇴직e': 1366.0,\n",
       "  'IBK로우코스트TDF2050증권자투자신탁[혼합-재간접형]종류C-Re': 1085.0,\n",
       "  '미래에셋전략배분TDF2050혼합자산자투자신탁종류C-P2e': 1245.0},\n",
       " {'한국투자TDF알아서2050증권자투자신탁H(주식혼합-재간접형)(C-Re)': 1326.0,\n",
       "  '삼성한국형TDF2050증권투자신탁H[주식혼합-재간접형]Cpe(퇴직연금)': 1357.0,\n",
       "  '신한마음편한TDF2050증권투자신탁[주식혼합-재간접형](종류C-re)': 1247.0,\n",
       "  'KB온국민TDF2050증권자투자신탁(주식혼합-재간접형)(H)C-퇴직e': 1349.0,\n",
       "  'IBK로우코스트TDF2050증권자투자신탁[혼합-재간접형]종류C-Re': 1088.0,\n",
       "  '미래에셋전략배분TDF2050혼합자산자투자신탁종류C-P2e': 1240.0},\n",
       " {'한국투자TDF알아서2050증권자투자신탁H(주식혼합-재간접형)(C-Re)': 1346.0,\n",
       "  '삼성한국형TDF2050증권투자신탁H[주식혼합-재간접형]Cpe(퇴직연금)': 1391.0,\n",
       "  '신한마음편한TDF2050증권투자신탁[주식혼합-재간접형](종류C-re)': 1280.0,\n",
       "  'KB온국민TDF2050증권자투자신탁(주식혼합-재간접형)(H)C-퇴직e': 1388.0,\n",
       "  'IBK로우코스트TDF2050증권자투자신탁[혼합-재간접형]종류C-Re': 1113.0,\n",
       "  '미래에셋전략배분TDF2050혼합자산자투자신탁종류C-P2e': 1262.0},\n",
       " {'한국투자TDF알아서2050증권자투자신탁H(주식혼합-재간접형)(C-Re)': 1274.0,\n",
       "  '삼성한국형TDF2050증권투자신탁H[주식혼합-재간접형]Cpe(퇴직연금)': 1287.0,\n",
       "  '신한마음편한TDF2050증권투자신탁[주식혼합-재간접형](종류C-re)': 1210.0,\n",
       "  'KB온국민TDF2050증권자투자신탁(주식혼합-재간접형)(H)C-퇴직e': 1291.0,\n",
       "  'IBK로우코스트TDF2050증권자투자신탁[혼합-재간접형]종류C-Re': 1059.0,\n",
       "  '미래에셋전략배분TDF2050혼합자산자투자신탁종류C-P2e': 1170.0},\n",
       " {'한국투자TDF알아서2050증권자투자신탁H(주식혼합-재간접형)(C-Re)': 1220.0,\n",
       "  '삼성한국형TDF2050증권투자신탁H[주식혼합-재간접형]Cpe(퇴직연금)': 1257.0,\n",
       "  '신한마음편한TDF2050증권투자신탁[주식혼합-재간접형](종류C-re)': 1189.0,\n",
       "  'KB온국민TDF2050증권자투자신탁(주식혼합-재간접형)(H)C-퇴직e': 1274.0,\n",
       "  'IBK로우코스트TDF2050증권자투자신탁[혼합-재간접형]종류C-Re': 1043.0,\n",
       "  '미래에셋전략배분TDF2050혼합자산자투자신탁종류C-P2e': 1153.0},\n",
       " {'한국투자TDF알아서2050증권자투자신탁H(주식혼합-재간접형)(C-Re)': 1277.0,\n",
       "  '삼성한국형TDF2050증권투자신탁H[주식혼합-재간접형]Cpe(퇴직연금)': 1295.0,\n",
       "  '신한마음편한TDF2050증권투자신탁[주식혼합-재간접형](종류C-re)': 1236.0,\n",
       "  'KB온국민TDF2050증권자투자신탁(주식혼합-재간접형)(H)C-퇴직e': 1330.0,\n",
       "  'IBK로우코스트TDF2050증권자투자신탁[혼합-재간접형]종류C-Re': 1083.0,\n",
       "  '미래에셋전략배분TDF2050혼합자산자투자신탁종류C-P2e': 1202.0},\n",
       " {'한국투자TDF알아서2050증권자투자신탁H(주식혼합-재간접형)(C-Re)': 1206.0,\n",
       "  '삼성한국형TDF2050증권투자신탁H[주식혼합-재간접형]Cpe(퇴직연금)': 1192.0,\n",
       "  '신한마음편한TDF2050증권투자신탁[주식혼합-재간접형](종류C-re)': 1155.0,\n",
       "  'KB온국민TDF2050증권자투자신탁(주식혼합-재간접형)(H)C-퇴직e': 1228.0,\n",
       "  'IBK로우코스트TDF2050증권자투자신탁[혼합-재간접형]종류C-Re': 1039.0,\n",
       "  '미래에셋전략배분TDF2050혼합자산자투자신탁종류C-P2e': 1140.0},\n",
       " {'한국투자TDF알아서2050증권자투자신탁H(주식혼합-재간접형)(C-Re)': 1182.0,\n",
       "  '삼성한국형TDF2050증권투자신탁H[주식혼합-재간접형]Cpe(퇴직연금)': 1197.0,\n",
       "  '신한마음편한TDF2050증권투자신탁[주식혼합-재간접형](종류C-re)': 1144.0,\n",
       "  'KB온국민TDF2050증권자투자신탁(주식혼합-재간접형)(H)C-퇴직e': 1226.0,\n",
       "  'IBK로우코스트TDF2050증권자투자신탁[혼합-재간접형]종류C-Re': 1026.0,\n",
       "  '미래에셋전략배분TDF2050혼합자산자투자신탁종류C-P2e': 1121.0},\n",
       " {'한국투자TDF알아서2050증권자투자신탁H(주식혼합-재간접형)(C-Re)': 1147.0,\n",
       "  '삼성한국형TDF2050증권투자신탁H[주식혼합-재간접형]Cpe(퇴직연금)': 1114.0,\n",
       "  '신한마음편한TDF2050증권투자신탁[주식혼합-재간접형](종류C-re)': 1092.0,\n",
       "  'KB온국민TDF2050증권자투자신탁(주식혼합-재간접형)(H)C-퇴직e': 1148.0,\n",
       "  'IBK로우코스트TDF2050증권자투자신탁[혼합-재간접형]종류C-Re': 992.0,\n",
       "  '미래에셋전략배분TDF2050혼합자산자투자신탁종류C-P2e': 1084.0},\n",
       " {'한국투자TDF알아서2050증권자투자신탁H(주식혼합-재간접형)(C-Re)': 1148.0,\n",
       "  '삼성한국형TDF2050증권투자신탁H[주식혼합-재간접형]Cpe(퇴직연금)': 1142.0,\n",
       "  '신한마음편한TDF2050증권투자신탁[주식혼합-재간접형](종류C-re)': 1123.0,\n",
       "  'KB온국민TDF2050증권자투자신탁(주식혼합-재간접형)(H)C-퇴직e': 1181.0,\n",
       "  'IBK로우코스트TDF2050증권자투자신탁[혼합-재간접형]종류C-Re': 1022.0,\n",
       "  '미래에셋전략배분TDF2050혼합자산자투자신탁종류C-P2e': 1104.0},\n",
       " {'한국투자TDF알아서2050증권자투자신탁H(주식혼합-재간접형)(C-Re)': 1162.0,\n",
       "  '삼성한국형TDF2050증권투자신탁H[주식혼합-재간접형]Cpe(퇴직연금)': 1138.0,\n",
       "  '신한마음편한TDF2050증권투자신탁[주식혼합-재간접형](종류C-re)': 1126.0,\n",
       "  'KB온국민TDF2050증권자투자신탁(주식혼합-재간접형)(H)C-퇴직e': 1178.0,\n",
       "  'IBK로우코스트TDF2050증권자투자신탁[혼합-재간접형]종류C-Re': 1038.0,\n",
       "  '미래에셋전략배분TDF2050혼합자산자투자신탁종류C-P2e': 1125.0},\n",
       " {'한국투자TDF알아서2050증권자투자신탁H(주식혼합-재간접형)(C-Re)': 1079.0,\n",
       "  '삼성한국형TDF2050증권투자신탁H[주식혼합-재간접형]Cpe(퇴직연금)': 1054.0,\n",
       "  '신한마음편한TDF2050증권투자신탁[주식혼합-재간접형](종류C-re)': 1055.0,\n",
       "  'KB온국민TDF2050증권자투자신탁(주식혼합-재간접형)(H)C-퇴직e': 1111.0,\n",
       "  'IBK로우코스트TDF2050증권자투자신탁[혼합-재간접형]종류C-Re': 1008.0,\n",
       "  '미래에셋전략배분TDF2050혼합자산자투자신탁종류C-P2e': 1080.0},\n",
       " {'한국투자TDF알아서2050증권자투자신탁H(주식혼합-재간접형)(C-Re)': 1110.0,\n",
       "  '삼성한국형TDF2050증권투자신탁H[주식혼합-재간접형]Cpe(퇴직연금)': 1072.0,\n",
       "  '신한마음편한TDF2050증권투자신탁[주식혼합-재간접형](종류C-re)': 1064.0,\n",
       "  'KB온국민TDF2050증권자투자신탁(주식혼합-재간접형)(H)C-퇴직e': 1131.0,\n",
       "  'IBK로우코스트TDF2050증권자투자신탁[혼합-재간접형]종류C-Re': 1014.0,\n",
       "  '미래에셋전략배분TDF2050혼합자산자투자신탁종류C-P2e': 1079.0},\n",
       " {'한국투자TDF알아서2050증권자투자신탁H(주식혼합-재간접형)(C-Re)': 1150.0,\n",
       "  '삼성한국형TDF2050증권투자신탁H[주식혼합-재간접형]Cpe(퇴직연금)': 1124.0,\n",
       "  '신한마음편한TDF2050증권투자신탁[주식혼합-재간접형](종류C-re)': 1102.0,\n",
       "  'KB온국민TDF2050증권자투자신탁(주식혼합-재간접형)(H)C-퇴직e': 1173.0,\n",
       "  'IBK로우코스트TDF2050증권자투자신탁[혼합-재간접형]종류C-Re': 1018.0,\n",
       "  '미래에셋전략배분TDF2050혼합자산자투자신탁종류C-P2e': 1090.0},\n",
       " {'한국투자TDF알아서2050증권자투자신탁H(주식혼합-재간접형)(C-Re)': 1123.0,\n",
       "  '삼성한국형TDF2050증권투자신탁H[주식혼합-재간접형]Cpe(퇴직연금)': 1105.0,\n",
       "  '신한마음편한TDF2050증권투자신탁[주식혼합-재간접형](종류C-re)': 1065.0,\n",
       "  'KB온국민TDF2050증권자투자신탁(주식혼합-재간접형)(H)C-퇴직e': 1140.0,\n",
       "  'IBK로우코스트TDF2050증권자투자신탁[혼합-재간접형]종류C-Re': 968.0,\n",
       "  '미래에셋전략배분TDF2050혼합자산자투자신탁종류C-P2e': 1046.0},\n",
       " {'한국투자TDF알아서2050증권자투자신탁H(주식혼합-재간접형)(C-Re)': 1169.0,\n",
       "  '삼성한국형TDF2050증권투자신탁H[주식혼합-재간접형]Cpe(퇴직연금)': 1175.0,\n",
       "  '신한마음편한TDF2050증권투자신탁[주식혼합-재간접형](종류C-re)': 1130.0,\n",
       "  'KB온국민TDF2050증권자투자신탁(주식혼합-재간접형)(H)C-퇴직e': 1214.0,\n",
       "  'IBK로우코스트TDF2050증권자투자신탁[혼합-재간접형]종류C-Re': 1014.0,\n",
       "  '미래에셋전략배분TDF2050혼합자산자투자신탁종류C-P2e': 1096.0},\n",
       " {'한국투자TDF알아서2050증권자투자신탁H(주식혼합-재간접형)(C-Re)': 1151.0,\n",
       "  '삼성한국형TDF2050증권투자신탁H[주식혼합-재간접형]Cpe(퇴직연금)': 1147.0,\n",
       "  '신한마음편한TDF2050증권투자신탁[주식혼합-재간접형](종류C-re)': 1117.0,\n",
       "  'KB온국민TDF2050증권자투자신탁(주식혼합-재간접형)(H)C-퇴직e': 1188.0,\n",
       "  'IBK로우코스트TDF2050증권자투자신탁[혼합-재간접형]종류C-Re': 1031.0,\n",
       "  '미래에셋전략배분TDF2050혼합자산자투자신탁종류C-P2e': 1092.0},\n",
       " {'한국투자TDF알아서2050증권자투자신탁H(주식혼합-재간접형)(C-Re)': 1155.0,\n",
       "  '삼성한국형TDF2050증권투자신탁H[주식혼합-재간접형]Cpe(퇴직연금)': 1162.0,\n",
       "  '신한마음편한TDF2050증권투자신탁[주식혼합-재간접형](종류C-re)': 1129.0,\n",
       "  'KB온국민TDF2050증권자투자신탁(주식혼합-재간접형)(H)C-퇴직e': 1207.0,\n",
       "  'IBK로우코스트TDF2050증권자투자신탁[혼합-재간접형]종류C-Re': 1035.0,\n",
       "  '미래에셋전략배분TDF2050혼합자산자투자신탁종류C-P2e': 1094.0},\n",
       " {'한국투자TDF알아서2050증권자투자신탁H(주식혼합-재간접형)(C-Re)': 1174.0,\n",
       "  '삼성한국형TDF2050증권투자신탁H[주식혼합-재간접형]Cpe(퇴직연금)': 1176.0,\n",
       "  '신한마음편한TDF2050증권투자신탁[주식혼합-재간접형](종류C-re)': 1149.0,\n",
       "  'KB온국민TDF2050증권자투자신탁(주식혼합-재간접형)(H)C-퇴직e': 1220.0,\n",
       "  'IBK로우코스트TDF2050증권자투자신탁[혼합-재간접형]종류C-Re': 1067.0,\n",
       "  '미래에셋전략배분TDF2050혼합자산자투자신탁종류C-P2e': 1110.0},\n",
       " {'한국투자TDF알아서2050증권자투자신탁H(주식혼합-재간접형)(C-Re)': 1176.0,\n",
       "  '삼성한국형TDF2050증권투자신탁H[주식혼합-재간접형]Cpe(퇴직연금)': 1189.0,\n",
       "  '신한마음편한TDF2050증권투자신탁[주식혼합-재간접형](종류C-re)': 1168.0,\n",
       "  'KB온국민TDF2050증권자투자신탁(주식혼합-재간접형)(H)C-퇴직e': 1246.0,\n",
       "  'IBK로우코스트TDF2050증권자투자신탁[혼합-재간접형]종류C-Re': 1070.0,\n",
       "  '미래에셋전략배분TDF2050혼합자산자투자신탁종류C-P2e': 1134.0},\n",
       " {'한국투자TDF알아서2050증권자투자신탁H(주식혼합-재간접형)(C-Re)': 1202.0,\n",
       "  '삼성한국형TDF2050증권투자신탁H[주식혼합-재간접형]Cpe(퇴직연금)': 1215.0,\n",
       "  '신한마음편한TDF2050증권투자신탁[주식혼합-재간접형](종류C-re)': 1195.0,\n",
       "  'KB온국민TDF2050증권자투자신탁(주식혼합-재간접형)(H)C-퇴직e': 1278.0,\n",
       "  'IBK로우코스트TDF2050증권자투자신탁[혼합-재간접형]종류C-Re': 1091.0,\n",
       "  '미래에셋전략배분TDF2050혼합자산자투자신탁종류C-P2e': 1156.0},\n",
       " {'한국투자TDF알아서2050증권자투자신탁H(주식혼합-재간접형)(C-Re)': 1236.0,\n",
       "  '삼성한국형TDF2050증권투자신탁H[주식혼합-재간접형]Cpe(퇴직연금)': 1239.0,\n",
       "  '신한마음편한TDF2050증권투자신탁[주식혼합-재간접형](종류C-re)': 1215.0,\n",
       "  'KB온국민TDF2050증권자투자신탁(주식혼합-재간접형)(H)C-퇴직e': 1308.0,\n",
       "  'IBK로우코스트TDF2050증권자투자신탁[혼합-재간접형]종류C-Re': 1091.0,\n",
       "  '미래에셋전략배분TDF2050혼합자산자투자신탁종류C-P2e': 1172.0},\n",
       " {'한국투자TDF알아서2050증권자투자신탁H(주식혼합-재간접형)(C-Re)': 1208.0,\n",
       "  '삼성한국형TDF2050증권투자신탁H[주식혼합-재간접형]Cpe(퇴직연금)': 1223.0,\n",
       "  '신한마음편한TDF2050증권투자신탁[주식혼합-재간접형](종류C-re)': 1210.0,\n",
       "  'KB온국민TDF2050증권자투자신탁(주식혼합-재간접형)(H)C-퇴직e': 1301.0,\n",
       "  'IBK로우코스트TDF2050증권자투자신탁[혼합-재간접형]종류C-Re': 1104.0,\n",
       "  '미래에셋전략배분TDF2050혼합자산자투자신탁종류C-P2e': 1165.0},\n",
       " {'한국투자TDF알아서2050증권자투자신탁H(주식혼합-재간접형)(C-Re)': 1185.0,\n",
       "  '삼성한국형TDF2050증권투자신탁H[주식혼합-재간접형]Cpe(퇴직연금)': 1177.0,\n",
       "  '신한마음편한TDF2050증권투자신탁[주식혼합-재간접형](종류C-re)': 1173.0,\n",
       "  'KB온국민TDF2050증권자투자신탁(주식혼합-재간접형)(H)C-퇴직e': 1261.0,\n",
       "  'IBK로우코스트TDF2050증권자투자신탁[혼합-재간접형]종류C-Re': 1081.0,\n",
       "  '미래에셋전략배분TDF2050혼합자산자투자신탁종류C-P2e': 1134.0},\n",
       " {'한국투자TDF알아서2050증권자투자신탁H(주식혼합-재간접형)(C-Re)': 1151.0,\n",
       "  '삼성한국형TDF2050증권투자신탁H[주식혼합-재간접형]Cpe(퇴직연금)': 1135.0,\n",
       "  '신한마음편한TDF2050증권투자신탁[주식혼합-재간접형](종류C-re)': 1127.0,\n",
       "  'KB온국민TDF2050증권자투자신탁(주식혼합-재간접형)(H)C-퇴직e': 1217.0,\n",
       "  'IBK로우코스트TDF2050증권자투자신탁[혼합-재간접형]종류C-Re': 1042.0,\n",
       "  '미래에셋전략배분TDF2050혼합자산자투자신탁종류C-P2e': 1099.0},\n",
       " {'한국투자TDF알아서2050증권자투자신탁H(주식혼합-재간접형)(C-Re)': 1215.0,\n",
       "  '삼성한국형TDF2050증권투자신탁H[주식혼합-재간접형]Cpe(퇴직연금)': 1222.0,\n",
       "  '신한마음편한TDF2050증권투자신탁[주식혼합-재간접형](종류C-re)': 1210.0,\n",
       "  'KB온국민TDF2050증권자투자신탁(주식혼합-재간접형)(H)C-퇴직e': 1303.0,\n",
       "  'IBK로우코스트TDF2050증권자투자신탁[혼합-재간접형]종류C-Re': 1091.0,\n",
       "  '미래에셋전략배분TDF2050혼합자산자투자신탁종류C-P2e': 1169.0},\n",
       " {'한국투자TDF알아서2050증권자투자신탁H(주식혼합-재간접형)(C-Re)': 1267.0,\n",
       "  '삼성한국형TDF2050증권투자신탁H[주식혼합-재간접형]Cpe(퇴직연금)': 1283.0,\n",
       "  '신한마음편한TDF2050증권투자신탁[주식혼합-재간접형](종류C-re)': 1266.0,\n",
       "  'KB온국민TDF2050증권자투자신탁(주식혼합-재간접형)(H)C-퇴직e': 1357.0,\n",
       "  'IBK로우코스트TDF2050증권자투자신탁[혼합-재간접형]종류C-Re': 1140.0,\n",
       "  '미래에셋전략배분TDF2050혼합자산자투자신탁종류C-P2e': 1213.0},\n",
       " {'한국투자TDF알아서2050증권자투자신탁H(주식혼합-재간접형)(C-Re)': 1284.0,\n",
       "  '삼성한국형TDF2050증권투자신탁H[주식혼합-재간접형]Cpe(퇴직연금)': 1292.0,\n",
       "  '신한마음편한TDF2050증권투자신탁[주식혼합-재간접형](종류C-re)': 1281.0,\n",
       "  'KB온국민TDF2050증권자투자신탁(주식혼합-재간접형)(H)C-퇴직e': 1383.0,\n",
       "  'IBK로우코스트TDF2050증권자투자신탁[혼합-재간접형]종류C-Re': 1168.0,\n",
       "  '미래에셋전략배분TDF2050혼합자산자투자신탁종류C-P2e': 1242.0},\n",
       " {'한국투자TDF알아서2050증권자투자신탁H(주식혼합-재간접형)(C-Re)': 1319.0,\n",
       "  '삼성한국형TDF2050증권투자신탁H[주식혼합-재간접형]Cpe(퇴직연금)': 1322.0,\n",
       "  '신한마음편한TDF2050증권투자신탁[주식혼합-재간접형](종류C-re)': 1314.0,\n",
       "  'KB온국민TDF2050증권자투자신탁(주식혼합-재간접형)(H)C-퇴직e': 1417.0,\n",
       "  'IBK로우코스트TDF2050증권자투자신탁[혼합-재간접형]종류C-Re': 1191.0,\n",
       "  '미래에셋전략배분TDF2050혼합자산자투자신탁종류C-P2e': 1277.0},\n",
       " {'한국투자TDF알아서2050증권자투자신탁H(주식혼합-재간접형)(C-Re)': 1356.0,\n",
       "  '삼성한국형TDF2050증권투자신탁H[주식혼합-재간접형]Cpe(퇴직연금)': 1354.0,\n",
       "  '신한마음편한TDF2050증권투자신탁[주식혼합-재간접형](종류C-re)': 1355.0,\n",
       "  'KB온국민TDF2050증권자투자신탁(주식혼합-재간접형)(H)C-퇴직e': 1456.0,\n",
       "  'IBK로우코스트TDF2050증권자투자신탁[혼합-재간접형]종류C-Re': 1234.0,\n",
       "  '미래에셋전략배분TDF2050혼합자산자투자신탁종류C-P2e': 1315.0},\n",
       " {'한국투자TDF알아서2050증권자투자신탁H(주식혼합-재간접형)(C-Re)': 1339.0,\n",
       "  '삼성한국형TDF2050증권투자신탁H[주식혼합-재간접형]Cpe(퇴직연금)': 1328.0,\n",
       "  '신한마음편한TDF2050증권투자신탁[주식혼합-재간접형](종류C-re)': 1348.0,\n",
       "  'KB온국민TDF2050증권자투자신탁(주식혼합-재간접형)(H)C-퇴직e': 1425.0,\n",
       "  'IBK로우코스트TDF2050증권자투자신탁[혼합-재간접형]종류C-Re': 1226.0,\n",
       "  '미래에셋전략배분TDF2050혼합자산자투자신탁종류C-P2e': 1301.0},\n",
       " {'한국투자TDF알아서2050증권자투자신탁H(주식혼합-재간접형)(C-Re)': 1366.0,\n",
       "  '삼성한국형TDF2050증권투자신탁H[주식혼합-재간접형]Cpe(퇴직연금)': 1350.0,\n",
       "  '신한마음편한TDF2050증권투자신탁[주식혼합-재간접형](종류C-re)': 1384.0,\n",
       "  'KB온국민TDF2050증권자투자신탁(주식혼합-재간접형)(H)C-퇴직e': 1459.0,\n",
       "  'IBK로우코스트TDF2050증권자투자신탁[혼합-재간접형]종류C-Re': 1254.0,\n",
       "  '미래에셋전략배분TDF2050혼합자산자투자신탁종류C-P2e': 1333.0},\n",
       " {'한국투자TDF알아서2050증권자투자신탁H(주식혼합-재간접형)(C-Re)': 1386.0,\n",
       "  '삼성한국형TDF2050증권투자신탁H[주식혼합-재간접형]Cpe(퇴직연금)': 1376.0,\n",
       "  '신한마음편한TDF2050증권투자신탁[주식혼합-재간접형](종류C-re)': 1419.0,\n",
       "  'KB온국민TDF2050증권자투자신탁(주식혼합-재간접형)(H)C-퇴직e': 1493.0,\n",
       "  'IBK로우코스트TDF2050증권자투자신탁[혼합-재간접형]종류C-Re': 1281.0,\n",
       "  '미래에셋전략배분TDF2050혼합자산자투자신탁종류C-P2e': 1373.0},\n",
       " {'한국투자TDF알아서2050증권자투자신탁H(주식혼합-재간접형)(C-Re)': 1389.0,\n",
       "  '삼성한국형TDF2050증권투자신탁H[주식혼합-재간접형]Cpe(퇴직연금)': 1374.0,\n",
       "  '신한마음편한TDF2050증권투자신탁[주식혼합-재간접형](종류C-re)': 1418.0,\n",
       "  'KB온국민TDF2050증권자투자신탁(주식혼합-재간접형)(H)C-퇴직e': 1498.0,\n",
       "  'IBK로우코스트TDF2050증권자투자신탁[혼합-재간접형]종류C-Re': 1287.0,\n",
       "  '미래에셋전략배분TDF2050혼합자산자투자신탁종류C-P2e': 1358.0},\n",
       " {'한국투자TDF알아서2050증권자투자신탁H(주식혼합-재간접형)(C-Re)': 1411.0,\n",
       "  '삼성한국형TDF2050증권투자신탁H[주식혼합-재간접형]Cpe(퇴직연금)': 1402.0,\n",
       "  '신한마음편한TDF2050증권투자신탁[주식혼합-재간접형](종류C-re)': 1427.0,\n",
       "  'KB온국민TDF2050증권자투자신탁(주식혼합-재간접형)(H)C-퇴직e': 1514.0,\n",
       "  'IBK로우코스트TDF2050증권자투자신탁[혼합-재간접형]종류C-Re': 1287.0,\n",
       "  '미래에셋전략배분TDF2050혼합자산자투자신탁종류C-P2e': 1358.0},\n",
       " {'한국투자TDF알아서2050증권자투자신탁H(주식혼합-재간접형)(C-Re)': 1424.0,\n",
       "  '삼성한국형TDF2050증권투자신탁H[주식혼합-재간접형]Cpe(퇴직연금)': 1434.0,\n",
       "  '신한마음편한TDF2050증권투자신탁[주식혼합-재간접형](종류C-re)': 1448.0,\n",
       "  'KB온국민TDF2050증권자투자신탁(주식혼합-재간접형)(H)C-퇴직e': 1543.0,\n",
       "  'IBK로우코스트TDF2050증권자투자신탁[혼합-재간접형]종류C-Re': 1310.0,\n",
       "  '미래에셋전략배분TDF2050혼합자산자투자신탁종류C-P2e': 1382.0},\n",
       " {'한국투자TDF알아서2050증권자투자신탁H(주식혼합-재간접형)(C-Re)': 1425.0,\n",
       "  '삼성한국형TDF2050증권투자신탁H[주식혼합-재간접형]Cpe(퇴직연금)': 1425.0,\n",
       "  '신한마음편한TDF2050증권투자신탁[주식혼합-재간접형](종류C-re)': 1463.0,\n",
       "  'KB온국민TDF2050증권자투자신탁(주식혼합-재간접형)(H)C-퇴직e': 1555.0,\n",
       "  'IBK로우코스트TDF2050증권자투자신탁[혼합-재간접형]종류C-Re': 1334.0,\n",
       "  '미래에셋전략배분TDF2050혼합자산자투자신탁종류C-P2e': 1403.0},\n",
       " {'한국투자TDF알아서2050증권자투자신탁H(주식혼합-재간접형)(C-Re)': 1445.0,\n",
       "  '삼성한국형TDF2050증권투자신탁H[주식혼합-재간접형]Cpe(퇴직연금)': 1427.0,\n",
       "  '신한마음편한TDF2050증권투자신탁[주식혼합-재간접형](종류C-re)': 1480.0,\n",
       "  'KB온국민TDF2050증권자투자신탁(주식혼합-재간접형)(H)C-퇴직e': 1571.0,\n",
       "  'IBK로우코스트TDF2050증권자투자신탁[혼합-재간접형]종류C-Re': 1345.0,\n",
       "  '미래에셋전략배분TDF2050혼합자산자투자신탁종류C-P2e': 1416.0}]"
      ]
     },
     "execution_count": 38,
     "metadata": {},
     "output_type": "execute_result"
    }
   ],
   "source": [
    "d"
   ]
  },
  {
   "cell_type": "code",
   "execution_count": null,
   "id": "edba5133-a072-47b2-b884-410a61cb7511",
   "metadata": {},
   "outputs": [
    {
     "data": {
      "text/plain": [
       "\"\\n            return {\\n                x: dat.index,        // Dates from the index\\n                y: yValues,          // Price history for each ticker\\n                type: 'scatter',\\n                mode: 'lines',\\n                name: ticker,        // Ticker as the legend name\\n                //color: ticker\\n            };\\n            \""
      ]
     },
     "execution_count": 32,
     "metadata": {},
     "output_type": "execute_result"
    }
   ],
   "source": [
    "\"\"\"\n",
    "            return {\n",
    "                x: dat.index,        // Dates from the index\n",
    "                y: yValues,          // Price history for each ticker\n",
    "                type: 'scatter',\n",
    "                mode: 'lines',\n",
    "                name: ticker,        // Ticker as the legend name\n",
    "                //color: ticker\n",
    "            };\n",
    "            \"\"\""
   ]
  },
  {
   "cell_type": "code",
   "execution_count": 31,
   "id": "4e83e114-cdcc-44fc-a4ea-43fd417a42b6",
   "metadata": {},
   "outputs": [
    {
     "data": {
      "application/vnd.plotly.v1+json": {
       "config": {
        "plotlyServerURL": "https://plot.ly"
       },
       "data": [
        {
         "mode": "markers",
         "name": "markers",
         "type": "scatter",
         "x": [
          0,
          0.010101010101010102,
          0.020202020202020204,
          0.030303030303030304,
          0.04040404040404041,
          0.05050505050505051,
          0.06060606060606061,
          0.07070707070707072,
          0.08080808080808081,
          0.09090909090909091,
          0.10101010101010102,
          0.11111111111111112,
          0.12121212121212122,
          0.13131313131313133,
          0.14141414141414144,
          0.15151515151515152,
          0.16161616161616163,
          0.17171717171717174,
          0.18181818181818182,
          0.19191919191919193,
          0.20202020202020204,
          0.21212121212121213,
          0.22222222222222224,
          0.23232323232323235,
          0.24242424242424243,
          0.25252525252525254,
          0.26262626262626265,
          0.27272727272727276,
          0.2828282828282829,
          0.29292929292929293,
          0.30303030303030304,
          0.31313131313131315,
          0.32323232323232326,
          0.33333333333333337,
          0.3434343434343435,
          0.3535353535353536,
          0.36363636363636365,
          0.37373737373737376,
          0.38383838383838387,
          0.393939393939394,
          0.4040404040404041,
          0.4141414141414142,
          0.42424242424242425,
          0.43434343434343436,
          0.4444444444444445,
          0.4545454545454546,
          0.4646464646464647,
          0.4747474747474748,
          0.48484848484848486,
          0.494949494949495,
          0.5050505050505051,
          0.5151515151515152,
          0.5252525252525253,
          0.5353535353535354,
          0.5454545454545455,
          0.5555555555555556,
          0.5656565656565657,
          0.5757575757575758,
          0.5858585858585859,
          0.595959595959596,
          0.6060606060606061,
          0.6161616161616162,
          0.6262626262626263,
          0.6363636363636365,
          0.6464646464646465,
          0.6565656565656566,
          0.6666666666666667,
          0.6767676767676768,
          0.686868686868687,
          0.696969696969697,
          0.7070707070707072,
          0.7171717171717172,
          0.7272727272727273,
          0.7373737373737375,
          0.7474747474747475,
          0.7575757575757577,
          0.7676767676767677,
          0.7777777777777778,
          0.787878787878788,
          0.797979797979798,
          0.8080808080808082,
          0.8181818181818182,
          0.8282828282828284,
          0.8383838383838385,
          0.8484848484848485,
          0.8585858585858587,
          0.8686868686868687,
          0.8787878787878789,
          0.888888888888889,
          0.8989898989898991,
          0.9090909090909092,
          0.9191919191919192,
          0.9292929292929294,
          0.9393939393939394,
          0.9494949494949496,
          0.9595959595959597,
          0.9696969696969697,
          0.9797979797979799,
          0.98989898989899,
          1
         ],
         "y": [
          6.624345363663242,
          4.388243586349924,
          4.4718282477365445,
          3.9270313778438295,
          5.865407629324679,
          2.6984613031197173,
          6.74481176421648,
          4.238793099104897,
          5.319039096057098,
          4.75062962452259,
          6.4621079370449745,
          2.939859290502346,
          4.677582795986493,
          4.615945645331585,
          6.133769442335438,
          3.900108732685969,
          4.8275717924495645,
          4.122141582078628,
          5.042213746715593,
          5.582815213715822,
          3.8993808227870788,
          6.144723709839614,
          5.901590720592796,
          5.502494338901868,
          5.900855949264412,
          4.316272140825667,
          4.877109774481352,
          4.064230565740932,
          4.732111920373984,
          5.530355466738186,
          4.308339248274691,
          4.603246473144023,
          4.312827299880401,
          4.15479435850128,
          4.328753869163181,
          4.987335401081099,
          3.882689651364722,
          5.234415697817092,
          6.659802177109871,
          5.742044160577335,
          4.808164447638385,
          4.112371035915164,
          4.252841706249162,
          6.692454601027746,
          5.050807754776029,
          4.363004353430647,
          5.190915484667466,
          7.100255136478842,
          5.1201589524816296,
          5.617203109707419,
          5.300170319955828,
          4.647750153506482,
          3.85748180197786,
          4.650657277587123,
          4.791105766625222,
          5.5866231911821975,
          5.838983413874505,
          5.931102081303557,
          5.285587325254259,
          5.885141164270728,
          4.245602059003347,
          6.252868155233288,
          5.512929820418009,
          4.7019071648972846,
          5.488518146537497,
          4.924428286978944,
          6.131629387451427,
          6.519816816422199,
          7.185575406533161,
          3.6035036645118623,
          3.5558861945704106,
          4.495534137053549,
          5.160037069447831,
          5.876168921116225,
          5.315634947241605,
          2.977798784175997,
          4.693795987371628,
          5.827974642607246,
          5.230094735364384,
          5.762011180312025,
          4.777671857389641,
          4.799241931070003,
          5.186561390988285,
          5.410051647208256,
          5.198299720126769,
          5.119008645807459,
          4.329337713710969,
          5.37756378632092,
          5.121821270991437,
          6.129483907911919,
          6.198917879901507,
          5.1851564174839435,
          4.624715049909886,
          4.361269592545778,
          5.423494354064113,
          5.077340068348559,
          4.656146324428924,
          5.043596856834247,
          4.379999156051871,
          5.698032034072219
         ]
        }
       ],
       "layout": {
        "autosize": true,
        "template": {
         "data": {
          "bar": [
           {
            "error_x": {
             "color": "#2a3f5f"
            },
            "error_y": {
             "color": "#2a3f5f"
            },
            "marker": {
             "line": {
              "color": "#E5ECF6",
              "width": 0.5
             },
             "pattern": {
              "fillmode": "overlay",
              "size": 10,
              "solidity": 0.2
             }
            },
            "type": "bar"
           }
          ],
          "barpolar": [
           {
            "marker": {
             "line": {
              "color": "#E5ECF6",
              "width": 0.5
             },
             "pattern": {
              "fillmode": "overlay",
              "size": 10,
              "solidity": 0.2
             }
            },
            "type": "barpolar"
           }
          ],
          "carpet": [
           {
            "aaxis": {
             "endlinecolor": "#2a3f5f",
             "gridcolor": "white",
             "linecolor": "white",
             "minorgridcolor": "white",
             "startlinecolor": "#2a3f5f"
            },
            "baxis": {
             "endlinecolor": "#2a3f5f",
             "gridcolor": "white",
             "linecolor": "white",
             "minorgridcolor": "white",
             "startlinecolor": "#2a3f5f"
            },
            "type": "carpet"
           }
          ],
          "choropleth": [
           {
            "colorbar": {
             "outlinewidth": 0,
             "ticks": ""
            },
            "type": "choropleth"
           }
          ],
          "contour": [
           {
            "colorbar": {
             "outlinewidth": 0,
             "ticks": ""
            },
            "colorscale": [
             [
              0,
              "#0d0887"
             ],
             [
              0.1111111111111111,
              "#46039f"
             ],
             [
              0.2222222222222222,
              "#7201a8"
             ],
             [
              0.3333333333333333,
              "#9c179e"
             ],
             [
              0.4444444444444444,
              "#bd3786"
             ],
             [
              0.5555555555555556,
              "#d8576b"
             ],
             [
              0.6666666666666666,
              "#ed7953"
             ],
             [
              0.7777777777777778,
              "#fb9f3a"
             ],
             [
              0.8888888888888888,
              "#fdca26"
             ],
             [
              1,
              "#f0f921"
             ]
            ],
            "type": "contour"
           }
          ],
          "contourcarpet": [
           {
            "colorbar": {
             "outlinewidth": 0,
             "ticks": ""
            },
            "type": "contourcarpet"
           }
          ],
          "heatmap": [
           {
            "colorbar": {
             "outlinewidth": 0,
             "ticks": ""
            },
            "colorscale": [
             [
              0,
              "#0d0887"
             ],
             [
              0.1111111111111111,
              "#46039f"
             ],
             [
              0.2222222222222222,
              "#7201a8"
             ],
             [
              0.3333333333333333,
              "#9c179e"
             ],
             [
              0.4444444444444444,
              "#bd3786"
             ],
             [
              0.5555555555555556,
              "#d8576b"
             ],
             [
              0.6666666666666666,
              "#ed7953"
             ],
             [
              0.7777777777777778,
              "#fb9f3a"
             ],
             [
              0.8888888888888888,
              "#fdca26"
             ],
             [
              1,
              "#f0f921"
             ]
            ],
            "type": "heatmap"
           }
          ],
          "heatmapgl": [
           {
            "colorbar": {
             "outlinewidth": 0,
             "ticks": ""
            },
            "colorscale": [
             [
              0,
              "#0d0887"
             ],
             [
              0.1111111111111111,
              "#46039f"
             ],
             [
              0.2222222222222222,
              "#7201a8"
             ],
             [
              0.3333333333333333,
              "#9c179e"
             ],
             [
              0.4444444444444444,
              "#bd3786"
             ],
             [
              0.5555555555555556,
              "#d8576b"
             ],
             [
              0.6666666666666666,
              "#ed7953"
             ],
             [
              0.7777777777777778,
              "#fb9f3a"
             ],
             [
              0.8888888888888888,
              "#fdca26"
             ],
             [
              1,
              "#f0f921"
             ]
            ],
            "type": "heatmapgl"
           }
          ],
          "histogram": [
           {
            "marker": {
             "pattern": {
              "fillmode": "overlay",
              "size": 10,
              "solidity": 0.2
             }
            },
            "type": "histogram"
           }
          ],
          "histogram2d": [
           {
            "colorbar": {
             "outlinewidth": 0,
             "ticks": ""
            },
            "colorscale": [
             [
              0,
              "#0d0887"
             ],
             [
              0.1111111111111111,
              "#46039f"
             ],
             [
              0.2222222222222222,
              "#7201a8"
             ],
             [
              0.3333333333333333,
              "#9c179e"
             ],
             [
              0.4444444444444444,
              "#bd3786"
             ],
             [
              0.5555555555555556,
              "#d8576b"
             ],
             [
              0.6666666666666666,
              "#ed7953"
             ],
             [
              0.7777777777777778,
              "#fb9f3a"
             ],
             [
              0.8888888888888888,
              "#fdca26"
             ],
             [
              1,
              "#f0f921"
             ]
            ],
            "type": "histogram2d"
           }
          ],
          "histogram2dcontour": [
           {
            "colorbar": {
             "outlinewidth": 0,
             "ticks": ""
            },
            "colorscale": [
             [
              0,
              "#0d0887"
             ],
             [
              0.1111111111111111,
              "#46039f"
             ],
             [
              0.2222222222222222,
              "#7201a8"
             ],
             [
              0.3333333333333333,
              "#9c179e"
             ],
             [
              0.4444444444444444,
              "#bd3786"
             ],
             [
              0.5555555555555556,
              "#d8576b"
             ],
             [
              0.6666666666666666,
              "#ed7953"
             ],
             [
              0.7777777777777778,
              "#fb9f3a"
             ],
             [
              0.8888888888888888,
              "#fdca26"
             ],
             [
              1,
              "#f0f921"
             ]
            ],
            "type": "histogram2dcontour"
           }
          ],
          "mesh3d": [
           {
            "colorbar": {
             "outlinewidth": 0,
             "ticks": ""
            },
            "type": "mesh3d"
           }
          ],
          "parcoords": [
           {
            "line": {
             "colorbar": {
              "outlinewidth": 0,
              "ticks": ""
             }
            },
            "type": "parcoords"
           }
          ],
          "pie": [
           {
            "automargin": true,
            "type": "pie"
           }
          ],
          "scatter": [
           {
            "fillpattern": {
             "fillmode": "overlay",
             "size": 10,
             "solidity": 0.2
            },
            "type": "scatter"
           }
          ],
          "scatter3d": [
           {
            "line": {
             "colorbar": {
              "outlinewidth": 0,
              "ticks": ""
             }
            },
            "marker": {
             "colorbar": {
              "outlinewidth": 0,
              "ticks": ""
             }
            },
            "type": "scatter3d"
           }
          ],
          "scattercarpet": [
           {
            "marker": {
             "colorbar": {
              "outlinewidth": 0,
              "ticks": ""
             }
            },
            "type": "scattercarpet"
           }
          ],
          "scattergeo": [
           {
            "marker": {
             "colorbar": {
              "outlinewidth": 0,
              "ticks": ""
             }
            },
            "type": "scattergeo"
           }
          ],
          "scattergl": [
           {
            "marker": {
             "colorbar": {
              "outlinewidth": 0,
              "ticks": ""
             }
            },
            "type": "scattergl"
           }
          ],
          "scattermapbox": [
           {
            "marker": {
             "colorbar": {
              "outlinewidth": 0,
              "ticks": ""
             }
            },
            "type": "scattermapbox"
           }
          ],
          "scatterpolar": [
           {
            "marker": {
             "colorbar": {
              "outlinewidth": 0,
              "ticks": ""
             }
            },
            "type": "scatterpolar"
           }
          ],
          "scatterpolargl": [
           {
            "marker": {
             "colorbar": {
              "outlinewidth": 0,
              "ticks": ""
             }
            },
            "type": "scatterpolargl"
           }
          ],
          "scatterternary": [
           {
            "marker": {
             "colorbar": {
              "outlinewidth": 0,
              "ticks": ""
             }
            },
            "type": "scatterternary"
           }
          ],
          "surface": [
           {
            "colorbar": {
             "outlinewidth": 0,
             "ticks": ""
            },
            "colorscale": [
             [
              0,
              "#0d0887"
             ],
             [
              0.1111111111111111,
              "#46039f"
             ],
             [
              0.2222222222222222,
              "#7201a8"
             ],
             [
              0.3333333333333333,
              "#9c179e"
             ],
             [
              0.4444444444444444,
              "#bd3786"
             ],
             [
              0.5555555555555556,
              "#d8576b"
             ],
             [
              0.6666666666666666,
              "#ed7953"
             ],
             [
              0.7777777777777778,
              "#fb9f3a"
             ],
             [
              0.8888888888888888,
              "#fdca26"
             ],
             [
              1,
              "#f0f921"
             ]
            ],
            "type": "surface"
           }
          ],
          "table": [
           {
            "cells": {
             "fill": {
              "color": "#EBF0F8"
             },
             "line": {
              "color": "white"
             }
            },
            "header": {
             "fill": {
              "color": "#C8D4E3"
             },
             "line": {
              "color": "white"
             }
            },
            "type": "table"
           }
          ]
         },
         "layout": {
          "annotationdefaults": {
           "arrowcolor": "#2a3f5f",
           "arrowhead": 0,
           "arrowwidth": 1
          },
          "autotypenumbers": "strict",
          "coloraxis": {
           "colorbar": {
            "outlinewidth": 0,
            "ticks": ""
           }
          },
          "colorscale": {
           "diverging": [
            [
             0,
             "#8e0152"
            ],
            [
             0.1,
             "#c51b7d"
            ],
            [
             0.2,
             "#de77ae"
            ],
            [
             0.3,
             "#f1b6da"
            ],
            [
             0.4,
             "#fde0ef"
            ],
            [
             0.5,
             "#f7f7f7"
            ],
            [
             0.6,
             "#e6f5d0"
            ],
            [
             0.7,
             "#b8e186"
            ],
            [
             0.8,
             "#7fbc41"
            ],
            [
             0.9,
             "#4d9221"
            ],
            [
             1,
             "#276419"
            ]
           ],
           "sequential": [
            [
             0,
             "#0d0887"
            ],
            [
             0.1111111111111111,
             "#46039f"
            ],
            [
             0.2222222222222222,
             "#7201a8"
            ],
            [
             0.3333333333333333,
             "#9c179e"
            ],
            [
             0.4444444444444444,
             "#bd3786"
            ],
            [
             0.5555555555555556,
             "#d8576b"
            ],
            [
             0.6666666666666666,
             "#ed7953"
            ],
            [
             0.7777777777777778,
             "#fb9f3a"
            ],
            [
             0.8888888888888888,
             "#fdca26"
            ],
            [
             1,
             "#f0f921"
            ]
           ],
           "sequentialminus": [
            [
             0,
             "#0d0887"
            ],
            [
             0.1111111111111111,
             "#46039f"
            ],
            [
             0.2222222222222222,
             "#7201a8"
            ],
            [
             0.3333333333333333,
             "#9c179e"
            ],
            [
             0.4444444444444444,
             "#bd3786"
            ],
            [
             0.5555555555555556,
             "#d8576b"
            ],
            [
             0.6666666666666666,
             "#ed7953"
            ],
            [
             0.7777777777777778,
             "#fb9f3a"
            ],
            [
             0.8888888888888888,
             "#fdca26"
            ],
            [
             1,
             "#f0f921"
            ]
           ]
          },
          "colorway": [
           "#636efa",
           "#EF553B",
           "#00cc96",
           "#ab63fa",
           "#FFA15A",
           "#19d3f3",
           "#FF6692",
           "#B6E880",
           "#FF97FF",
           "#FECB52"
          ],
          "font": {
           "color": "#2a3f5f"
          },
          "geo": {
           "bgcolor": "white",
           "lakecolor": "white",
           "landcolor": "#E5ECF6",
           "showlakes": true,
           "showland": true,
           "subunitcolor": "white"
          },
          "hoverlabel": {
           "align": "left"
          },
          "hovermode": "closest",
          "mapbox": {
           "style": "light"
          },
          "paper_bgcolor": "white",
          "plot_bgcolor": "#E5ECF6",
          "polar": {
           "angularaxis": {
            "gridcolor": "white",
            "linecolor": "white",
            "ticks": ""
           },
           "bgcolor": "#E5ECF6",
           "radialaxis": {
            "gridcolor": "white",
            "linecolor": "white",
            "ticks": ""
           }
          },
          "scene": {
           "xaxis": {
            "backgroundcolor": "#E5ECF6",
            "gridcolor": "white",
            "gridwidth": 2,
            "linecolor": "white",
            "showbackground": true,
            "ticks": "",
            "zerolinecolor": "white"
           },
           "yaxis": {
            "backgroundcolor": "#E5ECF6",
            "gridcolor": "white",
            "gridwidth": 2,
            "linecolor": "white",
            "showbackground": true,
            "ticks": "",
            "zerolinecolor": "white"
           },
           "zaxis": {
            "backgroundcolor": "#E5ECF6",
            "gridcolor": "white",
            "gridwidth": 2,
            "linecolor": "white",
            "showbackground": true,
            "ticks": "",
            "zerolinecolor": "white"
           }
          },
          "shapedefaults": {
           "line": {
            "color": "#2a3f5f"
           }
          },
          "ternary": {
           "aaxis": {
            "gridcolor": "white",
            "linecolor": "white",
            "ticks": ""
           },
           "baxis": {
            "gridcolor": "white",
            "linecolor": "white",
            "ticks": ""
           },
           "bgcolor": "#E5ECF6",
           "caxis": {
            "gridcolor": "white",
            "linecolor": "white",
            "ticks": ""
           }
          },
          "title": {
           "x": 0.05
          },
          "xaxis": {
           "automargin": true,
           "gridcolor": "white",
           "linecolor": "white",
           "ticks": "",
           "title": {
            "standoff": 15
           },
           "zerolinecolor": "white",
           "zerolinewidth": 2
          },
          "yaxis": {
           "automargin": true,
           "gridcolor": "white",
           "linecolor": "white",
           "ticks": "",
           "title": {
            "standoff": 15
           },
           "zerolinecolor": "white",
           "zerolinewidth": 2
          }
         }
        },
        "xaxis": {
         "autorange": true,
         "range": [
          -0.060004270766602606,
          1.0600042707666026
         ],
         "type": "linear"
        },
        "yaxis": {
         "autorange": true,
         "range": [
          2.3281654790516177,
          7.5558712306012605
         ],
         "type": "linear"
        }
       }
      },
      "image/png": "[encoded data removed]",
      "text/html": [
       "<div>                            <div id=\"327867a0-e999-4193-986b-17493abd64ec\" class=\"plotly-graph-div\" style=\"height:525px; width:100%;\"></div>            <script type=\"text/javascript\">                require([\"plotly\"], function(Plotly) {                    window.PLOTLYENV=window.PLOTLYENV || {};                                    if (document.getElementById(\"327867a0-e999-4193-986b-17493abd64ec\")) {                    Plotly.newPlot(                        \"327867a0-e999-4193-986b-17493abd64ec\",                        [{\"mode\":\"markers\",\"name\":\"markers\",\"x\":[0.0,0.010101010101010102,0.020202020202020204,0.030303030303030304,0.04040404040404041,0.05050505050505051,0.06060606060606061,0.07070707070707072,0.08080808080808081,0.09090909090909091,0.10101010101010102,0.11111111111111112,0.12121212121212122,0.13131313131313133,0.14141414141414144,0.15151515151515152,0.16161616161616163,0.17171717171717174,0.18181818181818182,0.19191919191919193,0.20202020202020204,0.21212121212121213,0.22222222222222224,0.23232323232323235,0.24242424242424243,0.25252525252525254,0.26262626262626265,0.27272727272727276,0.2828282828282829,0.29292929292929293,0.30303030303030304,0.31313131313131315,0.32323232323232326,0.33333333333333337,0.3434343434343435,0.3535353535353536,0.36363636363636365,0.37373737373737376,0.38383838383838387,0.393939393939394,0.4040404040404041,0.4141414141414142,0.42424242424242425,0.43434343434343436,0.4444444444444445,0.4545454545454546,0.4646464646464647,0.4747474747474748,0.48484848484848486,0.494949494949495,0.5050505050505051,0.5151515151515152,0.5252525252525253,0.5353535353535354,0.5454545454545455,0.5555555555555556,0.5656565656565657,0.5757575757575758,0.5858585858585859,0.595959595959596,0.6060606060606061,0.6161616161616162,0.6262626262626263,0.6363636363636365,0.6464646464646465,0.6565656565656566,0.6666666666666667,0.6767676767676768,0.686868686868687,0.696969696969697,0.7070707070707072,0.7171717171717172,0.7272727272727273,0.7373737373737375,0.7474747474747475,0.7575757575757577,0.7676767676767677,0.7777777777777778,0.787878787878788,0.797979797979798,0.8080808080808082,0.8181818181818182,0.8282828282828284,0.8383838383838385,0.8484848484848485,0.8585858585858587,0.8686868686868687,0.8787878787878789,0.888888888888889,0.8989898989898991,0.9090909090909092,0.9191919191919192,0.9292929292929294,0.9393939393939394,0.9494949494949496,0.9595959595959597,0.9696969696969697,0.9797979797979799,0.98989898989899,1.0],\"y\":[6.624345363663242,4.388243586349924,4.4718282477365445,3.9270313778438295,5.865407629324679,2.6984613031197173,6.74481176421648,4.238793099104897,5.319039096057098,4.75062962452259,6.4621079370449745,2.939859290502346,4.677582795986493,4.615945645331585,6.133769442335438,3.900108732685969,4.8275717924495645,4.122141582078628,5.042213746715593,5.582815213715822,3.8993808227870788,6.144723709839614,5.901590720592796,5.502494338901868,5.900855949264412,4.316272140825667,4.877109774481352,4.064230565740932,4.732111920373984,5.530355466738186,4.308339248274691,4.603246473144023,4.312827299880401,4.15479435850128,4.328753869163181,4.987335401081099,3.882689651364722,5.234415697817092,6.659802177109871,5.742044160577335,4.808164447638385,4.112371035915164,4.252841706249162,6.692454601027746,5.050807754776029,4.363004353430647,5.190915484667466,7.100255136478842,5.1201589524816296,5.617203109707419,5.300170319955828,4.647750153506482,3.85748180197786,4.650657277587123,4.791105766625222,5.5866231911821975,5.838983413874505,5.931102081303557,5.285587325254259,5.885141164270728,4.245602059003347,6.252868155233288,5.512929820418009,4.7019071648972846,5.488518146537497,4.924428286978944,6.131629387451427,6.519816816422199,7.185575406533161,3.6035036645118623,3.5558861945704106,4.495534137053549,5.160037069447831,5.876168921116225,5.315634947241605,2.977798784175997,4.693795987371628,5.827974642607246,5.230094735364384,5.762011180312025,4.777671857389641,4.799241931070003,5.186561390988285,5.410051647208256,5.198299720126769,5.119008645807459,4.329337713710969,5.37756378632092,5.121821270991437,6.129483907911919,6.198917879901507,5.1851564174839435,4.624715049909886,4.361269592545778,5.423494354064113,5.077340068348559,4.656146324428924,5.043596856834247,4.379999156051871,5.698032034072219],\"type\":\"scatter\"}],                        {\"template\":{\"data\":{\"histogram2dcontour\":[{\"type\":\"histogram2dcontour\",\"colorbar\":{\"outlinewidth\":0,\"ticks\":\"\"},\"colorscale\":[[0.0,\"#0d0887\"],[0.1111111111111111,\"#46039f\"],[0.2222222222222222,\"#7201a8\"],[0.3333333333333333,\"#9c179e\"],[0.4444444444444444,\"#bd3786\"],[0.5555555555555556,\"#d8576b\"],[0.6666666666666666,\"#ed7953\"],[0.7777777777777778,\"#fb9f3a\"],[0.8888888888888888,\"#fdca26\"],[1.0,\"#f0f921\"]]}],\"choropleth\":[{\"type\":\"choropleth\",\"colorbar\":{\"outlinewidth\":0,\"ticks\":\"\"}}],\"histogram2d\":[{\"type\":\"histogram2d\",\"colorbar\":{\"outlinewidth\":0,\"ticks\":\"\"},\"colorscale\":[[0.0,\"#0d0887\"],[0.1111111111111111,\"#46039f\"],[0.2222222222222222,\"#7201a8\"],[0.3333333333333333,\"#9c179e\"],[0.4444444444444444,\"#bd3786\"],[0.5555555555555556,\"#d8576b\"],[0.6666666666666666,\"#ed7953\"],[0.7777777777777778,\"#fb9f3a\"],[0.8888888888888888,\"#fdca26\"],[1.0,\"#f0f921\"]]}],\"heatmap\":[{\"type\":\"heatmap\",\"colorbar\":{\"outlinewidth\":0,\"ticks\":\"\"},\"colorscale\":[[0.0,\"#0d0887\"],[0.1111111111111111,\"#46039f\"],[0.2222222222222222,\"#7201a8\"],[0.3333333333333333,\"#9c179e\"],[0.4444444444444444,\"#bd3786\"],[0.5555555555555556,\"#d8576b\"],[0.6666666666666666,\"#ed7953\"],[0.7777777777777778,\"#fb9f3a\"],[0.8888888888888888,\"#fdca26\"],[1.0,\"#f0f921\"]]}],\"heatmapgl\":[{\"type\":\"heatmapgl\",\"colorbar\":{\"outlinewidth\":0,\"ticks\":\"\"},\"colorscale\":[[0.0,\"#0d0887\"],[0.1111111111111111,\"#46039f\"],[0.2222222222222222,\"#7201a8\"],[0.3333333333333333,\"#9c179e\"],[0.4444444444444444,\"#bd3786\"],[0.5555555555555556,\"#d8576b\"],[0.6666666666666666,\"#ed7953\"],[0.7777777777777778,\"#fb9f3a\"],[0.8888888888888888,\"#fdca26\"],[1.0,\"#f0f921\"]]}],\"contourcarpet\":[{\"type\":\"contourcarpet\",\"colorbar\":{\"outlinewidth\":0,\"ticks\":\"\"}}],\"contour\":[{\"type\":\"contour\",\"colorbar\":{\"outlinewidth\":0,\"ticks\":\"\"},\"colorscale\":[[0.0,\"#0d0887\"],[0.1111111111111111,\"#46039f\"],[0.2222222222222222,\"#7201a8\"],[0.3333333333333333,\"#9c179e\"],[0.4444444444444444,\"#bd3786\"],[0.5555555555555556,\"#d8576b\"],[0.6666666666666666,\"#ed7953\"],[0.7777777777777778,\"#fb9f3a\"],[0.8888888888888888,\"#fdca26\"],[1.0,\"#f0f921\"]]}],\"surface\":[{\"type\":\"surface\",\"colorbar\":{\"outlinewidth\":0,\"ticks\":\"\"},\"colorscale\":[[0.0,\"#0d0887\"],[0.1111111111111111,\"#46039f\"],[0.2222222222222222,\"#7201a8\"],[0.3333333333333333,\"#9c179e\"],[0.4444444444444444,\"#bd3786\"],[0.5555555555555556,\"#d8576b\"],[0.6666666666666666,\"#ed7953\"],[0.7777777777777778,\"#fb9f3a\"],[0.8888888888888888,\"#fdca26\"],[1.0,\"#f0f921\"]]}],\"mesh3d\":[{\"type\":\"mesh3d\",\"colorbar\":{\"outlinewidth\":0,\"ticks\":\"\"}}],\"scatter\":[{\"fillpattern\":{\"fillmode\":\"overlay\",\"size\":10,\"solidity\":0.2},\"type\":\"scatter\"}],\"parcoords\":[{\"type\":\"parcoords\",\"line\":{\"colorbar\":{\"outlinewidth\":0,\"ticks\":\"\"}}}],\"scatterpolargl\":[{\"type\":\"scatterpolargl\",\"marker\":{\"colorbar\":{\"outlinewidth\":0,\"ticks\":\"\"}}}],\"bar\":[{\"error_x\":{\"color\":\"#2a3f5f\"},\"error_y\":{\"color\":\"#2a3f5f\"},\"marker\":{\"line\":{\"color\":\"#E5ECF6\",\"width\":0.5},\"pattern\":{\"fillmode\":\"overlay\",\"size\":10,\"solidity\":0.2}},\"type\":\"bar\"}],\"scattergeo\":[{\"type\":\"scattergeo\",\"marker\":{\"colorbar\":{\"outlinewidth\":0,\"ticks\":\"\"}}}],\"scatterpolar\":[{\"type\":\"scatterpolar\",\"marker\":{\"colorbar\":{\"outlinewidth\":0,\"ticks\":\"\"}}}],\"histogram\":[{\"marker\":{\"pattern\":{\"fillmode\":\"overlay\",\"size\":10,\"solidity\":0.2}},\"type\":\"histogram\"}],\"scattergl\":[{\"type\":\"scattergl\",\"marker\":{\"colorbar\":{\"outlinewidth\":0,\"ticks\":\"\"}}}],\"scatter3d\":[{\"type\":\"scatter3d\",\"line\":{\"colorbar\":{\"outlinewidth\":0,\"ticks\":\"\"}},\"marker\":{\"colorbar\":{\"outlinewidth\":0,\"ticks\":\"\"}}}],\"scattermapbox\":[{\"type\":\"scattermapbox\",\"marker\":{\"colorbar\":{\"outlinewidth\":0,\"ticks\":\"\"}}}],\"scatterternary\":[{\"type\":\"scatterternary\",\"marker\":{\"colorbar\":{\"outlinewidth\":0,\"ticks\":\"\"}}}],\"scattercarpet\":[{\"type\":\"scattercarpet\",\"marker\":{\"colorbar\":{\"outlinewidth\":0,\"ticks\":\"\"}}}],\"carpet\":[{\"aaxis\":{\"endlinecolor\":\"#2a3f5f\",\"gridcolor\":\"white\",\"linecolor\":\"white\",\"minorgridcolor\":\"white\",\"startlinecolor\":\"#2a3f5f\"},\"baxis\":{\"endlinecolor\":\"#2a3f5f\",\"gridcolor\":\"white\",\"linecolor\":\"white\",\"minorgridcolor\":\"white\",\"startlinecolor\":\"#2a3f5f\"},\"type\":\"carpet\"}],\"table\":[{\"cells\":{\"fill\":{\"color\":\"#EBF0F8\"},\"line\":{\"color\":\"white\"}},\"header\":{\"fill\":{\"color\":\"#C8D4E3\"},\"line\":{\"color\":\"white\"}},\"type\":\"table\"}],\"barpolar\":[{\"marker\":{\"line\":{\"color\":\"#E5ECF6\",\"width\":0.5},\"pattern\":{\"fillmode\":\"overlay\",\"size\":10,\"solidity\":0.2}},\"type\":\"barpolar\"}],\"pie\":[{\"automargin\":true,\"type\":\"pie\"}]},\"layout\":{\"autotypenumbers\":\"strict\",\"colorway\":[\"#636efa\",\"#EF553B\",\"#00cc96\",\"#ab63fa\",\"#FFA15A\",\"#19d3f3\",\"#FF6692\",\"#B6E880\",\"#FF97FF\",\"#FECB52\"],\"font\":{\"color\":\"#2a3f5f\"},\"hovermode\":\"closest\",\"hoverlabel\":{\"align\":\"left\"},\"paper_bgcolor\":\"white\",\"plot_bgcolor\":\"#E5ECF6\",\"polar\":{\"bgcolor\":\"#E5ECF6\",\"angularaxis\":{\"gridcolor\":\"white\",\"linecolor\":\"white\",\"ticks\":\"\"},\"radialaxis\":{\"gridcolor\":\"white\",\"linecolor\":\"white\",\"ticks\":\"\"}},\"ternary\":{\"bgcolor\":\"#E5ECF6\",\"aaxis\":{\"gridcolor\":\"white\",\"linecolor\":\"white\",\"ticks\":\"\"},\"baxis\":{\"gridcolor\":\"white\",\"linecolor\":\"white\",\"ticks\":\"\"},\"caxis\":{\"gridcolor\":\"white\",\"linecolor\":\"white\",\"ticks\":\"\"}},\"coloraxis\":{\"colorbar\":{\"outlinewidth\":0,\"ticks\":\"\"}},\"colorscale\":{\"sequential\":[[0.0,\"#0d0887\"],[0.1111111111111111,\"#46039f\"],[0.2222222222222222,\"#7201a8\"],[0.3333333333333333,\"#9c179e\"],[0.4444444444444444,\"#bd3786\"],[0.5555555555555556,\"#d8576b\"],[0.6666666666666666,\"#ed7953\"],[0.7777777777777778,\"#fb9f3a\"],[0.8888888888888888,\"#fdca26\"],[1.0,\"#f0f921\"]],\"sequentialminus\":[[0.0,\"#0d0887\"],[0.1111111111111111,\"#46039f\"],[0.2222222222222222,\"#7201a8\"],[0.3333333333333333,\"#9c179e\"],[0.4444444444444444,\"#bd3786\"],[0.5555555555555556,\"#d8576b\"],[0.6666666666666666,\"#ed7953\"],[0.7777777777777778,\"#fb9f3a\"],[0.8888888888888888,\"#fdca26\"],[1.0,\"#f0f921\"]],\"diverging\":[[0,\"#8e0152\"],[0.1,\"#c51b7d\"],[0.2,\"#de77ae\"],[0.3,\"#f1b6da\"],[0.4,\"#fde0ef\"],[0.5,\"#f7f7f7\"],[0.6,\"#e6f5d0\"],[0.7,\"#b8e186\"],[0.8,\"#7fbc41\"],[0.9,\"#4d9221\"],[1,\"#276419\"]]},\"xaxis\":{\"gridcolor\":\"white\",\"linecolor\":\"white\",\"ticks\":\"\",\"title\":{\"standoff\":15},\"zerolinecolor\":\"white\",\"automargin\":true,\"zerolinewidth\":2},\"yaxis\":{\"gridcolor\":\"white\",\"linecolor\":\"white\",\"ticks\":\"\",\"title\":{\"standoff\":15},\"zerolinecolor\":\"white\",\"automargin\":true,\"zerolinewidth\":2},\"scene\":{\"xaxis\":{\"backgroundcolor\":\"#E5ECF6\",\"gridcolor\":\"white\",\"linecolor\":\"white\",\"showbackground\":true,\"ticks\":\"\",\"zerolinecolor\":\"white\",\"gridwidth\":2},\"yaxis\":{\"backgroundcolor\":\"#E5ECF6\",\"gridcolor\":\"white\",\"linecolor\":\"white\",\"showbackground\":true,\"ticks\":\"\",\"zerolinecolor\":\"white\",\"gridwidth\":2},\"zaxis\":{\"backgroundcolor\":\"#E5ECF6\",\"gridcolor\":\"white\",\"linecolor\":\"white\",\"showbackground\":true,\"ticks\":\"\",\"zerolinecolor\":\"white\",\"gridwidth\":2}},\"shapedefaults\":{\"line\":{\"color\":\"#2a3f5f\"}},\"annotationdefaults\":{\"arrowcolor\":\"#2a3f5f\",\"arrowhead\":0,\"arrowwidth\":1},\"geo\":{\"bgcolor\":\"white\",\"landcolor\":\"#E5ECF6\",\"subunitcolor\":\"white\",\"showland\":true,\"showlakes\":true,\"lakecolor\":\"white\"},\"title\":{\"x\":0.05},\"mapbox\":{\"style\":\"light\"}}}},                        {\"responsive\": true}                    ).then(function(){\n",
       "                            \n",
       "var gd = document.getElementById('327867a0-e999-4193-986b-17493abd64ec');\n",
       "var x = new MutationObserver(function (mutations, observer) {{\n",
       "        var display = window.getComputedStyle(gd).display;\n",
       "        if (!display || display === 'none') {{\n",
       "            console.log([gd, 'removed!']);\n",
       "            Plotly.purge(gd);\n",
       "            observer.disconnect();\n",
       "        }}\n",
       "}});\n",
       "\n",
       "// Listen for the removal of the full notebook cells\n",
       "var notebookContainer = gd.closest('#notebook-container');\n",
       "if (notebookContainer) {{\n",
       "    x.observe(notebookContainer, {childList: true});\n",
       "}}\n",
       "\n",
       "// Listen for the clearing of the current output cell\n",
       "var outputEl = gd.closest('.output');\n",
       "if (outputEl) {{\n",
       "    x.observe(outputEl, {childList: true});\n",
       "}}\n",
       "\n",
       "                        })                };                });            </script>        </div>"
      ]
     },
     "metadata": {},
     "output_type": "display_data"
    }
   ],
   "source": [
    "import plotly.graph_objects as go\n",
    "\n",
    "# Create random data with numpy\n",
    "import numpy as np\n",
    "np.random.seed(1)\n",
    "\n",
    "N = 100\n",
    "random_x = np.linspace(0, 1, N)\n",
    "random_y0 = np.random.randn(N) + 5\n",
    "random_y1 = np.random.randn(N)\n",
    "random_y2 = np.random.randn(N) - 5\n",
    "\n",
    "fig = go.Figure()\n",
    "\n",
    "# Add traces\n",
    "fig.add_trace(go.Scatter(x=random_x, y=random_y0,\n",
    "                    mode='markers',\n",
    "                    name='markers'))\n",
    "\n",
    "\n",
    "\"\"\"\n",
    "            return {\n",
    "                x: dat.index,        // Dates from the index\n",
    "                y: yValues,          // Price history for each ticker\n",
    "                type: 'scatter',\n",
    "                mode: 'lines',\n",
    "                name: ticker,        // Ticker as the legend name\n",
    "                //color: ticker\n",
    "            };\n",
    "            \"\"\""
   ]
  },
  {
   "cell_type": "code",
   "execution_count": 39,
   "id": "fd32459a-e019-4b9a-8541-6f3b9d02c378",
   "metadata": {},
   "outputs": [
    {
     "data": {
      "application/vnd.plotly.v1+json": {
       "config": {
        "plotlyServerURL": "https://plot.ly"
       },
       "data": [
        {
         "marker": {
          "color": [
           4849377,
           736732,
           6731484,
           2966369,
           38802500,
           5355866,
           3596677,
           935614,
           658893,
           19893297,
           10097343,
           1419561,
           1634464,
           12880580,
           6596855,
           3107126,
           2904021,
           4413457,
           4649676,
           1330089,
           5976407,
           6745408,
           9909877,
           5457173,
           2994079,
           6063589,
           1023579,
           1881503,
           2839098,
           1326813,
           8938175,
           2085572,
           19746227,
           9943964,
           739482,
           11594163,
           3878051,
           3970239,
           12787209,
           3548397,
           1055173,
           4832482,
           853175,
           6549352,
           26956958,
           2942902,
           626562,
           8326289,
           7061530,
           1850326,
           5757564,
           584153
          ]
         },
         "mode": "markers",
         "text": [
          "Alabama",
          "Alaska",
          "Arizona",
          "Arkansas",
          "California",
          "Colorado",
          "Connecticut",
          "Delaware",
          "District of Columbia",
          "Florida",
          "Georgia",
          "Hawaii",
          "Idaho",
          "Illinois",
          "Indiana",
          "Iowa",
          "Kansas",
          "Kentucky",
          "Louisiana",
          "Maine",
          "Maryland",
          "Massachusetts",
          "Michigan",
          "Minnesota",
          "Mississippi",
          "Missouri",
          "Montana",
          "Nebraska",
          "Nevada",
          "New Hampshire",
          "New Jersey",
          "New Mexico",
          "New York",
          "North Carolina",
          "North Dakota",
          "Ohio",
          "Oklahoma",
          "Oregon",
          "Pennsylvania",
          "Puerto Rico",
          "Rhode Island",
          "South Carolina",
          "South Dakota",
          "Tennessee",
          "Texas",
          "Utah",
          "Vermont",
          "Virginia",
          "Washington",
          "West Virginia",
          "Wisconsin",
          "Wyoming"
         ],
         "type": "scatter",
         "x": [
          "AL",
          "AK",
          "AZ",
          "AR",
          "CA",
          "CO",
          "CT",
          "DE",
          "DC",
          "FL",
          "GA",
          "HI",
          "ID",
          "IL",
          "IN",
          "IA",
          "KS",
          "KY",
          "LA",
          "ME",
          "MD",
          "MA",
          "MI",
          "MN",
          "MS",
          "MO",
          "MT",
          "NE",
          "NV",
          "NH",
          "NJ",
          "NM",
          "NY",
          "NC",
          "ND",
          "OH",
          "OK",
          "OR",
          "PA",
          "PR",
          "RI",
          "SC",
          "SD",
          "TN",
          "TX",
          "UT",
          "VT",
          "VA",
          "WA",
          "WV",
          "WI",
          "WY"
         ],
         "y": [
          4849377,
          736732,
          6731484,
          2966369,
          38802500,
          5355866,
          3596677,
          935614,
          658893,
          19893297,
          10097343,
          1419561,
          1634464,
          12880580,
          6596855,
          3107126,
          2904021,
          4413457,
          4649676,
          1330089,
          5976407,
          6745408,
          9909877,
          5457173,
          2994079,
          6063589,
          1023579,
          1881503,
          2839098,
          1326813,
          8938175,
          2085572,
          19746227,
          9943964,
          739482,
          11594163,
          3878051,
          3970239,
          12787209,
          3548397,
          1055173,
          4832482,
          853175,
          6549352,
          26956958,
          2942902,
          626562,
          8326289,
          7061530,
          1850326,
          5757564,
          584153
         ]
        }
       ],
       "layout": {
        "autosize": true,
        "template": {
         "data": {
          "bar": [
           {
            "error_x": {
             "color": "#2a3f5f"
            },
            "error_y": {
             "color": "#2a3f5f"
            },
            "marker": {
             "line": {
              "color": "#E5ECF6",
              "width": 0.5
             },
             "pattern": {
              "fillmode": "overlay",
              "size": 10,
              "solidity": 0.2
             }
            },
            "type": "bar"
           }
          ],
          "barpolar": [
           {
            "marker": {
             "line": {
              "color": "#E5ECF6",
              "width": 0.5
             },
             "pattern": {
              "fillmode": "overlay",
              "size": 10,
              "solidity": 0.2
             }
            },
            "type": "barpolar"
           }
          ],
          "carpet": [
           {
            "aaxis": {
             "endlinecolor": "#2a3f5f",
             "gridcolor": "white",
             "linecolor": "white",
             "minorgridcolor": "white",
             "startlinecolor": "#2a3f5f"
            },
            "baxis": {
             "endlinecolor": "#2a3f5f",
             "gridcolor": "white",
             "linecolor": "white",
             "minorgridcolor": "white",
             "startlinecolor": "#2a3f5f"
            },
            "type": "carpet"
           }
          ],
          "choropleth": [
           {
            "colorbar": {
             "outlinewidth": 0,
             "ticks": ""
            },
            "type": "choropleth"
           }
          ],
          "contour": [
           {
            "colorbar": {
             "outlinewidth": 0,
             "ticks": ""
            },
            "colorscale": [
             [
              0,
              "#0d0887"
             ],
             [
              0.1111111111111111,
              "#46039f"
             ],
             [
              0.2222222222222222,
              "#7201a8"
             ],
             [
              0.3333333333333333,
              "#9c179e"
             ],
             [
              0.4444444444444444,
              "#bd3786"
             ],
             [
              0.5555555555555556,
              "#d8576b"
             ],
             [
              0.6666666666666666,
              "#ed7953"
             ],
             [
              0.7777777777777778,
              "#fb9f3a"
             ],
             [
              0.8888888888888888,
              "#fdca26"
             ],
             [
              1,
              "#f0f921"
             ]
            ],
            "type": "contour"
           }
          ],
          "contourcarpet": [
           {
            "colorbar": {
             "outlinewidth": 0,
             "ticks": ""
            },
            "type": "contourcarpet"
           }
          ],
          "heatmap": [
           {
            "colorbar": {
             "outlinewidth": 0,
             "ticks": ""
            },
            "colorscale": [
             [
              0,
              "#0d0887"
             ],
             [
              0.1111111111111111,
              "#46039f"
             ],
             [
              0.2222222222222222,
              "#7201a8"
             ],
             [
              0.3333333333333333,
              "#9c179e"
             ],
             [
              0.4444444444444444,
              "#bd3786"
             ],
             [
              0.5555555555555556,
              "#d8576b"
             ],
             [
              0.6666666666666666,
              "#ed7953"
             ],
             [
              0.7777777777777778,
              "#fb9f3a"
             ],
             [
              0.8888888888888888,
              "#fdca26"
             ],
             [
              1,
              "#f0f921"
             ]
            ],
            "type": "heatmap"
           }
          ],
          "heatmapgl": [
           {
            "colorbar": {
             "outlinewidth": 0,
             "ticks": ""
            },
            "colorscale": [
             [
              0,
              "#0d0887"
             ],
             [
              0.1111111111111111,
              "#46039f"
             ],
             [
              0.2222222222222222,
              "#7201a8"
             ],
             [
              0.3333333333333333,
              "#9c179e"
             ],
             [
              0.4444444444444444,
              "#bd3786"
             ],
             [
              0.5555555555555556,
              "#d8576b"
             ],
             [
              0.6666666666666666,
              "#ed7953"
             ],
             [
              0.7777777777777778,
              "#fb9f3a"
             ],
             [
              0.8888888888888888,
              "#fdca26"
             ],
             [
              1,
              "#f0f921"
             ]
            ],
            "type": "heatmapgl"
           }
          ],
          "histogram": [
           {
            "marker": {
             "pattern": {
              "fillmode": "overlay",
              "size": 10,
              "solidity": 0.2
             }
            },
            "type": "histogram"
           }
          ],
          "histogram2d": [
           {
            "colorbar": {
             "outlinewidth": 0,
             "ticks": ""
            },
            "colorscale": [
             [
              0,
              "#0d0887"
             ],
             [
              0.1111111111111111,
              "#46039f"
             ],
             [
              0.2222222222222222,
              "#7201a8"
             ],
             [
              0.3333333333333333,
              "#9c179e"
             ],
             [
              0.4444444444444444,
              "#bd3786"
             ],
             [
              0.5555555555555556,
              "#d8576b"
             ],
             [
              0.6666666666666666,
              "#ed7953"
             ],
             [
              0.7777777777777778,
              "#fb9f3a"
             ],
             [
              0.8888888888888888,
              "#fdca26"
             ],
             [
              1,
              "#f0f921"
             ]
            ],
            "type": "histogram2d"
           }
          ],
          "histogram2dcontour": [
           {
            "colorbar": {
             "outlinewidth": 0,
             "ticks": ""
            },
            "colorscale": [
             [
              0,
              "#0d0887"
             ],
             [
              0.1111111111111111,
              "#46039f"
             ],
             [
              0.2222222222222222,
              "#7201a8"
             ],
             [
              0.3333333333333333,
              "#9c179e"
             ],
             [
              0.4444444444444444,
              "#bd3786"
             ],
             [
              0.5555555555555556,
              "#d8576b"
             ],
             [
              0.6666666666666666,
              "#ed7953"
             ],
             [
              0.7777777777777778,
              "#fb9f3a"
             ],
             [
              0.8888888888888888,
              "#fdca26"
             ],
             [
              1,
              "#f0f921"
             ]
            ],
            "type": "histogram2dcontour"
           }
          ],
          "mesh3d": [
           {
            "colorbar": {
             "outlinewidth": 0,
             "ticks": ""
            },
            "type": "mesh3d"
           }
          ],
          "parcoords": [
           {
            "line": {
             "colorbar": {
              "outlinewidth": 0,
              "ticks": ""
             }
            },
            "type": "parcoords"
           }
          ],
          "pie": [
           {
            "automargin": true,
            "type": "pie"
           }
          ],
          "scatter": [
           {
            "fillpattern": {
             "fillmode": "overlay",
             "size": 10,
             "solidity": 0.2
            },
            "type": "scatter"
           }
          ],
          "scatter3d": [
           {
            "line": {
             "colorbar": {
              "outlinewidth": 0,
              "ticks": ""
             }
            },
            "marker": {
             "colorbar": {
              "outlinewidth": 0,
              "ticks": ""
             }
            },
            "type": "scatter3d"
           }
          ],
          "scattercarpet": [
           {
            "marker": {
             "colorbar": {
              "outlinewidth": 0,
              "ticks": ""
             }
            },
            "type": "scattercarpet"
           }
          ],
          "scattergeo": [
           {
            "marker": {
             "colorbar": {
              "outlinewidth": 0,
              "ticks": ""
             }
            },
            "type": "scattergeo"
           }
          ],
          "scattergl": [
           {
            "marker": {
             "colorbar": {
              "outlinewidth": 0,
              "ticks": ""
             }
            },
            "type": "scattergl"
           }
          ],
          "scattermapbox": [
           {
            "marker": {
             "colorbar": {
              "outlinewidth": 0,
              "ticks": ""
             }
            },
            "type": "scattermapbox"
           }
          ],
          "scatterpolar": [
           {
            "marker": {
             "colorbar": {
              "outlinewidth": 0,
              "ticks": ""
             }
            },
            "type": "scatterpolar"
           }
          ],
          "scatterpolargl": [
           {
            "marker": {
             "colorbar": {
              "outlinewidth": 0,
              "ticks": ""
             }
            },
            "type": "scatterpolargl"
           }
          ],
          "scatterternary": [
           {
            "marker": {
             "colorbar": {
              "outlinewidth": 0,
              "ticks": ""
             }
            },
            "type": "scatterternary"
           }
          ],
          "surface": [
           {
            "colorbar": {
             "outlinewidth": 0,
             "ticks": ""
            },
            "colorscale": [
             [
              0,
              "#0d0887"
             ],
             [
              0.1111111111111111,
              "#46039f"
             ],
             [
              0.2222222222222222,
              "#7201a8"
             ],
             [
              0.3333333333333333,
              "#9c179e"
             ],
             [
              0.4444444444444444,
              "#bd3786"
             ],
             [
              0.5555555555555556,
              "#d8576b"
             ],
             [
              0.6666666666666666,
              "#ed7953"
             ],
             [
              0.7777777777777778,
              "#fb9f3a"
             ],
             [
              0.8888888888888888,
              "#fdca26"
             ],
             [
              1,
              "#f0f921"
             ]
            ],
            "type": "surface"
           }
          ],
          "table": [
           {
            "cells": {
             "fill": {
              "color": "#EBF0F8"
             },
             "line": {
              "color": "white"
             }
            },
            "header": {
             "fill": {
              "color": "#C8D4E3"
             },
             "line": {
              "color": "white"
             }
            },
            "type": "table"
           }
          ]
         },
         "layout": {
          "annotationdefaults": {
           "arrowcolor": "#2a3f5f",
           "arrowhead": 0,
           "arrowwidth": 1
          },
          "autotypenumbers": "strict",
          "coloraxis": {
           "colorbar": {
            "outlinewidth": 0,
            "ticks": ""
           }
          },
          "colorscale": {
           "diverging": [
            [
             0,
             "#8e0152"
            ],
            [
             0.1,
             "#c51b7d"
            ],
            [
             0.2,
             "#de77ae"
            ],
            [
             0.3,
             "#f1b6da"
            ],
            [
             0.4,
             "#fde0ef"
            ],
            [
             0.5,
             "#f7f7f7"
            ],
            [
             0.6,
             "#e6f5d0"
            ],
            [
             0.7,
             "#b8e186"
            ],
            [
             0.8,
             "#7fbc41"
            ],
            [
             0.9,
             "#4d9221"
            ],
            [
             1,
             "#276419"
            ]
           ],
           "sequential": [
            [
             0,
             "#0d0887"
            ],
            [
             0.1111111111111111,
             "#46039f"
            ],
            [
             0.2222222222222222,
             "#7201a8"
            ],
            [
             0.3333333333333333,
             "#9c179e"
            ],
            [
             0.4444444444444444,
             "#bd3786"
            ],
            [
             0.5555555555555556,
             "#d8576b"
            ],
            [
             0.6666666666666666,
             "#ed7953"
            ],
            [
             0.7777777777777778,
             "#fb9f3a"
            ],
            [
             0.8888888888888888,
             "#fdca26"
            ],
            [
             1,
             "#f0f921"
            ]
           ],
           "sequentialminus": [
            [
             0,
             "#0d0887"
            ],
            [
             0.1111111111111111,
             "#46039f"
            ],
            [
             0.2222222222222222,
             "#7201a8"
            ],
            [
             0.3333333333333333,
             "#9c179e"
            ],
            [
             0.4444444444444444,
             "#bd3786"
            ],
            [
             0.5555555555555556,
             "#d8576b"
            ],
            [
             0.6666666666666666,
             "#ed7953"
            ],
            [
             0.7777777777777778,
             "#fb9f3a"
            ],
            [
             0.8888888888888888,
             "#fdca26"
            ],
            [
             1,
             "#f0f921"
            ]
           ]
          },
          "colorway": [
           "#636efa",
           "#EF553B",
           "#00cc96",
           "#ab63fa",
           "#FFA15A",
           "#19d3f3",
           "#FF6692",
           "#B6E880",
           "#FF97FF",
           "#FECB52"
          ],
          "font": {
           "color": "#2a3f5f"
          },
          "geo": {
           "bgcolor": "white",
           "lakecolor": "white",
           "landcolor": "#E5ECF6",
           "showlakes": true,
           "showland": true,
           "subunitcolor": "white"
          },
          "hoverlabel": {
           "align": "left"
          },
          "hovermode": "closest",
          "mapbox": {
           "style": "light"
          },
          "paper_bgcolor": "white",
          "plot_bgcolor": "#E5ECF6",
          "polar": {
           "angularaxis": {
            "gridcolor": "white",
            "linecolor": "white",
            "ticks": ""
           },
           "bgcolor": "#E5ECF6",
           "radialaxis": {
            "gridcolor": "white",
            "linecolor": "white",
            "ticks": ""
           }
          },
          "scene": {
           "xaxis": {
            "backgroundcolor": "#E5ECF6",
            "gridcolor": "white",
            "gridwidth": 2,
            "linecolor": "white",
            "showbackground": true,
            "ticks": "",
            "zerolinecolor": "white"
           },
           "yaxis": {
            "backgroundcolor": "#E5ECF6",
            "gridcolor": "white",
            "gridwidth": 2,
            "linecolor": "white",
            "showbackground": true,
            "ticks": "",
            "zerolinecolor": "white"
           },
           "zaxis": {
            "backgroundcolor": "#E5ECF6",
            "gridcolor": "white",
            "gridwidth": 2,
            "linecolor": "white",
            "showbackground": true,
            "ticks": "",
            "zerolinecolor": "white"
           }
          },
          "shapedefaults": {
           "line": {
            "color": "#2a3f5f"
           }
          },
          "ternary": {
           "aaxis": {
            "gridcolor": "white",
            "linecolor": "white",
            "ticks": ""
           },
           "baxis": {
            "gridcolor": "white",
            "linecolor": "white",
            "ticks": ""
           },
           "bgcolor": "#E5ECF6",
           "caxis": {
            "gridcolor": "white",
            "linecolor": "white",
            "ticks": ""
           }
          },
          "title": {
           "x": 0.05
          },
          "xaxis": {
           "automargin": true,
           "gridcolor": "white",
           "linecolor": "white",
           "ticks": "",
           "title": {
            "standoff": 15
           },
           "zerolinecolor": "white",
           "zerolinewidth": 2
          },
          "yaxis": {
           "automargin": true,
           "gridcolor": "white",
           "linecolor": "white",
           "ticks": "",
           "title": {
            "standoff": 15
           },
           "zerolinecolor": "white",
           "zerolinewidth": 2
          }
         }
        },
        "title": {
         "text": "Population of USA States"
        },
        "xaxis": {
         "autorange": true,
         "range": [
          -3.0602178090967334,
          54.060217809096734
         ],
         "type": "category"
        },
        "yaxis": {
         "autorange": true,
         "range": [
          -2569788.2572815535,
          41956441.25728156
         ],
         "type": "linear"
        }
       }
      },
      "image/png": "[encoded data removed]",
      "text/html": [
       "<div>                            <div id=\"9546e795-9e22-482c-9e75-e9e4d97d997e\" class=\"plotly-graph-div\" style=\"height:525px; width:100%;\"></div>            <script type=\"text/javascript\">                require([\"plotly\"], function(Plotly) {                    window.PLOTLYENV=window.PLOTLYENV || {};                                    if (document.getElementById(\"9546e795-9e22-482c-9e75-e9e4d97d997e\")) {                    Plotly.newPlot(                        \"9546e795-9e22-482c-9e75-e9e4d97d997e\",                        [{\"marker\":{\"color\":[4849377.0,736732.0,6731484.0,2966369.0,38802500.0,5355866.0,3596677.0,935614.0,658893.0,19893297.0,10097343.0,1419561.0,1634464.0,12880580.0,6596855.0,3107126.0,2904021.0,4413457.0,4649676.0,1330089.0,5976407.0,6745408.0,9909877.0,5457173.0,2994079.0,6063589.0,1023579.0,1881503.0,2839098.0,1326813.0,8938175.0,2085572.0,19746227.0,9943964.0,739482.0,11594163.0,3878051.0,3970239.0,12787209.0,3548397.0,1055173.0,4832482.0,853175.0,6549352.0,26956958.0,2942902.0,626562.0,8326289.0,7061530.0,1850326.0,5757564.0,584153.0]},\"mode\":\"markers\",\"text\":[\"Alabama\",\"Alaska\",\"Arizona\",\"Arkansas\",\"California\",\"Colorado\",\"Connecticut\",\"Delaware\",\"District of Columbia\",\"Florida\",\"Georgia\",\"Hawaii\",\"Idaho\",\"Illinois\",\"Indiana\",\"Iowa\",\"Kansas\",\"Kentucky\",\"Louisiana\",\"Maine\",\"Maryland\",\"Massachusetts\",\"Michigan\",\"Minnesota\",\"Mississippi\",\"Missouri\",\"Montana\",\"Nebraska\",\"Nevada\",\"New Hampshire\",\"New Jersey\",\"New Mexico\",\"New York\",\"North Carolina\",\"North Dakota\",\"Ohio\",\"Oklahoma\",\"Oregon\",\"Pennsylvania\",\"Puerto Rico\",\"Rhode Island\",\"South Carolina\",\"South Dakota\",\"Tennessee\",\"Texas\",\"Utah\",\"Vermont\",\"Virginia\",\"Washington\",\"West Virginia\",\"Wisconsin\",\"Wyoming\"],\"x\":[\"AL\",\"AK\",\"AZ\",\"AR\",\"CA\",\"CO\",\"CT\",\"DE\",\"DC\",\"FL\",\"GA\",\"HI\",\"ID\",\"IL\",\"IN\",\"IA\",\"KS\",\"KY\",\"LA\",\"ME\",\"MD\",\"MA\",\"MI\",\"MN\",\"MS\",\"MO\",\"MT\",\"NE\",\"NV\",\"NH\",\"NJ\",\"NM\",\"NY\",\"NC\",\"ND\",\"OH\",\"OK\",\"OR\",\"PA\",\"PR\",\"RI\",\"SC\",\"SD\",\"TN\",\"TX\",\"UT\",\"VT\",\"VA\",\"WA\",\"WV\",\"WI\",\"WY\"],\"y\":[4849377.0,736732.0,6731484.0,2966369.0,38802500.0,5355866.0,3596677.0,935614.0,658893.0,19893297.0,10097343.0,1419561.0,1634464.0,12880580.0,6596855.0,3107126.0,2904021.0,4413457.0,4649676.0,1330089.0,5976407.0,6745408.0,9909877.0,5457173.0,2994079.0,6063589.0,1023579.0,1881503.0,2839098.0,1326813.0,8938175.0,2085572.0,19746227.0,9943964.0,739482.0,11594163.0,3878051.0,3970239.0,12787209.0,3548397.0,1055173.0,4832482.0,853175.0,6549352.0,26956958.0,2942902.0,626562.0,8326289.0,7061530.0,1850326.0,5757564.0,584153.0],\"type\":\"scatter\"}],                        {\"template\":{\"data\":{\"histogram2dcontour\":[{\"type\":\"histogram2dcontour\",\"colorbar\":{\"outlinewidth\":0,\"ticks\":\"\"},\"colorscale\":[[0.0,\"#0d0887\"],[0.1111111111111111,\"#46039f\"],[0.2222222222222222,\"#7201a8\"],[0.3333333333333333,\"#9c179e\"],[0.4444444444444444,\"#bd3786\"],[0.5555555555555556,\"#d8576b\"],[0.6666666666666666,\"#ed7953\"],[0.7777777777777778,\"#fb9f3a\"],[0.8888888888888888,\"#fdca26\"],[1.0,\"#f0f921\"]]}],\"choropleth\":[{\"type\":\"choropleth\",\"colorbar\":{\"outlinewidth\":0,\"ticks\":\"\"}}],\"histogram2d\":[{\"type\":\"histogram2d\",\"colorbar\":{\"outlinewidth\":0,\"ticks\":\"\"},\"colorscale\":[[0.0,\"#0d0887\"],[0.1111111111111111,\"#46039f\"],[0.2222222222222222,\"#7201a8\"],[0.3333333333333333,\"#9c179e\"],[0.4444444444444444,\"#bd3786\"],[0.5555555555555556,\"#d8576b\"],[0.6666666666666666,\"#ed7953\"],[0.7777777777777778,\"#fb9f3a\"],[0.8888888888888888,\"#fdca26\"],[1.0,\"#f0f921\"]]}],\"heatmap\":[{\"type\":\"heatmap\",\"colorbar\":{\"outlinewidth\":0,\"ticks\":\"\"},\"colorscale\":[[0.0,\"#0d0887\"],[0.1111111111111111,\"#46039f\"],[0.2222222222222222,\"#7201a8\"],[0.3333333333333333,\"#9c179e\"],[0.4444444444444444,\"#bd3786\"],[0.5555555555555556,\"#d8576b\"],[0.6666666666666666,\"#ed7953\"],[0.7777777777777778,\"#fb9f3a\"],[0.8888888888888888,\"#fdca26\"],[1.0,\"#f0f921\"]]}],\"heatmapgl\":[{\"type\":\"heatmapgl\",\"colorbar\":{\"outlinewidth\":0,\"ticks\":\"\"},\"colorscale\":[[0.0,\"#0d0887\"],[0.1111111111111111,\"#46039f\"],[0.2222222222222222,\"#7201a8\"],[0.3333333333333333,\"#9c179e\"],[0.4444444444444444,\"#bd3786\"],[0.5555555555555556,\"#d8576b\"],[0.6666666666666666,\"#ed7953\"],[0.7777777777777778,\"#fb9f3a\"],[0.8888888888888888,\"#fdca26\"],[1.0,\"#f0f921\"]]}],\"contourcarpet\":[{\"type\":\"contourcarpet\",\"colorbar\":{\"outlinewidth\":0,\"ticks\":\"\"}}],\"contour\":[{\"type\":\"contour\",\"colorbar\":{\"outlinewidth\":0,\"ticks\":\"\"},\"colorscale\":[[0.0,\"#0d0887\"],[0.1111111111111111,\"#46039f\"],[0.2222222222222222,\"#7201a8\"],[0.3333333333333333,\"#9c179e\"],[0.4444444444444444,\"#bd3786\"],[0.5555555555555556,\"#d8576b\"],[0.6666666666666666,\"#ed7953\"],[0.7777777777777778,\"#fb9f3a\"],[0.8888888888888888,\"#fdca26\"],[1.0,\"#f0f921\"]]}],\"surface\":[{\"type\":\"surface\",\"colorbar\":{\"outlinewidth\":0,\"ticks\":\"\"},\"colorscale\":[[0.0,\"#0d0887\"],[0.1111111111111111,\"#46039f\"],[0.2222222222222222,\"#7201a8\"],[0.3333333333333333,\"#9c179e\"],[0.4444444444444444,\"#bd3786\"],[0.5555555555555556,\"#d8576b\"],[0.6666666666666666,\"#ed7953\"],[0.7777777777777778,\"#fb9f3a\"],[0.8888888888888888,\"#fdca26\"],[1.0,\"#f0f921\"]]}],\"mesh3d\":[{\"type\":\"mesh3d\",\"colorbar\":{\"outlinewidth\":0,\"ticks\":\"\"}}],\"scatter\":[{\"fillpattern\":{\"fillmode\":\"overlay\",\"size\":10,\"solidity\":0.2},\"type\":\"scatter\"}],\"parcoords\":[{\"type\":\"parcoords\",\"line\":{\"colorbar\":{\"outlinewidth\":0,\"ticks\":\"\"}}}],\"scatterpolargl\":[{\"type\":\"scatterpolargl\",\"marker\":{\"colorbar\":{\"outlinewidth\":0,\"ticks\":\"\"}}}],\"bar\":[{\"error_x\":{\"color\":\"#2a3f5f\"},\"error_y\":{\"color\":\"#2a3f5f\"},\"marker\":{\"line\":{\"color\":\"#E5ECF6\",\"width\":0.5},\"pattern\":{\"fillmode\":\"overlay\",\"size\":10,\"solidity\":0.2}},\"type\":\"bar\"}],\"scattergeo\":[{\"type\":\"scattergeo\",\"marker\":{\"colorbar\":{\"outlinewidth\":0,\"ticks\":\"\"}}}],\"scatterpolar\":[{\"type\":\"scatterpolar\",\"marker\":{\"colorbar\":{\"outlinewidth\":0,\"ticks\":\"\"}}}],\"histogram\":[{\"marker\":{\"pattern\":{\"fillmode\":\"overlay\",\"size\":10,\"solidity\":0.2}},\"type\":\"histogram\"}],\"scattergl\":[{\"type\":\"scattergl\",\"marker\":{\"colorbar\":{\"outlinewidth\":0,\"ticks\":\"\"}}}],\"scatter3d\":[{\"type\":\"scatter3d\",\"line\":{\"colorbar\":{\"outlinewidth\":0,\"ticks\":\"\"}},\"marker\":{\"colorbar\":{\"outlinewidth\":0,\"ticks\":\"\"}}}],\"scattermapbox\":[{\"type\":\"scattermapbox\",\"marker\":{\"colorbar\":{\"outlinewidth\":0,\"ticks\":\"\"}}}],\"scatterternary\":[{\"type\":\"scatterternary\",\"marker\":{\"colorbar\":{\"outlinewidth\":0,\"ticks\":\"\"}}}],\"scattercarpet\":[{\"type\":\"scattercarpet\",\"marker\":{\"colorbar\":{\"outlinewidth\":0,\"ticks\":\"\"}}}],\"carpet\":[{\"aaxis\":{\"endlinecolor\":\"#2a3f5f\",\"gridcolor\":\"white\",\"linecolor\":\"white\",\"minorgridcolor\":\"white\",\"startlinecolor\":\"#2a3f5f\"},\"baxis\":{\"endlinecolor\":\"#2a3f5f\",\"gridcolor\":\"white\",\"linecolor\":\"white\",\"minorgridcolor\":\"white\",\"startlinecolor\":\"#2a3f5f\"},\"type\":\"carpet\"}],\"table\":[{\"cells\":{\"fill\":{\"color\":\"#EBF0F8\"},\"line\":{\"color\":\"white\"}},\"header\":{\"fill\":{\"color\":\"#C8D4E3\"},\"line\":{\"color\":\"white\"}},\"type\":\"table\"}],\"barpolar\":[{\"marker\":{\"line\":{\"color\":\"#E5ECF6\",\"width\":0.5},\"pattern\":{\"fillmode\":\"overlay\",\"size\":10,\"solidity\":0.2}},\"type\":\"barpolar\"}],\"pie\":[{\"automargin\":true,\"type\":\"pie\"}]},\"layout\":{\"autotypenumbers\":\"strict\",\"colorway\":[\"#636efa\",\"#EF553B\",\"#00cc96\",\"#ab63fa\",\"#FFA15A\",\"#19d3f3\",\"#FF6692\",\"#B6E880\",\"#FF97FF\",\"#FECB52\"],\"font\":{\"color\":\"#2a3f5f\"},\"hovermode\":\"closest\",\"hoverlabel\":{\"align\":\"left\"},\"paper_bgcolor\":\"white\",\"plot_bgcolor\":\"#E5ECF6\",\"polar\":{\"bgcolor\":\"#E5ECF6\",\"angularaxis\":{\"gridcolor\":\"white\",\"linecolor\":\"white\",\"ticks\":\"\"},\"radialaxis\":{\"gridcolor\":\"white\",\"linecolor\":\"white\",\"ticks\":\"\"}},\"ternary\":{\"bgcolor\":\"#E5ECF6\",\"aaxis\":{\"gridcolor\":\"white\",\"linecolor\":\"white\",\"ticks\":\"\"},\"baxis\":{\"gridcolor\":\"white\",\"linecolor\":\"white\",\"ticks\":\"\"},\"caxis\":{\"gridcolor\":\"white\",\"linecolor\":\"white\",\"ticks\":\"\"}},\"coloraxis\":{\"colorbar\":{\"outlinewidth\":0,\"ticks\":\"\"}},\"colorscale\":{\"sequential\":[[0.0,\"#0d0887\"],[0.1111111111111111,\"#46039f\"],[0.2222222222222222,\"#7201a8\"],[0.3333333333333333,\"#9c179e\"],[0.4444444444444444,\"#bd3786\"],[0.5555555555555556,\"#d8576b\"],[0.6666666666666666,\"#ed7953\"],[0.7777777777777778,\"#fb9f3a\"],[0.8888888888888888,\"#fdca26\"],[1.0,\"#f0f921\"]],\"sequentialminus\":[[0.0,\"#0d0887\"],[0.1111111111111111,\"#46039f\"],[0.2222222222222222,\"#7201a8\"],[0.3333333333333333,\"#9c179e\"],[0.4444444444444444,\"#bd3786\"],[0.5555555555555556,\"#d8576b\"],[0.6666666666666666,\"#ed7953\"],[0.7777777777777778,\"#fb9f3a\"],[0.8888888888888888,\"#fdca26\"],[1.0,\"#f0f921\"]],\"diverging\":[[0,\"#8e0152\"],[0.1,\"#c51b7d\"],[0.2,\"#de77ae\"],[0.3,\"#f1b6da\"],[0.4,\"#fde0ef\"],[0.5,\"#f7f7f7\"],[0.6,\"#e6f5d0\"],[0.7,\"#b8e186\"],[0.8,\"#7fbc41\"],[0.9,\"#4d9221\"],[1,\"#276419\"]]},\"xaxis\":{\"gridcolor\":\"white\",\"linecolor\":\"white\",\"ticks\":\"\",\"title\":{\"standoff\":15},\"zerolinecolor\":\"white\",\"automargin\":true,\"zerolinewidth\":2},\"yaxis\":{\"gridcolor\":\"white\",\"linecolor\":\"white\",\"ticks\":\"\",\"title\":{\"standoff\":15},\"zerolinecolor\":\"white\",\"automargin\":true,\"zerolinewidth\":2},\"scene\":{\"xaxis\":{\"backgroundcolor\":\"#E5ECF6\",\"gridcolor\":\"white\",\"linecolor\":\"white\",\"showbackground\":true,\"ticks\":\"\",\"zerolinecolor\":\"white\",\"gridwidth\":2},\"yaxis\":{\"backgroundcolor\":\"#E5ECF6\",\"gridcolor\":\"white\",\"linecolor\":\"white\",\"showbackground\":true,\"ticks\":\"\",\"zerolinecolor\":\"white\",\"gridwidth\":2},\"zaxis\":{\"backgroundcolor\":\"#E5ECF6\",\"gridcolor\":\"white\",\"linecolor\":\"white\",\"showbackground\":true,\"ticks\":\"\",\"zerolinecolor\":\"white\",\"gridwidth\":2}},\"shapedefaults\":{\"line\":{\"color\":\"#2a3f5f\"}},\"annotationdefaults\":{\"arrowcolor\":\"#2a3f5f\",\"arrowhead\":0,\"arrowwidth\":1},\"geo\":{\"bgcolor\":\"white\",\"landcolor\":\"#E5ECF6\",\"subunitcolor\":\"white\",\"showland\":true,\"showlakes\":true,\"lakecolor\":\"white\"},\"title\":{\"x\":0.05},\"mapbox\":{\"style\":\"light\"}}},\"title\":{\"text\":\"Population of USA States\"}},                        {\"responsive\": true}                    ).then(function(){\n",
       "                            \n",
       "var gd = document.getElementById('9546e795-9e22-482c-9e75-e9e4d97d997e');\n",
       "var x = new MutationObserver(function (mutations, observer) {{\n",
       "        var display = window.getComputedStyle(gd).display;\n",
       "        if (!display || display === 'none') {{\n",
       "            console.log([gd, 'removed!']);\n",
       "            Plotly.purge(gd);\n",
       "            observer.disconnect();\n",
       "        }}\n",
       "}});\n",
       "\n",
       "// Listen for the removal of the full notebook cells\n",
       "var notebookContainer = gd.closest('#notebook-container');\n",
       "if (notebookContainer) {{\n",
       "    x.observe(notebookContainer, {childList: true});\n",
       "}}\n",
       "\n",
       "// Listen for the clearing of the current output cell\n",
       "var outputEl = gd.closest('.output');\n",
       "if (outputEl) {{\n",
       "    x.observe(outputEl, {childList: true});\n",
       "}}\n",
       "\n",
       "                        })                };                });            </script>        </div>"
      ]
     },
     "metadata": {},
     "output_type": "display_data"
    }
   ],
   "source": [
    "import plotly.graph_objects as go\n",
    "import pandas as pd\n",
    "\n",
    "data= pd.read_csv(\"https://raw.githubusercontent.com/plotly/datasets/master/2014_usa_states.csv\")\n",
    "\n",
    "fig = go.Figure(data=go.Scatter(x=data['Postal'],\n",
    "                                y=data['Population'],\n",
    "                                mode='markers',\n",
    "                                marker_color=data['Population'],\n",
    "                                text=data['State'])) # hover text goes here\n",
    "\n",
    "fig.update_layout(title=dict(text='Population of USA States'))\n",
    "fig.show()"
   ]
  },
  {
   "cell_type": "code",
   "execution_count": 23,
   "id": "fc79b6ac-4dfa-4ca3-986b-0ed7ace0da77",
   "metadata": {},
   "outputs": [
    {
     "data": {
      "application/vnd.plotly.v1+json": {
       "config": {
        "plotlyServerURL": "https://plot.ly"
       },
       "data": [
        {
         "hovertemplate": "country=Canada<br>year=%{x}<br>lifeExp=%{y}<extra></extra>",
         "legendgroup": "Canada",
         "line": {
          "color": "#636efa",
          "dash": "solid"
         },
         "marker": {
          "symbol": "circle"
         },
         "mode": "lines",
         "name": "Canada",
         "orientation": "v",
         "showlegend": true,
         "type": "scatter",
         "x": [
          1952,
          1957,
          1962,
          1967,
          1972,
          1977,
          1982,
          1987,
          1992,
          1997,
          2002,
          2007
         ],
         "xaxis": "x",
         "y": [
          68.75,
          69.96,
          71.3,
          72.13,
          72.88,
          74.21,
          75.76,
          76.86,
          77.95,
          78.61,
          79.77,
          80.653
         ],
         "yaxis": "y"
        }
       ],
       "layout": {
        "autosize": true,
        "legend": {
         "title": {
          "text": "country"
         },
         "tracegroupgap": 0
        },
        "template": {
         "data": {
          "bar": [
           {
            "error_x": {
             "color": "#2a3f5f"
            },
            "error_y": {
             "color": "#2a3f5f"
            },
            "marker": {
             "line": {
              "color": "#E5ECF6",
              "width": 0.5
             },
             "pattern": {
              "fillmode": "overlay",
              "size": 10,
              "solidity": 0.2
             }
            },
            "type": "bar"
           }
          ],
          "barpolar": [
           {
            "marker": {
             "line": {
              "color": "#E5ECF6",
              "width": 0.5
             },
             "pattern": {
              "fillmode": "overlay",
              "size": 10,
              "solidity": 0.2
             }
            },
            "type": "barpolar"
           }
          ],
          "carpet": [
           {
            "aaxis": {
             "endlinecolor": "#2a3f5f",
             "gridcolor": "white",
             "linecolor": "white",
             "minorgridcolor": "white",
             "startlinecolor": "#2a3f5f"
            },
            "baxis": {
             "endlinecolor": "#2a3f5f",
             "gridcolor": "white",
             "linecolor": "white",
             "minorgridcolor": "white",
             "startlinecolor": "#2a3f5f"
            },
            "type": "carpet"
           }
          ],
          "choropleth": [
           {
            "colorbar": {
             "outlinewidth": 0,
             "ticks": ""
            },
            "type": "choropleth"
           }
          ],
          "contour": [
           {
            "colorbar": {
             "outlinewidth": 0,
             "ticks": ""
            },
            "colorscale": [
             [
              0,
              "#0d0887"
             ],
             [
              0.1111111111111111,
              "#46039f"
             ],
             [
              0.2222222222222222,
              "#7201a8"
             ],
             [
              0.3333333333333333,
              "#9c179e"
             ],
             [
              0.4444444444444444,
              "#bd3786"
             ],
             [
              0.5555555555555556,
              "#d8576b"
             ],
             [
              0.6666666666666666,
              "#ed7953"
             ],
             [
              0.7777777777777778,
              "#fb9f3a"
             ],
             [
              0.8888888888888888,
              "#fdca26"
             ],
             [
              1,
              "#f0f921"
             ]
            ],
            "type": "contour"
           }
          ],
          "contourcarpet": [
           {
            "colorbar": {
             "outlinewidth": 0,
             "ticks": ""
            },
            "type": "contourcarpet"
           }
          ],
          "heatmap": [
           {
            "colorbar": {
             "outlinewidth": 0,
             "ticks": ""
            },
            "colorscale": [
             [
              0,
              "#0d0887"
             ],
             [
              0.1111111111111111,
              "#46039f"
             ],
             [
              0.2222222222222222,
              "#7201a8"
             ],
             [
              0.3333333333333333,
              "#9c179e"
             ],
             [
              0.4444444444444444,
              "#bd3786"
             ],
             [
              0.5555555555555556,
              "#d8576b"
             ],
             [
              0.6666666666666666,
              "#ed7953"
             ],
             [
              0.7777777777777778,
              "#fb9f3a"
             ],
             [
              0.8888888888888888,
              "#fdca26"
             ],
             [
              1,
              "#f0f921"
             ]
            ],
            "type": "heatmap"
           }
          ],
          "heatmapgl": [
           {
            "colorbar": {
             "outlinewidth": 0,
             "ticks": ""
            },
            "colorscale": [
             [
              0,
              "#0d0887"
             ],
             [
              0.1111111111111111,
              "#46039f"
             ],
             [
              0.2222222222222222,
              "#7201a8"
             ],
             [
              0.3333333333333333,
              "#9c179e"
             ],
             [
              0.4444444444444444,
              "#bd3786"
             ],
             [
              0.5555555555555556,
              "#d8576b"
             ],
             [
              0.6666666666666666,
              "#ed7953"
             ],
             [
              0.7777777777777778,
              "#fb9f3a"
             ],
             [
              0.8888888888888888,
              "#fdca26"
             ],
             [
              1,
              "#f0f921"
             ]
            ],
            "type": "heatmapgl"
           }
          ],
          "histogram": [
           {
            "marker": {
             "pattern": {
              "fillmode": "overlay",
              "size": 10,
              "solidity": 0.2
             }
            },
            "type": "histogram"
           }
          ],
          "histogram2d": [
           {
            "colorbar": {
             "outlinewidth": 0,
             "ticks": ""
            },
            "colorscale": [
             [
              0,
              "#0d0887"
             ],
             [
              0.1111111111111111,
              "#46039f"
             ],
             [
              0.2222222222222222,
              "#7201a8"
             ],
             [
              0.3333333333333333,
              "#9c179e"
             ],
             [
              0.4444444444444444,
              "#bd3786"
             ],
             [
              0.5555555555555556,
              "#d8576b"
             ],
             [
              0.6666666666666666,
              "#ed7953"
             ],
             [
              0.7777777777777778,
              "#fb9f3a"
             ],
             [
              0.8888888888888888,
              "#fdca26"
             ],
             [
              1,
              "#f0f921"
             ]
            ],
            "type": "histogram2d"
           }
          ],
          "histogram2dcontour": [
           {
            "colorbar": {
             "outlinewidth": 0,
             "ticks": ""
            },
            "colorscale": [
             [
              0,
              "#0d0887"
             ],
             [
              0.1111111111111111,
              "#46039f"
             ],
             [
              0.2222222222222222,
              "#7201a8"
             ],
             [
              0.3333333333333333,
              "#9c179e"
             ],
             [
              0.4444444444444444,
              "#bd3786"
             ],
             [
              0.5555555555555556,
              "#d8576b"
             ],
             [
              0.6666666666666666,
              "#ed7953"
             ],
             [
              0.7777777777777778,
              "#fb9f3a"
             ],
             [
              0.8888888888888888,
              "#fdca26"
             ],
             [
              1,
              "#f0f921"
             ]
            ],
            "type": "histogram2dcontour"
           }
          ],
          "mesh3d": [
           {
            "colorbar": {
             "outlinewidth": 0,
             "ticks": ""
            },
            "type": "mesh3d"
           }
          ],
          "parcoords": [
           {
            "line": {
             "colorbar": {
              "outlinewidth": 0,
              "ticks": ""
             }
            },
            "type": "parcoords"
           }
          ],
          "pie": [
           {
            "automargin": true,
            "type": "pie"
           }
          ],
          "scatter": [
           {
            "fillpattern": {
             "fillmode": "overlay",
             "size": 10,
             "solidity": 0.2
            },
            "type": "scatter"
           }
          ],
          "scatter3d": [
           {
            "line": {
             "colorbar": {
              "outlinewidth": 0,
              "ticks": ""
             }
            },
            "marker": {
             "colorbar": {
              "outlinewidth": 0,
              "ticks": ""
             }
            },
            "type": "scatter3d"
           }
          ],
          "scattercarpet": [
           {
            "marker": {
             "colorbar": {
              "outlinewidth": 0,
              "ticks": ""
             }
            },
            "type": "scattercarpet"
           }
          ],
          "scattergeo": [
           {
            "marker": {
             "colorbar": {
              "outlinewidth": 0,
              "ticks": ""
             }
            },
            "type": "scattergeo"
           }
          ],
          "scattergl": [
           {
            "marker": {
             "colorbar": {
              "outlinewidth": 0,
              "ticks": ""
             }
            },
            "type": "scattergl"
           }
          ],
          "scattermapbox": [
           {
            "marker": {
             "colorbar": {
              "outlinewidth": 0,
              "ticks": ""
             }
            },
            "type": "scattermapbox"
           }
          ],
          "scatterpolar": [
           {
            "marker": {
             "colorbar": {
              "outlinewidth": 0,
              "ticks": ""
             }
            },
            "type": "scatterpolar"
           }
          ],
          "scatterpolargl": [
           {
            "marker": {
             "colorbar": {
              "outlinewidth": 0,
              "ticks": ""
             }
            },
            "type": "scatterpolargl"
           }
          ],
          "scatterternary": [
           {
            "marker": {
             "colorbar": {
              "outlinewidth": 0,
              "ticks": ""
             }
            },
            "type": "scatterternary"
           }
          ],
          "surface": [
           {
            "colorbar": {
             "outlinewidth": 0,
             "ticks": ""
            },
            "colorscale": [
             [
              0,
              "#0d0887"
             ],
             [
              0.1111111111111111,
              "#46039f"
             ],
             [
              0.2222222222222222,
              "#7201a8"
             ],
             [
              0.3333333333333333,
              "#9c179e"
             ],
             [
              0.4444444444444444,
              "#bd3786"
             ],
             [
              0.5555555555555556,
              "#d8576b"
             ],
             [
              0.6666666666666666,
              "#ed7953"
             ],
             [
              0.7777777777777778,
              "#fb9f3a"
             ],
             [
              0.8888888888888888,
              "#fdca26"
             ],
             [
              1,
              "#f0f921"
             ]
            ],
            "type": "surface"
           }
          ],
          "table": [
           {
            "cells": {
             "fill": {
              "color": "#EBF0F8"
             },
             "line": {
              "color": "white"
             }
            },
            "header": {
             "fill": {
              "color": "#C8D4E3"
             },
             "line": {
              "color": "white"
             }
            },
            "type": "table"
           }
          ]
         },
         "layout": {
          "annotationdefaults": {
           "arrowcolor": "#2a3f5f",
           "arrowhead": 0,
           "arrowwidth": 1
          },
          "autotypenumbers": "strict",
          "coloraxis": {
           "colorbar": {
            "outlinewidth": 0,
            "ticks": ""
           }
          },
          "colorscale": {
           "diverging": [
            [
             0,
             "#8e0152"
            ],
            [
             0.1,
             "#c51b7d"
            ],
            [
             0.2,
             "#de77ae"
            ],
            [
             0.3,
             "#f1b6da"
            ],
            [
             0.4,
             "#fde0ef"
            ],
            [
             0.5,
             "#f7f7f7"
            ],
            [
             0.6,
             "#e6f5d0"
            ],
            [
             0.7,
             "#b8e186"
            ],
            [
             0.8,
             "#7fbc41"
            ],
            [
             0.9,
             "#4d9221"
            ],
            [
             1,
             "#276419"
            ]
           ],
           "sequential": [
            [
             0,
             "#0d0887"
            ],
            [
             0.1111111111111111,
             "#46039f"
            ],
            [
             0.2222222222222222,
             "#7201a8"
            ],
            [
             0.3333333333333333,
             "#9c179e"
            ],
            [
             0.4444444444444444,
             "#bd3786"
            ],
            [
             0.5555555555555556,
             "#d8576b"
            ],
            [
             0.6666666666666666,
             "#ed7953"
            ],
            [
             0.7777777777777778,
             "#fb9f3a"
            ],
            [
             0.8888888888888888,
             "#fdca26"
            ],
            [
             1,
             "#f0f921"
            ]
           ],
           "sequentialminus": [
            [
             0,
             "#0d0887"
            ],
            [
             0.1111111111111111,
             "#46039f"
            ],
            [
             0.2222222222222222,
             "#7201a8"
            ],
            [
             0.3333333333333333,
             "#9c179e"
            ],
            [
             0.4444444444444444,
             "#bd3786"
            ],
            [
             0.5555555555555556,
             "#d8576b"
            ],
            [
             0.6666666666666666,
             "#ed7953"
            ],
            [
             0.7777777777777778,
             "#fb9f3a"
            ],
            [
             0.8888888888888888,
             "#fdca26"
            ],
            [
             1,
             "#f0f921"
            ]
           ]
          },
          "colorway": [
           "#636efa",
           "#EF553B",
           "#00cc96",
           "#ab63fa",
           "#FFA15A",
           "#19d3f3",
           "#FF6692",
           "#B6E880",
           "#FF97FF",
           "#FECB52"
          ],
          "font": {
           "color": "#2a3f5f"
          },
          "geo": {
           "bgcolor": "white",
           "lakecolor": "white",
           "landcolor": "#E5ECF6",
           "showlakes": true,
           "showland": true,
           "subunitcolor": "white"
          },
          "hoverlabel": {
           "align": "left"
          },
          "hovermode": "closest",
          "mapbox": {
           "style": "light"
          },
          "paper_bgcolor": "white",
          "plot_bgcolor": "#E5ECF6",
          "polar": {
           "angularaxis": {
            "gridcolor": "white",
            "linecolor": "white",
            "ticks": ""
           },
           "bgcolor": "#E5ECF6",
           "radialaxis": {
            "gridcolor": "white",
            "linecolor": "white",
            "ticks": ""
           }
          },
          "scene": {
           "xaxis": {
            "backgroundcolor": "#E5ECF6",
            "gridcolor": "white",
            "gridwidth": 2,
            "linecolor": "white",
            "showbackground": true,
            "ticks": "",
            "zerolinecolor": "white"
           },
           "yaxis": {
            "backgroundcolor": "#E5ECF6",
            "gridcolor": "white",
            "gridwidth": 2,
            "linecolor": "white",
            "showbackground": true,
            "ticks": "",
            "zerolinecolor": "white"
           },
           "zaxis": {
            "backgroundcolor": "#E5ECF6",
            "gridcolor": "white",
            "gridwidth": 2,
            "linecolor": "white",
            "showbackground": true,
            "ticks": "",
            "zerolinecolor": "white"
           }
          },
          "shapedefaults": {
           "line": {
            "color": "#2a3f5f"
           }
          },
          "ternary": {
           "aaxis": {
            "gridcolor": "white",
            "linecolor": "white",
            "ticks": ""
           },
           "baxis": {
            "gridcolor": "white",
            "linecolor": "white",
            "ticks": ""
           },
           "bgcolor": "#E5ECF6",
           "caxis": {
            "gridcolor": "white",
            "linecolor": "white",
            "ticks": ""
           }
          },
          "title": {
           "x": 0.05
          },
          "xaxis": {
           "automargin": true,
           "gridcolor": "white",
           "linecolor": "white",
           "ticks": "",
           "title": {
            "standoff": 15
           },
           "zerolinecolor": "white",
           "zerolinewidth": 2
          },
          "yaxis": {
           "automargin": true,
           "gridcolor": "white",
           "linecolor": "white",
           "ticks": "",
           "title": {
            "standoff": 15
           },
           "zerolinecolor": "white",
           "zerolinewidth": 2
          }
         }
        },
        "title": {
         "text": "Life expectancy in Canada"
        },
        "xaxis": {
         "anchor": "y",
         "autorange": true,
         "domain": [
          0,
          1
         ],
         "range": [
          1952,
          2007
         ],
         "title": {
          "text": "year"
         },
         "type": "linear"
        },
        "yaxis": {
         "anchor": "x",
         "autorange": true,
         "domain": [
          0,
          1
         ],
         "range": [
          68.08872222222222,
          81.31427777777779
         ],
         "title": {
          "text": "lifeExp"
         },
         "type": "linear"
        }
       }
      },
      "image/png": "[encoded data removed]",
      "text/html": [
       "<div>                            <div id=\"9b731036-e4de-4136-aada-7832f2f556be\" class=\"plotly-graph-div\" style=\"height:525px; width:100%;\"></div>            <script type=\"text/javascript\">                require([\"plotly\"], function(Plotly) {                    window.PLOTLYENV=window.PLOTLYENV || {};                                    if (document.getElementById(\"9b731036-e4de-4136-aada-7832f2f556be\")) {                    Plotly.newPlot(                        \"9b731036-e4de-4136-aada-7832f2f556be\",                        [{\"hovertemplate\":\"country=Canada\\u003cbr\\u003eyear=%{x}\\u003cbr\\u003elifeExp=%{y}\\u003cextra\\u003e\\u003c\\u002fextra\\u003e\",\"legendgroup\":\"Canada\",\"line\":{\"color\":\"#636efa\",\"dash\":\"solid\"},\"marker\":{\"symbol\":\"circle\"},\"mode\":\"lines\",\"name\":\"Canada\",\"orientation\":\"v\",\"showlegend\":true,\"x\":[1952,1957,1962,1967,1972,1977,1982,1987,1992,1997,2002,2007],\"xaxis\":\"x\",\"y\":[68.75,69.96,71.3,72.13,72.88,74.21,75.76,76.86,77.95,78.61,79.77,80.653],\"yaxis\":\"y\",\"type\":\"scatter\"}],                        {\"template\":{\"data\":{\"histogram2dcontour\":[{\"type\":\"histogram2dcontour\",\"colorbar\":{\"outlinewidth\":0,\"ticks\":\"\"},\"colorscale\":[[0.0,\"#0d0887\"],[0.1111111111111111,\"#46039f\"],[0.2222222222222222,\"#7201a8\"],[0.3333333333333333,\"#9c179e\"],[0.4444444444444444,\"#bd3786\"],[0.5555555555555556,\"#d8576b\"],[0.6666666666666666,\"#ed7953\"],[0.7777777777777778,\"#fb9f3a\"],[0.8888888888888888,\"#fdca26\"],[1.0,\"#f0f921\"]]}],\"choropleth\":[{\"type\":\"choropleth\",\"colorbar\":{\"outlinewidth\":0,\"ticks\":\"\"}}],\"histogram2d\":[{\"type\":\"histogram2d\",\"colorbar\":{\"outlinewidth\":0,\"ticks\":\"\"},\"colorscale\":[[0.0,\"#0d0887\"],[0.1111111111111111,\"#46039f\"],[0.2222222222222222,\"#7201a8\"],[0.3333333333333333,\"#9c179e\"],[0.4444444444444444,\"#bd3786\"],[0.5555555555555556,\"#d8576b\"],[0.6666666666666666,\"#ed7953\"],[0.7777777777777778,\"#fb9f3a\"],[0.8888888888888888,\"#fdca26\"],[1.0,\"#f0f921\"]]}],\"heatmap\":[{\"type\":\"heatmap\",\"colorbar\":{\"outlinewidth\":0,\"ticks\":\"\"},\"colorscale\":[[0.0,\"#0d0887\"],[0.1111111111111111,\"#46039f\"],[0.2222222222222222,\"#7201a8\"],[0.3333333333333333,\"#9c179e\"],[0.4444444444444444,\"#bd3786\"],[0.5555555555555556,\"#d8576b\"],[0.6666666666666666,\"#ed7953\"],[0.7777777777777778,\"#fb9f3a\"],[0.8888888888888888,\"#fdca26\"],[1.0,\"#f0f921\"]]}],\"heatmapgl\":[{\"type\":\"heatmapgl\",\"colorbar\":{\"outlinewidth\":0,\"ticks\":\"\"},\"colorscale\":[[0.0,\"#0d0887\"],[0.1111111111111111,\"#46039f\"],[0.2222222222222222,\"#7201a8\"],[0.3333333333333333,\"#9c179e\"],[0.4444444444444444,\"#bd3786\"],[0.5555555555555556,\"#d8576b\"],[0.6666666666666666,\"#ed7953\"],[0.7777777777777778,\"#fb9f3a\"],[0.8888888888888888,\"#fdca26\"],[1.0,\"#f0f921\"]]}],\"contourcarpet\":[{\"type\":\"contourcarpet\",\"colorbar\":{\"outlinewidth\":0,\"ticks\":\"\"}}],\"contour\":[{\"type\":\"contour\",\"colorbar\":{\"outlinewidth\":0,\"ticks\":\"\"},\"colorscale\":[[0.0,\"#0d0887\"],[0.1111111111111111,\"#46039f\"],[0.2222222222222222,\"#7201a8\"],[0.3333333333333333,\"#9c179e\"],[0.4444444444444444,\"#bd3786\"],[0.5555555555555556,\"#d8576b\"],[0.6666666666666666,\"#ed7953\"],[0.7777777777777778,\"#fb9f3a\"],[0.8888888888888888,\"#fdca26\"],[1.0,\"#f0f921\"]]}],\"surface\":[{\"type\":\"surface\",\"colorbar\":{\"outlinewidth\":0,\"ticks\":\"\"},\"colorscale\":[[0.0,\"#0d0887\"],[0.1111111111111111,\"#46039f\"],[0.2222222222222222,\"#7201a8\"],[0.3333333333333333,\"#9c179e\"],[0.4444444444444444,\"#bd3786\"],[0.5555555555555556,\"#d8576b\"],[0.6666666666666666,\"#ed7953\"],[0.7777777777777778,\"#fb9f3a\"],[0.8888888888888888,\"#fdca26\"],[1.0,\"#f0f921\"]]}],\"mesh3d\":[{\"type\":\"mesh3d\",\"colorbar\":{\"outlinewidth\":0,\"ticks\":\"\"}}],\"scatter\":[{\"fillpattern\":{\"fillmode\":\"overlay\",\"size\":10,\"solidity\":0.2},\"type\":\"scatter\"}],\"parcoords\":[{\"type\":\"parcoords\",\"line\":{\"colorbar\":{\"outlinewidth\":0,\"ticks\":\"\"}}}],\"scatterpolargl\":[{\"type\":\"scatterpolargl\",\"marker\":{\"colorbar\":{\"outlinewidth\":0,\"ticks\":\"\"}}}],\"bar\":[{\"error_x\":{\"color\":\"#2a3f5f\"},\"error_y\":{\"color\":\"#2a3f5f\"},\"marker\":{\"line\":{\"color\":\"#E5ECF6\",\"width\":0.5},\"pattern\":{\"fillmode\":\"overlay\",\"size\":10,\"solidity\":0.2}},\"type\":\"bar\"}],\"scattergeo\":[{\"type\":\"scattergeo\",\"marker\":{\"colorbar\":{\"outlinewidth\":0,\"ticks\":\"\"}}}],\"scatterpolar\":[{\"type\":\"scatterpolar\",\"marker\":{\"colorbar\":{\"outlinewidth\":0,\"ticks\":\"\"}}}],\"histogram\":[{\"marker\":{\"pattern\":{\"fillmode\":\"overlay\",\"size\":10,\"solidity\":0.2}},\"type\":\"histogram\"}],\"scattergl\":[{\"type\":\"scattergl\",\"marker\":{\"colorbar\":{\"outlinewidth\":0,\"ticks\":\"\"}}}],\"scatter3d\":[{\"type\":\"scatter3d\",\"line\":{\"colorbar\":{\"outlinewidth\":0,\"ticks\":\"\"}},\"marker\":{\"colorbar\":{\"outlinewidth\":0,\"ticks\":\"\"}}}],\"scattermapbox\":[{\"type\":\"scattermapbox\",\"marker\":{\"colorbar\":{\"outlinewidth\":0,\"ticks\":\"\"}}}],\"scatterternary\":[{\"type\":\"scatterternary\",\"marker\":{\"colorbar\":{\"outlinewidth\":0,\"ticks\":\"\"}}}],\"scattercarpet\":[{\"type\":\"scattercarpet\",\"marker\":{\"colorbar\":{\"outlinewidth\":0,\"ticks\":\"\"}}}],\"carpet\":[{\"aaxis\":{\"endlinecolor\":\"#2a3f5f\",\"gridcolor\":\"white\",\"linecolor\":\"white\",\"minorgridcolor\":\"white\",\"startlinecolor\":\"#2a3f5f\"},\"baxis\":{\"endlinecolor\":\"#2a3f5f\",\"gridcolor\":\"white\",\"linecolor\":\"white\",\"minorgridcolor\":\"white\",\"startlinecolor\":\"#2a3f5f\"},\"type\":\"carpet\"}],\"table\":[{\"cells\":{\"fill\":{\"color\":\"#EBF0F8\"},\"line\":{\"color\":\"white\"}},\"header\":{\"fill\":{\"color\":\"#C8D4E3\"},\"line\":{\"color\":\"white\"}},\"type\":\"table\"}],\"barpolar\":[{\"marker\":{\"line\":{\"color\":\"#E5ECF6\",\"width\":0.5},\"pattern\":{\"fillmode\":\"overlay\",\"size\":10,\"solidity\":0.2}},\"type\":\"barpolar\"}],\"pie\":[{\"automargin\":true,\"type\":\"pie\"}]},\"layout\":{\"autotypenumbers\":\"strict\",\"colorway\":[\"#636efa\",\"#EF553B\",\"#00cc96\",\"#ab63fa\",\"#FFA15A\",\"#19d3f3\",\"#FF6692\",\"#B6E880\",\"#FF97FF\",\"#FECB52\"],\"font\":{\"color\":\"#2a3f5f\"},\"hovermode\":\"closest\",\"hoverlabel\":{\"align\":\"left\"},\"paper_bgcolor\":\"white\",\"plot_bgcolor\":\"#E5ECF6\",\"polar\":{\"bgcolor\":\"#E5ECF6\",\"angularaxis\":{\"gridcolor\":\"white\",\"linecolor\":\"white\",\"ticks\":\"\"},\"radialaxis\":{\"gridcolor\":\"white\",\"linecolor\":\"white\",\"ticks\":\"\"}},\"ternary\":{\"bgcolor\":\"#E5ECF6\",\"aaxis\":{\"gridcolor\":\"white\",\"linecolor\":\"white\",\"ticks\":\"\"},\"baxis\":{\"gridcolor\":\"white\",\"linecolor\":\"white\",\"ticks\":\"\"},\"caxis\":{\"gridcolor\":\"white\",\"linecolor\":\"white\",\"ticks\":\"\"}},\"coloraxis\":{\"colorbar\":{\"outlinewidth\":0,\"ticks\":\"\"}},\"colorscale\":{\"sequential\":[[0.0,\"#0d0887\"],[0.1111111111111111,\"#46039f\"],[0.2222222222222222,\"#7201a8\"],[0.3333333333333333,\"#9c179e\"],[0.4444444444444444,\"#bd3786\"],[0.5555555555555556,\"#d8576b\"],[0.6666666666666666,\"#ed7953\"],[0.7777777777777778,\"#fb9f3a\"],[0.8888888888888888,\"#fdca26\"],[1.0,\"#f0f921\"]],\"sequentialminus\":[[0.0,\"#0d0887\"],[0.1111111111111111,\"#46039f\"],[0.2222222222222222,\"#7201a8\"],[0.3333333333333333,\"#9c179e\"],[0.4444444444444444,\"#bd3786\"],[0.5555555555555556,\"#d8576b\"],[0.6666666666666666,\"#ed7953\"],[0.7777777777777778,\"#fb9f3a\"],[0.8888888888888888,\"#fdca26\"],[1.0,\"#f0f921\"]],\"diverging\":[[0,\"#8e0152\"],[0.1,\"#c51b7d\"],[0.2,\"#de77ae\"],[0.3,\"#f1b6da\"],[0.4,\"#fde0ef\"],[0.5,\"#f7f7f7\"],[0.6,\"#e6f5d0\"],[0.7,\"#b8e186\"],[0.8,\"#7fbc41\"],[0.9,\"#4d9221\"],[1,\"#276419\"]]},\"xaxis\":{\"gridcolor\":\"white\",\"linecolor\":\"white\",\"ticks\":\"\",\"title\":{\"standoff\":15},\"zerolinecolor\":\"white\",\"automargin\":true,\"zerolinewidth\":2},\"yaxis\":{\"gridcolor\":\"white\",\"linecolor\":\"white\",\"ticks\":\"\",\"title\":{\"standoff\":15},\"zerolinecolor\":\"white\",\"automargin\":true,\"zerolinewidth\":2},\"scene\":{\"xaxis\":{\"backgroundcolor\":\"#E5ECF6\",\"gridcolor\":\"white\",\"linecolor\":\"white\",\"showbackground\":true,\"ticks\":\"\",\"zerolinecolor\":\"white\",\"gridwidth\":2},\"yaxis\":{\"backgroundcolor\":\"#E5ECF6\",\"gridcolor\":\"white\",\"linecolor\":\"white\",\"showbackground\":true,\"ticks\":\"\",\"zerolinecolor\":\"white\",\"gridwidth\":2},\"zaxis\":{\"backgroundcolor\":\"#E5ECF6\",\"gridcolor\":\"white\",\"linecolor\":\"white\",\"showbackground\":true,\"ticks\":\"\",\"zerolinecolor\":\"white\",\"gridwidth\":2}},\"shapedefaults\":{\"line\":{\"color\":\"#2a3f5f\"}},\"annotationdefaults\":{\"arrowcolor\":\"#2a3f5f\",\"arrowhead\":0,\"arrowwidth\":1},\"geo\":{\"bgcolor\":\"white\",\"landcolor\":\"#E5ECF6\",\"subunitcolor\":\"white\",\"showland\":true,\"showlakes\":true,\"lakecolor\":\"white\"},\"title\":{\"x\":0.05},\"mapbox\":{\"style\":\"light\"}}},\"xaxis\":{\"anchor\":\"y\",\"domain\":[0.0,1.0],\"title\":{\"text\":\"year\"}},\"yaxis\":{\"anchor\":\"x\",\"domain\":[0.0,1.0],\"title\":{\"text\":\"lifeExp\"}},\"legend\":{\"title\":{\"text\":\"country\"},\"tracegroupgap\":0},\"title\":{\"text\":\"Life expectancy in Canada\"}},                        {\"responsive\": true}                    ).then(function(){\n",
       "                            \n",
       "var gd = document.getElementById('9b731036-e4de-4136-aada-7832f2f556be');\n",
       "var x = new MutationObserver(function (mutations, observer) {{\n",
       "        var display = window.getComputedStyle(gd).display;\n",
       "        if (!display || display === 'none') {{\n",
       "            console.log([gd, 'removed!']);\n",
       "            Plotly.purge(gd);\n",
       "            observer.disconnect();\n",
       "        }}\n",
       "}});\n",
       "\n",
       "// Listen for the removal of the full notebook cells\n",
       "var notebookContainer = gd.closest('#notebook-container');\n",
       "if (notebookContainer) {{\n",
       "    x.observe(notebookContainer, {childList: true});\n",
       "}}\n",
       "\n",
       "// Listen for the clearing of the current output cell\n",
       "var outputEl = gd.closest('.output');\n",
       "if (outputEl) {{\n",
       "    x.observe(outputEl, {childList: true});\n",
       "}}\n",
       "\n",
       "                        })                };                });            </script>        </div>"
      ]
     },
     "metadata": {},
     "output_type": "display_data"
    }
   ],
   "source": [
    "import plotly.express as px\n",
    "\n",
    "df = px.data.gapminder().query(\"country=='Canada'\")\n",
    "fig = px.line(df, x=\"year\", y=\"lifeExp\", title='Life expectancy in Canada', color='country')\n",
    "fig.show()"
   ]
  },
  {
   "cell_type": "code",
   "execution_count": null,
   "id": "e6415d25-e48a-472d-a9a3-10b39d11e129",
   "metadata": {
    "scrolled": true
   },
   "outputs": [],
   "source": [
    "df = px.data.gapminder().query(\"continent=='Oceania'\")\n",
    "fig = px.line(df, x=\"year\", y=\"lifeExp\", color='country')\n",
    "fig.show()"
   ]
  },
  {
   "cell_type": "code",
   "execution_count": null,
   "id": "c6c1b336-4e26-4bd9-a784-3adca08660e2",
   "metadata": {},
   "outputs": [],
   "source": []
  },
  {
   "cell_type": "code",
   "execution_count": null,
   "id": "55608a2f-ef94-4e11-81fe-bdeb90525684",
   "metadata": {},
   "outputs": [],
   "source": []
  },
  {
   "cell_type": "code",
   "execution_count": null,
   "id": "a0c0d623-8e86-4d39-8628-6b9e39ed128d",
   "metadata": {},
   "outputs": [],
   "source": []
  },
  {
   "cell_type": "code",
   "execution_count": 10,
   "id": "a4a3ec95-6933-4149-974f-0fb86f01d7c5",
   "metadata": {},
   "outputs": [
    {
     "data": {
      "text/html": [
       "\n",
       "        <iframe\n",
       "            width=\"100%\"\n",
       "            height=\"650\"\n",
       "            src=\"http://127.0.0.1:8050/\"\n",
       "            frameborder=\"0\"\n",
       "            allowfullscreen\n",
       "            \n",
       "        ></iframe>\n",
       "        "
      ],
      "text/plain": [
       "<IPython.lib.display.IFrame at 0x72af04386780>"
      ]
     },
     "metadata": {},
     "output_type": "display_data"
    }
   ],
   "source": [
    "from dash import Dash, html, dcc, Output, Input\n",
    "import pandas as pd\n",
    "import dash_bootstrap_components as dbc\n",
    "import dash_daq as daq\n",
    "import json\n",
    "\n",
    "# Load data\n",
    "file = 'fund_241229.csv'\n",
    "path = '.'\n",
    "#path = '.'\n",
    "df_prc = pd.read_csv(\n",
    "    f'{path}/{file}',\n",
    "    parse_dates=['date'],\n",
    "    dtype={'ticker': str},\n",
    "    index_col=['group', 'ticker', 'date']\n",
    ")\n",
    "\n",
    "file = 'fund_name_241230.csv'\n",
    "fund_name = pd.read_csv(f'{path}/{file}', dtype={'ticker': str}, index_col=[0])\n",
    "fund_name = fund_name.iloc[:,0].to_dict()\n",
    "\n",
    "groups = df_prc.index.get_level_values('group').unique()\n",
    "default_group = 2030\n",
    "groups = [{'label': f'TDF{x}', 'value': x} for x in groups]\n",
    "\n",
    "# Initialize the Dash app\n",
    "external_stylesheets = [dbc.themes.CERULEAN]\n",
    "app = Dash(__name__, title=\"달달펀드\",\n",
    "           external_stylesheets=external_stylesheets)\n",
    "\n",
    "\n",
    "tabs = dbc.Tabs([\n",
    "    dbc.Tab(dcc.Graph(id='price-plot'), label='가격'),\n",
    "    dbc.Tab(dcc.Graph(id='return-plot'), label='수익률'),\n",
    "])\n",
    "\n",
    "app.layout = dbc.Container([\n",
    "    html.Br(),\n",
    "    dbc.Row([\n",
    "        dbc.Col(\n",
    "            dcc.Dropdown(\n",
    "                id='group-dropdown',\n",
    "                options=groups,\n",
    "                value=default_group,\n",
    "                clearable=False,\n",
    "            ),\n",
    "            width=3\n",
    "        ),\n",
    "        dbc.Col(\n",
    "            daq.BooleanSwitch(\n",
    "                id='compare-boolean-switch',\n",
    "                on=False\n",
    "            ),\n",
    "            width=\"auto\"),\n",
    "        dbc.Col(\n",
    "            daq.BooleanSwitch(\n",
    "                id='cost-boolean-switch',\n",
    "                on=False\n",
    "            ),\n",
    "            width=\"auto\"),\n",
    "    ],\n",
    "        justify=\"center\",\n",
    "        align=\"center\",\n",
    "        className=\"mb-3\"\n",
    "    ),\n",
    "    dbc.Row(tabs),\n",
    "    html.Br(),\n",
    "    dcc.Store(id='price-data'),\n",
    "    dbc.Tooltip(\n",
    "        '상대 비교',\n",
    "        target='compare-boolean-switch',\n",
    "        placement='bottom'\n",
    "    ),\n",
    "    dbc.Tooltip(\n",
    "        '수수료 적용',\n",
    "        target='cost-boolean-switch',\n",
    "        placement='bottom'\n",
    "    )\n",
    "])\n",
    "\n",
    "# Preprocess data to make it JSON-serializable and store it in a JavaScript variable\n",
    "preprocessed_data = {}\n",
    "df_prc.columns = ['수수료 적용 전', '수수료 적용 후']\n",
    "cols = df_prc.columns\n",
    "date_format = '%Y-%m-%d'\n",
    "for group in groups:\n",
    "    group_value = group['value']\n",
    "    data = {'columns': list(cols), 'default': {}, 'compare': {}}\n",
    "    start = None\n",
    "    for col in cols:\n",
    "        df_p = df_prc.loc[group_value, col].unstack('ticker').sort_index()\n",
    "        df_p.columns = [fund_name[x] for x in df_p.columns]\n",
    "        df_r = df_p.apply(lambda x: x.dropna().iloc[-1]/x.dropna().iloc[0]-1).mul(100).to_frame(col)\n",
    "        data['default'][col] = {\n",
    "            'history': df_p.round().to_dict('records'),\n",
    "            'index': df_p.index.strftime(date_format).tolist(),\n",
    "            'return': df_r.round(1).to_dict('records'),\n",
    "            'ticker': df_r.index.tolist()\n",
    "        }\n",
    "        if start is None:\n",
    "            start = df_p.apply(lambda x: x[x.notna()].index.min()).max()\n",
    "        normalized_df = df_p.apply(lambda x: x / x.loc[start] * 1000).loc[start:]\n",
    "        df_r_n = normalized_df.apply(lambda x: x.dropna().iloc[-1]/x.dropna().iloc[0]-1).mul(100).to_frame(col)\n",
    "        data['compare'][col] = {\n",
    "            'history': normalized_df.round().to_dict('records'),\n",
    "            'index': normalized_df.index.strftime(date_format).tolist(),\n",
    "            'return': df_r_n.round(1).to_dict('records'),\n",
    "            'ticker': df_r.index.tolist()\n",
    "        }\n",
    "    preprocessed_data[group_value] = data\n",
    "\n",
    "# Inject preprocessed data as JSON in the client\n",
    "preprocessed_data_json = json.dumps(preprocessed_data)\n",
    "app.index_string = f\"\"\"\n",
    "<!DOCTYPE html>\n",
    "<html>\n",
    "    <head>\n",
    "        {{%metas%}}\n",
    "        <title>{{%title%}}</title>\n",
    "        <link rel=\"icon\" type=\"image/x-icon\" href=\"/assets/favicon.ico\">\n",
    "        {{%css%}}\n",
    "    </head>\n",
    "    <body>\n",
    "        <script>\n",
    "            var preprocessedData = {preprocessed_data_json};\n",
    "        </script>\n",
    "        {{%app_entry%}}\n",
    "        {{%config%}}\n",
    "        {{%scripts%}}\n",
    "        {{%renderer%}}\n",
    "    </body>\n",
    "</html>\n",
    "\"\"\"\n",
    "\n",
    "\n",
    "# Client-side callback for price data\n",
    "app.clientside_callback(\n",
    "    \"\"\"\n",
    "    function(group) {\n",
    "        return preprocessedData[group];\n",
    "    }\n",
    "    \"\"\",\n",
    "    Output('price-data', 'data'),\n",
    "    Input('group-dropdown', 'value')\n",
    ")\n",
    "\n",
    "\n",
    "app.clientside_callback(\n",
    "    \"\"\"\n",
    "    function(data, cost, compare) {\n",
    "        if (!data || !data.columns) {\n",
    "            return {data: [], layout: {title: 'No Data Available', height: 300}};\n",
    "        }\n",
    "\n",
    "        const cols = data.columns; // Columns: ['price', 'price_after_fees']\n",
    "        const col = cost ? cols[1] : cols[0]; // Select the column based on cost\n",
    "        const kind = compare ? 'compare' : 'default'; // Default or compare data\n",
    "        const dat = data[kind][col];\n",
    "\n",
    "        if (!dat || !dat.history || !dat.index) {\n",
    "            return {data: [], layout: {title: 'No Data Available', height: 300}};\n",
    "        }\n",
    "\n",
    "        // Prepare data for each ticker\n",
    "        const traces = Object.keys(dat.history[0]).map(ticker => {\n",
    "            const yValues = dat.history.map(row => row[ticker]);\n",
    "            return {\n",
    "                x: dat.index,        // Dates from the index\n",
    "                y: yValues,          // Price history for each ticker\n",
    "                type: 'scatter',\n",
    "                mode: 'lines',\n",
    "                name: ticker,        // Ticker as the legend name\n",
    "                showlegend: true\n",
    "            };\n",
    "        });\n",
    "\n",
    "        // Title logic\n",
    "        const titleBase = '펀드 가격 추이';\n",
    "        const titleComp = compare ? '상대 가격' : '펀드별 최근 결산 기준가격으로 계산';\n",
    "        const titleCost = cost ? '수수료 적용' : null;\n",
    "\n",
    "        let title = `${titleBase} (${titleComp}`;\n",
    "        title = titleCost ? `${title}, ${titleCost})` : `${title})`;\n",
    "\n",
    "        return {\n",
    "            data: traces,\n",
    "            layout: {\n",
    "                title: { text: title, x: 0 },\n",
    "                hovermode: 'x',\n",
    "                yaxis: { title: '기준가격' },\n",
    "                xaxis: {\n",
    "                    rangeselector: {\n",
    "                        buttons: [\n",
    "                            {\n",
    "                                count: 3,\n",
    "                                label: \"3y\",\n",
    "                                step: \"year\",\n",
    "                                stepmode: \"backward\"\n",
    "                            },\n",
    "                            {\n",
    "                                step: \"all\",\n",
    "                                label: \"All\"\n",
    "                            }\n",
    "                        ]\n",
    "                    },\n",
    "                    rangeslider: {\n",
    "                        visible: true\n",
    "                    },\n",
    "                    type: \"date\"\n",
    "                }\n",
    "            }\n",
    "        };\n",
    "    }\n",
    "    \"\"\",\n",
    "    Output('price-plot', 'figure'),\n",
    "    Input('price-data', 'data'),\n",
    "    Input('cost-boolean-switch', 'on'),\n",
    "    Input('compare-boolean-switch', 'on')\n",
    ")\n",
    "\n",
    "\n",
    "app.clientside_callback(\n",
    "    \"\"\"\n",
    "    function(data, cost, compare) {\n",
    "        if (!data || !data.columns) {\n",
    "            return {data: [], layout: {title: 'No Data Available', height: 300}};\n",
    "        }\n",
    "\n",
    "        const cols = data.columns; // Columns: ['price', 'price_after_fees']\n",
    "        const sel = cost ? cols[1] : cols[0]; // Selected column based on cost\n",
    "        const kind = compare ? 'compare' : 'default'; // Default or compare data\n",
    "        const dat = data[kind];\n",
    "\n",
    "        if (!dat[cols[0]] || !dat[cols[1]] || !dat[cols[0]].return || !dat[cols[0]].ticker) {\n",
    "            return {data: [], layout: {title: 'No Data Available', height: 300}};\n",
    "        }\n",
    "\n",
    "        const tickers = dat[cols[0]].ticker; // Tickers for x-axis\n",
    "        const returnPrice = dat[cols[0]].return; // Returns for 'price'\n",
    "        const returnFees = dat[cols[1]].return; // Returns for 'price_after_fees'\n",
    "\n",
    "        // Generate bar traces for both columns, always in the same order\n",
    "        const traces = [\n",
    "            {\n",
    "                x: tickers,\n",
    "                y: returnPrice.map(r => r[cols[0]]),\n",
    "                type: 'bar',\n",
    "                name: cols[0], // Label for 'price'\n",
    "                opacity: cost ? 0.3 : 0.6, // Fade when cost is True\n",
    "                marker: {\n",
    "                    line: { color: 'black', width: 1 }\n",
    "                }\n",
    "            },\n",
    "            {\n",
    "                x: tickers,\n",
    "                y: returnFees.map(r => r[cols[1]]),\n",
    "                type: 'bar',\n",
    "                name: cols[1], // Label for 'price_after_fees'\n",
    "                opacity: cost ? 0.6 : 0.3, // Fade when cost is False\n",
    "                marker: {\n",
    "                    line: { color: 'black', width: 1 }\n",
    "                }\n",
    "            }\n",
    "        ];\n",
    "\n",
    "        // Set title dynamically based on compare switch\n",
    "        let title;\n",
    "        if (compare) {\n",
    "            const dates = dat[sel].index;\n",
    "            const dt0 = new Date(Math.min(...dates.map(d => new Date(d).getTime()))).toISOString().slice(0, 10);\n",
    "            const dt1 = new Date(Math.max(...dates.map(d => new Date(d).getTime()))).toISOString().slice(0, 10);\n",
    "            title = `펀드 수익률 (${dt0} ~ ${dt1})`;\n",
    "        } else {\n",
    "            title = '펀드 수익률 (펀드별 설정일 이후)';\n",
    "        }\n",
    "\n",
    "        return {\n",
    "            data: traces,\n",
    "            layout: {\n",
    "                title: { text: title, x: 0 }, // Align title to the left\n",
    "                //xaxis: { title: 'Tickers' },\n",
    "                yaxis: { title: '수익률(%)' },\n",
    "                barmode: 'group', // Grouped bar chart\n",
    "                //height: 400,\n",
    "                hovermode: 'x',\n",
    "                //hovertemplate='%{y:.0f}%'\n",
    "            }\n",
    "        };\n",
    "    }\n",
    "    \"\"\",\n",
    "    Output('return-plot', 'figure'),\n",
    "    Input('price-data', 'data'),\n",
    "    Input('cost-boolean-switch', 'on'),\n",
    "    Input('compare-boolean-switch', 'on')\n",
    ")\n",
    "\n",
    "\n",
    "if __name__ == '__main__':\n",
    "    app.run_server(debug=True)"
   ]
  },
  {
   "cell_type": "code",
   "execution_count": null,
   "id": "41273494-1672-4d5b-965b-83c47fb0fc8f",
   "metadata": {},
   "outputs": [],
   "source": []
  }
 ],
 "metadata": {
  "kernelspec": {
   "display_name": "portfolio",
   "language": "python",
   "name": "portfolio"
  },
  "language_info": {
   "codemirror_mode": {
    "name": "ipython",
    "version": 3
   },
   "file_extension": ".py",
   "mimetype": "text/x-python",
   "name": "python",
   "nbconvert_exporter": "python",
   "pygments_lexer": "ipython3",
   "version": "3.12.1"
  }
 },
 "nbformat": 4,
 "nbformat_minor": 5
}
