{
 "cells": [
  {
   "cell_type": "markdown",
   "id": "112369a5-0544-4409-bccf-4e1a1fe20926",
   "metadata": {},
   "source": [
    "# App"
   ]
  },
  {
   "cell_type": "code",
   "execution_count": 1,
   "id": "bba3eecb-d919-4c52-817f-0b2f9ae9e8ab",
   "metadata": {},
   "outputs": [],
   "source": [
    "from app import app"
   ]
  },
  {
   "cell_type": "code",
   "execution_count": 2,
   "id": "db04f27b-81d9-4a0f-8dac-6541ab07b059",
   "metadata": {},
   "outputs": [
    {
     "data": {
      "text/html": [
       "\n",
       "        <iframe\n",
       "            width=\"100%\"\n",
       "            height=\"650\"\n",
       "            src=\"http://127.0.0.1:8000/\"\n",
       "            frameborder=\"0\"\n",
       "            allowfullscreen\n",
       "            \n",
       "        ></iframe>\n",
       "        "
      ],
      "text/plain": [
       "<IPython.lib.display.IFrame at 0x7b1d275f8ef0>"
      ]
     },
     "metadata": {},
     "output_type": "display_data"
    }
   ],
   "source": [
    "app.run_server(debug=True, port=8000)"
   ]
  },
  {
   "cell_type": "markdown",
   "id": "248732fe-626b-4ff9-8e12-aca7a5beb52a",
   "metadata": {},
   "source": [
    "# Data\n",
    "*create data for pages*"
   ]
  },
  {
   "cell_type": "code",
   "execution_count": 4,
   "id": "01431b1d-642e-4fa3-9def-38a8f1187762",
   "metadata": {},
   "outputs": [],
   "source": [
    "import pandas as pd\n",
    "import os"
   ]
  },
  {
   "cell_type": "code",
   "execution_count": 5,
   "id": "7fa2db53-6f5e-4b4b-8f17-10bbfb071b55",
   "metadata": {},
   "outputs": [],
   "source": [
    "os.chdir('/home/lbk/works/pf')"
   ]
  },
  {
   "cell_type": "code",
   "execution_count": 6,
   "id": "8fa9f12a-8369-4ce6-9f61-3ae9704eb34f",
   "metadata": {},
   "outputs": [
    {
     "name": "stderr",
     "output_type": "stream",
     "text": [
      "WARNING (pytensor.tensor.blas): Using NumPy C-API based implementation for BLAS functions.\n"
     ]
    }
   ],
   "source": [
    "from pf_utils import PortfolioManager as PM "
   ]
  },
  {
   "cell_type": "code",
   "execution_count": 7,
   "id": "84b7dc88-0b84-4469-b96f-ef6857da71a7",
   "metadata": {},
   "outputs": [],
   "source": [
    "path_data = 'data'\n",
    "path_tran = 'transaction'"
   ]
  },
  {
   "cell_type": "code",
   "execution_count": 8,
   "id": "be9bb8fc-f077-4032-b695-a92d7bf0ee6d",
   "metadata": {},
   "outputs": [],
   "source": [
    "file_cost='transaction_cost'"
   ]
  },
  {
   "cell_type": "markdown",
   "id": "7f3814e2-a8cc-4e34-9eb6-df9c4c2acf63",
   "metadata": {},
   "source": [
    "## Price"
   ]
  },
  {
   "cell_type": "code",
   "execution_count": 9,
   "id": "ec6e3345-ab1b-42a5-874f-7c4263c0cc86",
   "metadata": {},
   "outputs": [
    {
     "name": "stdout",
     "output_type": "stream",
     "text": [
      "64 securities from 2008-11-28 to 2025-01-31 uploaded.\n",
      "WARNING: the number of days in a year with 64 tickers (100%) is 12 in avg.\n",
      "REMINDER: 64 equities converted to daily\n",
      "Daily metrics in Performance statistics must be meaningless\n",
      "Price data loaded\n",
      "Cost data transaction_cost_241217.csv loaded\n"
     ]
    }
   ],
   "source": [
    "universe = 'UV_FUND'\n",
    "fund = PM.create_universe(universe)\n",
    "cost = PM.get_cost(universe, file=file_cost, path=path_tran)\n",
    "fee = cost['fee']"
   ]
  },
  {
   "cell_type": "code",
   "execution_count": 10,
   "id": "cc68382b-5ad5-487f-bd90-d117fdbecc86",
   "metadata": {},
   "outputs": [],
   "source": [
    "df_prices = fund.df_prices\n",
    "df_prices_fees = fund._get_prices_after_fee(df_prices, fee)"
   ]
  },
  {
   "cell_type": "code",
   "execution_count": 11,
   "id": "079f0174-265c-4fe3-bd34-67783543bef7",
   "metadata": {},
   "outputs": [],
   "source": [
    "func = lambda x: [k for k,v in fund.security_names.items() if x.lower() in v.lower()]\n",
    "cols = ['price', 'price_after_fees']\n",
    "df_all = pd.DataFrame()\n",
    "for i in range(2025,2060,5):\n",
    "    tickers = func(str(i))\n",
    "    df_a = pd.DataFrame()\n",
    "    for j, df_p in enumerate([df_prices, df_prices_fees]):\n",
    "        df = df_p[tickers].rename_axis('date')\n",
    "        df = df.rename_axis('ticker',axis=1).unstack().to_frame(cols[j]).dropna()\n",
    "        df_a = pd.concat([df_a, df], axis=1)\n",
    "    df_a = df_a.assign(group=i).set_index('group', append=True).swaplevel(1,2).swaplevel(0,1)\n",
    "    df_all = pd.concat([df_all, df_a])\n",
    "\n",
    "df_all = (df_all.assign(ym=df_all.index.get_level_values(\"date\").to_period('M'))\n",
    "          .sort_index().groupby(['group','ticker','ym']).tail(1).drop('ym', axis=1))"
   ]
  },
  {
   "cell_type": "code",
   "execution_count": 17,
   "id": "417bc06b-cd67-4614-9a0f-c257ea715f72",
   "metadata": {},
   "outputs": [
    {
     "data": {
      "text/plain": [
       "'250131'"
      ]
     },
     "execution_count": 17,
     "metadata": {},
     "output_type": "execute_result"
    }
   ],
   "source": [
    "date = df_all.index.get_level_values('date').max().strftime('%y%m%d')\n",
    "date"
   ]
  },
  {
   "cell_type": "code",
   "execution_count": 18,
   "id": "9f822b78-6bb8-49b5-9f0e-353379fd42d6",
   "metadata": {},
   "outputs": [],
   "source": [
    "file = f'fund_monthly_{date}.csv'\n",
    "path = 'pages'\n",
    "df_all.to_csv(f'{path}/{file}')"
   ]
  },
  {
   "cell_type": "code",
   "execution_count": 19,
   "id": "c092ab66-6357-4854-9d7a-461f64aeb62c",
   "metadata": {},
   "outputs": [],
   "source": [
    "file = f'fund_name_{date}.csv'\n",
    "path = 'pages'\n",
    "pd.Series(fund.security_names).to_csv(f'{path}/{file}')"
   ]
  },
  {
   "cell_type": "code",
   "execution_count": 20,
   "id": "338f47c5-37a7-480e-9878-69334631664d",
   "metadata": {},
   "outputs": [],
   "source": [
    "file = f'fund_monthly_{date}.csv'\n",
    "path = 'pages'\n",
    "df_all = pd.read_csv(\n",
    "    f'{path}/{file}',\n",
    "    parse_dates=['date'],\n",
    "    dtype={'ticker': str},\n",
    "    index_col=['group', 'ticker', 'date']\n",
    ")"
   ]
  },
  {
   "cell_type": "code",
   "execution_count": 21,
   "id": "1532e93b-0ddd-450f-9d05-54370610614b",
   "metadata": {},
   "outputs": [],
   "source": [
    "file = f'fund_name_{date}.csv'\n",
    "fund_name = pd.read_csv(f'{path}/{file}', dtype={'ticker': str}, index_col=[0]).to_dict()"
   ]
  },
  {
   "cell_type": "markdown",
   "id": "9a08bdcf-d500-4f09-809d-0c0164d71184",
   "metadata": {},
   "source": [
    "## Bayesian"
   ]
  },
  {
   "cell_type": "code",
   "execution_count": null,
   "id": "3e0f2080-d866-465f-bf96-8f3839226930",
   "metadata": {},
   "outputs": [],
   "source": [
    "import pandas as pd\n",
    "import json\n",
    "from pf_dash import get_inference"
   ]
  },
  {
   "cell_type": "code",
   "execution_count": null,
   "id": "5ed23649-bf02-4cb4-914c-6c24eb90a3d6",
   "metadata": {},
   "outputs": [],
   "source": [
    "file = 'fund_monthly_241229.csv'\n",
    "path = 'pages'\n",
    "df_prc = pd.read_csv(\n",
    "    f'{path}/{file}',\n",
    "    parse_dates=['date'],\n",
    "    dtype={'ticker': str},\n",
    "    index_col=['group', 'ticker', 'date']\n",
    ")"
   ]
  },
  {
   "cell_type": "code",
   "execution_count": null,
   "id": "044d3b27-6024-46e1-bcbe-eaa81f7d11e9",
   "metadata": {},
   "outputs": [],
   "source": [
    "file = 'fund_name_241230.csv'\n",
    "fund_name = pd.read_csv(f'{path}/{file}', dtype={'ticker': str}, index_col=[0]).squeeze().to_dict()"
   ]
  },
  {
   "cell_type": "code",
   "execution_count": null,
   "id": "911f8a8b-d9b0-4a9a-9d16-f12cad9a9d60",
   "metadata": {},
   "outputs": [],
   "source": [
    "kw_dst = dict(\n",
    "    file = 'fund_f3y_s3y_250109.pkl',\n",
    "    path = path_data,\n",
    "    n_points=500, \n",
    "    error=0.9999\n",
    ")\n",
    "data = get_inference(**kw_dst)\n",
    "df_dst = pd.DataFrame(data['density'], index=data['x'])\n",
    "# confine to tickers in price data\n",
    "df_dst = df_dst[list(fund_name.keys())]"
   ]
  },
  {
   "cell_type": "code",
   "execution_count": null,
   "id": "d3d4b725-58b2-43b6-bfc9-f0ee39cfe2ed",
   "metadata": {},
   "outputs": [],
   "source": [
    "data_density = dict()\n",
    "for group in df_prc.index.get_level_values('group').unique():\n",
    "    tickers = df_prc.loc[group].index.get_level_values('ticker').unique().to_list()\n",
    "    df = df_dst[tickers]\n",
    "    df = df.loc[df.notna().any(axis=1)]\n",
    "    df.columns = [fund_name[x] for x in df.columns] # ticker to name\n",
    "    data_density[group] = {\n",
    "        'density': df.to_dict('records'),\n",
    "        'x': df.index.tolist(),\n",
    "        'interval': {fund_name[k]:v for k,v in data['interval'].items() if k in tickers},\n",
    "        'hdi_prob': data['hdi_prob'],\n",
    "        'var_name': data['var_name']\n",
    "    }"
   ]
  },
  {
   "cell_type": "code",
   "execution_count": null,
   "id": "82f54f9e-73b4-4183-a8d1-f7d596529294",
   "metadata": {},
   "outputs": [],
   "source": [
    "file = 'fund_density_ret3y_250113.json'\n",
    "path = 'pages'\n",
    "with open(f'{path}/{file}', \"w\") as f:\n",
    "    json.dump(data_density, f, indent=4)"
   ]
  },
  {
   "cell_type": "code",
   "execution_count": null,
   "id": "af2f0d99-43b7-481a-837a-c9d9c9d90c05",
   "metadata": {},
   "outputs": [],
   "source": [
    "file = 'fund_density_ret3y_250113.json'\n",
    "path = 'pages'\n",
    "with open(f'{path}/{file}', \"r\") as f:\n",
    "    data_density_json = f.read()  # Read raw JSON string directly\n",
    "\n",
    "# check if successful\n",
    "data_density = json.loads(data_density_json)\n",
    "data_density = {int(k):v for k,v in data_density.items()}"
   ]
  },
  {
   "cell_type": "code",
   "execution_count": null,
   "id": "b1fcabd8-5c49-4144-ae1d-69f78ace0c4a",
   "metadata": {},
   "outputs": [],
   "source": []
  },
  {
   "cell_type": "code",
   "execution_count": null,
   "id": "b4ba2cb2-da20-44b7-9dd4-9218fb8b4294",
   "metadata": {},
   "outputs": [],
   "source": []
  },
  {
   "cell_type": "markdown",
   "id": "67beeff4-fd0e-4500-af0e-df5060dd9e8d",
   "metadata": {},
   "source": [
    "*get back to pages*"
   ]
  },
  {
   "cell_type": "code",
   "execution_count": null,
   "id": "eb2c2b18-6807-4039-8992-0e9b9fb24619",
   "metadata": {},
   "outputs": [],
   "source": [
    "os.chdir('pages')"
   ]
  },
  {
   "cell_type": "markdown",
   "id": "ea7af219-6c7b-43c4-b651-19d4db947f81",
   "metadata": {},
   "source": [
    "# Lab"
   ]
  },
  {
   "cell_type": "markdown",
   "id": "122ecc7d-d792-4182-92a5-cee81553287d",
   "metadata": {},
   "source": [
    "## Data"
   ]
  },
  {
   "cell_type": "code",
   "execution_count": null,
   "id": "4ccea2bc-b0c7-45e1-ab3a-43a8c7526598",
   "metadata": {},
   "outputs": [],
   "source": [
    "import pandas as pd"
   ]
  },
  {
   "cell_type": "code",
   "execution_count": null,
   "id": "1795692f-66e6-478e-b24e-194fb1e5f305",
   "metadata": {},
   "outputs": [],
   "source": [
    "file = 'fund_monthly_241229.csv'\n",
    "path = '.'\n",
    "df_prc = pd.read_csv(\n",
    "    f'{path}/{file}',\n",
    "    parse_dates=['date'],\n",
    "    dtype={'ticker': str},\n",
    "    index_col=['group', 'ticker', 'date']\n",
    ")"
   ]
  },
  {
   "cell_type": "code",
   "execution_count": null,
   "id": "206c2405-2837-4c78-bba9-dd186a12636a",
   "metadata": {},
   "outputs": [],
   "source": [
    "file = 'fund_name_241230.csv'\n",
    "fund_name = pd.read_csv(f'{path}/{file}', dtype={'ticker': str}, index_col=[0]).iloc[:,0].to_dict()"
   ]
  },
  {
   "cell_type": "markdown",
   "id": "2985f939-554b-4e2b-bca6-1932ac26c47c",
   "metadata": {},
   "source": [
    "## Bayesian"
   ]
  },
  {
   "cell_type": "code",
   "execution_count": null,
   "id": "87bf14b8-01e9-4e63-897e-f017babfa20f",
   "metadata": {},
   "outputs": [],
   "source": [
    "from ddf_bayesian import BayesianEstimator"
   ]
  },
  {
   "cell_type": "code",
   "execution_count": null,
   "id": "22e03a98-5a96-4a39-b1d7-bb026a466e1e",
   "metadata": {},
   "outputs": [],
   "source": [
    "df_p = df_prc['price_after_fees'].droplevel(0).unstack('ticker')"
   ]
  },
  {
   "cell_type": "code",
   "execution_count": null,
   "id": "10a93b9f-6076-4b30-99f3-8d38fe9639f3",
   "metadata": {},
   "outputs": [],
   "source": [
    "freq_year = 3\n",
    "days_in_year = 12 # months\n",
    "freq = freq_year*days_in_year # months\n",
    "date = '250109'\n",
    "\n",
    "file_est = f'tdf_f{freq_year}y_{date}'\n",
    "file_est"
   ]
  },
  {
   "cell_type": "markdown",
   "id": "4e7a2f75-2915-4b8e-b0c7-2b756967323f",
   "metadata": {},
   "source": [
    "### Estimate"
   ]
  },
  {
   "cell_type": "code",
   "execution_count": null,
   "id": "4d0e9517-f5ef-4498-81c3-fdc5e5e0ef9e",
   "metadata": {},
   "outputs": [],
   "source": [
    "kw = dict(\n",
    "    days_in_year = days_in_year,\n",
    "    security_names = fund_name\n",
    ")\n",
    "be = BayesianEstimator(df_p, **kw)"
   ]
  },
  {
   "cell_type": "code",
   "execution_count": null,
   "id": "1b9bc97d-0f18-40be-924d-4104972e0ce1",
   "metadata": {},
   "outputs": [],
   "source": [
    "be = BayesianEstimator.create(file_est, **kw)"
   ]
  },
  {
   "cell_type": "markdown",
   "id": "74bea6d1-d013-4274-96eb-2d03fccfea46",
   "metadata": {},
   "source": [
    "## Analysis"
   ]
  },
  {
   "cell_type": "code",
   "execution_count": null,
   "id": "c4a070fd-d99d-4adc-87d6-72cbf950476b",
   "metadata": {},
   "outputs": [],
   "source": [
    "#xlims = None\n",
    "xlims = [(-0.2, 0.6), (-1, 20)]\n",
    "_ = be.plot_returns(max_legend=10, xlims=xlims)"
   ]
  },
  {
   "cell_type": "code",
   "execution_count": null,
   "id": "98f8b8e4-f91c-4811-a381-19a289c5c012",
   "metadata": {},
   "outputs": [],
   "source": [
    "#var_name = 'cagr'\n",
    "var_name = 'total_return'\n",
    "ms = ['mean','sd','hdi_3%','hdi_97%']\n",
    "ascending = [False, True, False, False]\n",
    "\n",
    "df_s = be.bayesian_summary(var_name).droplevel(0)\n",
    "pick = lambda i, n=5, df=df_s: df.sort_values(ms[i], ascending=ascending[i]).iloc[:n].index.to_list()"
   ]
  },
  {
   "cell_type": "code",
   "execution_count": null,
   "id": "ca0d6442-1ff1-418a-90de-663ed16a1664",
   "metadata": {},
   "outputs": [],
   "source": [
    "#df_s.isna().any(axis=1).sum()\n",
    "#df_s = df_s.dropna()"
   ]
  },
  {
   "cell_type": "code",
   "execution_count": null,
   "id": "8e6547c9-bef3-4e8a-afdd-555aadccf339",
   "metadata": {},
   "outputs": [],
   "source": [
    "t0 = pick(0)\n",
    "kw = dict(\n",
    "    ref_val='default', \n",
    "    figsize=(12,2.5), textsize=9, grid=(1,5), length=16)\n",
    "be.plot_posterior(var_name, t0, **kw)"
   ]
  },
  {
   "cell_type": "code",
   "execution_count": null,
   "id": "3f76fba9-3ea1-4b5e-bc56-5ef3cce80e00",
   "metadata": {},
   "outputs": [],
   "source": [
    "t0"
   ]
  },
  {
   "cell_type": "code",
   "execution_count": null,
   "id": "52585943-025a-4174-b290-0fe92f9bce91",
   "metadata": {},
   "outputs": [],
   "source": [
    "tickers = t0"
   ]
  },
  {
   "cell_type": "code",
   "execution_count": null,
   "id": "75f8ef19-a44c-4164-bca7-082ba5c4a82e",
   "metadata": {},
   "outputs": [],
   "source": [
    "import numpy as np\n",
    "import pandas as pd\n",
    "from scipy.stats import gaussian_kde\n",
    "\n",
    "n_points = 200\n",
    "\n",
    "# Load posterior data\n",
    "posterior = be.bayesian_data['trace'].posterior\n",
    "\n",
    "# Specify variable and coordinates\n",
    "param = \"total_return\"  # Example: multi-dimensional parameter\n",
    "coords = {\"ticker\": tickers}  # Coordinates to filter\n",
    "\n",
    "# Average over the chain dimension, keep the draw dimension\n",
    "averaged_data = posterior[param].sel(**coords).mean(dim=\"chain\")\n",
    "\n",
    "# Convert to a DataFrame for Plotly\n",
    "df = (averaged_data.stack(sample=[\"draw\"])  # Combine draw dimension into a single index\n",
    "      .to_pandas()  # Convert to pandas DataFrame\n",
    "      .T)\n",
    "\n",
    "# Example: KDE computation for the DataFrame\n",
    "kde_data = []  # To store results\n",
    "x_values = np.linspace(df.min().min(), df.max().max(), n_points)  # Define global x range\n",
    "\n",
    "for ticker in df.columns:\n",
    "    ticker_samples = df[ticker].values  # Extract samples for the ticker\n",
    "    \n",
    "    # Compute KDE\n",
    "    kde = gaussian_kde(ticker_samples)\n",
    "    density = kde(x_values)  # Compute density for the range\n",
    "    \n",
    "    # Store results in a DataFrame\n",
    "    kde_data.append(pd.DataFrame({\n",
    "        \"x\": x_values,\n",
    "        \"density\": density,\n",
    "        \"Ticker\": ticker\n",
    "    }))\n",
    "\n",
    "# Combine all KDE data into a single DataFrame\n",
    "kde_df = pd.concat(kde_data, ignore_index=True)\n",
    "\n",
    "# Plot using Plotly\n",
    "fig = px.line(\n",
    "    kde_df,\n",
    "    x=\"x\",\n",
    "    y=\"density\",\n",
    "    color=\"Ticker\",\n",
    "    title=f\"Density of {param.upper()}\",\n",
    "    #labels={\"x\": \"Parameter Value\", \"density\": \"Density\"},\n",
    ")\n",
    "fig.show()"
   ]
  },
  {
   "cell_type": "code",
   "execution_count": null,
   "id": "3efb800e-d638-4186-b03b-f886fbf6a38b",
   "metadata": {},
   "outputs": [],
   "source": [
    "# Rename columns for clarity\n",
    "df = df.rename(columns={param: \"samples\", \"ticker\": \"Ticker\"}).T"
   ]
  },
  {
   "cell_type": "code",
   "execution_count": null,
   "id": "652578b8-1d9f-46d2-a164-c1504ac51e5a",
   "metadata": {},
   "outputs": [],
   "source": [
    "import arviz as az\n",
    "import pandas as pd\n",
    "import plotly.express as px\n",
    "import numpy as np\n",
    "\n",
    "# Load posterior data\n",
    "posterior = be.bayesian_data['trace'].posterior\n",
    "\n",
    "# Specify variable and coordinates\n",
    "param = \"total_return\"  # Example: multi-dimensional parameter\n",
    "coords = {\"ticker\": tickers}  # Coordinates to filter\n",
    "\n",
    "# Filter posterior samples based on coordinates\n",
    "selected_data = posterior[param].sel(**coords)\n",
    "\n",
    "# Stack chain and draw dimensions while keeping ticker\n",
    "stacked_data = selected_data.stack(sample=(\"chain\", \"draw\"))  # Combine chain and draw into \"sample\"\n",
    "\n",
    "# Convert to a DataFrame for Plotly Express\n",
    "df = (\n",
    "    stacked_data.to_pandas()  # Convert to pandas DataFrame\n",
    "    .reset_index()  # Reset index for easier handling\n",
    ")\n",
    "\n",
    "# Rename columns for better clarity\n",
    "df = df.rename(columns={param: \"samples\", \"ticker\": \"Ticker\"})"
   ]
  },
  {
   "cell_type": "code",
   "execution_count": null,
   "id": "45bd32a7-2c48-4957-8dbb-d38ab10eb15e",
   "metadata": {},
   "outputs": [],
   "source": [
    "df = df.set_index('Ticker')\n",
    "df"
   ]
  },
  {
   "cell_type": "code",
   "execution_count": null,
   "id": "fdfe9646-57b0-4b01-86fd-b335b2f39b50",
   "metadata": {},
   "outputs": [],
   "source": [
    "# Average over the chain dimension, keep the draw dimension\n",
    "averaged_data = posterior[param].sel(**coords).mean(dim=\"chain\")\n",
    "averaged_data"
   ]
  },
  {
   "cell_type": "code",
   "execution_count": null,
   "id": "62297041-45d6-40e1-998d-666e818db260",
   "metadata": {},
   "outputs": [],
   "source": [
    "# Convert to a DataFrame for Plotly\n",
    "df = (\n",
    "    averaged_data.stack(sample=[\"draw\"])  # Combine draw dimension into a single index\n",
    "    .to_pandas()  # Convert to pandas DataFrame\n",
    "    #.reset_index()  # Flatten the DataFrame\n",
    ")"
   ]
  },
  {
   "cell_type": "code",
   "execution_count": null,
   "id": "78730c1a-f8b4-4a1a-a6cb-3f7df90668b3",
   "metadata": {},
   "outputs": [],
   "source": [
    "# Rename columns for clarity\n",
    "df = df.rename(columns={param: \"samples\", \"ticker\": \"Ticker\"}).T"
   ]
  },
  {
   "cell_type": "code",
   "execution_count": null,
   "id": "5741fea4-2075-4b9f-bc10-c59d747dfb82",
   "metadata": {},
   "outputs": [],
   "source": [
    "import numpy as np\n",
    "import pandas as pd\n",
    "from scipy.stats import gaussian_kde\n",
    "\n",
    "# Example: KDE computation for the DataFrame\n",
    "kde_data = []  # To store results\n",
    "x_values = np.linspace(df.min().min(), df.max().max(), 500)  # Define global x range\n",
    "\n",
    "for ticker in df.columns:\n",
    "    ticker_samples = df[ticker].values  # Extract samples for the ticker\n",
    "    \n",
    "    # Compute KDE\n",
    "    kde = gaussian_kde(ticker_samples)\n",
    "    density = kde(x_values)  # Compute density for the range\n",
    "    \n",
    "    # Store results in a DataFrame\n",
    "    kde_data.append(pd.DataFrame({\n",
    "        \"x\": x_values,\n",
    "        \"density\": density,\n",
    "        \"Ticker\": ticker\n",
    "    }))\n",
    "\n",
    "# Combine all KDE data into a single DataFrame\n",
    "kde_df = pd.concat(kde_data, ignore_index=True)\n"
   ]
  },
  {
   "cell_type": "code",
   "execution_count": null,
   "id": "f1d2726c-9578-4ec9-9df9-2a367e4731e1",
   "metadata": {},
   "outputs": [],
   "source": [
    "# Plot using Plotly\n",
    "fig = px.line(\n",
    "    kde_df,\n",
    "    x=\"x\",\n",
    "    y=\"density\",\n",
    "    color=\"Ticker\",\n",
    "    title=f\"Density Plot of {param} (Averaged over Chains)\",\n",
    "    labels={\"x\": \"Parameter Value\", \"density\": \"Density\"},\n",
    ")\n",
    "fig.show()"
   ]
  },
  {
   "cell_type": "code",
   "execution_count": null,
   "id": "70117bee-85b8-4d59-8e99-b13824c6953c",
   "metadata": {},
   "outputs": [],
   "source": [
    "df.size"
   ]
  },
  {
   "cell_type": "code",
   "execution_count": null,
   "id": "34950441-0966-433e-b72f-7ceb2066d3b2",
   "metadata": {},
   "outputs": [],
   "source": [
    "kde_df.size"
   ]
  },
  {
   "cell_type": "code",
   "execution_count": null,
   "id": "0d4abc51-be13-4335-b85a-0a8429246a9d",
   "metadata": {},
   "outputs": [],
   "source": [
    "px.histogram(df)"
   ]
  },
  {
   "cell_type": "code",
   "execution_count": null,
   "id": "b2455fa2-8584-424a-9cb0-a42b05dd12f7",
   "metadata": {},
   "outputs": [],
   "source": [
    "df"
   ]
  },
  {
   "cell_type": "code",
   "execution_count": null,
   "id": "76078f84-d782-41c5-9349-aa7ccfea4582",
   "metadata": {},
   "outputs": [],
   "source": [
    "px.histogram(df)"
   ]
  },
  {
   "cell_type": "code",
   "execution_count": null,
   "id": "9eb48b5c-59a3-4a14-9163-ee926fe831a7",
   "metadata": {},
   "outputs": [],
   "source": [
    "# Plot using Plotly Express\n",
    "fig = px.histogram(\n",
    "    df,\n",
    "    x=\"samples\",  # Values for the x-axis\n",
    "    color=\"Ticker\",  # Different colors for each ticker\n",
    "    nbins=50,  # Number of bins for the histogram\n",
    "    title=f\"Posterior Distribution of {param} (Averaged over Chains)\",\n",
    "    marginal=\"rug\",  # Add rug plot for individual samples\n",
    "    labels={\"samples\": \"Parameter Value\"},\n",
    ")\n",
    "\n",
    "# Show plot\n",
    "fig.show()"
   ]
  },
  {
   "cell_type": "code",
   "execution_count": null,
   "id": "a8ea7264-b829-4290-b281-ff21d7bb0ba0",
   "metadata": {},
   "outputs": [],
   "source": [
    "# Plot using Plotly Express\n",
    "fig = px.bar(\n",
    "    df,\n",
    "    x=\"Ticker\",\n",
    "    y=\"average_samples\",\n",
    "    title=f\"Averaged Posterior Distribution of {param}\",\n",
    "    labels={\"average_samples\": \"Average Value\", \"Ticker\": \"Ticker\"},\n",
    ")\n",
    "\n",
    "# Show plot\n",
    "fig.show()"
   ]
  },
  {
   "cell_type": "code",
   "execution_count": null,
   "id": "b066982f-fed5-44e5-ba7c-fd40b143b44e",
   "metadata": {},
   "outputs": [],
   "source": []
  },
  {
   "cell_type": "code",
   "execution_count": null,
   "id": "b86331c8-d13b-4b31-8cba-f8a154c04b08",
   "metadata": {},
   "outputs": [],
   "source": [
    "# Plot using Plotly Express\n",
    "fig = px.histogram(\n",
    "    df,\n",
    "    x=\"samples\",\n",
    "    color=\"Ticker\",  # Separate histograms by ticker\n",
    "    nbins=50,\n",
    "    title=f\"Posterior Distribution of {param}\",\n",
    "    marginal=\"rug\",  # Add rug plot for individual samples\n",
    "    labels={\"samples\": \"Parameter Value\"},\n",
    ")\n",
    "\n",
    "# Add credible intervals for each coordinate (ticker)\n",
    "for ticker in coords[\"ticker\"]:\n",
    "    ticker_samples = df[df[\"Ticker\"] == ticker][\"samples\"]\n",
    "    credible_interval = np.percentile(ticker_samples, [3, 97])  # 94% CI\n",
    "    fig.add_vline(\n",
    "        x=credible_interval[0],\n",
    "        line_dash=\"dash\",\n",
    "        line_color=\"red\",\n",
    "        annotation_text=f\"{ticker} 3%\",\n",
    "    )\n",
    "    fig.add_vline(\n",
    "        x=credible_interval[1],\n",
    "        line_dash=\"dash\",\n",
    "        line_color=\"red\",\n",
    "        annotation_text=f\"{ticker} 97%\",\n",
    "    )\n",
    "\n",
    "# Show plot\n",
    "fig.show()"
   ]
  },
  {
   "cell_type": "code",
   "execution_count": null,
   "id": "8972ab4c-f16d-40c2-bce4-32a20e5a9cc3",
   "metadata": {},
   "outputs": [],
   "source": [
    "df.index.name = 'Ticker'\n",
    "df"
   ]
  },
  {
   "cell_type": "code",
   "execution_count": null,
   "id": "297b1ed4-e512-4adc-91d5-18963d049b34",
   "metadata": {},
   "outputs": [],
   "source": [
    "df.columns.names"
   ]
  },
  {
   "cell_type": "code",
   "execution_count": null,
   "id": "a08e1aff-4a4b-4136-9a6d-5d988605eecb",
   "metadata": {},
   "outputs": [],
   "source": [
    "df_flat = df.melt(\n",
    "    id_vars=[\"chain\", \"Ticker\"],  # Keep chain and Ticker as identifier variables\n",
    "    var_name=\"draw\",  # Name for the draw index\n",
    "    value_name=\"samples\"  # Name for the sample values\n",
    ")\n",
    "df_flat"
   ]
  },
  {
   "cell_type": "code",
   "execution_count": null,
   "id": "ec9f9042-6342-4820-91f6-5bbc03936232",
   "metadata": {},
   "outputs": [],
   "source": []
  },
  {
   "cell_type": "code",
   "execution_count": null,
   "id": "46612328-1838-494e-92f2-6e0aceea13f2",
   "metadata": {},
   "outputs": [],
   "source": []
  },
  {
   "cell_type": "code",
   "execution_count": null,
   "id": "4d25e608-f73c-4b44-8889-d5e8480610db",
   "metadata": {},
   "outputs": [],
   "source": []
  },
  {
   "cell_type": "code",
   "execution_count": null,
   "id": "a42cc5ba-208f-4e9a-a670-debb38bde20f",
   "metadata": {},
   "outputs": [],
   "source": []
  },
  {
   "cell_type": "code",
   "execution_count": null,
   "id": "6dc0b2d9-660e-4b09-8a0e-42df677b1923",
   "metadata": {},
   "outputs": [],
   "source": [
    "import arviz as az\n",
    "import pandas as pd\n",
    "import plotly.express as px\n",
    "import numpy as np\n",
    "\n",
    "# Load posterior data\n",
    "posterior = be.bayesian_data['trace'].posterior\n",
    "\n",
    "# Extract one parameter for demonstration\n",
    "param = \"mu\"\n",
    "samples = posterior[param].values.flatten()\n",
    "\n",
    "# Create a DataFrame for Plotly Express\n",
    "df = pd.DataFrame({\"samples\": samples})\n",
    "\n",
    "# Plot using Plotly Express\n",
    "fig = px.histogram(\n",
    "    df,\n",
    "    x=\"samples\",\n",
    "    nbins=50,\n",
    "    title=f\"Posterior Distribution of {param}\",\n",
    "    marginal=\"rug\",  # Add rug plot for individual samples\n",
    "    labels={\"samples\": \"Parameter Value\"},\n",
    ")\n",
    "\n",
    "# Add credible interval (e.g., 94%)\n",
    "credible_interval = np.percentile(samples, [3, 97])\n",
    "fig.add_vline(x=credible_interval[0], line_dash=\"dash\", line_color=\"red\", annotation_text=\"3%\")\n",
    "fig.add_vline(x=credible_interval[1], line_dash=\"dash\", line_color=\"red\", annotation_text=\"97%\")\n",
    "\n",
    "# Show plot\n",
    "fig.show()\n"
   ]
  },
  {
   "cell_type": "code",
   "execution_count": null,
   "id": "704259e2-e22a-4e3c-b56c-124c0b89bc08",
   "metadata": {},
   "outputs": [],
   "source": [
    "df"
   ]
  },
  {
   "cell_type": "code",
   "execution_count": null,
   "id": "f3732e7b-762e-4fd0-ba65-fdf58ce3da80",
   "metadata": {},
   "outputs": [],
   "source": []
  },
  {
   "cell_type": "code",
   "execution_count": null,
   "id": "1c84e172-c315-49eb-9e8d-af7f0328415e",
   "metadata": {},
   "outputs": [],
   "source": []
  },
  {
   "cell_type": "code",
   "execution_count": null,
   "id": "736ccec2-7635-4cbf-8619-d5a1d65489da",
   "metadata": {},
   "outputs": [],
   "source": []
  },
  {
   "cell_type": "code",
   "execution_count": null,
   "id": "c06284fa-4e51-43df-bb05-43c9b7b19449",
   "metadata": {},
   "outputs": [],
   "source": []
  },
  {
   "cell_type": "markdown",
   "id": "67a1e501-b3bd-49d9-bdec-be22fc56670f",
   "metadata": {},
   "source": [
    "# Deploy"
   ]
  },
  {
   "cell_type": "code",
   "execution_count": 25,
   "id": "44477120-e727-4140-adc0-249aea259270",
   "metadata": {},
   "outputs": [],
   "source": []
  },
  {
   "cell_type": "code",
   "execution_count": 26,
   "id": "cfae1de3-f1f3-4193-86d3-6f4a3e9e5c55",
   "metadata": {},
   "outputs": [
    {
     "data": {
      "text/html": [
       "\n",
       "        <iframe\n",
       "            width=\"100%\"\n",
       "            height=\"650\"\n",
       "            src=\"http://127.0.0.1:8050/\"\n",
       "            frameborder=\"0\"\n",
       "            allowfullscreen\n",
       "            \n",
       "        ></iframe>\n",
       "        "
      ],
      "text/plain": [
       "<IPython.lib.display.IFrame at 0x72f21e175a60>"
      ]
     },
     "metadata": {},
     "output_type": "display_data"
    }
   ],
   "source": [
    "if __name__ == '__main__':\n",
    "    app.run_server(debug=True)"
   ]
  },
  {
   "cell_type": "code",
   "execution_count": null,
   "id": "aeadcf8f-1f6f-46fc-b842-058e46708003",
   "metadata": {},
   "outputs": [],
   "source": []
  },
  {
   "cell_type": "code",
   "execution_count": null,
   "id": "49643c88-0999-4270-ab8f-0f356423cdfe",
   "metadata": {},
   "outputs": [],
   "source": []
  },
  {
   "cell_type": "code",
   "execution_count": null,
   "id": "a244a8df-850f-49f7-ad9a-6f2c996e8b3a",
   "metadata": {},
   "outputs": [],
   "source": []
  },
  {
   "cell_type": "markdown",
   "id": "f0081864-3e6b-4a14-a7bb-8534418f798a",
   "metadata": {},
   "source": [
    "## Testing"
   ]
  },
  {
   "cell_type": "code",
   "execution_count": 14,
   "id": "31acce52-c5fe-4aad-8f1c-37542902e1ab",
   "metadata": {},
   "outputs": [
    {
     "data": {
      "text/html": [
       "\n",
       "        <iframe\n",
       "            width=\"100%\"\n",
       "            height=\"650\"\n",
       "            src=\"http://127.0.0.1:8050/\"\n",
       "            frameborder=\"0\"\n",
       "            allowfullscreen\n",
       "            \n",
       "        ></iframe>\n",
       "        "
      ],
      "text/plain": [
       "<IPython.lib.display.IFrame at 0x72f23ebd2ab0>"
      ]
     },
     "metadata": {},
     "output_type": "display_data"
    }
   ],
   "source": [
    "from dash import Dash, html, dcc\n",
    "import dash_bootstrap_components as dbc\n",
    "from dash.dependencies import Input, Output\n",
    "\n",
    "# Initialize the Dash app\n",
    "external_stylesheets = [dbc.themes.CERULEAN]\n",
    "app = Dash(__name__, external_stylesheets=external_stylesheets)\n",
    "\n",
    "# Tabs without any label_style initially\n",
    "tabs_contents = [\n",
    "    dbc.Tab(dcc.Graph(id='price-plot'), label='가격', id='tab-1'),\n",
    "    dbc.Tab(dcc.Graph(id='return-plot'), label='수익률', id='tab-2'),\n",
    "    dbc.Tab('tab_topic', label='토픽', id='tab-3', label_class_name=\"tab-label new-badge-label\"),\n",
    "    dbc.Tab('tab_notice', label='알림', id='tab-4'),\n",
    "    dbc.Tab('tab_info', label='정보', id='tab-5'),\n",
    "]\n",
    "tabs = dbc.Tabs(tabs_contents, id='tabs')\n",
    "\n",
    "# Layout with a hidden store component to hold tab IDs\n",
    "app.layout = dbc.Container(\n",
    "    [\n",
    "        html.Br(),\n",
    "        dbc.Row(tabs),\n",
    "        html.Br(),\n",
    "        dcc.Location(id=\"url\", refresh=False),  # To initialize the page\n",
    "    ]\n",
    ")\n",
    "\n",
    "# Register the clientside callback to check if on mobile and apply label-style-mobile\n",
    "app.clientside_callback(\n",
    "    \"\"\"\n",
    "    function(pathname) {\n",
    "        // Check if the current window width indicates a mobile device\n",
    "        const isMobile = window.innerWidth < 768;\n",
    "        const tabElement = document.getElementById('tab-2');\n",
    "        \n",
    "        if (tabElement) {\n",
    "            // Add or remove the CSS class for label styling based on device type\n",
    "            if (isMobile) {\n",
    "                tabElement.classList.add('label-style-mobile');\n",
    "            } else {\n",
    "                tabElement.classList.remove('label-style-mobile');\n",
    "            }\n",
    "        }\n",
    "        return window.dash_clientside.no_update;  // Return no update to children\n",
    "    }\n",
    "    \"\"\",\n",
    "    Output('tabs', 'children'),  # Update the children of tabs (triggering the callback)\n",
    "    Input('url', 'pathname'),\n",
    ")\n",
    "\n",
    "# Run the app\n",
    "if __name__ == \"__main__\":\n",
    "    app.run_server(debug=True)\n"
   ]
  },
  {
   "cell_type": "code",
   "execution_count": 16,
   "id": "3631dc4e-5665-4808-88f5-6bec65951961",
   "metadata": {},
   "outputs": [
    {
     "data": {
      "text/html": [
       "\n",
       "        <iframe\n",
       "            width=\"100%\"\n",
       "            height=\"650\"\n",
       "            src=\"http://127.0.0.1:8050/\"\n",
       "            frameborder=\"0\"\n",
       "            allowfullscreen\n",
       "            \n",
       "        ></iframe>\n",
       "        "
      ],
      "text/plain": [
       "<IPython.lib.display.IFrame at 0x72f23c09ef90>"
      ]
     },
     "metadata": {},
     "output_type": "display_data"
    }
   ],
   "source": [
    "from dash import Dash, html, dcc\n",
    "import dash_bootstrap_components as dbc\n",
    "from dash.dependencies import Input, Output\n",
    "\n",
    "# Initialize the Dash app\n",
    "external_stylesheets = [dbc.themes.CERULEAN]\n",
    "app = Dash(__name__, external_stylesheets=external_stylesheets)\n",
    "\n",
    "# Tabs without any label_style initially\n",
    "tabs_contents = [\n",
    "    dbc.Tab(dcc.Graph(id='price-plot'), label='가격', id='tab-1'),\n",
    "    dbc.Tab(dcc.Graph(id='return-plot'), label='수익률', id='tab-2'),\n",
    "    dbc.Tab('tab_topic', label='토픽', id='tab-3', label_class_name=\"tab-label new-badge-label\"),\n",
    "    dbc.Tab('tab_notice', label='알림', id='tab-4'),\n",
    "    dbc.Tab('tab_info', label='정보', id='tab-5'),\n",
    "]\n",
    "tabs = dbc.Tabs(tabs_contents, id='tabs')\n",
    "\n",
    "# Layout with a hidden store component to hold tab IDs\n",
    "app.layout = dbc.Container(\n",
    "    [\n",
    "        html.Br(),\n",
    "        dbc.Row(tabs),\n",
    "        html.Br(),\n",
    "        dcc.Location(id=\"url\", refresh=False),  # To initialize the page\n",
    "    ]\n",
    ")\n",
    "\n",
    "# Register the clientside callback to check if on mobile and apply label-style-mobile to all tabs\n",
    "app.clientside_callback(\n",
    "    \"\"\"\n",
    "    function(pathname) {\n",
    "        // Check if the current window width indicates a mobile device\n",
    "        const isMobile = window.innerWidth > 768;\n",
    "        const tabElements = document.querySelectorAll('.nav-item');  // All tab items\n",
    "        \n",
    "        // Add or remove the CSS class for label styling for all tabs\n",
    "        tabElements.forEach(function(tabElement) {\n",
    "            if (isMobile) {\n",
    "                tabElement.classList.add('label-style-mobile');\n",
    "            } else {\n",
    "                tabElement.classList.remove('label-style-mobile');\n",
    "            }\n",
    "        });\n",
    "        \n",
    "        return window.dash_clientside.no_update;  // Return no update to children\n",
    "    }\n",
    "    \"\"\",\n",
    "    Output('tabs', 'children'),  # Update the children of tabs (triggering the callback)\n",
    "    Input('url', 'pathname'),\n",
    ")\n",
    "\n",
    "# Run the app\n",
    "if __name__ == \"__main__\":\n",
    "    app.run_server(debug=True)\n"
   ]
  },
  {
   "cell_type": "code",
   "execution_count": null,
   "id": "46640089-062c-43c9-bbe9-3966107d9e4a",
   "metadata": {},
   "outputs": [],
   "source": [
    "from dash import Dash, html, dcc\n",
    "import dash_bootstrap_components as dbc\n",
    "from dash.dependencies import Input, Output\n",
    "\n",
    "# Initialize the Dash app\n",
    "external_stylesheets = [dbc.themes.CERULEAN]\n",
    "app = Dash(__name__, external_stylesheets=external_stylesheets)\n",
    "\n",
    "\n",
    "# Tabs without any label_style initially\n",
    "tabs_contents = [\n",
    "    dbc.Tab(dcc.Graph(id='price-plot'), label='가격', id='tab-1'),\n",
    "    dbc.Tab(dcc.Graph(id='return-plot'), label='수익률', id='tab-2', label_style='label-style-mobile'),\n",
    "    dbc.Tab('tab_topic', label='토픽', id='tab-3', label_class_name=\"tab-label new-badge-label\",\n",
    "           label_style=label_style_mobile),\n",
    "    dbc.Tab('tab_notice', label='알림', id='tab-4'),\n",
    "    dbc.Tab('tab_info', label='정보', id='tab-5'),\n",
    "]\n",
    "tabs = dbc.Tabs(tabs_contents, id='tabs')\n",
    "\n",
    "# Layout with a hidden store component to hold tab IDs\n",
    "app.layout = dbc.Container(\n",
    "    [\n",
    "        html.Br(),\n",
    "        dbc.Row(tabs),\n",
    "        html.Br(),\n",
    "        dcc.Location(id=\"url\", refresh=False),  # To initialize the page\n",
    "        dcc.Store(id=\"tab-ids-store\", data=[tab.id for tab in tabs_contents]),  # Store tab IDs\n",
    "    ]\n",
    ")\n",
    "\n",
    "if __name__ == \"__main__\":\n",
    "    app.run_server(debug=True)"
   ]
  },
  {
   "cell_type": "code",
   "execution_count": 1,
   "id": "0e4a21dc-3b6d-49db-91d7-4692070b69e9",
   "metadata": {},
   "outputs": [
    {
     "data": {
      "text/html": [
       "\n",
       "        <iframe\n",
       "            width=\"100%\"\n",
       "            height=\"650\"\n",
       "            src=\"http://127.0.0.1:8050/\"\n",
       "            frameborder=\"0\"\n",
       "            allowfullscreen\n",
       "            \n",
       "        ></iframe>\n",
       "        "
      ],
      "text/plain": [
       "<IPython.lib.display.IFrame at 0x727e9c35ebd0>"
      ]
     },
     "metadata": {},
     "output_type": "display_data"
    }
   ],
   "source": [
    "from dash import Dash, html, dcc\n",
    "import dash_bootstrap_components as dbc\n",
    "from dash.dependencies import Input, Output\n",
    "\n",
    "# Initialize the Dash app\n",
    "external_stylesheets = [dbc.themes.CERULEAN]\n",
    "app = Dash(__name__, external_stylesheets=external_stylesheets)\n",
    "\n",
    "label_style_mobile = {\n",
    "    'padding-right': '0.5rem',\n",
    "    'padding-left': '0.5rem'\n",
    "}\n",
    "\n",
    "# Tabs without any label_style initially\n",
    "tabs_contents = [\n",
    "    dbc.Tab(dcc.Graph(id='price-plot'), label='가격', id='tab-1'),\n",
    "    dbc.Tab(dcc.Graph(id='return-plot'), label='수익률', id='tab-2', label_style=label_style_mobile),\n",
    "    dbc.Tab('tab_topic', label='토픽', id='tab-3', label_class_name=\"tab-label new-badge-label\"),\n",
    "    dbc.Tab('tab_notice', label='알림', id='tab-4'),\n",
    "    dbc.Tab('tab_info', label='정보', id='tab-5'),\n",
    "]\n",
    "tabs = dbc.Tabs(tabs_contents, id='tabs')\n",
    "\n",
    "# Layout with a hidden store component to hold tab IDs\n",
    "app.layout = dbc.Container(\n",
    "    [\n",
    "        html.Br(),\n",
    "        dbc.Row(tabs),\n",
    "        html.Br(),\n",
    "        dcc.Location(id=\"url\", refresh=False),  # To initialize the page\n",
    "    ]\n",
    ")\n",
    "\n",
    "if __name__ == \"__main__\":\n",
    "    app.run_server(debug=True)"
   ]
  },
  {
   "cell_type": "code",
   "execution_count": null,
   "id": "8d4ead46-339d-42b8-9658-db726d653d78",
   "metadata": {
    "jupyter": {
     "source_hidden": true
    }
   },
   "outputs": [],
   "source": [
    "app.clientside_callback(\n",
    "    \"\"\"\n",
    "    function(tab_ids) {\n",
    "        const viewportWidth = window.innerWidth;\n",
    "        const isMobile = viewportWidth > 768;\n",
    "    \n",
    "        return tab_ids.map((existingClass, index) => {\n",
    "            // Split the existing class string into an array\n",
    "            let classList = existingClass ? existingClass.split(' ') : [];\n",
    "            \n",
    "            //console.log('Existing Class List:', classList);  // Debugging\n",
    "\n",
    "            // Add 'tab-label' to all tabs\n",
    "            if (!classList.includes('tab-label')) {\n",
    "                classList.push('tab-label');\n",
    "            }\n",
    "\n",
    "            // Apply the 'new-badge-label' only to tab-3 (target based on index)\n",
    "            if (index === 2) {  // tab-3 is at index 2 (0-based index)\n",
    "                if (!classList.includes('new-badge-label')) {\n",
    "                    classList.push('new-badge-label');  // Only add the badge to tab-3\n",
    "                }\n",
    "            }\n",
    "            if (existingClass.includes('new-badge-label')) {\n",
    "                if (!classList.includes('new-badge-label')) {\n",
    "                    classList.push('new-badge-label');  // Add the badge class if already present\n",
    "                }\n",
    "            }\n",
    "\n",
    "            // Dynamically add or remove 'mobile' class\n",
    "            if (isMobile) {\n",
    "                if (!classList.includes('mobile')) {\n",
    "                    classList.push('mobile');\n",
    "                }\n",
    "            } else {\n",
    "                classList = classList.filter(c => c !== 'mobile');\n",
    "            }\n",
    "\n",
    "            //console.log('Updated Class List:', classList);  // Debugging\n",
    "\n",
    "            // Return the updated class list as a string\n",
    "            return classList.join(' ').trim();\n",
    "        });\n",
    "    }\n",
    "    \"\"\",\n",
    "    [Output(tab.id, \"label_style\") for tab in tabs_contents],\n",
    "    Input(\"tab-ids-store\", \"data\"),\n",
    ")"
   ]
  },
  {
   "cell_type": "code",
   "execution_count": null,
   "id": "7c95643f-de93-4619-955c-632bef09df3a",
   "metadata": {},
   "outputs": [],
   "source": []
  },
  {
   "cell_type": "code",
   "execution_count": null,
   "id": "fbb001da-4f84-462c-9683-06131079b97e",
   "metadata": {},
   "outputs": [],
   "source": []
  },
  {
   "cell_type": "code",
   "execution_count": null,
   "id": "32c00005-bb0a-487e-86a7-f1e3d3c23b1a",
   "metadata": {},
   "outputs": [],
   "source": []
  },
  {
   "cell_type": "code",
   "execution_count": null,
   "id": "a334eaff-6f18-4009-a9c5-07e283ee6a9e",
   "metadata": {},
   "outputs": [],
   "source": []
  },
  {
   "cell_type": "code",
   "execution_count": null,
   "id": "dc1751e9-b5c4-4981-be8c-9a6e1ffe4654",
   "metadata": {},
   "outputs": [],
   "source": []
  },
  {
   "cell_type": "markdown",
   "id": "0ce0714d-a9f8-4f37-beab-f4e566375b9f",
   "metadata": {},
   "source": [
    "## Samples"
   ]
  },
  {
   "cell_type": "markdown",
   "id": "056b7874-00c9-4509-894c-34f54bde50aa",
   "metadata": {},
   "source": [
    "### Callback"
   ]
  },
  {
   "cell_type": "code",
   "execution_count": null,
   "id": "95965ba5-0d75-4b4a-9b4a-499021d97c9c",
   "metadata": {},
   "outputs": [],
   "source": [
    "import pandas as pd\n",
    "import plotly.express as px\n",
    "from dash import Dash, html, dcc, callback, Input, Output\n",
    "from io import StringIO\n",
    "\n",
    "file_prc = 'fund_monthly_241229.csv'\n",
    "path = '.'\n",
    "\n",
    "# Load price data\n",
    "df_prc = pd.read_csv(\n",
    "    f'{path}/{file_prc}',\n",
    "    parse_dates=['date'],\n",
    "    dtype={'ticker': str},\n",
    "    index_col=['group', 'ticker', 'date']\n",
    ")\n",
    "\n",
    "app = Dash(__name__)\n",
    "app.layout = html.Div([\n",
    "    html.Button('Submit', id='submit-val', n_clicks=0),\n",
    "    dcc.Graph(id='price-plot'),\n",
    "    dcc.Store(id='price-data'),\n",
    "])\n",
    "\n",
    "group_value = 2030\n",
    "col = 'price'\n",
    "df_p = df_prc.loc[group_value, col].unstack('ticker').sort_index()\n",
    "\n",
    "@callback(\n",
    "    Output(component_id='price-data', component_property='data'),\n",
    "    Input(component_id='submit-val', component_property='n_clicks')\n",
    ")\n",
    "def update(n_clicks):\n",
    "    return df_p.to_json(date_format='iso', orient='split')\n",
    "\n",
    "\n",
    "@callback(\n",
    "    Output(component_id='price-plot', component_property='figure'),\n",
    "    Input(component_id='price-data', component_property='data')\n",
    ")\n",
    "def plot(data):\n",
    "    # Use StringIO to wrap the string data\n",
    "    data_io = StringIO(data)\n",
    "    df = pd.read_json(data_io, orient='split')\n",
    "    return px.line(df)\n",
    "\n",
    "if __name__ == '__main__':\n",
    "    app.run_server(debug=True)"
   ]
  },
  {
   "cell_type": "markdown",
   "id": "7719ab04-06e0-44ac-8e18-bf339a367f34",
   "metadata": {},
   "source": [
    "### Clientside"
   ]
  },
  {
   "cell_type": "code",
   "execution_count": null,
   "id": "d2b01741-72a7-4f1a-b4da-7c8c2df4b7a7",
   "metadata": {},
   "outputs": [],
   "source": [
    "import pandas as pd\n",
    "import plotly.express as px\n",
    "from dash import Dash, html, dcc\n",
    "import json\n",
    "\n",
    "file_prc = 'fund_monthly_241229.csv'\n",
    "path = '.'\n",
    "\n",
    "# Load price data\n",
    "df_prc = pd.read_csv(\n",
    "    f'{path}/{file_prc}',\n",
    "    parse_dates=['date'],\n",
    "    dtype={'ticker': str},\n",
    "    index_col=['group', 'ticker', 'date']\n",
    ")\n",
    "\n",
    "app = Dash(__name__)\n",
    "\n",
    "group_value = 2030\n",
    "col = 'price'\n",
    "df_p = df_prc.loc[group_value, col].unstack('ticker').sort_index()\n",
    "\n",
    "# Preprocess the data and serialize it to JSON\n",
    "preprocessed_data = df_p.to_json(date_format='iso', orient='split')\n",
    "\n",
    "app.layout = html.Div([\n",
    "    dcc.Graph(id='price-plot'),\n",
    "    # Embed the preprocessed data as a hidden div or dcc.Store\n",
    "    dcc.Store(id='price-data', data=preprocessed_data),\n",
    "])\n",
    "\n",
    "# Clientside callback for plotting\n",
    "app.clientside_callback(\n",
    "    \"\"\"\n",
    "    function(data) {\n",
    "        if (!data) {\n",
    "            return {'data': [], 'layout': {}};\n",
    "        }\n",
    "        // Parse the JSON data\n",
    "        const df = JSON.parse(data);\n",
    "        const dates = df.index;\n",
    "        const columns = df.columns;\n",
    "\n",
    "        const traces = columns.map((col, i) => ({\n",
    "            x: dates,\n",
    "            y: df.data.map(row => row[i]),\n",
    "            mode: 'lines',\n",
    "            name: col\n",
    "        }));\n",
    "\n",
    "        return {\n",
    "            data: traces,\n",
    "            layout: {\n",
    "                title: 'Price Plot',\n",
    "                xaxis: {title: 'Date'},\n",
    "                yaxis: {title: 'Price'}\n",
    "            }\n",
    "        };\n",
    "    }\n",
    "    \"\"\",\n",
    "    Output('price-plot', 'figure'),\n",
    "    Input('price-data', 'data')\n",
    ")\n",
    "\n",
    "if __name__ == '__main__':\n",
    "    app.run_server(debug=True)\n"
   ]
  },
  {
   "cell_type": "markdown",
   "id": "e39d92b4-e297-4765-9b1f-9660783ffa36",
   "metadata": {},
   "source": [
    "### Mobile"
   ]
  },
  {
   "cell_type": "code",
   "execution_count": null,
   "id": "5403873d-e7b4-4543-8fe4-403792a44914",
   "metadata": {},
   "outputs": [],
   "source": [
    "import pandas as pd\n",
    "from dash import Dash, html, dcc\n",
    "import dash_bootstrap_components as dbc\n",
    "import json\n",
    "\n",
    "file_prc = 'fund_monthly_241229.csv'\n",
    "path = '.'\n",
    "\n",
    "# Load price data\n",
    "df_prc = pd.read_csv(\n",
    "    f'{path}/{file_prc}',\n",
    "    parse_dates=['date'],\n",
    "    dtype={'ticker': str},\n",
    "    index_col=['group', 'ticker', 'date']\n",
    ")\n",
    "\n",
    "app = Dash(__name__, external_stylesheets=[dbc.themes.BOOTSTRAP])\n",
    "\n",
    "group_value = 2030\n",
    "col = 'price'\n",
    "df_p = df_prc.loc[group_value, col].unstack('ticker').sort_index()\n",
    "\n",
    "# Preprocess the data and serialize it to JSON\n",
    "preprocessed_data = df_p.to_json(date_format='iso', orient='split')\n",
    "\n",
    "app.layout = dbc.Container(\n",
    "    [\n",
    "        dbc.Row(\n",
    "            dbc.Col(\n",
    "                html.Button('Submit', id='submit-val', n_clicks=0),\n",
    "                width={\"size\": 6, \"offset\": 3},  # Centered on the screen\n",
    "                className=\"text-center\"\n",
    "            )\n",
    "        ),\n",
    "        dbc.Row(\n",
    "            dbc.Col(\n",
    "                dcc.Graph(id='price-plot'),\n",
    "                width=12  # Full-width on all screen sizes\n",
    "            ),\n",
    "            className=\"mt-4\"  # Add margin-top for spacing\n",
    "        ),\n",
    "        # Store the preprocessed data\n",
    "        dcc.Store(id='price-data', data=preprocessed_data),\n",
    "    ],\n",
    "    fluid=True  # Full-width container\n",
    ")\n",
    "\n",
    "# Clientside callback for plotting\n",
    "app.clientside_callback(\n",
    "    \"\"\"\n",
    "    function(data) {\n",
    "        if (!data) {\n",
    "            return {'data': [], 'layout': {}};\n",
    "        }\n",
    "        // Parse the JSON data\n",
    "        const df = JSON.parse(data);\n",
    "        const dates = df.index;\n",
    "        const columns = df.columns;\n",
    "\n",
    "        const traces = columns.map((col, i) => ({\n",
    "            x: dates,\n",
    "            y: df.data.map(row => row[i]),\n",
    "            mode: 'lines',\n",
    "            name: col\n",
    "        }));\n",
    "\n",
    "        return {\n",
    "            data: traces,\n",
    "            layout: {\n",
    "                title: 'Price Plot',\n",
    "                xaxis: {title: 'Date'},\n",
    "                yaxis: {title: 'Price'},\n",
    "                margin: {l: 40, r: 10, t: 40, b: 40},\n",
    "                responsive: true\n",
    "            }\n",
    "        };\n",
    "    }\n",
    "    \"\"\",\n",
    "    Output('price-plot', 'figure'),\n",
    "    Input('price-data', 'data')\n",
    ")\n",
    "\n",
    "if __name__ == '__main__':\n",
    "    app.run_server(debug=True)\n"
   ]
  },
  {
   "cell_type": "markdown",
   "id": "2e38f33b-3d4a-4883-b946-841ffeeb7dab",
   "metadata": {},
   "source": [
    "## testing"
   ]
  },
  {
   "cell_type": "code",
   "execution_count": null,
   "id": "2985b2bf-fbae-4fb2-8a15-766f90a08a6b",
   "metadata": {},
   "outputs": [],
   "source": []
  },
  {
   "cell_type": "code",
   "execution_count": null,
   "id": "2cc59d8c-cefc-4c49-9514-2271f11ad614",
   "metadata": {},
   "outputs": [],
   "source": []
  },
  {
   "cell_type": "code",
   "execution_count": null,
   "id": "810b7d80-d01d-4866-b73d-3961fa68b2d9",
   "metadata": {},
   "outputs": [],
   "source": []
  },
  {
   "cell_type": "code",
   "execution_count": null,
   "id": "5ac50823-379c-427a-bcc3-f80adfd638c6",
   "metadata": {},
   "outputs": [],
   "source": []
  },
  {
   "cell_type": "code",
   "execution_count": null,
   "id": "339edd96-dd7e-4eed-87b0-4b557ab7474e",
   "metadata": {},
   "outputs": [],
   "source": []
  },
  {
   "cell_type": "code",
   "execution_count": null,
   "id": "e85be509-4604-469d-8dce-e122d4c2c166",
   "metadata": {},
   "outputs": [],
   "source": []
  },
  {
   "cell_type": "code",
   "execution_count": null,
   "id": "0179f575-b0f5-48df-bd84-2a626332acea",
   "metadata": {},
   "outputs": [],
   "source": []
  },
  {
   "cell_type": "code",
   "execution_count": null,
   "id": "0e951f2f-1e32-425c-bf6d-0cf169df5284",
   "metadata": {},
   "outputs": [],
   "source": []
  },
  {
   "cell_type": "markdown",
   "id": "00c7f75f-563e-40c6-a5dc-1ca367b05913",
   "metadata": {},
   "source": [
    "## testing"
   ]
  },
  {
   "cell_type": "code",
   "execution_count": null,
   "id": "e2aececf-2bfe-4e57-8c6a-cf3375cb9150",
   "metadata": {},
   "outputs": [],
   "source": []
  },
  {
   "cell_type": "markdown",
   "id": "06b8bd12-9b9c-4d59-8606-a716b8ffb896",
   "metadata": {},
   "source": [
    "## testing"
   ]
  },
  {
   "cell_type": "code",
   "execution_count": null,
   "id": "f86ddb83-082a-46c8-a471-9c344ff941cd",
   "metadata": {},
   "outputs": [],
   "source": [
    "import pandas as pd"
   ]
  },
  {
   "cell_type": "code",
   "execution_count": null,
   "id": "52c82770-3bc5-4f19-91f2-ed569d0ca80b",
   "metadata": {
    "scrolled": true
   },
   "outputs": [],
   "source": [
    "file = 'fund_name_241230.csv'\n",
    "path = '.'\n",
    "\n",
    "fund_name = pd.read_csv(f'{path}/{file}', dtype={'ticker': str}, index_col=[0])\n",
    "fund_name = fund_name.iloc[:,0].to_dict()\n",
    "fund_name"
   ]
  },
  {
   "cell_type": "code",
   "execution_count": null,
   "id": "98f777fb-3970-46f7-ba2e-a66fe966f170",
   "metadata": {},
   "outputs": [],
   "source": [
    "import re\n",
    "\n",
    "\n",
    "m = re.search(r'\\d{4}', s)\n",
    "func = lambda s: [s if x is None else s[:x.end()] for x in [re.search(r'\\d{4}', s)]][0]"
   ]
  },
  {
   "cell_type": "code",
   "execution_count": null,
   "id": "c5bca4e6-f39d-46d6-addc-5da526d52b5b",
   "metadata": {},
   "outputs": [],
   "source": [
    "s = '신한마음편한TDF2040증권투자신탁[주식혼합-재간접형](종류C-re)'\n",
    "#s = '신한마음편한TDF증권투자신탁[주식혼합-재간접형](종류C-re)'\n",
    "\n",
    "func = lambda s: s[:m.end()] if (m := re.search(r'\\d{4}', s)) else s\n",
    "\n",
    "func(s)"
   ]
  },
  {
   "cell_type": "code",
   "execution_count": null,
   "id": "15dc4150-037d-4586-b839-c0e13d140ac4",
   "metadata": {},
   "outputs": [],
   "source": [
    "#i = 2050\n",
    "i = 2055\n",
    "data = preprocessed_data[i]\n",
    "#data.keys()\n",
    "\n",
    "col = '수수료 적용 전'\n",
    "d = data['default'][col]['history']\n",
    "i = data['default'][col]['index']\n",
    "df = pd.DataFrame(d, index=i)\n",
    "\n",
    "import plotly.express as px\n",
    "px.line(df)"
   ]
  },
  {
   "cell_type": "code",
   "execution_count": null,
   "id": "593ca86c-a3cc-4dcc-ad43-d5a73c14eb94",
   "metadata": {},
   "outputs": [],
   "source": [
    "import plotly.graph_objects as go\n",
    "\n",
    "i = 2050\n",
    "data = preprocessed_data[i]\n",
    "#data.keys()\n",
    "\n",
    "col = '수수료 적용 전'\n",
    "d = data['default'][col]['history']\n",
    "i = data['default'][col]['index']\n",
    "\n",
    "fig = go.Figure()\n",
    "\n",
    "# Add traces\n",
    "fig.add_trace(go.Scatter(x=i, y=d,\n",
    "                    mode='lines',\n",
    "                    #name='ticker'\n",
    "                        )\n",
    "             )\n",
    "fig.show()"
   ]
  },
  {
   "cell_type": "code",
   "execution_count": null,
   "id": "4f858a68-5548-4ae8-8764-a92ce7b91a8b",
   "metadata": {},
   "outputs": [],
   "source": [
    "# You can use Plotly's `plot` function to visualize the result\n",
    "import plotly.offline as pyo\n",
    "pyo.plot(result)"
   ]
  },
  {
   "cell_type": "code",
   "execution_count": null,
   "id": "a773b1d8-d3ef-483e-904b-cf0ccd4156f4",
   "metadata": {
    "scrolled": true
   },
   "outputs": [],
   "source": [
    "d"
   ]
  },
  {
   "cell_type": "code",
   "execution_count": null,
   "id": "edba5133-a072-47b2-b884-410a61cb7511",
   "metadata": {},
   "outputs": [],
   "source": [
    "\"\"\"\n",
    "            return {\n",
    "                x: dat.index,        // Dates from the index\n",
    "                y: yValues,          // Price history for each ticker\n",
    "                type: 'scatter',\n",
    "                mode: 'lines',\n",
    "                name: ticker,        // Ticker as the legend name\n",
    "                //color: ticker\n",
    "            };\n",
    "            \"\"\""
   ]
  },
  {
   "cell_type": "code",
   "execution_count": null,
   "id": "4e83e114-cdcc-44fc-a4ea-43fd417a42b6",
   "metadata": {},
   "outputs": [],
   "source": [
    "import plotly.graph_objects as go\n",
    "\n",
    "# Create random data with numpy\n",
    "import numpy as np\n",
    "np.random.seed(1)\n",
    "\n",
    "N = 100\n",
    "random_x = np.linspace(0, 1, N)\n",
    "random_y0 = np.random.randn(N) + 5\n",
    "random_y1 = np.random.randn(N)\n",
    "random_y2 = np.random.randn(N) - 5\n",
    "\n",
    "fig = go.Figure()\n",
    "\n",
    "# Add traces\n",
    "fig.add_trace(go.Scatter(x=random_x, y=random_y0,\n",
    "                    mode='markers',\n",
    "                    name='markers'))\n",
    "\n",
    "\n",
    "\"\"\"\n",
    "            return {\n",
    "                x: dat.index,        // Dates from the index\n",
    "                y: yValues,          // Price history for each ticker\n",
    "                type: 'scatter',\n",
    "                mode: 'lines',\n",
    "                name: ticker,        // Ticker as the legend name\n",
    "                //color: ticker\n",
    "            };\n",
    "            \"\"\""
   ]
  },
  {
   "cell_type": "code",
   "execution_count": null,
   "id": "fd32459a-e019-4b9a-8541-6f3b9d02c378",
   "metadata": {},
   "outputs": [],
   "source": [
    "import plotly.graph_objects as go\n",
    "import pandas as pd\n",
    "\n",
    "data= pd.read_csv(\"https://raw.githubusercontent.com/plotly/datasets/master/2014_usa_states.csv\")\n",
    "\n",
    "fig = go.Figure(data=go.Scatter(x=data['Postal'],\n",
    "                                y=data['Population'],\n",
    "                                mode='markers',\n",
    "                                marker_color=data['Population'],\n",
    "                                text=data['State'])) # hover text goes here\n",
    "\n",
    "fig.update_layout(title=dict(text='Population of USA States'))\n",
    "fig.show()"
   ]
  },
  {
   "cell_type": "code",
   "execution_count": null,
   "id": "fc79b6ac-4dfa-4ca3-986b-0ed7ace0da77",
   "metadata": {},
   "outputs": [],
   "source": [
    "import plotly.express as px\n",
    "\n",
    "df = px.data.gapminder().query(\"country=='Canada'\")\n",
    "fig = px.line(df, x=\"year\", y=\"lifeExp\", title='Life expectancy in Canada', color='country')\n",
    "fig.show()"
   ]
  },
  {
   "cell_type": "code",
   "execution_count": null,
   "id": "e6415d25-e48a-472d-a9a3-10b39d11e129",
   "metadata": {
    "scrolled": true
   },
   "outputs": [],
   "source": [
    "df = px.data.gapminder().query(\"continent=='Oceania'\")\n",
    "fig = px.line(df, x=\"year\", y=\"lifeExp\", color='country')\n",
    "fig.show()"
   ]
  },
  {
   "cell_type": "code",
   "execution_count": null,
   "id": "c6c1b336-4e26-4bd9-a784-3adca08660e2",
   "metadata": {},
   "outputs": [],
   "source": []
  },
  {
   "cell_type": "code",
   "execution_count": null,
   "id": "55608a2f-ef94-4e11-81fe-bdeb90525684",
   "metadata": {},
   "outputs": [],
   "source": []
  },
  {
   "cell_type": "code",
   "execution_count": null,
   "id": "a0c0d623-8e86-4d39-8628-6b9e39ed128d",
   "metadata": {},
   "outputs": [],
   "source": []
  },
  {
   "cell_type": "code",
   "execution_count": null,
   "id": "41273494-1672-4d5b-965b-83c47fb0fc8f",
   "metadata": {},
   "outputs": [],
   "source": []
  }
 ],
 "metadata": {
  "kernelspec": {
   "display_name": "portfolio",
   "language": "python",
   "name": "portfolio"
  },
  "language_info": {
   "codemirror_mode": {
    "name": "ipython",
    "version": 3
   },
   "file_extension": ".py",
   "mimetype": "text/x-python",
   "name": "python",
   "nbconvert_exporter": "python",
   "pygments_lexer": "ipython3",
   "version": "3.12.1"
  }
 },
 "nbformat": 4,
 "nbformat_minor": 5
}
