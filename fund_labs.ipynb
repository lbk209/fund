{
 "cells": [
  {
   "cell_type": "markdown",
   "id": "112369a5-0544-4409-bccf-4e1a1fe20926",
   "metadata": {},
   "source": [
    "# App"
   ]
  },
  {
   "cell_type": "code",
   "execution_count": 1,
   "id": "bba3eecb-d919-4c52-817f-0b2f9ae9e8ab",
   "metadata": {},
   "outputs": [],
   "source": [
    "from app import app"
   ]
  },
  {
   "cell_type": "code",
   "execution_count": 2,
   "id": "db04f27b-81d9-4a0f-8dac-6541ab07b059",
   "metadata": {},
   "outputs": [
    {
     "data": {
      "text/html": [
       "\n",
       "        <iframe\n",
       "            width=\"100%\"\n",
       "            height=\"650\"\n",
       "            src=\"http://127.0.0.1:8000/\"\n",
       "            frameborder=\"0\"\n",
       "            allowfullscreen\n",
       "            \n",
       "        ></iframe>\n",
       "        "
      ],
      "text/plain": [
       "<IPython.lib.display.IFrame at 0x7949fa196480>"
      ]
     },
     "metadata": {},
     "output_type": "display_data"
    }
   ],
   "source": [
    "app.run_server(debug=True, port=8000)"
   ]
  },
  {
   "cell_type": "markdown",
   "id": "248732fe-626b-4ff9-8e12-aca7a5beb52a",
   "metadata": {},
   "source": [
    "# Data\n",
    "*create data for pages*"
   ]
  },
  {
   "cell_type": "code",
   "execution_count": 3,
   "id": "01431b1d-642e-4fa3-9def-38a8f1187762",
   "metadata": {},
   "outputs": [],
   "source": [
    "import pandas as pd\n",
    "import os"
   ]
  },
  {
   "cell_type": "code",
   "execution_count": 4,
   "id": "7fa2db53-6f5e-4b4b-8f17-10bbfb071b55",
   "metadata": {},
   "outputs": [],
   "source": [
    "os.chdir('/home/lbk/works/pf')"
   ]
  },
  {
   "cell_type": "code",
   "execution_count": 5,
   "id": "8fa9f12a-8369-4ce6-9f61-3ae9704eb34f",
   "metadata": {},
   "outputs": [
    {
     "name": "stderr",
     "output_type": "stream",
     "text": [
      "WARNING (pytensor.tensor.blas): Using NumPy C-API based implementation for BLAS functions.\n"
     ]
    }
   ],
   "source": [
    "from pf_utils import PortfolioManager as PM "
   ]
  },
  {
   "cell_type": "code",
   "execution_count": 6,
   "id": "84b7dc88-0b84-4469-b96f-ef6857da71a7",
   "metadata": {},
   "outputs": [],
   "source": [
    "path_data = 'data'\n",
    "path_tran = 'transaction'"
   ]
  },
  {
   "cell_type": "code",
   "execution_count": 7,
   "id": "be9bb8fc-f077-4032-b695-a92d7bf0ee6d",
   "metadata": {},
   "outputs": [],
   "source": [
    "file_cost='transaction_cost'"
   ]
  },
  {
   "cell_type": "markdown",
   "id": "7f3814e2-a8cc-4e34-9eb6-df9c4c2acf63",
   "metadata": {},
   "source": [
    "## Price"
   ]
  },
  {
   "cell_type": "code",
   "execution_count": 8,
   "id": "ec6e3345-ab1b-42a5-874f-7c4263c0cc86",
   "metadata": {},
   "outputs": [
    {
     "name": "stdout",
     "output_type": "stream",
     "text": [
      "224 securities from 2005-01-31 to 2025-01-31 uploaded.\n",
      "WARNING: the number of days in a year with 224 tickers (100%) is 12 in avg.\n",
      "REMINDER: 224 equities converted to daily\n",
      "Daily metrics in Performance statistics must be meaningless\n",
      "Price data loaded\n",
      "Cost data transaction_cost_250207.csv loaded\n"
     ]
    }
   ],
   "source": [
    "universe = 'UV_FUND'\n",
    "fund = PM.create_universe(universe)\n",
    "cost = PM.get_cost(universe, file=file_cost, path=path_tran)\n",
    "fee = cost['fee']"
   ]
  },
  {
   "cell_type": "code",
   "execution_count": 9,
   "id": "cc68382b-5ad5-487f-bd90-d117fdbecc86",
   "metadata": {},
   "outputs": [],
   "source": [
    "df_prices = fund.df_prices\n",
    "df_prices_fees = fund._get_prices_after_fee(df_prices, fee)"
   ]
  },
  {
   "cell_type": "code",
   "execution_count": 34,
   "id": "494f9bca-a17b-43e1-956d-9fad2bfbe004",
   "metadata": {
    "scrolled": true
   },
   "outputs": [
    {
     "data": {
      "text/html": [
       "<div>\n",
       "<style scoped>\n",
       "    .dataframe tbody tr th:only-of-type {\n",
       "        vertical-align: middle;\n",
       "    }\n",
       "\n",
       "    .dataframe tbody tr th {\n",
       "        vertical-align: top;\n",
       "    }\n",
       "\n",
       "    .dataframe thead th {\n",
       "        text-align: right;\n",
       "    }\n",
       "</style>\n",
       "<table border=\"1\" class=\"dataframe\">\n",
       "  <thead>\n",
       "    <tr style=\"text-align: right;\">\n",
       "      <th></th>\n",
       "      <th></th>\n",
       "      <th>price</th>\n",
       "      <th>price_after_fees</th>\n",
       "    </tr>\n",
       "    <tr>\n",
       "      <th>ticker</th>\n",
       "      <th>date</th>\n",
       "      <th></th>\n",
       "      <th></th>\n",
       "    </tr>\n",
       "  </thead>\n",
       "  <tbody>\n",
       "    <tr>\n",
       "      <th rowspan=\"5\" valign=\"top\">K55234DF2657</th>\n",
       "      <th>2021-04-30</th>\n",
       "      <td>1009.827480</td>\n",
       "      <td>1008.793994</td>\n",
       "    </tr>\n",
       "    <tr>\n",
       "      <th>2021-05-31</th>\n",
       "      <td>1017.704134</td>\n",
       "      <td>1016.670649</td>\n",
       "    </tr>\n",
       "    <tr>\n",
       "      <th>2021-06-30</th>\n",
       "      <td>1031.942702</td>\n",
       "      <td>1030.909216</td>\n",
       "    </tr>\n",
       "    <tr>\n",
       "      <th>2021-07-31</th>\n",
       "      <td>1047.509824</td>\n",
       "      <td>1045.404287</td>\n",
       "    </tr>\n",
       "    <tr>\n",
       "      <th>2021-08-31</th>\n",
       "      <td>1063.651285</td>\n",
       "      <td>1061.545748</td>\n",
       "    </tr>\n",
       "    <tr>\n",
       "      <th>...</th>\n",
       "      <th>...</th>\n",
       "      <td>...</td>\n",
       "      <td>...</td>\n",
       "    </tr>\n",
       "    <tr>\n",
       "      <th rowspan=\"5\" valign=\"top\">KR5364AH9467</th>\n",
       "      <th>2024-09-30</th>\n",
       "      <td>2706.742535</td>\n",
       "      <td>2508.757774</td>\n",
       "    </tr>\n",
       "    <tr>\n",
       "      <th>2024-10-31</th>\n",
       "      <td>2755.229211</td>\n",
       "      <td>2549.018085</td>\n",
       "    </tr>\n",
       "    <tr>\n",
       "      <th>2024-11-30</th>\n",
       "      <td>2823.446302</td>\n",
       "      <td>2617.235176</td>\n",
       "    </tr>\n",
       "    <tr>\n",
       "      <th>2024-12-31</th>\n",
       "      <td>2939.827406</td>\n",
       "      <td>2733.616280</td>\n",
       "    </tr>\n",
       "    <tr>\n",
       "      <th>2025-01-31</th>\n",
       "      <td>2983.918887</td>\n",
       "      <td>2768.790606</td>\n",
       "    </tr>\n",
       "  </tbody>\n",
       "</table>\n",
       "<p>17665 rows × 2 columns</p>\n",
       "</div>"
      ],
      "text/plain": [
       "                               price  price_after_fees\n",
       "ticker       date                                     \n",
       "K55234DF2657 2021-04-30  1009.827480       1008.793994\n",
       "             2021-05-31  1017.704134       1016.670649\n",
       "             2021-06-30  1031.942702       1030.909216\n",
       "             2021-07-31  1047.509824       1045.404287\n",
       "             2021-08-31  1063.651285       1061.545748\n",
       "...                              ...               ...\n",
       "KR5364AH9467 2024-09-30  2706.742535       2508.757774\n",
       "             2024-10-31  2755.229211       2549.018085\n",
       "             2024-11-30  2823.446302       2617.235176\n",
       "             2024-12-31  2939.827406       2733.616280\n",
       "             2025-01-31  2983.918887       2768.790606\n",
       "\n",
       "[17665 rows x 2 columns]"
      ]
     },
     "execution_count": 34,
     "metadata": {},
     "output_type": "execute_result"
    }
   ],
   "source": [
    "cols = ['price', 'price_after_fees']\n",
    "\n",
    "df_prc = df_prices[df_prices.index.is_month_end].unstack().to_frame(cols[0])\n",
    "df = df_prices_fees[df_prices_fees.index.is_month_end].unstack().rename(cols[1])\n",
    "df_all = df_all.join(df).rename_axis(['ticker', 'date']).dropna()\n",
    "df_all"
   ]
  },
  {
   "cell_type": "code",
   "execution_count": 30,
   "id": "689d3d5d-aa0c-435c-a57a-6d24a0e6e526",
   "metadata": {},
   "outputs": [
    {
     "data": {
      "text/plain": [
       "224"
      ]
     },
     "execution_count": 30,
     "metadata": {},
     "output_type": "execute_result"
    }
   ],
   "source": [
    "df_all.index.get_level_values(0).nunique()"
   ]
  },
  {
   "cell_type": "code",
   "execution_count": 35,
   "id": "9a0ce416-139c-43f4-8297-d24662c2debd",
   "metadata": {},
   "outputs": [
    {
     "data": {
      "text/plain": [
       "'250131'"
      ]
     },
     "execution_count": 35,
     "metadata": {},
     "output_type": "execute_result"
    }
   ],
   "source": [
    "date = df_all.index.get_level_values('date').max().strftime('%y%m%d')\n",
    "date"
   ]
  },
  {
   "cell_type": "code",
   "execution_count": 38,
   "id": "5f7bf0e4-d8ac-4fe2-aed0-37a8d92db2b3",
   "metadata": {},
   "outputs": [],
   "source": [
    "file = f'funds_monthly_{date}.csv'\n",
    "path = 'pages'\n",
    "df_all.to_csv(f'{path}/{file}')"
   ]
  },
  {
   "cell_type": "markdown",
   "id": "6ca0bd1d-bb62-4681-9a66-c8f10fa2073d",
   "metadata": {},
   "source": [
    "## Category"
   ]
  },
  {
   "cell_type": "code",
   "execution_count": 39,
   "id": "ea839922-2191-4d71-b0fe-b1efe7140c37",
   "metadata": {},
   "outputs": [
    {
     "data": {
      "text/plain": [
       "Index(['name', 'seller', 'account', 'manager', 'asset', 'strategy', 'region'], dtype='object')"
      ]
     },
     "execution_count": 39,
     "metadata": {},
     "output_type": "execute_result"
    }
   ],
   "source": [
    "file = 'funds_categories.csv'\n",
    "path = 'data'\n",
    "df_cat = pd.read_csv(f'{path}/{file}').set_index('ticker')\n",
    "df_cat.columns"
   ]
  },
  {
   "cell_type": "code",
   "execution_count": null,
   "id": "8d98a571-275c-4fe8-9acf-f5e6e2f95c67",
   "metadata": {},
   "outputs": [],
   "source": []
  },
  {
   "cell_type": "code",
   "execution_count": null,
   "id": "e0d8eb60-c8c4-4100-ad73-10e05ae45bc5",
   "metadata": {},
   "outputs": [],
   "source": []
  },
  {
   "cell_type": "markdown",
   "id": "9a08bdcf-d500-4f09-809d-0c0164d71184",
   "metadata": {},
   "source": [
    "## Bayesian"
   ]
  },
  {
   "cell_type": "code",
   "execution_count": 43,
   "id": "012970c6-c0dc-42c1-aab0-c0e0140975d2",
   "metadata": {},
   "outputs": [
    {
     "name": "stdout",
     "output_type": "stream",
     "text": [
      "fund_f3y_s3y.pkl* loaded\n",
      "WARNING: the number of days in a year with 192 tickers (100%) is 12 in avg.\n"
     ]
    },
    {
     "data": {
      "text/html": [
       "<div>\n",
       "<style scoped>\n",
       "    .dataframe tbody tr th:only-of-type {\n",
       "        vertical-align: middle;\n",
       "    }\n",
       "\n",
       "    .dataframe tbody tr th {\n",
       "        vertical-align: top;\n",
       "    }\n",
       "\n",
       "    .dataframe thead th {\n",
       "        text-align: right;\n",
       "    }\n",
       "</style>\n",
       "<table border=\"1\" class=\"dataframe\">\n",
       "  <thead>\n",
       "    <tr style=\"text-align: right;\">\n",
       "      <th></th>\n",
       "      <th>mean</th>\n",
       "      <th>sd</th>\n",
       "      <th>hdi_3%</th>\n",
       "      <th>hdi_97%</th>\n",
       "      <th>mcse_mean</th>\n",
       "      <th>mcse_sd</th>\n",
       "      <th>ess_bulk</th>\n",
       "      <th>ess_tail</th>\n",
       "      <th>r_hat</th>\n",
       "    </tr>\n",
       "    <tr>\n",
       "      <th>ticker</th>\n",
       "      <th></th>\n",
       "      <th></th>\n",
       "      <th></th>\n",
       "      <th></th>\n",
       "      <th></th>\n",
       "      <th></th>\n",
       "      <th></th>\n",
       "      <th></th>\n",
       "      <th></th>\n",
       "    </tr>\n",
       "  </thead>\n",
       "  <tbody>\n",
       "    <tr>\n",
       "      <th>KR5101888398</th>\n",
       "      <td>0.079</td>\n",
       "      <td>0.027</td>\n",
       "      <td>0.029</td>\n",
       "      <td>0.131</td>\n",
       "      <td>0.000</td>\n",
       "      <td>0.000</td>\n",
       "      <td>8872.0</td>\n",
       "      <td>2719.0</td>\n",
       "      <td>1.0</td>\n",
       "    </tr>\n",
       "    <tr>\n",
       "      <th>KR5370AP9956</th>\n",
       "      <td>0.044</td>\n",
       "      <td>0.087</td>\n",
       "      <td>-0.107</td>\n",
       "      <td>0.214</td>\n",
       "      <td>0.001</td>\n",
       "      <td>0.001</td>\n",
       "      <td>9362.0</td>\n",
       "      <td>2617.0</td>\n",
       "      <td>1.0</td>\n",
       "    </tr>\n",
       "    <tr>\n",
       "      <th>KR5236AS4826</th>\n",
       "      <td>0.081</td>\n",
       "      <td>0.076</td>\n",
       "      <td>-0.070</td>\n",
       "      <td>0.221</td>\n",
       "      <td>0.001</td>\n",
       "      <td>0.001</td>\n",
       "      <td>7581.0</td>\n",
       "      <td>2640.0</td>\n",
       "      <td>1.0</td>\n",
       "    </tr>\n",
       "    <tr>\n",
       "      <th>K55105BH1010</th>\n",
       "      <td>0.104</td>\n",
       "      <td>0.151</td>\n",
       "      <td>-0.167</td>\n",
       "      <td>0.393</td>\n",
       "      <td>0.002</td>\n",
       "      <td>0.002</td>\n",
       "      <td>8777.0</td>\n",
       "      <td>3110.0</td>\n",
       "      <td>1.0</td>\n",
       "    </tr>\n",
       "    <tr>\n",
       "      <th>K55301BM7640</th>\n",
       "      <td>0.208</td>\n",
       "      <td>0.130</td>\n",
       "      <td>-0.029</td>\n",
       "      <td>0.460</td>\n",
       "      <td>0.002</td>\n",
       "      <td>0.001</td>\n",
       "      <td>7049.0</td>\n",
       "      <td>2868.0</td>\n",
       "      <td>1.0</td>\n",
       "    </tr>\n",
       "  </tbody>\n",
       "</table>\n",
       "</div>"
      ],
      "text/plain": [
       "               mean     sd  hdi_3%  hdi_97%  mcse_mean  mcse_sd  ess_bulk  \\\n",
       "ticker                                                                      \n",
       "KR5101888398  0.079  0.027   0.029    0.131      0.000    0.000    8872.0   \n",
       "KR5370AP9956  0.044  0.087  -0.107    0.214      0.001    0.001    9362.0   \n",
       "KR5236AS4826  0.081  0.076  -0.070    0.221      0.001    0.001    7581.0   \n",
       "K55105BH1010  0.104  0.151  -0.167    0.393      0.002    0.002    8777.0   \n",
       "K55301BM7640  0.208  0.130  -0.029    0.460      0.002    0.001    7049.0   \n",
       "\n",
       "              ess_tail  r_hat  \n",
       "ticker                         \n",
       "KR5101888398    2719.0    1.0  \n",
       "KR5370AP9956    2617.0    1.0  \n",
       "KR5236AS4826    2640.0    1.0  \n",
       "K55105BH1010    3110.0    1.0  \n",
       "K55301BM7640    2868.0    1.0  "
      ]
     },
     "execution_count": 43,
     "metadata": {},
     "output_type": "execute_result"
    }
   ],
   "source": [
    "from pf_dash import get_hdi\n",
    "\n",
    "file = 'fund_f3y_s3y'\n",
    "path = 'data'\n",
    "df_est = get_hdi(file, path, to_dict=False)\n",
    "df_est.head()"
   ]
  },
  {
   "cell_type": "code",
   "execution_count": 44,
   "id": "2b571d3f-ce2e-4fae-9c7a-2e58662ce550",
   "metadata": {},
   "outputs": [],
   "source": [
    "file = 'funds_bayesian_ret3y_250207.csv'\n",
    "path = 'pages'\n",
    "df_est.to_csv(f'{path}/{file}')"
   ]
  },
  {
   "cell_type": "markdown",
   "id": "67beeff4-fd0e-4500-af0e-df5060dd9e8d",
   "metadata": {},
   "source": [
    "*get back to pages*"
   ]
  },
  {
   "cell_type": "code",
   "execution_count": 45,
   "id": "eb2c2b18-6807-4039-8992-0e9b9fb24619",
   "metadata": {},
   "outputs": [],
   "source": [
    "os.chdir('pages')"
   ]
  },
  {
   "cell_type": "markdown",
   "id": "67a1e501-b3bd-49d9-bdec-be22fc56670f",
   "metadata": {},
   "source": [
    "# Deploy"
   ]
  },
  {
   "cell_type": "code",
   "execution_count": null,
   "id": "cfae1de3-f1f3-4193-86d3-6f4a3e9e5c55",
   "metadata": {
    "scrolled": true
   },
   "outputs": [],
   "source": [
    "if __name__ == '__main__':\n",
    "    app.run_server(debug=True)"
   ]
  },
  {
   "cell_type": "code",
   "execution_count": null,
   "id": "aeadcf8f-1f6f-46fc-b842-058e46708003",
   "metadata": {},
   "outputs": [],
   "source": []
  },
  {
   "cell_type": "code",
   "execution_count": null,
   "id": "49643c88-0999-4270-ab8f-0f356423cdfe",
   "metadata": {},
   "outputs": [],
   "source": []
  },
  {
   "cell_type": "markdown",
   "id": "f0081864-3e6b-4a14-a7bb-8534418f798a",
   "metadata": {},
   "source": [
    "## Implement"
   ]
  },
  {
   "cell_type": "code",
   "execution_count": 3,
   "id": "244cc749-6989-4e5f-b3ae-060a58ad4543",
   "metadata": {},
   "outputs": [],
   "source": [
    "from dash import Dash, html, dcc, Output, Input, State\n",
    "import pandas as pd\n",
    "import dash_bootstrap_components as dbc\n",
    "import dash_daq as daq\n",
    "import json\n",
    "from ddf_utils import break_line, extract_topics\n",
    "from contents_info import info\n",
    "from contents_topic_250204 import topics, images\n",
    "\n",
    "external_stylesheets = [dbc.themes.CERULEAN, \n",
    "                        #dbc.themes.BOOTSTRAP,\n",
    "                        dbc.icons.FONT_AWESOME,\n",
    "                        dbc.icons.BOOTSTRAP]\n",
    "\n",
    "style_heading={'color':'slategray', 'font-weight':'bold'}\n",
    "\n",
    "default_group = '자산'\n",
    "base_prc = 1000\n",
    "date_format = '%Y-%m-%d'\n",
    "months_in_year = 12\n",
    "cols_prc = {\n",
    "    'price': '수수료 적용 전', \n",
    "    'price_after_fees': '수수료 적용 후'\n",
    "}\n",
    "category = {\n",
    "    'name': '펀드',\n",
    "    'seller': '판매',\n",
    "    'account': '계좌',\n",
    "    'manager': '운용',\n",
    "    'asset': '자산',\n",
    "    'strategy': '전략',\n",
    "    'region': '지역'\n",
    "}\n",
    "\n",
    "# data to import\n",
    "dt = '250131'\n",
    "file_prc = f'funds_monthly_{dt}.csv'\n",
    "file_cat = 'funds_categories_250308.csv'\n",
    "file_est = 'funds_bayesian_ret3y_250207.csv'\n",
    "path = '.'\n",
    "\n",
    "# Load data\n",
    "## price\n",
    "df_prc = pd.read_csv(\n",
    "    f'{path}/{file_prc}',\n",
    "    parse_dates=['date'],\n",
    "    dtype={'ticker': str},\n",
    "    index_col=['ticker', 'date']\n",
    ")\n",
    "df_prc.columns = [cols_prc[x] for x in df_prc.columns]\n",
    "\n",
    "## cateory\n",
    "df_cat = pd.read_csv(f'{path}/{file_cat}', index_col=['ticker'])\n",
    "\n",
    "## beysian stats\n",
    "df_est = pd.read_csv(f'{path}/{file_est}', index_col=['ticker'])\n",
    "\n",
    "# Preprocess data to JSON-serializable\n",
    "## category\n",
    "data_cat = dict()\n",
    "for col in df_cat.columns:\n",
    "    data_cat[col] = df_cat[col].reset_index().groupby(col)['ticker'].apply(list).to_dict()\n",
    "\n",
    "## name for plots\n",
    "data_name = df_cat['name'].to_dict()\n",
    "\n",
    "## price\n",
    "data_prc = {}\n",
    "for col in df_prc.columns:\n",
    "    df = df_prc[col].unstack('ticker').sort_index().dropna(how='all')\n",
    "    df = df.reindex(df.index.strftime(date_format))\n",
    "    data_prc[col] = {x: df[x].dropna().to_dict() for x in df.columns}\n",
    "    #data_prc[col] = df.to_dict(orient='dict')\n",
    "\n",
    "## Scatter of estimations\n",
    "xlabel, ylabel = 'mean', 'sd'\n",
    "df_s = df_est.apply(lambda x: x[xlabel]/ x[ylabel], axis=1).rank().rename('sharpe')\n",
    "data_est = df_est.join(df_s).join(df_cat)\n",
    "# convert mean/sd into respective ranks\n",
    "data_est[xlabel] = data_est[xlabel].rank(ascending=False, pct=True).mul(100)\n",
    "data_est[ylabel] = data_est[ylabel].rank(pct=True).mul(100)\n",
    "cols = ['mean', 'sd', 'hdi_3%', 'hdi_97%', 'sharpe'] + df_cat.columns.to_list()\n",
    "data_est = data_est[cols].to_dict()\n",
    "\n",
    "# define dropdown options and default value\n",
    "category_options = [{'label':category[x], 'value':x} for x in df_cat.columns]\n",
    "category_default = 'asset'\n",
    "group_default = []"
   ]
  },
  {
   "cell_type": "code",
   "execution_count": 24,
   "id": "d465f2f5-5646-4b30-b80b-294f4c7fc66f",
   "metadata": {
    "scrolled": true
   },
   "outputs": [
    {
     "data": {
      "text/plain": [
       "{'K55101BD5217': {'2005-01-31': nan,\n",
       "  '2005-02-28': nan,\n",
       "  '2005-03-31': nan,\n",
       "  '2005-04-30': nan,\n",
       "  '2005-05-31': nan},\n",
       " 'K55101BT4394': {'2005-01-31': nan,\n",
       "  '2005-02-28': nan,\n",
       "  '2005-03-31': nan,\n",
       "  '2005-04-30': nan,\n",
       "  '2005-05-31': nan},\n",
       " 'K55101BT4402': {'2005-01-31': nan,\n",
       "  '2005-02-28': nan,\n",
       "  '2005-03-31': nan,\n",
       "  '2005-04-30': nan,\n",
       "  '2005-05-31': nan},\n",
       " 'K55101BT4428': {'2005-01-31': nan,\n",
       "  '2005-02-28': nan,\n",
       "  '2005-03-31': nan,\n",
       "  '2005-04-30': nan,\n",
       "  '2005-05-31': nan},\n",
       " 'K55101BT4444': {'2005-01-31': nan,\n",
       "  '2005-02-28': nan,\n",
       "  '2005-03-31': nan,\n",
       "  '2005-04-30': nan,\n",
       "  '2005-05-31': nan},\n",
       " 'K55101BT7397': {'2005-01-31': nan,\n",
       "  '2005-02-28': nan,\n",
       "  '2005-03-31': nan,\n",
       "  '2005-04-30': nan,\n",
       "  '2005-05-31': nan},\n",
       " 'K55101BX0164': {'2005-01-31': nan,\n",
       "  '2005-02-28': nan,\n",
       "  '2005-03-31': nan,\n",
       "  '2005-04-30': nan,\n",
       "  '2005-05-31': nan},\n",
       " 'K55101BY3944': {'2005-01-31': nan,\n",
       "  '2005-02-28': nan,\n",
       "  '2005-03-31': nan,\n",
       "  '2005-04-30': nan,\n",
       "  '2005-05-31': nan},\n",
       " 'K55101BZ1079': {'2005-01-31': nan,\n",
       "  '2005-02-28': nan,\n",
       "  '2005-03-31': nan,\n",
       "  '2005-04-30': nan,\n",
       "  '2005-05-31': nan},\n",
       " 'K55101CH6269': {'2005-01-31': nan,\n",
       "  '2005-02-28': nan,\n",
       "  '2005-03-31': nan,\n",
       "  '2005-04-30': nan,\n",
       "  '2005-05-31': nan},\n",
       " 'K55101CU1644': {'2005-01-31': nan,\n",
       "  '2005-02-28': nan,\n",
       "  '2005-03-31': nan,\n",
       "  '2005-04-30': nan,\n",
       "  '2005-05-31': nan},\n",
       " 'K55101D20676': {'2005-01-31': nan,\n",
       "  '2005-02-28': nan,\n",
       "  '2005-03-31': nan,\n",
       "  '2005-04-30': nan,\n",
       "  '2005-05-31': nan},\n",
       " 'K55101D20874': {'2005-01-31': nan,\n",
       "  '2005-02-28': nan,\n",
       "  '2005-03-31': nan,\n",
       "  '2005-04-30': nan,\n",
       "  '2005-05-31': nan},\n",
       " 'K55101DP7696': {'2005-01-31': nan,\n",
       "  '2005-02-28': nan,\n",
       "  '2005-03-31': nan,\n",
       "  '2005-04-30': nan,\n",
       "  '2005-05-31': nan},\n",
       " 'K55101DP7886': {'2005-01-31': nan,\n",
       "  '2005-02-28': nan,\n",
       "  '2005-03-31': nan,\n",
       "  '2005-04-30': nan,\n",
       "  '2005-05-31': nan},\n",
       " 'K55101E95114': {'2005-01-31': nan,\n",
       "  '2005-02-28': nan,\n",
       "  '2005-03-31': nan,\n",
       "  '2005-04-30': nan,\n",
       "  '2005-05-31': nan},\n",
       " 'K55101E95247': {'2005-01-31': nan,\n",
       "  '2005-02-28': nan,\n",
       "  '2005-03-31': nan,\n",
       "  '2005-04-30': nan,\n",
       "  '2005-05-31': nan},\n",
       " 'K55102BJ9261': {'2005-01-31': nan,\n",
       "  '2005-02-28': nan,\n",
       "  '2005-03-31': nan,\n",
       "  '2005-04-30': nan,\n",
       "  '2005-05-31': nan},\n",
       " 'K55102BT2108': {'2005-01-31': nan,\n",
       "  '2005-02-28': nan,\n",
       "  '2005-03-31': nan,\n",
       "  '2005-04-30': nan,\n",
       "  '2005-05-31': nan},\n",
       " 'K55102BT2124': {'2005-01-31': nan,\n",
       "  '2005-02-28': nan,\n",
       "  '2005-03-31': nan,\n",
       "  '2005-04-30': nan,\n",
       "  '2005-05-31': nan},\n",
       " 'K55102BT6562': {'2005-01-31': nan,\n",
       "  '2005-02-28': nan,\n",
       "  '2005-03-31': nan,\n",
       "  '2005-04-30': nan,\n",
       "  '2005-05-31': nan},\n",
       " 'K55102C00306': {'2005-01-31': nan,\n",
       "  '2005-02-28': nan,\n",
       "  '2005-03-31': nan,\n",
       "  '2005-04-30': nan,\n",
       "  '2005-05-31': nan},\n",
       " 'K55102C00520': {'2005-01-31': nan,\n",
       "  '2005-02-28': nan,\n",
       "  '2005-03-31': nan,\n",
       "  '2005-04-30': nan,\n",
       "  '2005-05-31': nan},\n",
       " 'K55102C13374': {'2005-01-31': nan,\n",
       "  '2005-02-28': nan,\n",
       "  '2005-03-31': nan,\n",
       "  '2005-04-30': nan,\n",
       "  '2005-05-31': nan},\n",
       " 'K55102C83120': {'2005-01-31': nan,\n",
       "  '2005-02-28': nan,\n",
       "  '2005-03-31': nan,\n",
       "  '2005-04-30': nan,\n",
       "  '2005-05-31': nan},\n",
       " 'K55102D26937': {'2005-01-31': nan,\n",
       "  '2005-02-28': nan,\n",
       "  '2005-03-31': nan,\n",
       "  '2005-04-30': nan,\n",
       "  '2005-05-31': nan},\n",
       " 'K55102DU9165': {'2005-01-31': nan,\n",
       "  '2005-02-28': nan,\n",
       "  '2005-03-31': nan,\n",
       "  '2005-04-30': nan,\n",
       "  '2005-05-31': nan},\n",
       " 'K55102E62419': {'2005-01-31': nan,\n",
       "  '2005-02-28': nan,\n",
       "  '2005-03-31': nan,\n",
       "  '2005-04-30': nan,\n",
       "  '2005-05-31': nan},\n",
       " 'K55102EA3104': {'2005-01-31': nan,\n",
       "  '2005-02-28': nan,\n",
       "  '2005-03-31': nan,\n",
       "  '2005-04-30': nan,\n",
       "  '2005-05-31': nan},\n",
       " 'K55102ED7201': {'2005-01-31': nan,\n",
       "  '2005-02-28': nan,\n",
       "  '2005-03-31': nan,\n",
       "  '2005-04-30': nan,\n",
       "  '2005-05-31': nan},\n",
       " 'K55102ED7375': {'2005-01-31': nan,\n",
       "  '2005-02-28': nan,\n",
       "  '2005-03-31': nan,\n",
       "  '2005-04-30': nan,\n",
       "  '2005-05-31': nan},\n",
       " 'K55102ED7540': {'2005-01-31': nan,\n",
       "  '2005-02-28': nan,\n",
       "  '2005-03-31': nan,\n",
       "  '2005-04-30': nan,\n",
       "  '2005-05-31': nan},\n",
       " 'K55102ED7722': {'2005-01-31': nan,\n",
       "  '2005-02-28': nan,\n",
       "  '2005-03-31': nan,\n",
       "  '2005-04-30': nan,\n",
       "  '2005-05-31': nan},\n",
       " 'K55102ED7896': {'2005-01-31': nan,\n",
       "  '2005-02-28': nan,\n",
       "  '2005-03-31': nan,\n",
       "  '2005-04-30': nan,\n",
       "  '2005-05-31': nan},\n",
       " 'K55102ED8076': {'2005-01-31': nan,\n",
       "  '2005-02-28': nan,\n",
       "  '2005-03-31': nan,\n",
       "  '2005-04-30': nan,\n",
       "  '2005-05-31': nan},\n",
       " 'K55102EF3612': {'2005-01-31': nan,\n",
       "  '2005-02-28': nan,\n",
       "  '2005-03-31': nan,\n",
       "  '2005-04-30': nan,\n",
       "  '2005-05-31': nan},\n",
       " 'K55105B00871': {'2005-01-31': nan,\n",
       "  '2005-02-28': nan,\n",
       "  '2005-03-31': nan,\n",
       "  '2005-04-30': nan,\n",
       "  '2005-05-31': nan},\n",
       " 'K55105BG6820': {'2005-01-31': nan,\n",
       "  '2005-02-28': nan,\n",
       "  '2005-03-31': nan,\n",
       "  '2005-04-30': nan,\n",
       "  '2005-05-31': nan},\n",
       " 'K55105BG6945': {'2005-01-31': nan,\n",
       "  '2005-02-28': nan,\n",
       "  '2005-03-31': nan,\n",
       "  '2005-04-30': nan,\n",
       "  '2005-05-31': nan},\n",
       " 'K55105BG6960': {'2005-01-31': nan,\n",
       "  '2005-02-28': nan,\n",
       "  '2005-03-31': nan,\n",
       "  '2005-04-30': nan,\n",
       "  '2005-05-31': nan},\n",
       " 'K55105BH0889': {'2005-01-31': nan,\n",
       "  '2005-02-28': nan,\n",
       "  '2005-03-31': nan,\n",
       "  '2005-04-30': nan,\n",
       "  '2005-05-31': nan},\n",
       " 'K55105BH0970': {'2005-01-31': nan,\n",
       "  '2005-02-28': nan,\n",
       "  '2005-03-31': nan,\n",
       "  '2005-04-30': nan,\n",
       "  '2005-05-31': nan},\n",
       " 'K55105BH1010': {'2005-01-31': nan,\n",
       "  '2005-02-28': nan,\n",
       "  '2005-03-31': nan,\n",
       "  '2005-04-30': nan,\n",
       "  '2005-05-31': nan},\n",
       " 'K55105BS2072': {'2005-01-31': nan,\n",
       "  '2005-02-28': nan,\n",
       "  '2005-03-31': nan,\n",
       "  '2005-04-30': nan,\n",
       "  '2005-05-31': nan},\n",
       " 'K55105BS5067': {'2005-01-31': nan,\n",
       "  '2005-02-28': nan,\n",
       "  '2005-03-31': nan,\n",
       "  '2005-04-30': nan,\n",
       "  '2005-05-31': nan},\n",
       " 'K55105BS8111': {'2005-01-31': nan,\n",
       "  '2005-02-28': nan,\n",
       "  '2005-03-31': nan,\n",
       "  '2005-04-30': nan,\n",
       "  '2005-05-31': nan},\n",
       " 'K55105BS8129': {'2005-01-31': nan,\n",
       "  '2005-02-28': nan,\n",
       "  '2005-03-31': nan,\n",
       "  '2005-04-30': nan,\n",
       "  '2005-05-31': nan},\n",
       " 'K55105BT9910': {'2005-01-31': nan,\n",
       "  '2005-02-28': nan,\n",
       "  '2005-03-31': nan,\n",
       "  '2005-04-30': nan,\n",
       "  '2005-05-31': nan},\n",
       " 'K55105BT9936': {'2005-01-31': nan,\n",
       "  '2005-02-28': nan,\n",
       "  '2005-03-31': nan,\n",
       "  '2005-04-30': nan,\n",
       "  '2005-05-31': nan},\n",
       " 'K55105BU1161': {'2005-01-31': nan,\n",
       "  '2005-02-28': nan,\n",
       "  '2005-03-31': nan,\n",
       "  '2005-04-30': nan,\n",
       "  '2005-05-31': nan},\n",
       " 'K55105CK1592': {'2005-01-31': nan,\n",
       "  '2005-02-28': nan,\n",
       "  '2005-03-31': nan,\n",
       "  '2005-04-30': nan,\n",
       "  '2005-05-31': nan},\n",
       " 'K55105DF9781': {'2005-01-31': nan,\n",
       "  '2005-02-28': nan,\n",
       "  '2005-03-31': nan,\n",
       "  '2005-04-30': nan,\n",
       "  '2005-05-31': nan},\n",
       " 'K55105DK2722': {'2005-01-31': nan,\n",
       "  '2005-02-28': nan,\n",
       "  '2005-03-31': nan,\n",
       "  '2005-04-30': nan,\n",
       "  '2005-05-31': nan},\n",
       " 'K55105DK2888': {'2005-01-31': nan,\n",
       "  '2005-02-28': nan,\n",
       "  '2005-03-31': nan,\n",
       "  '2005-04-30': nan,\n",
       "  '2005-05-31': nan},\n",
       " 'K55105DN1572': {'2005-01-31': nan,\n",
       "  '2005-02-28': nan,\n",
       "  '2005-03-31': nan,\n",
       "  '2005-04-30': nan,\n",
       "  '2005-05-31': nan},\n",
       " 'K55105DN1770': {'2005-01-31': nan,\n",
       "  '2005-02-28': nan,\n",
       "  '2005-03-31': nan,\n",
       "  '2005-04-30': nan,\n",
       "  '2005-05-31': nan},\n",
       " 'K55105DR1693': {'2005-01-31': nan,\n",
       "  '2005-02-28': nan,\n",
       "  '2005-03-31': nan,\n",
       "  '2005-04-30': nan,\n",
       "  '2005-05-31': nan},\n",
       " 'K55105DR1859': {'2005-01-31': nan,\n",
       "  '2005-02-28': nan,\n",
       "  '2005-03-31': nan,\n",
       "  '2005-04-30': nan,\n",
       "  '2005-05-31': nan},\n",
       " 'K55107BU0237': {'2005-01-31': nan,\n",
       "  '2005-02-28': nan,\n",
       "  '2005-03-31': nan,\n",
       "  '2005-04-30': nan,\n",
       "  '2005-05-31': nan},\n",
       " 'K55107BU0252': {'2005-01-31': nan,\n",
       "  '2005-02-28': nan,\n",
       "  '2005-03-31': nan,\n",
       "  '2005-04-30': nan,\n",
       "  '2005-05-31': nan},\n",
       " 'K55107EA9247': {'2005-01-31': nan,\n",
       "  '2005-02-28': nan,\n",
       "  '2005-03-31': nan,\n",
       "  '2005-04-30': nan,\n",
       "  '2005-05-31': nan},\n",
       " 'K55203C53681': {'2005-01-31': nan,\n",
       "  '2005-02-28': nan,\n",
       "  '2005-03-31': nan,\n",
       "  '2005-04-30': nan,\n",
       "  '2005-05-31': nan},\n",
       " 'K55206BU2555': {'2005-01-31': nan,\n",
       "  '2005-02-28': nan,\n",
       "  '2005-03-31': nan,\n",
       "  '2005-04-30': nan,\n",
       "  '2005-05-31': nan},\n",
       " 'K55206BW7669': {'2005-01-31': nan,\n",
       "  '2005-02-28': nan,\n",
       "  '2005-03-31': nan,\n",
       "  '2005-04-30': nan,\n",
       "  '2005-05-31': nan},\n",
       " 'K55206C11278': {'2005-01-31': nan,\n",
       "  '2005-02-28': nan,\n",
       "  '2005-03-31': nan,\n",
       "  '2005-04-30': nan,\n",
       "  '2005-05-31': nan},\n",
       " 'K55206C95800': {'2005-01-31': nan,\n",
       "  '2005-02-28': nan,\n",
       "  '2005-03-31': nan,\n",
       "  '2005-04-30': nan,\n",
       "  '2005-05-31': nan},\n",
       " 'K55206C95974': {'2005-01-31': nan,\n",
       "  '2005-02-28': nan,\n",
       "  '2005-03-31': nan,\n",
       "  '2005-04-30': nan,\n",
       "  '2005-05-31': nan},\n",
       " 'K55206C96121': {'2005-01-31': nan,\n",
       "  '2005-02-28': nan,\n",
       "  '2005-03-31': nan,\n",
       "  '2005-04-30': nan,\n",
       "  '2005-05-31': nan},\n",
       " 'K55206C96311': {'2005-01-31': nan,\n",
       "  '2005-02-28': nan,\n",
       "  '2005-03-31': nan,\n",
       "  '2005-04-30': nan,\n",
       "  '2005-05-31': nan},\n",
       " 'K55206CQ7351': {'2005-01-31': nan,\n",
       "  '2005-02-28': nan,\n",
       "  '2005-03-31': nan,\n",
       "  '2005-04-30': nan,\n",
       "  '2005-05-31': nan},\n",
       " 'K55206DZ7102': {'2005-01-31': nan,\n",
       "  '2005-02-28': nan,\n",
       "  '2005-03-31': nan,\n",
       "  '2005-04-30': nan,\n",
       "  '2005-05-31': nan},\n",
       " 'K55206E15226': {'2005-01-31': nan,\n",
       "  '2005-02-28': nan,\n",
       "  '2005-03-31': nan,\n",
       "  '2005-04-30': nan,\n",
       "  '2005-05-31': nan},\n",
       " 'K55206E56618': {'2005-01-31': nan,\n",
       "  '2005-02-28': nan,\n",
       "  '2005-03-31': nan,\n",
       "  '2005-04-30': nan,\n",
       "  '2005-05-31': nan},\n",
       " 'K55206E98859': {'2005-01-31': nan,\n",
       "  '2005-02-28': nan,\n",
       "  '2005-03-31': nan,\n",
       "  '2005-04-30': nan,\n",
       "  '2005-05-31': nan},\n",
       " 'K55206EA0246': {'2005-01-31': nan,\n",
       "  '2005-02-28': nan,\n",
       "  '2005-03-31': nan,\n",
       "  '2005-04-30': nan,\n",
       "  '2005-05-31': nan},\n",
       " 'K55207BT6277': {'2005-01-31': nan,\n",
       "  '2005-02-28': nan,\n",
       "  '2005-03-31': nan,\n",
       "  '2005-04-30': nan,\n",
       "  '2005-05-31': nan},\n",
       " 'K55207BT8034': {'2005-01-31': nan,\n",
       "  '2005-02-28': nan,\n",
       "  '2005-03-31': nan,\n",
       "  '2005-04-30': nan,\n",
       "  '2005-05-31': nan},\n",
       " 'K55207BU0699': {'2005-01-31': nan,\n",
       "  '2005-02-28': nan,\n",
       "  '2005-03-31': nan,\n",
       "  '2005-04-30': nan,\n",
       "  '2005-05-31': nan},\n",
       " 'K55207BU0715': {'2005-01-31': nan,\n",
       "  '2005-02-28': nan,\n",
       "  '2005-03-31': nan,\n",
       "  '2005-04-30': nan,\n",
       "  '2005-05-31': nan},\n",
       " 'K55207D44267': {'2005-01-31': nan,\n",
       "  '2005-02-28': nan,\n",
       "  '2005-03-31': nan,\n",
       "  '2005-04-30': nan,\n",
       "  '2005-05-31': nan},\n",
       " 'K55209BG6221': {'2005-01-31': nan,\n",
       "  '2005-02-28': nan,\n",
       "  '2005-03-31': nan,\n",
       "  '2005-04-30': nan,\n",
       "  '2005-05-31': nan},\n",
       " 'K55209BT8966': {'2005-01-31': nan,\n",
       "  '2005-02-28': nan,\n",
       "  '2005-03-31': nan,\n",
       "  '2005-04-30': nan,\n",
       "  '2005-05-31': nan},\n",
       " 'K55210BU2385': {'2005-01-31': nan,\n",
       "  '2005-02-28': nan,\n",
       "  '2005-03-31': nan,\n",
       "  '2005-04-30': nan,\n",
       "  '2005-05-31': nan},\n",
       " 'K55210BU2419': {'2005-01-31': nan,\n",
       "  '2005-02-28': nan,\n",
       "  '2005-03-31': nan,\n",
       "  '2005-04-30': nan,\n",
       "  '2005-05-31': nan},\n",
       " 'K55210BU2435': {'2005-01-31': nan,\n",
       "  '2005-02-28': nan,\n",
       "  '2005-03-31': nan,\n",
       "  '2005-04-30': nan,\n",
       "  '2005-05-31': nan},\n",
       " 'K55210BU2450': {'2005-01-31': nan,\n",
       "  '2005-02-28': nan,\n",
       "  '2005-03-31': nan,\n",
       "  '2005-04-30': nan,\n",
       "  '2005-05-31': nan},\n",
       " 'K55210C28001': {'2005-01-31': nan,\n",
       "  '2005-02-28': nan,\n",
       "  '2005-03-31': nan,\n",
       "  '2005-04-30': nan,\n",
       "  '2005-05-31': nan},\n",
       " 'K55210CO3828': {'2005-01-31': nan,\n",
       "  '2005-02-28': nan,\n",
       "  '2005-03-31': nan,\n",
       "  '2005-04-30': nan,\n",
       "  '2005-05-31': nan},\n",
       " 'K55210CY1002': {'2005-01-31': nan,\n",
       "  '2005-02-28': nan,\n",
       "  '2005-03-31': nan,\n",
       "  '2005-04-30': nan,\n",
       "  '2005-05-31': nan},\n",
       " 'K55210E77483': {'2005-01-31': nan,\n",
       "  '2005-02-28': nan,\n",
       "  '2005-03-31': nan,\n",
       "  '2005-04-30': nan,\n",
       "  '2005-05-31': nan},\n",
       " 'K55210EE2770': {'2005-01-31': nan,\n",
       "  '2005-02-28': nan,\n",
       "  '2005-03-31': nan,\n",
       "  '2005-04-30': nan,\n",
       "  '2005-05-31': nan},\n",
       " 'K55213C50546': {'2005-01-31': nan,\n",
       "  '2005-02-28': nan,\n",
       "  '2005-03-31': nan,\n",
       "  '2005-04-30': nan,\n",
       "  '2005-05-31': nan},\n",
       " 'K55213C50686': {'2005-01-31': nan,\n",
       "  '2005-02-28': nan,\n",
       "  '2005-03-31': nan,\n",
       "  '2005-04-30': nan,\n",
       "  '2005-05-31': nan},\n",
       " 'K55213C50702': {'2005-01-31': nan,\n",
       "  '2005-02-28': nan,\n",
       "  '2005-03-31': nan,\n",
       "  '2005-04-30': nan,\n",
       "  '2005-05-31': nan},\n",
       " 'K55213C51049': {'2005-01-31': nan,\n",
       "  '2005-02-28': nan,\n",
       "  '2005-03-31': nan,\n",
       "  '2005-04-30': nan,\n",
       "  '2005-05-31': nan},\n",
       " 'K55213C51064': {'2005-01-31': nan,\n",
       "  '2005-02-28': nan,\n",
       "  '2005-03-31': nan,\n",
       "  '2005-04-30': nan,\n",
       "  '2005-05-31': nan},\n",
       " 'K55213C51262': {'2005-01-31': nan,\n",
       "  '2005-02-28': nan,\n",
       "  '2005-03-31': nan,\n",
       "  '2005-04-30': nan,\n",
       "  '2005-05-31': nan},\n",
       " 'K55213C51718': {'2005-01-31': nan,\n",
       "  '2005-02-28': nan,\n",
       "  '2005-03-31': nan,\n",
       "  '2005-04-30': nan,\n",
       "  '2005-05-31': nan},\n",
       " 'K55213C51874': {'2005-01-31': nan,\n",
       "  '2005-02-28': nan,\n",
       "  '2005-03-31': nan,\n",
       "  '2005-04-30': nan,\n",
       "  '2005-05-31': nan},\n",
       " 'K55213C51890': {'2005-01-31': nan,\n",
       "  '2005-02-28': nan,\n",
       "  '2005-03-31': nan,\n",
       "  '2005-04-30': nan,\n",
       "  '2005-05-31': nan},\n",
       " 'K55213DD7364': {'2005-01-31': nan,\n",
       "  '2005-02-28': nan,\n",
       "  '2005-03-31': nan,\n",
       "  '2005-04-30': nan,\n",
       "  '2005-05-31': nan},\n",
       " 'K55214B25852': {'2005-01-31': nan,\n",
       "  '2005-02-28': nan,\n",
       "  '2005-03-31': nan,\n",
       "  '2005-04-30': nan,\n",
       "  '2005-05-31': nan},\n",
       " 'K55214B30803': {'2005-01-31': nan,\n",
       "  '2005-02-28': nan,\n",
       "  '2005-03-31': nan,\n",
       "  '2005-04-30': nan,\n",
       "  '2005-05-31': nan},\n",
       " 'K55214CD4809': {'2005-01-31': nan,\n",
       "  '2005-02-28': nan,\n",
       "  '2005-03-31': nan,\n",
       "  '2005-04-30': nan,\n",
       "  '2005-05-31': nan},\n",
       " 'K55223BT1096': {'2005-01-31': nan,\n",
       "  '2005-02-28': nan,\n",
       "  '2005-03-31': nan,\n",
       "  '2005-04-30': nan,\n",
       "  '2005-05-31': nan},\n",
       " 'K55223BT1278': {'2005-01-31': nan,\n",
       "  '2005-02-28': nan,\n",
       "  '2005-03-31': nan,\n",
       "  '2005-04-30': nan,\n",
       "  '2005-05-31': nan},\n",
       " 'K55223BT1450': {'2005-01-31': nan,\n",
       "  '2005-02-28': nan,\n",
       "  '2005-03-31': nan,\n",
       "  '2005-04-30': nan,\n",
       "  '2005-05-31': nan},\n",
       " 'K55223BT1757': {'2005-01-31': nan,\n",
       "  '2005-02-28': nan,\n",
       "  '2005-03-31': nan,\n",
       "  '2005-04-30': nan,\n",
       "  '2005-05-31': nan},\n",
       " 'K55223BT1922': {'2005-01-31': nan,\n",
       "  '2005-02-28': nan,\n",
       "  '2005-03-31': nan,\n",
       "  '2005-04-30': nan,\n",
       "  '2005-05-31': nan},\n",
       " 'K55223BW3824': {'2005-01-31': nan,\n",
       "  '2005-02-28': nan,\n",
       "  '2005-03-31': nan,\n",
       "  '2005-04-30': nan,\n",
       "  '2005-05-31': nan},\n",
       " 'K55223C05630': {'2005-01-31': nan,\n",
       "  '2005-02-28': nan,\n",
       "  '2005-03-31': nan,\n",
       "  '2005-04-30': nan,\n",
       "  '2005-05-31': nan},\n",
       " 'K55223C89204': {'2005-01-31': nan,\n",
       "  '2005-02-28': nan,\n",
       "  '2005-03-31': nan,\n",
       "  '2005-04-30': nan,\n",
       "  '2005-05-31': nan},\n",
       " 'K55223CN9433': {'2005-01-31': nan,\n",
       "  '2005-02-28': nan,\n",
       "  '2005-03-31': nan,\n",
       "  '2005-04-30': nan,\n",
       "  '2005-05-31': nan},\n",
       " 'K55223DF4961': {'2005-01-31': nan,\n",
       "  '2005-02-28': nan,\n",
       "  '2005-03-31': nan,\n",
       "  '2005-04-30': nan,\n",
       "  '2005-05-31': nan},\n",
       " 'K55223DS0337': {'2005-01-31': nan,\n",
       "  '2005-02-28': nan,\n",
       "  '2005-03-31': nan,\n",
       "  '2005-04-30': nan,\n",
       "  '2005-05-31': nan},\n",
       " 'K55223E80928': {'2005-01-31': nan,\n",
       "  '2005-02-28': nan,\n",
       "  '2005-03-31': nan,\n",
       "  '2005-04-30': nan,\n",
       "  '2005-05-31': nan},\n",
       " 'K55228BT5076': {'2005-01-31': nan,\n",
       "  '2005-02-28': nan,\n",
       "  '2005-03-31': nan,\n",
       "  '2005-04-30': nan,\n",
       "  '2005-05-31': nan},\n",
       " 'K55229BT3864': {'2005-01-31': nan,\n",
       "  '2005-02-28': nan,\n",
       "  '2005-03-31': nan,\n",
       "  '2005-04-30': nan,\n",
       "  '2005-05-31': nan},\n",
       " 'K55229BX9378': {'2005-01-31': nan,\n",
       "  '2005-02-28': nan,\n",
       "  '2005-03-31': nan,\n",
       "  '2005-04-30': nan,\n",
       "  '2005-05-31': nan},\n",
       " 'K55230D81030': {'2005-01-31': nan,\n",
       "  '2005-02-28': nan,\n",
       "  '2005-03-31': nan,\n",
       "  '2005-04-30': nan,\n",
       "  '2005-05-31': nan},\n",
       " 'K55232BU5739': {'2005-01-31': nan,\n",
       "  '2005-02-28': nan,\n",
       "  '2005-03-31': nan,\n",
       "  '2005-04-30': nan,\n",
       "  '2005-05-31': nan},\n",
       " 'K55232C70312': {'2005-01-31': nan,\n",
       "  '2005-02-28': nan,\n",
       "  '2005-03-31': nan,\n",
       "  '2005-04-30': nan,\n",
       "  '2005-05-31': nan},\n",
       " 'K55232C70460': {'2005-01-31': nan,\n",
       "  '2005-02-28': nan,\n",
       "  '2005-03-31': nan,\n",
       "  '2005-04-30': nan,\n",
       "  '2005-05-31': nan},\n",
       " 'K55232C99568': {'2005-01-31': nan,\n",
       "  '2005-02-28': nan,\n",
       "  '2005-03-31': nan,\n",
       "  '2005-04-30': nan,\n",
       "  '2005-05-31': nan},\n",
       " 'K55232DI0759': {'2005-01-31': nan,\n",
       "  '2005-02-28': nan,\n",
       "  '2005-03-31': nan,\n",
       "  '2005-04-30': nan,\n",
       "  '2005-05-31': nan},\n",
       " 'K55232DI0940': {'2005-01-31': nan,\n",
       "  '2005-02-28': nan,\n",
       "  '2005-03-31': nan,\n",
       "  '2005-04-30': nan,\n",
       "  '2005-05-31': nan},\n",
       " 'K55234BY9966': {'2005-01-31': nan,\n",
       "  '2005-02-28': nan,\n",
       "  '2005-03-31': nan,\n",
       "  '2005-04-30': nan,\n",
       "  '2005-05-31': nan},\n",
       " 'K55234CJ0971': {'2005-01-31': nan,\n",
       "  '2005-02-28': nan,\n",
       "  '2005-03-31': nan,\n",
       "  '2005-04-30': nan,\n",
       "  '2005-05-31': nan},\n",
       " 'K55234CJ0997': {'2005-01-31': nan,\n",
       "  '2005-02-28': nan,\n",
       "  '2005-03-31': nan,\n",
       "  '2005-04-30': nan,\n",
       "  '2005-05-31': nan},\n",
       " 'K55234DF2459': {'2005-01-31': nan,\n",
       "  '2005-02-28': nan,\n",
       "  '2005-03-31': nan,\n",
       "  '2005-04-30': nan,\n",
       "  '2005-05-31': nan},\n",
       " 'K55234DF2657': {'2005-01-31': nan,\n",
       "  '2005-02-28': nan,\n",
       "  '2005-03-31': nan,\n",
       "  '2005-04-30': nan,\n",
       "  '2005-05-31': nan},\n",
       " 'K55234DF2822': {'2005-01-31': nan,\n",
       "  '2005-02-28': nan,\n",
       "  '2005-03-31': nan,\n",
       "  '2005-04-30': nan,\n",
       "  '2005-05-31': nan},\n",
       " 'K55234DF2988': {'2005-01-31': nan,\n",
       "  '2005-02-28': nan,\n",
       "  '2005-03-31': nan,\n",
       "  '2005-04-30': nan,\n",
       "  '2005-05-31': nan},\n",
       " 'K55234DF3150': {'2005-01-31': nan,\n",
       "  '2005-02-28': nan,\n",
       "  '2005-03-31': nan,\n",
       "  '2005-04-30': nan,\n",
       "  '2005-05-31': nan},\n",
       " 'K55234DF3317': {'2005-01-31': nan,\n",
       "  '2005-02-28': nan,\n",
       "  '2005-03-31': nan,\n",
       "  '2005-04-30': nan,\n",
       "  '2005-05-31': nan},\n",
       " 'K55234DJ4477': {'2005-01-31': nan,\n",
       "  '2005-02-28': nan,\n",
       "  '2005-03-31': nan,\n",
       "  '2005-04-30': nan,\n",
       "  '2005-05-31': nan},\n",
       " 'K55235B04308': {'2005-01-31': nan,\n",
       "  '2005-02-28': nan,\n",
       "  '2005-03-31': nan,\n",
       "  '2005-04-30': nan,\n",
       "  '2005-05-31': nan},\n",
       " 'K55235B40039': {'2005-01-31': nan,\n",
       "  '2005-02-28': nan,\n",
       "  '2005-03-31': nan,\n",
       "  '2005-04-30': nan,\n",
       "  '2005-05-31': nan},\n",
       " 'K55235B96163': {'2005-01-31': nan,\n",
       "  '2005-02-28': nan,\n",
       "  '2005-03-31': nan,\n",
       "  '2005-04-30': nan,\n",
       "  '2005-05-31': nan},\n",
       " 'K55235BW6799': {'2005-01-31': nan,\n",
       "  '2005-02-28': nan,\n",
       "  '2005-03-31': nan,\n",
       "  '2005-04-30': nan,\n",
       "  '2005-05-31': nan},\n",
       " 'K55235CX1061': {'2005-01-31': nan,\n",
       "  '2005-02-28': nan,\n",
       "  '2005-03-31': nan,\n",
       "  '2005-04-30': nan,\n",
       "  '2005-05-31': nan},\n",
       " 'K55236BG3001': {'2005-01-31': nan,\n",
       "  '2005-02-28': nan,\n",
       "  '2005-03-31': nan,\n",
       "  '2005-04-30': nan,\n",
       "  '2005-05-31': nan},\n",
       " 'K55236BG3266': {'2005-01-31': nan,\n",
       "  '2005-02-28': nan,\n",
       "  '2005-03-31': nan,\n",
       "  '2005-04-30': nan,\n",
       "  '2005-05-31': nan},\n",
       " 'K55236BG3274': {'2005-01-31': nan,\n",
       "  '2005-02-28': nan,\n",
       "  '2005-03-31': nan,\n",
       "  '2005-04-30': nan,\n",
       "  '2005-05-31': nan},\n",
       " 'K55240CP8176': {'2005-01-31': nan,\n",
       "  '2005-02-28': nan,\n",
       "  '2005-03-31': nan,\n",
       "  '2005-04-30': nan,\n",
       "  '2005-05-31': nan},\n",
       " 'K55301B09117': {'2005-01-31': nan,\n",
       "  '2005-02-28': nan,\n",
       "  '2005-03-31': nan,\n",
       "  '2005-04-30': nan,\n",
       "  '2005-05-31': nan},\n",
       " 'K55301B47299': {'2005-01-31': nan,\n",
       "  '2005-02-28': nan,\n",
       "  '2005-03-31': nan,\n",
       "  '2005-04-30': nan,\n",
       "  '2005-05-31': nan},\n",
       " 'K55301B51572': {'2005-01-31': nan,\n",
       "  '2005-02-28': nan,\n",
       "  '2005-03-31': nan,\n",
       "  '2005-04-30': nan,\n",
       "  '2005-05-31': nan},\n",
       " 'K55301B58643': {'2005-01-31': nan,\n",
       "  '2005-02-28': nan,\n",
       "  '2005-03-31': nan,\n",
       "  '2005-04-30': nan,\n",
       "  '2005-05-31': nan},\n",
       " 'K55301BM7459': {'2005-01-31': nan,\n",
       "  '2005-02-28': nan,\n",
       "  '2005-03-31': nan,\n",
       "  '2005-04-30': nan,\n",
       "  '2005-05-31': nan},\n",
       " 'K55301BM7640': {'2005-01-31': nan,\n",
       "  '2005-02-28': nan,\n",
       "  '2005-03-31': nan,\n",
       "  '2005-04-30': nan,\n",
       "  '2005-05-31': nan},\n",
       " 'K55301BM7731': {'2005-01-31': nan,\n",
       "  '2005-02-28': nan,\n",
       "  '2005-03-31': nan,\n",
       "  '2005-04-30': nan,\n",
       "  '2005-05-31': nan},\n",
       " 'K55301BM8051': {'2005-01-31': nan,\n",
       "  '2005-02-28': nan,\n",
       "  '2005-03-31': nan,\n",
       "  '2005-04-30': nan,\n",
       "  '2005-05-31': nan},\n",
       " 'K55301BU4175': {'2005-01-31': nan,\n",
       "  '2005-02-28': nan,\n",
       "  '2005-03-31': nan,\n",
       "  '2005-04-30': nan,\n",
       "  '2005-05-31': nan},\n",
       " 'K55301BU5453': {'2005-01-31': nan,\n",
       "  '2005-02-28': nan,\n",
       "  '2005-03-31': nan,\n",
       "  '2005-04-30': nan,\n",
       "  '2005-05-31': nan},\n",
       " 'K55301BU5479': {'2005-01-31': nan,\n",
       "  '2005-02-28': nan,\n",
       "  '2005-03-31': nan,\n",
       "  '2005-04-30': nan,\n",
       "  '2005-05-31': nan},\n",
       " 'K55301BU6113': {'2005-01-31': nan,\n",
       "  '2005-02-28': nan,\n",
       "  '2005-03-31': nan,\n",
       "  '2005-04-30': nan,\n",
       "  '2005-05-31': nan},\n",
       " 'K55301BU6139': {'2005-01-31': nan,\n",
       "  '2005-02-28': nan,\n",
       "  '2005-03-31': nan,\n",
       "  '2005-04-30': nan,\n",
       "  '2005-05-31': nan},\n",
       " 'K55301BU6253': {'2005-01-31': nan,\n",
       "  '2005-02-28': nan,\n",
       "  '2005-03-31': nan,\n",
       "  '2005-04-30': nan,\n",
       "  '2005-05-31': nan},\n",
       " 'K55301BV3002': {'2005-01-31': nan,\n",
       "  '2005-02-28': nan,\n",
       "  '2005-03-31': nan,\n",
       "  '2005-04-30': nan,\n",
       "  '2005-05-31': nan},\n",
       " 'K55301BV3044': {'2005-01-31': nan,\n",
       "  '2005-02-28': nan,\n",
       "  '2005-03-31': nan,\n",
       "  '2005-04-30': nan,\n",
       "  '2005-05-31': nan},\n",
       " 'K55301BV3085': {'2005-01-31': nan,\n",
       "  '2005-02-28': nan,\n",
       "  '2005-03-31': nan,\n",
       "  '2005-04-30': nan,\n",
       "  '2005-05-31': nan},\n",
       " 'K55301BV3101': {'2005-01-31': nan,\n",
       "  '2005-02-28': nan,\n",
       "  '2005-03-31': nan,\n",
       "  '2005-04-30': nan,\n",
       "  '2005-05-31': nan},\n",
       " 'K55301BV3143': {'2005-01-31': nan,\n",
       "  '2005-02-28': nan,\n",
       "  '2005-03-31': nan,\n",
       "  '2005-04-30': nan,\n",
       "  '2005-05-31': nan},\n",
       " 'K55301C62528': {'2005-01-31': nan,\n",
       "  '2005-02-28': nan,\n",
       "  '2005-03-31': nan,\n",
       "  '2005-04-30': nan,\n",
       "  '2005-05-31': nan},\n",
       " 'K55301CH3249': {'2005-01-31': nan,\n",
       "  '2005-02-28': nan,\n",
       "  '2005-03-31': nan,\n",
       "  '2005-04-30': nan,\n",
       "  '2005-05-31': nan},\n",
       " 'K55301CQ5219': {'2005-01-31': nan,\n",
       "  '2005-02-28': nan,\n",
       "  '2005-03-31': nan,\n",
       "  '2005-04-30': nan,\n",
       "  '2005-05-31': nan},\n",
       " 'K55301CW6482': {'2005-01-31': nan,\n",
       "  '2005-02-28': nan,\n",
       "  '2005-03-31': nan,\n",
       "  '2005-04-30': nan,\n",
       "  '2005-05-31': nan},\n",
       " 'K55301D51370': {'2005-01-31': nan,\n",
       "  '2005-02-28': nan,\n",
       "  '2005-03-31': nan,\n",
       "  '2005-04-30': nan,\n",
       "  '2005-05-31': nan},\n",
       " 'K55301E22130': {'2005-01-31': nan,\n",
       "  '2005-02-28': nan,\n",
       "  '2005-03-31': nan,\n",
       "  '2005-04-30': nan,\n",
       "  '2005-05-31': nan},\n",
       " 'K55303BT4135': {'2005-01-31': nan,\n",
       "  '2005-02-28': nan,\n",
       "  '2005-03-31': nan,\n",
       "  '2005-04-30': nan,\n",
       "  '2005-05-31': nan},\n",
       " 'K55303BT4176': {'2005-01-31': nan,\n",
       "  '2005-02-28': nan,\n",
       "  '2005-03-31': nan,\n",
       "  '2005-04-30': nan,\n",
       "  '2005-05-31': nan},\n",
       " 'K55303CR9010': {'2005-01-31': nan,\n",
       "  '2005-02-28': nan,\n",
       "  '2005-03-31': nan,\n",
       "  '2005-04-30': nan,\n",
       "  '2005-05-31': nan},\n",
       " 'K55303D98245': {'2005-01-31': nan,\n",
       "  '2005-02-28': nan,\n",
       "  '2005-03-31': nan,\n",
       "  '2005-04-30': nan,\n",
       "  '2005-05-31': nan},\n",
       " 'K55306BT9453': {'2005-01-31': nan,\n",
       "  '2005-02-28': nan,\n",
       "  '2005-03-31': nan,\n",
       "  '2005-04-30': nan,\n",
       "  '2005-05-31': nan},\n",
       " 'K55306BT9511': {'2005-01-31': nan,\n",
       "  '2005-02-28': nan,\n",
       "  '2005-03-31': nan,\n",
       "  '2005-04-30': nan,\n",
       "  '2005-05-31': nan},\n",
       " 'K55306CV9946': {'2005-01-31': nan,\n",
       "  '2005-02-28': nan,\n",
       "  '2005-03-31': nan,\n",
       "  '2005-04-30': nan,\n",
       "  '2005-05-31': nan},\n",
       " 'K55306CW0001': {'2005-01-31': nan,\n",
       "  '2005-02-28': nan,\n",
       "  '2005-03-31': nan,\n",
       "  '2005-04-30': nan,\n",
       "  '2005-05-31': nan},\n",
       " 'K55306DW8441': {'2005-01-31': nan,\n",
       "  '2005-02-28': nan,\n",
       "  '2005-03-31': nan,\n",
       "  '2005-04-30': nan,\n",
       "  '2005-05-31': nan},\n",
       " 'K55306DW8623': {'2005-01-31': nan,\n",
       "  '2005-02-28': nan,\n",
       "  '2005-03-31': nan,\n",
       "  '2005-04-30': nan,\n",
       "  '2005-05-31': nan},\n",
       " 'K55307BC6945': {'2005-01-31': nan,\n",
       "  '2005-02-28': nan,\n",
       "  '2005-03-31': nan,\n",
       "  '2005-04-30': nan,\n",
       "  '2005-05-31': nan},\n",
       " 'K55307D05134': {'2005-01-31': nan,\n",
       "  '2005-02-28': nan,\n",
       "  '2005-03-31': nan,\n",
       "  '2005-04-30': nan,\n",
       "  '2005-05-31': nan},\n",
       " 'K55307D06041': {'2005-01-31': nan,\n",
       "  '2005-02-28': nan,\n",
       "  '2005-03-31': nan,\n",
       "  '2005-04-30': nan,\n",
       "  '2005-05-31': nan},\n",
       " 'K55307D74510': {'2005-01-31': nan,\n",
       "  '2005-02-28': nan,\n",
       "  '2005-03-31': nan,\n",
       "  '2005-04-30': nan,\n",
       "  '2005-05-31': nan},\n",
       " 'K55307DH1659': {'2005-01-31': nan,\n",
       "  '2005-02-28': nan,\n",
       "  '2005-03-31': nan,\n",
       "  '2005-04-30': nan,\n",
       "  '2005-05-31': nan},\n",
       " 'K55307E09845': {'2005-01-31': nan,\n",
       "  '2005-02-28': nan,\n",
       "  '2005-03-31': nan,\n",
       "  '2005-04-30': nan,\n",
       "  '2005-05-31': nan},\n",
       " 'K55363BC7076': {'2005-01-31': nan,\n",
       "  '2005-02-28': nan,\n",
       "  '2005-03-31': nan,\n",
       "  '2005-04-30': nan,\n",
       "  '2005-05-31': nan},\n",
       " 'K55363DD7958': {'2005-01-31': nan,\n",
       "  '2005-02-28': nan,\n",
       "  '2005-03-31': nan,\n",
       "  '2005-04-30': nan,\n",
       "  '2005-05-31': nan},\n",
       " 'K55364CF7048': {'2005-01-31': nan,\n",
       "  '2005-02-28': nan,\n",
       "  '2005-03-31': nan,\n",
       "  '2005-04-30': nan,\n",
       "  '2005-05-31': nan},\n",
       " 'K55365BT3694': {'2005-01-31': nan,\n",
       "  '2005-02-28': nan,\n",
       "  '2005-03-31': nan,\n",
       "  '2005-04-30': nan,\n",
       "  '2005-05-31': nan},\n",
       " 'K55366BU9614': {'2005-01-31': nan,\n",
       "  '2005-02-28': nan,\n",
       "  '2005-03-31': nan,\n",
       "  '2005-04-30': nan,\n",
       "  '2005-05-31': nan},\n",
       " 'K55366BU9705': {'2005-01-31': nan,\n",
       "  '2005-02-28': nan,\n",
       "  '2005-03-31': nan,\n",
       "  '2005-04-30': nan,\n",
       "  '2005-05-31': nan},\n",
       " 'K55370BU1755': {'2005-01-31': nan,\n",
       "  '2005-02-28': nan,\n",
       "  '2005-03-31': nan,\n",
       "  '2005-04-30': nan,\n",
       "  '2005-05-31': nan},\n",
       " 'K55370BU1979': {'2005-01-31': nan,\n",
       "  '2005-02-28': nan,\n",
       "  '2005-03-31': nan,\n",
       "  '2005-04-30': nan,\n",
       "  '2005-05-31': nan},\n",
       " 'KR5101888398': {'2005-01-31': nan,\n",
       "  '2005-02-28': nan,\n",
       "  '2005-03-31': nan,\n",
       "  '2005-04-30': nan,\n",
       "  '2005-05-31': nan},\n",
       " 'KR5101AT3514': {'2005-01-31': nan,\n",
       "  '2005-02-28': nan,\n",
       "  '2005-03-31': nan,\n",
       "  '2005-04-30': nan,\n",
       "  '2005-05-31': nan},\n",
       " 'KR5101AT3522': {'2005-01-31': nan,\n",
       "  '2005-02-28': nan,\n",
       "  '2005-03-31': nan,\n",
       "  '2005-04-30': nan,\n",
       "  '2005-05-31': nan},\n",
       " 'KR5101AT3548': {'2005-01-31': nan,\n",
       "  '2005-02-28': nan,\n",
       "  '2005-03-31': nan,\n",
       "  '2005-04-30': nan,\n",
       "  '2005-05-31': nan},\n",
       " 'KR5101AT3563': {'2005-01-31': nan,\n",
       "  '2005-02-28': nan,\n",
       "  '2005-03-31': nan,\n",
       "  '2005-04-30': nan,\n",
       "  '2005-05-31': nan},\n",
       " 'KR5101AT3571': {'2005-01-31': nan,\n",
       "  '2005-02-28': nan,\n",
       "  '2005-03-31': nan,\n",
       "  '2005-04-30': nan,\n",
       "  '2005-05-31': nan},\n",
       " 'KR5101AT3589': {'2005-01-31': nan,\n",
       "  '2005-02-28': nan,\n",
       "  '2005-03-31': nan,\n",
       "  '2005-04-30': nan,\n",
       "  '2005-05-31': nan},\n",
       " 'KR5101AU0509': {'2005-01-31': nan,\n",
       "  '2005-02-28': nan,\n",
       "  '2005-03-31': nan,\n",
       "  '2005-04-30': nan,\n",
       "  '2005-05-31': nan},\n",
       " 'KR5102314204': {'2005-01-31': 654.8640962899279,\n",
       "  '2005-02-28': 655.3225011573309,\n",
       "  '2005-03-31': 658.5968216387805,\n",
       "  '2005-04-30': 661.4986881654653,\n",
       "  '2005-05-31': 664.1631664572449},\n",
       " 'KR5102314212': {'2005-01-31': 367.5472781720474,\n",
       "  '2005-02-28': 396.32623005291873,\n",
       "  '2005-03-31': 377.3975452270583,\n",
       "  '2005-04-30': 363.2733924780531,\n",
       "  '2005-05-31': 382.3226787545637},\n",
       " 'KR5102314352': {'2005-01-31': 679.5353675450764,\n",
       "  '2005-02-28': 680.4187635228849,\n",
       "  '2005-03-31': 683.0689514563107,\n",
       "  '2005-04-30': 685.3220359093274,\n",
       "  '2005-05-31': 687.7577454923717},\n",
       " 'KR5102A54345': {'2005-01-31': nan,\n",
       "  '2005-02-28': nan,\n",
       "  '2005-03-31': nan,\n",
       "  '2005-04-30': nan,\n",
       "  '2005-05-31': nan},\n",
       " 'KR5105AH6400': {'2005-01-31': nan,\n",
       "  '2005-02-28': nan,\n",
       "  '2005-03-31': nan,\n",
       "  '2005-04-30': nan,\n",
       "  '2005-05-31': nan},\n",
       " 'KR5213AI2357': {'2005-01-31': nan,\n",
       "  '2005-02-28': nan,\n",
       "  '2005-03-31': nan,\n",
       "  '2005-04-30': nan,\n",
       "  '2005-05-31': nan},\n",
       " 'KR5223AE3357': {'2005-01-31': nan,\n",
       "  '2005-02-28': nan,\n",
       "  '2005-03-31': nan,\n",
       "  '2005-04-30': nan,\n",
       "  '2005-05-31': nan},\n",
       " 'KR5230AR3486': {'2005-01-31': nan,\n",
       "  '2005-02-28': nan,\n",
       "  '2005-03-31': nan,\n",
       "  '2005-04-30': nan,\n",
       "  '2005-05-31': nan},\n",
       " 'KR5235A52487': {'2005-01-31': nan,\n",
       "  '2005-02-28': nan,\n",
       "  '2005-03-31': nan,\n",
       "  '2005-04-30': nan,\n",
       "  '2005-05-31': nan},\n",
       " 'KR5235A52511': {'2005-01-31': nan,\n",
       "  '2005-02-28': nan,\n",
       "  '2005-03-31': nan,\n",
       "  '2005-04-30': nan,\n",
       "  '2005-05-31': nan},\n",
       " 'KR5235A52578': {'2005-01-31': nan,\n",
       "  '2005-02-28': nan,\n",
       "  '2005-03-31': nan,\n",
       "  '2005-04-30': nan,\n",
       "  '2005-05-31': nan},\n",
       " 'KR5235AK9691': {'2005-01-31': nan,\n",
       "  '2005-02-28': nan,\n",
       "  '2005-03-31': nan,\n",
       "  '2005-04-30': nan,\n",
       "  '2005-05-31': nan},\n",
       " 'KR5235AK9774': {'2005-01-31': nan,\n",
       "  '2005-02-28': nan,\n",
       "  '2005-03-31': nan,\n",
       "  '2005-04-30': nan,\n",
       "  '2005-05-31': nan},\n",
       " 'KR5235AK9808': {'2005-01-31': nan,\n",
       "  '2005-02-28': nan,\n",
       "  '2005-03-31': nan,\n",
       "  '2005-04-30': nan,\n",
       "  '2005-05-31': nan},\n",
       " 'KR5236AS4826': {'2005-01-31': nan,\n",
       "  '2005-02-28': nan,\n",
       "  '2005-03-31': nan,\n",
       "  '2005-04-30': nan,\n",
       "  '2005-05-31': nan},\n",
       " 'KR5301AK5995': {'2005-01-31': nan,\n",
       "  '2005-02-28': nan,\n",
       "  '2005-03-31': nan,\n",
       "  '2005-04-30': nan,\n",
       "  '2005-05-31': nan},\n",
       " 'KR5301AK6274': {'2005-01-31': nan,\n",
       "  '2005-02-28': nan,\n",
       "  '2005-03-31': nan,\n",
       "  '2005-04-30': nan,\n",
       "  '2005-05-31': nan},\n",
       " 'KR5301AL4401': {'2005-01-31': nan,\n",
       "  '2005-02-28': nan,\n",
       "  '2005-03-31': nan,\n",
       "  '2005-04-30': nan,\n",
       "  '2005-05-31': nan},\n",
       " 'KR5301AT1938': {'2005-01-31': nan,\n",
       "  '2005-02-28': nan,\n",
       "  '2005-03-31': nan,\n",
       "  '2005-04-30': nan,\n",
       "  '2005-05-31': nan},\n",
       " 'KR5301AT1987': {'2005-01-31': nan,\n",
       "  '2005-02-28': nan,\n",
       "  '2005-03-31': nan,\n",
       "  '2005-04-30': nan,\n",
       "  '2005-05-31': nan},\n",
       " 'KR5364AH9467': {'2005-01-31': nan,\n",
       "  '2005-02-28': nan,\n",
       "  '2005-03-31': nan,\n",
       "  '2005-04-30': nan,\n",
       "  '2005-05-31': nan},\n",
       " 'KR5370AP9956': {'2005-01-31': nan,\n",
       "  '2005-02-28': nan,\n",
       "  '2005-03-31': nan,\n",
       "  '2005-04-30': nan,\n",
       "  '2005-05-31': nan}}"
      ]
     },
     "execution_count": 24,
     "metadata": {},
     "output_type": "execute_result"
    }
   ],
   "source": [
    "cols = list(data_prc.keys())\n",
    "df = pd.DataFrame().from_dict(data_prc[cols[0]]).sort_index()\n",
    "#data_prc['name']\n",
    "#df_cat['name'].to_dict()\n",
    "#data_prc\n",
    "df.head().to_dict()"
   ]
  },
  {
   "cell_type": "code",
   "execution_count": null,
   "id": "5048a9e0-54fe-4230-aca0-c5c578407449",
   "metadata": {},
   "outputs": [],
   "source": []
  },
  {
   "cell_type": "markdown",
   "id": "8fafa413-2cad-404b-92e9-d4ce7cfa36d6",
   "metadata": {},
   "source": [
    "### init Dash"
   ]
  },
  {
   "cell_type": "code",
   "execution_count": 4,
   "id": "68f7d164-3162-4d0d-97a2-a476c5461780",
   "metadata": {},
   "outputs": [],
   "source": [
    "data_cat_json = json.dumps(data_cat)\n",
    "data_name_json = json.dumps(data_name)\n",
    "data_prc_json = json.dumps(data_prc)\n",
    "data_est_json = json.dumps(data_est)\n",
    "\n",
    "app = Dash(__name__, title=\"달달펀드\",\n",
    "           external_stylesheets=external_stylesheets)\n",
    "\n",
    "app.index_string = f\"\"\"\n",
    "<!DOCTYPE html>\n",
    "<html>\n",
    "    <head>\n",
    "        {{%metas%}}\n",
    "        <title>{{%title%}}</title>\n",
    "        <link rel=\"icon\" type=\"image/x-icon\" href=\"/assets/favicon.ico\">\n",
    "        {{%css%}}\n",
    "    </head>\n",
    "    <body>\n",
    "        <script>\n",
    "            var dataCategory = {data_cat_json};\n",
    "            var dataName = {data_name_json};\n",
    "            var dataPrice = {data_prc_json};\n",
    "            var dataScatter = {data_est_json};\n",
    "        </script>\n",
    "        {{%app_entry%}}\n",
    "        {{%config%}}\n",
    "        {{%scripts%}}\n",
    "        {{%renderer%}}\n",
    "    </body>\n",
    "</html>\n",
    "\"\"\"\n",
    "\n",
    "# footer\n",
    "footer = html.Footer(\n",
    "    html.Small([\n",
    "    html.I(className=\"fa-regular fa-copyright\"),\n",
    "    '2025 달달펀드'\n",
    "]), style={'textAlign': 'right', 'margin-top': '20px'})\n",
    "\n",
    "# info\n",
    "tab_info = html.Div([\n",
    "    html.P(),\n",
    "    html.P('다달이 전하는 펀드 투자 정보', style=style_heading),\n",
    "    html.Div(break_line(info['about'], html.P), style={'line-height': '100%'}),\n",
    "    html.Div([\n",
    "        dbc.Alert([\n",
    "            html.I(className=\"bi bi-info-circle-fill me-2\"),\n",
    "            info['disclaimer'],\n",
    "            ],\n",
    "            color=\"info\",\n",
    "            className=\"d-flex align-items-center\",\n",
    "        ),\n",
    "        html.P([\n",
    "            html.I(className=\"fa-regular fa-envelope\", title='문의', style={\"margin-right\": \"10px\"}),\n",
    "            html.A(info['email'], href=f\"mailto:{info['email']}?Subject=달달펀드:문의\")\n",
    "        ], style={'textAlign': 'right'})\n",
    "    ], style={'fontSize': 14})\n",
    "    #])\n",
    "])\n",
    "\n",
    "# tabs\n",
    "tabs_contents = [\n",
    "    dbc.Tab(dcc.Graph(id='price-plot'), label='가격'),\n",
    "    dbc.Tab(dcc.Graph(id='cagr-plot'), label='수익률', tab_id='tab_cagr'),\n",
    "    dbc.Tab(dcc.Graph(id='scatter-plot'), label='순위', tab_id='tab_scatter'),\n",
    "    dbc.Tab(tab_info, label='정보', tab_id='tab_info')\n",
    "]\n",
    "tabs = dbc.Tabs(tabs_contents, id='tabs')\n",
    "\n",
    "\n",
    "app.layout = dbc.Container([\n",
    "    html.Br(),\n",
    "    dbc.Stack([\n",
    "        html.Div(\n",
    "            dcc.Dropdown(\n",
    "                id='category-dropdown',\n",
    "                options=category_options,\n",
    "                value=category_default,\n",
    "                clearable=False,\n",
    "            ), style={'min-width':'10%', 'max-width':'100%'}\n",
    "        ),\n",
    "        html.Div(\n",
    "            dcc.Dropdown(\n",
    "                id='group-dropdown',\n",
    "                #options=groups,\n",
    "                value=group_default,\n",
    "                multi=True,\n",
    "            ), style={'min-width':'30%', 'max-width':'100%'}\n",
    "        ),\n",
    "        daq.BooleanSwitch(\n",
    "            id='compare-boolean-switch',\n",
    "            on=False\n",
    "        ),\n",
    "        daq.BooleanSwitch(\n",
    "            id='cost-boolean-switch',\n",
    "            on=False\n",
    "        ),\n",
    "        dcc.Clipboard(\n",
    "            id='ticker-copy',\n",
    "            target_id=\"ticker-textarea\",\n",
    "            style={\n",
    "                \"display\": \"inline-block\",\n",
    "                \"fontSize\": 25,\n",
    "                \"color\": \"darkgray\",  # Default icon color\n",
    "                \"cursor\": \"pointer\",  # Pointer cursor for better UX\n",
    "                #\"verticalAlign\": \"bottom\",\n",
    "            },\n",
    "        ),\n",
    "    ],\n",
    "        #justify=\"start\", # horizondal\n",
    "        #align=\"center\", # vertical\n",
    "        direction=\"horizontal\",\n",
    "        gap=2,\n",
    "        className=\"mb-3\"\n",
    "    ),\n",
    "    dbc.Row(tabs),\n",
    "    dbc.Row(footer),\n",
    "    html.Br(),\n",
    "    dcc.Textarea(\n",
    "        id=\"ticker-textarea\",\n",
    "        hidden='hidden', \n",
    "        #cols=50, rows=10\n",
    "    ),\n",
    "    dbc.Tooltip(\n",
    "        '상대 비교',\n",
    "        target='compare-boolean-switch',\n",
    "        placement='bottom'\n",
    "    ),\n",
    "    dbc.Tooltip(\n",
    "        '수수료 적용',\n",
    "        target='cost-boolean-switch',\n",
    "        placement='bottom'\n",
    "    ),\n",
    "    dbc.Tooltip(\n",
    "        '펀드코드 복사',\n",
    "        target='ticker-copy',\n",
    "        placement='bottom'\n",
    "    ),\n",
    "    dcc.Store(id='ticker-data'),\n",
    "    dcc.Store(id='name-data'),\n",
    "    dcc.Store(id='price-data'),\n",
    "    dcc.Store(id='scatter-data'),\n",
    "    dcc.Location(id=\"url\", refresh=False),  # To initialize the page\n",
    "#], fluid=True)  # Full-width container\n",
    "])\n",
    "\n",
    "# update group options depending on category\n",
    "app.clientside_callback(\n",
    "    \"\"\"\n",
    "    function(category) {\n",
    "        let obj = dataCategory[category];\n",
    "        let groups = Object.keys(obj);\n",
    "        let maxLength = 20; // Set max label length\n",
    "\n",
    "        // Prepend \"All\" to the list\n",
    "        let result = [{ label: \"All\", value: \"All\", title: \"All\" }];\n",
    "\n",
    "        // Map over groups and append them to the list\n",
    "        result = result.concat(\n",
    "            groups.map(group => ({\n",
    "                label: group.length > maxLength ? group.substring(0, maxLength) + \"...\" : group,\n",
    "                value: group,\n",
    "                title: group\n",
    "            }))\n",
    "        );\n",
    "        return result;\n",
    "    }\n",
    "    \"\"\",\n",
    "    Output('group-dropdown', 'options'),\n",
    "    Input('category-dropdown', 'value')\n",
    ")\n",
    "\n",
    "# check 'All' in selected groups\n",
    "app.clientside_callback(\n",
    "    \"\"\"\n",
    "    function processGroups(groups) {\n",
    "        // Check if 'All' is the last element\n",
    "        //if (groups.length > 0 && groups[groups.length - 1] === \"All\") {\n",
    "        if (groups.length === 0 || groups[groups.length - 1] === \"All\") {\n",
    "            return [\"All\"];\n",
    "        }\n",
    "    \n",
    "        // If 'All' is in the array but not the last element, return without 'All'\n",
    "        if (groups.includes(\"All\")) {\n",
    "            return groups.filter(group => group !== \"All\");\n",
    "        }\n",
    "    \n",
    "        // Otherwise, return the original array\n",
    "        return groups;\n",
    "    }\n",
    "    \"\"\",\n",
    "    Output('group-dropdown', 'value'),\n",
    "    Input('group-dropdown', 'value')\n",
    ")\n",
    "\n",
    "# update tickers based on selected groups and category\n",
    "app.clientside_callback(\n",
    "    \"\"\"\n",
    "    function(groups, category) {\n",
    "        if (!groups || !category || !dataCategory[category]) return [];\n",
    "\n",
    "        // If groups contain \"All\", return all tickers from the category\n",
    "        if (groups.includes(\"All\")) {\n",
    "            return Object.values(dataCategory[category]).flat();\n",
    "        }\n",
    "\n",
    "        // Otherwise, return tickers only for the specified groups\n",
    "        let tickers = [];\n",
    "        groups.forEach(group => {\n",
    "            if (dataCategory[category][group]) {\n",
    "                tickers = tickers.concat(dataCategory[category][group]);\n",
    "            }\n",
    "        });\n",
    "        return tickers;\n",
    "    }\n",
    "    \"\"\",\n",
    "    Output('ticker-data', 'data'),\n",
    "    Input('group-dropdown', 'value'),\n",
    "    State('category-dropdown', 'value')\n",
    ")\n",
    "\n",
    "# save name and ticker of funds for copying\n",
    "app.clientside_callback(\n",
    "    \"\"\"\n",
    "    function(tickers) {\n",
    "        let result = Object.entries(dataName)\n",
    "                     .filter(([k, v]) => tickers.includes(k)) // check if k is in tickers\n",
    "                     .map(([k, v]) => `${k}: ${v}`);\n",
    "        return result.join('\\\\n');\n",
    "    }\n",
    "    \"\"\",\n",
    "    Output('ticker-textarea', 'value'),\n",
    "    Input('ticker-data', 'data'),\n",
    ")\n",
    "\n",
    "# update price data based on selected tickers\n",
    "app.clientside_callback(\n",
    "    \"\"\"\n",
    "    function(tickers) {\n",
    "        if (!tickers || tickers.length === 0) return {};\n",
    "        \n",
    "        let data_prc_tkr = {};\n",
    "        for (let fee in dataPrice) {\n",
    "            data_prc_tkr[fee] = {};\n",
    "            for (let tkr in dataPrice[fee]) {\n",
    "                if (tickers.includes(tkr)) {\n",
    "                    data_prc_tkr[fee][tkr] = dataPrice[fee][tkr];\n",
    "                }\n",
    "            }\n",
    "        }\n",
    "        return data_prc_tkr;\n",
    "    }\n",
    "    \"\"\",\n",
    "    Output('price-data', 'data'),\n",
    "    Input('ticker-data', 'data')\n",
    ")\n",
    "\n",
    "# plot price history\n",
    "app.clientside_callback(\n",
    "    \"\"\"\n",
    "    function(data, cost, compare) {\n",
    "        if (!data || Object.keys(data).length === 0) {\n",
    "            return { data: [], layout: {} };  // Empty plot\n",
    "        }\n",
    "        \n",
    "        let fees = Object.keys(data);\n",
    "        let fee = cost ? fees[1] : fees[0];\n",
    "\n",
    "        if (!data[fee]) {\n",
    "            return { data: [], layout: {} };\n",
    "        }\n",
    "\n",
    "        let df = data[fee];\n",
    "        if (compare) {\n",
    "            df = normalizePrice(df, 1000);\n",
    "        }\n",
    "        let traces = [];\n",
    "\n",
    "        for (let tkr in df) {\n",
    "            traces.push({\n",
    "                x: Object.keys(df[tkr]),  // Assuming keys are dates\n",
    "                y: Object.values(df[tkr]),  // Assuming values are prices\n",
    "                type: 'scatter',\n",
    "                mode: 'lines',\n",
    "                name: dataName[tkr]\n",
    "            });\n",
    "        }\n",
    "\n",
    "        // Title logic\n",
    "        const titleBase = '펀드 가격 추이';\n",
    "        const titleComp = compare ? '상대 가격' : '펀드별 최근 결산 기준가격';\n",
    "        const titleCost = cost ? '수수료 적용' : null;\n",
    "\n",
    "        let title = `${titleBase} (${titleComp}`;\n",
    "        title = titleCost ? `${title}, ${titleCost})` : `${title})`;\n",
    "        \n",
    "        return {\n",
    "            data: traces,\n",
    "            layout: {\n",
    "                title: { text: title},\n",
    "                hovermode: 'x',\n",
    "                yaxis: { title: '가격' },\n",
    "                xaxis: {\n",
    "                    rangeselector: {\n",
    "                        buttons: [\n",
    "                            {\n",
    "                                count: 3,\n",
    "                                label: \"3y\",\n",
    "                                step: \"year\",\n",
    "                                stepmode: \"backward\"\n",
    "                            },\n",
    "                            {\n",
    "                                step: \"all\",\n",
    "                                label: \"All\"\n",
    "                            }\n",
    "                        ]\n",
    "                    },\n",
    "                    type: \"date\"\n",
    "                },\n",
    "            }\n",
    "        };\n",
    "    }\n",
    "    \"\"\",\n",
    "    Output('price-plot', 'figure'),\n",
    "    Input('price-data', 'data'),\n",
    "    Input('cost-boolean-switch', 'on'),\n",
    "    Input('compare-boolean-switch', 'on'),\n",
    ")\n",
    "\n",
    "\n",
    "# plot bar chart of cagr\n",
    "app.clientside_callback(\n",
    "    \"\"\"\n",
    "    function(data, compare) {\n",
    "        if (!data || Object.keys(data).length === 0) {\n",
    "            return { data: [], layout: {} };\n",
    "        }\n",
    "\n",
    "        // calc CAGR\n",
    "        let data_cagr = {};\n",
    "        for (let fee in data) {\n",
    "            let df = data[fee];\n",
    "            if (compare) { // normalize depending on compare switch\n",
    "                df = normalizePrice(df, 1000);\n",
    "                let tickers = Object.keys(df);\n",
    "                var dates = Object.keys(df[tickers[0]]);\n",
    "                console.log(dates)\n",
    "            };\n",
    "            data_cagr[fee] = {};\n",
    "            for (let tkr in df) {\n",
    "                data_cagr[fee][tkr] = calculateCAGR(df[tkr]);\n",
    "            }\n",
    "        }\n",
    "\n",
    "        let categories = Object.keys(data_cagr);\n",
    "        let tickers = Object.keys(data_cagr[categories[0]]);\n",
    "        \n",
    "        let traces = categories.map(category => {\n",
    "            return {\n",
    "                x: tickers.map(tkr => dataName[tkr]),\n",
    "                y: tickers.map(tkr => data_cagr[category][tkr] || 0),\n",
    "                type: 'bar',\n",
    "                name: category\n",
    "            };\n",
    "        });\n",
    "\n",
    "        let title;\n",
    "        if (compare) {\n",
    "            const dt0 = new Date(Math.min(...dates.map(d => new Date(d).getTime()))).toISOString().slice(0, 10);\n",
    "            const dt1 = new Date(Math.max(...dates.map(d => new Date(d).getTime()))).toISOString().slice(0, 10);\n",
    "            title = `펀드 연평균 수익률 (${dt0} ~ ${dt1})`;\n",
    "        } else {\n",
    "            title = '펀드 연평균 수익률 (펀드별 설정일 이후)';\n",
    "        };\n",
    "\n",
    "        let layout = {\n",
    "            title: {text: title},\n",
    "            barmode: 'group',\n",
    "            hovermode: 'x',\n",
    "            //xaxis: { title: 'Ticker' },\n",
    "            yaxis: { title: '연평균 수익률 (%)' }\n",
    "        };\n",
    "\n",
    "        return { data: traces, layout: layout };\n",
    "    }\n",
    "    \"\"\",\n",
    "    Output('cagr-plot', 'figure'),\n",
    "    Input('price-data', 'data'),\n",
    "    Input('compare-boolean-switch', 'on')\n",
    ")\n",
    "\n",
    "# update scatter data based on selected tickers\n",
    "app.clientside_callback(\n",
    "    \"\"\"\n",
    "    function(tickers) {\n",
    "        if (!tickers || tickers.length === 0) return {};\n",
    "\n",
    "        const filteredData = {};\n",
    "        for (const key in dataScatter) {\n",
    "            filteredData[key] = {};\n",
    "            for (const ticker of tickers) {\n",
    "              if (dataScatter[key][ticker] !== undefined) {\n",
    "                filteredData[key][ticker] = dataScatter[key][ticker];\n",
    "              }\n",
    "            }\n",
    "        }\n",
    "        \n",
    "        return filteredData;\n",
    "    }\n",
    "    \"\"\",\n",
    "    Output('scatter-data', 'data'),\n",
    "    Input('ticker-data', 'data')\n",
    ")\n",
    "\n",
    "# scatter plot of mean/sd of 3yr return estimations\n",
    "app.clientside_callback(\n",
    "    \"\"\"\n",
    "    function(data, category) {\n",
    "        // Define the scale for marker size\n",
    "        const scale_marker_size = 0.1;\n",
    "        const add_marker_size = 5;\n",
    "        \n",
    "        // Custom color map\n",
    "        const color_map = ['#636EFA', '#EF553B', '#00CC96', '#AB63FA', '#FFA15A', '#19D3F3', '#FF6692', '#B6E880', '#FF97FF', '#FECB52'];\n",
    "\n",
    "        // Get the keys (i.e., the unique identifiers) for the data\n",
    "        const keys = Object.keys(data['mean']);\n",
    "\n",
    "        // Filter the unique categories based on the selected category\n",
    "        const unique_categories = [...new Set(keys.map(key => data[category][key]))];\n",
    "\n",
    "        // Create a map for symbols to be assigned to each category\n",
    "        const symbol_map = {};\n",
    "        unique_categories.forEach((cat, i) => {\n",
    "            symbol_map[cat] = i;\n",
    "        });\n",
    "\n",
    "        // Create traces for each category\n",
    "        let traces = unique_categories.map((cat, i) => {\n",
    "            // Filter data by the selected category\n",
    "            const df_filtered = keys.filter(key => data[category][key] === cat);\n",
    "\n",
    "            // Create the trace for each category\n",
    "            return {\n",
    "                x: df_filtered.map(key => data['mean'][key]),\n",
    "                y: df_filtered.map(key => data['sd'][key]),\n",
    "                customdata: df_filtered.map(key => [\n",
    "                    data['name'][key], \n",
    "                    data['hdi_3%'][key], \n",
    "                    data['hdi_97%'][key]\n",
    "                ]),\n",
    "                mode: 'markers',\n",
    "                marker: {\n",
    "                    size: df_filtered.map(key => data['sharpe'][key] * scale_marker_size + add_marker_size),\n",
    "                    color: color_map[i % color_map.length],  // Assign a unique color per category\n",
    "                    symbol: df_filtered.map(key => symbol_map[data[category][key]])  // Assign a unique symbol per category\n",
    "                },\n",
    "                name: cat,  // Legend entry\n",
    "                hovertemplate: '<span style=\\\"font-size: 120%;\\\">%{customdata[0]}</span><br>' +\n",
    "                               '수익률 순위(%): 평균 %{x:.0f}, 편차 %{y:.0f}<br>' +\n",
    "                               '수익률 구간: %{customdata[1]} ~ %{customdata[2]}<extra></extra>',\n",
    "            };\n",
    "        });\n",
    "\n",
    "        // Define layout\n",
    "        let layout = {\n",
    "            title: { text: '펀드 순위 (3년 수익률의 94% 확률 추정)' }, \n",
    "            xaxis: { title: '평균 %순위', autorange: 'reversed', zeroline:false },\n",
    "            yaxis: { title: '편차 %순위', autorange: 'reversed', zeroline:false },\n",
    "            hovermode: 'closest',\n",
    "            legend: { title: category },\n",
    "            //width: 1000,\n",
    "            //height: 600,\n",
    "        };\n",
    "\n",
    "        // Return the data for the figure\n",
    "        return { data: traces, layout: layout };\n",
    "    }\n",
    "    \"\"\",\n",
    "    Output('scatter-plot', 'figure'),\n",
    "    Input('scatter-data', 'data'),\n",
    "    Input('category-dropdown', 'value')\n",
    ");\n",
    "\n",
    "# contrain fee/compare switch depending on tabs\n",
    "app.clientside_callback(\n",
    "    \"\"\"\n",
    "    function(tab, cost, compare) {\n",
    "        if (tab === \"tab_scatter\") {\n",
    "            return [true, false, true, true];\n",
    "        } else if (tab === \"tab_info\") {\n",
    "            return [cost, compare, true, true];\n",
    "        } else if (tab === \"tab_cagr\") {\n",
    "            return [true, compare, true, false];\n",
    "        } else {\n",
    "            return [cost, compare, false, false];\n",
    "        }\n",
    "    }\n",
    "    \"\"\",\n",
    "    [Output('cost-boolean-switch', 'on'), Output('compare-boolean-switch', 'on'), \n",
    "     Output('cost-boolean-switch', 'disabled'), Output('compare-boolean-switch', 'disabled')],\n",
    "    [Input(\"tabs\", \"active_tab\"), Input('cost-boolean-switch', 'on'), Input('compare-boolean-switch', 'on')]\n",
    ")\n",
    "\n",
    "# contrain category/group dropdown depending on tabs\n",
    "app.clientside_callback(\n",
    "    \"\"\"\n",
    "    function(tab, category, group) {\n",
    "        if (tab === \"tab_info\") {\n",
    "            return [true, true];\n",
    "        } else {\n",
    "            return [false, false];\n",
    "        }\n",
    "    }\n",
    "    \"\"\",\n",
    "    Output('category-dropdown', 'disabled'), \n",
    "    Output('group-dropdown', 'disabled'),\n",
    "    Input(\"tabs\", \"active_tab\")\n",
    ")"
   ]
  },
  {
   "cell_type": "markdown",
   "id": "2989c657-3604-4041-bdbc-58637d020196",
   "metadata": {},
   "source": [
    "### New"
   ]
  },
  {
   "cell_type": "code",
   "execution_count": null,
   "id": "334b9527-34a7-4b74-af15-3e24e5d900cb",
   "metadata": {},
   "outputs": [],
   "source": []
  },
  {
   "cell_type": "code",
   "execution_count": 5,
   "id": "d1ee2a12-b472-4526-94bb-4f976d2f4e78",
   "metadata": {},
   "outputs": [
    {
     "data": {
      "text/html": [
       "\n",
       "        <iframe\n",
       "            width=\"100%\"\n",
       "            height=\"650\"\n",
       "            src=\"http://127.0.0.1:8050/\"\n",
       "            frameborder=\"0\"\n",
       "            allowfullscreen\n",
       "            \n",
       "        ></iframe>\n",
       "        "
      ],
      "text/plain": [
       "<IPython.lib.display.IFrame at 0x7949e2f10f20>"
      ]
     },
     "metadata": {},
     "output_type": "display_data"
    }
   ],
   "source": [
    "if __name__ == '__main__':\n",
    "    app.run_server(debug=True)"
   ]
  },
  {
   "cell_type": "code",
   "execution_count": 24,
   "id": "295a4116-585b-4385-9d26-8eb683d96407",
   "metadata": {},
   "outputs": [
    {
     "data": {
      "text/plain": [
       "<Axes: xlabel='date'>"
      ]
     },
     "execution_count": 24,
     "metadata": {},
     "output_type": "execute_result"
    },
    {
     "data": {
      "image/png": "[encoded data removed]",
      "text/plain": [
       "<Figure size 640x480 with 1 Axes>"
      ]
     },
     "metadata": {},
     "output_type": "display_data"
    }
   ],
   "source": [
    "tickers = ['K55102BT6562', 'K55102D26937', 'K55229BX9378']\n",
    "\n",
    "df_p = df_prc.loc[tickers].iloc[:,0].unstack(0)\n",
    "start = df_p.apply(lambda x: x[x.notna()].index.min()).max()\n",
    "normalized_df = df_p.apply(lambda x: x / x.loc[start] * base_prc).loc[start:]\n",
    "normalized_df.plot()"
   ]
  },
  {
   "cell_type": "code",
   "execution_count": null,
   "id": "dd2373ac-490b-43f4-9cf2-442ede4fca34",
   "metadata": {},
   "outputs": [],
   "source": []
  },
  {
   "cell_type": "code",
   "execution_count": null,
   "id": "88302db6-742e-485f-874c-c36623c8af67",
   "metadata": {},
   "outputs": [],
   "source": []
  },
  {
   "cell_type": "code",
   "execution_count": null,
   "id": "1fe32cd4-6851-4f77-9119-f7b9fb476492",
   "metadata": {},
   "outputs": [],
   "source": []
  },
  {
   "cell_type": "code",
   "execution_count": null,
   "id": "e50e2e81-0f7a-40d5-bc96-8a8e64fa0fd1",
   "metadata": {},
   "outputs": [],
   "source": []
  },
  {
   "cell_type": "markdown",
   "id": "bad8b713-8231-4f5f-a308-c960872765d4",
   "metadata": {},
   "source": [
    "## Testing"
   ]
  },
  {
   "cell_type": "code",
   "execution_count": 95,
   "id": "65af608d-a26d-4b7e-a52f-900dc95c5954",
   "metadata": {},
   "outputs": [
    {
     "data": {
      "application/vnd.plotly.v1+json": {
       "config": {
        "plotlyServerURL": "https://plot.ly"
       },
       "data": [
        {
         "customdata": [
          [
           "한국투자크레딧포커스ESG증권자투자신탁 1(채권)(C-e)",
           0.029,
           0.131
          ],
          [
           "AB글로벌고수익증권투자신탁(채권-재간접형)종류형Ce",
           -0.107,
           0.214
          ],
          [
           "AB글로벌고수익증권투자신탁(채권-재간접형)종류형Ce-P",
           -0.107,
           0.158
          ],
          [
           "한국투자크레딧포커스ESG증권자투자신탁 1(채권)(C-Pe)",
           -0.019,
           0.141
          ],
          [
           "삼성클래식연금증권전환형투자신탁 1[채권]Ce",
           -0.041,
           0.059
          ],
          [
           "우리하이플러스채권증권자투자신탁 1(채권)ClassC-P1e",
           0.004,
           0.11
          ],
          [
           "키움더드림단기채증권투자신탁[채권]C-Pe",
           0.023,
           0.125
          ],
          [
           "교보악사Tomorrow장기우량증권투자신탁K-1(채권)ClassC-P2e",
           -0.077,
           0.135
          ],
          [
           "유진챔피언단기채증권자투자신탁(채권)ClassC-Pe",
           0.011,
           0.112
          ],
          [
           "유진챔피언중단기채증권자투자신탁(채권)ClassC-Pe",
           -0.009,
           0.133
          ],
          [
           "우리PIMCO글로벌투자등급자투자신탁[채권_재간접형](H)ClassPe2",
           -0.267,
           0.176
          ],
          [
           "이스트스프링개인신종MMF 1[국공채]클래스C-P2(연금저축)E",
           -0.005,
           0.072
          ],
          [
           "NH-Amundi국채10년인덱스증권자투자신탁[채권]Class C-P1e(연금저축)",
           -0.182,
           0.134
          ],
          [
           "피델리티미달러채권증권자투자신탁H(채권-재간접형)종류PRS-e",
           -0.187,
           -0.103
          ],
          [
           "한국밸류10년투자연금증권전환형자투자신탁 1(채권)종류C-E",
           -0.022,
           0.084
          ],
          [
           "미래에셋개인전용MMF 1(국공채)종류C-Pe",
           -0.004,
           0.076
          ],
          [
           "미래에셋라이프사이클7090연금증권전환형자투자신탁 1(채권)종류C-e",
           -0.118,
           0.123
          ],
          [
           "한국투자골드플랜연금증권전환형투자신탁 1(국공채)(C-e)",
           -0.079,
           0.094
          ],
          [
           "하나인Best연금증권자투자신탁 1[채권]",
           -0.081,
           0.158
          ],
          [
           "하나인Best연금증권투자신탁 1[국공채]",
           -0.086,
           0.148
          ],
          [
           "피델리티연금아시아하이일드증권전환형자투자신탁(채권-재간접형)종류C-e",
           -0.496,
           0.385
          ],
          [
           "미래에셋글로벌다이나믹연금증권전환형자투자신탁 1(채권)종류C-e",
           -0.11,
           0.152
          ]
         ],
         "hovertemplate": "%{customdata[0]}<br>수익률 순위(%): 평균 %{x:.0f}, 편차 %{y:.0f}<br>수익률 구간: %{customdata[1]} ~ %{customdata[2]}<extra></extra>",
         "marker": {
          "color": "#636EFA",
          "size": [
           27.3,
           7.6499999999999995,
           5.3999999999999995,
           20.4,
           6,
           25.8,
           26.7,
           7.5,
           26.25,
           21.15,
           1.65,
           24.599999999999998,
           1.95,
           0.15,
           15.6,
           23.4,
           3.15,
           4.2,
           8.25,
           7.949999999999999,
           2.1,
           5.7
          ],
          "symbol": 0
         },
         "mode": "markers",
         "name": "채권",
         "type": "scatter",
         "x": [
          63.020833333333336,
          76.5625,
          84.89583333333334,
          69.01041666666666,
          88.02083333333334,
          72.13541666666666,
          66.14583333333334,
          81.77083333333334,
          70.05208333333334,
          72.13541666666666,
          93.75,
          79.6875,
          92.70833333333334,
          97.91666666666666,
          80.98958333333334,
          79.16666666666666,
          90.10416666666666,
          88.54166666666666,
          78.125,
          80.20833333333334,
          94.27083333333334,
          84.11458333333334
         ],
         "y": [
          8.854166666666668,
          30.46875,
          24.479166666666664,
          13.541666666666666,
          8.854166666666668,
          10.416666666666668,
          8.854166666666668,
          17.96875,
          8.854166666666668,
          12.5,
          43.48958333333333,
          3.6458333333333335,
          29.166666666666668,
          6.25,
          11.458333333333332,
          5.46875,
          21.354166666666664,
          14.322916666666666,
          20.833333333333336,
          20.3125,
          77.86458333333334,
          23.4375
         ]
        },
        {
         "customdata": [
          [
           "한국밸류10년투자증권투자신탁 1(채권혼합)종류C-E",
           -0.07,
           0.221
          ],
          [
           "미래에셋전략배분TDF2035혼합자산자투자신탁 종류C-Pe",
           -0.029,
           0.46
          ],
          [
           "미래에셋전략배분TDF2030혼합자산자투자신탁 종류C-Pe",
           -0.027,
           0.353
          ],
          [
           "미래에셋전략배분TDF2025혼합자산자투자신탁종류C-Pe",
           -0.038,
           0.295
          ],
          [
           "미래에셋전략배분TDF2040혼합자산자투자신탁 종류C-Pe",
           -0.026,
           0.489
          ],
          [
           "KB온국민TDF2040증권투자신탁(주식혼합-재간접형)C-퇴직e",
           -0.045,
           0.339
          ],
          [
           "삼성한국형TDF2040증권투자신탁H[주식혼합-재간접형]C-Pe",
           -0.137,
           0.343
          ],
          [
           "KB온국민TDF2050증권자투자신탁(주식혼합-재간접형)(H)C-퇴직e",
           -0.016,
           0.447
          ],
          [
           "삼성한국형TDF2030증권투자신탁H[주식혼합-재간접형]C-Pe",
           -0.12,
           0.285
          ],
          [
           "KB온국민TDF2035증권투자신탁(주식혼합-재간접형)C-퇴직e",
           -0.047,
           0.308
          ],
          [
           "KB온국민TDF2030증권투자신탁(주식혼합-재간접형)C-퇴직e",
           -0.054,
           0.263
          ],
          [
           "KB온국민TDF2045증권투자신탁(주식혼합-재간접형)C-퇴직e",
           -0.032,
           0.395
          ],
          [
           "한국투자TDF알아서2045증권투자신탁(주식혼합-재간접형)(C-Re)",
           -0.096,
           0.445
          ],
          [
           "한국투자TDF알아서2035증권투자신탁(주식혼합-재간접형)(C-Re)",
           -0.092,
           0.426
          ],
          [
           "삼성한국형TDF2045증권투자신탁H[주식혼합-재간접형]Cpe(퇴직연금)",
           -0.153,
           0.376
          ],
          [
           "한국투자TDF알아서2030증권투자신탁(주식혼합-재간접형)(C-Pe)",
           -0.097,
           0.369
          ],
          [
           "삼성한국형TDF2035증권투자신탁H[주식혼합-재간접형]Cpe(퇴직연금)",
           -0.13,
           0.33
          ],
          [
           "한국투자TDF알아서2030증권투자신탁(주식혼합-재간접형)(C-Re)",
           -0.118,
           0.359
          ],
          [
           "미래에셋전략배분TDF2030혼합자산자투자신탁 종류C-P2e",
           -0.036,
           0.376
          ],
          [
           "신한마음편한TDF2035증권투자신탁[주식혼합-재간접형](종류C-re)",
           -0.025,
           0.387
          ],
          [
           "신한마음편한TDF2030증권투자신탁[주식혼합-재간접형](종류C-re)",
           -0.071,
           0.27
          ],
          [
           "신한마음편한TDF2040증권투자신탁[주식혼합-재간접형](종류C-re)",
           -0.038,
           0.381
          ],
          [
           "한국투자TDF알아서2040증권투자신탁(주식혼합-재간접형)(C-Re)",
           -0.107,
           0.421
          ],
          [
           "미래에셋전략배분TDF2040혼합자산자투자신탁 종류C-P2e",
           -0.018,
           0.524
          ],
          [
           "삼성한국형TDF2030증권투자신탁H[주식혼합-재간접형]Cpe(퇴직연금)",
           -0.131,
           0.292
          ],
          [
           "미래에셋전략배분TDF2045혼합자산자투자신탁 종류C-P2e",
           -0.058,
           0.487
          ],
          [
           "신한마음편한TDF2045증권투자신탁[주식혼합-재간접형](종류C-re)",
           -0.043,
           0.367
          ],
          [
           "미래에셋전략배분TDF2035혼합자산자투자신탁종류C-P2e",
           -0.017,
           0.446
          ],
          [
           "미래에셋평생소득TIF혼합자산자투자신탁종류C-P2e",
           -0.066,
           0.259
          ],
          [
           "한화LIFEPLUSTDF2030증권자투자신탁(혼합-재간접형)종류C-PE(연금저축)",
           -0.078,
           0.371
          ],
          [
           "한화LIFEPLUSTDF2025증권자투자신탁(혼합-재간접형)종류C-PE(연금저축)",
           -0.096,
           0.328
          ],
          [
           "한화LIFEPLUSTDF2045증권투자신탁(혼합-재간접형)C-RPE(퇴직연금)",
           -0.029,
           0.445
          ],
          [
           "한화LIFEPLUSTDF2035증권투자신탁(혼합-재간접형)C-RPE(퇴직연금)",
           -0.035,
           0.421
          ],
          [
           "한화LIFEPLUSTDF2030증권자투자신탁(혼합-재간접형)종류C-RPE(퇴직연금)",
           -0.067,
           0.373
          ],
          [
           "한화LIFEPLUSTDF2040증권자투자신탁(혼합-재간접형)C-RPe(퇴직연금)",
           -0.058,
           0.428
          ],
          [
           "키움키워드림TDF2045증권투자신탁 1[혼합-재간접형]C-P2e(퇴직연금)",
           -0.109,
           0.393
          ],
          [
           "키움키워드림TDF2030증권투자신탁 1[혼합-재간접형]C-P2e(퇴직연금)",
           -0.107,
           0.397
          ],
          [
           "키움키워드림TDF2040증권투자신탁 1[혼합-재간접형]C-P2e(퇴직연금)",
           -0.087,
           0.401
          ],
          [
           "키움키워드림TDF2035증권투자신탁 1[혼합-재간접형]C-P2e (퇴직연금)",
           -0.095,
           0.395
          ],
          [
           "IBK플레인바닐라EMP증권투자신탁(혼합-재간접형)C-Re",
           -0.235,
           0.275
          ],
          [
           "삼성한국형TDF2050증권투자신탁H[주식혼합-재간접형]Cpe(퇴직연금)",
           -0.091,
           0.206
          ],
          [
           "신한마음편한TDF2050증권투자신탁[주식혼합-재간접형](종류C-re)",
           0.019,
           0.243
          ],
          [
           "한국투자TIF알아서평생소득증권자투자신탁(채권혼합-재간접형)(C-Re)",
           -0.074,
           0.084
          ],
          [
           "다올글로벌멀티에셋인컴EMP증권자투자신탁[혼합-재간접형](공)종류Ce",
           -0.189,
           0.039
          ],
          [
           "한국투자TDF알아서2050증권자투자신탁H(주식혼합-재간접형)(C-Re)",
           -0.065,
           0.192
          ],
          [
           "미래에셋전략배분TDF2050혼합자산자투자신탁종류C-P2e",
           0.051,
           0.15
          ],
          [
           "IBK로우코스트TDF2035증권자투자신탁[혼합-재간접형]종류C-Re",
           0.086,
           0.138
          ],
          [
           "IBK로우코스트TDF2045증권자투자신탁[혼합-재간접형]종류C-Re",
           0.149,
           0.22
          ],
          [
           "IBK로우코스트TDF2050증권자투자신탁[혼합-재간접형]종류C-Re",
           0.176,
           0.25
          ],
          [
           "IBK로우코스트TDF2055증권자투자신탁[혼합-재간접형]종류C-Re",
           0.19,
           0.275
          ],
          [
           "IBK로우코스트TDF2040증권자투자신탁[혼합-재간접형]종류C-Re",
           0.121,
           0.182
          ],
          [
           "IBK로우코스트TDF2030증권자투자신탁[혼합-재간접형]종류C-Re",
           0.041,
           0.087
          ],
          [
           "하나PIMCO글로벌인컴혼합자산자투자신탁(H)[재간접형]ClassC-PE",
           -0.109,
           0.117
          ],
          [
           "삼성클래식30연금증권전환형자투자신탁 1[채권혼합]_Ce",
           -0.045,
           0.14
          ],
          [
           "삼성클래식60연금증권전환형자투자신탁 1[주식혼합]Ce",
           -0.123,
           0.335
          ],
          [
           "키움글로벌파도타기EMP증권투자신탁[주식혼합-재간접형]C-Pe",
           -0.168,
           0.364
          ],
          [
           "교보악사삼성전자투게더증권투자신탁[채권혼합]ClassC-Pe(연금)",
           -0.172,
           0.163
          ],
          [
           "신영고배당30증권투자신탁(채권혼합)C-Pe",
           -0.032,
           0.148
          ],
          [
           "신한삼성전자알파증권자투자신탁 1[채권혼합](종류C-pe)",
           -0.018,
           0.092
          ],
          [
           "한화LIFEPLUSTDF2020증권자투자신탁(혼합-재간접형)종류C-PE(연금저축)",
           -0.125,
           0.262
          ],
          [
           "한화LIFEPLUSTDF2045증권투자신탁(혼합-재간접형)종류C-PE",
           -0.018,
           0.452
          ],
          [
           "한화LIFEPLUSTDF2040증권자투자신탁(혼합-재간접형)종류C-PE",
           -0.044,
           0.429
          ],
          [
           "한화그린히어로증권자투자신탁(채권혼합)C-Pe(연금저축)",
           -0.041,
           0.171
          ],
          [
           "유진챔피언공모주증권투자신탁 1(주식혼합) ClassC-P",
           0.001,
           0.101
          ],
          [
           "IBK플레인바닐라EMP증권투자신탁[혼합-재간접형]종류C-Pe",
           -0.234,
           0.259
          ],
          [
           "IBK인컴바닐라EMP증권자투자신탁[혼합-재간접형]종류C-Pe",
           -0.063,
           0.043
          ],
          [
           "한국밸류10년투자증권투자신탁 1(채권혼합)종류C-Pe",
           -0.014,
           0.233
          ],
          [
           "BNK스팩&공모주30증권투자신탁 1(채권혼합)ClassC-Pe",
           -0.025,
           0.066
          ],
          [
           "미래에셋라이프사이클3040연금증권전환형자투자신탁 1(주식혼합)종류C-e",
           -0.135,
           0.323
          ],
          [
           "미래에셋라이프사이클4050연금증권전환형자투자신탁 1(주식혼합)종류C-e",
           -0.116,
           0.268
          ],
          [
           "미래에셋라이프사이클5060연금증권전환형자투자신탁 1(채권혼합)종류C-e",
           -0.108,
           0.164
          ],
          [
           "미래에셋단기채알파증권자투자신탁(채권혼합)종류C-Pe",
           0.032,
           0.079
          ],
          [
           "다올글로벌멀티에셋인컴EMP증권자투자신탁[혼합-재간접형](공)종류C-Pe",
           -0.172,
           0.036
          ],
          [
           "유리글로벌Top10주식과단기채증권자투자신탁[채권혼합]_ClassC-P2e",
           0.055,
           0.252
          ],
          [
           "트러스톤공모주알파증권투자신탁[채권혼합]Cp-E클래스",
           -0.011,
           0.166
          ],
          [
           "한국투자골드플랜연금증권전환형투자신탁 1(주식혼합)(C-e)",
           -0.096,
           0.343
          ],
          [
           "한국투자삼성TOP3증권자투자신탁 1(채권혼합)(C-Pe)",
           -0.099,
           0.156
          ],
          [
           "미래에셋배당커버드콜액티브연금저축증권전환형자투자신탁 1(주식혼합)종류C-e",
           -0.114,
           0.333
          ]
         ],
         "hovertemplate": "%{customdata[0]}<br>수익률 순위(%): 평균 %{x:.0f}, 편차 %{y:.0f}<br>수익률 구간: %{customdata[1]} ~ %{customdata[2]}<extra></extra>",
         "marker": {
          "color": "#EF553B",
          "size": [
           15.299999999999999,
           22.8,
           23.849999999999998,
           20.25,
           23.55,
           21.599999999999998,
           11.7,
           22.95,
           10.35,
           19.5,
           17.849999999999998,
           22.05,
           16.8,
           15.899999999999999,
           12.75,
           14.85,
           12.15,
           14.7,
           23.099999999999998,
           21.3,
           17.25,
           20.849999999999998,
           16.95,
           23.7,
           10.95,
           22.65,
           22.5,
           24.45,
           16.05,
           18.15,
           14.25,
           23.25,
           20.55,
           19.2,
           21.45,
           16.349999999999998,
           16.2,
           18.45,
           17.55,
           4.05,
           8.85,
           25.95,
           4.35,
           0.8999999999999999,
           13.2,
           27.45,
           28.2,
           28.5,
           28.799999999999997,
           28.65,
           28.349999999999998,
           27.9,
           2.55,
           13.35,
           11.25,
           9.45,
           2.85,
           18.3,
           19.05,
           9.9,
           24,
           21.9,
           18,
           24.9,
           3.4499999999999997,
           1.7999999999999998,
           24.3,
           10.65,
           11.1,
           9.6,
           6.45,
           27.599999999999998,
           0.75,
           27.075,
           22.2,
           15.45,
           6.675,
           11.549999999999999
          ],
          "symbol": 1
         },
         "mode": "markers",
         "name": "혼합",
         "type": "scatter",
         "x": [
          62.5,
          25.260416666666668,
          34.11458333333333,
          45.57291666666667,
          21.875,
          38.02083333333333,
          53.125,
          27.604166666666668,
          61.979166666666664,
          47.39583333333333,
          55.46875,
          31.25,
          35.67708333333333,
          41.40625,
          48.95833333333333,
          45.57291666666667,
          54.6875,
          44.79166666666667,
          32.8125,
          34.89583333333333,
          53.90625,
          33.33333333333333,
          36.45833333333333,
          19.270833333333336,
          61.197916666666664,
          19.791666666666664,
          32.29166666666667,
          23.4375,
          59.375,
          41.40625,
          51.041666666666664,
          26.041666666666668,
          30.729166666666668,
          39.32291666666667,
          29.166666666666668,
          40.625,
          42.1875,
          35.67708333333333,
          37.23958333333333,
          84.11458333333334,
          75,
          46.61458333333333,
          89.0625,
          96.09375,
          69.01041666666666,
          57.291666666666664,
          52.34375,
          30.208333333333332,
          23.958333333333336,
          18.75,
          39.32291666666667,
          68.22916666666666,
          90.88541666666666,
          76.04166666666666,
          56.770833333333336,
          59.895833333333336,
          90.88541666666666,
          70.83333333333334,
          78.125,
          65.625,
          26.5625,
          28.645833333333332,
          67.44791666666666,
          75.52083333333334,
          86.45833333333334,
          91.66666666666666,
          52.34375,
          85.67708333333334,
          58.333333333333336,
          66.66666666666666,
          82.29166666666666,
          73.95833333333334,
          96.09375,
          40.10416666666667,
          64.84375,
          48.17708333333333,
          83.07291666666666,
          56.25
         ],
         "y": [
          26.041666666666668,
          53.125,
          35.9375,
          30.46875,
          55.989583333333336,
          35.15625,
          51.302083333333336,
          47.91666666666667,
          38.54166666666667,
          33.33333333333333,
          29.6875,
          41.66666666666667,
          59.895833333333336,
          56.770833333333336,
          57.8125,
          49.21875,
          45.83333333333333,
          51.302083333333336,
          38.02083333333333,
          39.32291666666667,
          32.55208333333333,
          40.88541666666667,
          57.8125,
          59.114583333333336,
          40.10416666666667,
          60.9375,
          39.32291666666667,
          49.21875,
          31.510416666666668,
          45.05208333333333,
          42.44791666666667,
          49.21875,
          44.27083333333333,
          42.44791666666667,
          50.520833333333336,
          55.208333333333336,
          54.6875,
          52.34375,
          53.90625,
          55.989583333333336,
          27.083333333333332,
          19.010416666666664,
          13.020833333333334,
          19.010416666666664,
          22.395833333333336,
          7.291666666666667,
          1.3020833333333335,
          2.604166666666667,
          3.6458333333333335,
          5.46875,
          2.083333333333333,
          0.5208333333333333,
          19.791666666666664,
          15.625,
          46.875,
          57.8125,
          31.510416666666668,
          15.104166666666666,
          11.458333333333332,
          36.71875,
          46.875,
          49.21875,
          16.666666666666664,
          8.854166666666668,
          53.90625,
          11.458333333333332,
          21.875,
          6.770833333333333,
          46.875,
          35.15625,
          25.520833333333332,
          1.3020833333333335,
          17.96875,
          16.145833333333336,
          14.322916666666666,
          43.48958333333333,
          23.4375,
          45.05208333333333
         ]
        },
        {
         "customdata": [
          [
           "삼성클래식아세안연금증권전환형자투자신탁 1[주식]_Ce",
           -0.167,
           0.393
          ],
          [
           "교보악사파워인덱스증권자투자신탁1호(주식)C-Pe",
           -0.27,
           0.626
          ],
          [
           "kcgi코리아퇴직연금증권자투자신탁(주식)종류C-Pe2",
           -0.178,
           0.651
          ],
          [
           "kb퇴직연금배당증권자투자신탁(주식)C-E",
           -0.313,
           0.44
          ],
          [
           "피델리티아시아증권자투자신탁(주식)CP-e",
           -0.372,
           0.793
          ],
          [
           "마이다스아시아리더스성장주연금증권자투자신탁(UH)(주식)C-Pe2",
           -0.424,
           1.103
          ],
          [
           "IBK베트남플러스아시아증권투자신탁[주식]종류C-Re",
           -0.041,
           0.813
          ],
          [
           "대신KOSPI200인덱스증권자투자신탁(주식-파생형)CPe",
           -0.218,
           0.762
          ],
          [
           "에셋플러스슈퍼아시아리치투게더증권자투자신탁 1(주식)종류C-P2e",
           0.053,
           0.392
          ],
          [
           "한국투자웰링턴글로벌퀄리티증권자투자신탁H(주식)(C-Pe)",
           -0.063,
           0.664
          ],
          [
           "한국투자글로벌전기차&배터리증권투자신탁(주식)(C-Pe)",
           -0.508,
           1.338
          ],
          [
           "한국투자월스트리트투자은행증권투자신탁 1(주식)(C-Pe)",
           -0.146,
           0.438
          ],
          [
           "한국투자미국배당귀족증권자투자신탁H(주식)(C-Pe)",
           -0.059,
           0.35
          ],
          [
           "한국투자미국배당귀족증권자투자신탁UH(주식)(C-Pe)",
           0.268,
           0.556
          ],
          [
           "하나글로벌인프라증권자투자신탁[주식]ClassC-PE",
           -0.059,
           0.308
          ],
          [
           "하나글로벌4차산업1등주플러스증권자투자신탁[주식]ClassC-PE",
           -0.185,
           1.034
          ],
          [
           "하나중국1등주플러스증권자투자신탁[주식]ClassC-PE",
           -0.873,
           0.988
          ],
          [
           "하나IT코리아증권자투자신탁 1[주식]ClassC-PE",
           -0.404,
           1.077
          ],
          [
           "삼성클래식중국본토중소형FOCUS연금증권자투자신탁H[주식]_Ce",
           -0.616,
           0.518
          ],
          [
           "삼성클래식연금증권전환형자투자신탁 1[주식]_Ce",
           -0.293,
           0.546
          ],
          [
           "삼성클래식인덱스연금증권전환형투자신탁 1[주식]_Ce",
           -0.254,
           0.516
          ],
          [
           "삼성픽테로보틱스증권자투자신탁H[주식-재간접형]C-Pe",
           -0.224,
           0.92
          ],
          [
           "삼성픽테로보틱스증권자투자신탁UH[주식-재간접형]_C-Pe",
           0.064,
           1.088
          ],
          [
           "삼성글로벌클린에너지증권자투자신탁 1[주식-재간접형]C-Pe",
           -0.103,
           0.154
          ],
          [
           "삼성글로벌메타버스증권자투자신탁H[주식]_C-Pe",
           -0.306,
           0.46
          ],
          [
           "삼성글로벌메타버스증권자투자신탁UH[주식]_C-Pe",
           -0.178,
           0.822
          ],
          [
           "삼성글로벌반도체증권자투자신탁H[주식]_C-Pe",
           -0.077,
           0.759
          ],
          [
           "삼성글로벌반도체증권자투자신탁UH[주식]_C-Pe",
           0.165,
           1.008
          ],
          [
           "우리중소형고배당증권자투자신탁 1(주식)ClassC-P1e",
           -0.312,
           1.053
          ],
          [
           "키움차세대모빌리티증권자투자신탁 1[주식]C-Pe",
           -0.278,
           0.808
          ],
          [
           "키움올바른ESG증권투자신탁 1[주식] Class C-Pe",
           -0.225,
           0.371
          ],
          [
           "교보악사파워인덱스증권투자신탁 1(주식-파생형)ClassC-P2e",
           -0.242,
           0.628
          ],
          [
           "교보악사로보테크증권자투자신탁 1(H)[주식]ClassC-Pe",
           -0.324,
           0.88
          ],
          [
           "신영밸류고배당증권자투자신탁(주식)C-Pe형",
           -0.227,
           0.484
          ],
          [
           "신한중소형주알파증권자투자신탁[주식](종류C-pe)",
           -0.445,
           0.856
          ],
          [
           "KB스타코스닥150인덱스증권자투자신탁(주식-파생형)C-Pe클래스",
           -0.234,
           0.349
          ],
          [
           "KB스타미국나스닥100인덱스증권자투자신탁(주식-파생형)(H)C-Pe",
           -0.077,
           1.161
          ],
          [
           "KB통중국4차산업증권자투자신탁(주식)C-Pe",
           -1.107,
           0.869
          ],
          [
           "KB스타베트남VN30인덱스증권자투자신탁(주식-파생형)C-Pe",
           -0.486,
           0.552
          ],
          [
           "KB글로벌클린에너지수소경제증권자투자신탁(주식)C-Pe",
           -0.704,
           -0.058
          ],
          [
           "슈로더글로벌지속가능성장주증권투자신탁(주식-재간접형)종류C-Pe",
           -0.044,
           0.224
          ],
          [
           "NH-Amundi글로벌혁신기업증권자투자신탁(H)[주식]ClassC-P1e(연금저축)",
           -0.59,
           0.739
          ],
          [
           "NH-Amundi글로벌혁신기업증권자투자신탁(UH)[주식]ClassC-P1e",
           -0.205,
           0.215
          ],
          [
           "NH-Amundi필승코리아증권투자신탁[주식]ClassC-P1e(연금저축)",
           -0.242,
           0.896
          ],
          [
           "피델리티글로벌금융주증권자투자신탁(주식-재간접형)PRS-e",
           -0.086,
           0.477
          ],
          [
           "피델리티글로벌테크놀로지증권자투자신탁(주식-재간접형)종류PRS-e",
           0.088,
           1.22
          ],
          [
           "피델리티인디아증권자투자신탁(주식-재간접형)종류PRS-e",
           -0.019,
           0.915
          ],
          [
           "한국밸류10년투자연금증권전환형투자신탁 1(주식)C-E",
           -0.339,
           0.446
          ],
          [
           "미래에셋차이나H인덱스증권자투자신탁 1(주식)종류C-Pe",
           -0.643,
           0.276
          ],
          [
           "미래에셋연금한국헬스케어증권자투자신탁 1(주식)종류C-Pe",
           -0.376,
           0.591
          ],
          [
           "미래에셋미국블루칩인덱스증권투자신탁 1(주식)종류C-Pe",
           0.013,
           0.563
          ],
          [
           "미래에셋인도중소형포커스증권자투자신탁 1(주식)종류C-Pe",
           -0.129,
           1.466
          ],
          [
           "미래에셋라이프사이클2030연금증권전환형자투자신탁 1(주식)종류C-e",
           -0.205,
           0.459
          ],
          [
           "미래에셋글로벌코어테크EMP증권자투자신탁(주식-재간접형)종류C-Pe",
           -0.43,
           0.869
          ],
          [
           "미래에셋친디아컨슈머증권투자신탁 1(주식)종류C-Pe",
           -0.477,
           0.006
          ],
          [
           "미래에셋코어테크증권자투자신탁(주식)종류C-Pe",
           -0.471,
           0.727
          ],
          [
           "마이다스책임투자증권투자신탁(주식)C-Pe1",
           -0.268,
           1.02
          ],
          [
           "마이다스아시아리더스성장주증권자투자신탁(H)(주식)C-Pe1",
           -0.229,
           0.131
          ],
          [
           "마이다스아시아리더스성장주증권자투자신탁(UH)(주식)C-Pe1",
           -0.265,
           0.125
          ],
          [
           "다올중국1등주증권자투자신탁[주식]종류C-Pe",
           -0.735,
           0.92
          ],
          [
           "다올글로벌빅테크1등주증권투자신탁[주식]종류C-Pe",
           -0.17,
           0.825
          ],
          [
           "유리베트남알파연금저축증권자투자신탁[주식]_C/C-e",
           -0.28,
           0.775
          ],
          [
           "유리필라델피아반도체인덱스증권자투자신탁H[주식]ClassC-P2e",
           0.159,
           0.758
          ],
          [
           "유리필라델피아반도체인덱스증권자투자신탁UH[주식]_ClassC-P2e",
           0.454,
           1.017
          ],
          [
           "유리글로벌거래소증권자투자신탁 1[주식]_C/C-P2e",
           -0.098,
           0.203
          ],
          [
           "트러스톤ESG지배구조레벨업증권자투자신탁[주식]Cp-E클래스",
           -0.119,
           0.185
          ],
          [
           "iM에셋월드광업주증권자투자신탁(주식-재간접형)(H)(C-Pe)",
           -0.275,
           0.97
          ],
          [
           "iM에셋월드에너지증권자투자신탁(주식-재간접형)(H)(C-Pe)",
           -0.721,
           1.473
          ],
          [
           "AB미국그로스증권투자신탁(주식-재간접형)종류형Ce-P",
           -0.13,
           1.005
          ],
          [
           "한국투자골드플랜글로벌이머징연금증권전환형자투자신탁 1(주식)(C-e)",
           -0.261,
           0.283
          ],
          [
           "한국투자골드플랜네비게이터연금증권전환형투자신탁 1(주식)(C-e)",
           -0.289,
           0.427
          ],
          [
           "한국투자골드플랜브릭스연금증권전환형자투자신탁 1(주식)(C-e)",
           -0.409,
           0.164
          ],
          [
           "한국투자골드플랜연금증권전환형투자신탁 1(주식)(C-e)",
           -0.131,
           0.525
          ],
          [
           "하나인Best연금증권투자신탁 1[주식]",
           -0.458,
           0.55
          ],
          [
           "하나인Best연금China증권자투자신탁[주식]",
           -0.666,
           0.812
          ],
          [
           "삼성클래식차이나본토연금증권자투자신탁H[주식]_Ce",
           -0.485,
           0.438
          ],
          [
           "한화연금저축글로벌헬스케어증권자투자신탁(주식)C-e",
           -0.172,
           0.523
          ],
          [
           "슈로더유로연금증권자투자신탁(주식-재간접형)종류C-e",
           -0.123,
           0.409
          ],
          [
           "피델리티연금아시아증권전환형자투자신탁(주식)종류C-e",
           -0.185,
           0.79
          ],
          [
           "피델리티연금미국증권전환형자투자신탁(주식-재간접형)종류C-e",
           -0.049,
           0.612
          ],
          [
           "피델리티유럽증권자투자신탁(주식-재간접형)PRS-e",
           -0.075,
           0.608
          ],
          [
           "피델리티차이나컨슈머증권자투자신탁(주식-재간접형)종류PRS-e",
           -0.611,
           0.649
          ],
          [
           "피델리티글로벌배당인컴증권자투자신탁(주식-재간접형)종류PRS-e",
           0.074,
           0.373
          ],
          [
           "미래에셋고배당포커스연금저축증권전환형자투자신탁 1(주식)종류C-e",
           -0.194,
           0.59
          ],
          [
           "미래에셋코어밸류연금저축증권전환형자투자신탁 1(주식)종류C-e",
           -0.435,
           0.807
          ],
          [
           "미래에셋글로벌그레이트컨슈머연금증권전환형자투자신탁 1(주식)종류C-e",
           -0.315,
           0.607
          ],
          [
           "에셋플러스글로벌리치투게더연금증권자투자신탁 1[주식] 종류Ce",
           0.006,
           0.757
          ]
         ],
         "hovertemplate": "%{customdata[0]}<br>수익률 순위(%): 평균 %{x:.0f}, 편차 %{y:.0f}<br>수익률 구간: %{customdata[1]} ~ %{customdata[2]}<extra></extra>",
         "marker": {
          "color": "#00CC96",
          "size": [
           9.75,
           12.45,
           16.5,
           7.199999999999999,
           10.2,
           12,
           24.15,
           14.549999999999999,
           26.4,
           19.95,
           11.85,
           13.5,
           18.75,
           28.05,
           18.599999999999998,
           18.9,
           4.6499999999999995,
           10.799999999999999,
           2.25,
           7.8,
           8.549999999999999,
           17.4,
           25.65,
           6.675,
           6.1499999999999995,
           17.7,
           20.099999999999998,
           26.55,
           12.9,
           14.1,
           7.35,
           12.299999999999999,
           12.6,
           8.4,
           8.1,
           7.05,
           21,
           2.4,
           3.75,
           0.44999999999999996,
           19.8,
           5.1,
           3.5999999999999996,
           15,
           19.349999999999998,
           26.099999999999998,
           24.75,
           5.25,
           1.05,
           6.8999999999999995,
           25.349999999999998,
           20.7,
           10.5,
           9.15,
           0.6,
           6.3,
           15.149999999999999,
           1.5,
           1.3499999999999999,
           4.5,
           17.099999999999998,
           11.4,
           27.075,
           27.75,
           10.049999999999999,
           4.95,
           15.75,
           9.299999999999999,
           19.65,
           3.3,
           5.85,
           1.2,
           14.399999999999999,
           4.8,
           5.55,
           2.6999999999999997,
           13.049999999999999,
           13.95,
           16.65,
           21.75,
           22.349999999999998,
           3.9,
           26.849999999999998,
           13.65,
           9,
           8.7,
           25.05
          ],
          "symbol": 2
         },
         "mode": "markers",
         "name": "주식",
         "type": "scatter",
         "x": [
          55.46875,
          24.479166666666664,
          17.708333333333336,
          60.416666666666664,
          22.395833333333336,
          9.895833333333332,
          6.770833333333333,
          17.1875,
          21.354166666666664,
          16.145833333333336,
          4.6875,
          42.70833333333333,
          43.75,
          5.729166666666666,
          48.17708333333333,
          5.208333333333334,
          58.333333333333336,
          13.541666666666666,
          94.79166666666666,
          51.5625,
          46.61458333333333,
          8.333333333333332,
          2.604166666666667,
          83.07291666666666,
          64.84375,
          11.458333333333332,
          10.9375,
          2.083333333333333,
          10.416666666666668,
          14.0625,
          64.0625,
          25.260416666666668,
          15.625,
          49.47916666666667,
          29.6875,
          67.44791666666666,
          3.125,
          96.875,
          80.98958333333334,
          100,
          58.333333333333336,
          61.197916666666664,
          86.97916666666666,
          11.979166666666668,
          27.083333333333332,
          1.5625,
          4.166666666666666,
          73.17708333333334,
          98.95833333333334,
          53.90625,
          14.84375,
          1.0416666666666665,
          44.27083333333333,
          20.833333333333336,
          99.47916666666666,
          50.520833333333336,
          8.854166666666668,
          93.22916666666666,
          95.3125,
          63.541666666666664,
          12.5,
          18.229166666666664,
          3.6458333333333335,
          0.5208333333333333,
          73.17708333333334,
          85.67708333333334,
          9.375,
          7.291666666666667,
          6.25,
          87.5,
          70.05208333333334,
          97.39583333333334,
          31.770833333333332,
          71.35416666666666,
          50,
          92.1875,
          34.11458333333333,
          43.22916666666667,
          13.020833333333334,
          16.666666666666664,
          14.84375,
          74.47916666666666,
          20.3125,
          28.125,
          22.916666666666664,
          38.54166666666667,
          7.8125
         ],
         "y": [
          63.020833333333336,
          78.64583333333334,
          75,
          72.39583333333334,
          89.0625,
          96.875,
          76.5625,
          81.77083333333334,
          32.55208333333333,
          71.35416666666666,
          98.95833333333334,
          64.0625,
          37.5,
          26.5625,
          33.85416666666667,
          90.625,
          98.4375,
          95.83333333333334,
          88.02083333333334,
          75.52083333333334,
          72.91666666666666,
          88.54166666666666,
          84.63541666666666,
          23.4375,
          73.95833333333334,
          83.85416666666666,
          76.04166666666666,
          77.08333333333334,
          95.3125,
          85.9375,
          64.84375,
          77.86458333333334,
          90.10416666666666,
          70.83333333333334,
          93.75,
          64.84375,
          91.40625,
          99.47916666666666,
          84.63541666666666,
          67.1875,
          25,
          94.79166666666666,
          40.88541666666667,
          87.5,
          61.979166666666664,
          86.45833333333334,
          80.20833333333334,
          73.4375,
          79.16666666666666,
          81.25,
          61.458333333333336,
          97.39583333333334,
          69.01041666666666,
          94.27083333333334,
          52.34375,
          89.58333333333334,
          93.22916666666666,
          34.375,
          36.71875,
          97.91666666666666,
          82.8125,
          85.41666666666666,
          65.88541666666666,
          62.5,
          28.385416666666668,
          28.385416666666668,
          91.40625,
          100,
          86.97916666666666,
          60.416666666666664,
          70.3125,
          63.541666666666664,
          67.96875,
          83.33333333333334,
          96.35416666666666,
          80.72916666666666,
          69.79166666666666,
          59.114583333333336,
          82.29166666666666,
          67.96875,
          69.01041666666666,
          92.44791666666666,
          27.604166666666668,
          74.47916666666666,
          92.44791666666666,
          79.6875,
          71.875
         ]
        },
        {
         "customdata": [
          [
           "하나신종MMF(S-26)ClassC-PE",
           0.002,
           0.082
          ],
          [
           "하나클래스원신종MMF(S-36)ClassC-PE",
           0.001,
           0.075
          ]
         ],
         "hovertemplate": "%{customdata[0]}<br>수익률 순위(%): 평균 %{x:.0f}, 편차 %{y:.0f}<br>수익률 구간: %{customdata[1]} ~ %{customdata[2]}<extra></extra>",
         "marker": {
          "color": "#AB63FA",
          "size": [
           25.5,
           25.2
          ],
          "symbol": 3
         },
         "mode": "markers",
         "name": "MMF",
         "type": "scatter",
         "x": [
          77.08333333333334,
          78.125
         ],
         "y": [
          4.6875,
          3.6458333333333335
         ]
        },
        {
         "customdata": [
          [
           "하나글로벌리츠부동산자투자신탁[재간접형]ClassC-PE",
           -0.319,
           0.288
          ],
          [
           "하나글로벌리츠온리원부동산자투자신탁[재간접형]ClassC-PE",
           -0.281,
           -0.079
          ]
         ],
         "hovertemplate": "%{customdata[0]}<br>수익률 순위(%): 평균 %{x:.0f}, 편차 %{y:.0f}<br>수익률 구간: %{customdata[1]} ~ %{customdata[2]}<extra></extra>",
         "marker": {
          "color": "#FFA15A",
          "size": [
           3,
           0.3
          ],
          "symbol": 4
         },
         "mode": "markers",
         "name": "리츠",
         "type": "scatter",
         "x": [
          89.58333333333334,
          98.4375
         ],
         "y": [
          65.88541666666666,
          17.1875
         ]
        },
        {
         "customdata": [
          [
           "이스트스프링골드리치특별자산투자신탁[금-파생형]클래스C-P2(연금저축)E",
           -0.14,
           0.448
          ]
         ],
         "hovertemplate": "%{customdata[0]}<br>수익률 순위(%): 평균 %{x:.0f}, 편차 %{y:.0f}<br>수익률 구간: %{customdata[1]} ~ %{customdata[2]}<extra></extra>",
         "marker": {
          "color": "#19D3F3",
          "size": [
           13.799999999999999
          ],
          "symbol": 5
         },
         "mode": "markers",
         "name": "원자재",
         "type": "scatter",
         "x": [
          37.23958333333333
         ],
         "y": [
          66.66666666666666
         ]
        }
       ],
       "layout": {
        "height": 600,
        "hovermode": "closest",
        "legend": {
         "title": {
          "text": "asset"
         }
        },
        "template": {
         "data": {
          "bar": [
           {
            "error_x": {
             "color": "#2a3f5f"
            },
            "error_y": {
             "color": "#2a3f5f"
            },
            "marker": {
             "line": {
              "color": "#E5ECF6",
              "width": 0.5
             },
             "pattern": {
              "fillmode": "overlay",
              "size": 10,
              "solidity": 0.2
             }
            },
            "type": "bar"
           }
          ],
          "barpolar": [
           {
            "marker": {
             "line": {
              "color": "#E5ECF6",
              "width": 0.5
             },
             "pattern": {
              "fillmode": "overlay",
              "size": 10,
              "solidity": 0.2
             }
            },
            "type": "barpolar"
           }
          ],
          "carpet": [
           {
            "aaxis": {
             "endlinecolor": "#2a3f5f",
             "gridcolor": "white",
             "linecolor": "white",
             "minorgridcolor": "white",
             "startlinecolor": "#2a3f5f"
            },
            "baxis": {
             "endlinecolor": "#2a3f5f",
             "gridcolor": "white",
             "linecolor": "white",
             "minorgridcolor": "white",
             "startlinecolor": "#2a3f5f"
            },
            "type": "carpet"
           }
          ],
          "choropleth": [
           {
            "colorbar": {
             "outlinewidth": 0,
             "ticks": ""
            },
            "type": "choropleth"
           }
          ],
          "contour": [
           {
            "colorbar": {
             "outlinewidth": 0,
             "ticks": ""
            },
            "colorscale": [
             [
              0,
              "#0d0887"
             ],
             [
              0.1111111111111111,
              "#46039f"
             ],
             [
              0.2222222222222222,
              "#7201a8"
             ],
             [
              0.3333333333333333,
              "#9c179e"
             ],
             [
              0.4444444444444444,
              "#bd3786"
             ],
             [
              0.5555555555555556,
              "#d8576b"
             ],
             [
              0.6666666666666666,
              "#ed7953"
             ],
             [
              0.7777777777777778,
              "#fb9f3a"
             ],
             [
              0.8888888888888888,
              "#fdca26"
             ],
             [
              1,
              "#f0f921"
             ]
            ],
            "type": "contour"
           }
          ],
          "contourcarpet": [
           {
            "colorbar": {
             "outlinewidth": 0,
             "ticks": ""
            },
            "type": "contourcarpet"
           }
          ],
          "heatmap": [
           {
            "colorbar": {
             "outlinewidth": 0,
             "ticks": ""
            },
            "colorscale": [
             [
              0,
              "#0d0887"
             ],
             [
              0.1111111111111111,
              "#46039f"
             ],
             [
              0.2222222222222222,
              "#7201a8"
             ],
             [
              0.3333333333333333,
              "#9c179e"
             ],
             [
              0.4444444444444444,
              "#bd3786"
             ],
             [
              0.5555555555555556,
              "#d8576b"
             ],
             [
              0.6666666666666666,
              "#ed7953"
             ],
             [
              0.7777777777777778,
              "#fb9f3a"
             ],
             [
              0.8888888888888888,
              "#fdca26"
             ],
             [
              1,
              "#f0f921"
             ]
            ],
            "type": "heatmap"
           }
          ],
          "heatmapgl": [
           {
            "colorbar": {
             "outlinewidth": 0,
             "ticks": ""
            },
            "colorscale": [
             [
              0,
              "#0d0887"
             ],
             [
              0.1111111111111111,
              "#46039f"
             ],
             [
              0.2222222222222222,
              "#7201a8"
             ],
             [
              0.3333333333333333,
              "#9c179e"
             ],
             [
              0.4444444444444444,
              "#bd3786"
             ],
             [
              0.5555555555555556,
              "#d8576b"
             ],
             [
              0.6666666666666666,
              "#ed7953"
             ],
             [
              0.7777777777777778,
              "#fb9f3a"
             ],
             [
              0.8888888888888888,
              "#fdca26"
             ],
             [
              1,
              "#f0f921"
             ]
            ],
            "type": "heatmapgl"
           }
          ],
          "histogram": [
           {
            "marker": {
             "pattern": {
              "fillmode": "overlay",
              "size": 10,
              "solidity": 0.2
             }
            },
            "type": "histogram"
           }
          ],
          "histogram2d": [
           {
            "colorbar": {
             "outlinewidth": 0,
             "ticks": ""
            },
            "colorscale": [
             [
              0,
              "#0d0887"
             ],
             [
              0.1111111111111111,
              "#46039f"
             ],
             [
              0.2222222222222222,
              "#7201a8"
             ],
             [
              0.3333333333333333,
              "#9c179e"
             ],
             [
              0.4444444444444444,
              "#bd3786"
             ],
             [
              0.5555555555555556,
              "#d8576b"
             ],
             [
              0.6666666666666666,
              "#ed7953"
             ],
             [
              0.7777777777777778,
              "#fb9f3a"
             ],
             [
              0.8888888888888888,
              "#fdca26"
             ],
             [
              1,
              "#f0f921"
             ]
            ],
            "type": "histogram2d"
           }
          ],
          "histogram2dcontour": [
           {
            "colorbar": {
             "outlinewidth": 0,
             "ticks": ""
            },
            "colorscale": [
             [
              0,
              "#0d0887"
             ],
             [
              0.1111111111111111,
              "#46039f"
             ],
             [
              0.2222222222222222,
              "#7201a8"
             ],
             [
              0.3333333333333333,
              "#9c179e"
             ],
             [
              0.4444444444444444,
              "#bd3786"
             ],
             [
              0.5555555555555556,
              "#d8576b"
             ],
             [
              0.6666666666666666,
              "#ed7953"
             ],
             [
              0.7777777777777778,
              "#fb9f3a"
             ],
             [
              0.8888888888888888,
              "#fdca26"
             ],
             [
              1,
              "#f0f921"
             ]
            ],
            "type": "histogram2dcontour"
           }
          ],
          "mesh3d": [
           {
            "colorbar": {
             "outlinewidth": 0,
             "ticks": ""
            },
            "type": "mesh3d"
           }
          ],
          "parcoords": [
           {
            "line": {
             "colorbar": {
              "outlinewidth": 0,
              "ticks": ""
             }
            },
            "type": "parcoords"
           }
          ],
          "pie": [
           {
            "automargin": true,
            "type": "pie"
           }
          ],
          "scatter": [
           {
            "fillpattern": {
             "fillmode": "overlay",
             "size": 10,
             "solidity": 0.2
            },
            "type": "scatter"
           }
          ],
          "scatter3d": [
           {
            "line": {
             "colorbar": {
              "outlinewidth": 0,
              "ticks": ""
             }
            },
            "marker": {
             "colorbar": {
              "outlinewidth": 0,
              "ticks": ""
             }
            },
            "type": "scatter3d"
           }
          ],
          "scattercarpet": [
           {
            "marker": {
             "colorbar": {
              "outlinewidth": 0,
              "ticks": ""
             }
            },
            "type": "scattercarpet"
           }
          ],
          "scattergeo": [
           {
            "marker": {
             "colorbar": {
              "outlinewidth": 0,
              "ticks": ""
             }
            },
            "type": "scattergeo"
           }
          ],
          "scattergl": [
           {
            "marker": {
             "colorbar": {
              "outlinewidth": 0,
              "ticks": ""
             }
            },
            "type": "scattergl"
           }
          ],
          "scattermapbox": [
           {
            "marker": {
             "colorbar": {
              "outlinewidth": 0,
              "ticks": ""
             }
            },
            "type": "scattermapbox"
           }
          ],
          "scatterpolar": [
           {
            "marker": {
             "colorbar": {
              "outlinewidth": 0,
              "ticks": ""
             }
            },
            "type": "scatterpolar"
           }
          ],
          "scatterpolargl": [
           {
            "marker": {
             "colorbar": {
              "outlinewidth": 0,
              "ticks": ""
             }
            },
            "type": "scatterpolargl"
           }
          ],
          "scatterternary": [
           {
            "marker": {
             "colorbar": {
              "outlinewidth": 0,
              "ticks": ""
             }
            },
            "type": "scatterternary"
           }
          ],
          "surface": [
           {
            "colorbar": {
             "outlinewidth": 0,
             "ticks": ""
            },
            "colorscale": [
             [
              0,
              "#0d0887"
             ],
             [
              0.1111111111111111,
              "#46039f"
             ],
             [
              0.2222222222222222,
              "#7201a8"
             ],
             [
              0.3333333333333333,
              "#9c179e"
             ],
             [
              0.4444444444444444,
              "#bd3786"
             ],
             [
              0.5555555555555556,
              "#d8576b"
             ],
             [
              0.6666666666666666,
              "#ed7953"
             ],
             [
              0.7777777777777778,
              "#fb9f3a"
             ],
             [
              0.8888888888888888,
              "#fdca26"
             ],
             [
              1,
              "#f0f921"
             ]
            ],
            "type": "surface"
           }
          ],
          "table": [
           {
            "cells": {
             "fill": {
              "color": "#EBF0F8"
             },
             "line": {
              "color": "white"
             }
            },
            "header": {
             "fill": {
              "color": "#C8D4E3"
             },
             "line": {
              "color": "white"
             }
            },
            "type": "table"
           }
          ]
         },
         "layout": {
          "annotationdefaults": {
           "arrowcolor": "#2a3f5f",
           "arrowhead": 0,
           "arrowwidth": 1
          },
          "autotypenumbers": "strict",
          "coloraxis": {
           "colorbar": {
            "outlinewidth": 0,
            "ticks": ""
           }
          },
          "colorscale": {
           "diverging": [
            [
             0,
             "#8e0152"
            ],
            [
             0.1,
             "#c51b7d"
            ],
            [
             0.2,
             "#de77ae"
            ],
            [
             0.3,
             "#f1b6da"
            ],
            [
             0.4,
             "#fde0ef"
            ],
            [
             0.5,
             "#f7f7f7"
            ],
            [
             0.6,
             "#e6f5d0"
            ],
            [
             0.7,
             "#b8e186"
            ],
            [
             0.8,
             "#7fbc41"
            ],
            [
             0.9,
             "#4d9221"
            ],
            [
             1,
             "#276419"
            ]
           ],
           "sequential": [
            [
             0,
             "#0d0887"
            ],
            [
             0.1111111111111111,
             "#46039f"
            ],
            [
             0.2222222222222222,
             "#7201a8"
            ],
            [
             0.3333333333333333,
             "#9c179e"
            ],
            [
             0.4444444444444444,
             "#bd3786"
            ],
            [
             0.5555555555555556,
             "#d8576b"
            ],
            [
             0.6666666666666666,
             "#ed7953"
            ],
            [
             0.7777777777777778,
             "#fb9f3a"
            ],
            [
             0.8888888888888888,
             "#fdca26"
            ],
            [
             1,
             "#f0f921"
            ]
           ],
           "sequentialminus": [
            [
             0,
             "#0d0887"
            ],
            [
             0.1111111111111111,
             "#46039f"
            ],
            [
             0.2222222222222222,
             "#7201a8"
            ],
            [
             0.3333333333333333,
             "#9c179e"
            ],
            [
             0.4444444444444444,
             "#bd3786"
            ],
            [
             0.5555555555555556,
             "#d8576b"
            ],
            [
             0.6666666666666666,
             "#ed7953"
            ],
            [
             0.7777777777777778,
             "#fb9f3a"
            ],
            [
             0.8888888888888888,
             "#fdca26"
            ],
            [
             1,
             "#f0f921"
            ]
           ]
          },
          "colorway": [
           "#636efa",
           "#EF553B",
           "#00cc96",
           "#ab63fa",
           "#FFA15A",
           "#19d3f3",
           "#FF6692",
           "#B6E880",
           "#FF97FF",
           "#FECB52"
          ],
          "font": {
           "color": "#2a3f5f"
          },
          "geo": {
           "bgcolor": "white",
           "lakecolor": "white",
           "landcolor": "#E5ECF6",
           "showlakes": true,
           "showland": true,
           "subunitcolor": "white"
          },
          "hoverlabel": {
           "align": "left"
          },
          "hovermode": "closest",
          "mapbox": {
           "style": "light"
          },
          "paper_bgcolor": "white",
          "plot_bgcolor": "#E5ECF6",
          "polar": {
           "angularaxis": {
            "gridcolor": "white",
            "linecolor": "white",
            "ticks": ""
           },
           "bgcolor": "#E5ECF6",
           "radialaxis": {
            "gridcolor": "white",
            "linecolor": "white",
            "ticks": ""
           }
          },
          "scene": {
           "xaxis": {
            "backgroundcolor": "#E5ECF6",
            "gridcolor": "white",
            "gridwidth": 2,
            "linecolor": "white",
            "showbackground": true,
            "ticks": "",
            "zerolinecolor": "white"
           },
           "yaxis": {
            "backgroundcolor": "#E5ECF6",
            "gridcolor": "white",
            "gridwidth": 2,
            "linecolor": "white",
            "showbackground": true,
            "ticks": "",
            "zerolinecolor": "white"
           },
           "zaxis": {
            "backgroundcolor": "#E5ECF6",
            "gridcolor": "white",
            "gridwidth": 2,
            "linecolor": "white",
            "showbackground": true,
            "ticks": "",
            "zerolinecolor": "white"
           }
          },
          "shapedefaults": {
           "line": {
            "color": "#2a3f5f"
           }
          },
          "ternary": {
           "aaxis": {
            "gridcolor": "white",
            "linecolor": "white",
            "ticks": ""
           },
           "baxis": {
            "gridcolor": "white",
            "linecolor": "white",
            "ticks": ""
           },
           "bgcolor": "#E5ECF6",
           "caxis": {
            "gridcolor": "white",
            "linecolor": "white",
            "ticks": ""
           }
          },
          "title": {
           "x": 0.05
          },
          "xaxis": {
           "automargin": true,
           "gridcolor": "white",
           "linecolor": "white",
           "ticks": "",
           "title": {
            "standoff": 15
           },
           "zerolinecolor": "white",
           "zerolinewidth": 2
          },
          "yaxis": {
           "automargin": true,
           "gridcolor": "white",
           "linecolor": "white",
           "ticks": "",
           "title": {
            "standoff": 15
           },
           "zerolinecolor": "white",
           "zerolinewidth": 2
          }
         }
        },
        "width": 1000,
        "xaxis": {
         "autorange": true,
         "range": [
          106.10420675294552,
          -7.589266102603303
         ],
         "title": {
          "text": "Mean"
         },
         "type": "linear"
        },
        "yaxis": {
         "autorange": true,
         "range": [
          -10.257829016913318,
          107.51877422480621
         ],
         "title": {
          "text": "SD"
         },
         "type": "linear"
        }
       }
      },
      "image/png": "[encoded data removed]",
      "text/html": [
       "<div>                            <div id=\"e865b1a6-dae5-4007-b5fa-ac0bf50b6547\" class=\"plotly-graph-div\" style=\"height:600px; width:1000px;\"></div>            <script type=\"text/javascript\">                require([\"plotly\"], function(Plotly) {                    window.PLOTLYENV=window.PLOTLYENV || {};                                    if (document.getElementById(\"e865b1a6-dae5-4007-b5fa-ac0bf50b6547\")) {                    Plotly.newPlot(                        \"e865b1a6-dae5-4007-b5fa-ac0bf50b6547\",                        [{\"customdata\":[[\"\\ud55c\\uad6d\\ud22c\\uc790\\ud06c\\ub808\\ub527\\ud3ec\\ucee4\\uc2a4ESG\\uc99d\\uad8c\\uc790\\ud22c\\uc790\\uc2e0\\ud0c1 1(\\ucc44\\uad8c)(C-e)\",0.029,0.131],[\"AB\\uae00\\ub85c\\ubc8c\\uace0\\uc218\\uc775\\uc99d\\uad8c\\ud22c\\uc790\\uc2e0\\ud0c1(\\ucc44\\uad8c-\\uc7ac\\uac04\\uc811\\ud615)\\uc885\\ub958\\ud615Ce\",-0.107,0.214],[\"AB\\uae00\\ub85c\\ubc8c\\uace0\\uc218\\uc775\\uc99d\\uad8c\\ud22c\\uc790\\uc2e0\\ud0c1(\\ucc44\\uad8c-\\uc7ac\\uac04\\uc811\\ud615)\\uc885\\ub958\\ud615Ce-P\",-0.107,0.158],[\"\\ud55c\\uad6d\\ud22c\\uc790\\ud06c\\ub808\\ub527\\ud3ec\\ucee4\\uc2a4ESG\\uc99d\\uad8c\\uc790\\ud22c\\uc790\\uc2e0\\ud0c1 1(\\ucc44\\uad8c)(C-Pe)\",-0.019,0.141],[\"\\uc0bc\\uc131\\ud074\\ub798\\uc2dd\\uc5f0\\uae08\\uc99d\\uad8c\\uc804\\ud658\\ud615\\ud22c\\uc790\\uc2e0\\ud0c1 1[\\ucc44\\uad8c]Ce\",-0.041,0.059],[\"\\uc6b0\\ub9ac\\ud558\\uc774\\ud50c\\ub7ec\\uc2a4\\ucc44\\uad8c\\uc99d\\uad8c\\uc790\\ud22c\\uc790\\uc2e0\\ud0c1 1(\\ucc44\\uad8c)ClassC-P1e\",0.004,0.11],[\"\\ud0a4\\uc6c0\\ub354\\ub4dc\\ub9bc\\ub2e8\\uae30\\ucc44\\uc99d\\uad8c\\ud22c\\uc790\\uc2e0\\ud0c1[\\ucc44\\uad8c]C-Pe\",0.023,0.125],[\"\\uad50\\ubcf4\\uc545\\uc0acTomorrow\\uc7a5\\uae30\\uc6b0\\ub7c9\\uc99d\\uad8c\\ud22c\\uc790\\uc2e0\\ud0c1K-1(\\ucc44\\uad8c)ClassC-P2e\",-0.077,0.135],[\"\\uc720\\uc9c4\\ucc54\\ud53c\\uc5b8\\ub2e8\\uae30\\ucc44\\uc99d\\uad8c\\uc790\\ud22c\\uc790\\uc2e0\\ud0c1(\\ucc44\\uad8c)ClassC-Pe\",0.011,0.112],[\"\\uc720\\uc9c4\\ucc54\\ud53c\\uc5b8\\uc911\\ub2e8\\uae30\\ucc44\\uc99d\\uad8c\\uc790\\ud22c\\uc790\\uc2e0\\ud0c1(\\ucc44\\uad8c)ClassC-Pe\",-0.009,0.133],[\"\\uc6b0\\ub9acPIMCO\\uae00\\ub85c\\ubc8c\\ud22c\\uc790\\ub4f1\\uae09\\uc790\\ud22c\\uc790\\uc2e0\\ud0c1[\\ucc44\\uad8c_\\uc7ac\\uac04\\uc811\\ud615](H)ClassPe2\",-0.267,0.176],[\"\\uc774\\uc2a4\\ud2b8\\uc2a4\\ud504\\ub9c1\\uac1c\\uc778\\uc2e0\\uc885MMF 1[\\uad6d\\uacf5\\ucc44]\\ud074\\ub798\\uc2a4C-P2(\\uc5f0\\uae08\\uc800\\ucd95)E\",-0.005,0.072],[\"NH-Amundi\\uad6d\\ucc4410\\ub144\\uc778\\ub371\\uc2a4\\uc99d\\uad8c\\uc790\\ud22c\\uc790\\uc2e0\\ud0c1[\\ucc44\\uad8c]Class C-P1e(\\uc5f0\\uae08\\uc800\\ucd95)\",-0.182,0.134],[\"\\ud53c\\ub378\\ub9ac\\ud2f0\\ubbf8\\ub2ec\\ub7ec\\ucc44\\uad8c\\uc99d\\uad8c\\uc790\\ud22c\\uc790\\uc2e0\\ud0c1H(\\ucc44\\uad8c-\\uc7ac\\uac04\\uc811\\ud615)\\uc885\\ub958PRS-e\",-0.187,-0.103],[\"\\ud55c\\uad6d\\ubc38\\ub95810\\ub144\\ud22c\\uc790\\uc5f0\\uae08\\uc99d\\uad8c\\uc804\\ud658\\ud615\\uc790\\ud22c\\uc790\\uc2e0\\ud0c1 1(\\ucc44\\uad8c)\\uc885\\ub958C-E\",-0.022,0.084],[\"\\ubbf8\\ub798\\uc5d0\\uc14b\\uac1c\\uc778\\uc804\\uc6a9MMF 1(\\uad6d\\uacf5\\ucc44)\\uc885\\ub958C-Pe\",-0.004,0.076],[\"\\ubbf8\\ub798\\uc5d0\\uc14b\\ub77c\\uc774\\ud504\\uc0ac\\uc774\\ud0747090\\uc5f0\\uae08\\uc99d\\uad8c\\uc804\\ud658\\ud615\\uc790\\ud22c\\uc790\\uc2e0\\ud0c1 1(\\ucc44\\uad8c)\\uc885\\ub958C-e\",-0.118,0.123],[\"\\ud55c\\uad6d\\ud22c\\uc790\\uace8\\ub4dc\\ud50c\\ub79c\\uc5f0\\uae08\\uc99d\\uad8c\\uc804\\ud658\\ud615\\ud22c\\uc790\\uc2e0\\ud0c1 1(\\uad6d\\uacf5\\ucc44)(C-e)\",-0.079,0.094],[\"\\ud558\\ub098\\uc778Best\\uc5f0\\uae08\\uc99d\\uad8c\\uc790\\ud22c\\uc790\\uc2e0\\ud0c1 1[\\ucc44\\uad8c]\",-0.081,0.158],[\"\\ud558\\ub098\\uc778Best\\uc5f0\\uae08\\uc99d\\uad8c\\ud22c\\uc790\\uc2e0\\ud0c1 1[\\uad6d\\uacf5\\ucc44]\",-0.086,0.148],[\"\\ud53c\\ub378\\ub9ac\\ud2f0\\uc5f0\\uae08\\uc544\\uc2dc\\uc544\\ud558\\uc774\\uc77c\\ub4dc\\uc99d\\uad8c\\uc804\\ud658\\ud615\\uc790\\ud22c\\uc790\\uc2e0\\ud0c1(\\ucc44\\uad8c-\\uc7ac\\uac04\\uc811\\ud615)\\uc885\\ub958C-e\",-0.496,0.385],[\"\\ubbf8\\ub798\\uc5d0\\uc14b\\uae00\\ub85c\\ubc8c\\ub2e4\\uc774\\ub098\\ubbf9\\uc5f0\\uae08\\uc99d\\uad8c\\uc804\\ud658\\ud615\\uc790\\ud22c\\uc790\\uc2e0\\ud0c1 1(\\ucc44\\uad8c)\\uc885\\ub958C-e\",-0.11,0.152]],\"hovertemplate\":\"%{customdata[0]}\\u003cbr\\u003e\\uc218\\uc775\\ub960 \\uc21c\\uc704(%): \\ud3c9\\uade0 %{x:.0f}, \\ud3b8\\ucc28 %{y:.0f}\\u003cbr\\u003e\\uc218\\uc775\\ub960 \\uad6c\\uac04: %{customdata[1]} ~ %{customdata[2]}\\u003cextra\\u003e\\u003c\\u002fextra\\u003e\",\"marker\":{\"color\":\"#636EFA\",\"size\":[27.3,7.6499999999999995,5.3999999999999995,20.4,6.0,25.8,26.7,7.5,26.25,21.15,1.65,24.599999999999998,1.95,0.15,15.6,23.4,3.15,4.2,8.25,7.949999999999999,2.1,5.7],\"symbol\":0},\"mode\":\"markers\",\"name\":\"\\ucc44\\uad8c\",\"x\":[63.020833333333336,76.5625,84.89583333333334,69.01041666666666,88.02083333333334,72.13541666666666,66.14583333333334,81.77083333333334,70.05208333333334,72.13541666666666,93.75,79.6875,92.70833333333334,97.91666666666666,80.98958333333334,79.16666666666666,90.10416666666666,88.54166666666666,78.125,80.20833333333334,94.27083333333334,84.11458333333334],\"y\":[8.854166666666668,30.46875,24.479166666666664,13.541666666666666,8.854166666666668,10.416666666666668,8.854166666666668,17.96875,8.854166666666668,12.5,43.48958333333333,3.6458333333333335,29.166666666666668,6.25,11.458333333333332,5.46875,21.354166666666664,14.322916666666666,20.833333333333336,20.3125,77.86458333333334,23.4375],\"type\":\"scatter\"},{\"customdata\":[[\"\\ud55c\\uad6d\\ubc38\\ub95810\\ub144\\ud22c\\uc790\\uc99d\\uad8c\\ud22c\\uc790\\uc2e0\\ud0c1 1(\\ucc44\\uad8c\\ud63c\\ud569)\\uc885\\ub958C-E\",-0.07,0.221],[\"\\ubbf8\\ub798\\uc5d0\\uc14b\\uc804\\ub7b5\\ubc30\\ubd84TDF2035\\ud63c\\ud569\\uc790\\uc0b0\\uc790\\ud22c\\uc790\\uc2e0\\ud0c1 \\uc885\\ub958C-Pe\",-0.029,0.46],[\"\\ubbf8\\ub798\\uc5d0\\uc14b\\uc804\\ub7b5\\ubc30\\ubd84TDF2030\\ud63c\\ud569\\uc790\\uc0b0\\uc790\\ud22c\\uc790\\uc2e0\\ud0c1 \\uc885\\ub958C-Pe\",-0.027,0.353],[\"\\ubbf8\\ub798\\uc5d0\\uc14b\\uc804\\ub7b5\\ubc30\\ubd84TDF2025\\ud63c\\ud569\\uc790\\uc0b0\\uc790\\ud22c\\uc790\\uc2e0\\ud0c1\\uc885\\ub958C-Pe\",-0.038,0.295],[\"\\ubbf8\\ub798\\uc5d0\\uc14b\\uc804\\ub7b5\\ubc30\\ubd84TDF2040\\ud63c\\ud569\\uc790\\uc0b0\\uc790\\ud22c\\uc790\\uc2e0\\ud0c1 \\uc885\\ub958C-Pe\",-0.026,0.489],[\"KB\\uc628\\uad6d\\ubbfcTDF2040\\uc99d\\uad8c\\ud22c\\uc790\\uc2e0\\ud0c1(\\uc8fc\\uc2dd\\ud63c\\ud569-\\uc7ac\\uac04\\uc811\\ud615)C-\\ud1f4\\uc9c1e\",-0.045,0.339],[\"\\uc0bc\\uc131\\ud55c\\uad6d\\ud615TDF2040\\uc99d\\uad8c\\ud22c\\uc790\\uc2e0\\ud0c1H[\\uc8fc\\uc2dd\\ud63c\\ud569-\\uc7ac\\uac04\\uc811\\ud615]C-Pe\",-0.137,0.343],[\"KB\\uc628\\uad6d\\ubbfcTDF2050\\uc99d\\uad8c\\uc790\\ud22c\\uc790\\uc2e0\\ud0c1(\\uc8fc\\uc2dd\\ud63c\\ud569-\\uc7ac\\uac04\\uc811\\ud615)(H)C-\\ud1f4\\uc9c1e\",-0.016,0.447],[\"\\uc0bc\\uc131\\ud55c\\uad6d\\ud615TDF2030\\uc99d\\uad8c\\ud22c\\uc790\\uc2e0\\ud0c1H[\\uc8fc\\uc2dd\\ud63c\\ud569-\\uc7ac\\uac04\\uc811\\ud615]C-Pe\",-0.12,0.285],[\"KB\\uc628\\uad6d\\ubbfcTDF2035\\uc99d\\uad8c\\ud22c\\uc790\\uc2e0\\ud0c1(\\uc8fc\\uc2dd\\ud63c\\ud569-\\uc7ac\\uac04\\uc811\\ud615)C-\\ud1f4\\uc9c1e\",-0.047,0.308],[\"KB\\uc628\\uad6d\\ubbfcTDF2030\\uc99d\\uad8c\\ud22c\\uc790\\uc2e0\\ud0c1(\\uc8fc\\uc2dd\\ud63c\\ud569-\\uc7ac\\uac04\\uc811\\ud615)C-\\ud1f4\\uc9c1e\",-0.054,0.263],[\"KB\\uc628\\uad6d\\ubbfcTDF2045\\uc99d\\uad8c\\ud22c\\uc790\\uc2e0\\ud0c1(\\uc8fc\\uc2dd\\ud63c\\ud569-\\uc7ac\\uac04\\uc811\\ud615)C-\\ud1f4\\uc9c1e\",-0.032,0.395],[\"\\ud55c\\uad6d\\ud22c\\uc790TDF\\uc54c\\uc544\\uc11c2045\\uc99d\\uad8c\\ud22c\\uc790\\uc2e0\\ud0c1(\\uc8fc\\uc2dd\\ud63c\\ud569-\\uc7ac\\uac04\\uc811\\ud615)(C-Re)\",-0.096,0.445],[\"\\ud55c\\uad6d\\ud22c\\uc790TDF\\uc54c\\uc544\\uc11c2035\\uc99d\\uad8c\\ud22c\\uc790\\uc2e0\\ud0c1(\\uc8fc\\uc2dd\\ud63c\\ud569-\\uc7ac\\uac04\\uc811\\ud615)(C-Re)\",-0.092,0.426],[\"\\uc0bc\\uc131\\ud55c\\uad6d\\ud615TDF2045\\uc99d\\uad8c\\ud22c\\uc790\\uc2e0\\ud0c1H[\\uc8fc\\uc2dd\\ud63c\\ud569-\\uc7ac\\uac04\\uc811\\ud615]Cpe(\\ud1f4\\uc9c1\\uc5f0\\uae08)\",-0.153,0.376],[\"\\ud55c\\uad6d\\ud22c\\uc790TDF\\uc54c\\uc544\\uc11c2030\\uc99d\\uad8c\\ud22c\\uc790\\uc2e0\\ud0c1(\\uc8fc\\uc2dd\\ud63c\\ud569-\\uc7ac\\uac04\\uc811\\ud615)(C-Pe)\",-0.097,0.369],[\"\\uc0bc\\uc131\\ud55c\\uad6d\\ud615TDF2035\\uc99d\\uad8c\\ud22c\\uc790\\uc2e0\\ud0c1H[\\uc8fc\\uc2dd\\ud63c\\ud569-\\uc7ac\\uac04\\uc811\\ud615]Cpe(\\ud1f4\\uc9c1\\uc5f0\\uae08)\",-0.13,0.33],[\"\\ud55c\\uad6d\\ud22c\\uc790TDF\\uc54c\\uc544\\uc11c2030\\uc99d\\uad8c\\ud22c\\uc790\\uc2e0\\ud0c1(\\uc8fc\\uc2dd\\ud63c\\ud569-\\uc7ac\\uac04\\uc811\\ud615)(C-Re)\",-0.118,0.359],[\"\\ubbf8\\ub798\\uc5d0\\uc14b\\uc804\\ub7b5\\ubc30\\ubd84TDF2030\\ud63c\\ud569\\uc790\\uc0b0\\uc790\\ud22c\\uc790\\uc2e0\\ud0c1 \\uc885\\ub958C-P2e\",-0.036,0.376],[\"\\uc2e0\\ud55c\\ub9c8\\uc74c\\ud3b8\\ud55cTDF2035\\uc99d\\uad8c\\ud22c\\uc790\\uc2e0\\ud0c1[\\uc8fc\\uc2dd\\ud63c\\ud569-\\uc7ac\\uac04\\uc811\\ud615](\\uc885\\ub958C-re)\",-0.025,0.387],[\"\\uc2e0\\ud55c\\ub9c8\\uc74c\\ud3b8\\ud55cTDF2030\\uc99d\\uad8c\\ud22c\\uc790\\uc2e0\\ud0c1[\\uc8fc\\uc2dd\\ud63c\\ud569-\\uc7ac\\uac04\\uc811\\ud615](\\uc885\\ub958C-re)\",-0.071,0.27],[\"\\uc2e0\\ud55c\\ub9c8\\uc74c\\ud3b8\\ud55cTDF2040\\uc99d\\uad8c\\ud22c\\uc790\\uc2e0\\ud0c1[\\uc8fc\\uc2dd\\ud63c\\ud569-\\uc7ac\\uac04\\uc811\\ud615](\\uc885\\ub958C-re)\",-0.038,0.381],[\"\\ud55c\\uad6d\\ud22c\\uc790TDF\\uc54c\\uc544\\uc11c2040\\uc99d\\uad8c\\ud22c\\uc790\\uc2e0\\ud0c1(\\uc8fc\\uc2dd\\ud63c\\ud569-\\uc7ac\\uac04\\uc811\\ud615)(C-Re)\",-0.107,0.421],[\"\\ubbf8\\ub798\\uc5d0\\uc14b\\uc804\\ub7b5\\ubc30\\ubd84TDF2040\\ud63c\\ud569\\uc790\\uc0b0\\uc790\\ud22c\\uc790\\uc2e0\\ud0c1 \\uc885\\ub958C-P2e\",-0.018,0.524],[\"\\uc0bc\\uc131\\ud55c\\uad6d\\ud615TDF2030\\uc99d\\uad8c\\ud22c\\uc790\\uc2e0\\ud0c1H[\\uc8fc\\uc2dd\\ud63c\\ud569-\\uc7ac\\uac04\\uc811\\ud615]Cpe(\\ud1f4\\uc9c1\\uc5f0\\uae08)\",-0.131,0.292],[\"\\ubbf8\\ub798\\uc5d0\\uc14b\\uc804\\ub7b5\\ubc30\\ubd84TDF2045\\ud63c\\ud569\\uc790\\uc0b0\\uc790\\ud22c\\uc790\\uc2e0\\ud0c1 \\uc885\\ub958C-P2e\",-0.058,0.487],[\"\\uc2e0\\ud55c\\ub9c8\\uc74c\\ud3b8\\ud55cTDF2045\\uc99d\\uad8c\\ud22c\\uc790\\uc2e0\\ud0c1[\\uc8fc\\uc2dd\\ud63c\\ud569-\\uc7ac\\uac04\\uc811\\ud615](\\uc885\\ub958C-re)\",-0.043,0.367],[\"\\ubbf8\\ub798\\uc5d0\\uc14b\\uc804\\ub7b5\\ubc30\\ubd84TDF2035\\ud63c\\ud569\\uc790\\uc0b0\\uc790\\ud22c\\uc790\\uc2e0\\ud0c1\\uc885\\ub958C-P2e\",-0.017,0.446],[\"\\ubbf8\\ub798\\uc5d0\\uc14b\\ud3c9\\uc0dd\\uc18c\\ub4ddTIF\\ud63c\\ud569\\uc790\\uc0b0\\uc790\\ud22c\\uc790\\uc2e0\\ud0c1\\uc885\\ub958C-P2e\",-0.066,0.259],[\"\\ud55c\\ud654LIFEPLUSTDF2030\\uc99d\\uad8c\\uc790\\ud22c\\uc790\\uc2e0\\ud0c1(\\ud63c\\ud569-\\uc7ac\\uac04\\uc811\\ud615)\\uc885\\ub958C-PE(\\uc5f0\\uae08\\uc800\\ucd95)\",-0.078,0.371],[\"\\ud55c\\ud654LIFEPLUSTDF2025\\uc99d\\uad8c\\uc790\\ud22c\\uc790\\uc2e0\\ud0c1(\\ud63c\\ud569-\\uc7ac\\uac04\\uc811\\ud615)\\uc885\\ub958C-PE(\\uc5f0\\uae08\\uc800\\ucd95)\",-0.096,0.328],[\"\\ud55c\\ud654LIFEPLUSTDF2045\\uc99d\\uad8c\\ud22c\\uc790\\uc2e0\\ud0c1(\\ud63c\\ud569-\\uc7ac\\uac04\\uc811\\ud615)C-RPE(\\ud1f4\\uc9c1\\uc5f0\\uae08)\",-0.029,0.445],[\"\\ud55c\\ud654LIFEPLUSTDF2035\\uc99d\\uad8c\\ud22c\\uc790\\uc2e0\\ud0c1(\\ud63c\\ud569-\\uc7ac\\uac04\\uc811\\ud615)C-RPE(\\ud1f4\\uc9c1\\uc5f0\\uae08)\",-0.035,0.421],[\"\\ud55c\\ud654LIFEPLUSTDF2030\\uc99d\\uad8c\\uc790\\ud22c\\uc790\\uc2e0\\ud0c1(\\ud63c\\ud569-\\uc7ac\\uac04\\uc811\\ud615)\\uc885\\ub958C-RPE(\\ud1f4\\uc9c1\\uc5f0\\uae08)\",-0.067,0.373],[\"\\ud55c\\ud654LIFEPLUSTDF2040\\uc99d\\uad8c\\uc790\\ud22c\\uc790\\uc2e0\\ud0c1(\\ud63c\\ud569-\\uc7ac\\uac04\\uc811\\ud615)C-RPe(\\ud1f4\\uc9c1\\uc5f0\\uae08)\",-0.058,0.428],[\"\\ud0a4\\uc6c0\\ud0a4\\uc6cc\\ub4dc\\ub9bcTDF2045\\uc99d\\uad8c\\ud22c\\uc790\\uc2e0\\ud0c1 1[\\ud63c\\ud569-\\uc7ac\\uac04\\uc811\\ud615]C-P2e(\\ud1f4\\uc9c1\\uc5f0\\uae08)\",-0.109,0.393],[\"\\ud0a4\\uc6c0\\ud0a4\\uc6cc\\ub4dc\\ub9bcTDF2030\\uc99d\\uad8c\\ud22c\\uc790\\uc2e0\\ud0c1 1[\\ud63c\\ud569-\\uc7ac\\uac04\\uc811\\ud615]C-P2e(\\ud1f4\\uc9c1\\uc5f0\\uae08)\",-0.107,0.397],[\"\\ud0a4\\uc6c0\\ud0a4\\uc6cc\\ub4dc\\ub9bcTDF2040\\uc99d\\uad8c\\ud22c\\uc790\\uc2e0\\ud0c1 1[\\ud63c\\ud569-\\uc7ac\\uac04\\uc811\\ud615]C-P2e(\\ud1f4\\uc9c1\\uc5f0\\uae08)\",-0.087,0.401],[\"\\ud0a4\\uc6c0\\ud0a4\\uc6cc\\ub4dc\\ub9bcTDF2035\\uc99d\\uad8c\\ud22c\\uc790\\uc2e0\\ud0c1 1[\\ud63c\\ud569-\\uc7ac\\uac04\\uc811\\ud615]C-P2e (\\ud1f4\\uc9c1\\uc5f0\\uae08)\",-0.095,0.395],[\"IBK\\ud50c\\ub808\\uc778\\ubc14\\ub2d0\\ub77cEMP\\uc99d\\uad8c\\ud22c\\uc790\\uc2e0\\ud0c1(\\ud63c\\ud569-\\uc7ac\\uac04\\uc811\\ud615)C-Re\",-0.235,0.275],[\"\\uc0bc\\uc131\\ud55c\\uad6d\\ud615TDF2050\\uc99d\\uad8c\\ud22c\\uc790\\uc2e0\\ud0c1H[\\uc8fc\\uc2dd\\ud63c\\ud569-\\uc7ac\\uac04\\uc811\\ud615]Cpe(\\ud1f4\\uc9c1\\uc5f0\\uae08)\",-0.091,0.206],[\"\\uc2e0\\ud55c\\ub9c8\\uc74c\\ud3b8\\ud55cTDF2050\\uc99d\\uad8c\\ud22c\\uc790\\uc2e0\\ud0c1[\\uc8fc\\uc2dd\\ud63c\\ud569-\\uc7ac\\uac04\\uc811\\ud615](\\uc885\\ub958C-re)\",0.019,0.243],[\"\\ud55c\\uad6d\\ud22c\\uc790TIF\\uc54c\\uc544\\uc11c\\ud3c9\\uc0dd\\uc18c\\ub4dd\\uc99d\\uad8c\\uc790\\ud22c\\uc790\\uc2e0\\ud0c1(\\ucc44\\uad8c\\ud63c\\ud569-\\uc7ac\\uac04\\uc811\\ud615)(C-Re)\",-0.074,0.084],[\"\\ub2e4\\uc62c\\uae00\\ub85c\\ubc8c\\uba40\\ud2f0\\uc5d0\\uc14b\\uc778\\ucef4EMP\\uc99d\\uad8c\\uc790\\ud22c\\uc790\\uc2e0\\ud0c1[\\ud63c\\ud569-\\uc7ac\\uac04\\uc811\\ud615](\\uacf5)\\uc885\\ub958Ce\",-0.189,0.039],[\"\\ud55c\\uad6d\\ud22c\\uc790TDF\\uc54c\\uc544\\uc11c2050\\uc99d\\uad8c\\uc790\\ud22c\\uc790\\uc2e0\\ud0c1H(\\uc8fc\\uc2dd\\ud63c\\ud569-\\uc7ac\\uac04\\uc811\\ud615)(C-Re)\",-0.065,0.192],[\"\\ubbf8\\ub798\\uc5d0\\uc14b\\uc804\\ub7b5\\ubc30\\ubd84TDF2050\\ud63c\\ud569\\uc790\\uc0b0\\uc790\\ud22c\\uc790\\uc2e0\\ud0c1\\uc885\\ub958C-P2e\",0.051,0.15],[\"IBK\\ub85c\\uc6b0\\ucf54\\uc2a4\\ud2b8TDF2035\\uc99d\\uad8c\\uc790\\ud22c\\uc790\\uc2e0\\ud0c1[\\ud63c\\ud569-\\uc7ac\\uac04\\uc811\\ud615]\\uc885\\ub958C-Re\",0.086,0.138],[\"IBK\\ub85c\\uc6b0\\ucf54\\uc2a4\\ud2b8TDF2045\\uc99d\\uad8c\\uc790\\ud22c\\uc790\\uc2e0\\ud0c1[\\ud63c\\ud569-\\uc7ac\\uac04\\uc811\\ud615]\\uc885\\ub958C-Re\",0.149,0.22],[\"IBK\\ub85c\\uc6b0\\ucf54\\uc2a4\\ud2b8TDF2050\\uc99d\\uad8c\\uc790\\ud22c\\uc790\\uc2e0\\ud0c1[\\ud63c\\ud569-\\uc7ac\\uac04\\uc811\\ud615]\\uc885\\ub958C-Re\",0.176,0.25],[\"IBK\\ub85c\\uc6b0\\ucf54\\uc2a4\\ud2b8TDF2055\\uc99d\\uad8c\\uc790\\ud22c\\uc790\\uc2e0\\ud0c1[\\ud63c\\ud569-\\uc7ac\\uac04\\uc811\\ud615]\\uc885\\ub958C-Re\",0.19,0.275],[\"IBK\\ub85c\\uc6b0\\ucf54\\uc2a4\\ud2b8TDF2040\\uc99d\\uad8c\\uc790\\ud22c\\uc790\\uc2e0\\ud0c1[\\ud63c\\ud569-\\uc7ac\\uac04\\uc811\\ud615]\\uc885\\ub958C-Re\",0.121,0.182],[\"IBK\\ub85c\\uc6b0\\ucf54\\uc2a4\\ud2b8TDF2030\\uc99d\\uad8c\\uc790\\ud22c\\uc790\\uc2e0\\ud0c1[\\ud63c\\ud569-\\uc7ac\\uac04\\uc811\\ud615]\\uc885\\ub958C-Re\",0.041,0.087],[\"\\ud558\\ub098PIMCO\\uae00\\ub85c\\ubc8c\\uc778\\ucef4\\ud63c\\ud569\\uc790\\uc0b0\\uc790\\ud22c\\uc790\\uc2e0\\ud0c1(H)[\\uc7ac\\uac04\\uc811\\ud615]ClassC-PE\",-0.109,0.117],[\"\\uc0bc\\uc131\\ud074\\ub798\\uc2dd30\\uc5f0\\uae08\\uc99d\\uad8c\\uc804\\ud658\\ud615\\uc790\\ud22c\\uc790\\uc2e0\\ud0c1 1[\\ucc44\\uad8c\\ud63c\\ud569]_Ce\",-0.045,0.14],[\"\\uc0bc\\uc131\\ud074\\ub798\\uc2dd60\\uc5f0\\uae08\\uc99d\\uad8c\\uc804\\ud658\\ud615\\uc790\\ud22c\\uc790\\uc2e0\\ud0c1 1[\\uc8fc\\uc2dd\\ud63c\\ud569]Ce\",-0.123,0.335],[\"\\ud0a4\\uc6c0\\uae00\\ub85c\\ubc8c\\ud30c\\ub3c4\\ud0c0\\uae30EMP\\uc99d\\uad8c\\ud22c\\uc790\\uc2e0\\ud0c1[\\uc8fc\\uc2dd\\ud63c\\ud569-\\uc7ac\\uac04\\uc811\\ud615]C-Pe\",-0.168,0.364],[\"\\uad50\\ubcf4\\uc545\\uc0ac\\uc0bc\\uc131\\uc804\\uc790\\ud22c\\uac8c\\ub354\\uc99d\\uad8c\\ud22c\\uc790\\uc2e0\\ud0c1[\\ucc44\\uad8c\\ud63c\\ud569]ClassC-Pe(\\uc5f0\\uae08)\",-0.172,0.163],[\"\\uc2e0\\uc601\\uace0\\ubc30\\ub2f930\\uc99d\\uad8c\\ud22c\\uc790\\uc2e0\\ud0c1(\\ucc44\\uad8c\\ud63c\\ud569)C-Pe\",-0.032,0.148],[\"\\uc2e0\\ud55c\\uc0bc\\uc131\\uc804\\uc790\\uc54c\\ud30c\\uc99d\\uad8c\\uc790\\ud22c\\uc790\\uc2e0\\ud0c1 1[\\ucc44\\uad8c\\ud63c\\ud569](\\uc885\\ub958C-pe)\",-0.018,0.092],[\"\\ud55c\\ud654LIFEPLUSTDF2020\\uc99d\\uad8c\\uc790\\ud22c\\uc790\\uc2e0\\ud0c1(\\ud63c\\ud569-\\uc7ac\\uac04\\uc811\\ud615)\\uc885\\ub958C-PE(\\uc5f0\\uae08\\uc800\\ucd95)\",-0.125,0.262],[\"\\ud55c\\ud654LIFEPLUSTDF2045\\uc99d\\uad8c\\ud22c\\uc790\\uc2e0\\ud0c1(\\ud63c\\ud569-\\uc7ac\\uac04\\uc811\\ud615)\\uc885\\ub958C-PE\",-0.018,0.452],[\"\\ud55c\\ud654LIFEPLUSTDF2040\\uc99d\\uad8c\\uc790\\ud22c\\uc790\\uc2e0\\ud0c1(\\ud63c\\ud569-\\uc7ac\\uac04\\uc811\\ud615)\\uc885\\ub958C-PE\",-0.044,0.429],[\"\\ud55c\\ud654\\uadf8\\ub9b0\\ud788\\uc5b4\\ub85c\\uc99d\\uad8c\\uc790\\ud22c\\uc790\\uc2e0\\ud0c1(\\ucc44\\uad8c\\ud63c\\ud569)C-Pe(\\uc5f0\\uae08\\uc800\\ucd95)\",-0.041,0.171],[\"\\uc720\\uc9c4\\ucc54\\ud53c\\uc5b8\\uacf5\\ubaa8\\uc8fc\\uc99d\\uad8c\\ud22c\\uc790\\uc2e0\\ud0c1 1(\\uc8fc\\uc2dd\\ud63c\\ud569) ClassC-P\",0.001,0.101],[\"IBK\\ud50c\\ub808\\uc778\\ubc14\\ub2d0\\ub77cEMP\\uc99d\\uad8c\\ud22c\\uc790\\uc2e0\\ud0c1[\\ud63c\\ud569-\\uc7ac\\uac04\\uc811\\ud615]\\uc885\\ub958C-Pe\",-0.234,0.259],[\"IBK\\uc778\\ucef4\\ubc14\\ub2d0\\ub77cEMP\\uc99d\\uad8c\\uc790\\ud22c\\uc790\\uc2e0\\ud0c1[\\ud63c\\ud569-\\uc7ac\\uac04\\uc811\\ud615]\\uc885\\ub958C-Pe\",-0.063,0.043],[\"\\ud55c\\uad6d\\ubc38\\ub95810\\ub144\\ud22c\\uc790\\uc99d\\uad8c\\ud22c\\uc790\\uc2e0\\ud0c1 1(\\ucc44\\uad8c\\ud63c\\ud569)\\uc885\\ub958C-Pe\",-0.014,0.233],[\"BNK\\uc2a4\\ud329&\\uacf5\\ubaa8\\uc8fc30\\uc99d\\uad8c\\ud22c\\uc790\\uc2e0\\ud0c1 1(\\ucc44\\uad8c\\ud63c\\ud569)ClassC-Pe\",-0.025,0.066],[\"\\ubbf8\\ub798\\uc5d0\\uc14b\\ub77c\\uc774\\ud504\\uc0ac\\uc774\\ud0743040\\uc5f0\\uae08\\uc99d\\uad8c\\uc804\\ud658\\ud615\\uc790\\ud22c\\uc790\\uc2e0\\ud0c1 1(\\uc8fc\\uc2dd\\ud63c\\ud569)\\uc885\\ub958C-e\",-0.135,0.323],[\"\\ubbf8\\ub798\\uc5d0\\uc14b\\ub77c\\uc774\\ud504\\uc0ac\\uc774\\ud0744050\\uc5f0\\uae08\\uc99d\\uad8c\\uc804\\ud658\\ud615\\uc790\\ud22c\\uc790\\uc2e0\\ud0c1 1(\\uc8fc\\uc2dd\\ud63c\\ud569)\\uc885\\ub958C-e\",-0.116,0.268],[\"\\ubbf8\\ub798\\uc5d0\\uc14b\\ub77c\\uc774\\ud504\\uc0ac\\uc774\\ud0745060\\uc5f0\\uae08\\uc99d\\uad8c\\uc804\\ud658\\ud615\\uc790\\ud22c\\uc790\\uc2e0\\ud0c1 1(\\ucc44\\uad8c\\ud63c\\ud569)\\uc885\\ub958C-e\",-0.108,0.164],[\"\\ubbf8\\ub798\\uc5d0\\uc14b\\ub2e8\\uae30\\ucc44\\uc54c\\ud30c\\uc99d\\uad8c\\uc790\\ud22c\\uc790\\uc2e0\\ud0c1(\\ucc44\\uad8c\\ud63c\\ud569)\\uc885\\ub958C-Pe\",0.032,0.079],[\"\\ub2e4\\uc62c\\uae00\\ub85c\\ubc8c\\uba40\\ud2f0\\uc5d0\\uc14b\\uc778\\ucef4EMP\\uc99d\\uad8c\\uc790\\ud22c\\uc790\\uc2e0\\ud0c1[\\ud63c\\ud569-\\uc7ac\\uac04\\uc811\\ud615](\\uacf5)\\uc885\\ub958C-Pe\",-0.172,0.036],[\"\\uc720\\ub9ac\\uae00\\ub85c\\ubc8cTop10\\uc8fc\\uc2dd\\uacfc\\ub2e8\\uae30\\ucc44\\uc99d\\uad8c\\uc790\\ud22c\\uc790\\uc2e0\\ud0c1[\\ucc44\\uad8c\\ud63c\\ud569]_ClassC-P2e\",0.055,0.252],[\"\\ud2b8\\ub7ec\\uc2a4\\ud1a4\\uacf5\\ubaa8\\uc8fc\\uc54c\\ud30c\\uc99d\\uad8c\\ud22c\\uc790\\uc2e0\\ud0c1[\\ucc44\\uad8c\\ud63c\\ud569]Cp-E\\ud074\\ub798\\uc2a4\",-0.011,0.166],[\"\\ud55c\\uad6d\\ud22c\\uc790\\uace8\\ub4dc\\ud50c\\ub79c\\uc5f0\\uae08\\uc99d\\uad8c\\uc804\\ud658\\ud615\\ud22c\\uc790\\uc2e0\\ud0c1 1(\\uc8fc\\uc2dd\\ud63c\\ud569)(C-e)\",-0.096,0.343],[\"\\ud55c\\uad6d\\ud22c\\uc790\\uc0bc\\uc131TOP3\\uc99d\\uad8c\\uc790\\ud22c\\uc790\\uc2e0\\ud0c1 1(\\ucc44\\uad8c\\ud63c\\ud569)(C-Pe)\",-0.099,0.156],[\"\\ubbf8\\ub798\\uc5d0\\uc14b\\ubc30\\ub2f9\\ucee4\\ubc84\\ub4dc\\ucf5c\\uc561\\ud2f0\\ube0c\\uc5f0\\uae08\\uc800\\ucd95\\uc99d\\uad8c\\uc804\\ud658\\ud615\\uc790\\ud22c\\uc790\\uc2e0\\ud0c1 1(\\uc8fc\\uc2dd\\ud63c\\ud569)\\uc885\\ub958C-e\",-0.114,0.333]],\"hovertemplate\":\"%{customdata[0]}\\u003cbr\\u003e\\uc218\\uc775\\ub960 \\uc21c\\uc704(%): \\ud3c9\\uade0 %{x:.0f}, \\ud3b8\\ucc28 %{y:.0f}\\u003cbr\\u003e\\uc218\\uc775\\ub960 \\uad6c\\uac04: %{customdata[1]} ~ %{customdata[2]}\\u003cextra\\u003e\\u003c\\u002fextra\\u003e\",\"marker\":{\"color\":\"#EF553B\",\"size\":[15.299999999999999,22.8,23.849999999999998,20.25,23.55,21.599999999999998,11.7,22.95,10.35,19.5,17.849999999999998,22.05,16.8,15.899999999999999,12.75,14.85,12.15,14.7,23.099999999999998,21.3,17.25,20.849999999999998,16.95,23.7,10.95,22.65,22.5,24.45,16.05,18.15,14.25,23.25,20.55,19.2,21.45,16.349999999999998,16.2,18.45,17.55,4.05,8.85,25.95,4.35,0.8999999999999999,13.2,27.45,28.2,28.5,28.799999999999997,28.65,28.349999999999998,27.9,2.55,13.35,11.25,9.45,2.85,18.3,19.05,9.9,24.0,21.9,18.0,24.9,3.4499999999999997,1.7999999999999998,24.3,10.65,11.1,9.6,6.45,27.599999999999998,0.75,27.075,22.2,15.45,6.675,11.549999999999999],\"symbol\":1},\"mode\":\"markers\",\"name\":\"\\ud63c\\ud569\",\"x\":[62.5,25.260416666666668,34.11458333333333,45.57291666666667,21.875,38.02083333333333,53.125,27.604166666666668,61.979166666666664,47.39583333333333,55.46875,31.25,35.67708333333333,41.40625,48.95833333333333,45.57291666666667,54.6875,44.79166666666667,32.8125,34.89583333333333,53.90625,33.33333333333333,36.45833333333333,19.270833333333336,61.197916666666664,19.791666666666664,32.29166666666667,23.4375,59.375,41.40625,51.041666666666664,26.041666666666668,30.729166666666668,39.32291666666667,29.166666666666668,40.625,42.1875,35.67708333333333,37.23958333333333,84.11458333333334,75.0,46.61458333333333,89.0625,96.09375,69.01041666666666,57.291666666666664,52.34375,30.208333333333332,23.958333333333336,18.75,39.32291666666667,68.22916666666666,90.88541666666666,76.04166666666666,56.770833333333336,59.895833333333336,90.88541666666666,70.83333333333334,78.125,65.625,26.5625,28.645833333333332,67.44791666666666,75.52083333333334,86.45833333333334,91.66666666666666,52.34375,85.67708333333334,58.333333333333336,66.66666666666666,82.29166666666666,73.95833333333334,96.09375,40.10416666666667,64.84375,48.17708333333333,83.07291666666666,56.25],\"y\":[26.041666666666668,53.125,35.9375,30.46875,55.989583333333336,35.15625,51.302083333333336,47.91666666666667,38.54166666666667,33.33333333333333,29.6875,41.66666666666667,59.895833333333336,56.770833333333336,57.8125,49.21875,45.83333333333333,51.302083333333336,38.02083333333333,39.32291666666667,32.55208333333333,40.88541666666667,57.8125,59.114583333333336,40.10416666666667,60.9375,39.32291666666667,49.21875,31.510416666666668,45.05208333333333,42.44791666666667,49.21875,44.27083333333333,42.44791666666667,50.520833333333336,55.208333333333336,54.6875,52.34375,53.90625,55.989583333333336,27.083333333333332,19.010416666666664,13.020833333333334,19.010416666666664,22.395833333333336,7.291666666666667,1.3020833333333335,2.604166666666667,3.6458333333333335,5.46875,2.083333333333333,0.5208333333333333,19.791666666666664,15.625,46.875,57.8125,31.510416666666668,15.104166666666666,11.458333333333332,36.71875,46.875,49.21875,16.666666666666664,8.854166666666668,53.90625,11.458333333333332,21.875,6.770833333333333,46.875,35.15625,25.520833333333332,1.3020833333333335,17.96875,16.145833333333336,14.322916666666666,43.48958333333333,23.4375,45.05208333333333],\"type\":\"scatter\"},{\"customdata\":[[\"\\uc0bc\\uc131\\ud074\\ub798\\uc2dd\\uc544\\uc138\\uc548\\uc5f0\\uae08\\uc99d\\uad8c\\uc804\\ud658\\ud615\\uc790\\ud22c\\uc790\\uc2e0\\ud0c1 1[\\uc8fc\\uc2dd]_Ce\",-0.167,0.393],[\"\\uad50\\ubcf4\\uc545\\uc0ac\\ud30c\\uc6cc\\uc778\\ub371\\uc2a4\\uc99d\\uad8c\\uc790\\ud22c\\uc790\\uc2e0\\ud0c11\\ud638(\\uc8fc\\uc2dd)C-Pe\",-0.27,0.626],[\"kcgi\\ucf54\\ub9ac\\uc544\\ud1f4\\uc9c1\\uc5f0\\uae08\\uc99d\\uad8c\\uc790\\ud22c\\uc790\\uc2e0\\ud0c1(\\uc8fc\\uc2dd)\\uc885\\ub958C-Pe2\",-0.178,0.651],[\"kb\\ud1f4\\uc9c1\\uc5f0\\uae08\\ubc30\\ub2f9\\uc99d\\uad8c\\uc790\\ud22c\\uc790\\uc2e0\\ud0c1(\\uc8fc\\uc2dd)C-E\",-0.313,0.44],[\"\\ud53c\\ub378\\ub9ac\\ud2f0\\uc544\\uc2dc\\uc544\\uc99d\\uad8c\\uc790\\ud22c\\uc790\\uc2e0\\ud0c1(\\uc8fc\\uc2dd)CP-e\",-0.372,0.793],[\"\\ub9c8\\uc774\\ub2e4\\uc2a4\\uc544\\uc2dc\\uc544\\ub9ac\\ub354\\uc2a4\\uc131\\uc7a5\\uc8fc\\uc5f0\\uae08\\uc99d\\uad8c\\uc790\\ud22c\\uc790\\uc2e0\\ud0c1(UH)(\\uc8fc\\uc2dd)C-Pe2\",-0.424,1.103],[\"IBK\\ubca0\\ud2b8\\ub0a8\\ud50c\\ub7ec\\uc2a4\\uc544\\uc2dc\\uc544\\uc99d\\uad8c\\ud22c\\uc790\\uc2e0\\ud0c1[\\uc8fc\\uc2dd]\\uc885\\ub958C-Re\",-0.041,0.813],[\"\\ub300\\uc2e0KOSPI200\\uc778\\ub371\\uc2a4\\uc99d\\uad8c\\uc790\\ud22c\\uc790\\uc2e0\\ud0c1(\\uc8fc\\uc2dd-\\ud30c\\uc0dd\\ud615)CPe\",-0.218,0.762],[\"\\uc5d0\\uc14b\\ud50c\\ub7ec\\uc2a4\\uc288\\ud37c\\uc544\\uc2dc\\uc544\\ub9ac\\uce58\\ud22c\\uac8c\\ub354\\uc99d\\uad8c\\uc790\\ud22c\\uc790\\uc2e0\\ud0c1 1(\\uc8fc\\uc2dd)\\uc885\\ub958C-P2e\",0.053,0.392],[\"\\ud55c\\uad6d\\ud22c\\uc790\\uc6f0\\ub9c1\\ud134\\uae00\\ub85c\\ubc8c\\ud004\\ub9ac\\ud2f0\\uc99d\\uad8c\\uc790\\ud22c\\uc790\\uc2e0\\ud0c1H(\\uc8fc\\uc2dd)(C-Pe)\",-0.063,0.664],[\"\\ud55c\\uad6d\\ud22c\\uc790\\uae00\\ub85c\\ubc8c\\uc804\\uae30\\ucc28&\\ubc30\\ud130\\ub9ac\\uc99d\\uad8c\\ud22c\\uc790\\uc2e0\\ud0c1(\\uc8fc\\uc2dd)(C-Pe)\",-0.508,1.338],[\"\\ud55c\\uad6d\\ud22c\\uc790\\uc6d4\\uc2a4\\ud2b8\\ub9ac\\ud2b8\\ud22c\\uc790\\uc740\\ud589\\uc99d\\uad8c\\ud22c\\uc790\\uc2e0\\ud0c1 1(\\uc8fc\\uc2dd)(C-Pe)\",-0.146,0.438],[\"\\ud55c\\uad6d\\ud22c\\uc790\\ubbf8\\uad6d\\ubc30\\ub2f9\\uadc0\\uc871\\uc99d\\uad8c\\uc790\\ud22c\\uc790\\uc2e0\\ud0c1H(\\uc8fc\\uc2dd)(C-Pe)\",-0.059,0.35],[\"\\ud55c\\uad6d\\ud22c\\uc790\\ubbf8\\uad6d\\ubc30\\ub2f9\\uadc0\\uc871\\uc99d\\uad8c\\uc790\\ud22c\\uc790\\uc2e0\\ud0c1UH(\\uc8fc\\uc2dd)(C-Pe)\",0.268,0.556],[\"\\ud558\\ub098\\uae00\\ub85c\\ubc8c\\uc778\\ud504\\ub77c\\uc99d\\uad8c\\uc790\\ud22c\\uc790\\uc2e0\\ud0c1[\\uc8fc\\uc2dd]ClassC-PE\",-0.059,0.308],[\"\\ud558\\ub098\\uae00\\ub85c\\ubc8c4\\ucc28\\uc0b0\\uc5c51\\ub4f1\\uc8fc\\ud50c\\ub7ec\\uc2a4\\uc99d\\uad8c\\uc790\\ud22c\\uc790\\uc2e0\\ud0c1[\\uc8fc\\uc2dd]ClassC-PE\",-0.185,1.034],[\"\\ud558\\ub098\\uc911\\uad6d1\\ub4f1\\uc8fc\\ud50c\\ub7ec\\uc2a4\\uc99d\\uad8c\\uc790\\ud22c\\uc790\\uc2e0\\ud0c1[\\uc8fc\\uc2dd]ClassC-PE\",-0.873,0.988],[\"\\ud558\\ub098IT\\ucf54\\ub9ac\\uc544\\uc99d\\uad8c\\uc790\\ud22c\\uc790\\uc2e0\\ud0c1 1[\\uc8fc\\uc2dd]ClassC-PE\",-0.404,1.077],[\"\\uc0bc\\uc131\\ud074\\ub798\\uc2dd\\uc911\\uad6d\\ubcf8\\ud1a0\\uc911\\uc18c\\ud615FOCUS\\uc5f0\\uae08\\uc99d\\uad8c\\uc790\\ud22c\\uc790\\uc2e0\\ud0c1H[\\uc8fc\\uc2dd]_Ce\",-0.616,0.518],[\"\\uc0bc\\uc131\\ud074\\ub798\\uc2dd\\uc5f0\\uae08\\uc99d\\uad8c\\uc804\\ud658\\ud615\\uc790\\ud22c\\uc790\\uc2e0\\ud0c1 1[\\uc8fc\\uc2dd]_Ce\",-0.293,0.546],[\"\\uc0bc\\uc131\\ud074\\ub798\\uc2dd\\uc778\\ub371\\uc2a4\\uc5f0\\uae08\\uc99d\\uad8c\\uc804\\ud658\\ud615\\ud22c\\uc790\\uc2e0\\ud0c1 1[\\uc8fc\\uc2dd]_Ce\",-0.254,0.516],[\"\\uc0bc\\uc131\\ud53d\\ud14c\\ub85c\\ubcf4\\ud2f1\\uc2a4\\uc99d\\uad8c\\uc790\\ud22c\\uc790\\uc2e0\\ud0c1H[\\uc8fc\\uc2dd-\\uc7ac\\uac04\\uc811\\ud615]C-Pe\",-0.224,0.92],[\"\\uc0bc\\uc131\\ud53d\\ud14c\\ub85c\\ubcf4\\ud2f1\\uc2a4\\uc99d\\uad8c\\uc790\\ud22c\\uc790\\uc2e0\\ud0c1UH[\\uc8fc\\uc2dd-\\uc7ac\\uac04\\uc811\\ud615]_C-Pe\",0.064,1.088],[\"\\uc0bc\\uc131\\uae00\\ub85c\\ubc8c\\ud074\\ub9b0\\uc5d0\\ub108\\uc9c0\\uc99d\\uad8c\\uc790\\ud22c\\uc790\\uc2e0\\ud0c1 1[\\uc8fc\\uc2dd-\\uc7ac\\uac04\\uc811\\ud615]C-Pe\",-0.103,0.154],[\"\\uc0bc\\uc131\\uae00\\ub85c\\ubc8c\\uba54\\ud0c0\\ubc84\\uc2a4\\uc99d\\uad8c\\uc790\\ud22c\\uc790\\uc2e0\\ud0c1H[\\uc8fc\\uc2dd]_C-Pe\",-0.306,0.46],[\"\\uc0bc\\uc131\\uae00\\ub85c\\ubc8c\\uba54\\ud0c0\\ubc84\\uc2a4\\uc99d\\uad8c\\uc790\\ud22c\\uc790\\uc2e0\\ud0c1UH[\\uc8fc\\uc2dd]_C-Pe\",-0.178,0.822],[\"\\uc0bc\\uc131\\uae00\\ub85c\\ubc8c\\ubc18\\ub3c4\\uccb4\\uc99d\\uad8c\\uc790\\ud22c\\uc790\\uc2e0\\ud0c1H[\\uc8fc\\uc2dd]_C-Pe\",-0.077,0.759],[\"\\uc0bc\\uc131\\uae00\\ub85c\\ubc8c\\ubc18\\ub3c4\\uccb4\\uc99d\\uad8c\\uc790\\ud22c\\uc790\\uc2e0\\ud0c1UH[\\uc8fc\\uc2dd]_C-Pe\",0.165,1.008],[\"\\uc6b0\\ub9ac\\uc911\\uc18c\\ud615\\uace0\\ubc30\\ub2f9\\uc99d\\uad8c\\uc790\\ud22c\\uc790\\uc2e0\\ud0c1 1(\\uc8fc\\uc2dd)ClassC-P1e\",-0.312,1.053],[\"\\ud0a4\\uc6c0\\ucc28\\uc138\\ub300\\ubaa8\\ube4c\\ub9ac\\ud2f0\\uc99d\\uad8c\\uc790\\ud22c\\uc790\\uc2e0\\ud0c1 1[\\uc8fc\\uc2dd]C-Pe\",-0.278,0.808],[\"\\ud0a4\\uc6c0\\uc62c\\ubc14\\ub978ESG\\uc99d\\uad8c\\ud22c\\uc790\\uc2e0\\ud0c1 1[\\uc8fc\\uc2dd] Class C-Pe\",-0.225,0.371],[\"\\uad50\\ubcf4\\uc545\\uc0ac\\ud30c\\uc6cc\\uc778\\ub371\\uc2a4\\uc99d\\uad8c\\ud22c\\uc790\\uc2e0\\ud0c1 1(\\uc8fc\\uc2dd-\\ud30c\\uc0dd\\ud615)ClassC-P2e\",-0.242,0.628],[\"\\uad50\\ubcf4\\uc545\\uc0ac\\ub85c\\ubcf4\\ud14c\\ud06c\\uc99d\\uad8c\\uc790\\ud22c\\uc790\\uc2e0\\ud0c1 1(H)[\\uc8fc\\uc2dd]ClassC-Pe\",-0.324,0.88],[\"\\uc2e0\\uc601\\ubc38\\ub958\\uace0\\ubc30\\ub2f9\\uc99d\\uad8c\\uc790\\ud22c\\uc790\\uc2e0\\ud0c1(\\uc8fc\\uc2dd)C-Pe\\ud615\",-0.227,0.484],[\"\\uc2e0\\ud55c\\uc911\\uc18c\\ud615\\uc8fc\\uc54c\\ud30c\\uc99d\\uad8c\\uc790\\ud22c\\uc790\\uc2e0\\ud0c1[\\uc8fc\\uc2dd](\\uc885\\ub958C-pe)\",-0.445,0.856],[\"KB\\uc2a4\\ud0c0\\ucf54\\uc2a4\\ub2e5150\\uc778\\ub371\\uc2a4\\uc99d\\uad8c\\uc790\\ud22c\\uc790\\uc2e0\\ud0c1(\\uc8fc\\uc2dd-\\ud30c\\uc0dd\\ud615)C-Pe\\ud074\\ub798\\uc2a4\",-0.234,0.349],[\"KB\\uc2a4\\ud0c0\\ubbf8\\uad6d\\ub098\\uc2a4\\ub2e5100\\uc778\\ub371\\uc2a4\\uc99d\\uad8c\\uc790\\ud22c\\uc790\\uc2e0\\ud0c1(\\uc8fc\\uc2dd-\\ud30c\\uc0dd\\ud615)(H)C-Pe\",-0.077,1.161],[\"KB\\ud1b5\\uc911\\uad6d4\\ucc28\\uc0b0\\uc5c5\\uc99d\\uad8c\\uc790\\ud22c\\uc790\\uc2e0\\ud0c1(\\uc8fc\\uc2dd)C-Pe\",-1.107,0.869],[\"KB\\uc2a4\\ud0c0\\ubca0\\ud2b8\\ub0a8VN30\\uc778\\ub371\\uc2a4\\uc99d\\uad8c\\uc790\\ud22c\\uc790\\uc2e0\\ud0c1(\\uc8fc\\uc2dd-\\ud30c\\uc0dd\\ud615)C-Pe\",-0.486,0.552],[\"KB\\uae00\\ub85c\\ubc8c\\ud074\\ub9b0\\uc5d0\\ub108\\uc9c0\\uc218\\uc18c\\uacbd\\uc81c\\uc99d\\uad8c\\uc790\\ud22c\\uc790\\uc2e0\\ud0c1(\\uc8fc\\uc2dd)C-Pe\",-0.704,-0.058],[\"\\uc288\\ub85c\\ub354\\uae00\\ub85c\\ubc8c\\uc9c0\\uc18d\\uac00\\ub2a5\\uc131\\uc7a5\\uc8fc\\uc99d\\uad8c\\ud22c\\uc790\\uc2e0\\ud0c1(\\uc8fc\\uc2dd-\\uc7ac\\uac04\\uc811\\ud615)\\uc885\\ub958C-Pe\",-0.044,0.224],[\"NH-Amundi\\uae00\\ub85c\\ubc8c\\ud601\\uc2e0\\uae30\\uc5c5\\uc99d\\uad8c\\uc790\\ud22c\\uc790\\uc2e0\\ud0c1(H)[\\uc8fc\\uc2dd]ClassC-P1e(\\uc5f0\\uae08\\uc800\\ucd95)\",-0.59,0.739],[\"NH-Amundi\\uae00\\ub85c\\ubc8c\\ud601\\uc2e0\\uae30\\uc5c5\\uc99d\\uad8c\\uc790\\ud22c\\uc790\\uc2e0\\ud0c1(UH)[\\uc8fc\\uc2dd]ClassC-P1e\",-0.205,0.215],[\"NH-Amundi\\ud544\\uc2b9\\ucf54\\ub9ac\\uc544\\uc99d\\uad8c\\ud22c\\uc790\\uc2e0\\ud0c1[\\uc8fc\\uc2dd]ClassC-P1e(\\uc5f0\\uae08\\uc800\\ucd95)\",-0.242,0.896],[\"\\ud53c\\ub378\\ub9ac\\ud2f0\\uae00\\ub85c\\ubc8c\\uae08\\uc735\\uc8fc\\uc99d\\uad8c\\uc790\\ud22c\\uc790\\uc2e0\\ud0c1(\\uc8fc\\uc2dd-\\uc7ac\\uac04\\uc811\\ud615)PRS-e\",-0.086,0.477],[\"\\ud53c\\ub378\\ub9ac\\ud2f0\\uae00\\ub85c\\ubc8c\\ud14c\\ud06c\\ub180\\ub85c\\uc9c0\\uc99d\\uad8c\\uc790\\ud22c\\uc790\\uc2e0\\ud0c1(\\uc8fc\\uc2dd-\\uc7ac\\uac04\\uc811\\ud615)\\uc885\\ub958PRS-e\",0.088,1.22],[\"\\ud53c\\ub378\\ub9ac\\ud2f0\\uc778\\ub514\\uc544\\uc99d\\uad8c\\uc790\\ud22c\\uc790\\uc2e0\\ud0c1(\\uc8fc\\uc2dd-\\uc7ac\\uac04\\uc811\\ud615)\\uc885\\ub958PRS-e\",-0.019,0.915],[\"\\ud55c\\uad6d\\ubc38\\ub95810\\ub144\\ud22c\\uc790\\uc5f0\\uae08\\uc99d\\uad8c\\uc804\\ud658\\ud615\\ud22c\\uc790\\uc2e0\\ud0c1 1(\\uc8fc\\uc2dd)C-E\",-0.339,0.446],[\"\\ubbf8\\ub798\\uc5d0\\uc14b\\ucc28\\uc774\\ub098H\\uc778\\ub371\\uc2a4\\uc99d\\uad8c\\uc790\\ud22c\\uc790\\uc2e0\\ud0c1 1(\\uc8fc\\uc2dd)\\uc885\\ub958C-Pe\",-0.643,0.276],[\"\\ubbf8\\ub798\\uc5d0\\uc14b\\uc5f0\\uae08\\ud55c\\uad6d\\ud5ec\\uc2a4\\ucf00\\uc5b4\\uc99d\\uad8c\\uc790\\ud22c\\uc790\\uc2e0\\ud0c1 1(\\uc8fc\\uc2dd)\\uc885\\ub958C-Pe\",-0.376,0.591],[\"\\ubbf8\\ub798\\uc5d0\\uc14b\\ubbf8\\uad6d\\ube14\\ub8e8\\uce69\\uc778\\ub371\\uc2a4\\uc99d\\uad8c\\ud22c\\uc790\\uc2e0\\ud0c1 1(\\uc8fc\\uc2dd)\\uc885\\ub958C-Pe\",0.013,0.563],[\"\\ubbf8\\ub798\\uc5d0\\uc14b\\uc778\\ub3c4\\uc911\\uc18c\\ud615\\ud3ec\\ucee4\\uc2a4\\uc99d\\uad8c\\uc790\\ud22c\\uc790\\uc2e0\\ud0c1 1(\\uc8fc\\uc2dd)\\uc885\\ub958C-Pe\",-0.129,1.466],[\"\\ubbf8\\ub798\\uc5d0\\uc14b\\ub77c\\uc774\\ud504\\uc0ac\\uc774\\ud0742030\\uc5f0\\uae08\\uc99d\\uad8c\\uc804\\ud658\\ud615\\uc790\\ud22c\\uc790\\uc2e0\\ud0c1 1(\\uc8fc\\uc2dd)\\uc885\\ub958C-e\",-0.205,0.459],[\"\\ubbf8\\ub798\\uc5d0\\uc14b\\uae00\\ub85c\\ubc8c\\ucf54\\uc5b4\\ud14c\\ud06cEMP\\uc99d\\uad8c\\uc790\\ud22c\\uc790\\uc2e0\\ud0c1(\\uc8fc\\uc2dd-\\uc7ac\\uac04\\uc811\\ud615)\\uc885\\ub958C-Pe\",-0.43,0.869],[\"\\ubbf8\\ub798\\uc5d0\\uc14b\\uce5c\\ub514\\uc544\\ucee8\\uc288\\uba38\\uc99d\\uad8c\\ud22c\\uc790\\uc2e0\\ud0c1 1(\\uc8fc\\uc2dd)\\uc885\\ub958C-Pe\",-0.477,0.006],[\"\\ubbf8\\ub798\\uc5d0\\uc14b\\ucf54\\uc5b4\\ud14c\\ud06c\\uc99d\\uad8c\\uc790\\ud22c\\uc790\\uc2e0\\ud0c1(\\uc8fc\\uc2dd)\\uc885\\ub958C-Pe\",-0.471,0.727],[\"\\ub9c8\\uc774\\ub2e4\\uc2a4\\ucc45\\uc784\\ud22c\\uc790\\uc99d\\uad8c\\ud22c\\uc790\\uc2e0\\ud0c1(\\uc8fc\\uc2dd)C-Pe1\",-0.268,1.02],[\"\\ub9c8\\uc774\\ub2e4\\uc2a4\\uc544\\uc2dc\\uc544\\ub9ac\\ub354\\uc2a4\\uc131\\uc7a5\\uc8fc\\uc99d\\uad8c\\uc790\\ud22c\\uc790\\uc2e0\\ud0c1(H)(\\uc8fc\\uc2dd)C-Pe1\",-0.229,0.131],[\"\\ub9c8\\uc774\\ub2e4\\uc2a4\\uc544\\uc2dc\\uc544\\ub9ac\\ub354\\uc2a4\\uc131\\uc7a5\\uc8fc\\uc99d\\uad8c\\uc790\\ud22c\\uc790\\uc2e0\\ud0c1(UH)(\\uc8fc\\uc2dd)C-Pe1\",-0.265,0.125],[\"\\ub2e4\\uc62c\\uc911\\uad6d1\\ub4f1\\uc8fc\\uc99d\\uad8c\\uc790\\ud22c\\uc790\\uc2e0\\ud0c1[\\uc8fc\\uc2dd]\\uc885\\ub958C-Pe\",-0.735,0.92],[\"\\ub2e4\\uc62c\\uae00\\ub85c\\ubc8c\\ube45\\ud14c\\ud06c1\\ub4f1\\uc8fc\\uc99d\\uad8c\\ud22c\\uc790\\uc2e0\\ud0c1[\\uc8fc\\uc2dd]\\uc885\\ub958C-Pe\",-0.17,0.825],[\"\\uc720\\ub9ac\\ubca0\\ud2b8\\ub0a8\\uc54c\\ud30c\\uc5f0\\uae08\\uc800\\ucd95\\uc99d\\uad8c\\uc790\\ud22c\\uc790\\uc2e0\\ud0c1[\\uc8fc\\uc2dd]_C\\u002fC-e\",-0.28,0.775],[\"\\uc720\\ub9ac\\ud544\\ub77c\\ub378\\ud53c\\uc544\\ubc18\\ub3c4\\uccb4\\uc778\\ub371\\uc2a4\\uc99d\\uad8c\\uc790\\ud22c\\uc790\\uc2e0\\ud0c1H[\\uc8fc\\uc2dd]ClassC-P2e\",0.159,0.758],[\"\\uc720\\ub9ac\\ud544\\ub77c\\ub378\\ud53c\\uc544\\ubc18\\ub3c4\\uccb4\\uc778\\ub371\\uc2a4\\uc99d\\uad8c\\uc790\\ud22c\\uc790\\uc2e0\\ud0c1UH[\\uc8fc\\uc2dd]_ClassC-P2e\",0.454,1.017],[\"\\uc720\\ub9ac\\uae00\\ub85c\\ubc8c\\uac70\\ub798\\uc18c\\uc99d\\uad8c\\uc790\\ud22c\\uc790\\uc2e0\\ud0c1 1[\\uc8fc\\uc2dd]_C\\u002fC-P2e\",-0.098,0.203],[\"\\ud2b8\\ub7ec\\uc2a4\\ud1a4ESG\\uc9c0\\ubc30\\uad6c\\uc870\\ub808\\ubca8\\uc5c5\\uc99d\\uad8c\\uc790\\ud22c\\uc790\\uc2e0\\ud0c1[\\uc8fc\\uc2dd]Cp-E\\ud074\\ub798\\uc2a4\",-0.119,0.185],[\"iM\\uc5d0\\uc14b\\uc6d4\\ub4dc\\uad11\\uc5c5\\uc8fc\\uc99d\\uad8c\\uc790\\ud22c\\uc790\\uc2e0\\ud0c1(\\uc8fc\\uc2dd-\\uc7ac\\uac04\\uc811\\ud615)(H)(C-Pe)\",-0.275,0.97],[\"iM\\uc5d0\\uc14b\\uc6d4\\ub4dc\\uc5d0\\ub108\\uc9c0\\uc99d\\uad8c\\uc790\\ud22c\\uc790\\uc2e0\\ud0c1(\\uc8fc\\uc2dd-\\uc7ac\\uac04\\uc811\\ud615)(H)(C-Pe)\",-0.721,1.473],[\"AB\\ubbf8\\uad6d\\uadf8\\ub85c\\uc2a4\\uc99d\\uad8c\\ud22c\\uc790\\uc2e0\\ud0c1(\\uc8fc\\uc2dd-\\uc7ac\\uac04\\uc811\\ud615)\\uc885\\ub958\\ud615Ce-P\",-0.13,1.005],[\"\\ud55c\\uad6d\\ud22c\\uc790\\uace8\\ub4dc\\ud50c\\ub79c\\uae00\\ub85c\\ubc8c\\uc774\\uba38\\uc9d5\\uc5f0\\uae08\\uc99d\\uad8c\\uc804\\ud658\\ud615\\uc790\\ud22c\\uc790\\uc2e0\\ud0c1 1(\\uc8fc\\uc2dd)(C-e)\",-0.261,0.283],[\"\\ud55c\\uad6d\\ud22c\\uc790\\uace8\\ub4dc\\ud50c\\ub79c\\ub124\\ube44\\uac8c\\uc774\\ud130\\uc5f0\\uae08\\uc99d\\uad8c\\uc804\\ud658\\ud615\\ud22c\\uc790\\uc2e0\\ud0c1 1(\\uc8fc\\uc2dd)(C-e)\",-0.289,0.427],[\"\\ud55c\\uad6d\\ud22c\\uc790\\uace8\\ub4dc\\ud50c\\ub79c\\ube0c\\ub9ad\\uc2a4\\uc5f0\\uae08\\uc99d\\uad8c\\uc804\\ud658\\ud615\\uc790\\ud22c\\uc790\\uc2e0\\ud0c1 1(\\uc8fc\\uc2dd)(C-e)\",-0.409,0.164],[\"\\ud55c\\uad6d\\ud22c\\uc790\\uace8\\ub4dc\\ud50c\\ub79c\\uc5f0\\uae08\\uc99d\\uad8c\\uc804\\ud658\\ud615\\ud22c\\uc790\\uc2e0\\ud0c1 1(\\uc8fc\\uc2dd)(C-e)\",-0.131,0.525],[\"\\ud558\\ub098\\uc778Best\\uc5f0\\uae08\\uc99d\\uad8c\\ud22c\\uc790\\uc2e0\\ud0c1 1[\\uc8fc\\uc2dd]\",-0.458,0.55],[\"\\ud558\\ub098\\uc778Best\\uc5f0\\uae08China\\uc99d\\uad8c\\uc790\\ud22c\\uc790\\uc2e0\\ud0c1[\\uc8fc\\uc2dd]\",-0.666,0.812],[\"\\uc0bc\\uc131\\ud074\\ub798\\uc2dd\\ucc28\\uc774\\ub098\\ubcf8\\ud1a0\\uc5f0\\uae08\\uc99d\\uad8c\\uc790\\ud22c\\uc790\\uc2e0\\ud0c1H[\\uc8fc\\uc2dd]_Ce\",-0.485,0.438],[\"\\ud55c\\ud654\\uc5f0\\uae08\\uc800\\ucd95\\uae00\\ub85c\\ubc8c\\ud5ec\\uc2a4\\ucf00\\uc5b4\\uc99d\\uad8c\\uc790\\ud22c\\uc790\\uc2e0\\ud0c1(\\uc8fc\\uc2dd)C-e\",-0.172,0.523],[\"\\uc288\\ub85c\\ub354\\uc720\\ub85c\\uc5f0\\uae08\\uc99d\\uad8c\\uc790\\ud22c\\uc790\\uc2e0\\ud0c1(\\uc8fc\\uc2dd-\\uc7ac\\uac04\\uc811\\ud615)\\uc885\\ub958C-e\",-0.123,0.409],[\"\\ud53c\\ub378\\ub9ac\\ud2f0\\uc5f0\\uae08\\uc544\\uc2dc\\uc544\\uc99d\\uad8c\\uc804\\ud658\\ud615\\uc790\\ud22c\\uc790\\uc2e0\\ud0c1(\\uc8fc\\uc2dd)\\uc885\\ub958C-e\",-0.185,0.79],[\"\\ud53c\\ub378\\ub9ac\\ud2f0\\uc5f0\\uae08\\ubbf8\\uad6d\\uc99d\\uad8c\\uc804\\ud658\\ud615\\uc790\\ud22c\\uc790\\uc2e0\\ud0c1(\\uc8fc\\uc2dd-\\uc7ac\\uac04\\uc811\\ud615)\\uc885\\ub958C-e\",-0.049,0.612],[\"\\ud53c\\ub378\\ub9ac\\ud2f0\\uc720\\ub7fd\\uc99d\\uad8c\\uc790\\ud22c\\uc790\\uc2e0\\ud0c1(\\uc8fc\\uc2dd-\\uc7ac\\uac04\\uc811\\ud615)PRS-e\",-0.075,0.608],[\"\\ud53c\\ub378\\ub9ac\\ud2f0\\ucc28\\uc774\\ub098\\ucee8\\uc288\\uba38\\uc99d\\uad8c\\uc790\\ud22c\\uc790\\uc2e0\\ud0c1(\\uc8fc\\uc2dd-\\uc7ac\\uac04\\uc811\\ud615)\\uc885\\ub958PRS-e\",-0.611,0.649],[\"\\ud53c\\ub378\\ub9ac\\ud2f0\\uae00\\ub85c\\ubc8c\\ubc30\\ub2f9\\uc778\\ucef4\\uc99d\\uad8c\\uc790\\ud22c\\uc790\\uc2e0\\ud0c1(\\uc8fc\\uc2dd-\\uc7ac\\uac04\\uc811\\ud615)\\uc885\\ub958PRS-e\",0.074,0.373],[\"\\ubbf8\\ub798\\uc5d0\\uc14b\\uace0\\ubc30\\ub2f9\\ud3ec\\ucee4\\uc2a4\\uc5f0\\uae08\\uc800\\ucd95\\uc99d\\uad8c\\uc804\\ud658\\ud615\\uc790\\ud22c\\uc790\\uc2e0\\ud0c1 1(\\uc8fc\\uc2dd)\\uc885\\ub958C-e\",-0.194,0.59],[\"\\ubbf8\\ub798\\uc5d0\\uc14b\\ucf54\\uc5b4\\ubc38\\ub958\\uc5f0\\uae08\\uc800\\ucd95\\uc99d\\uad8c\\uc804\\ud658\\ud615\\uc790\\ud22c\\uc790\\uc2e0\\ud0c1 1(\\uc8fc\\uc2dd)\\uc885\\ub958C-e\",-0.435,0.807],[\"\\ubbf8\\ub798\\uc5d0\\uc14b\\uae00\\ub85c\\ubc8c\\uadf8\\ub808\\uc774\\ud2b8\\ucee8\\uc288\\uba38\\uc5f0\\uae08\\uc99d\\uad8c\\uc804\\ud658\\ud615\\uc790\\ud22c\\uc790\\uc2e0\\ud0c1 1(\\uc8fc\\uc2dd)\\uc885\\ub958C-e\",-0.315,0.607],[\"\\uc5d0\\uc14b\\ud50c\\ub7ec\\uc2a4\\uae00\\ub85c\\ubc8c\\ub9ac\\uce58\\ud22c\\uac8c\\ub354\\uc5f0\\uae08\\uc99d\\uad8c\\uc790\\ud22c\\uc790\\uc2e0\\ud0c1 1[\\uc8fc\\uc2dd] \\uc885\\ub958Ce\",0.006,0.757]],\"hovertemplate\":\"%{customdata[0]}\\u003cbr\\u003e\\uc218\\uc775\\ub960 \\uc21c\\uc704(%): \\ud3c9\\uade0 %{x:.0f}, \\ud3b8\\ucc28 %{y:.0f}\\u003cbr\\u003e\\uc218\\uc775\\ub960 \\uad6c\\uac04: %{customdata[1]} ~ %{customdata[2]}\\u003cextra\\u003e\\u003c\\u002fextra\\u003e\",\"marker\":{\"color\":\"#00CC96\",\"size\":[9.75,12.45,16.5,7.199999999999999,10.2,12.0,24.15,14.549999999999999,26.4,19.95,11.85,13.5,18.75,28.05,18.599999999999998,18.9,4.6499999999999995,10.799999999999999,2.25,7.8,8.549999999999999,17.4,25.65,6.675,6.1499999999999995,17.7,20.099999999999998,26.55,12.9,14.1,7.35,12.299999999999999,12.6,8.4,8.1,7.05,21.0,2.4,3.75,0.44999999999999996,19.8,5.1,3.5999999999999996,15.0,19.349999999999998,26.099999999999998,24.75,5.25,1.05,6.8999999999999995,25.349999999999998,20.7,10.5,9.15,0.6,6.3,15.149999999999999,1.5,1.3499999999999999,4.5,17.099999999999998,11.4,27.075,27.75,10.049999999999999,4.95,15.75,9.299999999999999,19.65,3.3,5.85,1.2,14.399999999999999,4.8,5.55,2.6999999999999997,13.049999999999999,13.95,16.65,21.75,22.349999999999998,3.9,26.849999999999998,13.65,9.0,8.7,25.05],\"symbol\":2},\"mode\":\"markers\",\"name\":\"\\uc8fc\\uc2dd\",\"x\":[55.46875,24.479166666666664,17.708333333333336,60.416666666666664,22.395833333333336,9.895833333333332,6.770833333333333,17.1875,21.354166666666664,16.145833333333336,4.6875,42.70833333333333,43.75,5.729166666666666,48.17708333333333,5.208333333333334,58.333333333333336,13.541666666666666,94.79166666666666,51.5625,46.61458333333333,8.333333333333332,2.604166666666667,83.07291666666666,64.84375,11.458333333333332,10.9375,2.083333333333333,10.416666666666668,14.0625,64.0625,25.260416666666668,15.625,49.47916666666667,29.6875,67.44791666666666,3.125,96.875,80.98958333333334,100.0,58.333333333333336,61.197916666666664,86.97916666666666,11.979166666666668,27.083333333333332,1.5625,4.166666666666666,73.17708333333334,98.95833333333334,53.90625,14.84375,1.0416666666666665,44.27083333333333,20.833333333333336,99.47916666666666,50.520833333333336,8.854166666666668,93.22916666666666,95.3125,63.541666666666664,12.5,18.229166666666664,3.6458333333333335,0.5208333333333333,73.17708333333334,85.67708333333334,9.375,7.291666666666667,6.25,87.5,70.05208333333334,97.39583333333334,31.770833333333332,71.35416666666666,50.0,92.1875,34.11458333333333,43.22916666666667,13.020833333333334,16.666666666666664,14.84375,74.47916666666666,20.3125,28.125,22.916666666666664,38.54166666666667,7.8125],\"y\":[63.020833333333336,78.64583333333334,75.0,72.39583333333334,89.0625,96.875,76.5625,81.77083333333334,32.55208333333333,71.35416666666666,98.95833333333334,64.0625,37.5,26.5625,33.85416666666667,90.625,98.4375,95.83333333333334,88.02083333333334,75.52083333333334,72.91666666666666,88.54166666666666,84.63541666666666,23.4375,73.95833333333334,83.85416666666666,76.04166666666666,77.08333333333334,95.3125,85.9375,64.84375,77.86458333333334,90.10416666666666,70.83333333333334,93.75,64.84375,91.40625,99.47916666666666,84.63541666666666,67.1875,25.0,94.79166666666666,40.88541666666667,87.5,61.979166666666664,86.45833333333334,80.20833333333334,73.4375,79.16666666666666,81.25,61.458333333333336,97.39583333333334,69.01041666666666,94.27083333333334,52.34375,89.58333333333334,93.22916666666666,34.375,36.71875,97.91666666666666,82.8125,85.41666666666666,65.88541666666666,62.5,28.385416666666668,28.385416666666668,91.40625,100.0,86.97916666666666,60.416666666666664,70.3125,63.541666666666664,67.96875,83.33333333333334,96.35416666666666,80.72916666666666,69.79166666666666,59.114583333333336,82.29166666666666,67.96875,69.01041666666666,92.44791666666666,27.604166666666668,74.47916666666666,92.44791666666666,79.6875,71.875],\"type\":\"scatter\"},{\"customdata\":[[\"\\ud558\\ub098\\uc2e0\\uc885MMF(S-26)ClassC-PE\",0.002,0.082],[\"\\ud558\\ub098\\ud074\\ub798\\uc2a4\\uc6d0\\uc2e0\\uc885MMF(S-36)ClassC-PE\",0.001,0.075]],\"hovertemplate\":\"%{customdata[0]}\\u003cbr\\u003e\\uc218\\uc775\\ub960 \\uc21c\\uc704(%): \\ud3c9\\uade0 %{x:.0f}, \\ud3b8\\ucc28 %{y:.0f}\\u003cbr\\u003e\\uc218\\uc775\\ub960 \\uad6c\\uac04: %{customdata[1]} ~ %{customdata[2]}\\u003cextra\\u003e\\u003c\\u002fextra\\u003e\",\"marker\":{\"color\":\"#AB63FA\",\"size\":[25.5,25.2],\"symbol\":3},\"mode\":\"markers\",\"name\":\"MMF\",\"x\":[77.08333333333334,78.125],\"y\":[4.6875,3.6458333333333335],\"type\":\"scatter\"},{\"customdata\":[[\"\\ud558\\ub098\\uae00\\ub85c\\ubc8c\\ub9ac\\uce20\\ubd80\\ub3d9\\uc0b0\\uc790\\ud22c\\uc790\\uc2e0\\ud0c1[\\uc7ac\\uac04\\uc811\\ud615]ClassC-PE\",-0.319,0.288],[\"\\ud558\\ub098\\uae00\\ub85c\\ubc8c\\ub9ac\\uce20\\uc628\\ub9ac\\uc6d0\\ubd80\\ub3d9\\uc0b0\\uc790\\ud22c\\uc790\\uc2e0\\ud0c1[\\uc7ac\\uac04\\uc811\\ud615]ClassC-PE\",-0.281,-0.079]],\"hovertemplate\":\"%{customdata[0]}\\u003cbr\\u003e\\uc218\\uc775\\ub960 \\uc21c\\uc704(%): \\ud3c9\\uade0 %{x:.0f}, \\ud3b8\\ucc28 %{y:.0f}\\u003cbr\\u003e\\uc218\\uc775\\ub960 \\uad6c\\uac04: %{customdata[1]} ~ %{customdata[2]}\\u003cextra\\u003e\\u003c\\u002fextra\\u003e\",\"marker\":{\"color\":\"#FFA15A\",\"size\":[3.0,0.3],\"symbol\":4},\"mode\":\"markers\",\"name\":\"\\ub9ac\\uce20\",\"x\":[89.58333333333334,98.4375],\"y\":[65.88541666666666,17.1875],\"type\":\"scatter\"},{\"customdata\":[[\"\\uc774\\uc2a4\\ud2b8\\uc2a4\\ud504\\ub9c1\\uace8\\ub4dc\\ub9ac\\uce58\\ud2b9\\ubcc4\\uc790\\uc0b0\\ud22c\\uc790\\uc2e0\\ud0c1[\\uae08-\\ud30c\\uc0dd\\ud615]\\ud074\\ub798\\uc2a4C-P2(\\uc5f0\\uae08\\uc800\\ucd95)E\",-0.14,0.448]],\"hovertemplate\":\"%{customdata[0]}\\u003cbr\\u003e\\uc218\\uc775\\ub960 \\uc21c\\uc704(%): \\ud3c9\\uade0 %{x:.0f}, \\ud3b8\\ucc28 %{y:.0f}\\u003cbr\\u003e\\uc218\\uc775\\ub960 \\uad6c\\uac04: %{customdata[1]} ~ %{customdata[2]}\\u003cextra\\u003e\\u003c\\u002fextra\\u003e\",\"marker\":{\"color\":\"#19D3F3\",\"size\":[13.799999999999999],\"symbol\":5},\"mode\":\"markers\",\"name\":\"\\uc6d0\\uc790\\uc7ac\",\"x\":[37.23958333333333],\"y\":[66.66666666666666],\"type\":\"scatter\"}],                        {\"height\":600,\"hovermode\":\"closest\",\"legend\":{\"title\":{\"text\":\"asset\"}},\"width\":1000,\"xaxis\":{\"autorange\":\"reversed\",\"title\":{\"text\":\"Mean\"}},\"yaxis\":{\"title\":{\"text\":\"SD\"}},\"template\":{\"data\":{\"histogram2dcontour\":[{\"type\":\"histogram2dcontour\",\"colorbar\":{\"outlinewidth\":0,\"ticks\":\"\"},\"colorscale\":[[0.0,\"#0d0887\"],[0.1111111111111111,\"#46039f\"],[0.2222222222222222,\"#7201a8\"],[0.3333333333333333,\"#9c179e\"],[0.4444444444444444,\"#bd3786\"],[0.5555555555555556,\"#d8576b\"],[0.6666666666666666,\"#ed7953\"],[0.7777777777777778,\"#fb9f3a\"],[0.8888888888888888,\"#fdca26\"],[1.0,\"#f0f921\"]]}],\"choropleth\":[{\"type\":\"choropleth\",\"colorbar\":{\"outlinewidth\":0,\"ticks\":\"\"}}],\"histogram2d\":[{\"type\":\"histogram2d\",\"colorbar\":{\"outlinewidth\":0,\"ticks\":\"\"},\"colorscale\":[[0.0,\"#0d0887\"],[0.1111111111111111,\"#46039f\"],[0.2222222222222222,\"#7201a8\"],[0.3333333333333333,\"#9c179e\"],[0.4444444444444444,\"#bd3786\"],[0.5555555555555556,\"#d8576b\"],[0.6666666666666666,\"#ed7953\"],[0.7777777777777778,\"#fb9f3a\"],[0.8888888888888888,\"#fdca26\"],[1.0,\"#f0f921\"]]}],\"heatmap\":[{\"type\":\"heatmap\",\"colorbar\":{\"outlinewidth\":0,\"ticks\":\"\"},\"colorscale\":[[0.0,\"#0d0887\"],[0.1111111111111111,\"#46039f\"],[0.2222222222222222,\"#7201a8\"],[0.3333333333333333,\"#9c179e\"],[0.4444444444444444,\"#bd3786\"],[0.5555555555555556,\"#d8576b\"],[0.6666666666666666,\"#ed7953\"],[0.7777777777777778,\"#fb9f3a\"],[0.8888888888888888,\"#fdca26\"],[1.0,\"#f0f921\"]]}],\"heatmapgl\":[{\"type\":\"heatmapgl\",\"colorbar\":{\"outlinewidth\":0,\"ticks\":\"\"},\"colorscale\":[[0.0,\"#0d0887\"],[0.1111111111111111,\"#46039f\"],[0.2222222222222222,\"#7201a8\"],[0.3333333333333333,\"#9c179e\"],[0.4444444444444444,\"#bd3786\"],[0.5555555555555556,\"#d8576b\"],[0.6666666666666666,\"#ed7953\"],[0.7777777777777778,\"#fb9f3a\"],[0.8888888888888888,\"#fdca26\"],[1.0,\"#f0f921\"]]}],\"contourcarpet\":[{\"type\":\"contourcarpet\",\"colorbar\":{\"outlinewidth\":0,\"ticks\":\"\"}}],\"contour\":[{\"type\":\"contour\",\"colorbar\":{\"outlinewidth\":0,\"ticks\":\"\"},\"colorscale\":[[0.0,\"#0d0887\"],[0.1111111111111111,\"#46039f\"],[0.2222222222222222,\"#7201a8\"],[0.3333333333333333,\"#9c179e\"],[0.4444444444444444,\"#bd3786\"],[0.5555555555555556,\"#d8576b\"],[0.6666666666666666,\"#ed7953\"],[0.7777777777777778,\"#fb9f3a\"],[0.8888888888888888,\"#fdca26\"],[1.0,\"#f0f921\"]]}],\"surface\":[{\"type\":\"surface\",\"colorbar\":{\"outlinewidth\":0,\"ticks\":\"\"},\"colorscale\":[[0.0,\"#0d0887\"],[0.1111111111111111,\"#46039f\"],[0.2222222222222222,\"#7201a8\"],[0.3333333333333333,\"#9c179e\"],[0.4444444444444444,\"#bd3786\"],[0.5555555555555556,\"#d8576b\"],[0.6666666666666666,\"#ed7953\"],[0.7777777777777778,\"#fb9f3a\"],[0.8888888888888888,\"#fdca26\"],[1.0,\"#f0f921\"]]}],\"mesh3d\":[{\"type\":\"mesh3d\",\"colorbar\":{\"outlinewidth\":0,\"ticks\":\"\"}}],\"scatter\":[{\"fillpattern\":{\"fillmode\":\"overlay\",\"size\":10,\"solidity\":0.2},\"type\":\"scatter\"}],\"parcoords\":[{\"type\":\"parcoords\",\"line\":{\"colorbar\":{\"outlinewidth\":0,\"ticks\":\"\"}}}],\"scatterpolargl\":[{\"type\":\"scatterpolargl\",\"marker\":{\"colorbar\":{\"outlinewidth\":0,\"ticks\":\"\"}}}],\"bar\":[{\"error_x\":{\"color\":\"#2a3f5f\"},\"error_y\":{\"color\":\"#2a3f5f\"},\"marker\":{\"line\":{\"color\":\"#E5ECF6\",\"width\":0.5},\"pattern\":{\"fillmode\":\"overlay\",\"size\":10,\"solidity\":0.2}},\"type\":\"bar\"}],\"scattergeo\":[{\"type\":\"scattergeo\",\"marker\":{\"colorbar\":{\"outlinewidth\":0,\"ticks\":\"\"}}}],\"scatterpolar\":[{\"type\":\"scatterpolar\",\"marker\":{\"colorbar\":{\"outlinewidth\":0,\"ticks\":\"\"}}}],\"histogram\":[{\"marker\":{\"pattern\":{\"fillmode\":\"overlay\",\"size\":10,\"solidity\":0.2}},\"type\":\"histogram\"}],\"scattergl\":[{\"type\":\"scattergl\",\"marker\":{\"colorbar\":{\"outlinewidth\":0,\"ticks\":\"\"}}}],\"scatter3d\":[{\"type\":\"scatter3d\",\"line\":{\"colorbar\":{\"outlinewidth\":0,\"ticks\":\"\"}},\"marker\":{\"colorbar\":{\"outlinewidth\":0,\"ticks\":\"\"}}}],\"scattermapbox\":[{\"type\":\"scattermapbox\",\"marker\":{\"colorbar\":{\"outlinewidth\":0,\"ticks\":\"\"}}}],\"scatterternary\":[{\"type\":\"scatterternary\",\"marker\":{\"colorbar\":{\"outlinewidth\":0,\"ticks\":\"\"}}}],\"scattercarpet\":[{\"type\":\"scattercarpet\",\"marker\":{\"colorbar\":{\"outlinewidth\":0,\"ticks\":\"\"}}}],\"carpet\":[{\"aaxis\":{\"endlinecolor\":\"#2a3f5f\",\"gridcolor\":\"white\",\"linecolor\":\"white\",\"minorgridcolor\":\"white\",\"startlinecolor\":\"#2a3f5f\"},\"baxis\":{\"endlinecolor\":\"#2a3f5f\",\"gridcolor\":\"white\",\"linecolor\":\"white\",\"minorgridcolor\":\"white\",\"startlinecolor\":\"#2a3f5f\"},\"type\":\"carpet\"}],\"table\":[{\"cells\":{\"fill\":{\"color\":\"#EBF0F8\"},\"line\":{\"color\":\"white\"}},\"header\":{\"fill\":{\"color\":\"#C8D4E3\"},\"line\":{\"color\":\"white\"}},\"type\":\"table\"}],\"barpolar\":[{\"marker\":{\"line\":{\"color\":\"#E5ECF6\",\"width\":0.5},\"pattern\":{\"fillmode\":\"overlay\",\"size\":10,\"solidity\":0.2}},\"type\":\"barpolar\"}],\"pie\":[{\"automargin\":true,\"type\":\"pie\"}]},\"layout\":{\"autotypenumbers\":\"strict\",\"colorway\":[\"#636efa\",\"#EF553B\",\"#00cc96\",\"#ab63fa\",\"#FFA15A\",\"#19d3f3\",\"#FF6692\",\"#B6E880\",\"#FF97FF\",\"#FECB52\"],\"font\":{\"color\":\"#2a3f5f\"},\"hovermode\":\"closest\",\"hoverlabel\":{\"align\":\"left\"},\"paper_bgcolor\":\"white\",\"plot_bgcolor\":\"#E5ECF6\",\"polar\":{\"bgcolor\":\"#E5ECF6\",\"angularaxis\":{\"gridcolor\":\"white\",\"linecolor\":\"white\",\"ticks\":\"\"},\"radialaxis\":{\"gridcolor\":\"white\",\"linecolor\":\"white\",\"ticks\":\"\"}},\"ternary\":{\"bgcolor\":\"#E5ECF6\",\"aaxis\":{\"gridcolor\":\"white\",\"linecolor\":\"white\",\"ticks\":\"\"},\"baxis\":{\"gridcolor\":\"white\",\"linecolor\":\"white\",\"ticks\":\"\"},\"caxis\":{\"gridcolor\":\"white\",\"linecolor\":\"white\",\"ticks\":\"\"}},\"coloraxis\":{\"colorbar\":{\"outlinewidth\":0,\"ticks\":\"\"}},\"colorscale\":{\"sequential\":[[0.0,\"#0d0887\"],[0.1111111111111111,\"#46039f\"],[0.2222222222222222,\"#7201a8\"],[0.3333333333333333,\"#9c179e\"],[0.4444444444444444,\"#bd3786\"],[0.5555555555555556,\"#d8576b\"],[0.6666666666666666,\"#ed7953\"],[0.7777777777777778,\"#fb9f3a\"],[0.8888888888888888,\"#fdca26\"],[1.0,\"#f0f921\"]],\"sequentialminus\":[[0.0,\"#0d0887\"],[0.1111111111111111,\"#46039f\"],[0.2222222222222222,\"#7201a8\"],[0.3333333333333333,\"#9c179e\"],[0.4444444444444444,\"#bd3786\"],[0.5555555555555556,\"#d8576b\"],[0.6666666666666666,\"#ed7953\"],[0.7777777777777778,\"#fb9f3a\"],[0.8888888888888888,\"#fdca26\"],[1.0,\"#f0f921\"]],\"diverging\":[[0,\"#8e0152\"],[0.1,\"#c51b7d\"],[0.2,\"#de77ae\"],[0.3,\"#f1b6da\"],[0.4,\"#fde0ef\"],[0.5,\"#f7f7f7\"],[0.6,\"#e6f5d0\"],[0.7,\"#b8e186\"],[0.8,\"#7fbc41\"],[0.9,\"#4d9221\"],[1,\"#276419\"]]},\"xaxis\":{\"gridcolor\":\"white\",\"linecolor\":\"white\",\"ticks\":\"\",\"title\":{\"standoff\":15},\"zerolinecolor\":\"white\",\"automargin\":true,\"zerolinewidth\":2},\"yaxis\":{\"gridcolor\":\"white\",\"linecolor\":\"white\",\"ticks\":\"\",\"title\":{\"standoff\":15},\"zerolinecolor\":\"white\",\"automargin\":true,\"zerolinewidth\":2},\"scene\":{\"xaxis\":{\"backgroundcolor\":\"#E5ECF6\",\"gridcolor\":\"white\",\"linecolor\":\"white\",\"showbackground\":true,\"ticks\":\"\",\"zerolinecolor\":\"white\",\"gridwidth\":2},\"yaxis\":{\"backgroundcolor\":\"#E5ECF6\",\"gridcolor\":\"white\",\"linecolor\":\"white\",\"showbackground\":true,\"ticks\":\"\",\"zerolinecolor\":\"white\",\"gridwidth\":2},\"zaxis\":{\"backgroundcolor\":\"#E5ECF6\",\"gridcolor\":\"white\",\"linecolor\":\"white\",\"showbackground\":true,\"ticks\":\"\",\"zerolinecolor\":\"white\",\"gridwidth\":2}},\"shapedefaults\":{\"line\":{\"color\":\"#2a3f5f\"}},\"annotationdefaults\":{\"arrowcolor\":\"#2a3f5f\",\"arrowhead\":0,\"arrowwidth\":1},\"geo\":{\"bgcolor\":\"white\",\"landcolor\":\"#E5ECF6\",\"subunitcolor\":\"white\",\"showland\":true,\"showlakes\":true,\"lakecolor\":\"white\"},\"title\":{\"x\":0.05},\"mapbox\":{\"style\":\"light\"}}}},                        {\"responsive\": true}                    ).then(function(){\n",
       "                            \n",
       "var gd = document.getElementById('e865b1a6-dae5-4007-b5fa-ac0bf50b6547');\n",
       "var x = new MutationObserver(function (mutations, observer) {{\n",
       "        var display = window.getComputedStyle(gd).display;\n",
       "        if (!display || display === 'none') {{\n",
       "            console.log([gd, 'removed!']);\n",
       "            Plotly.purge(gd);\n",
       "            observer.disconnect();\n",
       "        }}\n",
       "}});\n",
       "\n",
       "// Listen for the removal of the full notebook cells\n",
       "var notebookContainer = gd.closest('#notebook-container');\n",
       "if (notebookContainer) {{\n",
       "    x.observe(notebookContainer, {childList: true});\n",
       "}}\n",
       "\n",
       "// Listen for the clearing of the current output cell\n",
       "var outputEl = gd.closest('.output');\n",
       "if (outputEl) {{\n",
       "    x.observe(outputEl, {childList: true});\n",
       "}}\n",
       "\n",
       "                        })                };                });            </script>        </div>"
      ]
     },
     "metadata": {},
     "output_type": "display_data"
    }
   ],
   "source": [
    "import plotly.graph_objects as go\n",
    "\n",
    "category = 'asset'\n",
    "scale_marker_size = 0.15\n",
    "\n",
    "# Custom color map\n",
    "color_map = ['#636EFA', '#EF553B', '#00CC96', '#AB63FA', '#FFA15A', '#19D3F3', '#FF6692', '#B6E880', '#FF97FF', '#FECB52']\n",
    "\n",
    "# Get unique categories for color & symbol mapping\n",
    "unique_categories = df[category].unique()\n",
    "symbol_map = {cat: i for i, cat in enumerate(unique_categories)}\n",
    "\n",
    "# Create traces for each category\n",
    "traces = []\n",
    "for i, cat in enumerate(unique_categories):\n",
    "    df_filtered = df[df[category] == cat]\n",
    "    \n",
    "    trace = go.Scatter(\n",
    "        x=df_filtered['mean'],\n",
    "        y=df_filtered['sd'],\n",
    "        customdata=df_filtered[['name', 'hdi_3%', 'hdi_97%']].values,\n",
    "        mode='markers',\n",
    "        marker=dict(\n",
    "            #size=df_filtered['sharpe'].clip(upper=30),  # Set a max size for markers\n",
    "            size=df_filtered['sharpe'] * scale_marker_size,\n",
    "            color=color_map[i % len(color_map)],  # Assign a unique color per category\n",
    "            symbol=symbol_map[cat]  # Assign a unique symbol per category\n",
    "        ),\n",
    "        name=cat,  # Legend entry\n",
    "        hovertemplate=(\n",
    "            \"%{customdata[0]}<br>\" +\n",
    "            \"수익률 순위(%): 평균 %{x:.0f}, 편차 %{y:.0f}<br>\"\n",
    "            \"수익률 구간: %{customdata[1]} ~ %{customdata[2]}<extra></extra>\"\n",
    "        )\n",
    "    )\n",
    "    \n",
    "    traces.append(trace)\n",
    "\n",
    "# Define layout with reversed x-axis and set figure size\n",
    "layout = go.Layout(\n",
    "    xaxis=dict(title='Mean', autorange='reversed'),  # Reverse x-axis\n",
    "    yaxis=dict(title='SD'),\n",
    "    hovermode='closest',\n",
    "    legend=dict(title=category),\n",
    "    width=1000,  # Set figure width\n",
    "    height=600  # Set figure height\n",
    ")\n",
    "\n",
    "# Create and show figure\n",
    "fig = go.Figure(data=traces, layout=layout)\n",
    "fig.show()\n"
   ]
  },
  {
   "cell_type": "code",
   "execution_count": 150,
   "id": "f2c92137-4841-428a-ba47-be0909454603",
   "metadata": {},
   "outputs": [
    {
     "data": {
      "text/plain": [
       "Index(['KR5101888398', 'KR5370AP9956', 'KR5236AS4826', 'K55105BH1010',\n",
       "       'K55301BM7640', 'K55301BM7731', 'K55301BM8051', 'K55301BM7459',\n",
       "       'K55223BT1450', 'K55105BS5067',\n",
       "       ...\n",
       "       'KR5235A52578', 'KR5235AK9691', 'KR5235AK9774', 'KR5235AK9808',\n",
       "       'KR5301AK5995', 'KR5301AK6274', 'KR5301AL4401', 'KR5301AT1938',\n",
       "       'KR5301AT1987', 'KR5364AH9467'],\n",
       "      dtype='object', length=192)"
      ]
     },
     "execution_count": 150,
     "metadata": {},
     "output_type": "execute_result"
    }
   ],
   "source": [
    "df.index"
   ]
  },
  {
   "cell_type": "code",
   "execution_count": 147,
   "id": "383b30a3-3428-4d48-afec-c4162d599fb7",
   "metadata": {},
   "outputs": [
    {
     "data": {
      "application/vnd.plotly.v1+json": {
       "config": {
        "plotlyServerURL": "https://plot.ly"
       },
       "data": [
        {
         "marker": {
          "color": "#636EFA",
          "size": [
           27.3,
           7.6499999999999995,
           5.3999999999999995,
           20.4,
           6,
           25.8,
           26.7,
           7.5,
           26.25,
           21.15,
           1.65,
           24.599999999999998,
           1.95,
           0.15,
           15.6,
           23.4,
           3.15,
           4.2,
           8.25,
           7.949999999999999,
           2.1,
           5.7
          ],
          "symbol": 0
         },
         "mode": "markers",
         "name": "채권",
         "type": "scatter",
         "x": [
          63.020833333333336,
          76.5625,
          84.89583333333334,
          69.01041666666666,
          88.02083333333334,
          72.13541666666666,
          66.14583333333334,
          81.77083333333334,
          70.05208333333334,
          72.13541666666666,
          93.75,
          79.6875,
          92.70833333333334,
          97.91666666666666,
          80.98958333333334,
          79.16666666666666,
          90.10416666666666,
          88.54166666666666,
          78.125,
          80.20833333333334,
          94.27083333333334,
          84.11458333333334
         ],
         "y": [
          8.854166666666668,
          30.46875,
          24.479166666666664,
          13.541666666666666,
          8.854166666666668,
          10.416666666666668,
          8.854166666666668,
          17.96875,
          8.854166666666668,
          12.5,
          43.48958333333333,
          3.6458333333333335,
          29.166666666666668,
          6.25,
          11.458333333333332,
          5.46875,
          21.354166666666664,
          14.322916666666666,
          20.833333333333336,
          20.3125,
          77.86458333333334,
          23.4375
         ]
        },
        {
         "marker": {
          "color": "#EF553B",
          "size": [
           15.299999999999999,
           22.8,
           23.849999999999998,
           20.25,
           23.55,
           21.599999999999998,
           11.7,
           22.95,
           10.35,
           19.5,
           17.849999999999998,
           22.05,
           16.8,
           15.899999999999999,
           12.75,
           14.85,
           12.15,
           14.7,
           23.099999999999998,
           21.3,
           17.25,
           20.849999999999998,
           16.95,
           23.7,
           10.95,
           22.65,
           22.5,
           24.45,
           16.05,
           18.15,
           14.25,
           23.25,
           20.55,
           19.2,
           21.45,
           16.349999999999998,
           16.2,
           18.45,
           17.55,
           4.05,
           8.85,
           25.95,
           4.35,
           0.8999999999999999,
           13.2,
           27.45,
           28.2,
           28.5,
           28.799999999999997,
           28.65,
           28.349999999999998,
           27.9,
           2.55,
           13.35,
           11.25,
           9.45,
           2.85,
           18.3,
           19.05,
           9.9,
           24,
           21.9,
           18,
           24.9,
           3.4499999999999997,
           1.7999999999999998,
           24.3,
           10.65,
           11.1,
           9.6,
           6.45,
           27.599999999999998,
           0.75,
           27.075,
           22.2,
           15.45,
           6.675,
           11.549999999999999
          ],
          "symbol": 1
         },
         "mode": "markers",
         "name": "혼합",
         "type": "scatter",
         "x": [
          62.5,
          25.260416666666668,
          34.11458333333333,
          45.57291666666667,
          21.875,
          38.02083333333333,
          53.125,
          27.604166666666668,
          61.979166666666664,
          47.39583333333333,
          55.46875,
          31.25,
          35.67708333333333,
          41.40625,
          48.95833333333333,
          45.57291666666667,
          54.6875,
          44.79166666666667,
          32.8125,
          34.89583333333333,
          53.90625,
          33.33333333333333,
          36.45833333333333,
          19.270833333333336,
          61.197916666666664,
          19.791666666666664,
          32.29166666666667,
          23.4375,
          59.375,
          41.40625,
          51.041666666666664,
          26.041666666666668,
          30.729166666666668,
          39.32291666666667,
          29.166666666666668,
          40.625,
          42.1875,
          35.67708333333333,
          37.23958333333333,
          84.11458333333334,
          75,
          46.61458333333333,
          89.0625,
          96.09375,
          69.01041666666666,
          57.291666666666664,
          52.34375,
          30.208333333333332,
          23.958333333333336,
          18.75,
          39.32291666666667,
          68.22916666666666,
          90.88541666666666,
          76.04166666666666,
          56.770833333333336,
          59.895833333333336,
          90.88541666666666,
          70.83333333333334,
          78.125,
          65.625,
          26.5625,
          28.645833333333332,
          67.44791666666666,
          75.52083333333334,
          86.45833333333334,
          91.66666666666666,
          52.34375,
          85.67708333333334,
          58.333333333333336,
          66.66666666666666,
          82.29166666666666,
          73.95833333333334,
          96.09375,
          40.10416666666667,
          64.84375,
          48.17708333333333,
          83.07291666666666,
          56.25
         ],
         "y": [
          26.041666666666668,
          53.125,
          35.9375,
          30.46875,
          55.989583333333336,
          35.15625,
          51.302083333333336,
          47.91666666666667,
          38.54166666666667,
          33.33333333333333,
          29.6875,
          41.66666666666667,
          59.895833333333336,
          56.770833333333336,
          57.8125,
          49.21875,
          45.83333333333333,
          51.302083333333336,
          38.02083333333333,
          39.32291666666667,
          32.55208333333333,
          40.88541666666667,
          57.8125,
          59.114583333333336,
          40.10416666666667,
          60.9375,
          39.32291666666667,
          49.21875,
          31.510416666666668,
          45.05208333333333,
          42.44791666666667,
          49.21875,
          44.27083333333333,
          42.44791666666667,
          50.520833333333336,
          55.208333333333336,
          54.6875,
          52.34375,
          53.90625,
          55.989583333333336,
          27.083333333333332,
          19.010416666666664,
          13.020833333333334,
          19.010416666666664,
          22.395833333333336,
          7.291666666666667,
          1.3020833333333335,
          2.604166666666667,
          3.6458333333333335,
          5.46875,
          2.083333333333333,
          0.5208333333333333,
          19.791666666666664,
          15.625,
          46.875,
          57.8125,
          31.510416666666668,
          15.104166666666666,
          11.458333333333332,
          36.71875,
          46.875,
          49.21875,
          16.666666666666664,
          8.854166666666668,
          53.90625,
          11.458333333333332,
          21.875,
          6.770833333333333,
          46.875,
          35.15625,
          25.520833333333332,
          1.3020833333333335,
          17.96875,
          16.145833333333336,
          14.322916666666666,
          43.48958333333333,
          23.4375,
          45.05208333333333
         ]
        },
        {
         "marker": {
          "color": "#00CC96",
          "size": [
           9.75,
           12.45,
           16.5,
           7.199999999999999,
           10.2,
           12,
           24.15,
           14.549999999999999,
           26.4,
           19.95,
           11.85,
           13.5,
           18.75,
           28.05,
           18.599999999999998,
           18.9,
           4.6499999999999995,
           10.799999999999999,
           2.25,
           7.8,
           8.549999999999999,
           17.4,
           25.65,
           6.675,
           6.1499999999999995,
           17.7,
           20.099999999999998,
           26.55,
           12.9,
           14.1,
           7.35,
           12.299999999999999,
           12.6,
           8.4,
           8.1,
           7.05,
           21,
           2.4,
           3.75,
           0.44999999999999996,
           19.8,
           5.1,
           3.5999999999999996,
           15,
           19.349999999999998,
           26.099999999999998,
           24.75,
           5.25,
           1.05,
           6.8999999999999995,
           25.349999999999998,
           20.7,
           10.5,
           9.15,
           0.6,
           6.3,
           15.149999999999999,
           1.5,
           1.3499999999999999,
           4.5,
           17.099999999999998,
           11.4,
           27.075,
           27.75,
           10.049999999999999,
           4.95,
           15.75,
           9.299999999999999,
           19.65,
           3.3,
           5.85,
           1.2,
           14.399999999999999,
           4.8,
           5.55,
           2.6999999999999997,
           13.049999999999999,
           13.95,
           16.65,
           21.75,
           22.349999999999998,
           3.9,
           26.849999999999998,
           13.65,
           9,
           8.7,
           25.05
          ],
          "symbol": 2
         },
         "mode": "markers",
         "name": "주식",
         "type": "scatter",
         "x": [
          55.46875,
          24.479166666666664,
          17.708333333333336,
          60.416666666666664,
          22.395833333333336,
          9.895833333333332,
          6.770833333333333,
          17.1875,
          21.354166666666664,
          16.145833333333336,
          4.6875,
          42.70833333333333,
          43.75,
          5.729166666666666,
          48.17708333333333,
          5.208333333333334,
          58.333333333333336,
          13.541666666666666,
          94.79166666666666,
          51.5625,
          46.61458333333333,
          8.333333333333332,
          2.604166666666667,
          83.07291666666666,
          64.84375,
          11.458333333333332,
          10.9375,
          2.083333333333333,
          10.416666666666668,
          14.0625,
          64.0625,
          25.260416666666668,
          15.625,
          49.47916666666667,
          29.6875,
          67.44791666666666,
          3.125,
          96.875,
          80.98958333333334,
          100,
          58.333333333333336,
          61.197916666666664,
          86.97916666666666,
          11.979166666666668,
          27.083333333333332,
          1.5625,
          4.166666666666666,
          73.17708333333334,
          98.95833333333334,
          53.90625,
          14.84375,
          1.0416666666666665,
          44.27083333333333,
          20.833333333333336,
          99.47916666666666,
          50.520833333333336,
          8.854166666666668,
          93.22916666666666,
          95.3125,
          63.541666666666664,
          12.5,
          18.229166666666664,
          3.6458333333333335,
          0.5208333333333333,
          73.17708333333334,
          85.67708333333334,
          9.375,
          7.291666666666667,
          6.25,
          87.5,
          70.05208333333334,
          97.39583333333334,
          31.770833333333332,
          71.35416666666666,
          50,
          92.1875,
          34.11458333333333,
          43.22916666666667,
          13.020833333333334,
          16.666666666666664,
          14.84375,
          74.47916666666666,
          20.3125,
          28.125,
          22.916666666666664,
          38.54166666666667,
          7.8125
         ],
         "y": [
          63.020833333333336,
          78.64583333333334,
          75,
          72.39583333333334,
          89.0625,
          96.875,
          76.5625,
          81.77083333333334,
          32.55208333333333,
          71.35416666666666,
          98.95833333333334,
          64.0625,
          37.5,
          26.5625,
          33.85416666666667,
          90.625,
          98.4375,
          95.83333333333334,
          88.02083333333334,
          75.52083333333334,
          72.91666666666666,
          88.54166666666666,
          84.63541666666666,
          23.4375,
          73.95833333333334,
          83.85416666666666,
          76.04166666666666,
          77.08333333333334,
          95.3125,
          85.9375,
          64.84375,
          77.86458333333334,
          90.10416666666666,
          70.83333333333334,
          93.75,
          64.84375,
          91.40625,
          99.47916666666666,
          84.63541666666666,
          67.1875,
          25,
          94.79166666666666,
          40.88541666666667,
          87.5,
          61.979166666666664,
          86.45833333333334,
          80.20833333333334,
          73.4375,
          79.16666666666666,
          81.25,
          61.458333333333336,
          97.39583333333334,
          69.01041666666666,
          94.27083333333334,
          52.34375,
          89.58333333333334,
          93.22916666666666,
          34.375,
          36.71875,
          97.91666666666666,
          82.8125,
          85.41666666666666,
          65.88541666666666,
          62.5,
          28.385416666666668,
          28.385416666666668,
          91.40625,
          100,
          86.97916666666666,
          60.416666666666664,
          70.3125,
          63.541666666666664,
          67.96875,
          83.33333333333334,
          96.35416666666666,
          80.72916666666666,
          69.79166666666666,
          59.114583333333336,
          82.29166666666666,
          67.96875,
          69.01041666666666,
          92.44791666666666,
          27.604166666666668,
          74.47916666666666,
          92.44791666666666,
          79.6875,
          71.875
         ]
        },
        {
         "marker": {
          "color": "#AB63FA",
          "size": [
           25.5,
           25.2
          ],
          "symbol": 3
         },
         "mode": "markers",
         "name": "MMF",
         "type": "scatter",
         "x": [
          77.08333333333334,
          78.125
         ],
         "y": [
          4.6875,
          3.6458333333333335
         ]
        },
        {
         "marker": {
          "color": "#FFA15A",
          "size": [
           3,
           0.3
          ],
          "symbol": 4
         },
         "mode": "markers",
         "name": "리츠",
         "type": "scatter",
         "x": [
          89.58333333333334,
          98.4375
         ],
         "y": [
          65.88541666666666,
          17.1875
         ]
        },
        {
         "marker": {
          "color": "#19D3F3",
          "size": [
           13.799999999999999
          ],
          "symbol": 5
         },
         "mode": "markers",
         "name": "원자재",
         "type": "scatter",
         "x": [
          37.23958333333333
         ],
         "y": [
          66.66666666666666
         ]
        }
       ],
       "layout": {
        "autosize": true,
        "template": {
         "data": {
          "bar": [
           {
            "error_x": {
             "color": "#2a3f5f"
            },
            "error_y": {
             "color": "#2a3f5f"
            },
            "marker": {
             "line": {
              "color": "#E5ECF6",
              "width": 0.5
             },
             "pattern": {
              "fillmode": "overlay",
              "size": 10,
              "solidity": 0.2
             }
            },
            "type": "bar"
           }
          ],
          "barpolar": [
           {
            "marker": {
             "line": {
              "color": "#E5ECF6",
              "width": 0.5
             },
             "pattern": {
              "fillmode": "overlay",
              "size": 10,
              "solidity": 0.2
             }
            },
            "type": "barpolar"
           }
          ],
          "carpet": [
           {
            "aaxis": {
             "endlinecolor": "#2a3f5f",
             "gridcolor": "white",
             "linecolor": "white",
             "minorgridcolor": "white",
             "startlinecolor": "#2a3f5f"
            },
            "baxis": {
             "endlinecolor": "#2a3f5f",
             "gridcolor": "white",
             "linecolor": "white",
             "minorgridcolor": "white",
             "startlinecolor": "#2a3f5f"
            },
            "type": "carpet"
           }
          ],
          "choropleth": [
           {
            "colorbar": {
             "outlinewidth": 0,
             "ticks": ""
            },
            "type": "choropleth"
           }
          ],
          "contour": [
           {
            "colorbar": {
             "outlinewidth": 0,
             "ticks": ""
            },
            "colorscale": [
             [
              0,
              "#0d0887"
             ],
             [
              0.1111111111111111,
              "#46039f"
             ],
             [
              0.2222222222222222,
              "#7201a8"
             ],
             [
              0.3333333333333333,
              "#9c179e"
             ],
             [
              0.4444444444444444,
              "#bd3786"
             ],
             [
              0.5555555555555556,
              "#d8576b"
             ],
             [
              0.6666666666666666,
              "#ed7953"
             ],
             [
              0.7777777777777778,
              "#fb9f3a"
             ],
             [
              0.8888888888888888,
              "#fdca26"
             ],
             [
              1,
              "#f0f921"
             ]
            ],
            "type": "contour"
           }
          ],
          "contourcarpet": [
           {
            "colorbar": {
             "outlinewidth": 0,
             "ticks": ""
            },
            "type": "contourcarpet"
           }
          ],
          "heatmap": [
           {
            "colorbar": {
             "outlinewidth": 0,
             "ticks": ""
            },
            "colorscale": [
             [
              0,
              "#0d0887"
             ],
             [
              0.1111111111111111,
              "#46039f"
             ],
             [
              0.2222222222222222,
              "#7201a8"
             ],
             [
              0.3333333333333333,
              "#9c179e"
             ],
             [
              0.4444444444444444,
              "#bd3786"
             ],
             [
              0.5555555555555556,
              "#d8576b"
             ],
             [
              0.6666666666666666,
              "#ed7953"
             ],
             [
              0.7777777777777778,
              "#fb9f3a"
             ],
             [
              0.8888888888888888,
              "#fdca26"
             ],
             [
              1,
              "#f0f921"
             ]
            ],
            "type": "heatmap"
           }
          ],
          "heatmapgl": [
           {
            "colorbar": {
             "outlinewidth": 0,
             "ticks": ""
            },
            "colorscale": [
             [
              0,
              "#0d0887"
             ],
             [
              0.1111111111111111,
              "#46039f"
             ],
             [
              0.2222222222222222,
              "#7201a8"
             ],
             [
              0.3333333333333333,
              "#9c179e"
             ],
             [
              0.4444444444444444,
              "#bd3786"
             ],
             [
              0.5555555555555556,
              "#d8576b"
             ],
             [
              0.6666666666666666,
              "#ed7953"
             ],
             [
              0.7777777777777778,
              "#fb9f3a"
             ],
             [
              0.8888888888888888,
              "#fdca26"
             ],
             [
              1,
              "#f0f921"
             ]
            ],
            "type": "heatmapgl"
           }
          ],
          "histogram": [
           {
            "marker": {
             "pattern": {
              "fillmode": "overlay",
              "size": 10,
              "solidity": 0.2
             }
            },
            "type": "histogram"
           }
          ],
          "histogram2d": [
           {
            "colorbar": {
             "outlinewidth": 0,
             "ticks": ""
            },
            "colorscale": [
             [
              0,
              "#0d0887"
             ],
             [
              0.1111111111111111,
              "#46039f"
             ],
             [
              0.2222222222222222,
              "#7201a8"
             ],
             [
              0.3333333333333333,
              "#9c179e"
             ],
             [
              0.4444444444444444,
              "#bd3786"
             ],
             [
              0.5555555555555556,
              "#d8576b"
             ],
             [
              0.6666666666666666,
              "#ed7953"
             ],
             [
              0.7777777777777778,
              "#fb9f3a"
             ],
             [
              0.8888888888888888,
              "#fdca26"
             ],
             [
              1,
              "#f0f921"
             ]
            ],
            "type": "histogram2d"
           }
          ],
          "histogram2dcontour": [
           {
            "colorbar": {
             "outlinewidth": 0,
             "ticks": ""
            },
            "colorscale": [
             [
              0,
              "#0d0887"
             ],
             [
              0.1111111111111111,
              "#46039f"
             ],
             [
              0.2222222222222222,
              "#7201a8"
             ],
             [
              0.3333333333333333,
              "#9c179e"
             ],
             [
              0.4444444444444444,
              "#bd3786"
             ],
             [
              0.5555555555555556,
              "#d8576b"
             ],
             [
              0.6666666666666666,
              "#ed7953"
             ],
             [
              0.7777777777777778,
              "#fb9f3a"
             ],
             [
              0.8888888888888888,
              "#fdca26"
             ],
             [
              1,
              "#f0f921"
             ]
            ],
            "type": "histogram2dcontour"
           }
          ],
          "mesh3d": [
           {
            "colorbar": {
             "outlinewidth": 0,
             "ticks": ""
            },
            "type": "mesh3d"
           }
          ],
          "parcoords": [
           {
            "line": {
             "colorbar": {
              "outlinewidth": 0,
              "ticks": ""
             }
            },
            "type": "parcoords"
           }
          ],
          "pie": [
           {
            "automargin": true,
            "type": "pie"
           }
          ],
          "scatter": [
           {
            "fillpattern": {
             "fillmode": "overlay",
             "size": 10,
             "solidity": 0.2
            },
            "type": "scatter"
           }
          ],
          "scatter3d": [
           {
            "line": {
             "colorbar": {
              "outlinewidth": 0,
              "ticks": ""
             }
            },
            "marker": {
             "colorbar": {
              "outlinewidth": 0,
              "ticks": ""
             }
            },
            "type": "scatter3d"
           }
          ],
          "scattercarpet": [
           {
            "marker": {
             "colorbar": {
              "outlinewidth": 0,
              "ticks": ""
             }
            },
            "type": "scattercarpet"
           }
          ],
          "scattergeo": [
           {
            "marker": {
             "colorbar": {
              "outlinewidth": 0,
              "ticks": ""
             }
            },
            "type": "scattergeo"
           }
          ],
          "scattergl": [
           {
            "marker": {
             "colorbar": {
              "outlinewidth": 0,
              "ticks": ""
             }
            },
            "type": "scattergl"
           }
          ],
          "scattermapbox": [
           {
            "marker": {
             "colorbar": {
              "outlinewidth": 0,
              "ticks": ""
             }
            },
            "type": "scattermapbox"
           }
          ],
          "scatterpolar": [
           {
            "marker": {
             "colorbar": {
              "outlinewidth": 0,
              "ticks": ""
             }
            },
            "type": "scatterpolar"
           }
          ],
          "scatterpolargl": [
           {
            "marker": {
             "colorbar": {
              "outlinewidth": 0,
              "ticks": ""
             }
            },
            "type": "scatterpolargl"
           }
          ],
          "scatterternary": [
           {
            "marker": {
             "colorbar": {
              "outlinewidth": 0,
              "ticks": ""
             }
            },
            "type": "scatterternary"
           }
          ],
          "surface": [
           {
            "colorbar": {
             "outlinewidth": 0,
             "ticks": ""
            },
            "colorscale": [
             [
              0,
              "#0d0887"
             ],
             [
              0.1111111111111111,
              "#46039f"
             ],
             [
              0.2222222222222222,
              "#7201a8"
             ],
             [
              0.3333333333333333,
              "#9c179e"
             ],
             [
              0.4444444444444444,
              "#bd3786"
             ],
             [
              0.5555555555555556,
              "#d8576b"
             ],
             [
              0.6666666666666666,
              "#ed7953"
             ],
             [
              0.7777777777777778,
              "#fb9f3a"
             ],
             [
              0.8888888888888888,
              "#fdca26"
             ],
             [
              1,
              "#f0f921"
             ]
            ],
            "type": "surface"
           }
          ],
          "table": [
           {
            "cells": {
             "fill": {
              "color": "#EBF0F8"
             },
             "line": {
              "color": "white"
             }
            },
            "header": {
             "fill": {
              "color": "#C8D4E3"
             },
             "line": {
              "color": "white"
             }
            },
            "type": "table"
           }
          ]
         },
         "layout": {
          "annotationdefaults": {
           "arrowcolor": "#2a3f5f",
           "arrowhead": 0,
           "arrowwidth": 1
          },
          "autotypenumbers": "strict",
          "coloraxis": {
           "colorbar": {
            "outlinewidth": 0,
            "ticks": ""
           }
          },
          "colorscale": {
           "diverging": [
            [
             0,
             "#8e0152"
            ],
            [
             0.1,
             "#c51b7d"
            ],
            [
             0.2,
             "#de77ae"
            ],
            [
             0.3,
             "#f1b6da"
            ],
            [
             0.4,
             "#fde0ef"
            ],
            [
             0.5,
             "#f7f7f7"
            ],
            [
             0.6,
             "#e6f5d0"
            ],
            [
             0.7,
             "#b8e186"
            ],
            [
             0.8,
             "#7fbc41"
            ],
            [
             0.9,
             "#4d9221"
            ],
            [
             1,
             "#276419"
            ]
           ],
           "sequential": [
            [
             0,
             "#0d0887"
            ],
            [
             0.1111111111111111,
             "#46039f"
            ],
            [
             0.2222222222222222,
             "#7201a8"
            ],
            [
             0.3333333333333333,
             "#9c179e"
            ],
            [
             0.4444444444444444,
             "#bd3786"
            ],
            [
             0.5555555555555556,
             "#d8576b"
            ],
            [
             0.6666666666666666,
             "#ed7953"
            ],
            [
             0.7777777777777778,
             "#fb9f3a"
            ],
            [
             0.8888888888888888,
             "#fdca26"
            ],
            [
             1,
             "#f0f921"
            ]
           ],
           "sequentialminus": [
            [
             0,
             "#0d0887"
            ],
            [
             0.1111111111111111,
             "#46039f"
            ],
            [
             0.2222222222222222,
             "#7201a8"
            ],
            [
             0.3333333333333333,
             "#9c179e"
            ],
            [
             0.4444444444444444,
             "#bd3786"
            ],
            [
             0.5555555555555556,
             "#d8576b"
            ],
            [
             0.6666666666666666,
             "#ed7953"
            ],
            [
             0.7777777777777778,
             "#fb9f3a"
            ],
            [
             0.8888888888888888,
             "#fdca26"
            ],
            [
             1,
             "#f0f921"
            ]
           ]
          },
          "colorway": [
           "#636efa",
           "#EF553B",
           "#00cc96",
           "#ab63fa",
           "#FFA15A",
           "#19d3f3",
           "#FF6692",
           "#B6E880",
           "#FF97FF",
           "#FECB52"
          ],
          "font": {
           "color": "#2a3f5f"
          },
          "geo": {
           "bgcolor": "white",
           "lakecolor": "white",
           "landcolor": "#E5ECF6",
           "showlakes": true,
           "showland": true,
           "subunitcolor": "white"
          },
          "hoverlabel": {
           "align": "left"
          },
          "hovermode": "closest",
          "mapbox": {
           "style": "light"
          },
          "paper_bgcolor": "white",
          "plot_bgcolor": "#E5ECF6",
          "polar": {
           "angularaxis": {
            "gridcolor": "white",
            "linecolor": "white",
            "ticks": ""
           },
           "bgcolor": "#E5ECF6",
           "radialaxis": {
            "gridcolor": "white",
            "linecolor": "white",
            "ticks": ""
           }
          },
          "scene": {
           "xaxis": {
            "backgroundcolor": "#E5ECF6",
            "gridcolor": "white",
            "gridwidth": 2,
            "linecolor": "white",
            "showbackground": true,
            "ticks": "",
            "zerolinecolor": "white"
           },
           "yaxis": {
            "backgroundcolor": "#E5ECF6",
            "gridcolor": "white",
            "gridwidth": 2,
            "linecolor": "white",
            "showbackground": true,
            "ticks": "",
            "zerolinecolor": "white"
           },
           "zaxis": {
            "backgroundcolor": "#E5ECF6",
            "gridcolor": "white",
            "gridwidth": 2,
            "linecolor": "white",
            "showbackground": true,
            "ticks": "",
            "zerolinecolor": "white"
           }
          },
          "shapedefaults": {
           "line": {
            "color": "#2a3f5f"
           }
          },
          "ternary": {
           "aaxis": {
            "gridcolor": "white",
            "linecolor": "white",
            "ticks": ""
           },
           "baxis": {
            "gridcolor": "white",
            "linecolor": "white",
            "ticks": ""
           },
           "bgcolor": "#E5ECF6",
           "caxis": {
            "gridcolor": "white",
            "linecolor": "white",
            "ticks": ""
           }
          },
          "title": {
           "x": 0.05
          },
          "xaxis": {
           "automargin": true,
           "gridcolor": "white",
           "linecolor": "white",
           "ticks": "",
           "title": {
            "standoff": 15
           },
           "zerolinecolor": "white",
           "zerolinewidth": 2
          },
          "yaxis": {
           "automargin": true,
           "gridcolor": "white",
           "linecolor": "white",
           "ticks": "",
           "title": {
            "standoff": 15
           },
           "zerolinecolor": "white",
           "zerolinewidth": 2
          }
         }
        },
        "xaxis": {
         "autorange": true,
         "range": [
          -6.841438545015659,
          105.93701553412201
         ],
         "type": "linear"
        },
        "yaxis": {
         "autorange": true,
         "range": [
          -18.936965811965813,
          113.54166666666669
         ],
         "type": "linear"
        }
       }
      },
      "image/png": "[encoded data removed]",
      "text/html": [
       "<div>                            <div id=\"198efdc2-3911-4245-b044-181e4f837fa9\" class=\"plotly-graph-div\" style=\"height:525px; width:100%;\"></div>            <script type=\"text/javascript\">                require([\"plotly\"], function(Plotly) {                    window.PLOTLYENV=window.PLOTLYENV || {};                                    if (document.getElementById(\"198efdc2-3911-4245-b044-181e4f837fa9\")) {                    Plotly.newPlot(                        \"198efdc2-3911-4245-b044-181e4f837fa9\",                        [{\"marker\":{\"color\":\"#636EFA\",\"size\":[27.3,7.6499999999999995,5.3999999999999995,20.4,6.0,25.8,26.7,7.5,26.25,21.15,1.65,24.599999999999998,1.95,0.15,15.6,23.4,3.15,4.2,8.25,7.949999999999999,2.1,5.7],\"symbol\":0},\"mode\":\"markers\",\"name\":\"\\ucc44\\uad8c\",\"x\":[63.020833333333336,76.5625,84.89583333333334,69.01041666666666,88.02083333333334,72.13541666666666,66.14583333333334,81.77083333333334,70.05208333333334,72.13541666666666,93.75,79.6875,92.70833333333334,97.91666666666666,80.98958333333334,79.16666666666666,90.10416666666666,88.54166666666666,78.125,80.20833333333334,94.27083333333334,84.11458333333334],\"y\":[8.854166666666668,30.46875,24.479166666666664,13.541666666666666,8.854166666666668,10.416666666666668,8.854166666666668,17.96875,8.854166666666668,12.5,43.48958333333333,3.6458333333333335,29.166666666666668,6.25,11.458333333333332,5.46875,21.354166666666664,14.322916666666666,20.833333333333336,20.3125,77.86458333333334,23.4375],\"type\":\"scatter\"},{\"marker\":{\"color\":\"#EF553B\",\"size\":[15.299999999999999,22.8,23.849999999999998,20.25,23.55,21.599999999999998,11.7,22.95,10.35,19.5,17.849999999999998,22.05,16.8,15.899999999999999,12.75,14.85,12.15,14.7,23.099999999999998,21.3,17.25,20.849999999999998,16.95,23.7,10.95,22.65,22.5,24.45,16.05,18.15,14.25,23.25,20.55,19.2,21.45,16.349999999999998,16.2,18.45,17.55,4.05,8.85,25.95,4.35,0.8999999999999999,13.2,27.45,28.2,28.5,28.799999999999997,28.65,28.349999999999998,27.9,2.55,13.35,11.25,9.45,2.85,18.3,19.05,9.9,24.0,21.9,18.0,24.9,3.4499999999999997,1.7999999999999998,24.3,10.65,11.1,9.6,6.45,27.599999999999998,0.75,27.075,22.2,15.45,6.675,11.549999999999999],\"symbol\":1},\"mode\":\"markers\",\"name\":\"\\ud63c\\ud569\",\"x\":[62.5,25.260416666666668,34.11458333333333,45.57291666666667,21.875,38.02083333333333,53.125,27.604166666666668,61.979166666666664,47.39583333333333,55.46875,31.25,35.67708333333333,41.40625,48.95833333333333,45.57291666666667,54.6875,44.79166666666667,32.8125,34.89583333333333,53.90625,33.33333333333333,36.45833333333333,19.270833333333336,61.197916666666664,19.791666666666664,32.29166666666667,23.4375,59.375,41.40625,51.041666666666664,26.041666666666668,30.729166666666668,39.32291666666667,29.166666666666668,40.625,42.1875,35.67708333333333,37.23958333333333,84.11458333333334,75.0,46.61458333333333,89.0625,96.09375,69.01041666666666,57.291666666666664,52.34375,30.208333333333332,23.958333333333336,18.75,39.32291666666667,68.22916666666666,90.88541666666666,76.04166666666666,56.770833333333336,59.895833333333336,90.88541666666666,70.83333333333334,78.125,65.625,26.5625,28.645833333333332,67.44791666666666,75.52083333333334,86.45833333333334,91.66666666666666,52.34375,85.67708333333334,58.333333333333336,66.66666666666666,82.29166666666666,73.95833333333334,96.09375,40.10416666666667,64.84375,48.17708333333333,83.07291666666666,56.25],\"y\":[26.041666666666668,53.125,35.9375,30.46875,55.989583333333336,35.15625,51.302083333333336,47.91666666666667,38.54166666666667,33.33333333333333,29.6875,41.66666666666667,59.895833333333336,56.770833333333336,57.8125,49.21875,45.83333333333333,51.302083333333336,38.02083333333333,39.32291666666667,32.55208333333333,40.88541666666667,57.8125,59.114583333333336,40.10416666666667,60.9375,39.32291666666667,49.21875,31.510416666666668,45.05208333333333,42.44791666666667,49.21875,44.27083333333333,42.44791666666667,50.520833333333336,55.208333333333336,54.6875,52.34375,53.90625,55.989583333333336,27.083333333333332,19.010416666666664,13.020833333333334,19.010416666666664,22.395833333333336,7.291666666666667,1.3020833333333335,2.604166666666667,3.6458333333333335,5.46875,2.083333333333333,0.5208333333333333,19.791666666666664,15.625,46.875,57.8125,31.510416666666668,15.104166666666666,11.458333333333332,36.71875,46.875,49.21875,16.666666666666664,8.854166666666668,53.90625,11.458333333333332,21.875,6.770833333333333,46.875,35.15625,25.520833333333332,1.3020833333333335,17.96875,16.145833333333336,14.322916666666666,43.48958333333333,23.4375,45.05208333333333],\"type\":\"scatter\"},{\"marker\":{\"color\":\"#00CC96\",\"size\":[9.75,12.45,16.5,7.199999999999999,10.2,12.0,24.15,14.549999999999999,26.4,19.95,11.85,13.5,18.75,28.05,18.599999999999998,18.9,4.6499999999999995,10.799999999999999,2.25,7.8,8.549999999999999,17.4,25.65,6.675,6.1499999999999995,17.7,20.099999999999998,26.55,12.9,14.1,7.35,12.299999999999999,12.6,8.4,8.1,7.05,21.0,2.4,3.75,0.44999999999999996,19.8,5.1,3.5999999999999996,15.0,19.349999999999998,26.099999999999998,24.75,5.25,1.05,6.8999999999999995,25.349999999999998,20.7,10.5,9.15,0.6,6.3,15.149999999999999,1.5,1.3499999999999999,4.5,17.099999999999998,11.4,27.075,27.75,10.049999999999999,4.95,15.75,9.299999999999999,19.65,3.3,5.85,1.2,14.399999999999999,4.8,5.55,2.6999999999999997,13.049999999999999,13.95,16.65,21.75,22.349999999999998,3.9,26.849999999999998,13.65,9.0,8.7,25.05],\"symbol\":2},\"mode\":\"markers\",\"name\":\"\\uc8fc\\uc2dd\",\"x\":[55.46875,24.479166666666664,17.708333333333336,60.416666666666664,22.395833333333336,9.895833333333332,6.770833333333333,17.1875,21.354166666666664,16.145833333333336,4.6875,42.70833333333333,43.75,5.729166666666666,48.17708333333333,5.208333333333334,58.333333333333336,13.541666666666666,94.79166666666666,51.5625,46.61458333333333,8.333333333333332,2.604166666666667,83.07291666666666,64.84375,11.458333333333332,10.9375,2.083333333333333,10.416666666666668,14.0625,64.0625,25.260416666666668,15.625,49.47916666666667,29.6875,67.44791666666666,3.125,96.875,80.98958333333334,100.0,58.333333333333336,61.197916666666664,86.97916666666666,11.979166666666668,27.083333333333332,1.5625,4.166666666666666,73.17708333333334,98.95833333333334,53.90625,14.84375,1.0416666666666665,44.27083333333333,20.833333333333336,99.47916666666666,50.520833333333336,8.854166666666668,93.22916666666666,95.3125,63.541666666666664,12.5,18.229166666666664,3.6458333333333335,0.5208333333333333,73.17708333333334,85.67708333333334,9.375,7.291666666666667,6.25,87.5,70.05208333333334,97.39583333333334,31.770833333333332,71.35416666666666,50.0,92.1875,34.11458333333333,43.22916666666667,13.020833333333334,16.666666666666664,14.84375,74.47916666666666,20.3125,28.125,22.916666666666664,38.54166666666667,7.8125],\"y\":[63.020833333333336,78.64583333333334,75.0,72.39583333333334,89.0625,96.875,76.5625,81.77083333333334,32.55208333333333,71.35416666666666,98.95833333333334,64.0625,37.5,26.5625,33.85416666666667,90.625,98.4375,95.83333333333334,88.02083333333334,75.52083333333334,72.91666666666666,88.54166666666666,84.63541666666666,23.4375,73.95833333333334,83.85416666666666,76.04166666666666,77.08333333333334,95.3125,85.9375,64.84375,77.86458333333334,90.10416666666666,70.83333333333334,93.75,64.84375,91.40625,99.47916666666666,84.63541666666666,67.1875,25.0,94.79166666666666,40.88541666666667,87.5,61.979166666666664,86.45833333333334,80.20833333333334,73.4375,79.16666666666666,81.25,61.458333333333336,97.39583333333334,69.01041666666666,94.27083333333334,52.34375,89.58333333333334,93.22916666666666,34.375,36.71875,97.91666666666666,82.8125,85.41666666666666,65.88541666666666,62.5,28.385416666666668,28.385416666666668,91.40625,100.0,86.97916666666666,60.416666666666664,70.3125,63.541666666666664,67.96875,83.33333333333334,96.35416666666666,80.72916666666666,69.79166666666666,59.114583333333336,82.29166666666666,67.96875,69.01041666666666,92.44791666666666,27.604166666666668,74.47916666666666,92.44791666666666,79.6875,71.875],\"type\":\"scatter\"},{\"marker\":{\"color\":\"#AB63FA\",\"size\":[25.5,25.2],\"symbol\":3},\"mode\":\"markers\",\"name\":\"MMF\",\"x\":[77.08333333333334,78.125],\"y\":[4.6875,3.6458333333333335],\"type\":\"scatter\"},{\"marker\":{\"color\":\"#FFA15A\",\"size\":[3.0,0.3],\"symbol\":4},\"mode\":\"markers\",\"name\":\"\\ub9ac\\uce20\",\"x\":[89.58333333333334,98.4375],\"y\":[65.88541666666666,17.1875],\"type\":\"scatter\"},{\"marker\":{\"color\":\"#19D3F3\",\"size\":[13.799999999999999],\"symbol\":5},\"mode\":\"markers\",\"name\":\"\\uc6d0\\uc790\\uc7ac\",\"x\":[37.23958333333333],\"y\":[66.66666666666666],\"type\":\"scatter\"}],                        {\"template\":{\"data\":{\"histogram2dcontour\":[{\"type\":\"histogram2dcontour\",\"colorbar\":{\"outlinewidth\":0,\"ticks\":\"\"},\"colorscale\":[[0.0,\"#0d0887\"],[0.1111111111111111,\"#46039f\"],[0.2222222222222222,\"#7201a8\"],[0.3333333333333333,\"#9c179e\"],[0.4444444444444444,\"#bd3786\"],[0.5555555555555556,\"#d8576b\"],[0.6666666666666666,\"#ed7953\"],[0.7777777777777778,\"#fb9f3a\"],[0.8888888888888888,\"#fdca26\"],[1.0,\"#f0f921\"]]}],\"choropleth\":[{\"type\":\"choropleth\",\"colorbar\":{\"outlinewidth\":0,\"ticks\":\"\"}}],\"histogram2d\":[{\"type\":\"histogram2d\",\"colorbar\":{\"outlinewidth\":0,\"ticks\":\"\"},\"colorscale\":[[0.0,\"#0d0887\"],[0.1111111111111111,\"#46039f\"],[0.2222222222222222,\"#7201a8\"],[0.3333333333333333,\"#9c179e\"],[0.4444444444444444,\"#bd3786\"],[0.5555555555555556,\"#d8576b\"],[0.6666666666666666,\"#ed7953\"],[0.7777777777777778,\"#fb9f3a\"],[0.8888888888888888,\"#fdca26\"],[1.0,\"#f0f921\"]]}],\"heatmap\":[{\"type\":\"heatmap\",\"colorbar\":{\"outlinewidth\":0,\"ticks\":\"\"},\"colorscale\":[[0.0,\"#0d0887\"],[0.1111111111111111,\"#46039f\"],[0.2222222222222222,\"#7201a8\"],[0.3333333333333333,\"#9c179e\"],[0.4444444444444444,\"#bd3786\"],[0.5555555555555556,\"#d8576b\"],[0.6666666666666666,\"#ed7953\"],[0.7777777777777778,\"#fb9f3a\"],[0.8888888888888888,\"#fdca26\"],[1.0,\"#f0f921\"]]}],\"heatmapgl\":[{\"type\":\"heatmapgl\",\"colorbar\":{\"outlinewidth\":0,\"ticks\":\"\"},\"colorscale\":[[0.0,\"#0d0887\"],[0.1111111111111111,\"#46039f\"],[0.2222222222222222,\"#7201a8\"],[0.3333333333333333,\"#9c179e\"],[0.4444444444444444,\"#bd3786\"],[0.5555555555555556,\"#d8576b\"],[0.6666666666666666,\"#ed7953\"],[0.7777777777777778,\"#fb9f3a\"],[0.8888888888888888,\"#fdca26\"],[1.0,\"#f0f921\"]]}],\"contourcarpet\":[{\"type\":\"contourcarpet\",\"colorbar\":{\"outlinewidth\":0,\"ticks\":\"\"}}],\"contour\":[{\"type\":\"contour\",\"colorbar\":{\"outlinewidth\":0,\"ticks\":\"\"},\"colorscale\":[[0.0,\"#0d0887\"],[0.1111111111111111,\"#46039f\"],[0.2222222222222222,\"#7201a8\"],[0.3333333333333333,\"#9c179e\"],[0.4444444444444444,\"#bd3786\"],[0.5555555555555556,\"#d8576b\"],[0.6666666666666666,\"#ed7953\"],[0.7777777777777778,\"#fb9f3a\"],[0.8888888888888888,\"#fdca26\"],[1.0,\"#f0f921\"]]}],\"surface\":[{\"type\":\"surface\",\"colorbar\":{\"outlinewidth\":0,\"ticks\":\"\"},\"colorscale\":[[0.0,\"#0d0887\"],[0.1111111111111111,\"#46039f\"],[0.2222222222222222,\"#7201a8\"],[0.3333333333333333,\"#9c179e\"],[0.4444444444444444,\"#bd3786\"],[0.5555555555555556,\"#d8576b\"],[0.6666666666666666,\"#ed7953\"],[0.7777777777777778,\"#fb9f3a\"],[0.8888888888888888,\"#fdca26\"],[1.0,\"#f0f921\"]]}],\"mesh3d\":[{\"type\":\"mesh3d\",\"colorbar\":{\"outlinewidth\":0,\"ticks\":\"\"}}],\"scatter\":[{\"fillpattern\":{\"fillmode\":\"overlay\",\"size\":10,\"solidity\":0.2},\"type\":\"scatter\"}],\"parcoords\":[{\"type\":\"parcoords\",\"line\":{\"colorbar\":{\"outlinewidth\":0,\"ticks\":\"\"}}}],\"scatterpolargl\":[{\"type\":\"scatterpolargl\",\"marker\":{\"colorbar\":{\"outlinewidth\":0,\"ticks\":\"\"}}}],\"bar\":[{\"error_x\":{\"color\":\"#2a3f5f\"},\"error_y\":{\"color\":\"#2a3f5f\"},\"marker\":{\"line\":{\"color\":\"#E5ECF6\",\"width\":0.5},\"pattern\":{\"fillmode\":\"overlay\",\"size\":10,\"solidity\":0.2}},\"type\":\"bar\"}],\"scattergeo\":[{\"type\":\"scattergeo\",\"marker\":{\"colorbar\":{\"outlinewidth\":0,\"ticks\":\"\"}}}],\"scatterpolar\":[{\"type\":\"scatterpolar\",\"marker\":{\"colorbar\":{\"outlinewidth\":0,\"ticks\":\"\"}}}],\"histogram\":[{\"marker\":{\"pattern\":{\"fillmode\":\"overlay\",\"size\":10,\"solidity\":0.2}},\"type\":\"histogram\"}],\"scattergl\":[{\"type\":\"scattergl\",\"marker\":{\"colorbar\":{\"outlinewidth\":0,\"ticks\":\"\"}}}],\"scatter3d\":[{\"type\":\"scatter3d\",\"line\":{\"colorbar\":{\"outlinewidth\":0,\"ticks\":\"\"}},\"marker\":{\"colorbar\":{\"outlinewidth\":0,\"ticks\":\"\"}}}],\"scattermapbox\":[{\"type\":\"scattermapbox\",\"marker\":{\"colorbar\":{\"outlinewidth\":0,\"ticks\":\"\"}}}],\"scatterternary\":[{\"type\":\"scatterternary\",\"marker\":{\"colorbar\":{\"outlinewidth\":0,\"ticks\":\"\"}}}],\"scattercarpet\":[{\"type\":\"scattercarpet\",\"marker\":{\"colorbar\":{\"outlinewidth\":0,\"ticks\":\"\"}}}],\"carpet\":[{\"aaxis\":{\"endlinecolor\":\"#2a3f5f\",\"gridcolor\":\"white\",\"linecolor\":\"white\",\"minorgridcolor\":\"white\",\"startlinecolor\":\"#2a3f5f\"},\"baxis\":{\"endlinecolor\":\"#2a3f5f\",\"gridcolor\":\"white\",\"linecolor\":\"white\",\"minorgridcolor\":\"white\",\"startlinecolor\":\"#2a3f5f\"},\"type\":\"carpet\"}],\"table\":[{\"cells\":{\"fill\":{\"color\":\"#EBF0F8\"},\"line\":{\"color\":\"white\"}},\"header\":{\"fill\":{\"color\":\"#C8D4E3\"},\"line\":{\"color\":\"white\"}},\"type\":\"table\"}],\"barpolar\":[{\"marker\":{\"line\":{\"color\":\"#E5ECF6\",\"width\":0.5},\"pattern\":{\"fillmode\":\"overlay\",\"size\":10,\"solidity\":0.2}},\"type\":\"barpolar\"}],\"pie\":[{\"automargin\":true,\"type\":\"pie\"}]},\"layout\":{\"autotypenumbers\":\"strict\",\"colorway\":[\"#636efa\",\"#EF553B\",\"#00cc96\",\"#ab63fa\",\"#FFA15A\",\"#19d3f3\",\"#FF6692\",\"#B6E880\",\"#FF97FF\",\"#FECB52\"],\"font\":{\"color\":\"#2a3f5f\"},\"hovermode\":\"closest\",\"hoverlabel\":{\"align\":\"left\"},\"paper_bgcolor\":\"white\",\"plot_bgcolor\":\"#E5ECF6\",\"polar\":{\"bgcolor\":\"#E5ECF6\",\"angularaxis\":{\"gridcolor\":\"white\",\"linecolor\":\"white\",\"ticks\":\"\"},\"radialaxis\":{\"gridcolor\":\"white\",\"linecolor\":\"white\",\"ticks\":\"\"}},\"ternary\":{\"bgcolor\":\"#E5ECF6\",\"aaxis\":{\"gridcolor\":\"white\",\"linecolor\":\"white\",\"ticks\":\"\"},\"baxis\":{\"gridcolor\":\"white\",\"linecolor\":\"white\",\"ticks\":\"\"},\"caxis\":{\"gridcolor\":\"white\",\"linecolor\":\"white\",\"ticks\":\"\"}},\"coloraxis\":{\"colorbar\":{\"outlinewidth\":0,\"ticks\":\"\"}},\"colorscale\":{\"sequential\":[[0.0,\"#0d0887\"],[0.1111111111111111,\"#46039f\"],[0.2222222222222222,\"#7201a8\"],[0.3333333333333333,\"#9c179e\"],[0.4444444444444444,\"#bd3786\"],[0.5555555555555556,\"#d8576b\"],[0.6666666666666666,\"#ed7953\"],[0.7777777777777778,\"#fb9f3a\"],[0.8888888888888888,\"#fdca26\"],[1.0,\"#f0f921\"]],\"sequentialminus\":[[0.0,\"#0d0887\"],[0.1111111111111111,\"#46039f\"],[0.2222222222222222,\"#7201a8\"],[0.3333333333333333,\"#9c179e\"],[0.4444444444444444,\"#bd3786\"],[0.5555555555555556,\"#d8576b\"],[0.6666666666666666,\"#ed7953\"],[0.7777777777777778,\"#fb9f3a\"],[0.8888888888888888,\"#fdca26\"],[1.0,\"#f0f921\"]],\"diverging\":[[0,\"#8e0152\"],[0.1,\"#c51b7d\"],[0.2,\"#de77ae\"],[0.3,\"#f1b6da\"],[0.4,\"#fde0ef\"],[0.5,\"#f7f7f7\"],[0.6,\"#e6f5d0\"],[0.7,\"#b8e186\"],[0.8,\"#7fbc41\"],[0.9,\"#4d9221\"],[1,\"#276419\"]]},\"xaxis\":{\"gridcolor\":\"white\",\"linecolor\":\"white\",\"ticks\":\"\",\"title\":{\"standoff\":15},\"zerolinecolor\":\"white\",\"automargin\":true,\"zerolinewidth\":2},\"yaxis\":{\"gridcolor\":\"white\",\"linecolor\":\"white\",\"ticks\":\"\",\"title\":{\"standoff\":15},\"zerolinecolor\":\"white\",\"automargin\":true,\"zerolinewidth\":2},\"scene\":{\"xaxis\":{\"backgroundcolor\":\"#E5ECF6\",\"gridcolor\":\"white\",\"linecolor\":\"white\",\"showbackground\":true,\"ticks\":\"\",\"zerolinecolor\":\"white\",\"gridwidth\":2},\"yaxis\":{\"backgroundcolor\":\"#E5ECF6\",\"gridcolor\":\"white\",\"linecolor\":\"white\",\"showbackground\":true,\"ticks\":\"\",\"zerolinecolor\":\"white\",\"gridwidth\":2},\"zaxis\":{\"backgroundcolor\":\"#E5ECF6\",\"gridcolor\":\"white\",\"linecolor\":\"white\",\"showbackground\":true,\"ticks\":\"\",\"zerolinecolor\":\"white\",\"gridwidth\":2}},\"shapedefaults\":{\"line\":{\"color\":\"#2a3f5f\"}},\"annotationdefaults\":{\"arrowcolor\":\"#2a3f5f\",\"arrowhead\":0,\"arrowwidth\":1},\"geo\":{\"bgcolor\":\"white\",\"landcolor\":\"#E5ECF6\",\"subunitcolor\":\"white\",\"showland\":true,\"showlakes\":true,\"lakecolor\":\"white\"},\"title\":{\"x\":0.05},\"mapbox\":{\"style\":\"light\"}}}},                        {\"responsive\": true}                    ).then(function(){\n",
       "                            \n",
       "var gd = document.getElementById('198efdc2-3911-4245-b044-181e4f837fa9');\n",
       "var x = new MutationObserver(function (mutations, observer) {{\n",
       "        var display = window.getComputedStyle(gd).display;\n",
       "        if (!display || display === 'none') {{\n",
       "            console.log([gd, 'removed!']);\n",
       "            Plotly.purge(gd);\n",
       "            observer.disconnect();\n",
       "        }}\n",
       "}});\n",
       "\n",
       "// Listen for the removal of the full notebook cells\n",
       "var notebookContainer = gd.closest('#notebook-container');\n",
       "if (notebookContainer) {{\n",
       "    x.observe(notebookContainer, {childList: true});\n",
       "}}\n",
       "\n",
       "// Listen for the clearing of the current output cell\n",
       "var outputEl = gd.closest('.output');\n",
       "if (outputEl) {{\n",
       "    x.observe(outputEl, {childList: true});\n",
       "}}\n",
       "\n",
       "                        })                };                });            </script>        </div>"
      ]
     },
     "metadata": {},
     "output_type": "display_data"
    }
   ],
   "source": [
    "\n",
    "# ['name', 'seller', 'account', 'manager', 'asset', 'strategy', 'region']\n",
    "category = 'asset'\n",
    "\n",
    "\n",
    "import plotly.graph_objects as go\n",
    "\n",
    "scale_marker_size = 0.15\n",
    "\n",
    "# Custom color map\n",
    "color_map = ['#636EFA', '#EF553B', '#00CC96', '#AB63FA', '#FFA15A', '#19D3F3', '#FF6692', '#B6E880', '#FF97FF', '#FECB52']\n",
    "\n",
    "# Get unique categories for color & symbol mapping\n",
    "unique_categories = df[category].unique()\n",
    "symbol_map = {cat: i for i, cat in enumerate(unique_categories)}\n",
    "\n",
    "# Create traces for each category\n",
    "traces = []\n",
    "for i, cat in enumerate(unique_categories):\n",
    "    df_filtered = df[df[category] == cat]\n",
    "    \n",
    "    trace = go.Scatter(\n",
    "        x=df_filtered['mean'],\n",
    "        y=df_filtered['sd'],\n",
    "        mode='markers',\n",
    "        marker=dict(\n",
    "            size=df_filtered['sharpe'] * scale_marker_size,\n",
    "            color=color_map[i % len(color_map)],  # Assign a unique color per category\n",
    "            symbol=symbol_map[cat]  # Assign a unique symbol per category\n",
    "        ),\n",
    "        name=cat,  # Legend entry\n",
    "    )\n",
    "    \n",
    "    traces.append(trace)\n",
    "\n",
    "# Create and show figure\n",
    "fig = go.Figure(data=traces)\n",
    "fig.show()"
   ]
  },
  {
   "cell_type": "code",
   "execution_count": null,
   "id": "33d1f525-bd2b-4753-aac3-431188215ece",
   "metadata": {},
   "outputs": [],
   "source": []
  },
  {
   "cell_type": "code",
   "execution_count": null,
   "id": "01c2bc9f-1efd-47b3-956c-6130d89bf4b3",
   "metadata": {},
   "outputs": [],
   "source": []
  },
  {
   "cell_type": "code",
   "execution_count": null,
   "id": "878af1f8-5e51-456d-ab6d-3e8bc689566a",
   "metadata": {},
   "outputs": [],
   "source": []
  },
  {
   "cell_type": "markdown",
   "id": "0ce0714d-a9f8-4f37-beab-f4e566375b9f",
   "metadata": {},
   "source": [
    "## Samples"
   ]
  },
  {
   "cell_type": "markdown",
   "id": "056b7874-00c9-4509-894c-34f54bde50aa",
   "metadata": {},
   "source": [
    "### Callback"
   ]
  },
  {
   "cell_type": "code",
   "execution_count": null,
   "id": "95965ba5-0d75-4b4a-9b4a-499021d97c9c",
   "metadata": {},
   "outputs": [],
   "source": [
    "import pandas as pd\n",
    "import plotly.express as px\n",
    "from dash import Dash, html, dcc, callback, Input, Output\n",
    "from io import StringIO\n",
    "\n",
    "file_prc = 'fund_monthly_241229.csv'\n",
    "path = '.'\n",
    "\n",
    "# Load price data\n",
    "df_prc = pd.read_csv(\n",
    "    f'{path}/{file_prc}',\n",
    "    parse_dates=['date'],\n",
    "    dtype={'ticker': str},\n",
    "    index_col=['group', 'ticker', 'date']\n",
    ")\n",
    "\n",
    "app = Dash(__name__)\n",
    "app.layout = html.Div([\n",
    "    html.Button('Submit', id='submit-val', n_clicks=0),\n",
    "    dcc.Graph(id='price-plot'),\n",
    "    dcc.Store(id='price-data'),\n",
    "])\n",
    "\n",
    "group_value = 2030\n",
    "col = 'price'\n",
    "df_p = df_prc.loc[group_value, col].unstack('ticker').sort_index()\n",
    "\n",
    "@callback(\n",
    "    Output(component_id='price-data', component_property='data'),\n",
    "    Input(component_id='submit-val', component_property='n_clicks')\n",
    ")\n",
    "def update(n_clicks):\n",
    "    return df_p.to_json(date_format='iso', orient='split')\n",
    "\n",
    "\n",
    "@callback(\n",
    "    Output(component_id='price-plot', component_property='figure'),\n",
    "    Input(component_id='price-data', component_property='data')\n",
    ")\n",
    "def plot(data):\n",
    "    # Use StringIO to wrap the string data\n",
    "    data_io = StringIO(data)\n",
    "    df = pd.read_json(data_io, orient='split')\n",
    "    return px.line(df)\n",
    "\n",
    "if __name__ == '__main__':\n",
    "    app.run_server(debug=True)"
   ]
  },
  {
   "cell_type": "markdown",
   "id": "7719ab04-06e0-44ac-8e18-bf339a367f34",
   "metadata": {},
   "source": [
    "### Clientside"
   ]
  },
  {
   "cell_type": "code",
   "execution_count": null,
   "id": "d2b01741-72a7-4f1a-b4da-7c8c2df4b7a7",
   "metadata": {},
   "outputs": [],
   "source": [
    "import pandas as pd\n",
    "import plotly.express as px\n",
    "from dash import Dash, html, dcc\n",
    "import json\n",
    "\n",
    "file_prc = 'fund_monthly_241229.csv'\n",
    "path = '.'\n",
    "\n",
    "# Load price data\n",
    "df_prc = pd.read_csv(\n",
    "    f'{path}/{file_prc}',\n",
    "    parse_dates=['date'],\n",
    "    dtype={'ticker': str},\n",
    "    index_col=['group', 'ticker', 'date']\n",
    ")\n",
    "\n",
    "app = Dash(__name__)\n",
    "\n",
    "group_value = 2030\n",
    "col = 'price'\n",
    "df_p = df_prc.loc[group_value, col].unstack('ticker').sort_index()\n",
    "\n",
    "# Preprocess the data and serialize it to JSON\n",
    "preprocessed_data = df_p.to_json(date_format='iso', orient='split')\n",
    "\n",
    "app.layout = html.Div([\n",
    "    dcc.Graph(id='price-plot'),\n",
    "    # Embed the preprocessed data as a hidden div or dcc.Store\n",
    "    dcc.Store(id='price-data', data=preprocessed_data),\n",
    "])\n",
    "\n",
    "# Clientside callback for plotting\n",
    "app.clientside_callback(\n",
    "    \"\"\"\n",
    "    function(data) {\n",
    "        if (!data) {\n",
    "            return {'data': [], 'layout': {}};\n",
    "        }\n",
    "        // Parse the JSON data\n",
    "        const df = JSON.parse(data);\n",
    "        const dates = df.index;\n",
    "        const columns = df.columns;\n",
    "\n",
    "        const traces = columns.map((col, i) => ({\n",
    "            x: dates,\n",
    "            y: df.data.map(row => row[i]),\n",
    "            mode: 'lines',\n",
    "            name: col\n",
    "        }));\n",
    "\n",
    "        return {\n",
    "            data: traces,\n",
    "            layout: {\n",
    "                title: 'Price Plot',\n",
    "                xaxis: {title: 'Date'},\n",
    "                yaxis: {title: 'Price'}\n",
    "            }\n",
    "        };\n",
    "    }\n",
    "    \"\"\",\n",
    "    Output('price-plot', 'figure'),\n",
    "    Input('price-data', 'data')\n",
    ")\n",
    "\n",
    "if __name__ == '__main__':\n",
    "    app.run_server(debug=True)\n"
   ]
  },
  {
   "cell_type": "markdown",
   "id": "e39d92b4-e297-4765-9b1f-9660783ffa36",
   "metadata": {},
   "source": [
    "### Mobile"
   ]
  },
  {
   "cell_type": "code",
   "execution_count": null,
   "id": "5403873d-e7b4-4543-8fe4-403792a44914",
   "metadata": {},
   "outputs": [],
   "source": [
    "import pandas as pd\n",
    "from dash import Dash, html, dcc\n",
    "import dash_bootstrap_components as dbc\n",
    "import json\n",
    "\n",
    "file_prc = 'fund_monthly_241229.csv'\n",
    "path = '.'\n",
    "\n",
    "# Load price data\n",
    "df_prc = pd.read_csv(\n",
    "    f'{path}/{file_prc}',\n",
    "    parse_dates=['date'],\n",
    "    dtype={'ticker': str},\n",
    "    index_col=['group', 'ticker', 'date']\n",
    ")\n",
    "\n",
    "app = Dash(__name__, external_stylesheets=[dbc.themes.BOOTSTRAP])\n",
    "\n",
    "group_value = 2030\n",
    "col = 'price'\n",
    "df_p = df_prc.loc[group_value, col].unstack('ticker').sort_index()\n",
    "\n",
    "# Preprocess the data and serialize it to JSON\n",
    "preprocessed_data = df_p.to_json(date_format='iso', orient='split')\n",
    "\n",
    "app.layout = dbc.Container(\n",
    "    [\n",
    "        dbc.Row(\n",
    "            dbc.Col(\n",
    "                html.Button('Submit', id='submit-val', n_clicks=0),\n",
    "                width={\"size\": 6, \"offset\": 3},  # Centered on the screen\n",
    "                className=\"text-center\"\n",
    "            )\n",
    "        ),\n",
    "        dbc.Row(\n",
    "            dbc.Col(\n",
    "                dcc.Graph(id='price-plot'),\n",
    "                width=12  # Full-width on all screen sizes\n",
    "            ),\n",
    "            className=\"mt-4\"  # Add margin-top for spacing\n",
    "        ),\n",
    "        # Store the preprocessed data\n",
    "        dcc.Store(id='price-data', data=preprocessed_data),\n",
    "    ],\n",
    "    fluid=True  # Full-width container\n",
    ")\n",
    "\n",
    "# Clientside callback for plotting\n",
    "app.clientside_callback(\n",
    "    \"\"\"\n",
    "    function(data) {\n",
    "        if (!data) {\n",
    "            return {'data': [], 'layout': {}};\n",
    "        }\n",
    "        // Parse the JSON data\n",
    "        const df = JSON.parse(data);\n",
    "        const dates = df.index;\n",
    "        const columns = df.columns;\n",
    "\n",
    "        const traces = columns.map((col, i) => ({\n",
    "            x: dates,\n",
    "            y: df.data.map(row => row[i]),\n",
    "            mode: 'lines',\n",
    "            name: col\n",
    "        }));\n",
    "\n",
    "        return {\n",
    "            data: traces,\n",
    "            layout: {\n",
    "                title: 'Price Plot',\n",
    "                xaxis: {title: 'Date'},\n",
    "                yaxis: {title: 'Price'},\n",
    "                margin: {l: 40, r: 10, t: 40, b: 40},\n",
    "                responsive: true\n",
    "            }\n",
    "        };\n",
    "    }\n",
    "    \"\"\",\n",
    "    Output('price-plot', 'figure'),\n",
    "    Input('price-data', 'data')\n",
    ")\n",
    "\n",
    "if __name__ == '__main__':\n",
    "    app.run_server(debug=True)\n"
   ]
  },
  {
   "cell_type": "markdown",
   "id": "2e38f33b-3d4a-4883-b946-841ffeeb7dab",
   "metadata": {},
   "source": [
    "## testing"
   ]
  },
  {
   "cell_type": "code",
   "execution_count": null,
   "id": "2985b2bf-fbae-4fb2-8a15-766f90a08a6b",
   "metadata": {},
   "outputs": [],
   "source": []
  },
  {
   "cell_type": "code",
   "execution_count": null,
   "id": "2cc59d8c-cefc-4c49-9514-2271f11ad614",
   "metadata": {},
   "outputs": [],
   "source": []
  },
  {
   "cell_type": "code",
   "execution_count": null,
   "id": "810b7d80-d01d-4866-b73d-3961fa68b2d9",
   "metadata": {},
   "outputs": [],
   "source": []
  },
  {
   "cell_type": "code",
   "execution_count": null,
   "id": "5ac50823-379c-427a-bcc3-f80adfd638c6",
   "metadata": {},
   "outputs": [],
   "source": []
  },
  {
   "cell_type": "code",
   "execution_count": null,
   "id": "339edd96-dd7e-4eed-87b0-4b557ab7474e",
   "metadata": {},
   "outputs": [],
   "source": []
  },
  {
   "cell_type": "code",
   "execution_count": null,
   "id": "e85be509-4604-469d-8dce-e122d4c2c166",
   "metadata": {},
   "outputs": [],
   "source": []
  },
  {
   "cell_type": "code",
   "execution_count": null,
   "id": "0179f575-b0f5-48df-bd84-2a626332acea",
   "metadata": {},
   "outputs": [],
   "source": []
  },
  {
   "cell_type": "code",
   "execution_count": null,
   "id": "0e951f2f-1e32-425c-bf6d-0cf169df5284",
   "metadata": {},
   "outputs": [],
   "source": []
  },
  {
   "cell_type": "markdown",
   "id": "00c7f75f-563e-40c6-a5dc-1ca367b05913",
   "metadata": {},
   "source": [
    "## testing"
   ]
  },
  {
   "cell_type": "code",
   "execution_count": null,
   "id": "e2aececf-2bfe-4e57-8c6a-cf3375cb9150",
   "metadata": {},
   "outputs": [],
   "source": []
  },
  {
   "cell_type": "markdown",
   "id": "06b8bd12-9b9c-4d59-8606-a716b8ffb896",
   "metadata": {},
   "source": [
    "## testing"
   ]
  },
  {
   "cell_type": "code",
   "execution_count": null,
   "id": "f86ddb83-082a-46c8-a471-9c344ff941cd",
   "metadata": {},
   "outputs": [],
   "source": [
    "import pandas as pd"
   ]
  },
  {
   "cell_type": "code",
   "execution_count": null,
   "id": "52c82770-3bc5-4f19-91f2-ed569d0ca80b",
   "metadata": {
    "scrolled": true
   },
   "outputs": [],
   "source": [
    "file = 'fund_name_241230.csv'\n",
    "path = '.'\n",
    "\n",
    "fund_name = pd.read_csv(f'{path}/{file}', dtype={'ticker': str}, index_col=[0])\n",
    "fund_name = fund_name.iloc[:,0].to_dict()\n",
    "fund_name"
   ]
  },
  {
   "cell_type": "code",
   "execution_count": null,
   "id": "98f777fb-3970-46f7-ba2e-a66fe966f170",
   "metadata": {},
   "outputs": [],
   "source": [
    "import re\n",
    "\n",
    "\n",
    "m = re.search(r'\\d{4}', s)\n",
    "func = lambda s: [s if x is None else s[:x.end()] for x in [re.search(r'\\d{4}', s)]][0]"
   ]
  },
  {
   "cell_type": "code",
   "execution_count": null,
   "id": "c5bca4e6-f39d-46d6-addc-5da526d52b5b",
   "metadata": {},
   "outputs": [],
   "source": [
    "s = '신한마음편한TDF2040증권투자신탁[주식혼합-재간접형](종류C-re)'\n",
    "#s = '신한마음편한TDF증권투자신탁[주식혼합-재간접형](종류C-re)'\n",
    "\n",
    "func = lambda s: s[:m.end()] if (m := re.search(r'\\d{4}', s)) else s\n",
    "\n",
    "func(s)"
   ]
  },
  {
   "cell_type": "code",
   "execution_count": null,
   "id": "15dc4150-037d-4586-b839-c0e13d140ac4",
   "metadata": {},
   "outputs": [],
   "source": [
    "#i = 2050\n",
    "i = 2055\n",
    "data = preprocessed_data[i]\n",
    "#data.keys()\n",
    "\n",
    "col = '수수료 적용 전'\n",
    "d = data['default'][col]['history']\n",
    "i = data['default'][col]['index']\n",
    "df = pd.DataFrame(d, index=i)\n",
    "\n",
    "import plotly.express as px\n",
    "px.line(df)"
   ]
  },
  {
   "cell_type": "code",
   "execution_count": null,
   "id": "593ca86c-a3cc-4dcc-ad43-d5a73c14eb94",
   "metadata": {},
   "outputs": [],
   "source": [
    "import plotly.graph_objects as go\n",
    "\n",
    "i = 2050\n",
    "data = preprocessed_data[i]\n",
    "#data.keys()\n",
    "\n",
    "col = '수수료 적용 전'\n",
    "d = data['default'][col]['history']\n",
    "i = data['default'][col]['index']\n",
    "\n",
    "fig = go.Figure()\n",
    "\n",
    "# Add traces\n",
    "fig.add_trace(go.Scatter(x=i, y=d,\n",
    "                    mode='lines',\n",
    "                    #name='ticker'\n",
    "                        )\n",
    "             )\n",
    "fig.show()"
   ]
  },
  {
   "cell_type": "code",
   "execution_count": null,
   "id": "4f858a68-5548-4ae8-8764-a92ce7b91a8b",
   "metadata": {},
   "outputs": [],
   "source": [
    "# You can use Plotly's `plot` function to visualize the result\n",
    "import plotly.offline as pyo\n",
    "pyo.plot(result)"
   ]
  },
  {
   "cell_type": "code",
   "execution_count": null,
   "id": "a773b1d8-d3ef-483e-904b-cf0ccd4156f4",
   "metadata": {
    "scrolled": true
   },
   "outputs": [],
   "source": [
    "d"
   ]
  },
  {
   "cell_type": "code",
   "execution_count": null,
   "id": "edba5133-a072-47b2-b884-410a61cb7511",
   "metadata": {},
   "outputs": [],
   "source": [
    "\"\"\"\n",
    "            return {\n",
    "                x: dat.index,        // Dates from the index\n",
    "                y: yValues,          // Price history for each ticker\n",
    "                type: 'scatter',\n",
    "                mode: 'lines',\n",
    "                name: ticker,        // Ticker as the legend name\n",
    "                //color: ticker\n",
    "            };\n",
    "            \"\"\""
   ]
  },
  {
   "cell_type": "code",
   "execution_count": null,
   "id": "4e83e114-cdcc-44fc-a4ea-43fd417a42b6",
   "metadata": {},
   "outputs": [],
   "source": [
    "import plotly.graph_objects as go\n",
    "\n",
    "# Create random data with numpy\n",
    "import numpy as np\n",
    "np.random.seed(1)\n",
    "\n",
    "N = 100\n",
    "random_x = np.linspace(0, 1, N)\n",
    "random_y0 = np.random.randn(N) + 5\n",
    "random_y1 = np.random.randn(N)\n",
    "random_y2 = np.random.randn(N) - 5\n",
    "\n",
    "fig = go.Figure()\n",
    "\n",
    "# Add traces\n",
    "fig.add_trace(go.Scatter(x=random_x, y=random_y0,\n",
    "                    mode='markers',\n",
    "                    name='markers'))\n",
    "\n",
    "\n",
    "\"\"\"\n",
    "            return {\n",
    "                x: dat.index,        // Dates from the index\n",
    "                y: yValues,          // Price history for each ticker\n",
    "                type: 'scatter',\n",
    "                mode: 'lines',\n",
    "                name: ticker,        // Ticker as the legend name\n",
    "                //color: ticker\n",
    "            };\n",
    "            \"\"\""
   ]
  },
  {
   "cell_type": "code",
   "execution_count": null,
   "id": "fd32459a-e019-4b9a-8541-6f3b9d02c378",
   "metadata": {},
   "outputs": [],
   "source": [
    "import plotly.graph_objects as go\n",
    "import pandas as pd\n",
    "\n",
    "data= pd.read_csv(\"https://raw.githubusercontent.com/plotly/datasets/master/2014_usa_states.csv\")\n",
    "\n",
    "fig = go.Figure(data=go.Scatter(x=data['Postal'],\n",
    "                                y=data['Population'],\n",
    "                                mode='markers',\n",
    "                                marker_color=data['Population'],\n",
    "                                text=data['State'])) # hover text goes here\n",
    "\n",
    "fig.update_layout(title=dict(text='Population of USA States'))\n",
    "fig.show()"
   ]
  },
  {
   "cell_type": "code",
   "execution_count": null,
   "id": "fc79b6ac-4dfa-4ca3-986b-0ed7ace0da77",
   "metadata": {},
   "outputs": [],
   "source": [
    "import plotly.express as px\n",
    "\n",
    "df = px.data.gapminder().query(\"country=='Canada'\")\n",
    "fig = px.line(df, x=\"year\", y=\"lifeExp\", title='Life expectancy in Canada', color='country')\n",
    "fig.show()"
   ]
  },
  {
   "cell_type": "code",
   "execution_count": null,
   "id": "e6415d25-e48a-472d-a9a3-10b39d11e129",
   "metadata": {
    "scrolled": true
   },
   "outputs": [],
   "source": [
    "df = px.data.gapminder().query(\"continent=='Oceania'\")\n",
    "fig = px.line(df, x=\"year\", y=\"lifeExp\", color='country')\n",
    "fig.show()"
   ]
  },
  {
   "cell_type": "code",
   "execution_count": null,
   "id": "c6c1b336-4e26-4bd9-a784-3adca08660e2",
   "metadata": {},
   "outputs": [],
   "source": []
  },
  {
   "cell_type": "code",
   "execution_count": null,
   "id": "55608a2f-ef94-4e11-81fe-bdeb90525684",
   "metadata": {},
   "outputs": [],
   "source": []
  },
  {
   "cell_type": "code",
   "execution_count": null,
   "id": "a0c0d623-8e86-4d39-8628-6b9e39ed128d",
   "metadata": {},
   "outputs": [],
   "source": []
  },
  {
   "cell_type": "code",
   "execution_count": null,
   "id": "41273494-1672-4d5b-965b-83c47fb0fc8f",
   "metadata": {},
   "outputs": [],
   "source": []
  }
 ],
 "metadata": {
  "kernelspec": {
   "display_name": "portfolio",
   "language": "python",
   "name": "portfolio"
  },
  "language_info": {
   "codemirror_mode": {
    "name": "ipython",
    "version": 3
   },
   "file_extension": ".py",
   "mimetype": "text/x-python",
   "name": "python",
   "nbconvert_exporter": "python",
   "pygments_lexer": "ipython3",
   "version": "3.12.1"
  }
 },
 "nbformat": 4,
 "nbformat_minor": 5
}
